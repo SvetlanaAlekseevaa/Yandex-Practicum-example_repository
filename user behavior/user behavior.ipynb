{
 "cells": [
  {
   "cell_type": "markdown",
   "id": "812900a7",
   "metadata": {},
   "source": [
    "## Проект: \"Исследование поведения пользователей мобильного приложения по продаже продуктов питания\"\n",
    "\n",
    "Цель проекта: разобраться - как ведут себя пользователи мобтльного приложения и ответить на вопрос - повлияет ли изменение шрифта в мобильном приложении на поведение пользователей/воронку."
   ]
  },
  {
   "cell_type": "markdown",
   "id": "2fb5ddcd",
   "metadata": {},
   "source": [
    "### Ход проекта:\n",
    "#### Открытие и изучение данных\n",
    "#### Предобработка данных\n",
    "#### Анализ данных\n",
    "#### Анализ воронки событий\n",
    "#### Анализ результатов эксперимента"
   ]
  },
  {
   "cell_type": "markdown",
   "id": "3f48d063",
   "metadata": {},
   "source": [
    "##### Описание данных: \n",
    "\n",
    "Каждая запись в логе — это действие пользователя, или событие.\n",
    "\n",
    "EventName — название события;\n",
    "\n",
    "DeviceIDHash — уникальный идентификатор пользователя;\n",
    "\n",
    "EventTimestamp — время события;\n",
    "\n",
    "ExpId — номер эксперимента: 246 и 247 — контрольные группы, а 248 — экспериментальная."
   ]
  },
  {
   "cell_type": "markdown",
   "id": "8d5b75aa",
   "metadata": {},
   "source": [
    "#### Открытие и изучение данных"
   ]
  },
  {
   "cell_type": "code",
   "execution_count": 1,
   "id": "511427d5",
   "metadata": {},
   "outputs": [],
   "source": [
    "import pandas as pd\n",
    "import datetime\n",
    "import numpy as np\n",
    "import matplotlib.pyplot as plt \n",
    "import scipy.stats as stats\n",
    "from cmath import sqrt\n",
    "from plotly import graph_objects as go\n",
    "from statsmodels.stats.proportion import proportions_ztest"
   ]
  },
  {
   "cell_type": "code",
   "execution_count": 2,
   "id": "d03f7076",
   "metadata": {},
   "outputs": [],
   "source": [
    "try:\n",
    "    df = pd.read_csv('logs_exp.csv',delimiter = \"\\t\")\n",
    "except:\n",
    "    df = pd.read_csv('/datasets/logs_exp.csv',delimiter = \"\\t\")"
   ]
  },
  {
   "cell_type": "code",
   "execution_count": 3,
   "id": "47280f53",
   "metadata": {},
   "outputs": [
    {
     "data": {
      "text/html": [
       "<div>\n",
       "<style scoped>\n",
       "    .dataframe tbody tr th:only-of-type {\n",
       "        vertical-align: middle;\n",
       "    }\n",
       "\n",
       "    .dataframe tbody tr th {\n",
       "        vertical-align: top;\n",
       "    }\n",
       "\n",
       "    .dataframe thead th {\n",
       "        text-align: right;\n",
       "    }\n",
       "</style>\n",
       "<table border=\"1\" class=\"dataframe\">\n",
       "  <thead>\n",
       "    <tr style=\"text-align: right;\">\n",
       "      <th></th>\n",
       "      <th>EventName</th>\n",
       "      <th>DeviceIDHash</th>\n",
       "      <th>EventTimestamp</th>\n",
       "      <th>ExpId</th>\n",
       "    </tr>\n",
       "  </thead>\n",
       "  <tbody>\n",
       "    <tr>\n",
       "      <th>0</th>\n",
       "      <td>MainScreenAppear</td>\n",
       "      <td>4575588528974610257</td>\n",
       "      <td>1564029816</td>\n",
       "      <td>246</td>\n",
       "    </tr>\n",
       "    <tr>\n",
       "      <th>1</th>\n",
       "      <td>MainScreenAppear</td>\n",
       "      <td>7416695313311560658</td>\n",
       "      <td>1564053102</td>\n",
       "      <td>246</td>\n",
       "    </tr>\n",
       "    <tr>\n",
       "      <th>2</th>\n",
       "      <td>PaymentScreenSuccessful</td>\n",
       "      <td>3518123091307005509</td>\n",
       "      <td>1564054127</td>\n",
       "      <td>248</td>\n",
       "    </tr>\n",
       "    <tr>\n",
       "      <th>3</th>\n",
       "      <td>CartScreenAppear</td>\n",
       "      <td>3518123091307005509</td>\n",
       "      <td>1564054127</td>\n",
       "      <td>248</td>\n",
       "    </tr>\n",
       "    <tr>\n",
       "      <th>4</th>\n",
       "      <td>PaymentScreenSuccessful</td>\n",
       "      <td>6217807653094995999</td>\n",
       "      <td>1564055322</td>\n",
       "      <td>248</td>\n",
       "    </tr>\n",
       "  </tbody>\n",
       "</table>\n",
       "</div>"
      ],
      "text/plain": [
       "                 EventName         DeviceIDHash  EventTimestamp  ExpId\n",
       "0         MainScreenAppear  4575588528974610257      1564029816    246\n",
       "1         MainScreenAppear  7416695313311560658      1564053102    246\n",
       "2  PaymentScreenSuccessful  3518123091307005509      1564054127    248\n",
       "3         CartScreenAppear  3518123091307005509      1564054127    248\n",
       "4  PaymentScreenSuccessful  6217807653094995999      1564055322    248"
      ]
     },
     "execution_count": 3,
     "metadata": {},
     "output_type": "execute_result"
    }
   ],
   "source": [
    "df.head()"
   ]
  },
  {
   "cell_type": "markdown",
   "id": "d77d3fe6",
   "metadata": {},
   "source": [
    "Мы открыли и изучили данные, видим, что нужно привести названия столбцов к нижнему регистру, привести EventTimestamp в формат даты и приступить к предобработке данных."
   ]
  },
  {
   "cell_type": "markdown",
   "id": "d030c706",
   "metadata": {},
   "source": [
    "#### Предобработка данных"
   ]
  },
  {
   "cell_type": "code",
   "execution_count": 4,
   "id": "02625761",
   "metadata": {},
   "outputs": [
    {
     "data": {
      "text/html": [
       "<div>\n",
       "<style scoped>\n",
       "    .dataframe tbody tr th:only-of-type {\n",
       "        vertical-align: middle;\n",
       "    }\n",
       "\n",
       "    .dataframe tbody tr th {\n",
       "        vertical-align: top;\n",
       "    }\n",
       "\n",
       "    .dataframe thead th {\n",
       "        text-align: right;\n",
       "    }\n",
       "</style>\n",
       "<table border=\"1\" class=\"dataframe\">\n",
       "  <thead>\n",
       "    <tr style=\"text-align: right;\">\n",
       "      <th></th>\n",
       "      <th>event_name</th>\n",
       "      <th>user_id</th>\n",
       "      <th>event_time_stamp</th>\n",
       "      <th>exp_id</th>\n",
       "    </tr>\n",
       "  </thead>\n",
       "  <tbody>\n",
       "    <tr>\n",
       "      <th>0</th>\n",
       "      <td>mainscreenappear</td>\n",
       "      <td>4575588528974610257</td>\n",
       "      <td>1564029816</td>\n",
       "      <td>246</td>\n",
       "    </tr>\n",
       "    <tr>\n",
       "      <th>1</th>\n",
       "      <td>mainscreenappear</td>\n",
       "      <td>7416695313311560658</td>\n",
       "      <td>1564053102</td>\n",
       "      <td>246</td>\n",
       "    </tr>\n",
       "    <tr>\n",
       "      <th>2</th>\n",
       "      <td>paymentscreensuccessful</td>\n",
       "      <td>3518123091307005509</td>\n",
       "      <td>1564054127</td>\n",
       "      <td>248</td>\n",
       "    </tr>\n",
       "    <tr>\n",
       "      <th>3</th>\n",
       "      <td>cartscreenappear</td>\n",
       "      <td>3518123091307005509</td>\n",
       "      <td>1564054127</td>\n",
       "      <td>248</td>\n",
       "    </tr>\n",
       "    <tr>\n",
       "      <th>4</th>\n",
       "      <td>paymentscreensuccessful</td>\n",
       "      <td>6217807653094995999</td>\n",
       "      <td>1564055322</td>\n",
       "      <td>248</td>\n",
       "    </tr>\n",
       "  </tbody>\n",
       "</table>\n",
       "</div>"
      ],
      "text/plain": [
       "                event_name              user_id  event_time_stamp  exp_id\n",
       "0         mainscreenappear  4575588528974610257        1564029816     246\n",
       "1         mainscreenappear  7416695313311560658        1564053102     246\n",
       "2  paymentscreensuccessful  3518123091307005509        1564054127     248\n",
       "3         cartscreenappear  3518123091307005509        1564054127     248\n",
       "4  paymentscreensuccessful  6217807653094995999        1564055322     248"
      ]
     },
     "execution_count": 4,
     "metadata": {},
     "output_type": "execute_result"
    }
   ],
   "source": [
    "df.rename(columns={'EventName': 'event_name', 'DeviceIDHash': 'user_id', \n",
    "                   'EventTimestamp':'event_time_stamp','ExpId':'exp_id'}, inplace=True)\n",
    "df['event_name'] = df['event_name'].str.lower()\n",
    "df.head()"
   ]
  },
  {
   "cell_type": "code",
   "execution_count": 5,
   "id": "1555c181",
   "metadata": {
    "scrolled": true
   },
   "outputs": [
    {
     "name": "stdout",
     "output_type": "stream",
     "text": [
      "<class 'pandas.core.frame.DataFrame'>\n",
      "RangeIndex: 244126 entries, 0 to 244125\n",
      "Data columns (total 6 columns):\n",
      " #   Column            Non-Null Count   Dtype         \n",
      "---  ------            --------------   -----         \n",
      " 0   event_name        244126 non-null  object        \n",
      " 1   user_id           244126 non-null  int64         \n",
      " 2   event_time_stamp  244126 non-null  int64         \n",
      " 3   exp_id            244126 non-null  int64         \n",
      " 4   event_time        244126 non-null  datetime64[ns]\n",
      " 5   event_date        244126 non-null  datetime64[ns]\n",
      "dtypes: datetime64[ns](2), int64(3), object(1)\n",
      "memory usage: 11.2+ MB\n"
     ]
    },
    {
     "data": {
      "text/html": [
       "<div>\n",
       "<style scoped>\n",
       "    .dataframe tbody tr th:only-of-type {\n",
       "        vertical-align: middle;\n",
       "    }\n",
       "\n",
       "    .dataframe tbody tr th {\n",
       "        vertical-align: top;\n",
       "    }\n",
       "\n",
       "    .dataframe thead th {\n",
       "        text-align: right;\n",
       "    }\n",
       "</style>\n",
       "<table border=\"1\" class=\"dataframe\">\n",
       "  <thead>\n",
       "    <tr style=\"text-align: right;\">\n",
       "      <th></th>\n",
       "      <th>event_name</th>\n",
       "      <th>user_id</th>\n",
       "      <th>event_time_stamp</th>\n",
       "      <th>exp_id</th>\n",
       "      <th>event_time</th>\n",
       "      <th>event_date</th>\n",
       "    </tr>\n",
       "  </thead>\n",
       "  <tbody>\n",
       "    <tr>\n",
       "      <th>0</th>\n",
       "      <td>mainscreenappear</td>\n",
       "      <td>4575588528974610257</td>\n",
       "      <td>1564029816</td>\n",
       "      <td>246</td>\n",
       "      <td>2019-07-25 04:43:36</td>\n",
       "      <td>2019-07-25</td>\n",
       "    </tr>\n",
       "    <tr>\n",
       "      <th>1</th>\n",
       "      <td>mainscreenappear</td>\n",
       "      <td>7416695313311560658</td>\n",
       "      <td>1564053102</td>\n",
       "      <td>246</td>\n",
       "      <td>2019-07-25 11:11:42</td>\n",
       "      <td>2019-07-25</td>\n",
       "    </tr>\n",
       "    <tr>\n",
       "      <th>2</th>\n",
       "      <td>paymentscreensuccessful</td>\n",
       "      <td>3518123091307005509</td>\n",
       "      <td>1564054127</td>\n",
       "      <td>248</td>\n",
       "      <td>2019-07-25 11:28:47</td>\n",
       "      <td>2019-07-25</td>\n",
       "    </tr>\n",
       "    <tr>\n",
       "      <th>3</th>\n",
       "      <td>cartscreenappear</td>\n",
       "      <td>3518123091307005509</td>\n",
       "      <td>1564054127</td>\n",
       "      <td>248</td>\n",
       "      <td>2019-07-25 11:28:47</td>\n",
       "      <td>2019-07-25</td>\n",
       "    </tr>\n",
       "    <tr>\n",
       "      <th>4</th>\n",
       "      <td>paymentscreensuccessful</td>\n",
       "      <td>6217807653094995999</td>\n",
       "      <td>1564055322</td>\n",
       "      <td>248</td>\n",
       "      <td>2019-07-25 11:48:42</td>\n",
       "      <td>2019-07-25</td>\n",
       "    </tr>\n",
       "  </tbody>\n",
       "</table>\n",
       "</div>"
      ],
      "text/plain": [
       "                event_name              user_id  event_time_stamp  exp_id  \\\n",
       "0         mainscreenappear  4575588528974610257        1564029816     246   \n",
       "1         mainscreenappear  7416695313311560658        1564053102     246   \n",
       "2  paymentscreensuccessful  3518123091307005509        1564054127     248   \n",
       "3         cartscreenappear  3518123091307005509        1564054127     248   \n",
       "4  paymentscreensuccessful  6217807653094995999        1564055322     248   \n",
       "\n",
       "           event_time event_date  \n",
       "0 2019-07-25 04:43:36 2019-07-25  \n",
       "1 2019-07-25 11:11:42 2019-07-25  \n",
       "2 2019-07-25 11:28:47 2019-07-25  \n",
       "3 2019-07-25 11:28:47 2019-07-25  \n",
       "4 2019-07-25 11:48:42 2019-07-25  "
      ]
     },
     "execution_count": 5,
     "metadata": {},
     "output_type": "execute_result"
    }
   ],
   "source": [
    "df['event_time'] = pd.to_datetime(df['event_time_stamp'], unit='s')\n",
    "df['event_date'] = df['event_time'].dt.floor('D')\n",
    "df.info()\n",
    "df.head()"
   ]
  },
  {
   "cell_type": "code",
   "execution_count": 6,
   "id": "f72419b6",
   "metadata": {
    "scrolled": true
   },
   "outputs": [
    {
     "data": {
      "text/plain": [
       "413"
      ]
     },
     "execution_count": 6,
     "metadata": {},
     "output_type": "execute_result"
    }
   ],
   "source": [
    "df.duplicated().sum()"
   ]
  },
  {
   "cell_type": "code",
   "execution_count": 7,
   "id": "01915d8a",
   "metadata": {},
   "outputs": [
    {
     "data": {
      "text/html": [
       "<div>\n",
       "<style scoped>\n",
       "    .dataframe tbody tr th:only-of-type {\n",
       "        vertical-align: middle;\n",
       "    }\n",
       "\n",
       "    .dataframe tbody tr th {\n",
       "        vertical-align: top;\n",
       "    }\n",
       "\n",
       "    .dataframe thead th {\n",
       "        text-align: right;\n",
       "    }\n",
       "</style>\n",
       "<table border=\"1\" class=\"dataframe\">\n",
       "  <thead>\n",
       "    <tr style=\"text-align: right;\">\n",
       "      <th></th>\n",
       "      <th>event_name</th>\n",
       "      <th>user_id</th>\n",
       "      <th>event_time_stamp</th>\n",
       "      <th>exp_id</th>\n",
       "      <th>event_time</th>\n",
       "      <th>event_date</th>\n",
       "    </tr>\n",
       "  </thead>\n",
       "  <tbody>\n",
       "    <tr>\n",
       "      <th>453</th>\n",
       "      <td>mainscreenappear</td>\n",
       "      <td>5613408041324010552</td>\n",
       "      <td>1564474784</td>\n",
       "      <td>248</td>\n",
       "      <td>2019-07-30 08:19:44</td>\n",
       "      <td>2019-07-30</td>\n",
       "    </tr>\n",
       "    <tr>\n",
       "      <th>2350</th>\n",
       "      <td>cartscreenappear</td>\n",
       "      <td>1694940645335807244</td>\n",
       "      <td>1564609899</td>\n",
       "      <td>248</td>\n",
       "      <td>2019-07-31 21:51:39</td>\n",
       "      <td>2019-07-31</td>\n",
       "    </tr>\n",
       "    <tr>\n",
       "      <th>3573</th>\n",
       "      <td>mainscreenappear</td>\n",
       "      <td>434103746454591587</td>\n",
       "      <td>1564628377</td>\n",
       "      <td>248</td>\n",
       "      <td>2019-08-01 02:59:37</td>\n",
       "      <td>2019-08-01</td>\n",
       "    </tr>\n",
       "    <tr>\n",
       "      <th>4076</th>\n",
       "      <td>mainscreenappear</td>\n",
       "      <td>3761373764179762633</td>\n",
       "      <td>1564631266</td>\n",
       "      <td>247</td>\n",
       "      <td>2019-08-01 03:47:46</td>\n",
       "      <td>2019-08-01</td>\n",
       "    </tr>\n",
       "    <tr>\n",
       "      <th>4803</th>\n",
       "      <td>mainscreenappear</td>\n",
       "      <td>2835328739789306622</td>\n",
       "      <td>1564634641</td>\n",
       "      <td>248</td>\n",
       "      <td>2019-08-01 04:44:01</td>\n",
       "      <td>2019-08-01</td>\n",
       "    </tr>\n",
       "  </tbody>\n",
       "</table>\n",
       "</div>"
      ],
      "text/plain": [
       "            event_name              user_id  event_time_stamp  exp_id  \\\n",
       "453   mainscreenappear  5613408041324010552        1564474784     248   \n",
       "2350  cartscreenappear  1694940645335807244        1564609899     248   \n",
       "3573  mainscreenappear   434103746454591587        1564628377     248   \n",
       "4076  mainscreenappear  3761373764179762633        1564631266     247   \n",
       "4803  mainscreenappear  2835328739789306622        1564634641     248   \n",
       "\n",
       "              event_time event_date  \n",
       "453  2019-07-30 08:19:44 2019-07-30  \n",
       "2350 2019-07-31 21:51:39 2019-07-31  \n",
       "3573 2019-08-01 02:59:37 2019-08-01  \n",
       "4076 2019-08-01 03:47:46 2019-08-01  \n",
       "4803 2019-08-01 04:44:01 2019-08-01  "
      ]
     },
     "execution_count": 7,
     "metadata": {},
     "output_type": "execute_result"
    }
   ],
   "source": [
    "df[df.duplicated()].head()"
   ]
  },
  {
   "cell_type": "code",
   "execution_count": 8,
   "id": "2737a3f5",
   "metadata": {
    "scrolled": true
   },
   "outputs": [
    {
     "data": {
      "text/plain": [
       "0.17"
      ]
     },
     "execution_count": 8,
     "metadata": {},
     "output_type": "execute_result"
    }
   ],
   "source": [
    "round((df.duplicated().sum()/len(df)*100),2)"
   ]
  },
  {
   "cell_type": "markdown",
   "id": "fd267e57",
   "metadata": {},
   "source": [
    "Причиной дубликатов может быть какой-то технический сбой, например, юзер, зашедший в единицу времени засчитался несколько раз. В любом случае, так как дубликатов - незначительное количество, можем смело удалить:"
   ]
  },
  {
   "cell_type": "code",
   "execution_count": 9,
   "id": "2c41c445",
   "metadata": {
    "scrolled": true
   },
   "outputs": [
    {
     "data": {
      "text/html": [
       "<div>\n",
       "<style scoped>\n",
       "    .dataframe tbody tr th:only-of-type {\n",
       "        vertical-align: middle;\n",
       "    }\n",
       "\n",
       "    .dataframe tbody tr th {\n",
       "        vertical-align: top;\n",
       "    }\n",
       "\n",
       "    .dataframe thead th {\n",
       "        text-align: right;\n",
       "    }\n",
       "</style>\n",
       "<table border=\"1\" class=\"dataframe\">\n",
       "  <thead>\n",
       "    <tr style=\"text-align: right;\">\n",
       "      <th></th>\n",
       "      <th>event_name</th>\n",
       "      <th>user_id</th>\n",
       "      <th>event_time_stamp</th>\n",
       "      <th>exp_id</th>\n",
       "      <th>event_time</th>\n",
       "      <th>event_date</th>\n",
       "    </tr>\n",
       "  </thead>\n",
       "  <tbody>\n",
       "    <tr>\n",
       "      <th>0</th>\n",
       "      <td>mainscreenappear</td>\n",
       "      <td>4575588528974610257</td>\n",
       "      <td>1564029816</td>\n",
       "      <td>246</td>\n",
       "      <td>2019-07-25 04:43:36</td>\n",
       "      <td>2019-07-25</td>\n",
       "    </tr>\n",
       "    <tr>\n",
       "      <th>1</th>\n",
       "      <td>mainscreenappear</td>\n",
       "      <td>7416695313311560658</td>\n",
       "      <td>1564053102</td>\n",
       "      <td>246</td>\n",
       "      <td>2019-07-25 11:11:42</td>\n",
       "      <td>2019-07-25</td>\n",
       "    </tr>\n",
       "    <tr>\n",
       "      <th>2</th>\n",
       "      <td>paymentscreensuccessful</td>\n",
       "      <td>3518123091307005509</td>\n",
       "      <td>1564054127</td>\n",
       "      <td>248</td>\n",
       "      <td>2019-07-25 11:28:47</td>\n",
       "      <td>2019-07-25</td>\n",
       "    </tr>\n",
       "    <tr>\n",
       "      <th>3</th>\n",
       "      <td>cartscreenappear</td>\n",
       "      <td>3518123091307005509</td>\n",
       "      <td>1564054127</td>\n",
       "      <td>248</td>\n",
       "      <td>2019-07-25 11:28:47</td>\n",
       "      <td>2019-07-25</td>\n",
       "    </tr>\n",
       "    <tr>\n",
       "      <th>4</th>\n",
       "      <td>paymentscreensuccessful</td>\n",
       "      <td>6217807653094995999</td>\n",
       "      <td>1564055322</td>\n",
       "      <td>248</td>\n",
       "      <td>2019-07-25 11:48:42</td>\n",
       "      <td>2019-07-25</td>\n",
       "    </tr>\n",
       "    <tr>\n",
       "      <th>...</th>\n",
       "      <td>...</td>\n",
       "      <td>...</td>\n",
       "      <td>...</td>\n",
       "      <td>...</td>\n",
       "      <td>...</td>\n",
       "      <td>...</td>\n",
       "    </tr>\n",
       "    <tr>\n",
       "      <th>243708</th>\n",
       "      <td>mainscreenappear</td>\n",
       "      <td>4599628364049201812</td>\n",
       "      <td>1565212345</td>\n",
       "      <td>247</td>\n",
       "      <td>2019-08-07 21:12:25</td>\n",
       "      <td>2019-08-07</td>\n",
       "    </tr>\n",
       "    <tr>\n",
       "      <th>243709</th>\n",
       "      <td>mainscreenappear</td>\n",
       "      <td>5849806612437486590</td>\n",
       "      <td>1565212439</td>\n",
       "      <td>246</td>\n",
       "      <td>2019-08-07 21:13:59</td>\n",
       "      <td>2019-08-07</td>\n",
       "    </tr>\n",
       "    <tr>\n",
       "      <th>243710</th>\n",
       "      <td>mainscreenappear</td>\n",
       "      <td>5746969938801999050</td>\n",
       "      <td>1565212483</td>\n",
       "      <td>246</td>\n",
       "      <td>2019-08-07 21:14:43</td>\n",
       "      <td>2019-08-07</td>\n",
       "    </tr>\n",
       "    <tr>\n",
       "      <th>243711</th>\n",
       "      <td>mainscreenappear</td>\n",
       "      <td>5746969938801999050</td>\n",
       "      <td>1565212498</td>\n",
       "      <td>246</td>\n",
       "      <td>2019-08-07 21:14:58</td>\n",
       "      <td>2019-08-07</td>\n",
       "    </tr>\n",
       "    <tr>\n",
       "      <th>243712</th>\n",
       "      <td>offersscreenappear</td>\n",
       "      <td>5746969938801999050</td>\n",
       "      <td>1565212517</td>\n",
       "      <td>246</td>\n",
       "      <td>2019-08-07 21:15:17</td>\n",
       "      <td>2019-08-07</td>\n",
       "    </tr>\n",
       "  </tbody>\n",
       "</table>\n",
       "<p>243713 rows × 6 columns</p>\n",
       "</div>"
      ],
      "text/plain": [
       "                     event_name              user_id  event_time_stamp  \\\n",
       "0              mainscreenappear  4575588528974610257        1564029816   \n",
       "1              mainscreenappear  7416695313311560658        1564053102   \n",
       "2       paymentscreensuccessful  3518123091307005509        1564054127   \n",
       "3              cartscreenappear  3518123091307005509        1564054127   \n",
       "4       paymentscreensuccessful  6217807653094995999        1564055322   \n",
       "...                         ...                  ...               ...   \n",
       "243708         mainscreenappear  4599628364049201812        1565212345   \n",
       "243709         mainscreenappear  5849806612437486590        1565212439   \n",
       "243710         mainscreenappear  5746969938801999050        1565212483   \n",
       "243711         mainscreenappear  5746969938801999050        1565212498   \n",
       "243712       offersscreenappear  5746969938801999050        1565212517   \n",
       "\n",
       "        exp_id          event_time event_date  \n",
       "0          246 2019-07-25 04:43:36 2019-07-25  \n",
       "1          246 2019-07-25 11:11:42 2019-07-25  \n",
       "2          248 2019-07-25 11:28:47 2019-07-25  \n",
       "3          248 2019-07-25 11:28:47 2019-07-25  \n",
       "4          248 2019-07-25 11:48:42 2019-07-25  \n",
       "...        ...                 ...        ...  \n",
       "243708     247 2019-08-07 21:12:25 2019-08-07  \n",
       "243709     246 2019-08-07 21:13:59 2019-08-07  \n",
       "243710     246 2019-08-07 21:14:43 2019-08-07  \n",
       "243711     246 2019-08-07 21:14:58 2019-08-07  \n",
       "243712     246 2019-08-07 21:15:17 2019-08-07  \n",
       "\n",
       "[243713 rows x 6 columns]"
      ]
     },
     "execution_count": 9,
     "metadata": {},
     "output_type": "execute_result"
    }
   ],
   "source": [
    "df = df.drop_duplicates().reset_index(drop=True)\n",
    "df"
   ]
  },
  {
   "cell_type": "markdown",
   "id": "a5bcbc95",
   "metadata": {},
   "source": [
    "Теперь разберемся с неявными дубликатами. Например, у некоторых записей могут совпадать все колонки кроме id. Такое может происходить из-за сбора данных из разных баз данных и/или из-за сбоя при логировании."
   ]
  },
  {
   "cell_type": "code",
   "execution_count": 10,
   "id": "1f6153dd",
   "metadata": {},
   "outputs": [
    {
     "data": {
      "text/plain": [
       "mainscreenappear           119101\n",
       "offersscreenappear          46808\n",
       "cartscreenappear            42668\n",
       "paymentscreensuccessful     34118\n",
       "tutorial                     1018\n",
       "Name: event_name, dtype: int64"
      ]
     },
     "execution_count": 10,
     "metadata": {},
     "output_type": "execute_result"
    }
   ],
   "source": [
    "df['event_name'].value_counts()"
   ]
  },
  {
   "cell_type": "code",
   "execution_count": 11,
   "id": "0cf60fb0",
   "metadata": {},
   "outputs": [
    {
     "data": {
      "text/html": [
       "<div>\n",
       "<style scoped>\n",
       "    .dataframe tbody tr th:only-of-type {\n",
       "        vertical-align: middle;\n",
       "    }\n",
       "\n",
       "    .dataframe tbody tr th {\n",
       "        vertical-align: top;\n",
       "    }\n",
       "\n",
       "    .dataframe thead th {\n",
       "        text-align: right;\n",
       "    }\n",
       "</style>\n",
       "<table border=\"1\" class=\"dataframe\">\n",
       "  <thead>\n",
       "    <tr style=\"text-align: right;\">\n",
       "      <th></th>\n",
       "      <th>event_name</th>\n",
       "      <th>user_id</th>\n",
       "      <th>event_time_stamp</th>\n",
       "      <th>exp_id</th>\n",
       "      <th>event_time</th>\n",
       "      <th>event_date</th>\n",
       "    </tr>\n",
       "  </thead>\n",
       "  <tbody>\n",
       "    <tr>\n",
       "      <th>943</th>\n",
       "      <td>mainscreenappear</td>\n",
       "      <td>1095070338410354790</td>\n",
       "      <td>1564560839</td>\n",
       "      <td>246</td>\n",
       "      <td>2019-07-31 08:13:59</td>\n",
       "      <td>2019-07-31</td>\n",
       "    </tr>\n",
       "    <tr>\n",
       "      <th>2113</th>\n",
       "      <td>mainscreenappear</td>\n",
       "      <td>3807928414254040303</td>\n",
       "      <td>1564607965</td>\n",
       "      <td>247</td>\n",
       "      <td>2019-07-31 21:19:25</td>\n",
       "      <td>2019-07-31</td>\n",
       "    </tr>\n",
       "    <tr>\n",
       "      <th>2139</th>\n",
       "      <td>offersscreenappear</td>\n",
       "      <td>6224642068766507557</td>\n",
       "      <td>1564608063</td>\n",
       "      <td>248</td>\n",
       "      <td>2019-07-31 21:21:03</td>\n",
       "      <td>2019-07-31</td>\n",
       "    </tr>\n",
       "    <tr>\n",
       "      <th>2211</th>\n",
       "      <td>mainscreenappear</td>\n",
       "      <td>3613025750924969400</td>\n",
       "      <td>1564608547</td>\n",
       "      <td>247</td>\n",
       "      <td>2019-07-31 21:29:07</td>\n",
       "      <td>2019-07-31</td>\n",
       "    </tr>\n",
       "    <tr>\n",
       "      <th>2428</th>\n",
       "      <td>mainscreenappear</td>\n",
       "      <td>719912814612086941</td>\n",
       "      <td>1564610521</td>\n",
       "      <td>248</td>\n",
       "      <td>2019-07-31 22:02:01</td>\n",
       "      <td>2019-07-31</td>\n",
       "    </tr>\n",
       "    <tr>\n",
       "      <th>3307</th>\n",
       "      <td>offersscreenappear</td>\n",
       "      <td>3511569580412335882</td>\n",
       "      <td>1564625575</td>\n",
       "      <td>246</td>\n",
       "      <td>2019-08-01 02:12:55</td>\n",
       "      <td>2019-08-01</td>\n",
       "    </tr>\n",
       "    <tr>\n",
       "      <th>3460</th>\n",
       "      <td>mainscreenappear</td>\n",
       "      <td>4255978104192120227</td>\n",
       "      <td>1564627154</td>\n",
       "      <td>247</td>\n",
       "      <td>2019-08-01 02:39:14</td>\n",
       "      <td>2019-08-01</td>\n",
       "    </tr>\n",
       "    <tr>\n",
       "      <th>3462</th>\n",
       "      <td>offersscreenappear</td>\n",
       "      <td>4379626023801207145</td>\n",
       "      <td>1564627163</td>\n",
       "      <td>247</td>\n",
       "      <td>2019-08-01 02:39:23</td>\n",
       "      <td>2019-08-01</td>\n",
       "    </tr>\n",
       "    <tr>\n",
       "      <th>3512</th>\n",
       "      <td>mainscreenappear</td>\n",
       "      <td>499118262689586521</td>\n",
       "      <td>1564627836</td>\n",
       "      <td>247</td>\n",
       "      <td>2019-08-01 02:50:36</td>\n",
       "      <td>2019-08-01</td>\n",
       "    </tr>\n",
       "    <tr>\n",
       "      <th>3631</th>\n",
       "      <td>offersscreenappear</td>\n",
       "      <td>5422877498318042547</td>\n",
       "      <td>1564628735</td>\n",
       "      <td>246</td>\n",
       "      <td>2019-08-01 03:05:35</td>\n",
       "      <td>2019-08-01</td>\n",
       "    </tr>\n",
       "  </tbody>\n",
       "</table>\n",
       "</div>"
      ],
      "text/plain": [
       "              event_name              user_id  event_time_stamp  exp_id  \\\n",
       "943     mainscreenappear  1095070338410354790        1564560839     246   \n",
       "2113    mainscreenappear  3807928414254040303        1564607965     247   \n",
       "2139  offersscreenappear  6224642068766507557        1564608063     248   \n",
       "2211    mainscreenappear  3613025750924969400        1564608547     247   \n",
       "2428    mainscreenappear   719912814612086941        1564610521     248   \n",
       "3307  offersscreenappear  3511569580412335882        1564625575     246   \n",
       "3460    mainscreenappear  4255978104192120227        1564627154     247   \n",
       "3462  offersscreenappear  4379626023801207145        1564627163     247   \n",
       "3512    mainscreenappear   499118262689586521        1564627836     247   \n",
       "3631  offersscreenappear  5422877498318042547        1564628735     246   \n",
       "\n",
       "              event_time event_date  \n",
       "943  2019-07-31 08:13:59 2019-07-31  \n",
       "2113 2019-07-31 21:19:25 2019-07-31  \n",
       "2139 2019-07-31 21:21:03 2019-07-31  \n",
       "2211 2019-07-31 21:29:07 2019-07-31  \n",
       "2428 2019-07-31 22:02:01 2019-07-31  \n",
       "3307 2019-08-01 02:12:55 2019-08-01  \n",
       "3460 2019-08-01 02:39:14 2019-08-01  \n",
       "3462 2019-08-01 02:39:23 2019-08-01  \n",
       "3512 2019-08-01 02:50:36 2019-08-01  \n",
       "3631 2019-08-01 03:05:35 2019-08-01  "
      ]
     },
     "execution_count": 11,
     "metadata": {},
     "output_type": "execute_result"
    }
   ],
   "source": [
    "df[df.duplicated(subset=['event_name', 'event_time_stamp', 'exp_id'])].head(10)"
   ]
  },
  {
   "cell_type": "code",
   "execution_count": 12,
   "id": "8279829d",
   "metadata": {},
   "outputs": [
    {
     "data": {
      "text/plain": [
       "6868"
      ]
     },
     "execution_count": 12,
     "metadata": {},
     "output_type": "execute_result"
    }
   ],
   "source": [
    "len(df[df.duplicated(subset=['event_name', 'event_time_stamp', 'exp_id'])])"
   ]
  },
  {
   "cell_type": "code",
   "execution_count": 13,
   "id": "fdac5a5a",
   "metadata": {},
   "outputs": [
    {
     "data": {
      "text/plain": [
       "2.818068794032325"
      ]
     },
     "execution_count": 13,
     "metadata": {},
     "output_type": "execute_result"
    }
   ],
   "source": [
    "len(df[df.duplicated(subset=['event_name', 'event_time_stamp', 'exp_id'])])/len(df)*100"
   ]
  },
  {
   "cell_type": "markdown",
   "id": "993cbc34",
   "metadata": {},
   "source": [
    "Неявных дубликатов - всего 2.8%. Можем оставить неявные дубликаты, не опасаясь, что это повлияет на дальнейший анализ данных."
   ]
  },
  {
   "cell_type": "markdown",
   "id": "661fab3e",
   "metadata": {},
   "source": [
    "Вывод:\n",
    "мы убедились, что в данных нет пропусков, привели содержание столбцов к нижнему регистру, заменили названия столбцов на удобные для нас, привели типы данных в нужный формат и добавили два столбца - столбец даты и времени, а также отдельный столбец дат. Так же мы проверили данные на явные и неявные дубликаты. Можем приступать к следующему шагу."
   ]
  },
  {
   "cell_type": "markdown",
   "id": "ab3e278e",
   "metadata": {},
   "source": [
    "#### Анализ данных"
   ]
  },
  {
   "cell_type": "code",
   "execution_count": 14,
   "id": "8b9b8798",
   "metadata": {
    "scrolled": true
   },
   "outputs": [
    {
     "name": "stdout",
     "output_type": "stream",
     "text": [
      "Всего событий в логе: 243713\n"
     ]
    }
   ],
   "source": [
    "print('Всего событий в логе:', len(df))"
   ]
  },
  {
   "cell_type": "code",
   "execution_count": 15,
   "id": "42da7702",
   "metadata": {},
   "outputs": [
    {
     "name": "stdout",
     "output_type": "stream",
     "text": [
      "Всего пользователей: 7551\n"
     ]
    }
   ],
   "source": [
    "print('Всего пользователей:',len(df['user_id'].value_counts()))"
   ]
  },
  {
   "cell_type": "code",
   "execution_count": 16,
   "id": "5f859487",
   "metadata": {},
   "outputs": [
    {
     "name": "stdout",
     "output_type": "stream",
     "text": [
      "В среднем на пользователя приходится: 32.28 событий\n"
     ]
    }
   ],
   "source": [
    "df_pivot = df.pivot_table(index='user_id', values ='event_name', aggfunc='count' ).reset_index()\n",
    "round(df_pivot['event_name'].mean(),2)\n",
    "print('В среднем на пользователя приходится:', round(df_pivot['event_name'].mean(),2),'событий')"
   ]
  },
  {
   "cell_type": "code",
   "execution_count": 17,
   "id": "294df246",
   "metadata": {
    "scrolled": true
   },
   "outputs": [
    {
     "name": "stdout",
     "output_type": "stream",
     "text": [
      "Минимальная дата: 25.07.19\n",
      "Максимальная дата: 07.08.19\n",
      "Даннные за: 13.0 дней\n"
     ]
    }
   ],
   "source": [
    "print('Минимальная дата:', df['event_date'].min().strftime('%d.%m.%y'))\n",
    "print('Максимальная дата:', df['event_date'].max().strftime('%d.%m.%y'))\n",
    "print ('Даннные за:', (df['event_date'].max() - df['event_date'].min()) / np.timedelta64 ( 1 , 'D'), 'дней')"
   ]
  },
  {
   "cell_type": "markdown",
   "id": "a64dadd5",
   "metadata": {},
   "source": [
    "Построим гистограмму по дате и времени:"
   ]
  },
  {
   "cell_type": "code",
   "execution_count": 18,
   "id": "8cc5ba72",
   "metadata": {
    "scrolled": true
   },
   "outputs": [
    {
     "data": {
      "image/png": "[encoded data removed]",
      "text/plain": [
       "<Figure size 1080x504 with 1 Axes>"
      ]
     },
     "metadata": {
      "needs_background": "light"
     },
     "output_type": "display_data"
    }
   ],
   "source": [
    "plt.subplots()\n",
    "df.groupby('event_date')['event_time'].agg('count').plot(kind='bar',stacked=True, figsize=(15, 7), color = '#c34a50', grid = True)\n",
    "plt.title('Количество событий по дате и времени')\n",
    "plt.ylabel('Количество')\n",
    "plt.xlabel('Даты')\n",
    "plt.show()"
   ]
  },
  {
   "cell_type": "markdown",
   "id": "bcbb28f8",
   "metadata": {},
   "source": [
    "По графику мы видим, что имеет смысл брать данные только за август -  с первого по седьмое."
   ]
  },
  {
   "cell_type": "code",
   "execution_count": 19,
   "id": "3a5d3088",
   "metadata": {},
   "outputs": [
    {
     "data": {
      "text/plain": [
       "Timestamp('2019-08-01 00:00:00')"
      ]
     },
     "execution_count": 19,
     "metadata": {},
     "output_type": "execute_result"
    }
   ],
   "source": [
    "new_df = (df['event_date']>'2019-07-31')\n",
    "new_df = df.loc[new_df]\n",
    "new_df['event_date'].min()"
   ]
  },
  {
   "cell_type": "markdown",
   "id": "a7e09488",
   "metadata": {},
   "source": [
    "Проверим - сколько данных отбросили:"
   ]
  },
  {
   "cell_type": "code",
   "execution_count": 20,
   "id": "335e34c0",
   "metadata": {},
   "outputs": [
    {
     "name": "stdout",
     "output_type": "stream",
     "text": [
      "Количество событий по отброшенным данным 2826\n",
      "Количество событий в процентах: 1.16 %\n",
      "\n",
      "Всего пользователей по отброшенным данным: 1451\n",
      "Всего пользователей в процентах: 0.19 %\n"
     ]
    }
   ],
   "source": [
    "old_df = (df['event_date']<='2019-07-31')\n",
    "old_df = df.loc[old_df]\n",
    "print('Количество событий по отброшенным данным',len(old_df))\n",
    "print('Количество событий в процентах:',round(len(old_df)/len(df)*100,2),'%')\n",
    "print()\n",
    "print('Всего пользователей по отброшенным данным:',len(old_df['user_id'].value_counts()))\n",
    "print('Всего пользователей в процентах:',round(len(old_df['user_id'].value_counts())/len(df['user_id'].value_counts()),2),'%')"
   ]
  },
  {
   "cell_type": "markdown",
   "id": "3ba4fefb",
   "metadata": {},
   "source": [
    "Мы отбросили около процента событий и уникальных пользователей, потому можем об этом не беспокоиться. Проверим, что у нас есть пользователи из всех трех экспериментальных групп:"
   ]
  },
  {
   "cell_type": "code",
   "execution_count": 21,
   "id": "afb866ad",
   "metadata": {
    "scrolled": true
   },
   "outputs": [
    {
     "data": {
      "text/html": [
       "<div>\n",
       "<style scoped>\n",
       "    .dataframe tbody tr th:only-of-type {\n",
       "        vertical-align: middle;\n",
       "    }\n",
       "\n",
       "    .dataframe tbody tr th {\n",
       "        vertical-align: top;\n",
       "    }\n",
       "\n",
       "    .dataframe thead th {\n",
       "        text-align: right;\n",
       "    }\n",
       "</style>\n",
       "<table border=\"1\" class=\"dataframe\">\n",
       "  <thead>\n",
       "    <tr style=\"text-align: right;\">\n",
       "      <th></th>\n",
       "      <th>exp_id</th>\n",
       "      <th>unique_users</th>\n",
       "    </tr>\n",
       "  </thead>\n",
       "  <tbody>\n",
       "    <tr>\n",
       "      <th>0</th>\n",
       "      <td>246</td>\n",
       "      <td>2484</td>\n",
       "    </tr>\n",
       "    <tr>\n",
       "      <th>1</th>\n",
       "      <td>247</td>\n",
       "      <td>2513</td>\n",
       "    </tr>\n",
       "    <tr>\n",
       "      <th>2</th>\n",
       "      <td>248</td>\n",
       "      <td>2537</td>\n",
       "    </tr>\n",
       "  </tbody>\n",
       "</table>\n",
       "</div>"
      ],
      "text/plain": [
       "   exp_id  unique_users\n",
       "0     246          2484\n",
       "1     247          2513\n",
       "2     248          2537"
      ]
     },
     "execution_count": 21,
     "metadata": {},
     "output_type": "execute_result"
    }
   ],
   "source": [
    "a = new_df.groupby('exp_id').agg(unique_users = ('user_id','nunique')).reset_index()\n",
    "a"
   ]
  },
  {
   "cell_type": "code",
   "execution_count": 22,
   "id": "ba1690e6",
   "metadata": {
    "scrolled": false
   },
   "outputs": [
    {
     "name": "stdout",
     "output_type": "stream",
     "text": [
      "Размер выборки группы 246 в %: 0.33\n",
      "Размер выборки группы 247 в %: 0.33\n",
      "Размер выборки группы 248 в %: 0.34\n"
     ]
    }
   ],
   "source": [
    "print('Размер выборки группы 246 в %:',round(a.unique_users[0]/a.unique_users.sum(),2))\n",
    "print('Размер выборки группы 247 в %:',round(a.unique_users[1]/a.unique_users.sum(),2))\n",
    "print('Размер выборки группы 248 в %:',round(a.unique_users[2]/a.unique_users.sum(),2))"
   ]
  },
  {
   "cell_type": "markdown",
   "id": "c1b4f8c2",
   "metadata": {},
   "source": [
    "Убудились, что у нас примерно в равных пропорциях остались пользователи из всех трех экспериментальных групп, разница между количеством пользователей не превышает 1% - можем приступать к следующему шагу:"
   ]
  },
  {
   "cell_type": "markdown",
   "id": "9101f176",
   "metadata": {},
   "source": [
    "#### Анализ воронки событий"
   ]
  },
  {
   "cell_type": "code",
   "execution_count": 23,
   "id": "82b830b5",
   "metadata": {
    "scrolled": true
   },
   "outputs": [
    {
     "data": {
      "text/plain": [
       "mainscreenappear           117328\n",
       "offersscreenappear          46333\n",
       "cartscreenappear            42303\n",
       "paymentscreensuccessful     33918\n",
       "tutorial                     1005\n",
       "Name: event_name, dtype: int64"
      ]
     },
     "execution_count": 23,
     "metadata": {},
     "output_type": "execute_result"
    }
   ],
   "source": [
    "new_df['event_name'].value_counts()"
   ]
  },
  {
   "cell_type": "markdown",
   "id": "af9185af",
   "metadata": {},
   "source": [
    "Мы видим, что начало воронки- главный экран видит большинство пользователей (что логично).\n",
    "Затем идет экран с офферами, следом - экран с корзиной, затем  - экран оплаты, затем руководство. Нельзя считать руководство -завершающим этапом воронки. Это скорее отдельный блок для пользователей, у которых возникли вопросы. "
   ]
  },
  {
   "cell_type": "code",
   "execution_count": 24,
   "id": "63093e6a",
   "metadata": {},
   "outputs": [
    {
     "data": {
      "text/plain": [
       "6304868067479728361    2307\n",
       "197027893265565660     1996\n",
       "4623191541214045580    1768\n",
       "6932517045703054087    1439\n",
       "1754140665440434215    1221\n",
       "                       ... \n",
       "9131338384454321904       1\n",
       "4129178667624237055       1\n",
       "4715449382983361650       1\n",
       "7914773194539807942       1\n",
       "921624063626441313        1\n",
       "Name: user_id, Length: 7534, dtype: int64"
      ]
     },
     "execution_count": 24,
     "metadata": {},
     "output_type": "execute_result"
    }
   ],
   "source": [
    "new_df['user_id'].value_counts()"
   ]
  },
  {
   "cell_type": "markdown",
   "id": "2bdea04a",
   "metadata": {},
   "source": [
    "В базе есть юзеры, кто совершил всего одно событие(например, зашел на главный экран и потом ушел) и совершил множество событий, в том числе покупал в приложении уже много раз:"
   ]
  },
  {
   "cell_type": "code",
   "execution_count": 25,
   "id": "c5287354",
   "metadata": {},
   "outputs": [
    {
     "data": {
      "text/plain": [
       "6304868067479728361    1085\n",
       "197027893265565660      865\n",
       "4623191541214045580     762\n",
       "1754140665440434215     570\n",
       "3337471580007169353     525\n",
       "                       ... \n",
       "5962451360444563367       1\n",
       "8733467333849279674       1\n",
       "7522230815377799330       1\n",
       "1202921123440807590       1\n",
       "4164287718073415198       1\n",
       "Name: user_id, Length: 3539, dtype: int64"
      ]
     },
     "execution_count": 25,
     "metadata": {},
     "output_type": "execute_result"
    }
   ],
   "source": [
    "pay_user = new_df.query('event_name == \"paymentscreensuccessful\"')\n",
    "pay_user['user_id'].value_counts()"
   ]
  },
  {
   "cell_type": "markdown",
   "id": "7c82c9a9",
   "metadata": {},
   "source": [
    "Нельзя равнять их с теми, кто увидел приложение в первый раз.\n",
    "Посчитаем, сколько пользователей совершали каждое из этих событий и долю пользователей, которые хоть раз совершали событие:"
   ]
  },
  {
   "cell_type": "code",
   "execution_count": 26,
   "id": "201c5422",
   "metadata": {},
   "outputs": [
    {
     "data": {
      "text/html": [
       "<div>\n",
       "<style scoped>\n",
       "    .dataframe tbody tr th:only-of-type {\n",
       "        vertical-align: middle;\n",
       "    }\n",
       "\n",
       "    .dataframe tbody tr th {\n",
       "        vertical-align: top;\n",
       "    }\n",
       "\n",
       "    .dataframe thead th {\n",
       "        text-align: right;\n",
       "    }\n",
       "</style>\n",
       "<table border=\"1\" class=\"dataframe\">\n",
       "  <thead>\n",
       "    <tr style=\"text-align: right;\">\n",
       "      <th></th>\n",
       "      <th>event_name</th>\n",
       "      <th>unique_count</th>\n",
       "      <th>total_fraction,%</th>\n",
       "    </tr>\n",
       "  </thead>\n",
       "  <tbody>\n",
       "    <tr>\n",
       "      <th>0</th>\n",
       "      <td>mainscreenappear</td>\n",
       "      <td>7419</td>\n",
       "      <td>98.47</td>\n",
       "    </tr>\n",
       "    <tr>\n",
       "      <th>1</th>\n",
       "      <td>offersscreenappear</td>\n",
       "      <td>4593</td>\n",
       "      <td>60.96</td>\n",
       "    </tr>\n",
       "    <tr>\n",
       "      <th>2</th>\n",
       "      <td>cartscreenappear</td>\n",
       "      <td>3734</td>\n",
       "      <td>49.56</td>\n",
       "    </tr>\n",
       "    <tr>\n",
       "      <th>3</th>\n",
       "      <td>paymentscreensuccessful</td>\n",
       "      <td>3539</td>\n",
       "      <td>46.97</td>\n",
       "    </tr>\n",
       "    <tr>\n",
       "      <th>4</th>\n",
       "      <td>tutorial</td>\n",
       "      <td>840</td>\n",
       "      <td>11.15</td>\n",
       "    </tr>\n",
       "  </tbody>\n",
       "</table>\n",
       "</div>"
      ],
      "text/plain": [
       "                event_name  unique_count  total_fraction,%\n",
       "0         mainscreenappear          7419             98.47\n",
       "1       offersscreenappear          4593             60.96\n",
       "2         cartscreenappear          3734             49.56\n",
       "3  paymentscreensuccessful          3539             46.97\n",
       "4                 tutorial           840             11.15"
      ]
     },
     "execution_count": 26,
     "metadata": {},
     "output_type": "execute_result"
    }
   ],
   "source": [
    "unique_users = new_df.groupby('event_name', \n",
    "               as_index = False).agg(unique_count = ('user_id','nunique')).sort_values(by = 'unique_count',ascending=False)\n",
    "\n",
    "unique_users['total_fraction,%'] = round(unique_users['unique_count']/new_df['user_id'].nunique()*100,2)\n",
    "unique_users = unique_users.reset_index(drop=True)\n",
    "unique_users"
   ]
  },
  {
   "cell_type": "markdown",
   "id": "e551ddb7",
   "metadata": {},
   "source": [
    "Исключим  tutorial из воронки. Воронка пользователя выглядит следующим образом:"
   ]
  },
  {
   "cell_type": "code",
   "execution_count": 27,
   "id": "2022cdc3",
   "metadata": {},
   "outputs": [
    {
     "data": {
      "text/html": [
       "<div>\n",
       "<style scoped>\n",
       "    .dataframe tbody tr th:only-of-type {\n",
       "        vertical-align: middle;\n",
       "    }\n",
       "\n",
       "    .dataframe tbody tr th {\n",
       "        vertical-align: top;\n",
       "    }\n",
       "\n",
       "    .dataframe thead th {\n",
       "        text-align: right;\n",
       "    }\n",
       "</style>\n",
       "<table border=\"1\" class=\"dataframe\">\n",
       "  <thead>\n",
       "    <tr style=\"text-align: right;\">\n",
       "      <th></th>\n",
       "      <th>event_name</th>\n",
       "      <th>unique_count</th>\n",
       "      <th>total_fraction,%</th>\n",
       "    </tr>\n",
       "  </thead>\n",
       "  <tbody>\n",
       "    <tr>\n",
       "      <th>0</th>\n",
       "      <td>mainscreenappear</td>\n",
       "      <td>7419</td>\n",
       "      <td>98.47</td>\n",
       "    </tr>\n",
       "    <tr>\n",
       "      <th>1</th>\n",
       "      <td>offersscreenappear</td>\n",
       "      <td>4593</td>\n",
       "      <td>60.96</td>\n",
       "    </tr>\n",
       "    <tr>\n",
       "      <th>2</th>\n",
       "      <td>cartscreenappear</td>\n",
       "      <td>3734</td>\n",
       "      <td>49.56</td>\n",
       "    </tr>\n",
       "    <tr>\n",
       "      <th>3</th>\n",
       "      <td>paymentscreensuccessful</td>\n",
       "      <td>3539</td>\n",
       "      <td>46.97</td>\n",
       "    </tr>\n",
       "  </tbody>\n",
       "</table>\n",
       "</div>"
      ],
      "text/plain": [
       "                event_name  unique_count  total_fraction,%\n",
       "0         mainscreenappear          7419             98.47\n",
       "1       offersscreenappear          4593             60.96\n",
       "2         cartscreenappear          3734             49.56\n",
       "3  paymentscreensuccessful          3539             46.97"
      ]
     },
     "execution_count": 27,
     "metadata": {},
     "output_type": "execute_result"
    }
   ],
   "source": [
    "funnel_users = unique_users.query('event_name!=\"tutorial\"')\n",
    "funnel_users"
   ]
  },
  {
   "cell_type": "code",
   "execution_count": null,
   "id": "965ade96",
   "metadata": {},
   "outputs": [],
   "source": [
    "fig = go.Figure(\n",
    "go.Funnel(\n",
    "y = funnel_users['event_name'],\n",
    "x = funnel_users['unique_count'] ,\n",
    "textinfo = \"value+percent initial\",\n",
    "marker = {'color':['#c34a50','#c34a50','#c34a50','#c34a50']},)\n",
    ")\n",
    "fig.show()\n"
   ]
  },
  {
   "cell_type": "markdown",
   "id": "cb1d8604",
   "metadata": {},
   "source": [
    "Посчитаем какая доля пользователей проходит на следующий шаг воронки."
   ]
  },
  {
   "cell_type": "code",
   "execution_count": null,
   "id": "1d4ca69a",
   "metadata": {
    "scrolled": true
   },
   "outputs": [],
   "source": [
    "funnel_fraction = unique_users.drop('total_fraction,%', axis=1)\n",
    "funnel_fraction = funnel_fraction.query('event_name!=\"tutorial\"')\n",
    "funnel_fraction['prc,%'] = round(unique_users.unique_count/unique_users.unique_count.shift(1)*100,2)\n",
    "funnel_fraction"
   ]
  },
  {
   "cell_type": "markdown",
   "id": "3a6a96a1",
   "metadata": {},
   "source": [
    "Мы видим, что с главного экрана до блока с офферами доходит только 62% юзеров, то есть на первом шаге теряется больше всего пользователей - аж 40%. От первого события до оплаты доходит 48% юзеров."
   ]
  },
  {
   "cell_type": "markdown",
   "id": "1abd0551",
   "metadata": {},
   "source": [
    "Мы построили воронку событий, посчитали - какая доля пользователей проходит на следующий шаг воронки, а так же увидели самое слабое место в воронке - переход с первого шага на второй (теряется около 40% юзеров). Конверсия из первого шага в оплату составляет 47,7%, что считается хорошей конверсией в продажах. \n",
    "Можем переходить к следующему шагу:"
   ]
  },
  {
   "cell_type": "code",
   "execution_count": null,
   "id": "df0e6d71",
   "metadata": {},
   "outputs": [],
   "source": [
    "print('Конверсия из первого шага в оплату, %:', round(funnel_fraction['unique_count'][3]/funnel_fraction['unique_count'][0],2))"
   ]
  },
  {
   "cell_type": "code",
   "execution_count": null,
   "id": "997ae47d",
   "metadata": {},
   "outputs": [],
   "source": [
    "funnel_fraction['prc,%']= funnel_fraction['prc,%'].fillna(100)\n",
    "funnel_fraction['diff']=abs(funnel_fraction ['prc,%'] - funnel_fraction ['prc,%'].shift(1))\n",
    "funnel_fraction"
   ]
  },
  {
   "cell_type": "markdown",
   "id": "74bac194",
   "metadata": {},
   "source": [
    "Самая большая разница в конверсии - при переходе с главное страницы на страницу с офферами."
   ]
  },
  {
   "cell_type": "markdown",
   "id": "8f83eaa0",
   "metadata": {},
   "source": [
    "#### Анализ результатов эксперимента"
   ]
  },
  {
   "cell_type": "markdown",
   "id": "609bbf73",
   "metadata": {},
   "source": [
    "Главная цель А/А-теста — показать, можно ли доверять результатам эксперимента, который будет запущен в тех же условиях, но уже с разными вариантами страницы. Посчитаем количество пользователей в каждой экспериментальной группе: "
   ]
  },
  {
   "cell_type": "code",
   "execution_count": null,
   "id": "5b2804e8",
   "metadata": {
    "scrolled": true
   },
   "outputs": [],
   "source": [
    "df_group = new_df.groupby('exp_id', \n",
    "               as_index = False).agg(unique_count = ('user_id','nunique')).sort_values(by = 'unique_count',\n",
    "                                                                                       ascending=False).reset_index(drop=True)\n",
    "df_group"
   ]
  },
  {
   "cell_type": "code",
   "execution_count": null,
   "id": "a399881e",
   "metadata": {},
   "outputs": [],
   "source": [
    "diff = 1 - df_group.unique_count[2] / df_group.unique_count[1]\n",
    "print('Разница между выборками 246 и 247 - {:.2%}'.format(diff))"
   ]
  },
  {
   "cell_type": "markdown",
   "id": "9ccfeaf5",
   "metadata": {},
   "source": [
    "Количество пользователей в различных группах различается не более, чем на 1%. Это является одним из критериев успешного А/А теста. Выберем самое популярное событие:"
   ]
  },
  {
   "cell_type": "code",
   "execution_count": null,
   "id": "34cf02b1",
   "metadata": {},
   "outputs": [],
   "source": [
    "gr_246 = new_df.query('exp_id==246')\n",
    "gr_247 = new_df.query('exp_id==247')\n",
    "len(gr_246.merge(gr_247, on = 'user_id', how = 'inner'))\n"
   ]
  },
  {
   "cell_type": "code",
   "execution_count": null,
   "id": "7d5e4309",
   "metadata": {},
   "outputs": [],
   "source": [
    "group_df = new_df.pivot_table(index='event_name', columns='exp_id', values='user_id', aggfunc='nunique')\n",
    "group_df.reset_index()"
   ]
  },
  {
   "cell_type": "markdown",
   "id": "6165fcf4",
   "metadata": {},
   "source": [
    "Самое популярное событие - mainscreenappear\t - выход на главный экран у всех групп, что ожидаемо. А платят больше всего в 246 группе."
   ]
  },
  {
   "cell_type": "markdown",
   "id": "a38dd6cf",
   "metadata": {},
   "source": [
    "Создадим функцию, считающую статистическую значимость между группами. Датафрейм будем обрабатывать внутри функции, группы будем передавать в виде списка.\n",
    "\n",
    "Сформулируем гипотезы\n",
    "\n",
    "Н0 - различия между экспериментальными группами, совершившими указанное событие, статистически не значимы\n",
    "\n",
    "Н1 - различия между экспериментальными группами, совершившими указанное событие, статистически значимы\n",
    "\n",
    "Для проверки гипотезы используем один из самых популярных и точных способов  — A/B-тест.\n",
    "Пороговое значение alpha примем за 1%, так как мы ожидаем увидеть степень различия между группами не больше 10% (больше - бывает очень редко и было бы заметно и без тестов).\n",
    "\n",
    "Перед тем как начать A/B-тест, убедимся, что:\n",
    "на результаты не влияют аномалии и выбросы;\n",
    "инструмент «деления» трафика работает безошибочно;\n",
    "данные отправляются в системы аналитики корректно.\n",
    "Для этого проведем A/A-тест. "
   ]
  },
  {
   "cell_type": "code",
   "execution_count": null,
   "id": "fddefc23",
   "metadata": {},
   "outputs": [],
   "source": [
    "new_df.head()"
   ]
  },
  {
   "cell_type": "code",
   "execution_count": null,
   "id": "03c10657",
   "metadata": {},
   "outputs": [],
   "source": [
    "def test(new_df, group_ex, alpha):\n",
    "    #найдем уникальных пользователей в каждой группе\n",
    "    users = [new_df.query('exp_id == @group_id')['user_id'].nunique() for group_id in group_ex]\n",
    "    #перебираем все экспериментальные группы для каждого события, считаем количество пользователей и долю\n",
    "    for event in new_df.event_name.unique():\n",
    "        events = [new_df.query('exp_id == %d and event_name == \"%s\"' % (group_id, event))['user_id'].nunique() for group_id in group_ex]\n",
    "        # сравниваем кол-во уникальных юзеров на каждом шаге группы к кол-ву уникальных юзеров в этой группе всего\n",
    "        p1 = events[0] / users[0] #считаем долю для 1 группы\n",
    "        p2 = events[1] / users[1] #считаем долю для 2 группы\n",
    "        \n",
    "        p_combined = sum(events) / sum(users) \n",
    "        \n",
    "        difference = p1 - p2 # разница в датасетах\n",
    "        \n",
    "        z_value = difference / sqrt(\n",
    "            p_combined * (1 - p_combined) * (1 / users[0] + 1 / users[1]) #считаем z-value, которая покажет, насколько она далека от среднего значения точки данных\n",
    "        )\n",
    "        \n",
    "        distr = stats.norm(0, 1) #распределение\n",
    "        p_value = (1 - distr.cdf(abs(z_value))) * 2 #считаем p-value\n",
    "        \n",
    "        print(event)\n",
    "        print(p1, p2)\n",
    "        print('p-значение: ', p_value)\n",
    "        #сравниваем p-value и alpha\n",
    "        if p_value < alpha:\n",
    "            print('Отвергаем нулевую гипотезу по событию %s: между долями есть значимая разница' % (event))\n",
    "        else:\n",
    "            print('Не получилось отвергнуть нулевую гипотезу по событию %s: нет оснований считать доли разными' % (event))\n",
    "            \n",
    "        print(' ')\n",
    "        print(' ')"
   ]
  },
  {
   "cell_type": "markdown",
   "id": "300c51cc",
   "metadata": {},
   "source": [
    "Проведем A/A тестирование - это проверка всего эксперимента на валидность:"
   ]
  },
  {
   "cell_type": "code",
   "execution_count": null,
   "id": "a996f7cd",
   "metadata": {
    "scrolled": true
   },
   "outputs": [],
   "source": [
    "test(new_df, [246, 247], 0.01)"
   ]
  },
  {
   "cell_type": "markdown",
   "id": "bf9e26d3",
   "metadata": {},
   "source": [
    "Различия во всех событиях между 246 и 247 группами статистически не значимы. А/А тест прошел успешно.\n",
    "Переходим к A/B тесту - здесь важно понять, есть ли у нас статистически значимые различия.\n",
    "Проверим все три возможных комбинации 246, 247 и 248 группы."
   ]
  },
  {
   "cell_type": "code",
   "execution_count": null,
   "id": "d4cb526c",
   "metadata": {},
   "outputs": [],
   "source": [
    "test(new_df, [246, 248], 0.01)"
   ]
  },
  {
   "cell_type": "markdown",
   "id": "93394af9",
   "metadata": {},
   "source": [
    "Различия между группами 246 и 248 статистически не значимы. Мы имеем высокую вероятность случайных различий между показателями, обусловленных обычной дисперсий/вариацией в данных, а не реальной разницей."
   ]
  },
  {
   "cell_type": "code",
   "execution_count": null,
   "id": "9ae0555d",
   "metadata": {},
   "outputs": [],
   "source": [
    "test(new_df, [247, 248], 0.01)"
   ]
  },
  {
   "cell_type": "markdown",
   "id": "ac5d0a22",
   "metadata": {},
   "source": [
    "Различия между группами 247 и 248 статистически не значимы, т.е. различия могли получиться случайно.\n",
    "Объединим 2 контрольные группы в одну(1)  и сравним с 248ой."
   ]
  },
  {
   "cell_type": "code",
   "execution_count": null,
   "id": "01982131",
   "metadata": {},
   "outputs": [],
   "source": [
    "combined = new_df.copy()\n",
    "combined[\"exp_id\"].replace({247: 1, 246:1}, inplace=True)\n",
    "combined[\"exp_id\"].value_counts()"
   ]
  },
  {
   "cell_type": "code",
   "execution_count": null,
   "id": "8046a8d9",
   "metadata": {},
   "outputs": [],
   "source": [
    "def test_c(combined, group_ex, alpha):\n",
    "    #найдем уникальных пользователей в каждой группе\n",
    "    users = [combined.query('exp_id == @group_id')['user_id'].nunique() for group_id in group_ex]\n",
    "    #перебираем все экспериментальные группы для каждого события, считаем количество пользователей и долю\n",
    "    for event in combined.event_name.unique():\n",
    "        events = [combined.query('exp_id == %d and event_name == \"%s\"' % (group_id, event))['user_id'].nunique() for group_id in group_ex]\n",
    "        # сравниваем кол-во уникальных юзеров на каждом шаге группы к кол-ву уникальных юзеров в этой группе всего\n",
    "        p1 = events[0] / users[0] #считаем долю для 1 группы\n",
    "        p2 = events[1] / users[1] #считаем долю для 2 группы\n",
    "        \n",
    "        p_combined = sum(events) / sum(users) \n",
    "        \n",
    "        difference = p1 - p2 # разница в датасетах\n",
    "        \n",
    "        z_value = difference / sqrt(\n",
    "            p_combined * (1 - p_combined) * (1 / users[0] + 1 / users[1]) #считаем z-value, которая покажет, насколько она далека от среднего значения точки данных\n",
    "        )\n",
    "        \n",
    "        distr = stats.norm(0, 1) #распределение\n",
    "        p_value = (1 - distr.cdf(abs(z_value))) * 2 #считаем p-value\n",
    "        \n",
    "        print(event)\n",
    "        print(p1, p2)\n",
    "        print('p-значение: ', p_value)\n",
    "        #сравниваем p-value и alpha\n",
    "        if p_value < alpha:\n",
    "            print('Отвергаем нулевую гипотезу по событию %s: между долями есть значимая разница' % (event))\n",
    "        else:\n",
    "            print('Не получилось отвергнуть нулевую гипотезу по событию %s: нет оснований считать доли разными' % (event))\n",
    "            \n",
    "        print(' ')\n",
    "        print(' ')"
   ]
  },
  {
   "cell_type": "code",
   "execution_count": null,
   "id": "1674142e",
   "metadata": {
    "scrolled": true
   },
   "outputs": [],
   "source": [
    "test_c(combined, [1, 248], 0.01)"
   ]
  },
  {
   "cell_type": "markdown",
   "id": "e8de3783",
   "metadata": {},
   "source": [
    "Различия между объединенными группами и группой 248 статистически не значимы, результат может оказаться случайным.\n",
    "Предварительно можно сделать вывод, что шрифт не влияет на пользователей.\n",
    "Особенность множественного теста в том, что вероятность ошибки первого рода увеличивается с каждой новой проверкой гипотезы.\n",
    "Чтобы снизить вероятность ложнопозитивного результата применим метод Бонферони.\n",
    "Для этого поделим принятый уровень значимости (0.01) на число сравнений - 16 (4 пары групп и 4 события), которые проводят на одних и тех же данных, без сбора новых наблюдений для каждого теста.\n",
    "\n",
    "С учетом поправки, альфа будет равна 0.01/16 = 0.0006.\n",
    "Проверим гипотезу с новым значениям альфа:"
   ]
  },
  {
   "cell_type": "code",
   "execution_count": null,
   "id": "a423af33",
   "metadata": {},
   "outputs": [],
   "source": [
    "test(new_df, [246, 248], 0.0006)"
   ]
  },
  {
   "cell_type": "code",
   "execution_count": null,
   "id": "5e0ba2e6",
   "metadata": {},
   "outputs": [],
   "source": [
    "test(new_df, [247, 248], 0.0006)"
   ]
  },
  {
   "cell_type": "code",
   "execution_count": null,
   "id": "68e20943",
   "metadata": {
    "scrolled": true
   },
   "outputs": [],
   "source": [
    "test_c(combined, [1, 248], 0.0006)"
   ]
  },
  {
   "cell_type": "markdown",
   "id": "aca4474d",
   "metadata": {},
   "source": [
    "#### Вывод\n",
    "\n",
    "Мы преобразовали даты в тип дат и провели предобработку данных.\n",
    "Удалили явные дубликаты: 0.17%\n",
    "Оставили неявные дубликаты - 2.8%. Из-за малого количества они не повлияют на результаты анализа.\n",
    "Всего событий в логе: 243713\n",
    "Всего уникальных пользователей: 7551\n",
    "В среднем на пользователя приходится: 32.28 событий\n",
    "\n",
    "Полные  данные были представлены только за август - с первого по седьмое, этот срез данных и был взят в анализ. В результате было отброшено только 2826 (1.16 %) событий и 1451(0.19 %) юзеров.\n",
    "\n",
    "\n",
    "Проверили, количество пользователей из всех трех экспериментальных групп и убедились, что они представлены примерно в равном соотношении (разница не превышает 1%):\n",
    "Размер выборки группы 246 в %: 0.33\n",
    "Размер выборки группы 247 в %: 0.33\n",
    "Размер выборки группы 248 в %: 0.34\n",
    "\n",
    "Проанализировали воронку пользователя. \n",
    "Она состоит из:\n",
    "* главного экрана 7419 пользователей (100%), на следующий шаг не доходит 38%\n",
    "* экрана с офферами 4593 (62%), на следующий шаг не доходит 19%\n",
    "* экрана с корзиной 3734 (50%), на следующий шаг не доходит 13,5%\n",
    "* экрана с оплатой 3539 (48%)\n",
    "\n",
    "На первом шаге теряется больше всего пользователей - аж 38%. \n",
    "От первого события до оплаты доходит 48% юзеров, что является хорошей конверсией в продажах.\n",
    "\n",
    "Чтобы ответить на вопрос можно ли и нужно ли менять шрифт во всем приложении мы сформулировали гипотезы:\n",
    "Н0 - различия между экспериментальными группами, совершившими указанное событие, статистически не значимы\n",
    "Н1 - различия между экспериментальными группами, совершившими указанное событие, статистически значимы\n",
    "Для проверки гипотезы использовали один из самых популярных и точных способов — A/B-тест. Пороговое значение alpha приняли  за 1%, так как мы ожидаем увидеть степень различия между группами не больше 10% (больше - бывает очень редко и было бы заметно и без тестов).\n",
    "Перед тем как начать A/B-тест, убедились, что: на результаты не влияют аномалии, выбросы  и технические ошибки сбора данных. и успешно провели A/A-тест.\n",
    "\n",
    "По итогам всех тестов-не получилось отвергнуть нулевую гипотезу и считать конверсии для групп разными. Изменение шрифта не повлияло значимо на показатели воронки. Можно менять шрифт, или не менять - это не повлияет на конверсии.\n"
   ]
  }
 ],
 "metadata": {
  "ExecuteTimeLog": [
   {
    "duration": 1099,
    "start_time": "2022-08-25T12:49:39.348Z"
   },
   {
    "duration": 727,
    "start_time": "2022-08-25T12:49:40.449Z"
   },
   {
    "duration": 12,
    "start_time": "2022-08-25T12:49:41.178Z"
   },
   {
    "duration": 72,
    "start_time": "2022-08-25T12:49:41.192Z"
   },
   {
    "duration": 49,
    "start_time": "2022-08-25T12:49:41.265Z"
   },
   {
    "duration": 90,
    "start_time": "2022-08-25T12:49:41.315Z"
   },
   {
    "duration": 84,
    "start_time": "2022-08-25T12:49:41.407Z"
   },
   {
    "duration": 68,
    "start_time": "2022-08-25T12:49:41.492Z"
   },
   {
    "duration": 110,
    "start_time": "2022-08-25T12:49:41.561Z"
   },
   {
    "duration": 32,
    "start_time": "2022-08-25T12:49:41.674Z"
   },
   {
    "duration": 72,
    "start_time": "2022-08-25T12:49:41.708Z"
   },
   {
    "duration": 51,
    "start_time": "2022-08-25T12:49:41.781Z"
   },
   {
    "duration": 64,
    "start_time": "2022-08-25T12:49:41.833Z"
   },
   {
    "duration": 3,
    "start_time": "2022-08-25T12:49:41.898Z"
   },
   {
    "duration": 11,
    "start_time": "2022-08-25T12:49:41.902Z"
   },
   {
    "duration": 34,
    "start_time": "2022-08-25T12:49:41.914Z"
   },
   {
    "duration": 6,
    "start_time": "2022-08-25T12:49:41.949Z"
   },
   {
    "duration": 250,
    "start_time": "2022-08-25T12:49:41.957Z"
   },
   {
    "duration": 16,
    "start_time": "2022-08-25T12:49:42.208Z"
   },
   {
    "duration": 12,
    "start_time": "2022-08-25T12:49:42.225Z"
   },
   {
    "duration": 5,
    "start_time": "2022-08-25T12:49:42.239Z"
   },
   {
    "duration": 46,
    "start_time": "2022-08-25T12:49:42.246Z"
   },
   {
    "duration": 10,
    "start_time": "2022-08-25T12:49:42.294Z"
   },
   {
    "duration": 83,
    "start_time": "2022-08-25T12:49:42.306Z"
   },
   {
    "duration": 202,
    "start_time": "2022-08-25T12:49:42.390Z"
   },
   {
    "duration": 10,
    "start_time": "2022-08-25T12:49:42.594Z"
   },
   {
    "duration": 98,
    "start_time": "2022-08-25T12:49:42.605Z"
   },
   {
    "duration": 4,
    "start_time": "2022-08-25T12:49:42.706Z"
   },
   {
    "duration": 210,
    "start_time": "2022-08-25T12:49:42.712Z"
   },
   {
    "duration": 67,
    "start_time": "2022-08-25T12:49:42.924Z"
   },
   {
    "duration": 8,
    "start_time": "2022-08-25T12:49:42.993Z"
   },
   {
    "duration": 383,
    "start_time": "2022-08-25T12:49:43.003Z"
   },
   {
    "duration": 313,
    "start_time": "2022-08-25T12:49:43.388Z"
   },
   {
    "duration": 384,
    "start_time": "2022-08-25T12:49:43.703Z"
   },
   {
    "duration": 17,
    "start_time": "2022-08-25T12:49:44.088Z"
   },
   {
    "duration": 12,
    "start_time": "2022-08-25T12:49:44.108Z"
   },
   {
    "duration": 469,
    "start_time": "2022-08-25T12:49:44.125Z"
   },
   {
    "duration": 191,
    "start_time": "2022-08-25T12:49:44.596Z"
   },
   {
    "duration": 161,
    "start_time": "2022-08-25T12:49:44.788Z"
   },
   {
    "duration": 181,
    "start_time": "2022-08-25T12:49:44.951Z"
   },
   {
    "duration": 1158,
    "start_time": "2022-08-25T13:16:04.670Z"
   },
   {
    "duration": 193,
    "start_time": "2022-08-25T13:16:05.830Z"
   },
   {
    "duration": 13,
    "start_time": "2022-08-25T13:16:06.028Z"
   },
   {
    "duration": 89,
    "start_time": "2022-08-25T13:16:06.043Z"
   },
   {
    "duration": 37,
    "start_time": "2022-08-25T13:16:06.134Z"
   },
   {
    "duration": 88,
    "start_time": "2022-08-25T13:16:06.173Z"
   },
   {
    "duration": 94,
    "start_time": "2022-08-25T13:16:06.262Z"
   },
   {
    "duration": 76,
    "start_time": "2022-08-25T13:16:06.357Z"
   },
   {
    "duration": 101,
    "start_time": "2022-08-25T13:16:06.436Z"
   },
   {
    "duration": 26,
    "start_time": "2022-08-25T13:16:06.538Z"
   },
   {
    "duration": 69,
    "start_time": "2022-08-25T13:16:06.567Z"
   },
   {
    "duration": 58,
    "start_time": "2022-08-25T13:16:06.637Z"
   },
   {
    "duration": 53,
    "start_time": "2022-08-25T13:16:06.697Z"
   },
   {
    "duration": 4,
    "start_time": "2022-08-25T13:16:06.751Z"
   },
   {
    "duration": 9,
    "start_time": "2022-08-25T13:16:06.756Z"
   },
   {
    "duration": 34,
    "start_time": "2022-08-25T13:16:06.784Z"
   },
   {
    "duration": 7,
    "start_time": "2022-08-25T13:16:06.820Z"
   },
   {
    "duration": 256,
    "start_time": "2022-08-25T13:16:06.828Z"
   },
   {
    "duration": 15,
    "start_time": "2022-08-25T13:16:07.086Z"
   },
   {
    "duration": 13,
    "start_time": "2022-08-25T13:16:07.103Z"
   },
   {
    "duration": 6,
    "start_time": "2022-08-25T13:16:07.117Z"
   },
   {
    "duration": 20,
    "start_time": "2022-08-25T13:16:07.124Z"
   },
   {
    "duration": 42,
    "start_time": "2022-08-25T13:16:07.146Z"
   },
   {
    "duration": 74,
    "start_time": "2022-08-25T13:16:07.189Z"
   },
   {
    "duration": 180,
    "start_time": "2022-08-25T13:16:07.265Z"
   },
   {
    "duration": 11,
    "start_time": "2022-08-25T13:16:07.446Z"
   },
   {
    "duration": 59,
    "start_time": "2022-08-25T13:16:07.459Z"
   },
   {
    "duration": 4,
    "start_time": "2022-08-25T13:16:07.519Z"
   },
   {
    "duration": 189,
    "start_time": "2022-08-25T13:16:07.524Z"
   },
   {
    "duration": 12,
    "start_time": "2022-08-25T13:16:07.714Z"
   },
   {
    "duration": 9,
    "start_time": "2022-08-25T13:16:07.728Z"
   },
   {
    "duration": 177,
    "start_time": "2022-08-25T13:16:07.738Z"
   },
   {
    "duration": 177,
    "start_time": "2022-08-25T13:16:07.917Z"
   },
   {
    "duration": 190,
    "start_time": "2022-08-25T13:16:08.095Z"
   },
   {
    "duration": 16,
    "start_time": "2022-08-25T13:16:08.286Z"
   },
   {
    "duration": 6,
    "start_time": "2022-08-25T13:16:08.304Z"
   },
   {
    "duration": 215,
    "start_time": "2022-08-25T13:16:08.312Z"
   },
   {
    "duration": 182,
    "start_time": "2022-08-25T13:16:08.529Z"
   },
   {
    "duration": 218,
    "start_time": "2022-08-25T13:16:08.713Z"
   },
   {
    "duration": 344,
    "start_time": "2022-08-25T13:16:08.986Z"
   },
   {
    "duration": 990,
    "start_time": "2022-08-25T13:17:24.936Z"
   },
   {
    "duration": 195,
    "start_time": "2022-08-25T13:17:25.928Z"
   },
   {
    "duration": 14,
    "start_time": "2022-08-25T13:17:26.125Z"
   },
   {
    "duration": 95,
    "start_time": "2022-08-25T13:17:26.141Z"
   },
   {
    "duration": 47,
    "start_time": "2022-08-25T13:17:26.238Z"
   },
   {
    "duration": 78,
    "start_time": "2022-08-25T13:17:26.287Z"
   },
   {
    "duration": 98,
    "start_time": "2022-08-25T13:17:26.367Z"
   },
   {
    "duration": 85,
    "start_time": "2022-08-25T13:17:26.466Z"
   },
   {
    "duration": 117,
    "start_time": "2022-08-25T13:17:26.553Z"
   },
   {
    "duration": 36,
    "start_time": "2022-08-25T13:17:26.671Z"
   },
   {
    "duration": 62,
    "start_time": "2022-08-25T13:17:26.709Z"
   },
   {
    "duration": 58,
    "start_time": "2022-08-25T13:17:26.785Z"
   },
   {
    "duration": 78,
    "start_time": "2022-08-25T13:17:26.845Z"
   },
   {
    "duration": 3,
    "start_time": "2022-08-25T13:17:26.927Z"
   },
   {
    "duration": 12,
    "start_time": "2022-08-25T13:17:26.932Z"
   },
   {
    "duration": 56,
    "start_time": "2022-08-25T13:17:26.946Z"
   },
   {
    "duration": 8,
    "start_time": "2022-08-25T13:17:27.004Z"
   },
   {
    "duration": 264,
    "start_time": "2022-08-25T13:17:27.013Z"
   },
   {
    "duration": 18,
    "start_time": "2022-08-25T13:17:27.279Z"
   },
   {
    "duration": 13,
    "start_time": "2022-08-25T13:17:27.298Z"
   },
   {
    "duration": 6,
    "start_time": "2022-08-25T13:17:27.313Z"
   },
   {
    "duration": 21,
    "start_time": "2022-08-25T13:17:27.320Z"
   },
   {
    "duration": 10,
    "start_time": "2022-08-25T13:17:27.342Z"
   },
   {
    "duration": 102,
    "start_time": "2022-08-25T13:17:27.354Z"
   },
   {
    "duration": 188,
    "start_time": "2022-08-25T13:17:27.457Z"
   },
   {
    "duration": 11,
    "start_time": "2022-08-25T13:17:27.647Z"
   },
   {
    "duration": 55,
    "start_time": "2022-08-25T13:17:27.659Z"
   },
   {
    "duration": 4,
    "start_time": "2022-08-25T13:17:27.715Z"
   },
   {
    "duration": 132,
    "start_time": "2022-08-25T13:17:27.720Z"
   },
   {
    "duration": 13,
    "start_time": "2022-08-25T13:17:27.853Z"
   },
   {
    "duration": 9,
    "start_time": "2022-08-25T13:17:27.885Z"
   },
   {
    "duration": 176,
    "start_time": "2022-08-25T13:17:27.896Z"
   },
   {
    "duration": 169,
    "start_time": "2022-08-25T13:17:28.074Z"
   },
   {
    "duration": 178,
    "start_time": "2022-08-25T13:17:28.244Z"
   },
   {
    "duration": 15,
    "start_time": "2022-08-25T13:17:28.424Z"
   },
   {
    "duration": 6,
    "start_time": "2022-08-25T13:17:28.440Z"
   },
   {
    "duration": 204,
    "start_time": "2022-08-25T13:17:28.448Z"
   },
   {
    "duration": 170,
    "start_time": "2022-08-25T13:17:28.654Z"
   },
   {
    "duration": 169,
    "start_time": "2022-08-25T13:17:28.825Z"
   },
   {
    "duration": 189,
    "start_time": "2022-08-25T13:17:28.996Z"
   },
   {
    "duration": 1253,
    "start_time": "2022-08-25T21:33:03.707Z"
   },
   {
    "duration": 515,
    "start_time": "2022-08-25T21:33:04.962Z"
   },
   {
    "duration": 12,
    "start_time": "2022-08-25T21:33:05.478Z"
   },
   {
    "duration": 73,
    "start_time": "2022-08-25T21:33:05.492Z"
   },
   {
    "duration": 34,
    "start_time": "2022-08-25T21:33:05.567Z"
   },
   {
    "duration": 80,
    "start_time": "2022-08-25T21:33:05.602Z"
   },
   {
    "duration": 88,
    "start_time": "2022-08-25T21:33:05.684Z"
   },
   {
    "duration": 80,
    "start_time": "2022-08-25T21:33:05.774Z"
   },
   {
    "duration": 107,
    "start_time": "2022-08-25T21:33:05.856Z"
   },
   {
    "duration": 29,
    "start_time": "2022-08-25T21:33:05.965Z"
   },
   {
    "duration": 66,
    "start_time": "2022-08-25T21:33:05.995Z"
   },
   {
    "duration": 64,
    "start_time": "2022-08-25T21:33:06.062Z"
   },
   {
    "duration": 53,
    "start_time": "2022-08-25T21:33:06.127Z"
   },
   {
    "duration": 3,
    "start_time": "2022-08-25T21:33:06.182Z"
   },
   {
    "duration": 9,
    "start_time": "2022-08-25T21:33:06.186Z"
   },
   {
    "duration": 32,
    "start_time": "2022-08-25T21:33:06.211Z"
   },
   {
    "duration": 6,
    "start_time": "2022-08-25T21:33:06.245Z"
   },
   {
    "duration": 244,
    "start_time": "2022-08-25T21:33:06.253Z"
   },
   {
    "duration": 23,
    "start_time": "2022-08-25T21:33:06.498Z"
   },
   {
    "duration": 12,
    "start_time": "2022-08-25T21:33:06.522Z"
   },
   {
    "duration": 5,
    "start_time": "2022-08-25T21:33:06.536Z"
   },
   {
    "duration": 20,
    "start_time": "2022-08-25T21:33:06.543Z"
   },
   {
    "duration": 9,
    "start_time": "2022-08-25T21:33:06.565Z"
   },
   {
    "duration": 96,
    "start_time": "2022-08-25T21:33:06.576Z"
   },
   {
    "duration": 193,
    "start_time": "2022-08-25T21:33:06.673Z"
   },
   {
    "duration": 10,
    "start_time": "2022-08-25T21:33:06.867Z"
   },
   {
    "duration": 57,
    "start_time": "2022-08-25T21:33:06.879Z"
   },
   {
    "duration": 3,
    "start_time": "2022-08-25T21:33:06.939Z"
   },
   {
    "duration": 135,
    "start_time": "2022-08-25T21:33:06.944Z"
   },
   {
    "duration": 13,
    "start_time": "2022-08-25T21:33:07.080Z"
   },
   {
    "duration": 5,
    "start_time": "2022-08-25T21:33:07.112Z"
   },
   {
    "duration": 151,
    "start_time": "2022-08-25T21:33:07.119Z"
   },
   {
    "duration": 144,
    "start_time": "2022-08-25T21:33:07.271Z"
   },
   {
    "duration": 146,
    "start_time": "2022-08-25T21:33:07.416Z"
   },
   {
    "duration": 14,
    "start_time": "2022-08-25T21:33:07.564Z"
   },
   {
    "duration": 6,
    "start_time": "2022-08-25T21:33:07.580Z"
   },
   {
    "duration": 174,
    "start_time": "2022-08-25T21:33:07.587Z"
   },
   {
    "duration": 153,
    "start_time": "2022-08-25T21:33:07.762Z"
   },
   {
    "duration": 139,
    "start_time": "2022-08-25T21:33:07.917Z"
   },
   {
    "duration": 173,
    "start_time": "2022-08-25T21:33:08.057Z"
   },
   {
    "duration": 57,
    "start_time": "2022-08-26T07:20:57.457Z"
   },
   {
    "duration": 7,
    "start_time": "2022-08-26T07:21:05.704Z"
   },
   {
    "duration": 1421,
    "start_time": "2022-08-26T07:21:18.865Z"
   },
   {
    "duration": 782,
    "start_time": "2022-08-26T07:21:20.288Z"
   },
   {
    "duration": 15,
    "start_time": "2022-08-26T07:21:21.073Z"
   },
   {
    "duration": 84,
    "start_time": "2022-08-26T07:21:21.091Z"
   },
   {
    "duration": 40,
    "start_time": "2022-08-26T07:21:21.177Z"
   },
   {
    "duration": 118,
    "start_time": "2022-08-26T07:21:21.219Z"
   },
   {
    "duration": 98,
    "start_time": "2022-08-26T07:21:21.339Z"
   },
   {
    "duration": 95,
    "start_time": "2022-08-26T07:21:21.439Z"
   },
   {
    "duration": 131,
    "start_time": "2022-08-26T07:21:21.536Z"
   },
   {
    "duration": 37,
    "start_time": "2022-08-26T07:21:21.672Z"
   },
   {
    "duration": 84,
    "start_time": "2022-08-26T07:21:21.712Z"
   },
   {
    "duration": 54,
    "start_time": "2022-08-26T07:21:21.797Z"
   },
   {
    "duration": 72,
    "start_time": "2022-08-26T07:21:21.853Z"
   },
   {
    "duration": 4,
    "start_time": "2022-08-26T07:21:21.927Z"
   },
   {
    "duration": 23,
    "start_time": "2022-08-26T07:21:21.932Z"
   },
   {
    "duration": 70,
    "start_time": "2022-08-26T07:21:21.957Z"
   },
   {
    "duration": 11,
    "start_time": "2022-08-26T07:21:22.029Z"
   },
   {
    "duration": 329,
    "start_time": "2022-08-26T07:21:22.042Z"
   },
   {
    "duration": 22,
    "start_time": "2022-08-26T07:21:22.374Z"
   },
   {
    "duration": 19,
    "start_time": "2022-08-26T07:21:22.398Z"
   },
   {
    "duration": 18,
    "start_time": "2022-08-26T07:21:22.419Z"
   },
   {
    "duration": 53,
    "start_time": "2022-08-26T07:21:22.439Z"
   },
   {
    "duration": 17,
    "start_time": "2022-08-26T07:21:22.493Z"
   },
   {
    "duration": 104,
    "start_time": "2022-08-26T07:21:22.513Z"
   },
   {
    "duration": 225,
    "start_time": "2022-08-26T07:21:22.625Z"
   },
   {
    "duration": 12,
    "start_time": "2022-08-26T07:21:22.852Z"
   },
   {
    "duration": 127,
    "start_time": "2022-08-26T07:21:22.866Z"
   },
   {
    "duration": 5,
    "start_time": "2022-08-26T07:21:22.998Z"
   },
   {
    "duration": 124,
    "start_time": "2022-08-26T07:21:23.005Z"
   },
   {
    "duration": 16,
    "start_time": "2022-08-26T07:21:23.130Z"
   },
   {
    "duration": 30,
    "start_time": "2022-08-26T07:21:23.148Z"
   },
   {
    "duration": 186,
    "start_time": "2022-08-26T07:21:23.181Z"
   },
   {
    "duration": 177,
    "start_time": "2022-08-26T07:21:23.370Z"
   },
   {
    "duration": 186,
    "start_time": "2022-08-26T07:21:23.549Z"
   },
   {
    "duration": 16,
    "start_time": "2022-08-26T07:21:23.736Z"
   },
   {
    "duration": 18,
    "start_time": "2022-08-26T07:21:23.767Z"
   },
   {
    "duration": 226,
    "start_time": "2022-08-26T07:21:23.789Z"
   },
   {
    "duration": 199,
    "start_time": "2022-08-26T07:21:24.017Z"
   },
   {
    "duration": 196,
    "start_time": "2022-08-26T07:21:24.217Z"
   },
   {
    "duration": 209,
    "start_time": "2022-08-26T07:21:24.415Z"
   },
   {
    "duration": 262,
    "start_time": "2022-08-26T07:22:54.559Z"
   },
   {
    "duration": 196,
    "start_time": "2022-08-26T07:29:00.042Z"
   },
   {
    "duration": 375,
    "start_time": "2022-08-26T07:29:13.068Z"
   },
   {
    "duration": 287,
    "start_time": "2022-08-26T07:29:19.429Z"
   },
   {
    "duration": 168,
    "start_time": "2022-08-26T07:30:07.411Z"
   },
   {
    "duration": 347,
    "start_time": "2022-08-26T07:30:18.169Z"
   },
   {
    "duration": 259,
    "start_time": "2022-08-26T07:36:01.693Z"
   },
   {
    "duration": 268,
    "start_time": "2022-08-26T07:36:24.944Z"
   },
   {
    "duration": 11,
    "start_time": "2022-08-26T07:36:55.668Z"
   },
   {
    "duration": 16,
    "start_time": "2022-08-26T07:37:16.913Z"
   },
   {
    "duration": 8,
    "start_time": "2022-08-26T07:37:44.296Z"
   },
   {
    "duration": 10,
    "start_time": "2022-08-26T07:38:19.640Z"
   },
   {
    "duration": 22,
    "start_time": "2022-08-26T07:38:29.120Z"
   },
   {
    "duration": 1635,
    "start_time": "2022-08-26T07:39:01.598Z"
   },
   {
    "duration": 13,
    "start_time": "2022-08-26T07:40:32.262Z"
   },
   {
    "duration": 9,
    "start_time": "2022-08-26T07:41:03.691Z"
   },
   {
    "duration": 86,
    "start_time": "2022-08-26T07:42:21.502Z"
   },
   {
    "duration": 259,
    "start_time": "2022-08-26T07:42:25.611Z"
   },
   {
    "duration": 13,
    "start_time": "2022-08-26T07:43:15.068Z"
   },
   {
    "duration": 15,
    "start_time": "2022-08-26T07:43:20.637Z"
   },
   {
    "duration": 13,
    "start_time": "2022-08-26T07:43:35.116Z"
   },
   {
    "duration": 255,
    "start_time": "2022-08-26T07:44:04.322Z"
   },
   {
    "duration": 78,
    "start_time": "2022-08-26T07:44:39.708Z"
   },
   {
    "duration": 165,
    "start_time": "2022-08-26T07:44:44.927Z"
   },
   {
    "duration": 242,
    "start_time": "2022-08-26T07:45:05.679Z"
   },
   {
    "duration": 557,
    "start_time": "2022-08-26T07:48:54.565Z"
   },
   {
    "duration": 292,
    "start_time": "2022-08-26T07:49:09.341Z"
   },
   {
    "duration": 37,
    "start_time": "2022-08-26T07:50:25.729Z"
   },
   {
    "duration": 96,
    "start_time": "2022-08-26T07:54:37.511Z"
   },
   {
    "duration": 88,
    "start_time": "2022-08-26T07:54:47.815Z"
   },
   {
    "duration": 41,
    "start_time": "2022-08-26T07:55:13.913Z"
   },
   {
    "duration": 42,
    "start_time": "2022-08-26T07:55:33.960Z"
   },
   {
    "duration": 79,
    "start_time": "2022-08-26T07:55:51.864Z"
   },
   {
    "duration": 42,
    "start_time": "2022-08-26T07:57:27.782Z"
   },
   {
    "duration": 47,
    "start_time": "2022-08-26T07:57:51.171Z"
   },
   {
    "duration": 41,
    "start_time": "2022-08-26T07:57:57.120Z"
   },
   {
    "duration": 42,
    "start_time": "2022-08-26T07:59:08.189Z"
   },
   {
    "duration": 42,
    "start_time": "2022-08-26T07:59:20.203Z"
   },
   {
    "duration": 47,
    "start_time": "2022-08-26T07:59:29.041Z"
   },
   {
    "duration": 54,
    "start_time": "2022-08-26T08:02:40.024Z"
   },
   {
    "duration": 91,
    "start_time": "2022-08-26T08:02:44.397Z"
   },
   {
    "duration": 166,
    "start_time": "2022-08-26T08:02:50.327Z"
   },
   {
    "duration": 1238,
    "start_time": "2022-08-26T08:03:18.198Z"
   },
   {
    "duration": 237,
    "start_time": "2022-08-26T08:03:19.438Z"
   },
   {
    "duration": 17,
    "start_time": "2022-08-26T08:03:19.677Z"
   },
   {
    "duration": 95,
    "start_time": "2022-08-26T08:03:19.698Z"
   },
   {
    "duration": 39,
    "start_time": "2022-08-26T08:03:19.798Z"
   },
   {
    "duration": 99,
    "start_time": "2022-08-26T08:03:19.839Z"
   },
   {
    "duration": 117,
    "start_time": "2022-08-26T08:03:19.940Z"
   },
   {
    "duration": 112,
    "start_time": "2022-08-26T08:03:20.060Z"
   },
   {
    "duration": 127,
    "start_time": "2022-08-26T08:03:20.174Z"
   },
   {
    "duration": 32,
    "start_time": "2022-08-26T08:03:20.305Z"
   },
   {
    "duration": 87,
    "start_time": "2022-08-26T08:03:20.339Z"
   },
   {
    "duration": 65,
    "start_time": "2022-08-26T08:03:20.428Z"
   },
   {
    "duration": 53,
    "start_time": "2022-08-26T08:03:20.496Z"
   },
   {
    "duration": 16,
    "start_time": "2022-08-26T08:03:20.551Z"
   },
   {
    "duration": 9,
    "start_time": "2022-08-26T08:03:20.572Z"
   },
   {
    "duration": 50,
    "start_time": "2022-08-26T08:03:20.587Z"
   },
   {
    "duration": 7,
    "start_time": "2022-08-26T08:03:20.639Z"
   },
   {
    "duration": 314,
    "start_time": "2022-08-26T08:03:20.648Z"
   },
   {
    "duration": 30,
    "start_time": "2022-08-26T08:03:20.963Z"
   },
   {
    "duration": 23,
    "start_time": "2022-08-26T08:03:20.997Z"
   },
   {
    "duration": 72,
    "start_time": "2022-08-26T08:03:21.022Z"
   },
   {
    "duration": 92,
    "start_time": "2022-08-26T08:03:21.096Z"
   },
   {
    "duration": 0,
    "start_time": "2022-08-26T08:03:21.192Z"
   },
   {
    "duration": 0,
    "start_time": "2022-08-26T08:03:21.193Z"
   },
   {
    "duration": 0,
    "start_time": "2022-08-26T08:03:21.194Z"
   },
   {
    "duration": 0,
    "start_time": "2022-08-26T08:03:21.195Z"
   },
   {
    "duration": 0,
    "start_time": "2022-08-26T08:03:21.197Z"
   },
   {
    "duration": 0,
    "start_time": "2022-08-26T08:03:21.198Z"
   },
   {
    "duration": 0,
    "start_time": "2022-08-26T08:03:21.200Z"
   },
   {
    "duration": 0,
    "start_time": "2022-08-26T08:03:21.201Z"
   },
   {
    "duration": 0,
    "start_time": "2022-08-26T08:03:21.202Z"
   },
   {
    "duration": 0,
    "start_time": "2022-08-26T08:03:21.203Z"
   },
   {
    "duration": 0,
    "start_time": "2022-08-26T08:03:21.204Z"
   },
   {
    "duration": 0,
    "start_time": "2022-08-26T08:03:21.206Z"
   },
   {
    "duration": 0,
    "start_time": "2022-08-26T08:03:21.207Z"
   },
   {
    "duration": 0,
    "start_time": "2022-08-26T08:03:21.208Z"
   },
   {
    "duration": 0,
    "start_time": "2022-08-26T08:03:21.209Z"
   },
   {
    "duration": 0,
    "start_time": "2022-08-26T08:03:21.210Z"
   },
   {
    "duration": 0,
    "start_time": "2022-08-26T08:03:21.211Z"
   },
   {
    "duration": 0,
    "start_time": "2022-08-26T08:03:21.212Z"
   },
   {
    "duration": 0,
    "start_time": "2022-08-26T08:03:21.213Z"
   },
   {
    "duration": 0,
    "start_time": "2022-08-26T08:03:21.214Z"
   },
   {
    "duration": 133,
    "start_time": "2022-08-26T08:04:45.355Z"
   },
   {
    "duration": 6,
    "start_time": "2022-08-26T08:05:14.342Z"
   },
   {
    "duration": 120,
    "start_time": "2022-08-26T08:05:37.837Z"
   },
   {
    "duration": 5,
    "start_time": "2022-08-26T08:05:44.852Z"
   },
   {
    "duration": 6,
    "start_time": "2022-08-26T08:06:14.289Z"
   },
   {
    "duration": 103,
    "start_time": "2022-08-26T08:06:37.926Z"
   },
   {
    "duration": 6,
    "start_time": "2022-08-26T08:06:40.394Z"
   },
   {
    "duration": 8,
    "start_time": "2022-08-26T08:07:34.242Z"
   },
   {
    "duration": 24,
    "start_time": "2022-08-26T08:11:20.721Z"
   },
   {
    "duration": 71,
    "start_time": "2022-08-26T08:12:41.603Z"
   },
   {
    "duration": 26,
    "start_time": "2022-08-26T08:18:25.286Z"
   },
   {
    "duration": 25,
    "start_time": "2022-08-26T08:18:44.774Z"
   },
   {
    "duration": 22,
    "start_time": "2022-08-26T08:19:56.498Z"
   },
   {
    "duration": 1268,
    "start_time": "2022-08-26T08:20:49.387Z"
   },
   {
    "duration": 219,
    "start_time": "2022-08-26T08:20:50.657Z"
   },
   {
    "duration": 15,
    "start_time": "2022-08-26T08:20:50.880Z"
   },
   {
    "duration": 92,
    "start_time": "2022-08-26T08:20:50.897Z"
   },
   {
    "duration": 37,
    "start_time": "2022-08-26T08:20:50.994Z"
   },
   {
    "duration": 96,
    "start_time": "2022-08-26T08:20:51.033Z"
   },
   {
    "duration": 101,
    "start_time": "2022-08-26T08:20:51.130Z"
   },
   {
    "duration": 91,
    "start_time": "2022-08-26T08:20:51.233Z"
   },
   {
    "duration": 117,
    "start_time": "2022-08-26T08:20:51.326Z"
   },
   {
    "duration": 50,
    "start_time": "2022-08-26T08:20:51.445Z"
   },
   {
    "duration": 92,
    "start_time": "2022-08-26T08:20:51.501Z"
   },
   {
    "duration": 59,
    "start_time": "2022-08-26T08:20:51.596Z"
   },
   {
    "duration": 71,
    "start_time": "2022-08-26T08:20:51.656Z"
   },
   {
    "duration": 3,
    "start_time": "2022-08-26T08:20:51.730Z"
   },
   {
    "duration": 31,
    "start_time": "2022-08-26T08:20:51.735Z"
   },
   {
    "duration": 70,
    "start_time": "2022-08-26T08:20:51.768Z"
   },
   {
    "duration": 8,
    "start_time": "2022-08-26T08:20:51.840Z"
   },
   {
    "duration": 351,
    "start_time": "2022-08-26T08:20:51.850Z"
   },
   {
    "duration": 17,
    "start_time": "2022-08-26T08:20:52.203Z"
   },
   {
    "duration": 15,
    "start_time": "2022-08-26T08:20:52.221Z"
   },
   {
    "duration": 81,
    "start_time": "2022-08-26T08:20:52.237Z"
   },
   {
    "duration": 5,
    "start_time": "2022-08-26T08:20:52.320Z"
   },
   {
    "duration": 43,
    "start_time": "2022-08-26T08:20:52.327Z"
   },
   {
    "duration": 27,
    "start_time": "2022-08-26T08:20:52.379Z"
   },
   {
    "duration": 17,
    "start_time": "2022-08-26T08:20:52.407Z"
   },
   {
    "duration": 72,
    "start_time": "2022-08-26T08:20:52.426Z"
   },
   {
    "duration": 198,
    "start_time": "2022-08-26T08:20:52.500Z"
   },
   {
    "duration": 24,
    "start_time": "2022-08-26T08:20:52.699Z"
   },
   {
    "duration": 69,
    "start_time": "2022-08-26T08:20:52.725Z"
   },
   {
    "duration": 4,
    "start_time": "2022-08-26T08:20:52.797Z"
   },
   {
    "duration": 127,
    "start_time": "2022-08-26T08:20:52.802Z"
   },
   {
    "duration": 11,
    "start_time": "2022-08-26T08:20:52.931Z"
   },
   {
    "duration": 6,
    "start_time": "2022-08-26T08:20:52.944Z"
   },
   {
    "duration": 177,
    "start_time": "2022-08-26T08:20:52.978Z"
   },
   {
    "duration": 186,
    "start_time": "2022-08-26T08:20:53.157Z"
   },
   {
    "duration": 178,
    "start_time": "2022-08-26T08:20:53.345Z"
   },
   {
    "duration": 18,
    "start_time": "2022-08-26T08:20:53.525Z"
   },
   {
    "duration": 28,
    "start_time": "2022-08-26T08:20:53.545Z"
   },
   {
    "duration": 239,
    "start_time": "2022-08-26T08:20:53.575Z"
   },
   {
    "duration": 185,
    "start_time": "2022-08-26T08:20:53.816Z"
   },
   {
    "duration": 189,
    "start_time": "2022-08-26T08:20:54.005Z"
   },
   {
    "duration": 199,
    "start_time": "2022-08-26T08:20:54.198Z"
   },
   {
    "duration": 72,
    "start_time": "2022-08-26T08:23:49.646Z"
   },
   {
    "duration": 5,
    "start_time": "2022-08-26T08:24:25.845Z"
   },
   {
    "duration": 9,
    "start_time": "2022-08-26T08:27:18.464Z"
   },
   {
    "duration": 119,
    "start_time": "2022-08-26T08:28:57.983Z"
   },
   {
    "duration": 1586,
    "start_time": "2022-08-26T08:29:11.221Z"
   },
   {
    "duration": 1632,
    "start_time": "2022-08-26T08:29:13.358Z"
   },
   {
    "duration": 8,
    "start_time": "2022-08-26T08:29:21.017Z"
   },
   {
    "duration": 12,
    "start_time": "2022-08-26T08:30:25.902Z"
   },
   {
    "duration": 78,
    "start_time": "2022-08-26T08:30:57.719Z"
   },
   {
    "duration": 8,
    "start_time": "2022-08-26T08:31:12.307Z"
   },
   {
    "duration": 14,
    "start_time": "2022-08-26T08:34:22.694Z"
   },
   {
    "duration": 12,
    "start_time": "2022-08-26T08:35:08.933Z"
   },
   {
    "duration": 13,
    "start_time": "2022-08-26T08:35:26.650Z"
   },
   {
    "duration": 1282,
    "start_time": "2022-08-26T08:35:38.802Z"
   },
   {
    "duration": 315,
    "start_time": "2022-08-26T08:35:40.089Z"
   },
   {
    "duration": 16,
    "start_time": "2022-08-26T08:35:40.406Z"
   },
   {
    "duration": 119,
    "start_time": "2022-08-26T08:35:40.423Z"
   },
   {
    "duration": 45,
    "start_time": "2022-08-26T08:35:40.545Z"
   },
   {
    "duration": 99,
    "start_time": "2022-08-26T08:35:40.596Z"
   },
   {
    "duration": 91,
    "start_time": "2022-08-26T08:35:40.697Z"
   },
   {
    "duration": 100,
    "start_time": "2022-08-26T08:35:40.790Z"
   },
   {
    "duration": 115,
    "start_time": "2022-08-26T08:35:40.899Z"
   },
   {
    "duration": 29,
    "start_time": "2022-08-26T08:35:41.016Z"
   },
   {
    "duration": 81,
    "start_time": "2022-08-26T08:35:41.046Z"
   },
   {
    "duration": 72,
    "start_time": "2022-08-26T08:35:41.129Z"
   },
   {
    "duration": 81,
    "start_time": "2022-08-26T08:35:41.203Z"
   },
   {
    "duration": 4,
    "start_time": "2022-08-26T08:35:41.295Z"
   },
   {
    "duration": 16,
    "start_time": "2022-08-26T08:35:41.301Z"
   },
   {
    "duration": 39,
    "start_time": "2022-08-26T08:35:41.319Z"
   },
   {
    "duration": 17,
    "start_time": "2022-08-26T08:35:41.360Z"
   },
   {
    "duration": 341,
    "start_time": "2022-08-26T08:35:41.379Z"
   },
   {
    "duration": 17,
    "start_time": "2022-08-26T08:35:41.722Z"
   },
   {
    "duration": 28,
    "start_time": "2022-08-26T08:35:41.741Z"
   },
   {
    "duration": 69,
    "start_time": "2022-08-26T08:35:41.776Z"
   },
   {
    "duration": 7,
    "start_time": "2022-08-26T08:35:41.848Z"
   },
   {
    "duration": 49,
    "start_time": "2022-08-26T08:35:41.857Z"
   },
   {
    "duration": 9,
    "start_time": "2022-08-26T08:35:41.908Z"
   },
   {
    "duration": 27,
    "start_time": "2022-08-26T08:35:41.919Z"
   },
   {
    "duration": 90,
    "start_time": "2022-08-26T08:35:41.948Z"
   },
   {
    "duration": 173,
    "start_time": "2022-08-26T08:35:42.040Z"
   },
   {
    "duration": 14,
    "start_time": "2022-08-26T08:35:42.215Z"
   },
   {
    "duration": 15,
    "start_time": "2022-08-26T08:35:42.230Z"
   },
   {
    "duration": 141,
    "start_time": "2022-08-26T08:35:42.246Z"
   },
   {
    "duration": 5,
    "start_time": "2022-08-26T08:35:42.389Z"
   },
   {
    "duration": 120,
    "start_time": "2022-08-26T08:35:42.397Z"
   },
   {
    "duration": 13,
    "start_time": "2022-08-26T08:35:42.519Z"
   },
   {
    "duration": 6,
    "start_time": "2022-08-26T08:35:42.534Z"
   },
   {
    "duration": 213,
    "start_time": "2022-08-26T08:35:42.542Z"
   },
   {
    "duration": 220,
    "start_time": "2022-08-26T08:35:42.757Z"
   },
   {
    "duration": 190,
    "start_time": "2022-08-26T08:35:42.981Z"
   },
   {
    "duration": 22,
    "start_time": "2022-08-26T08:35:43.173Z"
   },
   {
    "duration": 21,
    "start_time": "2022-08-26T08:35:43.197Z"
   },
   {
    "duration": 219,
    "start_time": "2022-08-26T08:35:43.220Z"
   },
   {
    "duration": 200,
    "start_time": "2022-08-26T08:35:43.442Z"
   },
   {
    "duration": 214,
    "start_time": "2022-08-26T08:35:43.644Z"
   },
   {
    "duration": 229,
    "start_time": "2022-08-26T08:35:43.860Z"
   },
   {
    "duration": 17,
    "start_time": "2022-08-26T08:37:44.798Z"
   },
   {
    "duration": 19,
    "start_time": "2022-08-26T08:37:48.530Z"
   },
   {
    "duration": 5,
    "start_time": "2022-08-26T08:38:01.502Z"
   },
   {
    "duration": 11,
    "start_time": "2022-08-26T08:38:10.111Z"
   },
   {
    "duration": 10,
    "start_time": "2022-08-26T08:38:17.144Z"
   },
   {
    "duration": 14,
    "start_time": "2022-08-26T08:38:47.169Z"
   },
   {
    "duration": 14,
    "start_time": "2022-08-26T08:39:56.109Z"
   },
   {
    "duration": 11,
    "start_time": "2022-08-26T08:40:31.817Z"
   },
   {
    "duration": 9,
    "start_time": "2022-08-26T08:40:32.603Z"
   },
   {
    "duration": 15,
    "start_time": "2022-08-26T08:40:36.524Z"
   },
   {
    "duration": 1266,
    "start_time": "2022-08-26T08:42:26.657Z"
   },
   {
    "duration": 236,
    "start_time": "2022-08-26T08:42:27.925Z"
   },
   {
    "duration": 24,
    "start_time": "2022-08-26T08:42:28.162Z"
   },
   {
    "duration": 150,
    "start_time": "2022-08-26T08:42:28.189Z"
   },
   {
    "duration": 55,
    "start_time": "2022-08-26T08:42:28.341Z"
   },
   {
    "duration": 114,
    "start_time": "2022-08-26T08:42:28.398Z"
   },
   {
    "duration": 115,
    "start_time": "2022-08-26T08:42:28.514Z"
   },
   {
    "duration": 108,
    "start_time": "2022-08-26T08:42:28.631Z"
   },
   {
    "duration": 138,
    "start_time": "2022-08-26T08:42:28.740Z"
   },
   {
    "duration": 47,
    "start_time": "2022-08-26T08:42:28.882Z"
   },
   {
    "duration": 115,
    "start_time": "2022-08-26T08:42:28.931Z"
   },
   {
    "duration": 69,
    "start_time": "2022-08-26T08:42:29.048Z"
   },
   {
    "duration": 67,
    "start_time": "2022-08-26T08:42:29.119Z"
   },
   {
    "duration": 6,
    "start_time": "2022-08-26T08:42:29.188Z"
   },
   {
    "duration": 25,
    "start_time": "2022-08-26T08:42:29.196Z"
   },
   {
    "duration": 39,
    "start_time": "2022-08-26T08:42:29.222Z"
   },
   {
    "duration": 22,
    "start_time": "2022-08-26T08:42:29.263Z"
   },
   {
    "duration": 482,
    "start_time": "2022-08-26T08:42:29.294Z"
   },
   {
    "duration": 22,
    "start_time": "2022-08-26T08:42:29.780Z"
   },
   {
    "duration": 19,
    "start_time": "2022-08-26T08:42:29.806Z"
   },
   {
    "duration": 75,
    "start_time": "2022-08-26T08:42:29.827Z"
   },
   {
    "duration": 10,
    "start_time": "2022-08-26T08:42:29.904Z"
   },
   {
    "duration": 61,
    "start_time": "2022-08-26T08:42:29.916Z"
   },
   {
    "duration": 57,
    "start_time": "2022-08-26T08:42:29.979Z"
   },
   {
    "duration": 49,
    "start_time": "2022-08-26T08:42:30.038Z"
   },
   {
    "duration": 108,
    "start_time": "2022-08-26T08:42:30.088Z"
   },
   {
    "duration": 11,
    "start_time": "2022-08-26T08:42:30.201Z"
   },
   {
    "duration": 190,
    "start_time": "2022-08-26T08:42:30.216Z"
   },
   {
    "duration": 12,
    "start_time": "2022-08-26T08:42:30.409Z"
   },
   {
    "duration": 91,
    "start_time": "2022-08-26T08:42:30.423Z"
   },
   {
    "duration": 3,
    "start_time": "2022-08-26T08:42:30.516Z"
   },
   {
    "duration": 141,
    "start_time": "2022-08-26T08:42:30.520Z"
   },
   {
    "duration": 29,
    "start_time": "2022-08-26T08:42:30.662Z"
   },
   {
    "duration": 17,
    "start_time": "2022-08-26T08:42:30.696Z"
   },
   {
    "duration": 217,
    "start_time": "2022-08-26T08:42:30.715Z"
   },
   {
    "duration": 218,
    "start_time": "2022-08-26T08:42:30.934Z"
   },
   {
    "duration": 196,
    "start_time": "2022-08-26T08:42:31.153Z"
   },
   {
    "duration": 37,
    "start_time": "2022-08-26T08:42:31.350Z"
   },
   {
    "duration": 9,
    "start_time": "2022-08-26T08:42:31.389Z"
   },
   {
    "duration": 257,
    "start_time": "2022-08-26T08:42:31.399Z"
   },
   {
    "duration": 198,
    "start_time": "2022-08-26T08:42:31.657Z"
   },
   {
    "duration": 208,
    "start_time": "2022-08-26T08:42:31.856Z"
   },
   {
    "duration": 222,
    "start_time": "2022-08-26T08:42:32.066Z"
   },
   {
    "duration": 19,
    "start_time": "2022-08-26T08:43:35.483Z"
   },
   {
    "duration": 19,
    "start_time": "2022-08-26T08:43:41.357Z"
   },
   {
    "duration": 13,
    "start_time": "2022-08-26T08:44:01.146Z"
   },
   {
    "duration": 1262,
    "start_time": "2022-08-26T08:44:07.386Z"
   },
   {
    "duration": 240,
    "start_time": "2022-08-26T08:44:08.650Z"
   },
   {
    "duration": 21,
    "start_time": "2022-08-26T08:44:08.891Z"
   },
   {
    "duration": 102,
    "start_time": "2022-08-26T08:44:08.914Z"
   },
   {
    "duration": 37,
    "start_time": "2022-08-26T08:44:09.018Z"
   },
   {
    "duration": 105,
    "start_time": "2022-08-26T08:44:09.056Z"
   },
   {
    "duration": 94,
    "start_time": "2022-08-26T08:44:09.170Z"
   },
   {
    "duration": 89,
    "start_time": "2022-08-26T08:44:09.268Z"
   },
   {
    "duration": 140,
    "start_time": "2022-08-26T08:44:09.358Z"
   },
   {
    "duration": 39,
    "start_time": "2022-08-26T08:44:09.500Z"
   },
   {
    "duration": 79,
    "start_time": "2022-08-26T08:44:09.541Z"
   },
   {
    "duration": 67,
    "start_time": "2022-08-26T08:44:09.622Z"
   },
   {
    "duration": 63,
    "start_time": "2022-08-26T08:44:09.692Z"
   },
   {
    "duration": 3,
    "start_time": "2022-08-26T08:44:09.758Z"
   },
   {
    "duration": 10,
    "start_time": "2022-08-26T08:44:09.767Z"
   },
   {
    "duration": 66,
    "start_time": "2022-08-26T08:44:09.779Z"
   },
   {
    "duration": 7,
    "start_time": "2022-08-26T08:44:09.847Z"
   },
   {
    "duration": 305,
    "start_time": "2022-08-26T08:44:09.856Z"
   },
   {
    "duration": 20,
    "start_time": "2022-08-26T08:44:10.167Z"
   },
   {
    "duration": 42,
    "start_time": "2022-08-26T08:44:10.190Z"
   },
   {
    "duration": 58,
    "start_time": "2022-08-26T08:44:10.233Z"
   },
   {
    "duration": 10,
    "start_time": "2022-08-26T08:44:10.293Z"
   },
   {
    "duration": 45,
    "start_time": "2022-08-26T08:44:10.306Z"
   },
   {
    "duration": 10,
    "start_time": "2022-08-26T08:44:10.354Z"
   },
   {
    "duration": 28,
    "start_time": "2022-08-26T08:44:10.365Z"
   },
   {
    "duration": 113,
    "start_time": "2022-08-26T08:44:10.397Z"
   },
   {
    "duration": 11,
    "start_time": "2022-08-26T08:44:10.511Z"
   },
   {
    "duration": 183,
    "start_time": "2022-08-26T08:44:10.524Z"
   },
   {
    "duration": 11,
    "start_time": "2022-08-26T08:44:10.709Z"
   },
   {
    "duration": 60,
    "start_time": "2022-08-26T08:44:10.722Z"
   },
   {
    "duration": 11,
    "start_time": "2022-08-26T08:44:10.783Z"
   },
   {
    "duration": 134,
    "start_time": "2022-08-26T08:44:10.796Z"
   },
   {
    "duration": 13,
    "start_time": "2022-08-26T08:44:10.931Z"
   },
   {
    "duration": 7,
    "start_time": "2022-08-26T08:44:10.945Z"
   },
   {
    "duration": 228,
    "start_time": "2022-08-26T08:44:10.953Z"
   },
   {
    "duration": 176,
    "start_time": "2022-08-26T08:44:11.188Z"
   },
   {
    "duration": 198,
    "start_time": "2022-08-26T08:44:11.366Z"
   },
   {
    "duration": 25,
    "start_time": "2022-08-26T08:44:11.567Z"
   },
   {
    "duration": 26,
    "start_time": "2022-08-26T08:44:11.598Z"
   },
   {
    "duration": 218,
    "start_time": "2022-08-26T08:44:11.626Z"
   },
   {
    "duration": 199,
    "start_time": "2022-08-26T08:44:11.847Z"
   },
   {
    "duration": 202,
    "start_time": "2022-08-26T08:44:12.048Z"
   },
   {
    "duration": 217,
    "start_time": "2022-08-26T08:44:12.251Z"
   },
   {
    "duration": 24,
    "start_time": "2022-08-26T08:44:58.891Z"
   },
   {
    "duration": 14,
    "start_time": "2022-08-26T08:45:07.908Z"
   },
   {
    "duration": 11,
    "start_time": "2022-08-26T08:45:33.830Z"
   },
   {
    "duration": 9,
    "start_time": "2022-08-26T08:45:41.434Z"
   },
   {
    "duration": 1223,
    "start_time": "2022-08-26T08:45:49.249Z"
   },
   {
    "duration": 242,
    "start_time": "2022-08-26T08:45:50.479Z"
   },
   {
    "duration": 12,
    "start_time": "2022-08-26T08:45:50.722Z"
   },
   {
    "duration": 110,
    "start_time": "2022-08-26T08:45:50.737Z"
   },
   {
    "duration": 67,
    "start_time": "2022-08-26T08:45:50.849Z"
   },
   {
    "duration": 112,
    "start_time": "2022-08-26T08:45:50.919Z"
   },
   {
    "duration": 121,
    "start_time": "2022-08-26T08:45:51.033Z"
   },
   {
    "duration": 126,
    "start_time": "2022-08-26T08:45:51.157Z"
   },
   {
    "duration": 127,
    "start_time": "2022-08-26T08:45:51.292Z"
   },
   {
    "duration": 31,
    "start_time": "2022-08-26T08:45:51.422Z"
   },
   {
    "duration": 119,
    "start_time": "2022-08-26T08:45:51.454Z"
   },
   {
    "duration": 74,
    "start_time": "2022-08-26T08:45:51.575Z"
   },
   {
    "duration": 81,
    "start_time": "2022-08-26T08:45:51.650Z"
   },
   {
    "duration": 3,
    "start_time": "2022-08-26T08:45:51.733Z"
   },
   {
    "duration": 28,
    "start_time": "2022-08-26T08:45:51.737Z"
   },
   {
    "duration": 108,
    "start_time": "2022-08-26T08:45:51.767Z"
   },
   {
    "duration": 16,
    "start_time": "2022-08-26T08:45:51.880Z"
   },
   {
    "duration": 440,
    "start_time": "2022-08-26T08:45:51.905Z"
   },
   {
    "duration": 40,
    "start_time": "2022-08-26T08:45:52.347Z"
   },
   {
    "duration": 22,
    "start_time": "2022-08-26T08:45:52.392Z"
   },
   {
    "duration": 78,
    "start_time": "2022-08-26T08:45:52.416Z"
   },
   {
    "duration": 10,
    "start_time": "2022-08-26T08:45:52.496Z"
   },
   {
    "duration": 55,
    "start_time": "2022-08-26T08:45:52.508Z"
   },
   {
    "duration": 52,
    "start_time": "2022-08-26T08:45:52.564Z"
   },
   {
    "duration": 42,
    "start_time": "2022-08-26T08:45:52.617Z"
   },
   {
    "duration": 84,
    "start_time": "2022-08-26T08:45:52.661Z"
   },
   {
    "duration": 10,
    "start_time": "2022-08-26T08:45:52.746Z"
   },
   {
    "duration": 212,
    "start_time": "2022-08-26T08:45:52.768Z"
   },
   {
    "duration": 14,
    "start_time": "2022-08-26T08:45:52.981Z"
   },
   {
    "duration": 101,
    "start_time": "2022-08-26T08:45:52.997Z"
   },
   {
    "duration": 5,
    "start_time": "2022-08-26T08:45:53.101Z"
   },
   {
    "duration": 138,
    "start_time": "2022-08-26T08:45:53.108Z"
   },
   {
    "duration": 35,
    "start_time": "2022-08-26T08:45:53.248Z"
   },
   {
    "duration": 38,
    "start_time": "2022-08-26T08:45:53.287Z"
   },
   {
    "duration": 258,
    "start_time": "2022-08-26T08:45:53.328Z"
   },
   {
    "duration": 213,
    "start_time": "2022-08-26T08:45:53.591Z"
   },
   {
    "duration": 201,
    "start_time": "2022-08-26T08:45:53.809Z"
   },
   {
    "duration": 19,
    "start_time": "2022-08-26T08:45:54.012Z"
   },
   {
    "duration": 7,
    "start_time": "2022-08-26T08:45:54.033Z"
   },
   {
    "duration": 238,
    "start_time": "2022-08-26T08:45:54.041Z"
   },
   {
    "duration": 209,
    "start_time": "2022-08-26T08:45:54.282Z"
   },
   {
    "duration": 208,
    "start_time": "2022-08-26T08:45:54.492Z"
   },
   {
    "duration": 230,
    "start_time": "2022-08-26T08:45:54.703Z"
   },
   {
    "duration": 13,
    "start_time": "2022-08-26T08:46:32.195Z"
   },
   {
    "duration": 129,
    "start_time": "2022-08-26T08:47:29.325Z"
   },
   {
    "duration": 16,
    "start_time": "2022-08-26T08:47:42.633Z"
   },
   {
    "duration": 19,
    "start_time": "2022-08-26T08:47:52.231Z"
   },
   {
    "duration": 12,
    "start_time": "2022-08-26T08:48:08.141Z"
   },
   {
    "duration": 1359,
    "start_time": "2022-08-26T08:48:28.848Z"
   },
   {
    "duration": 371,
    "start_time": "2022-08-26T08:48:30.209Z"
   },
   {
    "duration": 16,
    "start_time": "2022-08-26T08:48:30.582Z"
   },
   {
    "duration": 310,
    "start_time": "2022-08-26T08:48:30.600Z"
   },
   {
    "duration": 168,
    "start_time": "2022-08-26T08:48:30.913Z"
   },
   {
    "duration": 139,
    "start_time": "2022-08-26T08:48:31.083Z"
   },
   {
    "duration": 151,
    "start_time": "2022-08-26T08:48:31.224Z"
   },
   {
    "duration": 216,
    "start_time": "2022-08-26T08:48:31.378Z"
   },
   {
    "duration": 165,
    "start_time": "2022-08-26T08:48:31.597Z"
   },
   {
    "duration": 60,
    "start_time": "2022-08-26T08:48:31.764Z"
   },
   {
    "duration": 119,
    "start_time": "2022-08-26T08:48:31.826Z"
   },
   {
    "duration": 81,
    "start_time": "2022-08-26T08:48:31.947Z"
   },
   {
    "duration": 115,
    "start_time": "2022-08-26T08:48:32.030Z"
   },
   {
    "duration": 6,
    "start_time": "2022-08-26T08:48:32.148Z"
   },
   {
    "duration": 69,
    "start_time": "2022-08-26T08:48:32.156Z"
   },
   {
    "duration": 76,
    "start_time": "2022-08-26T08:48:32.226Z"
   },
   {
    "duration": 15,
    "start_time": "2022-08-26T08:48:32.304Z"
   },
   {
    "duration": 356,
    "start_time": "2022-08-26T08:48:32.321Z"
   },
   {
    "duration": 20,
    "start_time": "2022-08-26T08:48:32.679Z"
   },
   {
    "duration": 42,
    "start_time": "2022-08-26T08:48:32.701Z"
   },
   {
    "duration": 61,
    "start_time": "2022-08-26T08:48:32.746Z"
   },
   {
    "duration": 6,
    "start_time": "2022-08-26T08:48:32.809Z"
   },
   {
    "duration": 37,
    "start_time": "2022-08-26T08:48:32.816Z"
   },
   {
    "duration": 66,
    "start_time": "2022-08-26T08:48:32.854Z"
   },
   {
    "duration": 20,
    "start_time": "2022-08-26T08:48:32.922Z"
   },
   {
    "duration": 107,
    "start_time": "2022-08-26T08:48:32.944Z"
   },
   {
    "duration": 10,
    "start_time": "2022-08-26T08:48:33.053Z"
   },
   {
    "duration": 244,
    "start_time": "2022-08-26T08:48:33.065Z"
   },
   {
    "duration": 13,
    "start_time": "2022-08-26T08:48:33.310Z"
   },
   {
    "duration": 105,
    "start_time": "2022-08-26T08:48:33.324Z"
   },
   {
    "duration": 3,
    "start_time": "2022-08-26T08:48:33.431Z"
   },
   {
    "duration": 124,
    "start_time": "2022-08-26T08:48:33.436Z"
   },
   {
    "duration": 20,
    "start_time": "2022-08-26T08:48:33.561Z"
   },
   {
    "duration": 40,
    "start_time": "2022-08-26T08:48:33.582Z"
   },
   {
    "duration": 199,
    "start_time": "2022-08-26T08:48:33.624Z"
   },
   {
    "duration": 222,
    "start_time": "2022-08-26T08:48:33.825Z"
   },
   {
    "duration": 205,
    "start_time": "2022-08-26T08:48:34.048Z"
   },
   {
    "duration": 30,
    "start_time": "2022-08-26T08:48:34.255Z"
   },
   {
    "duration": 12,
    "start_time": "2022-08-26T08:48:34.287Z"
   },
   {
    "duration": 248,
    "start_time": "2022-08-26T08:48:34.302Z"
   },
   {
    "duration": 207,
    "start_time": "2022-08-26T08:48:34.554Z"
   },
   {
    "duration": 218,
    "start_time": "2022-08-26T08:48:34.763Z"
   },
   {
    "duration": 244,
    "start_time": "2022-08-26T08:48:34.988Z"
   },
   {
    "duration": 28,
    "start_time": "2022-08-26T08:49:26.470Z"
   },
   {
    "duration": 163,
    "start_time": "2022-08-26T08:49:40.698Z"
   },
   {
    "duration": 19,
    "start_time": "2022-08-26T08:49:53.690Z"
   },
   {
    "duration": 1114,
    "start_time": "2022-08-26T21:59:04.149Z"
   },
   {
    "duration": 211,
    "start_time": "2022-08-26T21:59:05.265Z"
   },
   {
    "duration": 14,
    "start_time": "2022-08-26T21:59:05.478Z"
   },
   {
    "duration": 94,
    "start_time": "2022-08-26T21:59:05.494Z"
   },
   {
    "duration": 41,
    "start_time": "2022-08-26T21:59:05.589Z"
   },
   {
    "duration": 104,
    "start_time": "2022-08-26T21:59:05.631Z"
   },
   {
    "duration": 100,
    "start_time": "2022-08-26T21:59:05.736Z"
   },
   {
    "duration": 87,
    "start_time": "2022-08-26T21:59:05.838Z"
   },
   {
    "duration": 120,
    "start_time": "2022-08-26T21:59:05.927Z"
   },
   {
    "duration": 41,
    "start_time": "2022-08-26T21:59:06.049Z"
   },
   {
    "duration": 66,
    "start_time": "2022-08-26T21:59:06.092Z"
   },
   {
    "duration": 74,
    "start_time": "2022-08-26T21:59:06.160Z"
   },
   {
    "duration": 84,
    "start_time": "2022-08-26T21:59:06.236Z"
   },
   {
    "duration": 4,
    "start_time": "2022-08-26T21:59:06.322Z"
   },
   {
    "duration": 18,
    "start_time": "2022-08-26T21:59:06.328Z"
   },
   {
    "duration": 74,
    "start_time": "2022-08-26T21:59:06.348Z"
   },
   {
    "duration": 10,
    "start_time": "2022-08-26T21:59:06.424Z"
   },
   {
    "duration": 285,
    "start_time": "2022-08-26T21:59:06.436Z"
   },
   {
    "duration": 17,
    "start_time": "2022-08-26T21:59:06.723Z"
   },
   {
    "duration": 15,
    "start_time": "2022-08-26T21:59:06.742Z"
   },
   {
    "duration": 73,
    "start_time": "2022-08-26T21:59:06.758Z"
   },
   {
    "duration": 5,
    "start_time": "2022-08-26T21:59:06.833Z"
   },
   {
    "duration": 33,
    "start_time": "2022-08-26T21:59:06.840Z"
   },
   {
    "duration": 14,
    "start_time": "2022-08-26T21:59:06.875Z"
   },
   {
    "duration": 22,
    "start_time": "2022-08-26T21:59:06.891Z"
   },
   {
    "duration": 83,
    "start_time": "2022-08-26T21:59:06.915Z"
   },
   {
    "duration": 11,
    "start_time": "2022-08-26T21:59:06.999Z"
   },
   {
    "duration": 209,
    "start_time": "2022-08-26T21:59:07.014Z"
   },
   {
    "duration": 14,
    "start_time": "2022-08-26T21:59:07.225Z"
   },
   {
    "duration": 10,
    "start_time": "2022-08-26T21:59:07.241Z"
   },
   {
    "duration": 41,
    "start_time": "2022-08-26T21:59:07.253Z"
   },
   {
    "duration": 99,
    "start_time": "2022-08-26T21:59:07.296Z"
   },
   {
    "duration": 4,
    "start_time": "2022-08-26T21:59:07.396Z"
   },
   {
    "duration": 42,
    "start_time": "2022-08-26T21:59:07.402Z"
   },
   {
    "duration": 115,
    "start_time": "2022-08-26T21:59:07.446Z"
   },
   {
    "duration": 25,
    "start_time": "2022-08-26T21:59:07.562Z"
   },
   {
    "duration": 13,
    "start_time": "2022-08-26T21:59:07.589Z"
   },
   {
    "duration": 197,
    "start_time": "2022-08-26T21:59:07.605Z"
   },
   {
    "duration": 184,
    "start_time": "2022-08-26T21:59:07.804Z"
   },
   {
    "duration": 186,
    "start_time": "2022-08-26T21:59:07.990Z"
   },
   {
    "duration": 19,
    "start_time": "2022-08-26T21:59:08.186Z"
   },
   {
    "duration": 7,
    "start_time": "2022-08-26T21:59:08.206Z"
   },
   {
    "duration": 293,
    "start_time": "2022-08-26T21:59:08.215Z"
   },
   {
    "duration": 389,
    "start_time": "2022-08-26T21:59:08.509Z"
   },
   {
    "duration": 420,
    "start_time": "2022-08-26T21:59:08.900Z"
   },
   {
    "duration": 569,
    "start_time": "2022-08-26T21:59:09.322Z"
   },
   {
    "duration": 116,
    "start_time": "2022-08-26T21:59:15.084Z"
   },
   {
    "duration": 6,
    "start_time": "2022-08-26T21:59:20.297Z"
   },
   {
    "duration": 4,
    "start_time": "2022-08-26T21:59:30.530Z"
   },
   {
    "duration": 6,
    "start_time": "2022-08-26T21:59:42.818Z"
   },
   {
    "duration": 6,
    "start_time": "2022-08-26T21:59:57.841Z"
   },
   {
    "duration": 1070,
    "start_time": "2022-08-26T22:13:22.748Z"
   },
   {
    "duration": 220,
    "start_time": "2022-08-26T22:13:23.820Z"
   },
   {
    "duration": 14,
    "start_time": "2022-08-26T22:13:24.042Z"
   },
   {
    "duration": 91,
    "start_time": "2022-08-26T22:13:24.058Z"
   },
   {
    "duration": 48,
    "start_time": "2022-08-26T22:13:24.151Z"
   },
   {
    "duration": 89,
    "start_time": "2022-08-26T22:13:24.200Z"
   },
   {
    "duration": 83,
    "start_time": "2022-08-26T22:13:24.290Z"
   },
   {
    "duration": 86,
    "start_time": "2022-08-26T22:13:24.374Z"
   },
   {
    "duration": 116,
    "start_time": "2022-08-26T22:13:24.462Z"
   },
   {
    "duration": 31,
    "start_time": "2022-08-26T22:13:24.586Z"
   },
   {
    "duration": 69,
    "start_time": "2022-08-26T22:13:24.618Z"
   },
   {
    "duration": 53,
    "start_time": "2022-08-26T22:13:24.689Z"
   },
   {
    "duration": 73,
    "start_time": "2022-08-26T22:13:24.744Z"
   },
   {
    "duration": 4,
    "start_time": "2022-08-26T22:13:24.819Z"
   },
   {
    "duration": 24,
    "start_time": "2022-08-26T22:13:24.824Z"
   },
   {
    "duration": 39,
    "start_time": "2022-08-26T22:13:24.850Z"
   },
   {
    "duration": 7,
    "start_time": "2022-08-26T22:13:24.891Z"
   },
   {
    "duration": 256,
    "start_time": "2022-08-26T22:13:24.899Z"
   },
   {
    "duration": 16,
    "start_time": "2022-08-26T22:13:25.156Z"
   },
   {
    "duration": 24,
    "start_time": "2022-08-26T22:13:25.174Z"
   },
   {
    "duration": 49,
    "start_time": "2022-08-26T22:13:25.199Z"
   },
   {
    "duration": 5,
    "start_time": "2022-08-26T22:13:25.250Z"
   },
   {
    "duration": 46,
    "start_time": "2022-08-26T22:13:25.256Z"
   },
   {
    "duration": 40,
    "start_time": "2022-08-26T22:13:25.304Z"
   },
   {
    "duration": 42,
    "start_time": "2022-08-26T22:13:25.346Z"
   },
   {
    "duration": 64,
    "start_time": "2022-08-26T22:13:25.390Z"
   },
   {
    "duration": 9,
    "start_time": "2022-08-26T22:13:25.455Z"
   },
   {
    "duration": 215,
    "start_time": "2022-08-26T22:13:25.467Z"
   },
   {
    "duration": 15,
    "start_time": "2022-08-26T22:13:25.684Z"
   },
   {
    "duration": 5,
    "start_time": "2022-08-26T22:13:25.701Z"
   },
   {
    "duration": 14,
    "start_time": "2022-08-26T22:13:25.708Z"
   },
   {
    "duration": 86,
    "start_time": "2022-08-26T22:13:25.723Z"
   },
   {
    "duration": 4,
    "start_time": "2022-08-26T22:13:25.810Z"
   },
   {
    "duration": 77,
    "start_time": "2022-08-26T22:13:25.815Z"
   },
   {
    "duration": 93,
    "start_time": "2022-08-26T22:13:25.894Z"
   },
   {
    "duration": 9,
    "start_time": "2022-08-26T22:13:25.989Z"
   },
   {
    "duration": 17,
    "start_time": "2022-08-26T22:13:26.000Z"
   },
   {
    "duration": 180,
    "start_time": "2022-08-26T22:13:26.018Z"
   },
   {
    "duration": 207,
    "start_time": "2022-08-26T22:13:26.199Z"
   },
   {
    "duration": 184,
    "start_time": "2022-08-26T22:13:26.408Z"
   },
   {
    "duration": 18,
    "start_time": "2022-08-26T22:13:26.593Z"
   },
   {
    "duration": 6,
    "start_time": "2022-08-26T22:13:26.612Z"
   },
   {
    "duration": 200,
    "start_time": "2022-08-26T22:13:26.620Z"
   },
   {
    "duration": 166,
    "start_time": "2022-08-26T22:13:26.822Z"
   },
   {
    "duration": 164,
    "start_time": "2022-08-26T22:13:26.990Z"
   },
   {
    "duration": 186,
    "start_time": "2022-08-26T22:13:27.156Z"
   }
  ],
  "kernelspec": {
   "display_name": "Python 3 (ipykernel)",
   "language": "python",
   "name": "python3"
  },
  "language_info": {
   "codemirror_mode": {
    "name": "ipython",
    "version": 3
   },
   "file_extension": ".py",
   "mimetype": "text/x-python",
   "name": "python",
   "nbconvert_exporter": "python",
   "pygments_lexer": "ipython3",
   "version": "3.9.7"
  },
  "toc": {
   "base_numbering": 1,
   "nav_menu": {},
   "number_sections": true,
   "sideBar": true,
   "skip_h1_title": true,
   "title_cell": "Table of Contents",
   "title_sidebar": "Contents",
   "toc_cell": false,
   "toc_position": {
    "height": "calc(100% - 180px)",
    "left": "10px",
    "top": "150px",
    "width": "326.188px"
   },
   "toc_section_display": true,
   "toc_window_display": true
  }
 },
 "nbformat": 4,
 "nbformat_minor": 5
}
