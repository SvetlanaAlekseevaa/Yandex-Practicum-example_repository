{
 "cells": [
  {
   "cell_type": "markdown",
   "id": "8dafa578",
   "metadata": {},
   "source": [
    "### Проект: Рынок заведений общественного питания Москвы"
   ]
  },
  {
   "cell_type": "markdown",
   "id": "b71a794b",
   "metadata": {},
   "source": [
    "Цель - выяснить текущее положение дел на рынке заведений общественного питания Москвы"
   ]
  },
  {
   "cell_type": "markdown",
   "id": "f8d824a6",
   "metadata": {},
   "source": [
    "#### Описание данных\n",
    "Таблица rest_data:\n",
    "* id — идентификатор объекта;\n",
    "* object_name — название объекта общественного питания;\n",
    "* chain — сетевой ресторан;\n",
    "* object_type — тип объекта общественного питания;\n",
    "* address — адрес;\n",
    "* number — количество посадочных мест."
   ]
  },
  {
   "cell_type": "markdown",
   "id": "876b8592",
   "metadata": {},
   "source": [
    "#### Ход проекта\n",
    "1. [Получение данных и ознакомление](#start)\n",
    "2. [Предподготовка](#podgotovka)\n",
    "   * [Проверка дубликатов](#podgotovka3)\n",
    "   * [Выделение столбца с улицами](#street)\n",
    "   * [Классификация предприятий по количеству посадочных мест](#number)\n",
    "3. [Анализ](#analyz)\n",
    "* [Соотношение видов объектов общественного питания по количеству, график](#analyz1)\n",
    "* [Соотношение сетевых и несетевых заведений по количеству, график](#analyz2)\n",
    "* [Вид объекта общественного питания характерный для сетевого распространения](#analyz3)\n",
    "* [Среднее количество посадочных мест](#analyz5)\n",
    "* [Топ-10 улиц по количеству объектов общественного питания](#analyz6)\n",
    "* [Улицы с одним объектом общественного питания](#analyz7)\n",
    "* [Вывод](#analyz8)\n",
    "4. [Презентация ](#preza)"
   ]
  },
  {
   "cell_type": "markdown",
   "id": "25265899",
   "metadata": {},
   "source": [
    "#### 1. Получение данных и ознакомление <a id = \"start\"></a>"
   ]
  },
  {
   "cell_type": "code",
   "execution_count": 1,
   "id": "7079523e",
   "metadata": {},
   "outputs": [],
   "source": [
    "import pandas as pd\n",
    "import plotly.express as px\n",
    "import seaborn as sns\n",
    "from numpy import median\n",
    "import matplotlib.pyplot as plt \n",
    "import matplotlib.pyplot as plt \n",
    "import re\n",
    "from plotly import graph_objects as go\n",
    "import requests\n",
    "import json"
   ]
  },
  {
   "cell_type": "code",
   "execution_count": 2,
   "id": "f70b2909",
   "metadata": {},
   "outputs": [
    {
     "data": {
      "text/html": [
       "<div>\n",
       "<style scoped>\n",
       "    .dataframe tbody tr th:only-of-type {\n",
       "        vertical-align: middle;\n",
       "    }\n",
       "\n",
       "    .dataframe tbody tr th {\n",
       "        vertical-align: top;\n",
       "    }\n",
       "\n",
       "    .dataframe thead th {\n",
       "        text-align: right;\n",
       "    }\n",
       "</style>\n",
       "<table border=\"1\" class=\"dataframe\">\n",
       "  <thead>\n",
       "    <tr style=\"text-align: right;\">\n",
       "      <th></th>\n",
       "      <th>id</th>\n",
       "      <th>object_name</th>\n",
       "      <th>chain</th>\n",
       "      <th>object_type</th>\n",
       "      <th>address</th>\n",
       "      <th>number</th>\n",
       "    </tr>\n",
       "  </thead>\n",
       "  <tbody>\n",
       "    <tr>\n",
       "      <th>0</th>\n",
       "      <td>151635</td>\n",
       "      <td>СМЕТАНА</td>\n",
       "      <td>нет</td>\n",
       "      <td>кафе</td>\n",
       "      <td>город Москва, улица Егора Абакумова, дом 9</td>\n",
       "      <td>48</td>\n",
       "    </tr>\n",
       "    <tr>\n",
       "      <th>1</th>\n",
       "      <td>77874</td>\n",
       "      <td>Родник</td>\n",
       "      <td>нет</td>\n",
       "      <td>кафе</td>\n",
       "      <td>город Москва, улица Талалихина, дом 2/1, корпус 1</td>\n",
       "      <td>35</td>\n",
       "    </tr>\n",
       "    <tr>\n",
       "      <th>2</th>\n",
       "      <td>24309</td>\n",
       "      <td>Кафе «Академия»</td>\n",
       "      <td>нет</td>\n",
       "      <td>кафе</td>\n",
       "      <td>город Москва, Абельмановская улица, дом 6</td>\n",
       "      <td>95</td>\n",
       "    </tr>\n",
       "    <tr>\n",
       "      <th>3</th>\n",
       "      <td>21894</td>\n",
       "      <td>ПИЦЦЕТОРИЯ</td>\n",
       "      <td>да</td>\n",
       "      <td>кафе</td>\n",
       "      <td>город Москва, Абрамцевская улица, дом 1</td>\n",
       "      <td>40</td>\n",
       "    </tr>\n",
       "    <tr>\n",
       "      <th>4</th>\n",
       "      <td>119365</td>\n",
       "      <td>Кафе «Вишневая метель»</td>\n",
       "      <td>нет</td>\n",
       "      <td>кафе</td>\n",
       "      <td>город Москва, Абрамцевская улица, дом 9, корпус 1</td>\n",
       "      <td>50</td>\n",
       "    </tr>\n",
       "  </tbody>\n",
       "</table>\n",
       "</div>"
      ],
      "text/plain": [
       "       id             object_name chain object_type  \\\n",
       "0  151635                 СМЕТАНА   нет        кафе   \n",
       "1   77874                  Родник   нет        кафе   \n",
       "2   24309         Кафе «Академия»   нет        кафе   \n",
       "3   21894              ПИЦЦЕТОРИЯ    да        кафе   \n",
       "4  119365  Кафе «Вишневая метель»   нет        кафе   \n",
       "\n",
       "                                             address  number  \n",
       "0         город Москва, улица Егора Абакумова, дом 9      48  \n",
       "1  город Москва, улица Талалихина, дом 2/1, корпус 1      35  \n",
       "2          город Москва, Абельмановская улица, дом 6      95  \n",
       "3            город Москва, Абрамцевская улица, дом 1      40  \n",
       "4  город Москва, Абрамцевская улица, дом 9, корпус 1      50  "
      ]
     },
     "execution_count": 2,
     "metadata": {},
     "output_type": "execute_result"
    }
   ],
   "source": [
    "try:\n",
    "    data = pd.read_csv('rest_data.csv')\n",
    "except:\n",
    "    data = pd.read_csv('/datasets/rest_data.csv')\n",
    "data.head()"
   ]
  },
  {
   "cell_type": "code",
   "execution_count": 3,
   "id": "8416d73c",
   "metadata": {},
   "outputs": [
    {
     "data": {
      "text/html": [
       "<div>\n",
       "<style scoped>\n",
       "    .dataframe tbody tr th:only-of-type {\n",
       "        vertical-align: middle;\n",
       "    }\n",
       "\n",
       "    .dataframe tbody tr th {\n",
       "        vertical-align: top;\n",
       "    }\n",
       "\n",
       "    .dataframe thead th {\n",
       "        text-align: right;\n",
       "    }\n",
       "</style>\n",
       "<table border=\"1\" class=\"dataframe\">\n",
       "  <thead>\n",
       "    <tr style=\"text-align: right;\">\n",
       "      <th></th>\n",
       "      <th>id</th>\n",
       "      <th>number</th>\n",
       "    </tr>\n",
       "  </thead>\n",
       "  <tbody>\n",
       "    <tr>\n",
       "      <th>count</th>\n",
       "      <td>15366.000000</td>\n",
       "      <td>15366.000000</td>\n",
       "    </tr>\n",
       "    <tr>\n",
       "      <th>mean</th>\n",
       "      <td>119720.066901</td>\n",
       "      <td>59.547182</td>\n",
       "    </tr>\n",
       "    <tr>\n",
       "      <th>std</th>\n",
       "      <td>73036.130732</td>\n",
       "      <td>74.736833</td>\n",
       "    </tr>\n",
       "    <tr>\n",
       "      <th>min</th>\n",
       "      <td>838.000000</td>\n",
       "      <td>0.000000</td>\n",
       "    </tr>\n",
       "    <tr>\n",
       "      <th>25%</th>\n",
       "      <td>28524.000000</td>\n",
       "      <td>12.000000</td>\n",
       "    </tr>\n",
       "    <tr>\n",
       "      <th>50%</th>\n",
       "      <td>144974.500000</td>\n",
       "      <td>40.000000</td>\n",
       "    </tr>\n",
       "    <tr>\n",
       "      <th>75%</th>\n",
       "      <td>184262.250000</td>\n",
       "      <td>80.000000</td>\n",
       "    </tr>\n",
       "    <tr>\n",
       "      <th>max</th>\n",
       "      <td>223439.000000</td>\n",
       "      <td>1700.000000</td>\n",
       "    </tr>\n",
       "  </tbody>\n",
       "</table>\n",
       "</div>"
      ],
      "text/plain": [
       "                  id        number\n",
       "count   15366.000000  15366.000000\n",
       "mean   119720.066901     59.547182\n",
       "std     73036.130732     74.736833\n",
       "min       838.000000      0.000000\n",
       "25%     28524.000000     12.000000\n",
       "50%    144974.500000     40.000000\n",
       "75%    184262.250000     80.000000\n",
       "max    223439.000000   1700.000000"
      ]
     },
     "execution_count": 3,
     "metadata": {},
     "output_type": "execute_result"
    }
   ],
   "source": [
    "data.describe()"
   ]
  },
  {
   "cell_type": "code",
   "execution_count": 4,
   "id": "1095abd2",
   "metadata": {},
   "outputs": [
    {
     "name": "stdout",
     "output_type": "stream",
     "text": [
      "<class 'pandas.core.frame.DataFrame'>\n",
      "RangeIndex: 15366 entries, 0 to 15365\n",
      "Data columns (total 6 columns):\n",
      " #   Column       Non-Null Count  Dtype \n",
      "---  ------       --------------  ----- \n",
      " 0   id           15366 non-null  int64 \n",
      " 1   object_name  15366 non-null  object\n",
      " 2   chain        15366 non-null  object\n",
      " 3   object_type  15366 non-null  object\n",
      " 4   address      15366 non-null  object\n",
      " 5   number       15366 non-null  int64 \n",
      "dtypes: int64(2), object(4)\n",
      "memory usage: 720.4+ KB\n"
     ]
    }
   ],
   "source": [
    "data.info()"
   ]
  },
  {
   "cell_type": "code",
   "execution_count": 5,
   "id": "6a70fbb1",
   "metadata": {},
   "outputs": [
    {
     "data": {
      "text/plain": [
       "кафе                                 6099\n",
       "столовая                             2587\n",
       "ресторан                             2285\n",
       "предприятие быстрого обслуживания    1923\n",
       "бар                                   856\n",
       "буфет                                 585\n",
       "кафетерий                             398\n",
       "закусочная                            360\n",
       "магазин (отдел кулинарии)             273\n",
       "Name: object_type, dtype: int64"
      ]
     },
     "execution_count": 5,
     "metadata": {},
     "output_type": "execute_result"
    }
   ],
   "source": [
    "data['object_type'].value_counts()"
   ]
  },
  {
   "cell_type": "code",
   "execution_count": 6,
   "id": "cdf86dc9",
   "metadata": {},
   "outputs": [
    {
     "data": {
      "text/plain": [
       "0      1621\n",
       "40      835\n",
       "20      727\n",
       "30      685\n",
       "10      644\n",
       "       ... \n",
       "229       1\n",
       "356       1\n",
       "481       1\n",
       "167       1\n",
       "119       1\n",
       "Name: number, Length: 315, dtype: int64"
      ]
     },
     "execution_count": 6,
     "metadata": {},
     "output_type": "execute_result"
    }
   ],
   "source": [
    "data['number'].value_counts()"
   ]
  },
  {
   "cell_type": "markdown",
   "id": "d2b5b28e",
   "metadata": {},
   "source": [
    "Мы видим, что у нас есть 15366 адресов заведений, в них нет пропусков, но есть аномальные заведения с нулём посадочных мест и их аж 1621. Самое большое количество заведений- кафе (6 тыс заведений), меньше всех-магазинов(отделов кулинарии)-всего 273.\n",
    "\n",
    "Нужно будет разобраться с нулями.\n",
    "\n",
    "С типами данных всё ок.\n",
    "\n",
    "Пропущенных значений нет."
   ]
  },
  {
   "cell_type": "markdown",
   "id": "52988693",
   "metadata": {},
   "source": [
    "#### 2. Предподготовка <a id = \"podgotovka\"></a>"
   ]
  },
  {
   "cell_type": "markdown",
   "id": "3c7180d1",
   "metadata": {},
   "source": [
    "##### * Проверка дубликатов <a id = \"podgotovka3\"></a>"
   ]
  },
  {
   "cell_type": "code",
   "execution_count": 7,
   "id": "4cc60cfd",
   "metadata": {},
   "outputs": [
    {
     "data": {
      "text/plain": [
       "0"
      ]
     },
     "execution_count": 7,
     "metadata": {},
     "output_type": "execute_result"
    }
   ],
   "source": [
    "data.duplicated().sum()"
   ]
  },
  {
   "cell_type": "markdown",
   "id": "978f8e91",
   "metadata": {},
   "source": [
    "Проверим на совпадения все колонки кроме id и посмотрим  - что там и сколько их."
   ]
  },
  {
   "cell_type": "code",
   "execution_count": 8,
   "id": "78cc9714",
   "metadata": {},
   "outputs": [
    {
     "data": {
      "text/html": [
       "<div>\n",
       "<style scoped>\n",
       "    .dataframe tbody tr th:only-of-type {\n",
       "        vertical-align: middle;\n",
       "    }\n",
       "\n",
       "    .dataframe tbody tr th {\n",
       "        vertical-align: top;\n",
       "    }\n",
       "\n",
       "    .dataframe thead th {\n",
       "        text-align: right;\n",
       "    }\n",
       "</style>\n",
       "<table border=\"1\" class=\"dataframe\">\n",
       "  <thead>\n",
       "    <tr style=\"text-align: right;\">\n",
       "      <th></th>\n",
       "      <th>id</th>\n",
       "      <th>object_name</th>\n",
       "      <th>chain</th>\n",
       "      <th>object_type</th>\n",
       "      <th>address</th>\n",
       "      <th>number</th>\n",
       "    </tr>\n",
       "  </thead>\n",
       "  <tbody>\n",
       "    <tr>\n",
       "      <th>115</th>\n",
       "      <td>28614</td>\n",
       "      <td>КОМБИНАТ ПИТАНИЯ МГТУ ИМ.Н.Э.БАУМАНА</td>\n",
       "      <td>нет</td>\n",
       "      <td>буфет</td>\n",
       "      <td>город Москва, Бригадирский переулок, дом 3-5</td>\n",
       "      <td>12</td>\n",
       "    </tr>\n",
       "    <tr>\n",
       "      <th>580</th>\n",
       "      <td>149205</td>\n",
       "      <td>Общественное питание</td>\n",
       "      <td>нет</td>\n",
       "      <td>кафе</td>\n",
       "      <td>город Москва, Павелецкая площадь, дом 1</td>\n",
       "      <td>35</td>\n",
       "    </tr>\n",
       "    <tr>\n",
       "      <th>581</th>\n",
       "      <td>149131</td>\n",
       "      <td>Общественное питание</td>\n",
       "      <td>нет</td>\n",
       "      <td>кафе</td>\n",
       "      <td>город Москва, Павелецкая площадь, дом 1</td>\n",
       "      <td>39</td>\n",
       "    </tr>\n",
       "    <tr>\n",
       "      <th>1409</th>\n",
       "      <td>151267</td>\n",
       "      <td>Альфорно</td>\n",
       "      <td>нет</td>\n",
       "      <td>кафе</td>\n",
       "      <td>город Москва, город Зеленоград, корпус 438</td>\n",
       "      <td>45</td>\n",
       "    </tr>\n",
       "    <tr>\n",
       "      <th>2375</th>\n",
       "      <td>28604</td>\n",
       "      <td>КОМБИНАТ ПИТАНИЯ МГТУ ИМ.Н.Э.БАУМАНА</td>\n",
       "      <td>нет</td>\n",
       "      <td>столовая</td>\n",
       "      <td>город Москва, 2-я Бауманская улица, дом 5, строение 1</td>\n",
       "      <td>150</td>\n",
       "    </tr>\n",
       "    <tr>\n",
       "      <th>2379</th>\n",
       "      <td>28609</td>\n",
       "      <td>КОМБИНАТ ПИТАНИЯ МГТУ ИМ.Н.Э.БАУМАНА</td>\n",
       "      <td>нет</td>\n",
       "      <td>буфет</td>\n",
       "      <td>город Москва, 2-я Бауманская улица, дом 5, строение 1</td>\n",
       "      <td>30</td>\n",
       "    </tr>\n",
       "    <tr>\n",
       "      <th>2380</th>\n",
       "      <td>28610</td>\n",
       "      <td>КОМБИНАТ ПИТАНИЯ МГТУ ИМ.Н.Э.БАУМАНА</td>\n",
       "      <td>нет</td>\n",
       "      <td>столовая</td>\n",
       "      <td>город Москва, 2-я Бауманская улица, дом 5, строение 1</td>\n",
       "      <td>200</td>\n",
       "    </tr>\n",
       "    <tr>\n",
       "      <th>2381</th>\n",
       "      <td>28611</td>\n",
       "      <td>КОМБИНАТ ПИТАНИЯ МГТУ ИМ.Н.Э.БАУМАНА</td>\n",
       "      <td>нет</td>\n",
       "      <td>столовая</td>\n",
       "      <td>город Москва, 2-я Бауманская улица, дом 5, строение 1</td>\n",
       "      <td>100</td>\n",
       "    </tr>\n",
       "    <tr>\n",
       "      <th>2382</th>\n",
       "      <td>28615</td>\n",
       "      <td>КОМБИНАТ ПИТАНИЯ МГТУ ИМ.Н.Э.БАУМАНА</td>\n",
       "      <td>нет</td>\n",
       "      <td>столовая</td>\n",
       "      <td>город Москва, 2-я Бауманская улица, дом 5, строение 1</td>\n",
       "      <td>168</td>\n",
       "    </tr>\n",
       "    <tr>\n",
       "      <th>2383</th>\n",
       "      <td>28616</td>\n",
       "      <td>КОМБИНАТ ПИТАНИЯ МГТУ ИМ.Н.Э.БАУМАНА</td>\n",
       "      <td>нет</td>\n",
       "      <td>закусочная</td>\n",
       "      <td>город Москва, 2-я Бауманская улица, дом 5, строение 1</td>\n",
       "      <td>64</td>\n",
       "    </tr>\n",
       "    <tr>\n",
       "      <th>2384</th>\n",
       "      <td>28617</td>\n",
       "      <td>КОМБИНАТ ПИТАНИЯ МГТУ ИМ.Н.Э.БАУМАНА</td>\n",
       "      <td>нет</td>\n",
       "      <td>столовая</td>\n",
       "      <td>город Москва, 2-я Бауманская улица, дом 5, строение 1</td>\n",
       "      <td>108</td>\n",
       "    </tr>\n",
       "    <tr>\n",
       "      <th>2398</th>\n",
       "      <td>20994</td>\n",
       "      <td>Фуршет.ру</td>\n",
       "      <td>нет</td>\n",
       "      <td>буфет</td>\n",
       "      <td>город Москва, Гороховский переулок, дом 4</td>\n",
       "      <td>10</td>\n",
       "    </tr>\n",
       "    <tr>\n",
       "      <th>2565</th>\n",
       "      <td>23832</td>\n",
       "      <td>КАФЕ</td>\n",
       "      <td>нет</td>\n",
       "      <td>кафе</td>\n",
       "      <td>город Москва, улица Вавилова, дом 57, корпус 1</td>\n",
       "      <td>40</td>\n",
       "    </tr>\n",
       "    <tr>\n",
       "      <th>2978</th>\n",
       "      <td>29209</td>\n",
       "      <td>Столовая при школе</td>\n",
       "      <td>нет</td>\n",
       "      <td>столовая</td>\n",
       "      <td>город Москва, Флотская улица, дом 11</td>\n",
       "      <td>150</td>\n",
       "    </tr>\n",
       "    <tr>\n",
       "      <th>3481</th>\n",
       "      <td>20914</td>\n",
       "      <td>Буфет Мади</td>\n",
       "      <td>нет</td>\n",
       "      <td>буфет</td>\n",
       "      <td>город Москва, Ленинградский проспект, дом 64</td>\n",
       "      <td>40</td>\n",
       "    </tr>\n",
       "    <tr>\n",
       "      <th>3747</th>\n",
       "      <td>28856</td>\n",
       "      <td>КП МЭИ</td>\n",
       "      <td>нет</td>\n",
       "      <td>буфет</td>\n",
       "      <td>город Москва, Красноказарменная улица, дом 14, строение 1</td>\n",
       "      <td>160</td>\n",
       "    </tr>\n",
       "    <tr>\n",
       "      <th>4042</th>\n",
       "      <td>27598</td>\n",
       "      <td>ГБОУ ШКОЛА №867 ОАО «Комбинат дошкольного питания»</td>\n",
       "      <td>нет</td>\n",
       "      <td>столовая</td>\n",
       "      <td>город Москва, улица Борисовские Пруды, дом 20, корпус 3</td>\n",
       "      <td>200</td>\n",
       "    </tr>\n",
       "    <tr>\n",
       "      <th>4431</th>\n",
       "      <td>23759</td>\n",
       "      <td>СТОЛОВАЯ ГБОУ города Москвы № 384</td>\n",
       "      <td>нет</td>\n",
       "      <td>буфет</td>\n",
       "      <td>город Москва, Беловежская улица, дом 67</td>\n",
       "      <td>100</td>\n",
       "    </tr>\n",
       "    <tr>\n",
       "      <th>4462</th>\n",
       "      <td>26394</td>\n",
       "      <td>ЦЕНТР ПАВЛА СЛОБОДКИНА</td>\n",
       "      <td>нет</td>\n",
       "      <td>буфет</td>\n",
       "      <td>город Москва, улица Арбат, дом 48, строение 1</td>\n",
       "      <td>55</td>\n",
       "    </tr>\n",
       "    <tr>\n",
       "      <th>4537</th>\n",
       "      <td>23391</td>\n",
       "      <td>Столовая «Комбинат питания КОСМОС»</td>\n",
       "      <td>нет</td>\n",
       "      <td>столовая</td>\n",
       "      <td>город Москва, Новозаводская улица, дом 12/11</td>\n",
       "      <td>15</td>\n",
       "    </tr>\n",
       "  </tbody>\n",
       "</table>\n",
       "</div>"
      ],
      "text/plain": [
       "          id                                         object_name chain  \\\n",
       "115    28614                КОМБИНАТ ПИТАНИЯ МГТУ ИМ.Н.Э.БАУМАНА   нет   \n",
       "580   149205                                Общественное питание   нет   \n",
       "581   149131                                Общественное питание   нет   \n",
       "1409  151267                                            Альфорно   нет   \n",
       "2375   28604                КОМБИНАТ ПИТАНИЯ МГТУ ИМ.Н.Э.БАУМАНА   нет   \n",
       "2379   28609                КОМБИНАТ ПИТАНИЯ МГТУ ИМ.Н.Э.БАУМАНА   нет   \n",
       "2380   28610                КОМБИНАТ ПИТАНИЯ МГТУ ИМ.Н.Э.БАУМАНА   нет   \n",
       "2381   28611                КОМБИНАТ ПИТАНИЯ МГТУ ИМ.Н.Э.БАУМАНА   нет   \n",
       "2382   28615                КОМБИНАТ ПИТАНИЯ МГТУ ИМ.Н.Э.БАУМАНА   нет   \n",
       "2383   28616                КОМБИНАТ ПИТАНИЯ МГТУ ИМ.Н.Э.БАУМАНА   нет   \n",
       "2384   28617                КОМБИНАТ ПИТАНИЯ МГТУ ИМ.Н.Э.БАУМАНА   нет   \n",
       "2398   20994                                           Фуршет.ру   нет   \n",
       "2565   23832                                                КАФЕ   нет   \n",
       "2978   29209                                  Столовая при школе   нет   \n",
       "3481   20914                                          Буфет Мади   нет   \n",
       "3747   28856                                              КП МЭИ   нет   \n",
       "4042   27598  ГБОУ ШКОЛА №867 ОАО «Комбинат дошкольного питания»   нет   \n",
       "4431   23759                   СТОЛОВАЯ ГБОУ города Москвы № 384   нет   \n",
       "4462   26394                              ЦЕНТР ПАВЛА СЛОБОДКИНА   нет   \n",
       "4537   23391                  Столовая «Комбинат питания КОСМОС»   нет   \n",
       "\n",
       "     object_type                                                    address  \\\n",
       "115        буфет               город Москва, Бригадирский переулок, дом 3-5   \n",
       "580         кафе                    город Москва, Павелецкая площадь, дом 1   \n",
       "581         кафе                    город Москва, Павелецкая площадь, дом 1   \n",
       "1409        кафе                 город Москва, город Зеленоград, корпус 438   \n",
       "2375    столовая      город Москва, 2-я Бауманская улица, дом 5, строение 1   \n",
       "2379       буфет      город Москва, 2-я Бауманская улица, дом 5, строение 1   \n",
       "2380    столовая      город Москва, 2-я Бауманская улица, дом 5, строение 1   \n",
       "2381    столовая      город Москва, 2-я Бауманская улица, дом 5, строение 1   \n",
       "2382    столовая      город Москва, 2-я Бауманская улица, дом 5, строение 1   \n",
       "2383  закусочная      город Москва, 2-я Бауманская улица, дом 5, строение 1   \n",
       "2384    столовая      город Москва, 2-я Бауманская улица, дом 5, строение 1   \n",
       "2398       буфет                  город Москва, Гороховский переулок, дом 4   \n",
       "2565        кафе             город Москва, улица Вавилова, дом 57, корпус 1   \n",
       "2978    столовая                       город Москва, Флотская улица, дом 11   \n",
       "3481       буфет               город Москва, Ленинградский проспект, дом 64   \n",
       "3747       буфет  город Москва, Красноказарменная улица, дом 14, строение 1   \n",
       "4042    столовая    город Москва, улица Борисовские Пруды, дом 20, корпус 3   \n",
       "4431       буфет                    город Москва, Беловежская улица, дом 67   \n",
       "4462       буфет              город Москва, улица Арбат, дом 48, строение 1   \n",
       "4537    столовая               город Москва, Новозаводская улица, дом 12/11   \n",
       "\n",
       "      number  \n",
       "115       12  \n",
       "580       35  \n",
       "581       39  \n",
       "1409      45  \n",
       "2375     150  \n",
       "2379      30  \n",
       "2380     200  \n",
       "2381     100  \n",
       "2382     168  \n",
       "2383      64  \n",
       "2384     108  \n",
       "2398      10  \n",
       "2565      40  \n",
       "2978     150  \n",
       "3481      40  \n",
       "3747     160  \n",
       "4042     200  \n",
       "4431     100  \n",
       "4462      55  \n",
       "4537      15  "
      ]
     },
     "execution_count": 8,
     "metadata": {},
     "output_type": "execute_result"
    }
   ],
   "source": [
    "# Сброс ограничений на количество символов в записи\n",
    "pd.set_option('display.max_colwidth', None)\n",
    "data[data.duplicated(subset=['object_name','address','chain','object_type'])].head(20)"
   ]
  },
  {
   "cell_type": "code",
   "execution_count": 9,
   "id": "56eae138",
   "metadata": {},
   "outputs": [
    {
     "data": {
      "text/plain": [
       "170"
      ]
     },
     "execution_count": 9,
     "metadata": {},
     "output_type": "execute_result"
    }
   ],
   "source": [
    "len(data[data.duplicated(subset=['object_name','address','chain','object_type'])])"
   ]
  },
  {
   "cell_type": "code",
   "execution_count": 10,
   "id": "82471ef4",
   "metadata": {},
   "outputs": [
    {
     "data": {
      "text/plain": [
       "1.1063386697904465"
      ]
     },
     "execution_count": 10,
     "metadata": {},
     "output_type": "execute_result"
    }
   ],
   "source": [
    "len(data[data.duplicated(subset=['object_name','address','chain','object_type'])])/len(data)*100"
   ]
  },
  {
   "cell_type": "markdown",
   "id": "3657e442",
   "metadata": {},
   "source": [
    "Явных дубликатов нет.\n",
    "Есть 170 неявных дубликатов, некоторые из них возможно действительно дубликаты, например - Буфет Мади, другие же нет, например на территории комбината питания действительно находится несколько столовых. Так как дубликатов-всего 1%, они не повлияют на наш анализ и мы можем их не удалять.\n",
    "Разберемся с адресами - выделим отдельный столбец с улицами."
   ]
  },
  {
   "cell_type": "markdown",
   "id": "c449e7c3",
   "metadata": {},
   "source": [
    "##### *Выделение отдельного столбца с улицами<a id = \"street\"></a>"
   ]
  },
  {
   "cell_type": "code",
   "execution_count": 11,
   "id": "34b46de6",
   "metadata": {},
   "outputs": [
    {
     "data": {
      "text/plain": [
       "проспект Мира                   204\n",
       "Профсоюзная улица               182\n",
       "Ленинградский проспект          171\n",
       "Пресненская набережная          167\n",
       "Варшавское шоссе                164\n",
       "                               ... \n",
       "Вяземская улица                   1\n",
       "улица Екатерины Будановой         1\n",
       "Троилинский переулок              1\n",
       "1-й Николощеповский переулок      1\n",
       "улица Евгения Родионова           1\n",
       "Name: street, Length: 1912, dtype: int64"
      ]
     },
     "execution_count": 11,
     "metadata": {},
     "output_type": "execute_result"
    }
   ],
   "source": [
    "words = ['улица','ул','переулок','шоссе','проспект','площадь','проезд','аллея','бульвар','набережная','тупик','линия','поселение']\n",
    "\n",
    "str_pat = r\".*,\\s*\\b([^,]*?(?:{})\\b[^,]*)[,$]+\".format(\"|\".join(words))\n",
    "\n",
    "data[\"street\"] = data[\"address\"].str.extract(str_pat, flags=re.I)\n",
    "data['street'].value_counts()"
   ]
  },
  {
   "cell_type": "code",
   "execution_count": 12,
   "id": "c2f35816",
   "metadata": {},
   "outputs": [
    {
     "data": {
      "text/plain": [
       "предприятие быстрого обслуживания    704\n",
       "кафе                                 310\n",
       "закусочная                           189\n",
       "магазин (отдел кулинарии)            145\n",
       "кафетерий                            113\n",
       "буфет                                 68\n",
       "ресторан                              45\n",
       "бар                                   28\n",
       "столовая                              19\n",
       "Name: object_type, dtype: int64"
      ]
     },
     "execution_count": 12,
     "metadata": {},
     "output_type": "execute_result"
    }
   ],
   "source": [
    "zero = data.query('number==0')\n",
    "zero['object_type'].value_counts()"
   ]
  },
  {
   "cell_type": "code",
   "execution_count": 13,
   "id": "9d0dfa6d",
   "metadata": {},
   "outputs": [
    {
     "data": {
      "text/plain": [
       "1621"
      ]
     },
     "execution_count": 13,
     "metadata": {},
     "output_type": "execute_result"
    }
   ],
   "source": [
    "len(zero)"
   ]
  },
  {
   "cell_type": "code",
   "execution_count": 14,
   "id": "ce1b5ffe",
   "metadata": {},
   "outputs": [
    {
     "data": {
      "text/plain": [
       "Шаурма                 190\n",
       "Милти                   51\n",
       "Пекарня                 42\n",
       "Кофе с собой            33\n",
       "Выпечка                 24\n",
       "                      ... \n",
       "ЭЛЬ КАФЕ                 1\n",
       "Шаурма-выпечка           1\n",
       "Выпечка,шаурма           1\n",
       "Япошкин Кот              1\n",
       "Готовые блюда Милти      1\n",
       "Name: object_name, Length: 887, dtype: int64"
      ]
     },
     "execution_count": 14,
     "metadata": {},
     "output_type": "execute_result"
    }
   ],
   "source": [
    "zero['object_name'].value_counts()"
   ]
  },
  {
   "cell_type": "markdown",
   "id": "fc04a274",
   "metadata": {},
   "source": [
    "Мы видим, что это не ошибка в данных, а помещения без сидячих мест - еда на вынос, эти заведения не будут влияеть на нашу целеую аудиторию - людей, кто хочет покушать в кафе с официантами, потому можем отфильтровать их из наших данных."
   ]
  },
  {
   "cell_type": "code",
   "execution_count": 15,
   "id": "405eeb06",
   "metadata": {},
   "outputs": [],
   "source": [
    "data = data.query('number!=0')"
   ]
  },
  {
   "cell_type": "code",
   "execution_count": 16,
   "id": "1c30a4a1",
   "metadata": {},
   "outputs": [
    {
     "data": {
      "text/html": [
       "<div>\n",
       "<style scoped>\n",
       "    .dataframe tbody tr th:only-of-type {\n",
       "        vertical-align: middle;\n",
       "    }\n",
       "\n",
       "    .dataframe tbody tr th {\n",
       "        vertical-align: top;\n",
       "    }\n",
       "\n",
       "    .dataframe thead th {\n",
       "        text-align: right;\n",
       "    }\n",
       "</style>\n",
       "<table border=\"1\" class=\"dataframe\">\n",
       "  <thead>\n",
       "    <tr style=\"text-align: right;\">\n",
       "      <th></th>\n",
       "      <th>id</th>\n",
       "      <th>number</th>\n",
       "    </tr>\n",
       "  </thead>\n",
       "  <tbody>\n",
       "    <tr>\n",
       "      <th>count</th>\n",
       "      <td>13745.000000</td>\n",
       "      <td>13745.000000</td>\n",
       "    </tr>\n",
       "    <tr>\n",
       "      <th>mean</th>\n",
       "      <td>112273.028519</td>\n",
       "      <td>66.569807</td>\n",
       "    </tr>\n",
       "    <tr>\n",
       "      <th>std</th>\n",
       "      <td>72853.337528</td>\n",
       "      <td>76.005550</td>\n",
       "    </tr>\n",
       "    <tr>\n",
       "      <th>min</th>\n",
       "      <td>838.000000</td>\n",
       "      <td>1.000000</td>\n",
       "    </tr>\n",
       "    <tr>\n",
       "      <th>25%</th>\n",
       "      <td>27715.000000</td>\n",
       "      <td>20.000000</td>\n",
       "    </tr>\n",
       "    <tr>\n",
       "      <th>50%</th>\n",
       "      <td>134271.000000</td>\n",
       "      <td>44.000000</td>\n",
       "    </tr>\n",
       "    <tr>\n",
       "      <th>75%</th>\n",
       "      <td>178425.000000</td>\n",
       "      <td>85.000000</td>\n",
       "    </tr>\n",
       "    <tr>\n",
       "      <th>max</th>\n",
       "      <td>223438.000000</td>\n",
       "      <td>1700.000000</td>\n",
       "    </tr>\n",
       "  </tbody>\n",
       "</table>\n",
       "</div>"
      ],
      "text/plain": [
       "                  id        number\n",
       "count   13745.000000  13745.000000\n",
       "mean   112273.028519     66.569807\n",
       "std     72853.337528     76.005550\n",
       "min       838.000000      1.000000\n",
       "25%     27715.000000     20.000000\n",
       "50%    134271.000000     44.000000\n",
       "75%    178425.000000     85.000000\n",
       "max    223438.000000   1700.000000"
      ]
     },
     "execution_count": 16,
     "metadata": {},
     "output_type": "execute_result"
    }
   ],
   "source": [
    "data.describe()"
   ]
  },
  {
   "cell_type": "markdown",
   "id": "c2c9eded",
   "metadata": {},
   "source": [
    "Мы узнали классификацию предприятий общественного питания по количеству мест:\n",
    "\n",
    "до 50\n",
    "\n",
    "от 50 до 500\n",
    "\n",
    "от 500 и выше\n",
    "\n",
    "#### *Классификация кафе по количеству посадочных мест<a id = \"number\"></a>"
   ]
  },
  {
   "cell_type": "code",
   "execution_count": 17,
   "id": "b45ab87e",
   "metadata": {},
   "outputs": [
    {
     "data": {
      "text/plain": [
       "7772"
      ]
     },
     "execution_count": 17,
     "metadata": {},
     "output_type": "execute_result"
    }
   ],
   "source": [
    "little_cafe = data.query('number<50')\n",
    "len(little_cafe)"
   ]
  },
  {
   "cell_type": "code",
   "execution_count": 18,
   "id": "ed25a3b8",
   "metadata": {},
   "outputs": [
    {
     "data": {
      "text/plain": [
       "5939"
      ]
     },
     "execution_count": 18,
     "metadata": {},
     "output_type": "execute_result"
    }
   ],
   "source": [
    "std_cafe = data.query('number>=50 & number<500')\n",
    "len(std_cafe)"
   ]
  },
  {
   "cell_type": "code",
   "execution_count": 19,
   "id": "d88eea0e",
   "metadata": {},
   "outputs": [
    {
     "data": {
      "text/plain": [
       "34"
      ]
     },
     "execution_count": 19,
     "metadata": {},
     "output_type": "execute_result"
    }
   ],
   "source": [
    "big_cafe = data.query('number>=500')\n",
    "len(big_cafe)"
   ]
  },
  {
   "cell_type": "markdown",
   "id": "2992fef0",
   "metadata": {},
   "source": [
    "Заведения до 50 мест - самые многочисленные, их аж 7772, на втором месте средние - 5939, крупных ресторанов совсем мало, что и ожидаемо с таким количество посадочных мест - их всего 34."
   ]
  },
  {
   "cell_type": "markdown",
   "id": "b2afc2f1",
   "metadata": {},
   "source": [
    "Посмотроим для каждой из них \"ящик с усами\"."
   ]
  },
  {
   "cell_type": "code",
   "execution_count": 20,
   "id": "9e9e4a9f",
   "metadata": {},
   "outputs": [
    {
     "data": {
      "image/png": "[encoded data removed]",
      "text/plain": [
       "<Figure size 720x360 with 1 Axes>"
      ]
     },
     "metadata": {
      "needs_background": "light"
     },
     "output_type": "display_data"
    }
   ],
   "source": [
    "plt.figure(figsize=(10,5))\n",
    "sns.boxplot(y = 'object_type', \n",
    "            x = 'number', data=little_cafe, color=\"#00aa80\", width=0.8, orient='h').set(title='Количество посадочных мест',xlabel='Количество', ylabel='Типы')\n",
    "None"
   ]
  },
  {
   "cell_type": "markdown",
   "id": "082305cd",
   "metadata": {},
   "source": [
    "##### Для маленьких заведений почти нет аномальных значений."
   ]
  },
  {
   "cell_type": "code",
   "execution_count": 21,
   "id": "7bb5a2a2",
   "metadata": {},
   "outputs": [
    {
     "data": {
      "image/png": "[encoded data removed]",
      "text/plain": [
       "<Figure size 720x360 with 1 Axes>"
      ]
     },
     "metadata": {
      "needs_background": "light"
     },
     "output_type": "display_data"
    }
   ],
   "source": [
    "plt.figure(figsize=(10,5))\n",
    "sns.boxplot(y = 'object_type', \n",
    "x = 'number', data=std_cafe, color=\"#00aa80\", width=0.8, orient='h').set(title='Количество посадочных мест',\n",
    "xlabel='Количество', ylabel='Типы')\n",
    "None"
   ]
  },
  {
   "cell_type": "markdown",
   "id": "0c7f9430",
   "metadata": {},
   "source": [
    "Здесь аномальных значений уже больше, видим, что в основном среди стандартных заведений встречаются те, кто попадает в размеры - до 250 посадочных мест."
   ]
  },
  {
   "cell_type": "code",
   "execution_count": 22,
   "id": "8dd65fe4",
   "metadata": {},
   "outputs": [
    {
     "data": {
      "image/png": "[encoded data removed]",
      "text/plain": [
       "<Figure size 720x144 with 1 Axes>"
      ]
     },
     "metadata": {
      "needs_background": "light"
     },
     "output_type": "display_data"
    }
   ],
   "source": [
    "plt.figure(figsize=(10,2))\n",
    "sns.boxplot(y = 'object_type', \n",
    "            x = 'number', data=big_cafe, color=\"#00aa80\", width=0.8, orient='h').set(title='Количество посадочных мест',\n",
    "                                                                                   xlabel='Количество', ylabel='Типы')\n",
    "None"
   ]
  },
  {
   "cell_type": "markdown",
   "id": "e7f67946",
   "metadata": {},
   "source": [
    "Логично, что в крупных заведениях остались только рестораны и столовые, с некоторыми редкими ресторанами свыше 1000 мест.\n",
    "Разобрались с заведениями с едой на вынос, маленькими, крупными и средними, а так же с улицами, теперь можем приступать к анализу.\n"
   ]
  },
  {
   "cell_type": "markdown",
   "id": "edc6c517",
   "metadata": {},
   "source": [
    "#### 3.Анализ <a id = \"analyz\"></a>"
   ]
  },
  {
   "cell_type": "markdown",
   "id": "3904ea67",
   "metadata": {},
   "source": [
    "##### * Соотношение видов объектов общественного питания по количеству, график <a id = \"analyz1\"></a>"
   ]
  },
  {
   "cell_type": "code",
   "execution_count": 23,
   "id": "596f35f7",
   "metadata": {},
   "outputs": [
    {
     "data": {
      "text/html": [
       "<div>\n",
       "<style scoped>\n",
       "    .dataframe tbody tr th:only-of-type {\n",
       "        vertical-align: middle;\n",
       "    }\n",
       "\n",
       "    .dataframe tbody tr th {\n",
       "        vertical-align: top;\n",
       "    }\n",
       "\n",
       "    .dataframe thead th {\n",
       "        text-align: right;\n",
       "    }\n",
       "</style>\n",
       "<table border=\"1\" class=\"dataframe\">\n",
       "  <thead>\n",
       "    <tr style=\"text-align: right;\">\n",
       "      <th></th>\n",
       "      <th>object_type</th>\n",
       "      <th>id</th>\n",
       "      <th>object_name</th>\n",
       "      <th>chain</th>\n",
       "      <th>address</th>\n",
       "      <th>number</th>\n",
       "      <th>street</th>\n",
       "      <th>fraction,%</th>\n",
       "    </tr>\n",
       "  </thead>\n",
       "  <tbody>\n",
       "    <tr>\n",
       "      <th>5</th>\n",
       "      <td>магазин (отдел кулинарии)</td>\n",
       "      <td>128</td>\n",
       "      <td>128</td>\n",
       "      <td>128</td>\n",
       "      <td>128</td>\n",
       "      <td>128</td>\n",
       "      <td>127</td>\n",
       "      <td>0.93</td>\n",
       "    </tr>\n",
       "    <tr>\n",
       "      <th>2</th>\n",
       "      <td>закусочная</td>\n",
       "      <td>171</td>\n",
       "      <td>171</td>\n",
       "      <td>171</td>\n",
       "      <td>171</td>\n",
       "      <td>171</td>\n",
       "      <td>169</td>\n",
       "      <td>1.24</td>\n",
       "    </tr>\n",
       "    <tr>\n",
       "      <th>4</th>\n",
       "      <td>кафетерий</td>\n",
       "      <td>285</td>\n",
       "      <td>285</td>\n",
       "      <td>285</td>\n",
       "      <td>285</td>\n",
       "      <td>285</td>\n",
       "      <td>272</td>\n",
       "      <td>2.07</td>\n",
       "    </tr>\n",
       "    <tr>\n",
       "      <th>1</th>\n",
       "      <td>буфет</td>\n",
       "      <td>517</td>\n",
       "      <td>517</td>\n",
       "      <td>517</td>\n",
       "      <td>517</td>\n",
       "      <td>517</td>\n",
       "      <td>498</td>\n",
       "      <td>3.76</td>\n",
       "    </tr>\n",
       "    <tr>\n",
       "      <th>0</th>\n",
       "      <td>бар</td>\n",
       "      <td>828</td>\n",
       "      <td>828</td>\n",
       "      <td>828</td>\n",
       "      <td>828</td>\n",
       "      <td>828</td>\n",
       "      <td>814</td>\n",
       "      <td>6.02</td>\n",
       "    </tr>\n",
       "    <tr>\n",
       "      <th>6</th>\n",
       "      <td>предприятие быстрого обслуживания</td>\n",
       "      <td>1219</td>\n",
       "      <td>1219</td>\n",
       "      <td>1219</td>\n",
       "      <td>1219</td>\n",
       "      <td>1219</td>\n",
       "      <td>1202</td>\n",
       "      <td>8.87</td>\n",
       "    </tr>\n",
       "    <tr>\n",
       "      <th>7</th>\n",
       "      <td>ресторан</td>\n",
       "      <td>2240</td>\n",
       "      <td>2240</td>\n",
       "      <td>2240</td>\n",
       "      <td>2240</td>\n",
       "      <td>2240</td>\n",
       "      <td>2205</td>\n",
       "      <td>16.30</td>\n",
       "    </tr>\n",
       "    <tr>\n",
       "      <th>8</th>\n",
       "      <td>столовая</td>\n",
       "      <td>2568</td>\n",
       "      <td>2568</td>\n",
       "      <td>2568</td>\n",
       "      <td>2568</td>\n",
       "      <td>2568</td>\n",
       "      <td>2474</td>\n",
       "      <td>18.68</td>\n",
       "    </tr>\n",
       "    <tr>\n",
       "      <th>3</th>\n",
       "      <td>кафе</td>\n",
       "      <td>5789</td>\n",
       "      <td>5789</td>\n",
       "      <td>5789</td>\n",
       "      <td>5789</td>\n",
       "      <td>5789</td>\n",
       "      <td>5680</td>\n",
       "      <td>42.12</td>\n",
       "    </tr>\n",
       "  </tbody>\n",
       "</table>\n",
       "</div>"
      ],
      "text/plain": [
       "                         object_type    id  object_name  chain  address  \\\n",
       "5          магазин (отдел кулинарии)   128          128    128      128   \n",
       "2                         закусочная   171          171    171      171   \n",
       "4                          кафетерий   285          285    285      285   \n",
       "1                              буфет   517          517    517      517   \n",
       "0                                бар   828          828    828      828   \n",
       "6  предприятие быстрого обслуживания  1219         1219   1219     1219   \n",
       "7                           ресторан  2240         2240   2240     2240   \n",
       "8                           столовая  2568         2568   2568     2568   \n",
       "3                               кафе  5789         5789   5789     5789   \n",
       "\n",
       "   number  street  fraction,%  \n",
       "5     128     127        0.93  \n",
       "2     171     169        1.24  \n",
       "4     285     272        2.07  \n",
       "1     517     498        3.76  \n",
       "0     828     814        6.02  \n",
       "6    1219    1202        8.87  \n",
       "7    2240    2205       16.30  \n",
       "8    2568    2474       18.68  \n",
       "3    5789    5680       42.12  "
      ]
     },
     "execution_count": 23,
     "metadata": {},
     "output_type": "execute_result"
    }
   ],
   "source": [
    "object_type = data.groupby('object_type').count().reset_index().sort_values(by = 'id')\n",
    "object_type['fraction,%'] = (object_type['id']/object_type['id'].sum()*100).round(2)\n",
    "object_type"
   ]
  },
  {
   "cell_type": "code",
   "execution_count": 24,
   "id": "618d1a0f",
   "metadata": {},
   "outputs": [
    {
     "data": {
      "image/png": "[encoded data removed]",
      "text/plain": [
       "<Figure size 720x360 with 1 Axes>"
      ]
     },
     "metadata": {
      "needs_background": "light"
     },
     "output_type": "display_data"
    }
   ],
   "source": [
    "plt.figure(figsize=(10,5))\n",
    "\n",
    "sns.barplot(x = 'fraction,%',y='object_type',data= object_type, \n",
    "            estimator=median, color = \"#00aa80\").set(xlabel='Проценты', ylabel='Типы', \n",
    "                                                    title = 'Объекты общественного питания, %')\n",
    "plt.show()"
   ]
  },
  {
   "cell_type": "markdown",
   "id": "502838ab",
   "metadata": {},
   "source": [
    "На третьем месте ресторан - 16% \n",
    "на втором- столовая - 19% \n",
    "и абсолютный лидер - кафе -42%\n",
    "\n",
    "Посмотрим в разбивке по крупным, средним и маленьким:"
   ]
  },
  {
   "cell_type": "code",
   "execution_count": 25,
   "id": "45504b75",
   "metadata": {},
   "outputs": [
    {
     "data": {
      "text/html": [
       "<div>\n",
       "<style scoped>\n",
       "    .dataframe tbody tr th:only-of-type {\n",
       "        vertical-align: middle;\n",
       "    }\n",
       "\n",
       "    .dataframe tbody tr th {\n",
       "        vertical-align: top;\n",
       "    }\n",
       "\n",
       "    .dataframe thead th {\n",
       "        text-align: right;\n",
       "    }\n",
       "</style>\n",
       "<table border=\"1\" class=\"dataframe\">\n",
       "  <thead>\n",
       "    <tr style=\"text-align: right;\">\n",
       "      <th></th>\n",
       "      <th>object_type</th>\n",
       "      <th>id</th>\n",
       "      <th>object_name</th>\n",
       "      <th>chain</th>\n",
       "      <th>address</th>\n",
       "      <th>number</th>\n",
       "      <th>street</th>\n",
       "      <th>fraction,%</th>\n",
       "    </tr>\n",
       "  </thead>\n",
       "  <tbody>\n",
       "    <tr>\n",
       "      <th>5</th>\n",
       "      <td>магазин (отдел кулинарии)</td>\n",
       "      <td>127</td>\n",
       "      <td>127</td>\n",
       "      <td>127</td>\n",
       "      <td>127</td>\n",
       "      <td>127</td>\n",
       "      <td>126</td>\n",
       "      <td>1.63</td>\n",
       "    </tr>\n",
       "    <tr>\n",
       "      <th>2</th>\n",
       "      <td>закусочная</td>\n",
       "      <td>164</td>\n",
       "      <td>164</td>\n",
       "      <td>164</td>\n",
       "      <td>164</td>\n",
       "      <td>164</td>\n",
       "      <td>162</td>\n",
       "      <td>2.11</td>\n",
       "    </tr>\n",
       "    <tr>\n",
       "      <th>4</th>\n",
       "      <td>кафетерий</td>\n",
       "      <td>279</td>\n",
       "      <td>279</td>\n",
       "      <td>279</td>\n",
       "      <td>279</td>\n",
       "      <td>279</td>\n",
       "      <td>266</td>\n",
       "      <td>3.59</td>\n",
       "    </tr>\n",
       "    <tr>\n",
       "      <th>1</th>\n",
       "      <td>буфет</td>\n",
       "      <td>308</td>\n",
       "      <td>308</td>\n",
       "      <td>308</td>\n",
       "      <td>308</td>\n",
       "      <td>308</td>\n",
       "      <td>293</td>\n",
       "      <td>3.96</td>\n",
       "    </tr>\n",
       "    <tr>\n",
       "      <th>8</th>\n",
       "      <td>столовая</td>\n",
       "      <td>549</td>\n",
       "      <td>549</td>\n",
       "      <td>549</td>\n",
       "      <td>549</td>\n",
       "      <td>549</td>\n",
       "      <td>535</td>\n",
       "      <td>7.06</td>\n",
       "    </tr>\n",
       "    <tr>\n",
       "      <th>0</th>\n",
       "      <td>бар</td>\n",
       "      <td>585</td>\n",
       "      <td>585</td>\n",
       "      <td>585</td>\n",
       "      <td>585</td>\n",
       "      <td>585</td>\n",
       "      <td>574</td>\n",
       "      <td>7.53</td>\n",
       "    </tr>\n",
       "    <tr>\n",
       "      <th>7</th>\n",
       "      <td>ресторан</td>\n",
       "      <td>603</td>\n",
       "      <td>603</td>\n",
       "      <td>603</td>\n",
       "      <td>603</td>\n",
       "      <td>603</td>\n",
       "      <td>594</td>\n",
       "      <td>7.76</td>\n",
       "    </tr>\n",
       "    <tr>\n",
       "      <th>6</th>\n",
       "      <td>предприятие быстрого обслуживания</td>\n",
       "      <td>965</td>\n",
       "      <td>965</td>\n",
       "      <td>965</td>\n",
       "      <td>965</td>\n",
       "      <td>965</td>\n",
       "      <td>951</td>\n",
       "      <td>12.42</td>\n",
       "    </tr>\n",
       "    <tr>\n",
       "      <th>3</th>\n",
       "      <td>кафе</td>\n",
       "      <td>4192</td>\n",
       "      <td>4192</td>\n",
       "      <td>4192</td>\n",
       "      <td>4192</td>\n",
       "      <td>4192</td>\n",
       "      <td>4120</td>\n",
       "      <td>53.94</td>\n",
       "    </tr>\n",
       "  </tbody>\n",
       "</table>\n",
       "</div>"
      ],
      "text/plain": [
       "                         object_type    id  object_name  chain  address  \\\n",
       "5          магазин (отдел кулинарии)   127          127    127      127   \n",
       "2                         закусочная   164          164    164      164   \n",
       "4                          кафетерий   279          279    279      279   \n",
       "1                              буфет   308          308    308      308   \n",
       "8                           столовая   549          549    549      549   \n",
       "0                                бар   585          585    585      585   \n",
       "7                           ресторан   603          603    603      603   \n",
       "6  предприятие быстрого обслуживания   965          965    965      965   \n",
       "3                               кафе  4192         4192   4192     4192   \n",
       "\n",
       "   number  street  fraction,%  \n",
       "5     127     126        1.63  \n",
       "2     164     162        2.11  \n",
       "4     279     266        3.59  \n",
       "1     308     293        3.96  \n",
       "8     549     535        7.06  \n",
       "0     585     574        7.53  \n",
       "7     603     594        7.76  \n",
       "6     965     951       12.42  \n",
       "3    4192    4120       53.94  "
      ]
     },
     "execution_count": 25,
     "metadata": {},
     "output_type": "execute_result"
    }
   ],
   "source": [
    "little_type = little_cafe.groupby('object_type').count().reset_index().sort_values(by = 'id')\n",
    "little_type['fraction,%'] = (little_type['id']/little_type['id'].sum()*100).round(2)\n",
    "little_type"
   ]
  },
  {
   "cell_type": "code",
   "execution_count": 26,
   "id": "0f4bf861",
   "metadata": {},
   "outputs": [
    {
     "data": {
      "image/png": "[encoded data removed]",
      "text/plain": [
       "<Figure size 720x360 with 1 Axes>"
      ]
     },
     "metadata": {
      "needs_background": "light"
     },
     "output_type": "display_data"
    }
   ],
   "source": [
    "plt.figure(figsize=(10,5))\n",
    "\n",
    "sns.barplot(x = 'fraction,%',y='object_type',data=little_type, \n",
    "             color = '#00aa80').set(xlabel='Проценты', ylabel='Типы', \n",
    "                title = 'Виды объектов общественного питания в заведениях до 50 мест, %')\n",
    "plt.show()"
   ]
  },
  {
   "cell_type": "markdown",
   "id": "a23dbc6e",
   "metadata": {},
   "source": [
    "Ресторан и кафе остаются в тройке, но вместо столовой сюда попадают предприятия быстрого обслужтвания."
   ]
  },
  {
   "cell_type": "code",
   "execution_count": 27,
   "id": "6b39672a",
   "metadata": {},
   "outputs": [
    {
     "data": {
      "text/html": [
       "<div>\n",
       "<style scoped>\n",
       "    .dataframe tbody tr th:only-of-type {\n",
       "        vertical-align: middle;\n",
       "    }\n",
       "\n",
       "    .dataframe tbody tr th {\n",
       "        vertical-align: top;\n",
       "    }\n",
       "\n",
       "    .dataframe thead th {\n",
       "        text-align: right;\n",
       "    }\n",
       "</style>\n",
       "<table border=\"1\" class=\"dataframe\">\n",
       "  <thead>\n",
       "    <tr style=\"text-align: right;\">\n",
       "      <th></th>\n",
       "      <th>object_type</th>\n",
       "      <th>id</th>\n",
       "      <th>object_name</th>\n",
       "      <th>chain</th>\n",
       "      <th>address</th>\n",
       "      <th>number</th>\n",
       "      <th>street</th>\n",
       "      <th>fraction,%</th>\n",
       "    </tr>\n",
       "  </thead>\n",
       "  <tbody>\n",
       "    <tr>\n",
       "      <th>5</th>\n",
       "      <td>магазин (отдел кулинарии)</td>\n",
       "      <td>1</td>\n",
       "      <td>1</td>\n",
       "      <td>1</td>\n",
       "      <td>1</td>\n",
       "      <td>1</td>\n",
       "      <td>1</td>\n",
       "      <td>0.02</td>\n",
       "    </tr>\n",
       "    <tr>\n",
       "      <th>4</th>\n",
       "      <td>кафетерий</td>\n",
       "      <td>6</td>\n",
       "      <td>6</td>\n",
       "      <td>6</td>\n",
       "      <td>6</td>\n",
       "      <td>6</td>\n",
       "      <td>6</td>\n",
       "      <td>0.10</td>\n",
       "    </tr>\n",
       "    <tr>\n",
       "      <th>2</th>\n",
       "      <td>закусочная</td>\n",
       "      <td>7</td>\n",
       "      <td>7</td>\n",
       "      <td>7</td>\n",
       "      <td>7</td>\n",
       "      <td>7</td>\n",
       "      <td>7</td>\n",
       "      <td>0.12</td>\n",
       "    </tr>\n",
       "    <tr>\n",
       "      <th>1</th>\n",
       "      <td>буфет</td>\n",
       "      <td>209</td>\n",
       "      <td>209</td>\n",
       "      <td>209</td>\n",
       "      <td>209</td>\n",
       "      <td>209</td>\n",
       "      <td>205</td>\n",
       "      <td>3.52</td>\n",
       "    </tr>\n",
       "    <tr>\n",
       "      <th>0</th>\n",
       "      <td>бар</td>\n",
       "      <td>242</td>\n",
       "      <td>242</td>\n",
       "      <td>242</td>\n",
       "      <td>242</td>\n",
       "      <td>242</td>\n",
       "      <td>239</td>\n",
       "      <td>4.07</td>\n",
       "    </tr>\n",
       "    <tr>\n",
       "      <th>6</th>\n",
       "      <td>предприятие быстрого обслуживания</td>\n",
       "      <td>253</td>\n",
       "      <td>253</td>\n",
       "      <td>253</td>\n",
       "      <td>253</td>\n",
       "      <td>253</td>\n",
       "      <td>250</td>\n",
       "      <td>4.26</td>\n",
       "    </tr>\n",
       "    <tr>\n",
       "      <th>3</th>\n",
       "      <td>кафе</td>\n",
       "      <td>1596</td>\n",
       "      <td>1596</td>\n",
       "      <td>1596</td>\n",
       "      <td>1596</td>\n",
       "      <td>1596</td>\n",
       "      <td>1559</td>\n",
       "      <td>26.87</td>\n",
       "    </tr>\n",
       "    <tr>\n",
       "      <th>7</th>\n",
       "      <td>ресторан</td>\n",
       "      <td>1616</td>\n",
       "      <td>1616</td>\n",
       "      <td>1616</td>\n",
       "      <td>1616</td>\n",
       "      <td>1616</td>\n",
       "      <td>1590</td>\n",
       "      <td>27.21</td>\n",
       "    </tr>\n",
       "    <tr>\n",
       "      <th>8</th>\n",
       "      <td>столовая</td>\n",
       "      <td>2009</td>\n",
       "      <td>2009</td>\n",
       "      <td>2009</td>\n",
       "      <td>2009</td>\n",
       "      <td>2009</td>\n",
       "      <td>1929</td>\n",
       "      <td>33.83</td>\n",
       "    </tr>\n",
       "  </tbody>\n",
       "</table>\n",
       "</div>"
      ],
      "text/plain": [
       "                         object_type    id  object_name  chain  address  \\\n",
       "5          магазин (отдел кулинарии)     1            1      1        1   \n",
       "4                          кафетерий     6            6      6        6   \n",
       "2                         закусочная     7            7      7        7   \n",
       "1                              буфет   209          209    209      209   \n",
       "0                                бар   242          242    242      242   \n",
       "6  предприятие быстрого обслуживания   253          253    253      253   \n",
       "3                               кафе  1596         1596   1596     1596   \n",
       "7                           ресторан  1616         1616   1616     1616   \n",
       "8                           столовая  2009         2009   2009     2009   \n",
       "\n",
       "   number  street  fraction,%  \n",
       "5       1       1        0.02  \n",
       "4       6       6        0.10  \n",
       "2       7       7        0.12  \n",
       "1     209     205        3.52  \n",
       "0     242     239        4.07  \n",
       "6     253     250        4.26  \n",
       "3    1596    1559       26.87  \n",
       "7    1616    1590       27.21  \n",
       "8    2009    1929       33.83  "
      ]
     },
     "execution_count": 27,
     "metadata": {},
     "output_type": "execute_result"
    }
   ],
   "source": [
    "std_type = std_cafe.groupby('object_type').count().reset_index().sort_values(by = 'id')\n",
    "std_type['fraction,%'] = (std_type['id']/std_type['id'].sum()*100).round(2)\n",
    "std_type"
   ]
  },
  {
   "cell_type": "code",
   "execution_count": 28,
   "id": "05b7dfa8",
   "metadata": {},
   "outputs": [
    {
     "data": {
      "image/png": "[encoded data removed]",
      "text/plain": [
       "<Figure size 720x360 with 1 Axes>"
      ]
     },
     "metadata": {
      "needs_background": "light"
     },
     "output_type": "display_data"
    }
   ],
   "source": [
    "plt.figure(figsize=(10,5))\n",
    "\n",
    "sns.barplot(x = 'fraction,%',y='object_type',data=std_type, \n",
    "            color = \"#00aa80\").set(xlabel='Проценты', ylabel='Типы', \n",
    "                title = 'Виды объектов общественного питания в заведениях от 50 до 500 мест, %')\n",
    "plt.show()"
   ]
  },
  {
   "cell_type": "markdown",
   "id": "1792e8e8",
   "metadata": {},
   "source": [
    "Здесь уже полностью пропали магазины, закусочные и кафетерии, в топе как и в общем топе- кафе, ресторан и столовая."
   ]
  },
  {
   "cell_type": "code",
   "execution_count": 29,
   "id": "69ce0de7",
   "metadata": {},
   "outputs": [
    {
     "data": {
      "text/html": [
       "<div>\n",
       "<style scoped>\n",
       "    .dataframe tbody tr th:only-of-type {\n",
       "        vertical-align: middle;\n",
       "    }\n",
       "\n",
       "    .dataframe tbody tr th {\n",
       "        vertical-align: top;\n",
       "    }\n",
       "\n",
       "    .dataframe thead th {\n",
       "        text-align: right;\n",
       "    }\n",
       "</style>\n",
       "<table border=\"1\" class=\"dataframe\">\n",
       "  <thead>\n",
       "    <tr style=\"text-align: right;\">\n",
       "      <th></th>\n",
       "      <th>object_type</th>\n",
       "      <th>id</th>\n",
       "      <th>object_name</th>\n",
       "      <th>chain</th>\n",
       "      <th>address</th>\n",
       "      <th>number</th>\n",
       "      <th>street</th>\n",
       "      <th>fraction,%</th>\n",
       "    </tr>\n",
       "  </thead>\n",
       "  <tbody>\n",
       "    <tr>\n",
       "      <th>0</th>\n",
       "      <td>бар</td>\n",
       "      <td>1</td>\n",
       "      <td>1</td>\n",
       "      <td>1</td>\n",
       "      <td>1</td>\n",
       "      <td>1</td>\n",
       "      <td>1</td>\n",
       "      <td>2.94</td>\n",
       "    </tr>\n",
       "    <tr>\n",
       "      <th>1</th>\n",
       "      <td>кафе</td>\n",
       "      <td>1</td>\n",
       "      <td>1</td>\n",
       "      <td>1</td>\n",
       "      <td>1</td>\n",
       "      <td>1</td>\n",
       "      <td>1</td>\n",
       "      <td>2.94</td>\n",
       "    </tr>\n",
       "    <tr>\n",
       "      <th>2</th>\n",
       "      <td>предприятие быстрого обслуживания</td>\n",
       "      <td>1</td>\n",
       "      <td>1</td>\n",
       "      <td>1</td>\n",
       "      <td>1</td>\n",
       "      <td>1</td>\n",
       "      <td>1</td>\n",
       "      <td>2.94</td>\n",
       "    </tr>\n",
       "    <tr>\n",
       "      <th>4</th>\n",
       "      <td>столовая</td>\n",
       "      <td>10</td>\n",
       "      <td>10</td>\n",
       "      <td>10</td>\n",
       "      <td>10</td>\n",
       "      <td>10</td>\n",
       "      <td>10</td>\n",
       "      <td>29.41</td>\n",
       "    </tr>\n",
       "    <tr>\n",
       "      <th>3</th>\n",
       "      <td>ресторан</td>\n",
       "      <td>21</td>\n",
       "      <td>21</td>\n",
       "      <td>21</td>\n",
       "      <td>21</td>\n",
       "      <td>21</td>\n",
       "      <td>21</td>\n",
       "      <td>61.76</td>\n",
       "    </tr>\n",
       "  </tbody>\n",
       "</table>\n",
       "</div>"
      ],
      "text/plain": [
       "                         object_type  id  object_name  chain  address  number  \\\n",
       "0                                бар   1            1      1        1       1   \n",
       "1                               кафе   1            1      1        1       1   \n",
       "2  предприятие быстрого обслуживания   1            1      1        1       1   \n",
       "4                           столовая  10           10     10       10      10   \n",
       "3                           ресторан  21           21     21       21      21   \n",
       "\n",
       "   street  fraction,%  \n",
       "0       1        2.94  \n",
       "1       1        2.94  \n",
       "2       1        2.94  \n",
       "4      10       29.41  \n",
       "3      21       61.76  "
      ]
     },
     "execution_count": 29,
     "metadata": {},
     "output_type": "execute_result"
    }
   ],
   "source": [
    "big_type = big_cafe.groupby('object_type').count().reset_index().sort_values(by = 'id')\n",
    "big_type['fraction,%'] = (big_type['id']/big_type['id'].sum()*100).round(2)\n",
    "big_type"
   ]
  },
  {
   "cell_type": "code",
   "execution_count": 30,
   "id": "7f56a6cc",
   "metadata": {},
   "outputs": [
    {
     "data": {
      "image/png": "[encoded data removed]",
      "text/plain": [
       "<Figure size 720x360 with 1 Axes>"
      ]
     },
     "metadata": {
      "needs_background": "light"
     },
     "output_type": "display_data"
    }
   ],
   "source": [
    "plt.figure(figsize=(10,5))\n",
    "\n",
    "sns.barplot(x = 'fraction,%',y='object_type',data=big_type, \n",
    "            color = \"#00aa80\").set(xlabel='Проценты', ylabel='Типы', \n",
    "                title = 'Виды объектов общественного питания в заведениях от 500 мест, %')\n",
    "plt.show()"
   ]
  },
  {
   "cell_type": "markdown",
   "id": "80a5ae06",
   "metadata": {},
   "source": [
    "В топе все так же ресторан и столовая, топ не отличается от общего."
   ]
  },
  {
   "cell_type": "markdown",
   "id": "c528a931",
   "metadata": {},
   "source": [
    "##### * Соотношение сетевых и несетевых заведений по количеству, график <a id = \"analyz2\"></a>"
   ]
  },
  {
   "cell_type": "code",
   "execution_count": 31,
   "id": "75d9fa2a",
   "metadata": {},
   "outputs": [
    {
     "data": {
      "text/html": [
       "<div>\n",
       "<style scoped>\n",
       "    .dataframe tbody tr th:only-of-type {\n",
       "        vertical-align: middle;\n",
       "    }\n",
       "\n",
       "    .dataframe tbody tr th {\n",
       "        vertical-align: top;\n",
       "    }\n",
       "\n",
       "    .dataframe thead th {\n",
       "        text-align: right;\n",
       "    }\n",
       "</style>\n",
       "<table border=\"1\" class=\"dataframe\">\n",
       "  <thead>\n",
       "    <tr style=\"text-align: right;\">\n",
       "      <th></th>\n",
       "      <th>chain</th>\n",
       "      <th>id</th>\n",
       "      <th>object_name</th>\n",
       "      <th>object_type</th>\n",
       "      <th>address</th>\n",
       "      <th>number</th>\n",
       "      <th>street</th>\n",
       "      <th>chain_fraction</th>\n",
       "    </tr>\n",
       "  </thead>\n",
       "  <tbody>\n",
       "    <tr>\n",
       "      <th>0</th>\n",
       "      <td>да</td>\n",
       "      <td>2700</td>\n",
       "      <td>2700</td>\n",
       "      <td>2700</td>\n",
       "      <td>2700</td>\n",
       "      <td>2700</td>\n",
       "      <td>2658</td>\n",
       "      <td>19.643507</td>\n",
       "    </tr>\n",
       "    <tr>\n",
       "      <th>1</th>\n",
       "      <td>нет</td>\n",
       "      <td>11045</td>\n",
       "      <td>11045</td>\n",
       "      <td>11045</td>\n",
       "      <td>11045</td>\n",
       "      <td>11045</td>\n",
       "      <td>10783</td>\n",
       "      <td>80.356493</td>\n",
       "    </tr>\n",
       "  </tbody>\n",
       "</table>\n",
       "</div>"
      ],
      "text/plain": [
       "  chain     id  object_name  object_type  address  number  street  \\\n",
       "0    да   2700         2700         2700     2700    2700    2658   \n",
       "1   нет  11045        11045        11045    11045   11045   10783   \n",
       "\n",
       "   chain_fraction  \n",
       "0       19.643507  \n",
       "1       80.356493  "
      ]
     },
     "execution_count": 31,
     "metadata": {},
     "output_type": "execute_result"
    }
   ],
   "source": [
    "group_data = data.groupby('chain').count().reset_index().sort_values(by = 'id')\n",
    "group_data['chain_fraction'] = group_data['id']/group_data['id'].sum()*100\n",
    "group_data"
   ]
  },
  {
   "cell_type": "code",
   "execution_count": 32,
   "id": "206bf816",
   "metadata": {},
   "outputs": [
    {
     "data": {
      "image/png": "[encoded data removed]",
      "text/plain": [
       "<Figure size 720x360 with 1 Axes>"
      ]
     },
     "metadata": {
      "needs_background": "light"
     },
     "output_type": "display_data"
    }
   ],
   "source": [
    "plt.figure(figsize=(10,5))\n",
    "\n",
    "sns.barplot(x = 'id',y='chain_fraction',data=group_data, color = \"#00aa80\").set(title = 'Сoотношение сетевых и несетевых по количеству',\n",
    "                                        xlabel='Количество', ylabel='Проценты')\n",
    "\n",
    "plt.show()"
   ]
  },
  {
   "cell_type": "markdown",
   "id": "a294e939",
   "metadata": {},
   "source": [
    "Логично, что сетевых в несколько раз меньше, чем несетевых. Изучим их более подробно."
   ]
  },
  {
   "cell_type": "markdown",
   "id": "9657e27f",
   "metadata": {},
   "source": [
    "##### * Вид объектов общественного питания характерные для сетевого распространения <a id = \"analyz3\"></a>"
   ]
  },
  {
   "cell_type": "code",
   "execution_count": 33,
   "id": "12b73547",
   "metadata": {},
   "outputs": [
    {
     "data": {
      "text/html": [
       "<div>\n",
       "<style scoped>\n",
       "    .dataframe tbody tr th:only-of-type {\n",
       "        vertical-align: middle;\n",
       "    }\n",
       "\n",
       "    .dataframe tbody tr th {\n",
       "        vertical-align: top;\n",
       "    }\n",
       "\n",
       "    .dataframe thead th {\n",
       "        text-align: right;\n",
       "    }\n",
       "</style>\n",
       "<table border=\"1\" class=\"dataframe\">\n",
       "  <thead>\n",
       "    <tr style=\"text-align: right;\">\n",
       "      <th></th>\n",
       "      <th>object_type</th>\n",
       "      <th>id</th>\n",
       "      <th>object_name</th>\n",
       "      <th>chain</th>\n",
       "      <th>address</th>\n",
       "      <th>number</th>\n",
       "      <th>street</th>\n",
       "      <th>fraction,%</th>\n",
       "    </tr>\n",
       "  </thead>\n",
       "  <tbody>\n",
       "    <tr>\n",
       "      <th>1</th>\n",
       "      <td>буфет</td>\n",
       "      <td>3</td>\n",
       "      <td>3</td>\n",
       "      <td>3</td>\n",
       "      <td>3</td>\n",
       "      <td>3</td>\n",
       "      <td>3</td>\n",
       "      <td>0.11</td>\n",
       "    </tr>\n",
       "    <tr>\n",
       "      <th>8</th>\n",
       "      <td>столовая</td>\n",
       "      <td>3</td>\n",
       "      <td>3</td>\n",
       "      <td>3</td>\n",
       "      <td>3</td>\n",
       "      <td>3</td>\n",
       "      <td>3</td>\n",
       "      <td>0.11</td>\n",
       "    </tr>\n",
       "    <tr>\n",
       "      <th>0</th>\n",
       "      <td>бар</td>\n",
       "      <td>36</td>\n",
       "      <td>36</td>\n",
       "      <td>36</td>\n",
       "      <td>36</td>\n",
       "      <td>36</td>\n",
       "      <td>35</td>\n",
       "      <td>1.33</td>\n",
       "    </tr>\n",
       "    <tr>\n",
       "      <th>4</th>\n",
       "      <td>кафетерий</td>\n",
       "      <td>37</td>\n",
       "      <td>37</td>\n",
       "      <td>37</td>\n",
       "      <td>37</td>\n",
       "      <td>37</td>\n",
       "      <td>37</td>\n",
       "      <td>1.37</td>\n",
       "    </tr>\n",
       "    <tr>\n",
       "      <th>2</th>\n",
       "      <td>закусочная</td>\n",
       "      <td>38</td>\n",
       "      <td>38</td>\n",
       "      <td>38</td>\n",
       "      <td>38</td>\n",
       "      <td>38</td>\n",
       "      <td>38</td>\n",
       "      <td>1.41</td>\n",
       "    </tr>\n",
       "    <tr>\n",
       "      <th>5</th>\n",
       "      <td>магазин (отдел кулинарии)</td>\n",
       "      <td>45</td>\n",
       "      <td>45</td>\n",
       "      <td>45</td>\n",
       "      <td>45</td>\n",
       "      <td>45</td>\n",
       "      <td>45</td>\n",
       "      <td>1.67</td>\n",
       "    </tr>\n",
       "    <tr>\n",
       "      <th>7</th>\n",
       "      <td>ресторан</td>\n",
       "      <td>526</td>\n",
       "      <td>526</td>\n",
       "      <td>526</td>\n",
       "      <td>526</td>\n",
       "      <td>526</td>\n",
       "      <td>517</td>\n",
       "      <td>19.48</td>\n",
       "    </tr>\n",
       "    <tr>\n",
       "      <th>6</th>\n",
       "      <td>предприятие быстрого обслуживания</td>\n",
       "      <td>671</td>\n",
       "      <td>671</td>\n",
       "      <td>671</td>\n",
       "      <td>671</td>\n",
       "      <td>671</td>\n",
       "      <td>660</td>\n",
       "      <td>24.85</td>\n",
       "    </tr>\n",
       "    <tr>\n",
       "      <th>3</th>\n",
       "      <td>кафе</td>\n",
       "      <td>1341</td>\n",
       "      <td>1341</td>\n",
       "      <td>1341</td>\n",
       "      <td>1341</td>\n",
       "      <td>1341</td>\n",
       "      <td>1320</td>\n",
       "      <td>49.67</td>\n",
       "    </tr>\n",
       "  </tbody>\n",
       "</table>\n",
       "</div>"
      ],
      "text/plain": [
       "                         object_type    id  object_name  chain  address  \\\n",
       "1                              буфет     3            3      3        3   \n",
       "8                           столовая     3            3      3        3   \n",
       "0                                бар    36           36     36       36   \n",
       "4                          кафетерий    37           37     37       37   \n",
       "2                         закусочная    38           38     38       38   \n",
       "5          магазин (отдел кулинарии)    45           45     45       45   \n",
       "7                           ресторан   526          526    526      526   \n",
       "6  предприятие быстрого обслуживания   671          671    671      671   \n",
       "3                               кафе  1341         1341   1341     1341   \n",
       "\n",
       "   number  street  fraction,%  \n",
       "1       3       3        0.11  \n",
       "8       3       3        0.11  \n",
       "0      36      35        1.33  \n",
       "4      37      37        1.37  \n",
       "2      38      38        1.41  \n",
       "5      45      45        1.67  \n",
       "7     526     517       19.48  \n",
       "6     671     660       24.85  \n",
       "3    1341    1320       49.67  "
      ]
     },
     "execution_count": 33,
     "metadata": {},
     "output_type": "execute_result"
    }
   ],
   "source": [
    "chain = data.query('chain==\"да\"').groupby('object_type').count().reset_index().sort_values(by = 'id')\n",
    "chain['fraction,%'] = (chain['id']/chain['id'].sum()*100).round(2)\n",
    "chain"
   ]
  },
  {
   "cell_type": "code",
   "execution_count": 34,
   "id": "d32f1a90",
   "metadata": {},
   "outputs": [
    {
     "data": {
      "image/png": "[encoded data removed]",
      "text/plain": [
       "<Figure size 720x360 with 1 Axes>"
      ]
     },
     "metadata": {
      "needs_background": "light"
     },
     "output_type": "display_data"
    }
   ],
   "source": [
    "plt.figure(figsize=(10,5))\n",
    "sns.barplot(x = 'fraction,%',y='object_type', data=chain, color = \"#00aa80\").set(xlabel='Проценты', ylabel='Типы', \n",
    "title = 'Сетевые,%')\n",
    "plt.show()"
   ]
  },
  {
   "cell_type": "markdown",
   "id": "c26a7d1a",
   "metadata": {},
   "source": [
    "В сетевом направлении топ такой же, как в общем количестве заведений. С огромным отрывом лидирует кафе - 50% на втором месте - предприятия быстрого обслуживания - 25%, на третьем - рестораны - 20%."
   ]
  },
  {
   "cell_type": "code",
   "execution_count": 35,
   "id": "82c605e3",
   "metadata": {},
   "outputs": [
    {
     "name": "stdout",
     "output_type": "stream",
     "text": [
      "Всего сетевых в заведениях с посадкой до 50 мест: 1542\n",
      "Доля сетевых в заведениях с посадкой до 50 мест:19.8%\n",
      "\n",
      "Всего сетевых в заведениях с посадкой от 50 до 500 мест: 1156\n",
      "Доля сетевых в заведениях с посадкой от 50 до 500 мест:19.5%\n",
      "\n",
      "Всего сетевых в заведениях с посадкой от 500 мест: 2\n",
      "Доля сетевых в заведениях с посадкой от 500 мест:5.9%\n"
     ]
    }
   ],
   "source": [
    "print('Всего сетевых в заведениях с посадкой до 50 мест:',len(little_cafe.query('chain==\"да\"')))\n",
    "l = len(little_cafe.query('chain==\"да\"'))/len(little_cafe)\n",
    "print(f'Доля сетевых в заведениях с посадкой до 50 мест:{l:.1%}')\n",
    "print()\n",
    "print('Всего сетевых в заведениях с посадкой от 50 до 500 мест:',len(std_cafe.query('chain==\"да\"')))\n",
    "s = len(std_cafe.query('chain==\"да\"'))/len(std_cafe)\n",
    "print(f'Доля сетевых в заведениях с посадкой от 50 до 500 мест:{s:.1%}')\n",
    "print()\n",
    "print('Всего сетевых в заведениях с посадкой от 500 мест:',len(big_cafe.query('chain==\"да\"')))\n",
    "b = len(big_cafe.query('chain==\"да\"'))/len(big_cafe)\n",
    "print(f'Доля сетевых в заведениях с посадкой от 500 мест:{b:.1%}')"
   ]
  },
  {
   "cell_type": "markdown",
   "id": "6393c5bb",
   "metadata": {},
   "source": [
    "Мы видим, что для сетевого распространения характерны:\n",
    "На первом месте - кафе(занимает почти 50% всей доли), на втором - предприятия быстрого обслуживания - 25%  и на третьем - рестораны - около 20%.\n",
    "Сетевые чаще встречаются в небольших и средних заведениях (до 500 посадочных мест)."
   ]
  },
  {
   "cell_type": "markdown",
   "id": "3ebb3fc6",
   "metadata": {},
   "source": [
    "##### Какой вид заведения имеет наибольшее соотношение количества сетевых ресторанов ко всем (сетевым и несетевым)"
   ]
  },
  {
   "cell_type": "code",
   "execution_count": 36,
   "id": "40cf60c5",
   "metadata": {},
   "outputs": [
    {
     "data": {
      "text/html": [
       "<div>\n",
       "<style scoped>\n",
       "    .dataframe tbody tr th:only-of-type {\n",
       "        vertical-align: middle;\n",
       "    }\n",
       "\n",
       "    .dataframe tbody tr th {\n",
       "        vertical-align: top;\n",
       "    }\n",
       "\n",
       "    .dataframe thead th {\n",
       "        text-align: right;\n",
       "    }\n",
       "</style>\n",
       "<table border=\"1\" class=\"dataframe\">\n",
       "  <thead>\n",
       "    <tr style=\"text-align: right;\">\n",
       "      <th>chain</th>\n",
       "      <th>object_type</th>\n",
       "      <th>да</th>\n",
       "      <th>нет</th>\n",
       "      <th>fraction,%</th>\n",
       "    </tr>\n",
       "  </thead>\n",
       "  <tbody>\n",
       "    <tr>\n",
       "      <th>6</th>\n",
       "      <td>предприятие быстрого обслуживания</td>\n",
       "      <td>671</td>\n",
       "      <td>548</td>\n",
       "      <td>55.05</td>\n",
       "    </tr>\n",
       "    <tr>\n",
       "      <th>5</th>\n",
       "      <td>магазин (отдел кулинарии)</td>\n",
       "      <td>45</td>\n",
       "      <td>83</td>\n",
       "      <td>35.16</td>\n",
       "    </tr>\n",
       "    <tr>\n",
       "      <th>7</th>\n",
       "      <td>ресторан</td>\n",
       "      <td>526</td>\n",
       "      <td>1714</td>\n",
       "      <td>23.48</td>\n",
       "    </tr>\n",
       "    <tr>\n",
       "      <th>3</th>\n",
       "      <td>кафе</td>\n",
       "      <td>1341</td>\n",
       "      <td>4448</td>\n",
       "      <td>23.16</td>\n",
       "    </tr>\n",
       "    <tr>\n",
       "      <th>2</th>\n",
       "      <td>закусочная</td>\n",
       "      <td>38</td>\n",
       "      <td>133</td>\n",
       "      <td>22.22</td>\n",
       "    </tr>\n",
       "    <tr>\n",
       "      <th>4</th>\n",
       "      <td>кафетерий</td>\n",
       "      <td>37</td>\n",
       "      <td>248</td>\n",
       "      <td>12.98</td>\n",
       "    </tr>\n",
       "    <tr>\n",
       "      <th>0</th>\n",
       "      <td>бар</td>\n",
       "      <td>36</td>\n",
       "      <td>792</td>\n",
       "      <td>4.35</td>\n",
       "    </tr>\n",
       "    <tr>\n",
       "      <th>1</th>\n",
       "      <td>буфет</td>\n",
       "      <td>3</td>\n",
       "      <td>514</td>\n",
       "      <td>0.58</td>\n",
       "    </tr>\n",
       "    <tr>\n",
       "      <th>8</th>\n",
       "      <td>столовая</td>\n",
       "      <td>3</td>\n",
       "      <td>2565</td>\n",
       "      <td>0.12</td>\n",
       "    </tr>\n",
       "  </tbody>\n",
       "</table>\n",
       "</div>"
      ],
      "text/plain": [
       "chain                        object_type    да   нет  fraction,%\n",
       "6      предприятие быстрого обслуживания   671   548       55.05\n",
       "5              магазин (отдел кулинарии)    45    83       35.16\n",
       "7                               ресторан   526  1714       23.48\n",
       "3                                   кафе  1341  4448       23.16\n",
       "2                             закусочная    38   133       22.22\n",
       "4                              кафетерий    37   248       12.98\n",
       "0                                    бар    36   792        4.35\n",
       "1                                  буфет     3   514        0.58\n",
       "8                               столовая     3  2565        0.12"
      ]
     },
     "execution_count": 36,
     "metadata": {},
     "output_type": "execute_result"
    }
   ],
   "source": [
    "data_pivot = data.pivot_table(index='object_type', columns=['chain'], values ='id', aggfunc='count' ).reset_index()\n",
    "data_pivot['fraction,%'] = (data_pivot['да']/(data_pivot['да']+data_pivot['нет'])*100).round(2)\n",
    "data_pivot.sort_values(by = 'fraction,%', ascending=False)"
   ]
  },
  {
   "cell_type": "markdown",
   "id": "a9efbfec",
   "metadata": {},
   "source": [
    "Наибольшее соотношение количества сетевых ресторанов ко всем (сетевым и несетевым) имеет предприятие быстрого обслуживания - аж 55%."
   ]
  },
  {
   "cell_type": "markdown",
   "id": "9d6390ae",
   "metadata": {},
   "source": [
    "##### Что характерно для сетей: много заведений с небольшим числом посадочных мест в каждом или мало заведений с большим количеством посадочных мест?"
   ]
  },
  {
   "cell_type": "code",
   "execution_count": 37,
   "id": "dd5d933e",
   "metadata": {},
   "outputs": [
    {
     "data": {
      "text/html": [
       "<div>\n",
       "<style scoped>\n",
       "    .dataframe tbody tr th:only-of-type {\n",
       "        vertical-align: middle;\n",
       "    }\n",
       "\n",
       "    .dataframe tbody tr th {\n",
       "        vertical-align: top;\n",
       "    }\n",
       "\n",
       "    .dataframe thead th {\n",
       "        text-align: right;\n",
       "    }\n",
       "</style>\n",
       "<table border=\"1\" class=\"dataframe\">\n",
       "  <thead>\n",
       "    <tr style=\"text-align: right;\">\n",
       "      <th></th>\n",
       "      <th>object_name</th>\n",
       "      <th>object_count</th>\n",
       "      <th>mean_number</th>\n",
       "    </tr>\n",
       "  </thead>\n",
       "  <tbody>\n",
       "    <tr>\n",
       "      <th>29</th>\n",
       "      <td>KFC</td>\n",
       "      <td>146</td>\n",
       "      <td>58.753425</td>\n",
       "    </tr>\n",
       "    <tr>\n",
       "      <th>675</th>\n",
       "      <td>Шоколадница</td>\n",
       "      <td>141</td>\n",
       "      <td>56.170213</td>\n",
       "    </tr>\n",
       "    <tr>\n",
       "      <th>400</th>\n",
       "      <td>Макдоналдс</td>\n",
       "      <td>113</td>\n",
       "      <td>87.991150</td>\n",
       "    </tr>\n",
       "    <tr>\n",
       "      <th>119</th>\n",
       "      <td>Бургер Кинг</td>\n",
       "      <td>111</td>\n",
       "      <td>49.477477</td>\n",
       "    </tr>\n",
       "    <tr>\n",
       "      <th>185</th>\n",
       "      <td>Домино'с Пицца</td>\n",
       "      <td>86</td>\n",
       "      <td>18.209302</td>\n",
       "    </tr>\n",
       "    <tr>\n",
       "      <th>...</th>\n",
       "      <td>...</td>\n",
       "      <td>...</td>\n",
       "      <td>...</td>\n",
       "    </tr>\n",
       "    <tr>\n",
       "      <th>283</th>\n",
       "      <td>Кафе «Му-му»</td>\n",
       "      <td>1</td>\n",
       "      <td>100.000000</td>\n",
       "    </tr>\n",
       "    <tr>\n",
       "      <th>281</th>\n",
       "      <td>Кафе «Менза»</td>\n",
       "      <td>1</td>\n",
       "      <td>165.000000</td>\n",
       "    </tr>\n",
       "    <tr>\n",
       "      <th>280</th>\n",
       "      <td>Кафе «Марукамэ»</td>\n",
       "      <td>1</td>\n",
       "      <td>40.000000</td>\n",
       "    </tr>\n",
       "    <tr>\n",
       "      <th>278</th>\n",
       "      <td>Кафе «МЕЛЕНКА»</td>\n",
       "      <td>1</td>\n",
       "      <td>60.000000</td>\n",
       "    </tr>\n",
       "    <tr>\n",
       "      <th>696</th>\n",
       "      <td>ресторан «Якитория»</td>\n",
       "      <td>1</td>\n",
       "      <td>124.000000</td>\n",
       "    </tr>\n",
       "  </tbody>\n",
       "</table>\n",
       "<p>697 rows × 3 columns</p>\n",
       "</div>"
      ],
      "text/plain": [
       "             object_name  object_count  mean_number\n",
       "29                   KFC           146    58.753425\n",
       "675          Шоколадница           141    56.170213\n",
       "400           Макдоналдс           113    87.991150\n",
       "119          Бургер Кинг           111    49.477477\n",
       "185       Домино'с Пицца            86    18.209302\n",
       "..                   ...           ...          ...\n",
       "283         Кафе «Му-му»             1   100.000000\n",
       "281         Кафе «Менза»             1   165.000000\n",
       "280      Кафе «Марукамэ»             1    40.000000\n",
       "278       Кафе «МЕЛЕНКА»             1    60.000000\n",
       "696  ресторан «Якитория»             1   124.000000\n",
       "\n",
       "[697 rows x 3 columns]"
      ]
     },
     "execution_count": 37,
     "metadata": {},
     "output_type": "execute_result"
    }
   ],
   "source": [
    "data_grouped = data.query('chain== \"да\"').groupby(['object_name'],as_index=False).agg(\n",
    "object_count = ('id','nunique'),\n",
    "mean_number = ('number', 'mean')).sort_values(by = 'object_count', ascending = False)\n",
    "data_grouped"
   ]
  },
  {
   "cell_type": "code",
   "execution_count": 38,
   "id": "3f6274fc",
   "metadata": {},
   "outputs": [
    {
     "data": {
      "text/plain": [
       "439"
      ]
     },
     "execution_count": 38,
     "metadata": {},
     "output_type": "execute_result"
    }
   ],
   "source": [
    "len(data_grouped.query('object_count==1'))"
   ]
  },
  {
   "cell_type": "code",
   "execution_count": 39,
   "id": "75b4fe12",
   "metadata": {},
   "outputs": [
    {
     "data": {
      "text/plain": [
       "356.0"
      ]
     },
     "execution_count": 39,
     "metadata": {},
     "output_type": "execute_result"
    }
   ],
   "source": [
    "data_grouped['mean_number'].max()"
   ]
  },
  {
   "cell_type": "markdown",
   "id": "7d3e39ab",
   "metadata": {},
   "source": [
    "Мы видим, что у нас есть 697 сетевых заведений, среди которых 439- представлены в Москве только одной штукой. Посмотрим графики."
   ]
  },
  {
   "cell_type": "code",
   "execution_count": 40,
   "id": "a2423761",
   "metadata": {},
   "outputs": [
    {
     "data": {
      "image/png": "[encoded data removed]",
      "text/plain": [
       "<Figure size 648x648 with 4 Axes>"
      ]
     },
     "metadata": {
      "needs_background": "light"
     },
     "output_type": "display_data"
    }
   ],
   "source": [
    "pd.plotting.scatter_matrix(data_grouped, figsize=(9, 9))\n",
    "plt.suptitle('Матрица диаграмм рассеяния')\n",
    "plt.show()"
   ]
  },
  {
   "cell_type": "code",
   "execution_count": 41,
   "id": "063866f5",
   "metadata": {},
   "outputs": [
    {
     "data": {
      "image/png": "[encoded data removed]",
      "text/plain": [
       "<Figure size 504x504 with 1 Axes>"
      ]
     },
     "metadata": {
      "needs_background": "light"
     },
     "output_type": "display_data"
    }
   ],
   "source": [
    "data_grouped.plot.scatter(y = 'object_count', x = 'mean_number', c='#00aa80', alpha=0.5, figsize=(7,7)).set(xlabel='Среднее количество мест', \n",
    "ylabel='Количество заведений', \n",
    "title = 'Взаимосвязь количества заведений и количества мест')\n",
    "plt.show()"
   ]
  },
  {
   "cell_type": "markdown",
   "id": "e797a633",
   "metadata": {},
   "source": [
    "В проекте мы уже квалифицировали заведения на  - до 50 мест, от 50 до 500 и более 500. \n",
    "\n",
    "У большинства сетевых - мало заведений (меньше 50) и мало мест(меньше 50).\n",
    "\n",
    "Самое большое количество мест- у сетевых с самым низким количеством заведений(1). Максимум - 356\n",
    "Самое большое количество заведений у KFC - 146, со средним количеством мест - 58.7"
   ]
  },
  {
   "cell_type": "markdown",
   "id": "9b2e46f6",
   "metadata": {},
   "source": [
    " ##### * Среднее количество посадочных мест по типам заведения <a id = \"analyz5\"></a>"
   ]
  },
  {
   "cell_type": "code",
   "execution_count": 42,
   "id": "52eb1979",
   "metadata": {},
   "outputs": [
    {
     "data": {
      "text/html": [
       "<div>\n",
       "<style scoped>\n",
       "    .dataframe tbody tr th:only-of-type {\n",
       "        vertical-align: middle;\n",
       "    }\n",
       "\n",
       "    .dataframe tbody tr th {\n",
       "        vertical-align: top;\n",
       "    }\n",
       "\n",
       "    .dataframe thead th {\n",
       "        text-align: right;\n",
       "    }\n",
       "</style>\n",
       "<table border=\"1\" class=\"dataframe\">\n",
       "  <thead>\n",
       "    <tr style=\"text-align: right;\">\n",
       "      <th></th>\n",
       "      <th>object_type</th>\n",
       "      <th>number</th>\n",
       "    </tr>\n",
       "  </thead>\n",
       "  <tbody>\n",
       "    <tr>\n",
       "      <th>0</th>\n",
       "      <td>столовая</td>\n",
       "      <td>131.210280</td>\n",
       "    </tr>\n",
       "    <tr>\n",
       "      <th>1</th>\n",
       "      <td>ресторан</td>\n",
       "      <td>98.779464</td>\n",
       "    </tr>\n",
       "    <tr>\n",
       "      <th>2</th>\n",
       "      <td>буфет</td>\n",
       "      <td>57.854932</td>\n",
       "    </tr>\n",
       "    <tr>\n",
       "      <th>3</th>\n",
       "      <td>бар</td>\n",
       "      <td>44.964976</td>\n",
       "    </tr>\n",
       "    <tr>\n",
       "      <th>4</th>\n",
       "      <td>кафе</td>\n",
       "      <td>41.842805</td>\n",
       "    </tr>\n",
       "    <tr>\n",
       "      <th>5</th>\n",
       "      <td>предприятие быстрого обслуживания</td>\n",
       "      <td>32.421657</td>\n",
       "    </tr>\n",
       "    <tr>\n",
       "      <th>6</th>\n",
       "      <td>закусочная</td>\n",
       "      <td>16.017544</td>\n",
       "    </tr>\n",
       "    <tr>\n",
       "      <th>7</th>\n",
       "      <td>кафетерий</td>\n",
       "      <td>12.740351</td>\n",
       "    </tr>\n",
       "    <tr>\n",
       "      <th>8</th>\n",
       "      <td>магазин (отдел кулинарии)</td>\n",
       "      <td>11.921875</td>\n",
       "    </tr>\n",
       "  </tbody>\n",
       "</table>\n",
       "</div>"
      ],
      "text/plain": [
       "                         object_type      number\n",
       "0                           столовая  131.210280\n",
       "1                           ресторан   98.779464\n",
       "2                              буфет   57.854932\n",
       "3                                бар   44.964976\n",
       "4                               кафе   41.842805\n",
       "5  предприятие быстрого обслуживания   32.421657\n",
       "6                         закусочная   16.017544\n",
       "7                          кафетерий   12.740351\n",
       "8          магазин (отдел кулинарии)   11.921875"
      ]
     },
     "execution_count": 42,
     "metadata": {},
     "output_type": "execute_result"
    }
   ],
   "source": [
    "data.groupby('object_type').agg({'number' : 'mean'}).sort_values(by = 'number', ascending = False).reset_index()"
   ]
  },
  {
   "cell_type": "code",
   "execution_count": 43,
   "id": "420009a2",
   "metadata": {},
   "outputs": [
    {
     "data": {
      "image/png": "[encoded data removed]",
      "text/plain": [
       "<Figure size 720x360 with 1 Axes>"
      ]
     },
     "metadata": {
      "needs_background": "light"
     },
     "output_type": "display_data"
    }
   ],
   "source": [
    "plt.figure(figsize=(10,5))\n",
    "sns.barplot(x = 'number',y='object_type', data=data.groupby('object_type').agg({'number' : 'mean'}).sort_values(by = 'number', ascending = False).reset_index(), color = \"#00aa80\").set(xlabel='Среднее количество', ylabel='Типы', \n",
    "title = 'Посадочные места')\n",
    "plt.show()"
   ]
  },
  {
   "cell_type": "markdown",
   "id": "089dc641",
   "metadata": {},
   "source": [
    "Больше всего посадочных мест в столовой, рна втором месте -ресторан, на третьем - буфет, но из-за выбросов в данных, смотреть среднее по всей выборке- не правильно, лучше смотреть среднее в разбивке по категориям."
   ]
  },
  {
   "cell_type": "code",
   "execution_count": 44,
   "id": "37882437",
   "metadata": {},
   "outputs": [
    {
     "data": {
      "text/html": [
       "<div>\n",
       "<style scoped>\n",
       "    .dataframe tbody tr th:only-of-type {\n",
       "        vertical-align: middle;\n",
       "    }\n",
       "\n",
       "    .dataframe tbody tr th {\n",
       "        vertical-align: top;\n",
       "    }\n",
       "\n",
       "    .dataframe thead th {\n",
       "        text-align: right;\n",
       "    }\n",
       "</style>\n",
       "<table border=\"1\" class=\"dataframe\">\n",
       "  <thead>\n",
       "    <tr style=\"text-align: right;\">\n",
       "      <th></th>\n",
       "      <th>object_type</th>\n",
       "      <th>number</th>\n",
       "    </tr>\n",
       "  </thead>\n",
       "  <tbody>\n",
       "    <tr>\n",
       "      <th>0</th>\n",
       "      <td>ресторан</td>\n",
       "      <td>34.046434</td>\n",
       "    </tr>\n",
       "    <tr>\n",
       "      <th>1</th>\n",
       "      <td>столовая</td>\n",
       "      <td>32.349727</td>\n",
       "    </tr>\n",
       "    <tr>\n",
       "      <th>2</th>\n",
       "      <td>бар</td>\n",
       "      <td>26.244444</td>\n",
       "    </tr>\n",
       "    <tr>\n",
       "      <th>3</th>\n",
       "      <td>кафе</td>\n",
       "      <td>25.162691</td>\n",
       "    </tr>\n",
       "    <tr>\n",
       "      <th>4</th>\n",
       "      <td>буфет</td>\n",
       "      <td>23.561688</td>\n",
       "    </tr>\n",
       "    <tr>\n",
       "      <th>5</th>\n",
       "      <td>предприятие быстрого обслуживания</td>\n",
       "      <td>15.920207</td>\n",
       "    </tr>\n",
       "    <tr>\n",
       "      <th>6</th>\n",
       "      <td>закусочная</td>\n",
       "      <td>13.060976</td>\n",
       "    </tr>\n",
       "    <tr>\n",
       "      <th>7</th>\n",
       "      <td>магазин (отдел кулинарии)</td>\n",
       "      <td>11.622047</td>\n",
       "    </tr>\n",
       "    <tr>\n",
       "      <th>8</th>\n",
       "      <td>кафетерий</td>\n",
       "      <td>11.157706</td>\n",
       "    </tr>\n",
       "  </tbody>\n",
       "</table>\n",
       "</div>"
      ],
      "text/plain": [
       "                         object_type     number\n",
       "0                           ресторан  34.046434\n",
       "1                           столовая  32.349727\n",
       "2                                бар  26.244444\n",
       "3                               кафе  25.162691\n",
       "4                              буфет  23.561688\n",
       "5  предприятие быстрого обслуживания  15.920207\n",
       "6                         закусочная  13.060976\n",
       "7          магазин (отдел кулинарии)  11.622047\n",
       "8                          кафетерий  11.157706"
      ]
     },
     "execution_count": 44,
     "metadata": {},
     "output_type": "execute_result"
    }
   ],
   "source": [
    "little_cafe.groupby('object_type').agg({'number' : 'mean'}).sort_values(by = 'number', ascending = False).reset_index()"
   ]
  },
  {
   "cell_type": "markdown",
   "id": "8c85c59a",
   "metadata": {},
   "source": [
    "В заведениях до 50 мест в топе - ресторан - 34, столовая-32 и бар-26."
   ]
  },
  {
   "cell_type": "code",
   "execution_count": 45,
   "id": "45731d3a",
   "metadata": {},
   "outputs": [
    {
     "data": {
      "text/html": [
       "<div>\n",
       "<style scoped>\n",
       "    .dataframe tbody tr th:only-of-type {\n",
       "        vertical-align: middle;\n",
       "    }\n",
       "\n",
       "    .dataframe tbody tr th {\n",
       "        vertical-align: top;\n",
       "    }\n",
       "\n",
       "    .dataframe thead th {\n",
       "        text-align: right;\n",
       "    }\n",
       "</style>\n",
       "<table border=\"1\" class=\"dataframe\">\n",
       "  <thead>\n",
       "    <tr style=\"text-align: right;\">\n",
       "      <th></th>\n",
       "      <th>object_type</th>\n",
       "      <th>number</th>\n",
       "    </tr>\n",
       "  </thead>\n",
       "  <tbody>\n",
       "    <tr>\n",
       "      <th>0</th>\n",
       "      <td>столовая</td>\n",
       "      <td>155.199602</td>\n",
       "    </tr>\n",
       "    <tr>\n",
       "      <th>1</th>\n",
       "      <td>ресторан</td>\n",
       "      <td>114.906559</td>\n",
       "    </tr>\n",
       "    <tr>\n",
       "      <th>2</th>\n",
       "      <td>буфет</td>\n",
       "      <td>108.392344</td>\n",
       "    </tr>\n",
       "    <tr>\n",
       "      <th>3</th>\n",
       "      <td>предприятие быстрого обслуживания</td>\n",
       "      <td>93.197628</td>\n",
       "    </tr>\n",
       "    <tr>\n",
       "      <th>4</th>\n",
       "      <td>кафетерий</td>\n",
       "      <td>86.333333</td>\n",
       "    </tr>\n",
       "    <tr>\n",
       "      <th>5</th>\n",
       "      <td>кафе</td>\n",
       "      <td>85.346491</td>\n",
       "    </tr>\n",
       "    <tr>\n",
       "      <th>6</th>\n",
       "      <td>закусочная</td>\n",
       "      <td>85.285714</td>\n",
       "    </tr>\n",
       "    <tr>\n",
       "      <th>7</th>\n",
       "      <td>бар</td>\n",
       "      <td>83.380165</td>\n",
       "    </tr>\n",
       "    <tr>\n",
       "      <th>8</th>\n",
       "      <td>магазин (отдел кулинарии)</td>\n",
       "      <td>50.000000</td>\n",
       "    </tr>\n",
       "  </tbody>\n",
       "</table>\n",
       "</div>"
      ],
      "text/plain": [
       "                         object_type      number\n",
       "0                           столовая  155.199602\n",
       "1                           ресторан  114.906559\n",
       "2                              буфет  108.392344\n",
       "3  предприятие быстрого обслуживания   93.197628\n",
       "4                          кафетерий   86.333333\n",
       "5                               кафе   85.346491\n",
       "6                         закусочная   85.285714\n",
       "7                                бар   83.380165\n",
       "8          магазин (отдел кулинарии)   50.000000"
      ]
     },
     "execution_count": 45,
     "metadata": {},
     "output_type": "execute_result"
    }
   ],
   "source": [
    "std_cafe.groupby('object_type').agg({'number' : 'mean'}).sort_values(by = 'number', ascending = False).reset_index()"
   ]
  },
  {
   "cell_type": "markdown",
   "id": "eedfa69d",
   "metadata": {},
   "source": [
    "В заведениях от 50 до 500: в столовой среднее- 155, ресторан - 115, буфет-108."
   ]
  },
  {
   "cell_type": "code",
   "execution_count": 46,
   "id": "c9619d6c",
   "metadata": {},
   "outputs": [
    {
     "data": {
      "text/html": [
       "<div>\n",
       "<style scoped>\n",
       "    .dataframe tbody tr th:only-of-type {\n",
       "        vertical-align: middle;\n",
       "    }\n",
       "\n",
       "    .dataframe tbody tr th {\n",
       "        vertical-align: top;\n",
       "    }\n",
       "\n",
       "    .dataframe thead th {\n",
       "        text-align: right;\n",
       "    }\n",
       "</style>\n",
       "<table border=\"1\" class=\"dataframe\">\n",
       "  <thead>\n",
       "    <tr style=\"text-align: right;\">\n",
       "      <th></th>\n",
       "      <th>object_type</th>\n",
       "      <th>number</th>\n",
       "    </tr>\n",
       "  </thead>\n",
       "  <tbody>\n",
       "    <tr>\n",
       "      <th>0</th>\n",
       "      <td>бар</td>\n",
       "      <td>1700.00000</td>\n",
       "    </tr>\n",
       "    <tr>\n",
       "      <th>1</th>\n",
       "      <td>столовая</td>\n",
       "      <td>739.20000</td>\n",
       "    </tr>\n",
       "    <tr>\n",
       "      <th>2</th>\n",
       "      <td>ресторан</td>\n",
       "      <td>716.52381</td>\n",
       "    </tr>\n",
       "    <tr>\n",
       "      <th>3</th>\n",
       "      <td>предприятие быстрого обслуживания</td>\n",
       "      <td>580.00000</td>\n",
       "    </tr>\n",
       "    <tr>\n",
       "      <th>4</th>\n",
       "      <td>кафе</td>\n",
       "      <td>533.00000</td>\n",
       "    </tr>\n",
       "  </tbody>\n",
       "</table>\n",
       "</div>"
      ],
      "text/plain": [
       "                         object_type      number\n",
       "0                                бар  1700.00000\n",
       "1                           столовая   739.20000\n",
       "2                           ресторан   716.52381\n",
       "3  предприятие быстрого обслуживания   580.00000\n",
       "4                               кафе   533.00000"
      ]
     },
     "execution_count": 46,
     "metadata": {},
     "output_type": "execute_result"
    }
   ],
   "source": [
    "big_cafe.groupby('object_type').agg({'number' : 'mean'}).sort_values(by = 'number', ascending = False).reset_index()"
   ]
  },
  {
   "cell_type": "markdown",
   "id": "047622c0",
   "metadata": {},
   "source": [
    "В крупных ресторанах в топе бар (скорее всего некорректное заполнение), столовая - 739, ресторан- 716, кафе - 533."
   ]
  },
  {
   "cell_type": "markdown",
   "id": "8281be1e",
   "metadata": {},
   "source": [
    "##### * Топ-10 улиц по количеству объектов общественного питания  <a id = \"analyz6\"></a>"
   ]
  },
  {
   "cell_type": "code",
   "execution_count": 47,
   "id": "8c02dca4",
   "metadata": {},
   "outputs": [
    {
     "data": {
      "image/png": "[encoded data removed]",
      "text/plain": [
       "<Figure size 720x360 with 1 Axes>"
      ]
     },
     "metadata": {
      "needs_background": "light"
     },
     "output_type": "display_data"
    }
   ],
   "source": [
    "top_10 = data.groupby('street').count().sort_values(by ='id', ascending = False).reset_index().head(10)\n",
    "plt.figure(figsize=(10,5))\n",
    "sns.barplot(x = 'id',y='street', data = top_10, color = \"#00aa80\").set(xlabel=\n",
    "'Kоличество', ylabel='Типы', title = 'Топ-10 улиц')\n",
    "plt.show()"
   ]
  },
  {
   "cell_type": "code",
   "execution_count": 48,
   "id": "8c03fcc1",
   "metadata": {},
   "outputs": [
    {
     "name": "stdout",
     "output_type": "stream",
     "text": [
      "Доля заведений на топовых улицах:10%\n"
     ]
    }
   ],
   "source": [
    "data_sum  = data.groupby('street').count().sort_values(by ='id', ascending = False).reset_index()\n",
    "data_sum['id'].sum()\n",
    "y = top_10['id'].sum()/data_sum['id'].sum()\n",
    "print(f'Доля заведений на топовых улицах:{y:.0%}')"
   ]
  },
  {
   "cell_type": "code",
   "execution_count": 49,
   "id": "8b35ddd2",
   "metadata": {},
   "outputs": [
    {
     "data": {
      "text/html": [
       "<div>\n",
       "<style scoped>\n",
       "    .dataframe tbody tr th:only-of-type {\n",
       "        vertical-align: middle;\n",
       "    }\n",
       "\n",
       "    .dataframe tbody tr th {\n",
       "        vertical-align: top;\n",
       "    }\n",
       "\n",
       "    .dataframe thead th {\n",
       "        text-align: right;\n",
       "    }\n",
       "</style>\n",
       "<table border=\"1\" class=\"dataframe\">\n",
       "  <thead>\n",
       "    <tr style=\"text-align: right;\">\n",
       "      <th></th>\n",
       "      <th>id</th>\n",
       "      <th>object_name</th>\n",
       "      <th>object_type</th>\n",
       "      <th>address</th>\n",
       "      <th>number</th>\n",
       "      <th>belongs_to_chain</th>\n",
       "      <th>street</th>\n",
       "      <th>coordinates</th>\n",
       "      <th>district</th>\n",
       "    </tr>\n",
       "  </thead>\n",
       "  <tbody>\n",
       "    <tr>\n",
       "      <th>0</th>\n",
       "      <td>151635</td>\n",
       "      <td>СМЕТАНА</td>\n",
       "      <td>кафе</td>\n",
       "      <td>город Москва, улица Егора Абакумова, дом 9</td>\n",
       "      <td>48</td>\n",
       "      <td>False</td>\n",
       "      <td>улица Егора Абакумова</td>\n",
       "      <td>37.714474 55.879005</td>\n",
       "      <td>Ярославский район</td>\n",
       "    </tr>\n",
       "    <tr>\n",
       "      <th>1</th>\n",
       "      <td>77874</td>\n",
       "      <td>Родник</td>\n",
       "      <td>кафе</td>\n",
       "      <td>город Москва, улица Талалихина, дом 2/1, корпус 1</td>\n",
       "      <td>35</td>\n",
       "      <td>False</td>\n",
       "      <td>улица Талалихина</td>\n",
       "      <td>37.673295 55.738307</td>\n",
       "      <td>Таганский район</td>\n",
       "    </tr>\n",
       "    <tr>\n",
       "      <th>2</th>\n",
       "      <td>24309</td>\n",
       "      <td>Кафе «Академия»</td>\n",
       "      <td>кафе</td>\n",
       "      <td>город Москва, Абельмановская улица, дом 6</td>\n",
       "      <td>95</td>\n",
       "      <td>False</td>\n",
       "      <td>Абельмановская улица</td>\n",
       "      <td>37.669576 55.735571</td>\n",
       "      <td>Таганский район</td>\n",
       "    </tr>\n",
       "    <tr>\n",
       "      <th>3</th>\n",
       "      <td>21894</td>\n",
       "      <td>ПИЦЦЕТОРИЯ</td>\n",
       "      <td>кафе</td>\n",
       "      <td>город Москва, Абрамцевская улица, дом 1</td>\n",
       "      <td>40</td>\n",
       "      <td>True</td>\n",
       "      <td>Абрамцевская улица</td>\n",
       "      <td>37.573007 55.892713</td>\n",
       "      <td>район Лианозово</td>\n",
       "    </tr>\n",
       "    <tr>\n",
       "      <th>4</th>\n",
       "      <td>119365</td>\n",
       "      <td>Кафе «Вишневая метель»</td>\n",
       "      <td>кафе</td>\n",
       "      <td>город Москва, Абрамцевская улица, дом 9, корпус 1</td>\n",
       "      <td>50</td>\n",
       "      <td>False</td>\n",
       "      <td>Абрамцевская улица</td>\n",
       "      <td>37.572279 55.904074</td>\n",
       "      <td>район Лианозово</td>\n",
       "    </tr>\n",
       "  </tbody>\n",
       "</table>\n",
       "</div>"
      ],
      "text/plain": [
       "       id             object_name object_type  \\\n",
       "0  151635                 СМЕТАНА        кафе   \n",
       "1   77874                  Родник        кафе   \n",
       "2   24309         Кафе «Академия»        кафе   \n",
       "3   21894              ПИЦЦЕТОРИЯ        кафе   \n",
       "4  119365  Кафе «Вишневая метель»        кафе   \n",
       "\n",
       "                                             address  number  \\\n",
       "0         город Москва, улица Егора Абакумова, дом 9      48   \n",
       "1  город Москва, улица Талалихина, дом 2/1, корпус 1      35   \n",
       "2          город Москва, Абельмановская улица, дом 6      95   \n",
       "3            город Москва, Абрамцевская улица, дом 1      40   \n",
       "4  город Москва, Абрамцевская улица, дом 9, корпус 1      50   \n",
       "\n",
       "   belongs_to_chain                 street          coordinates  \\\n",
       "0             False  улица Егора Абакумова  37.714474 55.879005   \n",
       "1             False       улица Талалихина  37.673295 55.738307   \n",
       "2             False   Абельмановская улица  37.669576 55.735571   \n",
       "3              True     Абрамцевская улица  37.573007 55.892713   \n",
       "4             False     Абрамцевская улица  37.572279 55.904074   \n",
       "\n",
       "            district  \n",
       "0  Ярославский район  \n",
       "1    Таганский район  \n",
       "2    Таганский район  \n",
       "3    район Лианозово  \n",
       "4    район Лианозово  "
      ]
     },
     "execution_count": 49,
     "metadata": {},
     "output_type": "execute_result"
    }
   ],
   "source": [
    "from io import BytesIO\n",
    "spreadsheet_id = '1KJ3cifd1dYVcPxoG4VCaFX8bjuiXH5Z1SoGmOLxu5sA'\n",
    "file_name = 'https://docs.google.com/spreadsheets/d/{}/export?format=csv'.format(spreadsheet_id)\n",
    "r = requests.get(file_name)\n",
    "df = pd.read_csv(BytesIO(r.content))\n",
    "\n",
    "df.head()"
   ]
  },
  {
   "cell_type": "markdown",
   "id": "5978e3a9",
   "metadata": {},
   "source": [
    "Создадим датафрейм, в который сохраним информацию только о заведениях, находящихся на топ-10 улицах"
   ]
  },
  {
   "cell_type": "code",
   "execution_count": 50,
   "id": "e14138aa",
   "metadata": {},
   "outputs": [
    {
     "data": {
      "text/html": [
       "<div>\n",
       "<style scoped>\n",
       "    .dataframe tbody tr th:only-of-type {\n",
       "        vertical-align: middle;\n",
       "    }\n",
       "\n",
       "    .dataframe tbody tr th {\n",
       "        vertical-align: top;\n",
       "    }\n",
       "\n",
       "    .dataframe thead th {\n",
       "        text-align: right;\n",
       "    }\n",
       "</style>\n",
       "<table border=\"1\" class=\"dataframe\">\n",
       "  <thead>\n",
       "    <tr style=\"text-align: right;\">\n",
       "      <th></th>\n",
       "      <th>district</th>\n",
       "      <th>street</th>\n",
       "    </tr>\n",
       "  </thead>\n",
       "  <tbody>\n",
       "    <tr>\n",
       "      <th>28</th>\n",
       "      <td>Обручевский район</td>\n",
       "      <td>2</td>\n",
       "    </tr>\n",
       "    <tr>\n",
       "      <th>59</th>\n",
       "      <td>район Тропарёво-Никулино</td>\n",
       "      <td>2</td>\n",
       "    </tr>\n",
       "    <tr>\n",
       "      <th>50</th>\n",
       "      <td>район Нагатино-Садовники</td>\n",
       "      <td>2</td>\n",
       "    </tr>\n",
       "    <tr>\n",
       "      <th>22</th>\n",
       "      <td>Донской район</td>\n",
       "      <td>2</td>\n",
       "    </tr>\n",
       "    <tr>\n",
       "      <th>23</th>\n",
       "      <td>Ломоносовский район</td>\n",
       "      <td>2</td>\n",
       "    </tr>\n",
       "    <tr>\n",
       "      <th>16</th>\n",
       "      <td>9-й микрорайон</td>\n",
       "      <td>2</td>\n",
       "    </tr>\n",
       "    <tr>\n",
       "      <th>53</th>\n",
       "      <td>район Проспект Вернадского</td>\n",
       "      <td>2</td>\n",
       "    </tr>\n",
       "    <tr>\n",
       "      <th>20</th>\n",
       "      <td>Гагаринский район</td>\n",
       "      <td>2</td>\n",
       "    </tr>\n",
       "    <tr>\n",
       "      <th>1</th>\n",
       "      <td>1-й микрорайон</td>\n",
       "      <td>2</td>\n",
       "    </tr>\n",
       "    <tr>\n",
       "      <th>44</th>\n",
       "      <td>район Беговой</td>\n",
       "      <td>1</td>\n",
       "    </tr>\n",
       "  </tbody>\n",
       "</table>\n",
       "</div>"
      ],
      "text/plain": [
       "                      district  street\n",
       "28           Обручевский район       2\n",
       "59    район Тропарёво-Никулино       2\n",
       "50    район Нагатино-Садовники       2\n",
       "22               Донской район       2\n",
       "23         Ломоносовский район       2\n",
       "16              9-й микрорайон       2\n",
       "53  район Проспект Вернадского       2\n",
       "20           Гагаринский район       2\n",
       "1               1-й микрорайон       2\n",
       "44               район Беговой       1"
      ]
     },
     "execution_count": 50,
     "metadata": {},
     "output_type": "execute_result"
    }
   ],
   "source": [
    "top10_streets = top_10.merge(df, on = 'street', how = 'left')\n",
    "top10_streets = top10_streets.groupby(['street', 'district']).count().reset_index()\n",
    "top10_streets = top10_streets[['street','district']]\n",
    "# сгруппируем по районам-где больше всего топовых улиц\n",
    "top10_streets.groupby('district').count().reset_index().sort_values(by = 'street', ascending = False).head(10)"
   ]
  },
  {
   "cell_type": "markdown",
   "id": "97e06f81",
   "metadata": {},
   "source": [
    "Топовые улицы не распределены в одном районе, в одном районе-максимум 2 топовые улицы. Улицы очень длинные и большинство из них находится между МКАД и Садовым кольцом."
   ]
  },
  {
   "cell_type": "markdown",
   "id": "9e0b5264",
   "metadata": {},
   "source": [
    "##### * Улицы с одним объектом общественного питания  <a id = \"analyz7\"></a>"
   ]
  },
  {
   "cell_type": "code",
   "execution_count": 51,
   "id": "fce37e98",
   "metadata": {},
   "outputs": [
    {
     "data": {
      "text/html": [
       "<div>\n",
       "<style scoped>\n",
       "    .dataframe tbody tr th:only-of-type {\n",
       "        vertical-align: middle;\n",
       "    }\n",
       "\n",
       "    .dataframe tbody tr th {\n",
       "        vertical-align: top;\n",
       "    }\n",
       "\n",
       "    .dataframe thead th {\n",
       "        text-align: right;\n",
       "    }\n",
       "</style>\n",
       "<table border=\"1\" class=\"dataframe\">\n",
       "  <thead>\n",
       "    <tr style=\"text-align: right;\">\n",
       "      <th></th>\n",
       "      <th>street</th>\n",
       "      <th>id</th>\n",
       "      <th>object_name</th>\n",
       "      <th>chain</th>\n",
       "      <th>object_type</th>\n",
       "      <th>address</th>\n",
       "      <th>number</th>\n",
       "    </tr>\n",
       "  </thead>\n",
       "  <tbody>\n",
       "    <tr>\n",
       "      <th>0</th>\n",
       "      <td>Пестовский переулок</td>\n",
       "      <td>1</td>\n",
       "      <td>1</td>\n",
       "      <td>1</td>\n",
       "      <td>1</td>\n",
       "      <td>1</td>\n",
       "      <td>1</td>\n",
       "    </tr>\n",
       "    <tr>\n",
       "      <th>1</th>\n",
       "      <td>Каргопольская улица</td>\n",
       "      <td>1</td>\n",
       "      <td>1</td>\n",
       "      <td>1</td>\n",
       "      <td>1</td>\n",
       "      <td>1</td>\n",
       "      <td>1</td>\n",
       "    </tr>\n",
       "    <tr>\n",
       "      <th>2</th>\n",
       "      <td>Карельский бульвар</td>\n",
       "      <td>1</td>\n",
       "      <td>1</td>\n",
       "      <td>1</td>\n",
       "      <td>1</td>\n",
       "      <td>1</td>\n",
       "      <td>1</td>\n",
       "    </tr>\n",
       "    <tr>\n",
       "      <th>3</th>\n",
       "      <td>переулок Красина</td>\n",
       "      <td>1</td>\n",
       "      <td>1</td>\n",
       "      <td>1</td>\n",
       "      <td>1</td>\n",
       "      <td>1</td>\n",
       "      <td>1</td>\n",
       "    </tr>\n",
       "    <tr>\n",
       "      <th>4</th>\n",
       "      <td>переулок Васнецова</td>\n",
       "      <td>1</td>\n",
       "      <td>1</td>\n",
       "      <td>1</td>\n",
       "      <td>1</td>\n",
       "      <td>1</td>\n",
       "      <td>1</td>\n",
       "    </tr>\n",
       "  </tbody>\n",
       "</table>\n",
       "</div>"
      ],
      "text/plain": [
       "                street  id  object_name  chain  object_type  address  number\n",
       "0  Пестовский переулок   1            1      1            1        1       1\n",
       "1  Каргопольская улица   1            1      1            1        1       1\n",
       "2   Карельский бульвар   1            1      1            1        1       1\n",
       "3     переулок Красина   1            1      1            1        1       1\n",
       "4   переулок Васнецова   1            1      1            1        1       1"
      ]
     },
     "execution_count": 51,
     "metadata": {},
     "output_type": "execute_result"
    }
   ],
   "source": [
    "streets_one = data.groupby('street').count().sort_values(by ='id').reset_index()\n",
    "streets_one = streets_one.query('id==1')\n",
    "streets_one.head()"
   ]
  },
  {
   "cell_type": "markdown",
   "id": "5c57debd",
   "metadata": {},
   "source": [
    "Посмотрим -  в каких они районах"
   ]
  },
  {
   "cell_type": "code",
   "execution_count": 52,
   "id": "b930badd",
   "metadata": {},
   "outputs": [
    {
     "data": {
      "text/html": [
       "<div>\n",
       "<style scoped>\n",
       "    .dataframe tbody tr th:only-of-type {\n",
       "        vertical-align: middle;\n",
       "    }\n",
       "\n",
       "    .dataframe tbody tr th {\n",
       "        vertical-align: top;\n",
       "    }\n",
       "\n",
       "    .dataframe thead th {\n",
       "        text-align: right;\n",
       "    }\n",
       "</style>\n",
       "<table border=\"1\" class=\"dataframe\">\n",
       "  <thead>\n",
       "    <tr style=\"text-align: right;\">\n",
       "      <th></th>\n",
       "      <th>district</th>\n",
       "      <th>street</th>\n",
       "    </tr>\n",
       "  </thead>\n",
       "  <tbody>\n",
       "    <tr>\n",
       "      <th>82</th>\n",
       "      <td>Таганский район</td>\n",
       "      <td>26</td>\n",
       "    </tr>\n",
       "    <tr>\n",
       "      <th>63</th>\n",
       "      <td>Басманный район</td>\n",
       "      <td>20</td>\n",
       "    </tr>\n",
       "    <tr>\n",
       "      <th>83</th>\n",
       "      <td>Тверской район</td>\n",
       "      <td>20</td>\n",
       "    </tr>\n",
       "    <tr>\n",
       "      <th>134</th>\n",
       "      <td>район Марьина Роща</td>\n",
       "      <td>17</td>\n",
       "    </tr>\n",
       "    <tr>\n",
       "      <th>79</th>\n",
       "      <td>Пресненский район</td>\n",
       "      <td>15</td>\n",
       "    </tr>\n",
       "    <tr>\n",
       "      <th>68</th>\n",
       "      <td>Даниловский район</td>\n",
       "      <td>13</td>\n",
       "    </tr>\n",
       "    <tr>\n",
       "      <th>73</th>\n",
       "      <td>Мещанский район</td>\n",
       "      <td>13</td>\n",
       "    </tr>\n",
       "    <tr>\n",
       "      <th>118</th>\n",
       "      <td>район Замоскворечье</td>\n",
       "      <td>12</td>\n",
       "    </tr>\n",
       "    <tr>\n",
       "      <th>71</th>\n",
       "      <td>Красносельский район</td>\n",
       "      <td>11</td>\n",
       "    </tr>\n",
       "    <tr>\n",
       "      <th>154</th>\n",
       "      <td>район Соколиная Гора</td>\n",
       "      <td>11</td>\n",
       "    </tr>\n",
       "  </tbody>\n",
       "</table>\n",
       "</div>"
      ],
      "text/plain": [
       "                 district  street\n",
       "82        Таганский район      26\n",
       "63        Басманный район      20\n",
       "83         Тверской район      20\n",
       "134    район Марьина Роща      17\n",
       "79      Пресненский район      15\n",
       "68      Даниловский район      13\n",
       "73        Мещанский район      13\n",
       "118   район Замоскворечье      12\n",
       "71   Красносельский район      11\n",
       "154  район Соколиная Гора      11"
      ]
     },
     "execution_count": 52,
     "metadata": {},
     "output_type": "execute_result"
    }
   ],
   "source": [
    "top_one_streets = streets_one.merge(df, on = 'street', how = 'left')\n",
    "top_one_streets = top_one_streets.groupby(['street','district']).count().reset_index()\n",
    "top_one_streets = top_one_streets[['street','district']]\n",
    "top_one_streets.groupby('district').count().reset_index().sort_values(by = 'street', ascending = False).head(10)"
   ]
  },
  {
   "cell_type": "markdown",
   "id": "6ec52068",
   "metadata": {},
   "source": [
    "Большинство улиц с одним объектом расположены ближе к центру. Это может объясняться тем, что улицы там гораздо короче, меньше возможности снять помещение под кафе."
   ]
  },
  {
   "cell_type": "markdown",
   "id": "09605934",
   "metadata": {},
   "source": [
    "Посмотрим на районы, в которых находятся улицы из двух составленных списков (топ-10 и улиц с одним заведением соотвтетсвенно): "
   ]
  },
  {
   "cell_type": "code",
   "execution_count": 53,
   "id": "59db9e00",
   "metadata": {},
   "outputs": [
    {
     "data": {
      "text/html": [
       "<div>\n",
       "<style scoped>\n",
       "    .dataframe tbody tr th:only-of-type {\n",
       "        vertical-align: middle;\n",
       "    }\n",
       "\n",
       "    .dataframe tbody tr th {\n",
       "        vertical-align: top;\n",
       "    }\n",
       "\n",
       "    .dataframe thead th {\n",
       "        text-align: right;\n",
       "    }\n",
       "</style>\n",
       "<table border=\"1\" class=\"dataframe\">\n",
       "  <thead>\n",
       "    <tr style=\"text-align: right;\">\n",
       "      <th></th>\n",
       "      <th></th>\n",
       "    </tr>\n",
       "    <tr>\n",
       "      <th>street</th>\n",
       "      <th>district</th>\n",
       "    </tr>\n",
       "  </thead>\n",
       "  <tbody>\n",
       "    <tr>\n",
       "      <th rowspan=\"8\" valign=\"top\">Варшавское шоссе</th>\n",
       "      <th>Донской район</th>\n",
       "    </tr>\n",
       "    <tr>\n",
       "      <th>Нагорный район</th>\n",
       "    </tr>\n",
       "    <tr>\n",
       "      <th>жилой комплекс Варшавское шоссе 141</th>\n",
       "    </tr>\n",
       "    <tr>\n",
       "      <th>район Нагатино-Садовники</th>\n",
       "    </tr>\n",
       "    <tr>\n",
       "      <th>район Чертаново Северное</th>\n",
       "    </tr>\n",
       "    <tr>\n",
       "      <th>район Чертаново Центральное</th>\n",
       "    </tr>\n",
       "    <tr>\n",
       "      <th>район Чертаново Южное</th>\n",
       "    </tr>\n",
       "    <tr>\n",
       "      <th>район Южное Бутово</th>\n",
       "    </tr>\n",
       "    <tr>\n",
       "      <th rowspan=\"14\" valign=\"top\">Дмитровское шоссе</th>\n",
       "      <th>1-й микрорайон</th>\n",
       "    </tr>\n",
       "    <tr>\n",
       "      <th>16-й микрорайон</th>\n",
       "    </tr>\n",
       "    <tr>\n",
       "      <th>17-й микрорайон Дегунина</th>\n",
       "    </tr>\n",
       "    <tr>\n",
       "      <th>5-й микрорайон</th>\n",
       "    </tr>\n",
       "    <tr>\n",
       "      <th>8-й микрорайон</th>\n",
       "    </tr>\n",
       "    <tr>\n",
       "      <th>9-й микрорайон</th>\n",
       "    </tr>\n",
       "    <tr>\n",
       "      <th>Бескудниковский район</th>\n",
       "    </tr>\n",
       "    <tr>\n",
       "      <th>Дмитровский район</th>\n",
       "    </tr>\n",
       "    <tr>\n",
       "      <th>Тимирязевский район</th>\n",
       "    </tr>\n",
       "    <tr>\n",
       "      <th>микрорайон 7А</th>\n",
       "    </tr>\n",
       "    <tr>\n",
       "      <th>район Восточное Дегунино</th>\n",
       "    </tr>\n",
       "    <tr>\n",
       "      <th>район Западное Дегунино</th>\n",
       "    </tr>\n",
       "    <tr>\n",
       "      <th>район Лианозово</th>\n",
       "    </tr>\n",
       "    <tr>\n",
       "      <th>район Северный</th>\n",
       "    </tr>\n",
       "    <tr>\n",
       "      <th rowspan=\"6\" valign=\"top\">Каширское шоссе</th>\n",
       "      <th>4-й квартал Москворечья</th>\n",
       "    </tr>\n",
       "    <tr>\n",
       "      <th>молодёжный жилой комплекс Сабурово</th>\n",
       "    </tr>\n",
       "    <tr>\n",
       "      <th>район Москворечье-Сабурово</th>\n",
       "    </tr>\n",
       "    <tr>\n",
       "      <th>район Нагатино-Садовники</th>\n",
       "    </tr>\n",
       "    <tr>\n",
       "      <th>район Орехово-Борисово Северное</th>\n",
       "    </tr>\n",
       "    <tr>\n",
       "      <th>район Орехово-Борисово Южное</th>\n",
       "    </tr>\n",
       "    <tr>\n",
       "      <th rowspan=\"2\" valign=\"top\">Кутузовский проспект</th>\n",
       "      <th>район Дорогомилово</th>\n",
       "    </tr>\n",
       "    <tr>\n",
       "      <th>район Фили-Давыдково</th>\n",
       "    </tr>\n",
       "    <tr>\n",
       "      <th rowspan=\"6\" valign=\"top\">Ленинградский проспект</th>\n",
       "      <th>Хорошёвский район</th>\n",
       "    </tr>\n",
       "    <tr>\n",
       "      <th>жилой комплекс ВТБ Арена Парк</th>\n",
       "    </tr>\n",
       "    <tr>\n",
       "      <th>жилой комплекс Царская Площадь</th>\n",
       "    </tr>\n",
       "    <tr>\n",
       "      <th>район Аэропорт</th>\n",
       "    </tr>\n",
       "    <tr>\n",
       "      <th>район Беговой</th>\n",
       "    </tr>\n",
       "    <tr>\n",
       "      <th>район Сокол</th>\n",
       "    </tr>\n",
       "    <tr>\n",
       "      <th rowspan=\"11\" valign=\"top\">Ленинский проспект</th>\n",
       "      <th>16-й квартал</th>\n",
       "    </tr>\n",
       "    <tr>\n",
       "      <th>37-й квартал</th>\n",
       "    </tr>\n",
       "    <tr>\n",
       "      <th>9-й микрорайон</th>\n",
       "    </tr>\n",
       "    <tr>\n",
       "      <th>Гагаринский район</th>\n",
       "    </tr>\n",
       "    <tr>\n",
       "      <th>Донской район</th>\n",
       "    </tr>\n",
       "    <tr>\n",
       "      <th>Ломоносовский район</th>\n",
       "    </tr>\n",
       "    <tr>\n",
       "      <th>Обручевский район</th>\n",
       "    </tr>\n",
       "    <tr>\n",
       "      <th>жилой комплекс Велл Хаус</th>\n",
       "    </tr>\n",
       "    <tr>\n",
       "      <th>район Проспект Вернадского</th>\n",
       "    </tr>\n",
       "    <tr>\n",
       "      <th>район Тропарёво-Никулино</th>\n",
       "    </tr>\n",
       "    <tr>\n",
       "      <th>район Якиманка</th>\n",
       "    </tr>\n",
       "    <tr>\n",
       "      <th>Пресненская набережная</th>\n",
       "      <th>Московский международный деловой центр Москва-Сити</th>\n",
       "    </tr>\n",
       "    <tr>\n",
       "      <th rowspan=\"14\" valign=\"top\">Профсоюзная улица</th>\n",
       "      <th>1-4-й микрорайон</th>\n",
       "    </tr>\n",
       "    <tr>\n",
       "      <th>1-й микрорайон</th>\n",
       "    </tr>\n",
       "    <tr>\n",
       "      <th>2-й микрорайон</th>\n",
       "    </tr>\n",
       "    <tr>\n",
       "      <th>3-4-й микрорайон района Коньково</th>\n",
       "    </tr>\n",
       "    <tr>\n",
       "      <th>4-5-й микрорайон</th>\n",
       "    </tr>\n",
       "    <tr>\n",
       "      <th>41-й квартал района Коньково</th>\n",
       "    </tr>\n",
       "    <tr>\n",
       "      <th>44-47-й квартал района Коньково</th>\n",
       "    </tr>\n",
       "    <tr>\n",
       "      <th>48-50-й квартал</th>\n",
       "    </tr>\n",
       "    <tr>\n",
       "      <th>7-9-й микрорайон</th>\n",
       "    </tr>\n",
       "    <tr>\n",
       "      <th>Академический район</th>\n",
       "    </tr>\n",
       "    <tr>\n",
       "      <th>Новые Черёмушки квартал 22-23</th>\n",
       "    </tr>\n",
       "    <tr>\n",
       "      <th>Обручевский район</th>\n",
       "    </tr>\n",
       "    <tr>\n",
       "      <th>район Черёмушки</th>\n",
       "    </tr>\n",
       "    <tr>\n",
       "      <th>район Ясенево</th>\n",
       "    </tr>\n",
       "    <tr>\n",
       "      <th rowspan=\"7\" valign=\"top\">проспект Вернадского</th>\n",
       "      <th>Гагаринский район</th>\n",
       "    </tr>\n",
       "    <tr>\n",
       "      <th>Ломоносовский район</th>\n",
       "    </tr>\n",
       "    <tr>\n",
       "      <th>жилой комплекс Миракс Парк</th>\n",
       "    </tr>\n",
       "    <tr>\n",
       "      <th>микрорайон Ленинские Горы</th>\n",
       "    </tr>\n",
       "    <tr>\n",
       "      <th>район Проспект Вернадского</th>\n",
       "    </tr>\n",
       "    <tr>\n",
       "      <th>район Раменки</th>\n",
       "    </tr>\n",
       "    <tr>\n",
       "      <th>район Тропарёво-Никулино</th>\n",
       "    </tr>\n",
       "    <tr>\n",
       "      <th rowspan=\"8\" valign=\"top\">проспект Мира</th>\n",
       "      <th>Алексеевский район</th>\n",
       "    </tr>\n",
       "    <tr>\n",
       "      <th>Мещанский район</th>\n",
       "    </tr>\n",
       "    <tr>\n",
       "      <th>Останкинский район</th>\n",
       "    </tr>\n",
       "    <tr>\n",
       "      <th>Ярославский район</th>\n",
       "    </tr>\n",
       "    <tr>\n",
       "      <th>жилой комплекс Триколор</th>\n",
       "    </tr>\n",
       "    <tr>\n",
       "      <th>жилой комплекс Хилл8</th>\n",
       "    </tr>\n",
       "    <tr>\n",
       "      <th>район Ростокино</th>\n",
       "    </tr>\n",
       "    <tr>\n",
       "      <th>район Свиблово</th>\n",
       "    </tr>\n",
       "  </tbody>\n",
       "</table>\n",
       "</div>"
      ],
      "text/plain": [
       "Empty DataFrame\n",
       "Columns: []\n",
       "Index: [(Варшавское шоссе, Донской район), (Варшавское шоссе, Нагорный район), (Варшавское шоссе, жилой комплекс Варшавское шоссе 141), (Варшавское шоссе, район Нагатино-Садовники), (Варшавское шоссе, район Чертаново Северное), (Варшавское шоссе, район Чертаново Центральное), (Варшавское шоссе, район Чертаново Южное), (Варшавское шоссе, район Южное Бутово), (Дмитровское шоссе, 1-й микрорайон), (Дмитровское шоссе, 16-й микрорайон), (Дмитровское шоссе, 17-й микрорайон Дегунина), (Дмитровское шоссе, 5-й микрорайон), (Дмитровское шоссе, 8-й микрорайон), (Дмитровское шоссе, 9-й микрорайон), (Дмитровское шоссе, Бескудниковский район), (Дмитровское шоссе, Дмитровский район), (Дмитровское шоссе, Тимирязевский район), (Дмитровское шоссе, микрорайон 7А), (Дмитровское шоссе, район Восточное Дегунино), (Дмитровское шоссе, район Западное Дегунино), (Дмитровское шоссе, район Лианозово), (Дмитровское шоссе, район Северный), (Каширское шоссе, 4-й квартал Москворечья), (Каширское шоссе, молодёжный жилой комплекс Сабурово), (Каширское шоссе, район Москворечье-Сабурово), (Каширское шоссе, район Нагатино-Садовники), (Каширское шоссе, район Орехово-Борисово Северное), (Каширское шоссе, район Орехово-Борисово Южное), (Кутузовский проспект, район Дорогомилово), (Кутузовский проспект, район Фили-Давыдково), (Ленинградский проспект, Хорошёвский район), (Ленинградский проспект, жилой комплекс ВТБ Арена Парк), (Ленинградский проспект, жилой комплекс Царская Площадь), (Ленинградский проспект, район Аэропорт), (Ленинградский проспект, район Беговой), (Ленинградский проспект, район Сокол), (Ленинский проспект, 16-й квартал), (Ленинский проспект, 37-й квартал), (Ленинский проспект, 9-й микрорайон), (Ленинский проспект, Гагаринский район), (Ленинский проспект, Донской район), (Ленинский проспект, Ломоносовский район), (Ленинский проспект, Обручевский район), (Ленинский проспект, жилой комплекс Велл Хаус), (Ленинский проспект, район Проспект Вернадского), (Ленинский проспект, район Тропарёво-Никулино), (Ленинский проспект, район Якиманка), (Пресненская набережная, Московский международный деловой центр Москва-Сити), (Профсоюзная улица, 1-4-й микрорайон), (Профсоюзная улица, 1-й микрорайон), (Профсоюзная улица, 2-й микрорайон), (Профсоюзная улица, 3-4-й микрорайон района Коньково), (Профсоюзная улица, 4-5-й микрорайон), (Профсоюзная улица, 41-й квартал района Коньково), (Профсоюзная улица, 44-47-й квартал района Коньково), (Профсоюзная улица, 48-50-й квартал), (Профсоюзная улица, 7-9-й микрорайон), (Профсоюзная улица, Академический район), (Профсоюзная улица, Новые Черёмушки квартал 22-23), (Профсоюзная улица, Обручевский район), (Профсоюзная улица, район Черёмушки), (Профсоюзная улица, район Ясенево), (проспект Вернадского, Гагаринский район), (проспект Вернадского, Ломоносовский район), (проспект Вернадского, жилой комплекс Миракс Парк), (проспект Вернадского, микрорайон Ленинские Горы), (проспект Вернадского, район Проспект Вернадского), (проспект Вернадского, район Раменки), (проспект Вернадского, район Тропарёво-Никулино), (проспект Мира, Алексеевский район), (проспект Мира, Мещанский район), (проспект Мира, Останкинский район), (проспект Мира, Ярославский район), (проспект Мира, жилой комплекс Триколор), (проспект Мира, жилой комплекс Хилл8), (проспект Мира, район Ростокино), (проспект Мира, район Свиблово)]"
      ]
     },
     "execution_count": 53,
     "metadata": {},
     "output_type": "execute_result"
    }
   ],
   "source": [
    "top_10_pivot = top10_streets.pivot_table(index=['street', 'district'], \n",
    "                        values='district', aggfunc='count')\n",
    "\n",
    "#сброс ограничений на количество выводимых рядов\n",
    "pd.set_option('display.max_rows', None)\n",
    "top_10_pivot"
   ]
  },
  {
   "cell_type": "code",
   "execution_count": 54,
   "id": "ed7d5030",
   "metadata": {},
   "outputs": [
    {
     "data": {
      "text/html": [
       "<div>\n",
       "<style scoped>\n",
       "    .dataframe tbody tr th:only-of-type {\n",
       "        vertical-align: middle;\n",
       "    }\n",
       "\n",
       "    .dataframe tbody tr th {\n",
       "        vertical-align: top;\n",
       "    }\n",
       "\n",
       "    .dataframe thead th {\n",
       "        text-align: right;\n",
       "    }\n",
       "</style>\n",
       "<table border=\"1\" class=\"dataframe\">\n",
       "  <thead>\n",
       "    <tr style=\"text-align: right;\">\n",
       "      <th></th>\n",
       "      <th>district</th>\n",
       "    </tr>\n",
       "    <tr>\n",
       "      <th>street</th>\n",
       "      <th></th>\n",
       "    </tr>\n",
       "  </thead>\n",
       "  <tbody>\n",
       "    <tr>\n",
       "      <th>Дмитровское шоссе</th>\n",
       "      <td>14</td>\n",
       "    </tr>\n",
       "    <tr>\n",
       "      <th>Профсоюзная улица</th>\n",
       "      <td>14</td>\n",
       "    </tr>\n",
       "    <tr>\n",
       "      <th>Ленинский проспект</th>\n",
       "      <td>11</td>\n",
       "    </tr>\n",
       "    <tr>\n",
       "      <th>Варшавское шоссе</th>\n",
       "      <td>8</td>\n",
       "    </tr>\n",
       "    <tr>\n",
       "      <th>проспект Мира</th>\n",
       "      <td>8</td>\n",
       "    </tr>\n",
       "    <tr>\n",
       "      <th>проспект Вернадского</th>\n",
       "      <td>7</td>\n",
       "    </tr>\n",
       "    <tr>\n",
       "      <th>Каширское шоссе</th>\n",
       "      <td>6</td>\n",
       "    </tr>\n",
       "    <tr>\n",
       "      <th>Ленинградский проспект</th>\n",
       "      <td>6</td>\n",
       "    </tr>\n",
       "    <tr>\n",
       "      <th>Кутузовский проспект</th>\n",
       "      <td>2</td>\n",
       "    </tr>\n",
       "    <tr>\n",
       "      <th>Пресненская набережная</th>\n",
       "      <td>1</td>\n",
       "    </tr>\n",
       "  </tbody>\n",
       "</table>\n",
       "</div>"
      ],
      "text/plain": [
       "                        district\n",
       "street                          \n",
       "Дмитровское шоссе             14\n",
       "Профсоюзная улица             14\n",
       "Ленинский проспект            11\n",
       "Варшавское шоссе               8\n",
       "проспект Мира                  8\n",
       "проспект Вернадского           7\n",
       "Каширское шоссе                6\n",
       "Ленинградский проспект         6\n",
       "Кутузовский проспект           2\n",
       "Пресненская набережная         1"
      ]
     },
     "execution_count": 54,
     "metadata": {},
     "output_type": "execute_result"
    }
   ],
   "source": [
    "top10_streets.groupby('street').count().sort_values(by = 'district', ascending = False)"
   ]
  },
  {
   "cell_type": "markdown",
   "id": "5eec4fd2",
   "metadata": {},
   "source": [
    "Теперь посмотрим на улицы с одним заведением:"
   ]
  },
  {
   "cell_type": "code",
   "execution_count": 55,
   "id": "a0ef84ef",
   "metadata": {},
   "outputs": [
    {
     "data": {
      "text/html": [
       "<div>\n",
       "<style scoped>\n",
       "    .dataframe tbody tr th:only-of-type {\n",
       "        vertical-align: middle;\n",
       "    }\n",
       "\n",
       "    .dataframe tbody tr th {\n",
       "        vertical-align: top;\n",
       "    }\n",
       "\n",
       "    .dataframe thead th {\n",
       "        text-align: right;\n",
       "    }\n",
       "</style>\n",
       "<table border=\"1\" class=\"dataframe\">\n",
       "  <thead>\n",
       "    <tr style=\"text-align: right;\">\n",
       "      <th></th>\n",
       "      <th></th>\n",
       "    </tr>\n",
       "    <tr>\n",
       "      <th>street</th>\n",
       "      <th>district</th>\n",
       "    </tr>\n",
       "  </thead>\n",
       "  <tbody>\n",
       "    <tr>\n",
       "      <th>1-й Балтийский переулок</th>\n",
       "      <th>район Аэропорт</th>\n",
       "    </tr>\n",
       "    <tr>\n",
       "      <th>1-й Басманный переулок</th>\n",
       "      <th>Красносельский район</th>\n",
       "    </tr>\n",
       "    <tr>\n",
       "      <th>1-й Ботанический проезд</th>\n",
       "      <th>район Свиблово</th>\n",
       "    </tr>\n",
       "    <tr>\n",
       "      <th>1-й Вешняковский проезд</th>\n",
       "      <th>14-й квартал Чухлинки</th>\n",
       "    </tr>\n",
       "    <tr>\n",
       "      <th>1-й Голутвинский переулок</th>\n",
       "      <th>район Якиманка</th>\n",
       "    </tr>\n",
       "    <tr>\n",
       "      <th>1-й Зачатьевский переулок</th>\n",
       "      <th>139-й квартал</th>\n",
       "    </tr>\n",
       "    <tr>\n",
       "      <th>1-й Кирпичный переулок</th>\n",
       "      <th>район Соколиная Гора</th>\n",
       "    </tr>\n",
       "    <tr>\n",
       "      <th>1-й Кожевнический переулок</th>\n",
       "      <th>Даниловский район</th>\n",
       "    </tr>\n",
       "    <tr>\n",
       "      <th>1-й Кожуховский проезд</th>\n",
       "      <th>Даниловский район</th>\n",
       "    </tr>\n",
       "    <tr>\n",
       "      <th>1-й Коптельский переулок</th>\n",
       "      <th>Красносельский район</th>\n",
       "    </tr>\n",
       "    <tr>\n",
       "      <th>1-й Котельнический переулок</th>\n",
       "      <th>Таганский район</th>\n",
       "    </tr>\n",
       "    <tr>\n",
       "      <th>1-й Краснокурсантский проезд</th>\n",
       "      <th>район Лефортово</th>\n",
       "    </tr>\n",
       "    <tr>\n",
       "      <th>1-й Курьяновский проезд</th>\n",
       "      <th>микрорайон Курьяново</th>\n",
       "    </tr>\n",
       "    <tr>\n",
       "      <th>1-й Люсиновский переулок</th>\n",
       "      <th>район Замоскворечье</th>\n",
       "    </tr>\n",
       "    <tr>\n",
       "      <th>1-й Магистральный тупик</th>\n",
       "      <th>Хорошёвский район</th>\n",
       "    </tr>\n",
       "    <tr>\n",
       "      <th>1-й Монетчиковский переулок</th>\n",
       "      <th>район Замоскворечье</th>\n",
       "    </tr>\n",
       "    <tr>\n",
       "      <th>1-й Николощеповский переулок</th>\n",
       "      <th>577-й квартал</th>\n",
       "    </tr>\n",
       "    <tr>\n",
       "      <th>1-й Новокузнецкий переулок</th>\n",
       "      <th>район Замоскворечье</th>\n",
       "    </tr>\n",
       "    <tr>\n",
       "      <th>1-й Обыденский переулок</th>\n",
       "      <th>143-й квартал</th>\n",
       "    </tr>\n",
       "    <tr>\n",
       "      <th>1-й Рижский переулок</th>\n",
       "      <th>Алексеевский район</th>\n",
       "    </tr>\n",
       "    <tr>\n",
       "      <th>1-й Саратовский проезд</th>\n",
       "      <th>район Текстильщики</th>\n",
       "    </tr>\n",
       "    <tr>\n",
       "      <th>1-й Сельскохозяйственный проезд</th>\n",
       "      <th>район Ростокино</th>\n",
       "    </tr>\n",
       "    <tr>\n",
       "      <th>1-й Сетуньский проезд</th>\n",
       "      <th>микрорайон Сетунь</th>\n",
       "    </tr>\n",
       "    <tr>\n",
       "      <th>1-й Спасоналивковский переулок</th>\n",
       "      <th>район Якиманка</th>\n",
       "    </tr>\n",
       "    <tr>\n",
       "      <th>1-й Тушинский проезд</th>\n",
       "      <th>район Покровское-Стрешнево</th>\n",
       "    </tr>\n",
       "    <tr>\n",
       "      <th>1-й проезд Марьиной Рощи</th>\n",
       "      <th>район Марьина Роща</th>\n",
       "    </tr>\n",
       "    <tr>\n",
       "      <th>1-я Аэропортовская улица</th>\n",
       "      <th>район Аэропорт</th>\n",
       "    </tr>\n",
       "    <tr>\n",
       "      <th>1-я Боевская улица</th>\n",
       "      <th>район Сокольники</th>\n",
       "    </tr>\n",
       "    <tr>\n",
       "      <th>1-я Гражданская улица</th>\n",
       "      <th>район Богородское</th>\n",
       "    </tr>\n",
       "    <tr>\n",
       "      <th>1-я Карачаровская улица</th>\n",
       "      <th>квартал Карачарова 86А</th>\n",
       "    </tr>\n",
       "    <tr>\n",
       "      <th>1-я Миусская улица</th>\n",
       "      <th>Тверской район</th>\n",
       "    </tr>\n",
       "    <tr>\n",
       "      <th>1-я Напрудная улица</th>\n",
       "      <th>Лосиноостровский район</th>\n",
       "    </tr>\n",
       "    <tr>\n",
       "      <th>1-я Пугачёвская улица</th>\n",
       "      <th>район Преображенское</th>\n",
       "    </tr>\n",
       "    <tr>\n",
       "      <th>1-я Чоботовская аллея</th>\n",
       "      <th>район Ново-Переделкино</th>\n",
       "    </tr>\n",
       "    <tr>\n",
       "      <th>1-я линия Хорошёвского Серебряного Бора</th>\n",
       "      <th>район Хорошёво-Мнёвники</th>\n",
       "    </tr>\n",
       "    <tr>\n",
       "      <th>11-я Парковая улица</th>\n",
       "      <th>район Северное Измайлово</th>\n",
       "    </tr>\n",
       "    <tr>\n",
       "      <th>12-й проезд Марьиной Рощи</th>\n",
       "      <th>район Марьина Роща</th>\n",
       "    </tr>\n",
       "    <tr>\n",
       "      <th>14-я Парковая улица</th>\n",
       "      <th>район Восточное Измайлово</th>\n",
       "    </tr>\n",
       "    <tr>\n",
       "      <th>17-й проезд Марьиной Рощи</th>\n",
       "      <th>район Марьина Роща</th>\n",
       "    </tr>\n",
       "    <tr>\n",
       "      <th>2-й Балтийский переулок</th>\n",
       "      <th>район Аэропорт</th>\n",
       "    </tr>\n",
       "    <tr>\n",
       "      <th>2-й Боткинский проезд</th>\n",
       "      <th>район Беговой</th>\n",
       "    </tr>\n",
       "    <tr>\n",
       "      <th>2-й Верхний Михайловский проезд</th>\n",
       "      <th>Донской район</th>\n",
       "    </tr>\n",
       "    <tr>\n",
       "      <th>2-й Войковский проезд</th>\n",
       "      <th>Войковский район</th>\n",
       "    </tr>\n",
       "    <tr>\n",
       "      <th>2-й Вышеславцев переулок</th>\n",
       "      <th>район Марьина Роща</th>\n",
       "    </tr>\n",
       "    <tr>\n",
       "      <th>2-й Иртышский проезд</th>\n",
       "      <th>район Гольяново</th>\n",
       "    </tr>\n",
       "    <tr>\n",
       "      <th>2-й Кабельный проезд</th>\n",
       "      <th>микрорайон Дангауэровка</th>\n",
       "    </tr>\n",
       "    <tr>\n",
       "      <th>2-й Кадашёвский переулок</th>\n",
       "      <th>район Якиманка</th>\n",
       "    </tr>\n",
       "    <tr>\n",
       "      <th>2-й Кожевнический переулок</th>\n",
       "      <th>Даниловский район</th>\n",
       "    </tr>\n",
       "    <tr>\n",
       "      <th>2-й Кожуховский проезд</th>\n",
       "      <th>Даниловский район</th>\n",
       "    </tr>\n",
       "    <tr>\n",
       "      <th>2-й Колобовский переулок</th>\n",
       "      <th>Тверской район</th>\n",
       "    </tr>\n",
       "    <tr>\n",
       "      <th>2-й Красносельский переулок</th>\n",
       "      <th>Красносельский район</th>\n",
       "    </tr>\n",
       "    <tr>\n",
       "      <th>2-й Курьяновский проезд</th>\n",
       "      <th>микрорайон Курьяново</th>\n",
       "    </tr>\n",
       "    <tr>\n",
       "      <th>2-й Магистральный тупик</th>\n",
       "      <th>Хорошёвский район</th>\n",
       "    </tr>\n",
       "    <tr>\n",
       "      <th>2-й Неопалимовский переулок</th>\n",
       "      <th>550-й квартал</th>\n",
       "    </tr>\n",
       "    <tr>\n",
       "      <th>2-й Новокузнецкий переулок</th>\n",
       "      <th>район Замоскворечье</th>\n",
       "    </tr>\n",
       "    <tr>\n",
       "      <th>2-й Новоподмосковный переулок</th>\n",
       "      <th>Войковский район</th>\n",
       "    </tr>\n",
       "    <tr>\n",
       "      <th>2-й Обыденский переулок</th>\n",
       "      <th>141-й квартал</th>\n",
       "    </tr>\n",
       "    <tr>\n",
       "      <th>2-й Полевой переулок</th>\n",
       "      <th>район Сокольники</th>\n",
       "    </tr>\n",
       "    <tr>\n",
       "      <th>2-й Рощинский проезд</th>\n",
       "      <th>Донской район</th>\n",
       "    </tr>\n",
       "    <tr>\n",
       "      <th>2-й Сельскохозяйственный проезд</th>\n",
       "      <th>район Ростокино</th>\n",
       "    </tr>\n",
       "    <tr>\n",
       "      <th>2-й Сетуньский проезд</th>\n",
       "      <th>микрорайон Сетунь</th>\n",
       "    </tr>\n",
       "    <tr>\n",
       "      <th>2-й Стрелецкий проезд</th>\n",
       "      <th>район Марьина Роща</th>\n",
       "    </tr>\n",
       "    <tr>\n",
       "      <th>2-й Хуторской переулок</th>\n",
       "      <th>Савёловский район</th>\n",
       "    </tr>\n",
       "    <tr>\n",
       "      <th>2-й Щемиловский переулок</th>\n",
       "      <th>Тверской район</th>\n",
       "    </tr>\n",
       "    <tr>\n",
       "      <th>2-я Гражданская улица</th>\n",
       "      <th>район Богородское</th>\n",
       "    </tr>\n",
       "    <tr>\n",
       "      <th>2-я Дубровская улица</th>\n",
       "      <th>Таганский район</th>\n",
       "    </tr>\n",
       "    <tr>\n",
       "      <th>2-я Квесисская улица</th>\n",
       "      <th>Савёловский район</th>\n",
       "    </tr>\n",
       "    <tr>\n",
       "      <th>2-я Напрудная улица</th>\n",
       "      <th>Лосиноостровский район</th>\n",
       "    </tr>\n",
       "    <tr>\n",
       "      <th>2-я Прядильная улица</th>\n",
       "      <th>район Измайлово</th>\n",
       "    </tr>\n",
       "    <tr>\n",
       "      <th>2-я Сокольническая улица</th>\n",
       "      <th>район Сокольники</th>\n",
       "    </tr>\n",
       "    <tr>\n",
       "      <th>2-я Филёвская улица</th>\n",
       "      <th>район Филёвский Парк</th>\n",
       "    </tr>\n",
       "    <tr>\n",
       "      <th>2-я Ямская улица</th>\n",
       "      <th>район Марьина Роща</th>\n",
       "    </tr>\n",
       "    <tr>\n",
       "      <th>2-я улица Бухвостова</th>\n",
       "      <th>район Преображенское</th>\n",
       "    </tr>\n",
       "    <tr>\n",
       "      <th>2-я улица Марьиной Рощи</th>\n",
       "      <th>район Марьина Роща</th>\n",
       "    </tr>\n",
       "    <tr>\n",
       "      <th>2-я улица Энтузиастов</th>\n",
       "      <th>район Перово</th>\n",
       "    </tr>\n",
       "    <tr>\n",
       "      <th>3-й Дорожный проезд</th>\n",
       "      <th>район Чертаново Южное</th>\n",
       "    </tr>\n",
       "    <tr>\n",
       "      <th>3-й Кадашёвский переулок</th>\n",
       "      <th>район Якиманка</th>\n",
       "    </tr>\n",
       "    <tr>\n",
       "      <th>3-й Кожуховский проезд</th>\n",
       "      <th>Южнопортовый район</th>\n",
       "    </tr>\n",
       "    <tr>\n",
       "      <th>3-й Лихачёвский переулок</th>\n",
       "      <th>Головинский район</th>\n",
       "    </tr>\n",
       "    <tr>\n",
       "      <th>3-й Павловский переулок</th>\n",
       "      <th>Даниловский район</th>\n",
       "    </tr>\n",
       "    <tr>\n",
       "      <th>3-й Стрелецкий проезд</th>\n",
       "      <th>район Марьина Роща</th>\n",
       "    </tr>\n",
       "    <tr>\n",
       "      <th>3-й Угрешский проезд</th>\n",
       "      <th>район Печатники</th>\n",
       "    </tr>\n",
       "    <tr>\n",
       "      <th>3-й проезд Подбельского</th>\n",
       "      <th>район Богородское</th>\n",
       "    </tr>\n",
       "    <tr>\n",
       "      <th>3-я Железногорская улица</th>\n",
       "      <th>деревня Новокурьяново</th>\n",
       "    </tr>\n",
       "    <tr>\n",
       "      <th>3-я Новоостанкинская улица</th>\n",
       "      <th>Останкинский район</th>\n",
       "    </tr>\n",
       "    <tr>\n",
       "      <th>3-я Песчаная улица</th>\n",
       "      <th>Хорошёвский район</th>\n",
       "    </tr>\n",
       "    <tr>\n",
       "      <th>3-я Подрезковская улица</th>\n",
       "      <th>посёлок Новоподрезково</th>\n",
       "    </tr>\n",
       "    <tr>\n",
       "      <th>3-я Северная линия</th>\n",
       "      <th>район Северный</th>\n",
       "    </tr>\n",
       "    <tr>\n",
       "      <th>3-я Черепковская улица</th>\n",
       "      <th>район Кунцево</th>\n",
       "    </tr>\n",
       "    <tr>\n",
       "      <th>4-й Вешняковский проезд</th>\n",
       "      <th>Рязанский район</th>\n",
       "    </tr>\n",
       "    <tr>\n",
       "      <th>4-й Вятский переулок</th>\n",
       "      <th>Савёловский район</th>\n",
       "    </tr>\n",
       "    <tr>\n",
       "      <th>4-й Кожевнический переулок</th>\n",
       "      <th>Даниловский район</th>\n",
       "    </tr>\n",
       "    <tr>\n",
       "      <th>4-й Рощинский проезд</th>\n",
       "      <th>Даниловский район</th>\n",
       "    </tr>\n",
       "    <tr>\n",
       "      <th>4-я Кабельная улица</th>\n",
       "      <th>район Лефортово</th>\n",
       "    </tr>\n",
       "    <tr>\n",
       "      <th>5-й Котельнический переулок</th>\n",
       "      <th>Таганский район</th>\n",
       "    </tr>\n",
       "    <tr>\n",
       "      <th>5-й Монетчиковский переулок</th>\n",
       "      <th>район Замоскворечье</th>\n",
       "    </tr>\n",
       "    <tr>\n",
       "      <th>5-й Рощинский проезд</th>\n",
       "      <th>Даниловский район</th>\n",
       "    </tr>\n",
       "    <tr>\n",
       "      <th>5-й проезд Марьиной Рощи</th>\n",
       "      <th>район Марьина Роща</th>\n",
       "    </tr>\n",
       "    <tr>\n",
       "      <th>5-й проезд Подбельского</th>\n",
       "      <th>район Богородское</th>\n",
       "    </tr>\n",
       "    <tr>\n",
       "      <th>6-я Кожуховская улица</th>\n",
       "      <th>Южнопортовый район</th>\n",
       "    </tr>\n",
       "    <tr>\n",
       "      <th>6-я улица Лазенки</th>\n",
       "      <th>район Ново-Переделкино</th>\n",
       "    </tr>\n",
       "    <tr>\n",
       "      <th>6-я улица Новые Сады</th>\n",
       "      <th>жилой комплекс Переделкино</th>\n",
       "    </tr>\n",
       "    <tr>\n",
       "      <th>7-й Ростовский переулок</th>\n",
       "      <th>район Хамовники</th>\n",
       "    </tr>\n",
       "    <tr>\n",
       "      <th>7-я Северная линия</th>\n",
       "      <th>район Северный</th>\n",
       "    </tr>\n",
       "    <tr>\n",
       "      <th>7-я улица Лазенки</th>\n",
       "      <th>район Ново-Переделкино</th>\n",
       "    </tr>\n",
       "    <tr>\n",
       "      <th>8-й проезд Марьиной Рощи</th>\n",
       "      <th>район Марьина Роща</th>\n",
       "    </tr>\n",
       "    <tr>\n",
       "      <th>8-я улица Соколиной Горы</th>\n",
       "      <th>район Соколиная Гора</th>\n",
       "    </tr>\n",
       "    <tr>\n",
       "      <th>Авиационный переулок</th>\n",
       "      <th>район Аэропорт</th>\n",
       "    </tr>\n",
       "    <tr>\n",
       "      <th>Автомобильный проезд</th>\n",
       "      <th>Нижегородский район</th>\n",
       "    </tr>\n",
       "    <tr>\n",
       "      <th>Алымов переулок</th>\n",
       "      <th>район Богородское</th>\n",
       "    </tr>\n",
       "    <tr>\n",
       "      <th>Андреево-Забелинская улица</th>\n",
       "      <th>район Богородское</th>\n",
       "    </tr>\n",
       "    <tr>\n",
       "      <th>Андроньевская площадь</th>\n",
       "      <th>Таганский район</th>\n",
       "    </tr>\n",
       "    <tr>\n",
       "      <th>Анненская улица</th>\n",
       "      <th>район Марьина Роща</th>\n",
       "    </tr>\n",
       "    <tr>\n",
       "      <th>Анненский проезд</th>\n",
       "      <th>район Марьина Роща</th>\n",
       "    </tr>\n",
       "    <tr>\n",
       "      <th>Армавирская улица</th>\n",
       "      <th>район Люблино</th>\n",
       "    </tr>\n",
       "    <tr>\n",
       "      <th>Архангельский переулок</th>\n",
       "      <th>Басманный район</th>\n",
       "    </tr>\n",
       "    <tr>\n",
       "      <th>Астрадамский проезд</th>\n",
       "      <th>Тимирязевский район</th>\n",
       "    </tr>\n",
       "    <tr>\n",
       "      <th>Ащеулов переулок</th>\n",
       "      <th>Красносельский район</th>\n",
       "    </tr>\n",
       "    <tr>\n",
       "      <th>Аэродромная улица</th>\n",
       "      <th>район Южное Тушино</th>\n",
       "    </tr>\n",
       "    <tr>\n",
       "      <th>Аэрофлотская улица</th>\n",
       "      <th>район Внуково</th>\n",
       "    </tr>\n",
       "    <tr>\n",
       "      <th>Бабаевская улица</th>\n",
       "      <th>район Сокольники</th>\n",
       "    </tr>\n",
       "    <tr>\n",
       "      <th>Базовая улица</th>\n",
       "      <th>микрорайон Северо-Западный</th>\n",
       "    </tr>\n",
       "    <tr>\n",
       "      <th>Балтийская улица</th>\n",
       "      <th>район Аэропорт</th>\n",
       "    </tr>\n",
       "    <tr>\n",
       "      <th>Банный проезд</th>\n",
       "      <th>Мещанский район</th>\n",
       "    </tr>\n",
       "    <tr>\n",
       "      <th>Барабанный переулок</th>\n",
       "      <th>район Соколиная Гора</th>\n",
       "    </tr>\n",
       "    <tr>\n",
       "      <th>Басовская улица</th>\n",
       "      <th>Нижегородский район</th>\n",
       "    </tr>\n",
       "    <tr>\n",
       "      <th>Берниковская набережная</th>\n",
       "      <th>Таганский район</th>\n",
       "    </tr>\n",
       "    <tr>\n",
       "      <th>Бескудниковский переулок</th>\n",
       "      <th>5-й микрорайон</th>\n",
       "    </tr>\n",
       "    <tr>\n",
       "      <th>Бескудниковский проезд</th>\n",
       "      <th>4-й микрорайон</th>\n",
       "    </tr>\n",
       "    <tr>\n",
       "      <th>Библиотечная улица</th>\n",
       "      <th>Таганский район</th>\n",
       "    </tr>\n",
       "    <tr>\n",
       "      <th>Богоявленский переулок</th>\n",
       "      <th>Тверской район</th>\n",
       "    </tr>\n",
       "    <tr>\n",
       "      <th>Больничный переулок</th>\n",
       "      <th>Мещанский район</th>\n",
       "    </tr>\n",
       "    <tr>\n",
       "      <th>Большая Бутовская улица</th>\n",
       "      <th>район Южное Бутово</th>\n",
       "    </tr>\n",
       "    <tr>\n",
       "      <th>Большая Внуковская улица</th>\n",
       "      <th>район Внуково</th>\n",
       "    </tr>\n",
       "    <tr>\n",
       "      <th>Большая Ширяевская улица</th>\n",
       "      <th>район Сокольники</th>\n",
       "    </tr>\n",
       "    <tr>\n",
       "      <th>Большая Юшуньская улица</th>\n",
       "      <th>район Зюзино</th>\n",
       "    </tr>\n",
       "    <tr>\n",
       "      <th>Большой Афанасьевский переулок</th>\n",
       "      <th>164-й квартал</th>\n",
       "    </tr>\n",
       "    <tr>\n",
       "      <th>Большой Знаменский переулок</th>\n",
       "      <th>32-й квартал</th>\n",
       "    </tr>\n",
       "    <tr>\n",
       "      <th>Большой Казённый переулок</th>\n",
       "      <th>Басманный район</th>\n",
       "    </tr>\n",
       "    <tr>\n",
       "      <th>Большой Кисельный переулок</th>\n",
       "      <th>Мещанский район</th>\n",
       "    </tr>\n",
       "    <tr>\n",
       "      <th>Большой Николопесковский переулок</th>\n",
       "      <th>район Арбат</th>\n",
       "    </tr>\n",
       "    <tr>\n",
       "      <th>Большой Полуярославский переулок</th>\n",
       "      <th>Таганский район</th>\n",
       "    </tr>\n",
       "    <tr>\n",
       "      <th>Большой Предтеченский переулок</th>\n",
       "      <th>Пресненский район</th>\n",
       "    </tr>\n",
       "    <tr>\n",
       "      <th>Большой Симоновский переулок</th>\n",
       "      <th>Таганский район</th>\n",
       "    </tr>\n",
       "    <tr>\n",
       "      <th>Большой Строченовский переулок</th>\n",
       "      <th>район Замоскворечье</th>\n",
       "    </tr>\n",
       "    <tr>\n",
       "      <th>Большой Трёхсвятительский переулок</th>\n",
       "      <th>Басманный район</th>\n",
       "    </tr>\n",
       "    <tr>\n",
       "      <th>Боровая улица</th>\n",
       "      <th>2-й микрорайон</th>\n",
       "    </tr>\n",
       "    <tr>\n",
       "      <th>Боровский проезд</th>\n",
       "      <th>3-й микрорайон</th>\n",
       "    </tr>\n",
       "    <tr>\n",
       "      <th>Ботанический переулок</th>\n",
       "      <th>Мещанский район</th>\n",
       "    </tr>\n",
       "    <tr>\n",
       "      <th>Бродников переулок</th>\n",
       "      <th>район Якиманка</th>\n",
       "    </tr>\n",
       "    <tr>\n",
       "      <th>Брошевский переулок</th>\n",
       "      <th>Таганский район</th>\n",
       "    </tr>\n",
       "    <tr>\n",
       "      <th>Будайская улица</th>\n",
       "      <th>район Ростокино</th>\n",
       "    </tr>\n",
       "    <tr>\n",
       "      <th>Будайский проезд</th>\n",
       "      <th>район Ростокино</th>\n",
       "    </tr>\n",
       "    <tr>\n",
       "      <th>Бутиковский переулок</th>\n",
       "      <th>138-й квартал</th>\n",
       "    </tr>\n",
       "    <tr>\n",
       "      <th>Вагоноремонтная улица</th>\n",
       "      <th>15-й микрорайон</th>\n",
       "    </tr>\n",
       "    <tr>\n",
       "      <th>Варсонофьевский переулок</th>\n",
       "      <th>Мещанский район</th>\n",
       "    </tr>\n",
       "    <tr>\n",
       "      <th>Вековая улица</th>\n",
       "      <th>Таганский район</th>\n",
       "    </tr>\n",
       "    <tr>\n",
       "      <th>Вербная улица</th>\n",
       "      <th>район Метрогородок</th>\n",
       "    </tr>\n",
       "    <tr>\n",
       "      <th>Верхний Золоторожский переулок</th>\n",
       "      <th>район Лефортово</th>\n",
       "    </tr>\n",
       "    <tr>\n",
       "      <th>Верхняя улица</th>\n",
       "      <th>район Беговой</th>\n",
       "    </tr>\n",
       "    <tr>\n",
       "      <th>Винницкая улица</th>\n",
       "      <th>район Раменки</th>\n",
       "    </tr>\n",
       "    <tr>\n",
       "      <th>Волоцкой переулок</th>\n",
       "      <th>8-й микрорайон</th>\n",
       "    </tr>\n",
       "    <tr>\n",
       "      <th>Воротниковский переулок</th>\n",
       "      <th>Тверской район</th>\n",
       "    </tr>\n",
       "    <tr>\n",
       "      <th>Врачебный проезд</th>\n",
       "      <th>район Покровское-Стрешнево</th>\n",
       "    </tr>\n",
       "    <tr>\n",
       "      <th>Выползов переулок</th>\n",
       "      <th>Мещанский район</th>\n",
       "    </tr>\n",
       "    <tr>\n",
       "      <th>Вяземская улица</th>\n",
       "      <th>Можайский район</th>\n",
       "    </tr>\n",
       "    <tr>\n",
       "      <th>Газгольдерная улица</th>\n",
       "      <th>Нижегородский район</th>\n",
       "    </tr>\n",
       "    <tr>\n",
       "      <th>Гаражная улица</th>\n",
       "      <th>район Соколиная Гора</th>\n",
       "    </tr>\n",
       "    <tr>\n",
       "      <th>Гвардейская улица</th>\n",
       "      <th>75-й квартал Кунцева</th>\n",
       "    </tr>\n",
       "    <tr>\n",
       "      <th>Гжатская улица</th>\n",
       "      <th>Можайский район</th>\n",
       "    </tr>\n",
       "    <tr>\n",
       "      <th>Гжельский переулок</th>\n",
       "      <th>Таганский район</th>\n",
       "    </tr>\n",
       "    <tr>\n",
       "      <th>Глазовский переулок</th>\n",
       "      <th>172-й квартал</th>\n",
       "    </tr>\n",
       "    <tr>\n",
       "      <th>Глебовская улица</th>\n",
       "      <th>район Богородское</th>\n",
       "    </tr>\n",
       "    <tr>\n",
       "      <th>Глинистый переулок</th>\n",
       "      <th>Мещанский район</th>\n",
       "    </tr>\n",
       "    <tr>\n",
       "      <th>Глинищевский переулок</th>\n",
       "      <th>Тверской район</th>\n",
       "    </tr>\n",
       "    <tr>\n",
       "      <th>Гольяновская улица</th>\n",
       "      <th>1139-й квартал</th>\n",
       "    </tr>\n",
       "    <tr>\n",
       "      <th>Госпитальный переулок</th>\n",
       "      <th>Басманный район</th>\n",
       "    </tr>\n",
       "    <tr>\n",
       "      <th>Гранатный переулок</th>\n",
       "      <th>Пресненский район</th>\n",
       "    </tr>\n",
       "    <tr>\n",
       "      <th>Гродненская улица</th>\n",
       "      <th>Можайский район</th>\n",
       "    </tr>\n",
       "    <tr>\n",
       "      <th>Дегтярный переулок</th>\n",
       "      <th>Тверской район</th>\n",
       "    </tr>\n",
       "    <tr>\n",
       "      <th>Делегатская улица</th>\n",
       "      <th>Тверской район</th>\n",
       "    </tr>\n",
       "    <tr>\n",
       "      <th>Денежный переулок</th>\n",
       "      <th>174-й квартал</th>\n",
       "    </tr>\n",
       "    <tr>\n",
       "      <th>Джанкойская улица</th>\n",
       "      <th>район Южное Бутово</th>\n",
       "    </tr>\n",
       "    <tr>\n",
       "      <th>Дивизионная улица</th>\n",
       "      <th>район Внуково</th>\n",
       "    </tr>\n",
       "    <tr>\n",
       "      <th>Дмитровский переулок</th>\n",
       "      <th>Тверской район</th>\n",
       "    </tr>\n",
       "    <tr>\n",
       "      <th>Добровольческая улица</th>\n",
       "      <th>Таганский район</th>\n",
       "    </tr>\n",
       "    <tr>\n",
       "      <th>Докучаев переулок</th>\n",
       "      <th>Красносельский район</th>\n",
       "    </tr>\n",
       "    <tr>\n",
       "      <th>Егорьевский проезд</th>\n",
       "      <th>район Люблино</th>\n",
       "    </tr>\n",
       "    <tr>\n",
       "      <th>Елоховский проезд</th>\n",
       "      <th>Басманный район</th>\n",
       "    </tr>\n",
       "    <tr>\n",
       "      <th>Есенинский бульвар</th>\n",
       "      <th>район Кузьминки</th>\n",
       "    </tr>\n",
       "    <tr>\n",
       "      <th>Живарев переулок</th>\n",
       "      <th>Красносельский район</th>\n",
       "    </tr>\n",
       "    <tr>\n",
       "      <th>Жуков проезд</th>\n",
       "      <th>Даниловский район</th>\n",
       "    </tr>\n",
       "    <tr>\n",
       "      <th>Заводской проезд</th>\n",
       "      <th>район Измайлово</th>\n",
       "    </tr>\n",
       "    <tr>\n",
       "      <th>Зарайская улица</th>\n",
       "      <th>6-й квартал Чухлинки</th>\n",
       "    </tr>\n",
       "    <tr>\n",
       "      <th>Звонарский переулок</th>\n",
       "      <th>Мещанский район</th>\n",
       "    </tr>\n",
       "    <tr>\n",
       "      <th>Зубарев переулок</th>\n",
       "      <th>Алексеевский район</th>\n",
       "    </tr>\n",
       "    <tr>\n",
       "      <th>Иваньковское шоссе</th>\n",
       "      <th>район Покровское-Стрешнево</th>\n",
       "    </tr>\n",
       "    <tr>\n",
       "      <th>Ижорский проезд</th>\n",
       "      <th>Дмитровский район</th>\n",
       "    </tr>\n",
       "    <tr>\n",
       "      <th>Изваринская улица</th>\n",
       "      <th>микрорайон Северо-Западный</th>\n",
       "    </tr>\n",
       "    <tr>\n",
       "      <th>Известковый переулок</th>\n",
       "      <th>Таганский район</th>\n",
       "    </tr>\n",
       "    <tr>\n",
       "      <th>Измайловская площадь</th>\n",
       "      <th>район Измайлово</th>\n",
       "    </tr>\n",
       "    <tr>\n",
       "      <th>Икшинская улица</th>\n",
       "      <th>18-й микрорайон</th>\n",
       "    </tr>\n",
       "    <tr>\n",
       "      <th>Институтский переулок</th>\n",
       "      <th>район Марьина Роща</th>\n",
       "    </tr>\n",
       "    <tr>\n",
       "      <th>Интернациональная улица</th>\n",
       "      <th>микрорайон Северо-Западный</th>\n",
       "    </tr>\n",
       "    <tr>\n",
       "      <th>Калибровская улица</th>\n",
       "      <th>Останкинский район</th>\n",
       "    </tr>\n",
       "    <tr>\n",
       "      <th>Калошин переулок</th>\n",
       "      <th>178-й квартал</th>\n",
       "    </tr>\n",
       "    <tr>\n",
       "      <th>Канатчиковский проезд</th>\n",
       "      <th>Донской район</th>\n",
       "    </tr>\n",
       "    <tr>\n",
       "      <th>Каргопольская улица</th>\n",
       "      <th>район Отрадное</th>\n",
       "    </tr>\n",
       "    <tr>\n",
       "      <th>Карельский бульвар</th>\n",
       "      <th>16-й микрорайон</th>\n",
       "    </tr>\n",
       "    <tr>\n",
       "      <th>Каскадная улица</th>\n",
       "      <th>посёлок Ухтомский</th>\n",
       "    </tr>\n",
       "    <tr>\n",
       "      <th>Кирпичная улица</th>\n",
       "      <th>район Соколиная Гора</th>\n",
       "    </tr>\n",
       "    <tr>\n",
       "      <th>Ковров переулок</th>\n",
       "      <th>Таганский район</th>\n",
       "    </tr>\n",
       "    <tr>\n",
       "      <th>Кожевнический проезд</th>\n",
       "      <th>район Замоскворечье</th>\n",
       "    </tr>\n",
       "    <tr>\n",
       "      <th>Козицкий переулок</th>\n",
       "      <th>Тверской район</th>\n",
       "    </tr>\n",
       "    <tr>\n",
       "      <th>Композиторская улица</th>\n",
       "      <th>район Арбат</th>\n",
       "    </tr>\n",
       "    <tr>\n",
       "      <th>Конаковский проезд</th>\n",
       "      <th>Головинский район</th>\n",
       "    </tr>\n",
       "    <tr>\n",
       "      <th>Кондрашёвский тупик</th>\n",
       "      <th>Басманный район</th>\n",
       "    </tr>\n",
       "    <tr>\n",
       "      <th>Кооперативная улица</th>\n",
       "      <th>475-й квартал</th>\n",
       "    </tr>\n",
       "    <tr>\n",
       "      <th>Коптевский бульвар</th>\n",
       "      <th>район Коптево</th>\n",
       "    </tr>\n",
       "    <tr>\n",
       "      <th>Костомаровская набережная</th>\n",
       "      <th>Таганский район</th>\n",
       "    </tr>\n",
       "    <tr>\n",
       "      <th>Красногвардейский бульвар</th>\n",
       "      <th>Пресненский район</th>\n",
       "    </tr>\n",
       "    <tr>\n",
       "      <th>Красноказарменный проезд</th>\n",
       "      <th>5-й микрорайон</th>\n",
       "    </tr>\n",
       "    <tr>\n",
       "      <th>Красностуденческий проезд</th>\n",
       "      <th>Тимирязевский район</th>\n",
       "    </tr>\n",
       "    <tr>\n",
       "      <th>Кремлёвская набережная</th>\n",
       "      <th>28-й квартал</th>\n",
       "    </tr>\n",
       "    <tr>\n",
       "      <th>Кривоарбатский переулок</th>\n",
       "      <th>176-й квартал</th>\n",
       "    </tr>\n",
       "    <tr>\n",
       "      <th>Кузьминская улица</th>\n",
       "      <th>район Кузьминки</th>\n",
       "    </tr>\n",
       "    <tr>\n",
       "      <th>Кулаков переулок</th>\n",
       "      <th>Алексеевский район</th>\n",
       "    </tr>\n",
       "    <tr>\n",
       "      <th>Кунцевская улица</th>\n",
       "      <th>район Кунцево</th>\n",
       "    </tr>\n",
       "    <tr>\n",
       "      <th>Курганская улица</th>\n",
       "      <th>район Гольяново</th>\n",
       "    </tr>\n",
       "    <tr>\n",
       "      <th>Кучин переулок</th>\n",
       "      <th>Алексеевский район</th>\n",
       "    </tr>\n",
       "    <tr>\n",
       "      <th>Ландышевая улица</th>\n",
       "      <th>район Куркино</th>\n",
       "    </tr>\n",
       "    <tr>\n",
       "      <th>Лениногорская улица</th>\n",
       "      <th>посёлок Ухтомский</th>\n",
       "    </tr>\n",
       "    <tr>\n",
       "      <th>Лефортовский переулок</th>\n",
       "      <th>Басманный район</th>\n",
       "    </tr>\n",
       "    <tr>\n",
       "      <th>Лечебная улица</th>\n",
       "      <th>район Соколиная Гора</th>\n",
       "    </tr>\n",
       "    <tr>\n",
       "      <th>Лианозовский проезд</th>\n",
       "      <th>район Лианозово</th>\n",
       "    </tr>\n",
       "    <tr>\n",
       "      <th>Линейный проезд</th>\n",
       "      <th>Тимирязевский район</th>\n",
       "    </tr>\n",
       "    <tr>\n",
       "      <th>Лонгиновская улица</th>\n",
       "      <th>2-й микрорайон</th>\n",
       "    </tr>\n",
       "    <tr>\n",
       "      <th>Лосевская улица</th>\n",
       "      <th>Ярославский район</th>\n",
       "    </tr>\n",
       "    <tr>\n",
       "      <th>Лужнецкий проезд</th>\n",
       "      <th>527-й квартал</th>\n",
       "    </tr>\n",
       "    <tr>\n",
       "      <th>Лыщиков переулок</th>\n",
       "      <th>Таганский район</th>\n",
       "    </tr>\n",
       "    <tr>\n",
       "      <th>Магаданская улица</th>\n",
       "      <th>Лосиноостровский район</th>\n",
       "    </tr>\n",
       "    <tr>\n",
       "      <th>Мажоров переулок</th>\n",
       "      <th>район Соколиная Гора</th>\n",
       "    </tr>\n",
       "    <tr>\n",
       "      <th>Малая Андроньевская улица</th>\n",
       "      <th>Таганский район</th>\n",
       "    </tr>\n",
       "    <tr>\n",
       "      <th>Малая Ботаническая улица</th>\n",
       "      <th>район Марфино</th>\n",
       "    </tr>\n",
       "    <tr>\n",
       "      <th>Малая Переяславская улица</th>\n",
       "      <th>Мещанский район</th>\n",
       "    </tr>\n",
       "    <tr>\n",
       "      <th>Малая Тульская улица</th>\n",
       "      <th>Донской район</th>\n",
       "    </tr>\n",
       "    <tr>\n",
       "      <th>Малый Власьевский переулок</th>\n",
       "      <th>165-й квартал</th>\n",
       "    </tr>\n",
       "    <tr>\n",
       "      <th>Малый Златоустинский переулок</th>\n",
       "      <th>Басманный район</th>\n",
       "    </tr>\n",
       "    <tr>\n",
       "      <th>Малый Знаменский переулок</th>\n",
       "      <th>34-й квартал</th>\n",
       "    </tr>\n",
       "    <tr>\n",
       "      <th>Малый Ивановский переулок</th>\n",
       "      <th>Басманный район</th>\n",
       "    </tr>\n",
       "    <tr>\n",
       "      <th>Малый Казённый переулок</th>\n",
       "      <th>Басманный район</th>\n",
       "    </tr>\n",
       "    <tr>\n",
       "      <th>Малый Каретный переулок</th>\n",
       "      <th>Тверской район</th>\n",
       "    </tr>\n",
       "    <tr>\n",
       "      <th>Малый Конюшковский переулок</th>\n",
       "      <th>Пресненский район</th>\n",
       "    </tr>\n",
       "    <tr>\n",
       "      <th>Малый Коптевский проезд</th>\n",
       "      <th>район Аэропорт</th>\n",
       "    </tr>\n",
       "    <tr>\n",
       "      <th>Малый Лёвшинский переулок</th>\n",
       "      <th>157-й квартал</th>\n",
       "    </tr>\n",
       "    <tr>\n",
       "      <th>Малый Николопесковский переулок</th>\n",
       "      <th>район Арбат</th>\n",
       "    </tr>\n",
       "    <tr>\n",
       "      <th>Малый Полуярославский переулок</th>\n",
       "      <th>Таганский район</th>\n",
       "    </tr>\n",
       "    <tr>\n",
       "      <th>Малый Путинковский переулок</th>\n",
       "      <th>Тверской район</th>\n",
       "    </tr>\n",
       "    <tr>\n",
       "      <th>Малый Саввинский переулок</th>\n",
       "      <th>район Хамовники</th>\n",
       "    </tr>\n",
       "    <tr>\n",
       "      <th>Малый Татарский переулок</th>\n",
       "      <th>район Замоскворечье</th>\n",
       "    </tr>\n",
       "    <tr>\n",
       "      <th>Малый Толмачёвский переулок</th>\n",
       "      <th>район Якиманка</th>\n",
       "    </tr>\n",
       "    <tr>\n",
       "      <th>Мамоновский переулок</th>\n",
       "      <th>Тверской район</th>\n",
       "    </tr>\n",
       "    <tr>\n",
       "      <th>Мансуровский переулок</th>\n",
       "      <th>150-й квартал</th>\n",
       "    </tr>\n",
       "    <tr>\n",
       "      <th>Мариупольская улица</th>\n",
       "      <th>район Люблино</th>\n",
       "    </tr>\n",
       "    <tr>\n",
       "      <th rowspan=\"2\" valign=\"top\">Мартеновская улица</th>\n",
       "      <th>район Новогиреево</th>\n",
       "    </tr>\n",
       "    <tr>\n",
       "      <th>район Перово</th>\n",
       "    </tr>\n",
       "    <tr>\n",
       "      <th>Машкинское шоссе</th>\n",
       "      <th>район Куркино</th>\n",
       "    </tr>\n",
       "    <tr>\n",
       "      <th>Международная улица</th>\n",
       "      <th>Таганский район</th>\n",
       "    </tr>\n",
       "    <tr>\n",
       "      <th>Мерзляковский переулок</th>\n",
       "      <th>209-й квартал</th>\n",
       "    </tr>\n",
       "    <tr>\n",
       "      <th>Миллионная улица</th>\n",
       "      <th>район Богородское</th>\n",
       "    </tr>\n",
       "    <tr>\n",
       "      <th>Минаевский переулок</th>\n",
       "      <th>район Марьина Роща</th>\n",
       "    </tr>\n",
       "    <tr>\n",
       "      <th>Мирской переулок</th>\n",
       "      <th>Савёловский район</th>\n",
       "    </tr>\n",
       "    <tr>\n",
       "      <th>Миусская площадь</th>\n",
       "      <th>Тверской район</th>\n",
       "    </tr>\n",
       "    <tr>\n",
       "      <th>Мишина улица</th>\n",
       "      <th>Савёловский район</th>\n",
       "    </tr>\n",
       "    <tr>\n",
       "      <th>Молодёжная улица</th>\n",
       "      <th>Гагаринский район</th>\n",
       "    </tr>\n",
       "    <tr>\n",
       "      <th>Мрузовский переулок</th>\n",
       "      <th>Басманный район</th>\n",
       "    </tr>\n",
       "    <tr>\n",
       "      <th>Нагатинский бульвар</th>\n",
       "      <th>1-й квартал Нагатина</th>\n",
       "    </tr>\n",
       "    <tr>\n",
       "      <th>Нагорный бульвар</th>\n",
       "      <th>район Котловка</th>\n",
       "    </tr>\n",
       "    <tr>\n",
       "      <th>Напрудный переулок</th>\n",
       "      <th>Мещанский район</th>\n",
       "    </tr>\n",
       "    <tr>\n",
       "      <th>Нарвская улица</th>\n",
       "      <th>район Коптево</th>\n",
       "    </tr>\n",
       "    <tr>\n",
       "      <th>Наро-Фоминская улица</th>\n",
       "      <th>3-й микрорайон</th>\n",
       "    </tr>\n",
       "    <tr>\n",
       "      <th>Народный проспект</th>\n",
       "      <th>район Измайлово</th>\n",
       "    </tr>\n",
       "    <tr>\n",
       "      <th>Научный проезд</th>\n",
       "      <th>район Черёмушки</th>\n",
       "    </tr>\n",
       "    <tr>\n",
       "      <th>Нелидовская улица</th>\n",
       "      <th>район Южное Тушино</th>\n",
       "    </tr>\n",
       "    <tr>\n",
       "      <th>Неманский проезд</th>\n",
       "      <th>район Строгино</th>\n",
       "    </tr>\n",
       "    <tr>\n",
       "      <th>Несвижский переулок</th>\n",
       "      <th>454-й квартал</th>\n",
       "    </tr>\n",
       "    <tr>\n",
       "      <th>Нижний Журавлёв переулок</th>\n",
       "      <th>район Соколиная Гора</th>\n",
       "    </tr>\n",
       "    <tr>\n",
       "      <th>Нижний Кисельный переулок</th>\n",
       "      <th>Мещанский район</th>\n",
       "    </tr>\n",
       "    <tr>\n",
       "      <th>Никитский переулок</th>\n",
       "      <th>Тверской район</th>\n",
       "    </tr>\n",
       "    <tr>\n",
       "      <th>Новобутовский проезд</th>\n",
       "      <th>район Южное Бутово</th>\n",
       "    </tr>\n",
       "    <tr>\n",
       "      <th>Нововладыкинский проезд</th>\n",
       "      <th>район Отрадное</th>\n",
       "    </tr>\n",
       "    <tr>\n",
       "      <th>Новолучанская улица</th>\n",
       "      <th>район Кунцево</th>\n",
       "    </tr>\n",
       "    <tr>\n",
       "      <th>Новоостаповская улица</th>\n",
       "      <th>Южнопортовый район</th>\n",
       "    </tr>\n",
       "    <tr>\n",
       "      <th>Новопоселковая улица</th>\n",
       "      <th>район Южное Тушино</th>\n",
       "    </tr>\n",
       "    <tr>\n",
       "      <th>Новопресненский переулок</th>\n",
       "      <th>Пресненский район</th>\n",
       "    </tr>\n",
       "    <tr>\n",
       "      <th>Новорижское шоссе</th>\n",
       "      <th>район Кунцево</th>\n",
       "    </tr>\n",
       "    <tr>\n",
       "      <th>Новорублёвская улица</th>\n",
       "      <th>район Кунцево</th>\n",
       "    </tr>\n",
       "    <tr>\n",
       "      <th>Новосибирская улица</th>\n",
       "      <th>район Гольяново</th>\n",
       "    </tr>\n",
       "    <tr>\n",
       "      <th>Новохорошёвский проезд</th>\n",
       "      <th>район Хорошёво-Мнёвники</th>\n",
       "    </tr>\n",
       "    <tr>\n",
       "      <th>Норильская улица</th>\n",
       "      <th>Лосиноостровский район</th>\n",
       "    </tr>\n",
       "    <tr>\n",
       "      <th>Олонецкий проезд</th>\n",
       "      <th>Бабушкинский район</th>\n",
       "    </tr>\n",
       "    <tr>\n",
       "      <th>Оренбургская улица</th>\n",
       "      <th>район Косино-Ухтомский</th>\n",
       "    </tr>\n",
       "    <tr>\n",
       "      <th>Орехово-Зуевский проезд</th>\n",
       "      <th>88-й квартал Карачарова</th>\n",
       "    </tr>\n",
       "    <tr>\n",
       "      <th>Отрадный проезд</th>\n",
       "      <th>район Отрадное</th>\n",
       "    </tr>\n",
       "    <tr>\n",
       "      <th>Парусный проезд</th>\n",
       "      <th>район Южное Тушино</th>\n",
       "    </tr>\n",
       "    <tr>\n",
       "      <th>Педагогическая улица</th>\n",
       "      <th>район Бирюлёво Восточное</th>\n",
       "    </tr>\n",
       "    <tr>\n",
       "      <th>Пенягинская улица</th>\n",
       "      <th>микрорайон № 8А</th>\n",
       "    </tr>\n",
       "    <tr>\n",
       "      <th>Перовский проезд</th>\n",
       "      <th>район Лефортово</th>\n",
       "    </tr>\n",
       "    <tr>\n",
       "      <th>Пестовский переулок</th>\n",
       "      <th>Таганский район</th>\n",
       "    </tr>\n",
       "    <tr>\n",
       "      <th>Песчаная улица</th>\n",
       "      <th>район Сокол</th>\n",
       "    </tr>\n",
       "    <tr>\n",
       "      <th>Песчаный переулок</th>\n",
       "      <th>район Сокол</th>\n",
       "    </tr>\n",
       "    <tr>\n",
       "      <th>Петроверигский переулок</th>\n",
       "      <th>Басманный район</th>\n",
       "    </tr>\n",
       "    <tr>\n",
       "      <th>Петровско-Разумовская аллея</th>\n",
       "      <th>район Аэропорт</th>\n",
       "    </tr>\n",
       "    <tr>\n",
       "      <th>Печорская улица</th>\n",
       "      <th>Бабушкинский район</th>\n",
       "    </tr>\n",
       "    <tr>\n",
       "      <th>Платовская улица</th>\n",
       "      <th>район Дорогомилово</th>\n",
       "    </tr>\n",
       "    <tr>\n",
       "      <th>Плетешковский переулок</th>\n",
       "      <th>Басманный район</th>\n",
       "    </tr>\n",
       "    <tr>\n",
       "      <th>Подольская улица</th>\n",
       "      <th>район Марьино</th>\n",
       "    </tr>\n",
       "    <tr>\n",
       "      <th>Подсосенский переулок</th>\n",
       "      <th>Басманный район</th>\n",
       "    </tr>\n",
       "    <tr>\n",
       "      <th>Пожарский переулок</th>\n",
       "      <th>139-й квартал</th>\n",
       "    </tr>\n",
       "    <tr>\n",
       "      <th>Полоцкая улица</th>\n",
       "      <th>район Кунцево</th>\n",
       "    </tr>\n",
       "    <tr>\n",
       "      <th>Полтавская улица</th>\n",
       "      <th>Савёловский район</th>\n",
       "    </tr>\n",
       "    <tr>\n",
       "      <th>Попов проезд</th>\n",
       "      <th>5-й микрорайон</th>\n",
       "    </tr>\n",
       "    <tr>\n",
       "      <th>Поречная улица</th>\n",
       "      <th>микрорайон Марьинский Парк</th>\n",
       "    </tr>\n",
       "    <tr>\n",
       "      <th>Посланников переулок</th>\n",
       "      <th>Басманный район</th>\n",
       "    </tr>\n",
       "    <tr>\n",
       "      <th>Прибрежный проезд</th>\n",
       "      <th>район Левобережный</th>\n",
       "    </tr>\n",
       "    <tr>\n",
       "      <th>Причальный проезд</th>\n",
       "      <th>Пресненский район</th>\n",
       "    </tr>\n",
       "    <tr>\n",
       "      <th>Производственная улица</th>\n",
       "      <th>4-й микрорайон</th>\n",
       "    </tr>\n",
       "    <tr>\n",
       "      <th>Проточный переулок</th>\n",
       "      <th>578-й, 579-й кварталы</th>\n",
       "    </tr>\n",
       "    <tr>\n",
       "      <th>Пуговишников переулок</th>\n",
       "      <th>455-й квартал</th>\n",
       "    </tr>\n",
       "    <tr>\n",
       "      <th>Пулковская улица</th>\n",
       "      <th>Головинский район</th>\n",
       "    </tr>\n",
       "    <tr>\n",
       "      <th>Пыжёвский переулок</th>\n",
       "      <th>район Якиманка</th>\n",
       "    </tr>\n",
       "    <tr>\n",
       "      <th>Пяловская улица</th>\n",
       "      <th>район Западное Дегунино</th>\n",
       "    </tr>\n",
       "    <tr>\n",
       "      <th>Родниковая улица</th>\n",
       "      <th>посёлок Западный</th>\n",
       "    </tr>\n",
       "    <tr>\n",
       "      <th>Ростокинская улица</th>\n",
       "      <th>район Ростокино</th>\n",
       "    </tr>\n",
       "    <tr>\n",
       "      <th>Рубцов переулок</th>\n",
       "      <th>Басманный район</th>\n",
       "    </tr>\n",
       "    <tr>\n",
       "      <th>Русаковская набережная</th>\n",
       "      <th>район Сокольники</th>\n",
       "    </tr>\n",
       "    <tr>\n",
       "      <th>Садовая-Сухаревская улица</th>\n",
       "      <th>Мещанский район</th>\n",
       "    </tr>\n",
       "    <tr>\n",
       "      <th>Садовнический проезд</th>\n",
       "      <th>район Замоскворечье</th>\n",
       "    </tr>\n",
       "    <tr>\n",
       "      <th>Сверчков переулок</th>\n",
       "      <th>Басманный район</th>\n",
       "    </tr>\n",
       "    <tr>\n",
       "      <th>Северодвинская улица</th>\n",
       "      <th>район Северное Медведково</th>\n",
       "    </tr>\n",
       "    <tr>\n",
       "      <th rowspan=\"2\" valign=\"top\">Селигерская улица</th>\n",
       "      <th>6-й микрорайон</th>\n",
       "    </tr>\n",
       "    <tr>\n",
       "      <th>7-й микрорайон</th>\n",
       "    </tr>\n",
       "    <tr>\n",
       "      <th>Сеченовский переулок</th>\n",
       "      <th>150-й квартал</th>\n",
       "    </tr>\n",
       "    <tr>\n",
       "      <th>Сибирский проезд</th>\n",
       "      <th>Таганский район</th>\n",
       "    </tr>\n",
       "    <tr>\n",
       "      <th>Сивашская улица</th>\n",
       "      <th>район Зюзино</th>\n",
       "    </tr>\n",
       "    <tr>\n",
       "      <th>Симферопольский проезд</th>\n",
       "      <th>Нагорный район</th>\n",
       "    </tr>\n",
       "    <tr>\n",
       "      <th>Синельниковская улица</th>\n",
       "      <th>район Южное Бутово</th>\n",
       "    </tr>\n",
       "    <tr>\n",
       "      <th>Скатертный переулок</th>\n",
       "      <th>207-й квартал</th>\n",
       "    </tr>\n",
       "    <tr>\n",
       "      <th>Скорняжный переулок</th>\n",
       "      <th>Красносельский район</th>\n",
       "    </tr>\n",
       "    <tr>\n",
       "      <th>Соболевский проезд</th>\n",
       "      <th>район Коптево</th>\n",
       "    </tr>\n",
       "    <tr>\n",
       "      <th>Соймоновский проезд</th>\n",
       "      <th>144-й квартал</th>\n",
       "    </tr>\n",
       "    <tr>\n",
       "      <th>Солнечногорская улица</th>\n",
       "      <th>Головинский район</th>\n",
       "    </tr>\n",
       "    <tr>\n",
       "      <th>Солнечногорский проезд</th>\n",
       "      <th>Головинский район</th>\n",
       "    </tr>\n",
       "    <tr>\n",
       "      <th>Сормовский проезд</th>\n",
       "      <th>район Выхино-Жулебино</th>\n",
       "    </tr>\n",
       "    <tr>\n",
       "      <th>Софийская набережная</th>\n",
       "      <th>район Якиманка</th>\n",
       "    </tr>\n",
       "    <tr>\n",
       "      <th>Союзный проспект</th>\n",
       "      <th>район Новогиреево</th>\n",
       "    </tr>\n",
       "    <tr>\n",
       "      <th>Спартаковский переулок</th>\n",
       "      <th>Красносельский район</th>\n",
       "    </tr>\n",
       "    <tr>\n",
       "      <th>Спортивный проезд</th>\n",
       "      <th>район Люблино</th>\n",
       "    </tr>\n",
       "    <tr>\n",
       "      <th>Средний Кондратьевский переулок</th>\n",
       "      <th>Пресненский район</th>\n",
       "    </tr>\n",
       "    <tr>\n",
       "      <th>Средний Овчинниковский переулок</th>\n",
       "      <th>район Замоскворечье</th>\n",
       "    </tr>\n",
       "    <tr>\n",
       "      <th>Средняя Калитниковская улица</th>\n",
       "      <th>Таганский район</th>\n",
       "    </tr>\n",
       "    <tr>\n",
       "      <th>Сретенский тупик</th>\n",
       "      <th>Красносельский район</th>\n",
       "    </tr>\n",
       "    <tr>\n",
       "      <th>Стандартная улица</th>\n",
       "      <th>Алтуфьевский район</th>\n",
       "    </tr>\n",
       "    <tr>\n",
       "      <th>Староалексеевская улица</th>\n",
       "      <th>Алексеевский район</th>\n",
       "    </tr>\n",
       "    <tr>\n",
       "      <th>Старомарьинское шоссе</th>\n",
       "      <th>район Марьина Роща</th>\n",
       "    </tr>\n",
       "    <tr>\n",
       "      <th>Старомонетный переулок</th>\n",
       "      <th>район Якиманка</th>\n",
       "    </tr>\n",
       "    <tr>\n",
       "      <th>Староникольская улица</th>\n",
       "      <th>деревня Староникольское</th>\n",
       "    </tr>\n",
       "    <tr>\n",
       "      <th>Старослободская улица</th>\n",
       "      <th>район Сокольники</th>\n",
       "    </tr>\n",
       "    <tr>\n",
       "      <th>Столовый переулок</th>\n",
       "      <th>Пресненский район</th>\n",
       "    </tr>\n",
       "    <tr>\n",
       "      <th>Стрелецкая улица</th>\n",
       "      <th>район Марьина Роща</th>\n",
       "    </tr>\n",
       "    <tr>\n",
       "      <th>Стрельбищенский переулок</th>\n",
       "      <th>Пресненский район</th>\n",
       "    </tr>\n",
       "    <tr>\n",
       "      <th>Таганрогская улица</th>\n",
       "      <th>район Люблино</th>\n",
       "    </tr>\n",
       "    <tr>\n",
       "      <th>Таможенный проезд</th>\n",
       "      <th>район Лефортово</th>\n",
       "    </tr>\n",
       "    <tr>\n",
       "      <th>Тарусская улица</th>\n",
       "      <th>район Ясенево</th>\n",
       "    </tr>\n",
       "    <tr>\n",
       "      <th>Тарханская улица</th>\n",
       "      <th>район Выхино-Жулебино</th>\n",
       "    </tr>\n",
       "    <tr>\n",
       "      <th>Таёжная улица</th>\n",
       "      <th>Лосиноостровский район</th>\n",
       "    </tr>\n",
       "    <tr>\n",
       "      <th>Театральная аллея</th>\n",
       "      <th>район Аэропорт</th>\n",
       "    </tr>\n",
       "    <tr>\n",
       "      <th>Тенистый проезд</th>\n",
       "      <th>район Свиблово</th>\n",
       "    </tr>\n",
       "    <tr>\n",
       "      <th>Тессинский переулок</th>\n",
       "      <th>314-й квартал</th>\n",
       "    </tr>\n",
       "    <tr>\n",
       "      <th>Тестовская улица</th>\n",
       "      <th>Пресненский район</th>\n",
       "    </tr>\n",
       "    <tr>\n",
       "      <th>Тетеринский переулок</th>\n",
       "      <th>Таганский район</th>\n",
       "    </tr>\n",
       "    <tr>\n",
       "      <th>Тимирязевский проезд</th>\n",
       "      <th>Тимирязевский район</th>\n",
       "    </tr>\n",
       "    <tr>\n",
       "      <th>Тихая улица</th>\n",
       "      <th>район Люблино</th>\n",
       "    </tr>\n",
       "    <tr>\n",
       "      <th>Тихвинский переулок</th>\n",
       "      <th>Тверской район</th>\n",
       "    </tr>\n",
       "    <tr>\n",
       "      <th>Триумфальная площадь</th>\n",
       "      <th>Тверской район</th>\n",
       "    </tr>\n",
       "    <tr>\n",
       "      <th>Троилинский переулок</th>\n",
       "      <th>район Арбат</th>\n",
       "    </tr>\n",
       "    <tr>\n",
       "      <th>Тургеневская площадь</th>\n",
       "      <th>Красносельский район</th>\n",
       "    </tr>\n",
       "    <tr>\n",
       "      <th>Уваровский переулок</th>\n",
       "      <th>район Митино</th>\n",
       "    </tr>\n",
       "    <tr>\n",
       "      <th>Уржумская улица</th>\n",
       "      <th>район Свиблово</th>\n",
       "    </tr>\n",
       "    <tr>\n",
       "      <th>Успенский переулок</th>\n",
       "      <th>Тверской район</th>\n",
       "    </tr>\n",
       "    <tr>\n",
       "      <th>Утренняя улица</th>\n",
       "      <th>район Новогиреево</th>\n",
       "    </tr>\n",
       "    <tr>\n",
       "      <th>Учинская улица</th>\n",
       "      <th>18-й микрорайон</th>\n",
       "    </tr>\n",
       "    <tr>\n",
       "      <th>Фармацевтический проезд</th>\n",
       "      <th>район Коптево</th>\n",
       "    </tr>\n",
       "    <tr>\n",
       "      <th>Федоскинская улица</th>\n",
       "      <th>Ярославский район</th>\n",
       "    </tr>\n",
       "    <tr>\n",
       "      <th>Феодосийская улица</th>\n",
       "      <th>7-й микрорайон</th>\n",
       "    </tr>\n",
       "    <tr>\n",
       "      <th>Филипповский переулок</th>\n",
       "      <th>180-й квартал</th>\n",
       "    </tr>\n",
       "    <tr>\n",
       "      <th>Фролов переулок</th>\n",
       "      <th>Красносельский район</th>\n",
       "    </tr>\n",
       "    <tr>\n",
       "      <th>Фруктовая улица</th>\n",
       "      <th>Нагорный район</th>\n",
       "    </tr>\n",
       "    <tr>\n",
       "      <th>Хавская улица</th>\n",
       "      <th>Даниловский район</th>\n",
       "    </tr>\n",
       "    <tr>\n",
       "      <th>Хвалынский бульвар</th>\n",
       "      <th>район Выхино-Жулебино</th>\n",
       "    </tr>\n",
       "    <tr>\n",
       "      <th>Хилков переулок</th>\n",
       "      <th>133-й квартал</th>\n",
       "    </tr>\n",
       "    <tr>\n",
       "      <th>Хитровский переулок</th>\n",
       "      <th>Басманный район</th>\n",
       "    </tr>\n",
       "    <tr>\n",
       "      <th>Хлебный переулок</th>\n",
       "      <th>207-й квартал</th>\n",
       "    </tr>\n",
       "    <tr>\n",
       "      <th>Хлыновский тупик</th>\n",
       "      <th>Пресненский район</th>\n",
       "    </tr>\n",
       "    <tr>\n",
       "      <th>Хованская улица</th>\n",
       "      <th>Останкинский район</th>\n",
       "    </tr>\n",
       "    <tr>\n",
       "      <th rowspan=\"2\" valign=\"top\">Холмогорская улица</th>\n",
       "      <th>33-й микрорайон</th>\n",
       "    </tr>\n",
       "    <tr>\n",
       "      <th>микрорайон 33А</th>\n",
       "    </tr>\n",
       "    <tr>\n",
       "      <th>Хохловский переулок</th>\n",
       "      <th>Басманный район</th>\n",
       "    </tr>\n",
       "    <tr>\n",
       "      <th>Челюскинская улица</th>\n",
       "      <th>Лосиноостровский район</th>\n",
       "    </tr>\n",
       "    <tr>\n",
       "      <th>Чермянская улица</th>\n",
       "      <th>район Северное Медведково</th>\n",
       "    </tr>\n",
       "    <tr>\n",
       "      <th>Чермянский проезд</th>\n",
       "      <th>район Северное Медведково</th>\n",
       "    </tr>\n",
       "    <tr>\n",
       "      <th>Черниговский переулок</th>\n",
       "      <th>район Замоскворечье</th>\n",
       "    </tr>\n",
       "    <tr>\n",
       "      <th>Черницынский проезд</th>\n",
       "      <th>район Гольяново</th>\n",
       "    </tr>\n",
       "    <tr>\n",
       "      <th>Черноморский бульвар</th>\n",
       "      <th>Нагорный район</th>\n",
       "    </tr>\n",
       "    <tr>\n",
       "      <th>Чукотский проезд</th>\n",
       "      <th>Бабушкинский район</th>\n",
       "    </tr>\n",
       "    <tr>\n",
       "      <th>Чуксин тупик</th>\n",
       "      <th>Тимирязевский район</th>\n",
       "    </tr>\n",
       "    <tr>\n",
       "      <th>Шепелюгинская улица</th>\n",
       "      <th>8-й микрорайон</th>\n",
       "    </tr>\n",
       "    <tr>\n",
       "      <th>Штурвальная улица</th>\n",
       "      <th>район Южное Тушино</th>\n",
       "    </tr>\n",
       "    <tr>\n",
       "      <th>Шубинский переулок</th>\n",
       "      <th>570-й квартал</th>\n",
       "    </tr>\n",
       "    <tr>\n",
       "      <th>Щёлковский проезд</th>\n",
       "      <th>район Северное Измайлово</th>\n",
       "    </tr>\n",
       "    <tr>\n",
       "      <th>Электрический переулок</th>\n",
       "      <th>Пресненский район</th>\n",
       "    </tr>\n",
       "    <tr>\n",
       "      <th>Юрловский проезд</th>\n",
       "      <th>район Отрадное</th>\n",
       "    </tr>\n",
       "    <tr>\n",
       "      <th>Якиманский переулок</th>\n",
       "      <th>район Якиманка</th>\n",
       "    </tr>\n",
       "    <tr>\n",
       "      <th>Ялтинская улица</th>\n",
       "      <th>Нагорный район</th>\n",
       "    </tr>\n",
       "    <tr>\n",
       "      <th>Янтарный проезд</th>\n",
       "      <th>Лосиноостровский район</th>\n",
       "    </tr>\n",
       "    <tr>\n",
       "      <th>Ясногорская улица</th>\n",
       "      <th>район Ясенево</th>\n",
       "    </tr>\n",
       "    <tr>\n",
       "      <th>Яузский бульвар</th>\n",
       "      <th>Таганский район</th>\n",
       "    </tr>\n",
       "    <tr>\n",
       "      <th>Яхромская улица</th>\n",
       "      <th>18-й микрорайон</th>\n",
       "    </tr>\n",
       "    <tr>\n",
       "      <th>аллея Жемчуговой</th>\n",
       "      <th>район Вешняки</th>\n",
       "    </tr>\n",
       "    <tr>\n",
       "      <th>бульвар Матроса Железняка</th>\n",
       "      <th>район Коптево</th>\n",
       "    </tr>\n",
       "    <tr>\n",
       "      <th>переулок Васнецова</th>\n",
       "      <th>Мещанский район</th>\n",
       "    </tr>\n",
       "    <tr>\n",
       "      <th>переулок Красина</th>\n",
       "      <th>Пресненский район</th>\n",
       "    </tr>\n",
       "    <tr>\n",
       "      <th>переулок Маяковского</th>\n",
       "      <th>Таганский район</th>\n",
       "    </tr>\n",
       "    <tr>\n",
       "      <th>переулок Расковой</th>\n",
       "      <th>район Беговой</th>\n",
       "    </tr>\n",
       "    <tr>\n",
       "      <th>переулок Хользунова</th>\n",
       "      <th>461-й квартал</th>\n",
       "    </tr>\n",
       "    <tr>\n",
       "      <th>площадь Журавлёва</th>\n",
       "      <th>район Соколиная Гора</th>\n",
       "    </tr>\n",
       "    <tr>\n",
       "      <th>поселение Филимонковское</th>\n",
       "      <th>квартал № 90</th>\n",
       "    </tr>\n",
       "    <tr>\n",
       "      <th>проезд Добролюбова</th>\n",
       "      <th>Бутырский район</th>\n",
       "    </tr>\n",
       "    <tr>\n",
       "      <th>проезд Досфлота</th>\n",
       "      <th>район Южное Тушино</th>\n",
       "    </tr>\n",
       "    <tr>\n",
       "      <th>проезд Черепановых</th>\n",
       "      <th>район Коптево</th>\n",
       "    </tr>\n",
       "    <tr>\n",
       "      <th>проектируемый проезд № 1980</th>\n",
       "      <th>район Очаково-Матвеевское</th>\n",
       "    </tr>\n",
       "    <tr>\n",
       "      <th>проспект 40 лет Октября</th>\n",
       "      <th>район Люблино</th>\n",
       "    </tr>\n",
       "    <tr>\n",
       "      <th>улица 9 Мая</th>\n",
       "      <th>район Восточный</th>\n",
       "    </tr>\n",
       "    <tr>\n",
       "      <th>улица Авиаконструктора Микояна</th>\n",
       "      <th>Хорошёвский район</th>\n",
       "    </tr>\n",
       "    <tr>\n",
       "      <th>улица Айвазовского</th>\n",
       "      <th>район Ясенево</th>\n",
       "    </tr>\n",
       "    <tr>\n",
       "      <th>улица Академика Арцимовича</th>\n",
       "      <th>48-50-й квартал</th>\n",
       "    </tr>\n",
       "    <tr>\n",
       "      <th>улица Академика Опарина</th>\n",
       "      <th>Обручевский район</th>\n",
       "    </tr>\n",
       "    <tr>\n",
       "      <th>улица Академика Павлова</th>\n",
       "      <th>район Кунцево</th>\n",
       "    </tr>\n",
       "    <tr>\n",
       "      <th>улица Академика Петровского</th>\n",
       "      <th>Донской район</th>\n",
       "    </tr>\n",
       "    <tr>\n",
       "      <th>улица Академика Понтрягина</th>\n",
       "      <th>11-й микрорайон</th>\n",
       "    </tr>\n",
       "    <tr>\n",
       "      <th>улица Академика Семёнова</th>\n",
       "      <th>микрорайон В</th>\n",
       "    </tr>\n",
       "    <tr>\n",
       "      <th>улица Алексея Дикого</th>\n",
       "      <th>район Новогиреево</th>\n",
       "    </tr>\n",
       "    <tr>\n",
       "      <th>улица Анатолия Живова</th>\n",
       "      <th>комплекс жилых домов Нижняя Пресня</th>\n",
       "    </tr>\n",
       "    <tr>\n",
       "      <th>улица Артюхиной</th>\n",
       "      <th>район Текстильщики</th>\n",
       "    </tr>\n",
       "    <tr>\n",
       "      <th>улица Атарбекова</th>\n",
       "      <th>район Преображенское</th>\n",
       "    </tr>\n",
       "    <tr>\n",
       "      <th>улица Благуша</th>\n",
       "      <th>микрорайон Дружба</th>\n",
       "    </tr>\n",
       "    <tr>\n",
       "      <th>улица Богданова</th>\n",
       "      <th>6-й микрорайон</th>\n",
       "    </tr>\n",
       "    <tr>\n",
       "      <th>улица Богородский Вал</th>\n",
       "      <th>район Богородское</th>\n",
       "    </tr>\n",
       "    <tr>\n",
       "      <th>улица Бориса Жигулёнкова</th>\n",
       "      <th>район Соколиная Гора</th>\n",
       "    </tr>\n",
       "    <tr>\n",
       "      <th>улица Брусилова</th>\n",
       "      <th>3-й микрорайон Щербинки</th>\n",
       "    </tr>\n",
       "    <tr>\n",
       "      <th>улица Васильцовский Стан</th>\n",
       "      <th>Рязанский район</th>\n",
       "    </tr>\n",
       "    <tr>\n",
       "      <th>улица Высоцкого</th>\n",
       "      <th>Таганский район</th>\n",
       "    </tr>\n",
       "    <tr>\n",
       "      <th>улица Гамалеи</th>\n",
       "      <th>район Щукино</th>\n",
       "    </tr>\n",
       "    <tr>\n",
       "      <th>улица Генерала Ермолова</th>\n",
       "      <th>район Дорогомилово</th>\n",
       "    </tr>\n",
       "    <tr>\n",
       "      <th>улица Гончарова</th>\n",
       "      <th>Бутырский район</th>\n",
       "    </tr>\n",
       "    <tr>\n",
       "      <th>улица Девятая Рота</th>\n",
       "      <th>район Преображенское</th>\n",
       "    </tr>\n",
       "    <tr>\n",
       "      <th>улица Демьяна Бедного</th>\n",
       "      <th>район Хорошёво-Мнёвники</th>\n",
       "    </tr>\n",
       "    <tr>\n",
       "      <th>улица Достоевского</th>\n",
       "      <th>Тверской район</th>\n",
       "    </tr>\n",
       "    <tr>\n",
       "      <th>улица Дубки</th>\n",
       "      <th>Тимирязевский район</th>\n",
       "    </tr>\n",
       "    <tr>\n",
       "      <th>улица Екатерины Будановой</th>\n",
       "      <th>район Кунцево</th>\n",
       "    </tr>\n",
       "    <tr>\n",
       "      <th>улица Жебрунова</th>\n",
       "      <th>район Сокольники</th>\n",
       "    </tr>\n",
       "    <tr>\n",
       "      <th>улица Жуковского</th>\n",
       "      <th>Басманный район</th>\n",
       "    </tr>\n",
       "    <tr>\n",
       "      <th>улица Зенитчиков</th>\n",
       "      <th>район Митино</th>\n",
       "    </tr>\n",
       "    <tr>\n",
       "      <th>улица Знаменские Садки</th>\n",
       "      <th>2-й микрорайон</th>\n",
       "    </tr>\n",
       "    <tr>\n",
       "      <th>улица Инессы Арманд</th>\n",
       "      <th>район Ясенево</th>\n",
       "    </tr>\n",
       "    <tr>\n",
       "      <th>улица Капотня</th>\n",
       "      <th>район Капотня</th>\n",
       "    </tr>\n",
       "    <tr>\n",
       "      <th>улица Клочкова</th>\n",
       "      <th>район Фили-Давыдково</th>\n",
       "    </tr>\n",
       "    <tr>\n",
       "      <th rowspan=\"2\" valign=\"top\">улица Коновалова</th>\n",
       "      <th>6-й квартал Чухлинки</th>\n",
       "    </tr>\n",
       "    <tr>\n",
       "      <th>Рязанский район</th>\n",
       "    </tr>\n",
       "    <tr>\n",
       "      <th>улица Константинова</th>\n",
       "      <th>Алексеевский район</th>\n",
       "    </tr>\n",
       "    <tr>\n",
       "      <th>улица Кошкина</th>\n",
       "      <th>район Москворечье-Сабурово</th>\n",
       "    </tr>\n",
       "    <tr>\n",
       "      <th>улица Красная Сосна</th>\n",
       "      <th>Ярославский район</th>\n",
       "    </tr>\n",
       "    <tr>\n",
       "      <th>улица Красных Зорь</th>\n",
       "      <th>Можайский район</th>\n",
       "    </tr>\n",
       "    <tr>\n",
       "      <th>улица Крутицкий Вал</th>\n",
       "      <th>Южнопортовый район</th>\n",
       "    </tr>\n",
       "    <tr>\n",
       "      <th>улица Кубинка</th>\n",
       "      <th>Можайский район</th>\n",
       "    </tr>\n",
       "    <tr>\n",
       "      <th>улица Кутузова</th>\n",
       "      <th>Можайский район</th>\n",
       "    </tr>\n",
       "    <tr>\n",
       "      <th>улица Кухмистерова</th>\n",
       "      <th>район Печатники</th>\n",
       "    </tr>\n",
       "    <tr>\n",
       "      <th>улица Лапина</th>\n",
       "      <th>4-й микрорайон</th>\n",
       "    </tr>\n",
       "    <tr>\n",
       "      <th>улица Лестева</th>\n",
       "      <th>Даниловский район</th>\n",
       "    </tr>\n",
       "    <tr>\n",
       "      <th>улица Лефортовский Вал</th>\n",
       "      <th>1-й микрорайон</th>\n",
       "    </tr>\n",
       "    <tr>\n",
       "      <th>улица Линии Октябрьской Железной Дороги</th>\n",
       "      <th>Тимирязевский район</th>\n",
       "    </tr>\n",
       "    <tr>\n",
       "      <th rowspan=\"2\" valign=\"top\">улица Липчанского</th>\n",
       "      <th>10-й квартал</th>\n",
       "    </tr>\n",
       "    <tr>\n",
       "      <th>12-й квартал</th>\n",
       "    </tr>\n",
       "    <tr>\n",
       "      <th>улица Максимова</th>\n",
       "      <th>район Щукино</th>\n",
       "    </tr>\n",
       "    <tr>\n",
       "      <th>улица Малая Ордынка</th>\n",
       "      <th>район Замоскворечье</th>\n",
       "    </tr>\n",
       "    <tr>\n",
       "      <th>улица Маршала Мерецкова</th>\n",
       "      <th>район Щукино</th>\n",
       "    </tr>\n",
       "    <tr>\n",
       "      <th>улица Маршала Новикова</th>\n",
       "      <th>район Щукино</th>\n",
       "    </tr>\n",
       "    <tr>\n",
       "      <th>улица Медведева</th>\n",
       "      <th>6-й, 7-й, 8-й кварталы</th>\n",
       "    </tr>\n",
       "    <tr>\n",
       "      <th>улица Можайский Вал</th>\n",
       "      <th>район Дорогомилово</th>\n",
       "    </tr>\n",
       "    <tr>\n",
       "      <th>улица Недорубова</th>\n",
       "      <th>5-й квартал</th>\n",
       "    </tr>\n",
       "    <tr>\n",
       "      <th>улица Немчинова</th>\n",
       "      <th>Тимирязевский район</th>\n",
       "    </tr>\n",
       "    <tr>\n",
       "      <th>улица Николаева</th>\n",
       "      <th>Пресненский район</th>\n",
       "    </tr>\n",
       "    <tr>\n",
       "      <th>улица Новая Дорога</th>\n",
       "      <th>1362-й квартал</th>\n",
       "    </tr>\n",
       "    <tr>\n",
       "      <th>улица Павла Андреева</th>\n",
       "      <th>Даниловский район</th>\n",
       "    </tr>\n",
       "    <tr>\n",
       "      <th>улица Паперника</th>\n",
       "      <th>15-й квартал Чухлинки</th>\n",
       "    </tr>\n",
       "    <tr>\n",
       "      <th>улица Пивченкова</th>\n",
       "      <th>район Фили-Давыдково</th>\n",
       "    </tr>\n",
       "    <tr>\n",
       "      <th>улица Подвойского</th>\n",
       "      <th>Пресненский район</th>\n",
       "    </tr>\n",
       "    <tr>\n",
       "      <th>улица Полины Осипенко</th>\n",
       "      <th>Хорошёвский район</th>\n",
       "    </tr>\n",
       "    <tr>\n",
       "      <th>улица Пржевальского</th>\n",
       "      <th>район Очаково-Матвеевское</th>\n",
       "    </tr>\n",
       "    <tr>\n",
       "      <th>улица Раевского</th>\n",
       "      <th>район Дорогомилово</th>\n",
       "    </tr>\n",
       "    <tr>\n",
       "      <th>улица Расплетина</th>\n",
       "      <th>район Щукино</th>\n",
       "    </tr>\n",
       "    <tr>\n",
       "      <th>улица Ращупкина</th>\n",
       "      <th>81-й квартал Кунцева</th>\n",
       "    </tr>\n",
       "    <tr>\n",
       "      <th>улица Ремизова</th>\n",
       "      <th>район Котловка</th>\n",
       "    </tr>\n",
       "    <tr>\n",
       "      <th>улица Рогова</th>\n",
       "      <th>район Щукино</th>\n",
       "    </tr>\n",
       "    <tr>\n",
       "      <th>улица Рогожский Посёлок</th>\n",
       "      <th>77-й квартал Хохловки</th>\n",
       "    </tr>\n",
       "    <tr>\n",
       "      <th>улица Рокотова</th>\n",
       "      <th>район Ясенево</th>\n",
       "    </tr>\n",
       "    <tr>\n",
       "      <th>улица Рословка</th>\n",
       "      <th>район Митино</th>\n",
       "    </tr>\n",
       "    <tr>\n",
       "      <th>улица Ротерта</th>\n",
       "      <th>Ярославский район</th>\n",
       "    </tr>\n",
       "    <tr>\n",
       "      <th>улица Рудневой</th>\n",
       "      <th>Бабушкинский район</th>\n",
       "    </tr>\n",
       "    <tr>\n",
       "      <th>улица Савельева</th>\n",
       "      <th>480-й квартал</th>\n",
       "    </tr>\n",
       "    <tr>\n",
       "      <th>улица Сайкина</th>\n",
       "      <th>Даниловский район</th>\n",
       "    </tr>\n",
       "    <tr>\n",
       "      <th>улица Саляма Адиля</th>\n",
       "      <th>район Хорошёво-Мнёвники</th>\n",
       "    </tr>\n",
       "    <tr>\n",
       "      <th>улица Саморы Машела</th>\n",
       "      <th>Обручевский район</th>\n",
       "    </tr>\n",
       "    <tr>\n",
       "      <th>улица Советской Армии</th>\n",
       "      <th>район Марьина Роща</th>\n",
       "    </tr>\n",
       "    <tr>\n",
       "      <th>улица Старые Кузьминки</th>\n",
       "      <th>район Кузьминки</th>\n",
       "    </tr>\n",
       "    <tr>\n",
       "      <th>улица Степана Шутова</th>\n",
       "      <th>район Люблино</th>\n",
       "    </tr>\n",
       "    <tr>\n",
       "      <th>улица Уткина</th>\n",
       "      <th>район Соколиная Гора</th>\n",
       "    </tr>\n",
       "    <tr>\n",
       "      <th>улица Фадеева</th>\n",
       "      <th>Тверской район</th>\n",
       "    </tr>\n",
       "    <tr>\n",
       "      <th>улица Фонвизина</th>\n",
       "      <th>Бутырский район</th>\n",
       "    </tr>\n",
       "    <tr>\n",
       "      <th>улица Шеногина</th>\n",
       "      <th>район Хорошёво-Мнёвники</th>\n",
       "    </tr>\n",
       "    <tr>\n",
       "      <th>улица Шумилова</th>\n",
       "      <th>район Кузьминки</th>\n",
       "    </tr>\n",
       "    <tr>\n",
       "      <th>улица Шумкина</th>\n",
       "      <th>район Сокольники</th>\n",
       "    </tr>\n",
       "    <tr>\n",
       "      <th>улица Щорса</th>\n",
       "      <th>5-й микрорайон</th>\n",
       "    </tr>\n",
       "    <tr>\n",
       "      <th>шоссе Фрезер</th>\n",
       "      <th>Нижегородский район</th>\n",
       "    </tr>\n",
       "  </tbody>\n",
       "</table>\n",
       "</div>"
      ],
      "text/plain": [
       "Empty DataFrame\n",
       "Columns: []\n",
       "Index: [(1-й Балтийский переулок, район Аэропорт), (1-й Басманный переулок, Красносельский район), (1-й Ботанический проезд, район Свиблово), (1-й Вешняковский проезд, 14-й квартал Чухлинки), (1-й Голутвинский переулок, район Якиманка), (1-й Зачатьевский переулок, 139-й квартал), (1-й Кирпичный переулок, район Соколиная Гора), (1-й Кожевнический переулок, Даниловский район), (1-й Кожуховский проезд, Даниловский район), (1-й Коптельский переулок, Красносельский район), (1-й Котельнический переулок, Таганский район), (1-й Краснокурсантский проезд, район Лефортово), (1-й Курьяновский проезд, микрорайон Курьяново), (1-й Люсиновский переулок, район Замоскворечье), (1-й Магистральный тупик, Хорошёвский район), (1-й Монетчиковский переулок, район Замоскворечье), (1-й Николощеповский переулок, 577-й квартал), (1-й Новокузнецкий переулок, район Замоскворечье), (1-й Обыденский переулок, 143-й квартал), (1-й Рижский переулок, Алексеевский район), (1-й Саратовский проезд, район Текстильщики), (1-й Сельскохозяйственный проезд, район Ростокино), (1-й Сетуньский проезд, микрорайон Сетунь), (1-й Спасоналивковский переулок, район Якиманка), (1-й Тушинский проезд, район Покровское-Стрешнево), (1-й проезд Марьиной Рощи, район Марьина Роща), (1-я Аэропортовская улица, район Аэропорт), (1-я Боевская улица, район Сокольники), (1-я Гражданская улица, район Богородское), (1-я Карачаровская улица, квартал Карачарова 86А), (1-я Миусская улица, Тверской район), (1-я Напрудная улица, Лосиноостровский район), (1-я Пугачёвская улица, район Преображенское), (1-я Чоботовская аллея, район Ново-Переделкино), (1-я линия Хорошёвского Серебряного Бора, район Хорошёво-Мнёвники), (11-я Парковая улица, район Северное Измайлово), (12-й проезд Марьиной Рощи, район Марьина Роща), (14-я Парковая улица, район Восточное Измайлово), (17-й проезд Марьиной Рощи, район Марьина Роща), (2-й Балтийский переулок, район Аэропорт), (2-й Боткинский проезд, район Беговой), (2-й Верхний Михайловский проезд, Донской район), (2-й Войковский проезд, Войковский район), (2-й Вышеславцев переулок, район Марьина Роща), (2-й Иртышский проезд, район Гольяново), (2-й Кабельный проезд, микрорайон Дангауэровка), (2-й Кадашёвский переулок, район Якиманка), (2-й Кожевнический переулок, Даниловский район), (2-й Кожуховский проезд, Даниловский район), (2-й Колобовский переулок, Тверской район), (2-й Красносельский переулок, Красносельский район), (2-й Курьяновский проезд, микрорайон Курьяново), (2-й Магистральный тупик, Хорошёвский район), (2-й Неопалимовский переулок, 550-й квартал), (2-й Новокузнецкий переулок, район Замоскворечье), (2-й Новоподмосковный переулок, Войковский район), (2-й Обыденский переулок, 141-й квартал), (2-й Полевой переулок, район Сокольники), (2-й Рощинский проезд, Донской район), (2-й Сельскохозяйственный проезд, район Ростокино), (2-й Сетуньский проезд, микрорайон Сетунь), (2-й Стрелецкий проезд, район Марьина Роща), (2-й Хуторской переулок, Савёловский район), (2-й Щемиловский переулок, Тверской район), (2-я Гражданская улица, район Богородское), (2-я Дубровская улица, Таганский район), (2-я Квесисская улица, Савёловский район), (2-я Напрудная улица, Лосиноостровский район), (2-я Прядильная улица, район Измайлово), (2-я Сокольническая улица, район Сокольники), (2-я Филёвская улица, район Филёвский Парк), (2-я Ямская улица, район Марьина Роща), (2-я улица Бухвостова, район Преображенское), (2-я улица Марьиной Рощи, район Марьина Роща), (2-я улица Энтузиастов, район Перово), (3-й Дорожный проезд, район Чертаново Южное), (3-й Кадашёвский переулок, район Якиманка), (3-й Кожуховский проезд, Южнопортовый район), (3-й Лихачёвский переулок, Головинский район), (3-й Павловский переулок, Даниловский район), (3-й Стрелецкий проезд, район Марьина Роща), (3-й Угрешский проезд, район Печатники), (3-й проезд Подбельского, район Богородское), (3-я Железногорская улица, деревня Новокурьяново), (3-я Новоостанкинская улица, Останкинский район), (3-я Песчаная улица, Хорошёвский район), (3-я Подрезковская улица, посёлок Новоподрезково), (3-я Северная линия, район Северный), (3-я Черепковская улица, район Кунцево), (4-й Вешняковский проезд, Рязанский район), (4-й Вятский переулок, Савёловский район), (4-й Кожевнический переулок, Даниловский район), (4-й Рощинский проезд, Даниловский район), (4-я Кабельная улица, район Лефортово), (5-й Котельнический переулок, Таганский район), (5-й Монетчиковский переулок, район Замоскворечье), (5-й Рощинский проезд, Даниловский район), (5-й проезд Марьиной Рощи, район Марьина Роща), (5-й проезд Подбельского, район Богородское), (6-я Кожуховская улица, Южнопортовый район), ...]"
      ]
     },
     "execution_count": 55,
     "metadata": {},
     "output_type": "execute_result"
    }
   ],
   "source": [
    "\n",
    "top_one_pivot = top_one_streets.pivot_table(index=['street', 'district'], \n",
    "                        values='district', aggfunc='count')\n",
    "top_one_pivot"
   ]
  },
  {
   "cell_type": "code",
   "execution_count": 56,
   "id": "a75d1d5a",
   "metadata": {},
   "outputs": [
    {
     "data": {
      "text/html": [
       "<div>\n",
       "<style scoped>\n",
       "    .dataframe tbody tr th:only-of-type {\n",
       "        vertical-align: middle;\n",
       "    }\n",
       "\n",
       "    .dataframe tbody tr th {\n",
       "        vertical-align: top;\n",
       "    }\n",
       "\n",
       "    .dataframe thead th {\n",
       "        text-align: right;\n",
       "    }\n",
       "</style>\n",
       "<table border=\"1\" class=\"dataframe\">\n",
       "  <thead>\n",
       "    <tr style=\"text-align: right;\">\n",
       "      <th></th>\n",
       "      <th>district</th>\n",
       "    </tr>\n",
       "    <tr>\n",
       "      <th>street</th>\n",
       "      <th></th>\n",
       "    </tr>\n",
       "  </thead>\n",
       "  <tbody>\n",
       "    <tr>\n",
       "      <th>Мартеновская улица</th>\n",
       "      <td>2</td>\n",
       "    </tr>\n",
       "    <tr>\n",
       "      <th>Холмогорская улица</th>\n",
       "      <td>2</td>\n",
       "    </tr>\n",
       "    <tr>\n",
       "      <th>улица Коновалова</th>\n",
       "      <td>2</td>\n",
       "    </tr>\n",
       "    <tr>\n",
       "      <th>улица Липчанского</th>\n",
       "      <td>2</td>\n",
       "    </tr>\n",
       "    <tr>\n",
       "      <th>Селигерская улица</th>\n",
       "      <td>2</td>\n",
       "    </tr>\n",
       "    <tr>\n",
       "      <th>Средний Овчинниковский переулок</th>\n",
       "      <td>1</td>\n",
       "    </tr>\n",
       "    <tr>\n",
       "      <th>Средний Кондратьевский переулок</th>\n",
       "      <td>1</td>\n",
       "    </tr>\n",
       "    <tr>\n",
       "      <th>Средняя Калитниковская улица</th>\n",
       "      <td>1</td>\n",
       "    </tr>\n",
       "    <tr>\n",
       "      <th>Спортивный проезд</th>\n",
       "      <td>1</td>\n",
       "    </tr>\n",
       "    <tr>\n",
       "      <th>Соймоновский проезд</th>\n",
       "      <td>1</td>\n",
       "    </tr>\n",
       "    <tr>\n",
       "      <th>Сретенский тупик</th>\n",
       "      <td>1</td>\n",
       "    </tr>\n",
       "    <tr>\n",
       "      <th>Спартаковский переулок</th>\n",
       "      <td>1</td>\n",
       "    </tr>\n",
       "    <tr>\n",
       "      <th>Союзный проспект</th>\n",
       "      <td>1</td>\n",
       "    </tr>\n",
       "    <tr>\n",
       "      <th>Стандартная улица</th>\n",
       "      <td>1</td>\n",
       "    </tr>\n",
       "    <tr>\n",
       "      <th>Софийская набережная</th>\n",
       "      <td>1</td>\n",
       "    </tr>\n",
       "    <tr>\n",
       "      <th>Сормовский проезд</th>\n",
       "      <td>1</td>\n",
       "    </tr>\n",
       "    <tr>\n",
       "      <th>Солнечногорский проезд</th>\n",
       "      <td>1</td>\n",
       "    </tr>\n",
       "    <tr>\n",
       "      <th>Солнечногорская улица</th>\n",
       "      <td>1</td>\n",
       "    </tr>\n",
       "    <tr>\n",
       "      <th>Скорняжный переулок</th>\n",
       "      <td>1</td>\n",
       "    </tr>\n",
       "    <tr>\n",
       "      <th>Соболевский проезд</th>\n",
       "      <td>1</td>\n",
       "    </tr>\n",
       "    <tr>\n",
       "      <th>Старомарьинское шоссе</th>\n",
       "      <td>1</td>\n",
       "    </tr>\n",
       "    <tr>\n",
       "      <th>Скатертный переулок</th>\n",
       "      <td>1</td>\n",
       "    </tr>\n",
       "    <tr>\n",
       "      <th>Синельниковская улица</th>\n",
       "      <td>1</td>\n",
       "    </tr>\n",
       "    <tr>\n",
       "      <th>Симферопольский проезд</th>\n",
       "      <td>1</td>\n",
       "    </tr>\n",
       "    <tr>\n",
       "      <th>Сивашская улица</th>\n",
       "      <td>1</td>\n",
       "    </tr>\n",
       "    <tr>\n",
       "      <th>Сибирский проезд</th>\n",
       "      <td>1</td>\n",
       "    </tr>\n",
       "    <tr>\n",
       "      <th>Сеченовский переулок</th>\n",
       "      <td>1</td>\n",
       "    </tr>\n",
       "    <tr>\n",
       "      <th>Северодвинская улица</th>\n",
       "      <td>1</td>\n",
       "    </tr>\n",
       "    <tr>\n",
       "      <th>Сверчков переулок</th>\n",
       "      <td>1</td>\n",
       "    </tr>\n",
       "    <tr>\n",
       "      <th>Садовнический проезд</th>\n",
       "      <td>1</td>\n",
       "    </tr>\n",
       "    <tr>\n",
       "      <th>Садовая-Сухаревская улица</th>\n",
       "      <td>1</td>\n",
       "    </tr>\n",
       "    <tr>\n",
       "      <th>Русаковская набережная</th>\n",
       "      <td>1</td>\n",
       "    </tr>\n",
       "    <tr>\n",
       "      <th>Рубцов переулок</th>\n",
       "      <td>1</td>\n",
       "    </tr>\n",
       "    <tr>\n",
       "      <th>Староалексеевская улица</th>\n",
       "      <td>1</td>\n",
       "    </tr>\n",
       "    <tr>\n",
       "      <th>Старомонетный переулок</th>\n",
       "      <td>1</td>\n",
       "    </tr>\n",
       "    <tr>\n",
       "      <th>Родниковая улица</th>\n",
       "      <td>1</td>\n",
       "    </tr>\n",
       "    <tr>\n",
       "      <th>Староникольская улица</th>\n",
       "      <td>1</td>\n",
       "    </tr>\n",
       "    <tr>\n",
       "      <th>Филипповский переулок</th>\n",
       "      <td>1</td>\n",
       "    </tr>\n",
       "    <tr>\n",
       "      <th>Феодосийская улица</th>\n",
       "      <td>1</td>\n",
       "    </tr>\n",
       "    <tr>\n",
       "      <th>Федоскинская улица</th>\n",
       "      <td>1</td>\n",
       "    </tr>\n",
       "    <tr>\n",
       "      <th>Фармацевтический проезд</th>\n",
       "      <td>1</td>\n",
       "    </tr>\n",
       "    <tr>\n",
       "      <th>Учинская улица</th>\n",
       "      <td>1</td>\n",
       "    </tr>\n",
       "    <tr>\n",
       "      <th>Утренняя улица</th>\n",
       "      <td>1</td>\n",
       "    </tr>\n",
       "    <tr>\n",
       "      <th>Успенский переулок</th>\n",
       "      <td>1</td>\n",
       "    </tr>\n",
       "    <tr>\n",
       "      <th>Уржумская улица</th>\n",
       "      <td>1</td>\n",
       "    </tr>\n",
       "    <tr>\n",
       "      <th>Уваровский переулок</th>\n",
       "      <td>1</td>\n",
       "    </tr>\n",
       "    <tr>\n",
       "      <th>Тургеневская площадь</th>\n",
       "      <td>1</td>\n",
       "    </tr>\n",
       "    <tr>\n",
       "      <th>Троилинский переулок</th>\n",
       "      <td>1</td>\n",
       "    </tr>\n",
       "    <tr>\n",
       "      <th>Триумфальная площадь</th>\n",
       "      <td>1</td>\n",
       "    </tr>\n",
       "    <tr>\n",
       "      <th>Тихвинский переулок</th>\n",
       "      <td>1</td>\n",
       "    </tr>\n",
       "    <tr>\n",
       "      <th>Тихая улица</th>\n",
       "      <td>1</td>\n",
       "    </tr>\n",
       "    <tr>\n",
       "      <th>Тимирязевский проезд</th>\n",
       "      <td>1</td>\n",
       "    </tr>\n",
       "    <tr>\n",
       "      <th>Тетеринский переулок</th>\n",
       "      <td>1</td>\n",
       "    </tr>\n",
       "    <tr>\n",
       "      <th>Тестовская улица</th>\n",
       "      <td>1</td>\n",
       "    </tr>\n",
       "    <tr>\n",
       "      <th>Тессинский переулок</th>\n",
       "      <td>1</td>\n",
       "    </tr>\n",
       "    <tr>\n",
       "      <th>Тенистый проезд</th>\n",
       "      <td>1</td>\n",
       "    </tr>\n",
       "    <tr>\n",
       "      <th>Театральная аллея</th>\n",
       "      <td>1</td>\n",
       "    </tr>\n",
       "    <tr>\n",
       "      <th>Таёжная улица</th>\n",
       "      <td>1</td>\n",
       "    </tr>\n",
       "    <tr>\n",
       "      <th>Тарханская улица</th>\n",
       "      <td>1</td>\n",
       "    </tr>\n",
       "    <tr>\n",
       "      <th>Тарусская улица</th>\n",
       "      <td>1</td>\n",
       "    </tr>\n",
       "    <tr>\n",
       "      <th>Таможенный проезд</th>\n",
       "      <td>1</td>\n",
       "    </tr>\n",
       "    <tr>\n",
       "      <th>Таганрогская улица</th>\n",
       "      <td>1</td>\n",
       "    </tr>\n",
       "    <tr>\n",
       "      <th>Стрельбищенский переулок</th>\n",
       "      <td>1</td>\n",
       "    </tr>\n",
       "    <tr>\n",
       "      <th>Стрелецкая улица</th>\n",
       "      <td>1</td>\n",
       "    </tr>\n",
       "    <tr>\n",
       "      <th>Столовый переулок</th>\n",
       "      <td>1</td>\n",
       "    </tr>\n",
       "    <tr>\n",
       "      <th>Старослободская улица</th>\n",
       "      <td>1</td>\n",
       "    </tr>\n",
       "    <tr>\n",
       "      <th>Ростокинская улица</th>\n",
       "      <td>1</td>\n",
       "    </tr>\n",
       "    <tr>\n",
       "      <th>Пыжёвский переулок</th>\n",
       "      <td>1</td>\n",
       "    </tr>\n",
       "    <tr>\n",
       "      <th>Пяловская улица</th>\n",
       "      <td>1</td>\n",
       "    </tr>\n",
       "    <tr>\n",
       "      <th>Новохорошёвский проезд</th>\n",
       "      <td>1</td>\n",
       "    </tr>\n",
       "    <tr>\n",
       "      <th>Новорублёвская улица</th>\n",
       "      <td>1</td>\n",
       "    </tr>\n",
       "    <tr>\n",
       "      <th>Новорижское шоссе</th>\n",
       "      <td>1</td>\n",
       "    </tr>\n",
       "    <tr>\n",
       "      <th>Новопресненский переулок</th>\n",
       "      <td>1</td>\n",
       "    </tr>\n",
       "    <tr>\n",
       "      <th>Новопоселковая улица</th>\n",
       "      <td>1</td>\n",
       "    </tr>\n",
       "    <tr>\n",
       "      <th>Новоостаповская улица</th>\n",
       "      <td>1</td>\n",
       "    </tr>\n",
       "    <tr>\n",
       "      <th>Новолучанская улица</th>\n",
       "      <td>1</td>\n",
       "    </tr>\n",
       "    <tr>\n",
       "      <th>Нововладыкинский проезд</th>\n",
       "      <td>1</td>\n",
       "    </tr>\n",
       "    <tr>\n",
       "      <th>Новобутовский проезд</th>\n",
       "      <td>1</td>\n",
       "    </tr>\n",
       "    <tr>\n",
       "      <th>Никитский переулок</th>\n",
       "      <td>1</td>\n",
       "    </tr>\n",
       "    <tr>\n",
       "      <th>Нижний Кисельный переулок</th>\n",
       "      <td>1</td>\n",
       "    </tr>\n",
       "    <tr>\n",
       "      <th>Нижний Журавлёв переулок</th>\n",
       "      <td>1</td>\n",
       "    </tr>\n",
       "    <tr>\n",
       "      <th>Несвижский переулок</th>\n",
       "      <td>1</td>\n",
       "    </tr>\n",
       "    <tr>\n",
       "      <th>Неманский проезд</th>\n",
       "      <td>1</td>\n",
       "    </tr>\n",
       "    <tr>\n",
       "      <th>Нелидовская улица</th>\n",
       "      <td>1</td>\n",
       "    </tr>\n",
       "    <tr>\n",
       "      <th>Научный проезд</th>\n",
       "      <td>1</td>\n",
       "    </tr>\n",
       "    <tr>\n",
       "      <th>Народный проспект</th>\n",
       "      <td>1</td>\n",
       "    </tr>\n",
       "    <tr>\n",
       "      <th>Наро-Фоминская улица</th>\n",
       "      <td>1</td>\n",
       "    </tr>\n",
       "    <tr>\n",
       "      <th>Нарвская улица</th>\n",
       "      <td>1</td>\n",
       "    </tr>\n",
       "    <tr>\n",
       "      <th>Напрудный переулок</th>\n",
       "      <td>1</td>\n",
       "    </tr>\n",
       "    <tr>\n",
       "      <th>Нагорный бульвар</th>\n",
       "      <td>1</td>\n",
       "    </tr>\n",
       "    <tr>\n",
       "      <th>Нагатинский бульвар</th>\n",
       "      <td>1</td>\n",
       "    </tr>\n",
       "    <tr>\n",
       "      <th>Мрузовский переулок</th>\n",
       "      <td>1</td>\n",
       "    </tr>\n",
       "    <tr>\n",
       "      <th>Молодёжная улица</th>\n",
       "      <td>1</td>\n",
       "    </tr>\n",
       "    <tr>\n",
       "      <th>Мишина улица</th>\n",
       "      <td>1</td>\n",
       "    </tr>\n",
       "    <tr>\n",
       "      <th>Миусская площадь</th>\n",
       "      <td>1</td>\n",
       "    </tr>\n",
       "    <tr>\n",
       "      <th>Мирской переулок</th>\n",
       "      <td>1</td>\n",
       "    </tr>\n",
       "    <tr>\n",
       "      <th>Минаевский переулок</th>\n",
       "      <td>1</td>\n",
       "    </tr>\n",
       "    <tr>\n",
       "      <th>Миллионная улица</th>\n",
       "      <td>1</td>\n",
       "    </tr>\n",
       "    <tr>\n",
       "      <th>Мерзляковский переулок</th>\n",
       "      <td>1</td>\n",
       "    </tr>\n",
       "    <tr>\n",
       "      <th>Новосибирская улица</th>\n",
       "      <td>1</td>\n",
       "    </tr>\n",
       "    <tr>\n",
       "      <th>Норильская улица</th>\n",
       "      <td>1</td>\n",
       "    </tr>\n",
       "    <tr>\n",
       "      <th>Фруктовая улица</th>\n",
       "      <td>1</td>\n",
       "    </tr>\n",
       "    <tr>\n",
       "      <th>Олонецкий проезд</th>\n",
       "      <td>1</td>\n",
       "    </tr>\n",
       "    <tr>\n",
       "      <th>Пулковская улица</th>\n",
       "      <td>1</td>\n",
       "    </tr>\n",
       "    <tr>\n",
       "      <th>Пуговишников переулок</th>\n",
       "      <td>1</td>\n",
       "    </tr>\n",
       "    <tr>\n",
       "      <th>Проточный переулок</th>\n",
       "      <td>1</td>\n",
       "    </tr>\n",
       "    <tr>\n",
       "      <th>Производственная улица</th>\n",
       "      <td>1</td>\n",
       "    </tr>\n",
       "    <tr>\n",
       "      <th>Причальный проезд</th>\n",
       "      <td>1</td>\n",
       "    </tr>\n",
       "    <tr>\n",
       "      <th>Прибрежный проезд</th>\n",
       "      <td>1</td>\n",
       "    </tr>\n",
       "    <tr>\n",
       "      <th>Посланников переулок</th>\n",
       "      <td>1</td>\n",
       "    </tr>\n",
       "    <tr>\n",
       "      <th>Поречная улица</th>\n",
       "      <td>1</td>\n",
       "    </tr>\n",
       "    <tr>\n",
       "      <th>Попов проезд</th>\n",
       "      <td>1</td>\n",
       "    </tr>\n",
       "    <tr>\n",
       "      <th>Полтавская улица</th>\n",
       "      <td>1</td>\n",
       "    </tr>\n",
       "    <tr>\n",
       "      <th>Полоцкая улица</th>\n",
       "      <td>1</td>\n",
       "    </tr>\n",
       "    <tr>\n",
       "      <th>Пожарский переулок</th>\n",
       "      <td>1</td>\n",
       "    </tr>\n",
       "    <tr>\n",
       "      <th>Подсосенский переулок</th>\n",
       "      <td>1</td>\n",
       "    </tr>\n",
       "    <tr>\n",
       "      <th>Подольская улица</th>\n",
       "      <td>1</td>\n",
       "    </tr>\n",
       "    <tr>\n",
       "      <th>Плетешковский переулок</th>\n",
       "      <td>1</td>\n",
       "    </tr>\n",
       "    <tr>\n",
       "      <th>Платовская улица</th>\n",
       "      <td>1</td>\n",
       "    </tr>\n",
       "    <tr>\n",
       "      <th>Печорская улица</th>\n",
       "      <td>1</td>\n",
       "    </tr>\n",
       "    <tr>\n",
       "      <th>Петровско-Разумовская аллея</th>\n",
       "      <td>1</td>\n",
       "    </tr>\n",
       "    <tr>\n",
       "      <th>Петроверигский переулок</th>\n",
       "      <td>1</td>\n",
       "    </tr>\n",
       "    <tr>\n",
       "      <th>Песчаный переулок</th>\n",
       "      <td>1</td>\n",
       "    </tr>\n",
       "    <tr>\n",
       "      <th>Песчаная улица</th>\n",
       "      <td>1</td>\n",
       "    </tr>\n",
       "    <tr>\n",
       "      <th>Пестовский переулок</th>\n",
       "      <td>1</td>\n",
       "    </tr>\n",
       "    <tr>\n",
       "      <th>Перовский проезд</th>\n",
       "      <td>1</td>\n",
       "    </tr>\n",
       "    <tr>\n",
       "      <th>Пенягинская улица</th>\n",
       "      <td>1</td>\n",
       "    </tr>\n",
       "    <tr>\n",
       "      <th>Педагогическая улица</th>\n",
       "      <td>1</td>\n",
       "    </tr>\n",
       "    <tr>\n",
       "      <th>Парусный проезд</th>\n",
       "      <td>1</td>\n",
       "    </tr>\n",
       "    <tr>\n",
       "      <th>Отрадный проезд</th>\n",
       "      <td>1</td>\n",
       "    </tr>\n",
       "    <tr>\n",
       "      <th>Орехово-Зуевский проезд</th>\n",
       "      <td>1</td>\n",
       "    </tr>\n",
       "    <tr>\n",
       "      <th>Оренбургская улица</th>\n",
       "      <td>1</td>\n",
       "    </tr>\n",
       "    <tr>\n",
       "      <th>Фролов переулок</th>\n",
       "      <td>1</td>\n",
       "    </tr>\n",
       "    <tr>\n",
       "      <th>Хвалынский бульвар</th>\n",
       "      <td>1</td>\n",
       "    </tr>\n",
       "    <tr>\n",
       "      <th>Хавская улица</th>\n",
       "      <td>1</td>\n",
       "    </tr>\n",
       "    <tr>\n",
       "      <th>улица Николаева</th>\n",
       "      <td>1</td>\n",
       "    </tr>\n",
       "    <tr>\n",
       "      <th>улица Недорубова</th>\n",
       "      <td>1</td>\n",
       "    </tr>\n",
       "    <tr>\n",
       "      <th>улица Можайский Вал</th>\n",
       "      <td>1</td>\n",
       "    </tr>\n",
       "    <tr>\n",
       "      <th>улица Медведева</th>\n",
       "      <td>1</td>\n",
       "    </tr>\n",
       "    <tr>\n",
       "      <th>улица Маршала Новикова</th>\n",
       "      <td>1</td>\n",
       "    </tr>\n",
       "    <tr>\n",
       "      <th>улица Маршала Мерецкова</th>\n",
       "      <td>1</td>\n",
       "    </tr>\n",
       "    <tr>\n",
       "      <th>улица Малая Ордынка</th>\n",
       "      <td>1</td>\n",
       "    </tr>\n",
       "    <tr>\n",
       "      <th>улица Максимова</th>\n",
       "      <td>1</td>\n",
       "    </tr>\n",
       "    <tr>\n",
       "      <th>улица Линии Октябрьской Железной Дороги</th>\n",
       "      <td>1</td>\n",
       "    </tr>\n",
       "    <tr>\n",
       "      <th>улица Лефортовский Вал</th>\n",
       "      <td>1</td>\n",
       "    </tr>\n",
       "    <tr>\n",
       "      <th>улица Лестева</th>\n",
       "      <td>1</td>\n",
       "    </tr>\n",
       "    <tr>\n",
       "      <th>улица Лапина</th>\n",
       "      <td>1</td>\n",
       "    </tr>\n",
       "    <tr>\n",
       "      <th>улица Кухмистерова</th>\n",
       "      <td>1</td>\n",
       "    </tr>\n",
       "    <tr>\n",
       "      <th>улица Кутузова</th>\n",
       "      <td>1</td>\n",
       "    </tr>\n",
       "    <tr>\n",
       "      <th>улица Кубинка</th>\n",
       "      <td>1</td>\n",
       "    </tr>\n",
       "    <tr>\n",
       "      <th>улица Крутицкий Вал</th>\n",
       "      <td>1</td>\n",
       "    </tr>\n",
       "    <tr>\n",
       "      <th>улица Красных Зорь</th>\n",
       "      <td>1</td>\n",
       "    </tr>\n",
       "    <tr>\n",
       "      <th>улица Красная Сосна</th>\n",
       "      <td>1</td>\n",
       "    </tr>\n",
       "    <tr>\n",
       "      <th>улица Кошкина</th>\n",
       "      <td>1</td>\n",
       "    </tr>\n",
       "    <tr>\n",
       "      <th>улица Константинова</th>\n",
       "      <td>1</td>\n",
       "    </tr>\n",
       "    <tr>\n",
       "      <th>улица Клочкова</th>\n",
       "      <td>1</td>\n",
       "    </tr>\n",
       "    <tr>\n",
       "      <th>улица Капотня</th>\n",
       "      <td>1</td>\n",
       "    </tr>\n",
       "    <tr>\n",
       "      <th>улица Инессы Арманд</th>\n",
       "      <td>1</td>\n",
       "    </tr>\n",
       "    <tr>\n",
       "      <th>улица Знаменские Садки</th>\n",
       "      <td>1</td>\n",
       "    </tr>\n",
       "    <tr>\n",
       "      <th>улица Зенитчиков</th>\n",
       "      <td>1</td>\n",
       "    </tr>\n",
       "    <tr>\n",
       "      <th>улица Жуковского</th>\n",
       "      <td>1</td>\n",
       "    </tr>\n",
       "    <tr>\n",
       "      <th>улица Жебрунова</th>\n",
       "      <td>1</td>\n",
       "    </tr>\n",
       "    <tr>\n",
       "      <th>улица Екатерины Будановой</th>\n",
       "      <td>1</td>\n",
       "    </tr>\n",
       "    <tr>\n",
       "      <th>улица Дубки</th>\n",
       "      <td>1</td>\n",
       "    </tr>\n",
       "    <tr>\n",
       "      <th>улица Достоевского</th>\n",
       "      <td>1</td>\n",
       "    </tr>\n",
       "    <tr>\n",
       "      <th>улица Немчинова</th>\n",
       "      <td>1</td>\n",
       "    </tr>\n",
       "    <tr>\n",
       "      <th>улица Новая Дорога</th>\n",
       "      <td>1</td>\n",
       "    </tr>\n",
       "    <tr>\n",
       "      <th>Машкинское шоссе</th>\n",
       "      <td>1</td>\n",
       "    </tr>\n",
       "    <tr>\n",
       "      <th>улица Павла Андреева</th>\n",
       "      <td>1</td>\n",
       "    </tr>\n",
       "    <tr>\n",
       "      <th>улица Щорса</th>\n",
       "      <td>1</td>\n",
       "    </tr>\n",
       "    <tr>\n",
       "      <th>улица Шумкина</th>\n",
       "      <td>1</td>\n",
       "    </tr>\n",
       "    <tr>\n",
       "      <th>улица Шумилова</th>\n",
       "      <td>1</td>\n",
       "    </tr>\n",
       "    <tr>\n",
       "      <th>улица Шеногина</th>\n",
       "      <td>1</td>\n",
       "    </tr>\n",
       "    <tr>\n",
       "      <th>улица Фонвизина</th>\n",
       "      <td>1</td>\n",
       "    </tr>\n",
       "    <tr>\n",
       "      <th>улица Фадеева</th>\n",
       "      <td>1</td>\n",
       "    </tr>\n",
       "    <tr>\n",
       "      <th>улица Уткина</th>\n",
       "      <td>1</td>\n",
       "    </tr>\n",
       "    <tr>\n",
       "      <th>улица Степана Шутова</th>\n",
       "      <td>1</td>\n",
       "    </tr>\n",
       "    <tr>\n",
       "      <th>улица Старые Кузьминки</th>\n",
       "      <td>1</td>\n",
       "    </tr>\n",
       "    <tr>\n",
       "      <th>улица Советской Армии</th>\n",
       "      <td>1</td>\n",
       "    </tr>\n",
       "    <tr>\n",
       "      <th>улица Саморы Машела</th>\n",
       "      <td>1</td>\n",
       "    </tr>\n",
       "    <tr>\n",
       "      <th>улица Саляма Адиля</th>\n",
       "      <td>1</td>\n",
       "    </tr>\n",
       "    <tr>\n",
       "      <th>улица Сайкина</th>\n",
       "      <td>1</td>\n",
       "    </tr>\n",
       "    <tr>\n",
       "      <th>улица Савельева</th>\n",
       "      <td>1</td>\n",
       "    </tr>\n",
       "    <tr>\n",
       "      <th>улица Рудневой</th>\n",
       "      <td>1</td>\n",
       "    </tr>\n",
       "    <tr>\n",
       "      <th>улица Ротерта</th>\n",
       "      <td>1</td>\n",
       "    </tr>\n",
       "    <tr>\n",
       "      <th>улица Рословка</th>\n",
       "      <td>1</td>\n",
       "    </tr>\n",
       "    <tr>\n",
       "      <th>улица Рокотова</th>\n",
       "      <td>1</td>\n",
       "    </tr>\n",
       "    <tr>\n",
       "      <th>улица Рогожский Посёлок</th>\n",
       "      <td>1</td>\n",
       "    </tr>\n",
       "    <tr>\n",
       "      <th>улица Рогова</th>\n",
       "      <td>1</td>\n",
       "    </tr>\n",
       "    <tr>\n",
       "      <th>улица Ремизова</th>\n",
       "      <td>1</td>\n",
       "    </tr>\n",
       "    <tr>\n",
       "      <th>улица Ращупкина</th>\n",
       "      <td>1</td>\n",
       "    </tr>\n",
       "    <tr>\n",
       "      <th>улица Расплетина</th>\n",
       "      <td>1</td>\n",
       "    </tr>\n",
       "    <tr>\n",
       "      <th>улица Раевского</th>\n",
       "      <td>1</td>\n",
       "    </tr>\n",
       "    <tr>\n",
       "      <th>улица Пржевальского</th>\n",
       "      <td>1</td>\n",
       "    </tr>\n",
       "    <tr>\n",
       "      <th>улица Полины Осипенко</th>\n",
       "      <td>1</td>\n",
       "    </tr>\n",
       "    <tr>\n",
       "      <th>улица Подвойского</th>\n",
       "      <td>1</td>\n",
       "    </tr>\n",
       "    <tr>\n",
       "      <th>улица Пивченкова</th>\n",
       "      <td>1</td>\n",
       "    </tr>\n",
       "    <tr>\n",
       "      <th>улица Паперника</th>\n",
       "      <td>1</td>\n",
       "    </tr>\n",
       "    <tr>\n",
       "      <th>улица Демьяна Бедного</th>\n",
       "      <td>1</td>\n",
       "    </tr>\n",
       "    <tr>\n",
       "      <th>улица Девятая Рота</th>\n",
       "      <td>1</td>\n",
       "    </tr>\n",
       "    <tr>\n",
       "      <th>улица Гончарова</th>\n",
       "      <td>1</td>\n",
       "    </tr>\n",
       "    <tr>\n",
       "      <th>улица Генерала Ермолова</th>\n",
       "      <td>1</td>\n",
       "    </tr>\n",
       "    <tr>\n",
       "      <th>переулок Васнецова</th>\n",
       "      <td>1</td>\n",
       "    </tr>\n",
       "    <tr>\n",
       "      <th>бульвар Матроса Железняка</th>\n",
       "      <td>1</td>\n",
       "    </tr>\n",
       "    <tr>\n",
       "      <th>аллея Жемчуговой</th>\n",
       "      <td>1</td>\n",
       "    </tr>\n",
       "    <tr>\n",
       "      <th>Яхромская улица</th>\n",
       "      <td>1</td>\n",
       "    </tr>\n",
       "    <tr>\n",
       "      <th>Яузский бульвар</th>\n",
       "      <td>1</td>\n",
       "    </tr>\n",
       "    <tr>\n",
       "      <th>Ясногорская улица</th>\n",
       "      <td>1</td>\n",
       "    </tr>\n",
       "    <tr>\n",
       "      <th>Янтарный проезд</th>\n",
       "      <td>1</td>\n",
       "    </tr>\n",
       "    <tr>\n",
       "      <th>Ялтинская улица</th>\n",
       "      <td>1</td>\n",
       "    </tr>\n",
       "    <tr>\n",
       "      <th>Якиманский переулок</th>\n",
       "      <td>1</td>\n",
       "    </tr>\n",
       "    <tr>\n",
       "      <th>Юрловский проезд</th>\n",
       "      <td>1</td>\n",
       "    </tr>\n",
       "    <tr>\n",
       "      <th>Электрический переулок</th>\n",
       "      <td>1</td>\n",
       "    </tr>\n",
       "    <tr>\n",
       "      <th>Щёлковский проезд</th>\n",
       "      <td>1</td>\n",
       "    </tr>\n",
       "    <tr>\n",
       "      <th>Шубинский переулок</th>\n",
       "      <td>1</td>\n",
       "    </tr>\n",
       "    <tr>\n",
       "      <th>Штурвальная улица</th>\n",
       "      <td>1</td>\n",
       "    </tr>\n",
       "    <tr>\n",
       "      <th>Шепелюгинская улица</th>\n",
       "      <td>1</td>\n",
       "    </tr>\n",
       "    <tr>\n",
       "      <th>Чуксин тупик</th>\n",
       "      <td>1</td>\n",
       "    </tr>\n",
       "    <tr>\n",
       "      <th>Чукотский проезд</th>\n",
       "      <td>1</td>\n",
       "    </tr>\n",
       "    <tr>\n",
       "      <th>Черноморский бульвар</th>\n",
       "      <td>1</td>\n",
       "    </tr>\n",
       "    <tr>\n",
       "      <th>Черницынский проезд</th>\n",
       "      <td>1</td>\n",
       "    </tr>\n",
       "    <tr>\n",
       "      <th>Черниговский переулок</th>\n",
       "      <td>1</td>\n",
       "    </tr>\n",
       "    <tr>\n",
       "      <th>Чермянский проезд</th>\n",
       "      <td>1</td>\n",
       "    </tr>\n",
       "    <tr>\n",
       "      <th>Чермянская улица</th>\n",
       "      <td>1</td>\n",
       "    </tr>\n",
       "    <tr>\n",
       "      <th>Челюскинская улица</th>\n",
       "      <td>1</td>\n",
       "    </tr>\n",
       "    <tr>\n",
       "      <th>Хохловский переулок</th>\n",
       "      <td>1</td>\n",
       "    </tr>\n",
       "    <tr>\n",
       "      <th>Хованская улица</th>\n",
       "      <td>1</td>\n",
       "    </tr>\n",
       "    <tr>\n",
       "      <th>Хлыновский тупик</th>\n",
       "      <td>1</td>\n",
       "    </tr>\n",
       "    <tr>\n",
       "      <th>Хлебный переулок</th>\n",
       "      <td>1</td>\n",
       "    </tr>\n",
       "    <tr>\n",
       "      <th>Хитровский переулок</th>\n",
       "      <td>1</td>\n",
       "    </tr>\n",
       "    <tr>\n",
       "      <th>Хилков переулок</th>\n",
       "      <td>1</td>\n",
       "    </tr>\n",
       "    <tr>\n",
       "      <th>переулок Красина</th>\n",
       "      <td>1</td>\n",
       "    </tr>\n",
       "    <tr>\n",
       "      <th>переулок Маяковского</th>\n",
       "      <td>1</td>\n",
       "    </tr>\n",
       "    <tr>\n",
       "      <th>переулок Расковой</th>\n",
       "      <td>1</td>\n",
       "    </tr>\n",
       "    <tr>\n",
       "      <th>улица Академика Понтрягина</th>\n",
       "      <td>1</td>\n",
       "    </tr>\n",
       "    <tr>\n",
       "      <th>улица Гамалеи</th>\n",
       "      <td>1</td>\n",
       "    </tr>\n",
       "    <tr>\n",
       "      <th>улица Высоцкого</th>\n",
       "      <td>1</td>\n",
       "    </tr>\n",
       "    <tr>\n",
       "      <th>улица Васильцовский Стан</th>\n",
       "      <td>1</td>\n",
       "    </tr>\n",
       "    <tr>\n",
       "      <th>улица Брусилова</th>\n",
       "      <td>1</td>\n",
       "    </tr>\n",
       "    <tr>\n",
       "      <th>улица Бориса Жигулёнкова</th>\n",
       "      <td>1</td>\n",
       "    </tr>\n",
       "    <tr>\n",
       "      <th>улица Богородский Вал</th>\n",
       "      <td>1</td>\n",
       "    </tr>\n",
       "    <tr>\n",
       "      <th>улица Богданова</th>\n",
       "      <td>1</td>\n",
       "    </tr>\n",
       "    <tr>\n",
       "      <th>улица Благуша</th>\n",
       "      <td>1</td>\n",
       "    </tr>\n",
       "    <tr>\n",
       "      <th>улица Атарбекова</th>\n",
       "      <td>1</td>\n",
       "    </tr>\n",
       "    <tr>\n",
       "      <th>улица Артюхиной</th>\n",
       "      <td>1</td>\n",
       "    </tr>\n",
       "    <tr>\n",
       "      <th>улица Анатолия Живова</th>\n",
       "      <td>1</td>\n",
       "    </tr>\n",
       "    <tr>\n",
       "      <th>улица Алексея Дикого</th>\n",
       "      <td>1</td>\n",
       "    </tr>\n",
       "    <tr>\n",
       "      <th>улица Академика Семёнова</th>\n",
       "      <td>1</td>\n",
       "    </tr>\n",
       "    <tr>\n",
       "      <th>улица Академика Петровского</th>\n",
       "      <td>1</td>\n",
       "    </tr>\n",
       "    <tr>\n",
       "      <th>переулок Хользунова</th>\n",
       "      <td>1</td>\n",
       "    </tr>\n",
       "    <tr>\n",
       "      <th>улица Академика Павлова</th>\n",
       "      <td>1</td>\n",
       "    </tr>\n",
       "    <tr>\n",
       "      <th>улица Академика Опарина</th>\n",
       "      <td>1</td>\n",
       "    </tr>\n",
       "    <tr>\n",
       "      <th>улица Академика Арцимовича</th>\n",
       "      <td>1</td>\n",
       "    </tr>\n",
       "    <tr>\n",
       "      <th>улица Айвазовского</th>\n",
       "      <td>1</td>\n",
       "    </tr>\n",
       "    <tr>\n",
       "      <th>улица Авиаконструктора Микояна</th>\n",
       "      <td>1</td>\n",
       "    </tr>\n",
       "    <tr>\n",
       "      <th>улица 9 Мая</th>\n",
       "      <td>1</td>\n",
       "    </tr>\n",
       "    <tr>\n",
       "      <th>проспект 40 лет Октября</th>\n",
       "      <td>1</td>\n",
       "    </tr>\n",
       "    <tr>\n",
       "      <th>проектируемый проезд № 1980</th>\n",
       "      <td>1</td>\n",
       "    </tr>\n",
       "    <tr>\n",
       "      <th>проезд Черепановых</th>\n",
       "      <td>1</td>\n",
       "    </tr>\n",
       "    <tr>\n",
       "      <th>проезд Досфлота</th>\n",
       "      <td>1</td>\n",
       "    </tr>\n",
       "    <tr>\n",
       "      <th>проезд Добролюбова</th>\n",
       "      <td>1</td>\n",
       "    </tr>\n",
       "    <tr>\n",
       "      <th>поселение Филимонковское</th>\n",
       "      <td>1</td>\n",
       "    </tr>\n",
       "    <tr>\n",
       "      <th>площадь Журавлёва</th>\n",
       "      <td>1</td>\n",
       "    </tr>\n",
       "    <tr>\n",
       "      <th>Международная улица</th>\n",
       "      <td>1</td>\n",
       "    </tr>\n",
       "    <tr>\n",
       "      <th>1-й Балтийский переулок</th>\n",
       "      <td>1</td>\n",
       "    </tr>\n",
       "    <tr>\n",
       "      <th>1-й Басманный переулок</th>\n",
       "      <td>1</td>\n",
       "    </tr>\n",
       "    <tr>\n",
       "      <th>3-я Железногорская улица</th>\n",
       "      <td>1</td>\n",
       "    </tr>\n",
       "    <tr>\n",
       "      <th>5-й проезд Марьиной Рощи</th>\n",
       "      <td>1</td>\n",
       "    </tr>\n",
       "    <tr>\n",
       "      <th>5-й Рощинский проезд</th>\n",
       "      <td>1</td>\n",
       "    </tr>\n",
       "    <tr>\n",
       "      <th>5-й Монетчиковский переулок</th>\n",
       "      <td>1</td>\n",
       "    </tr>\n",
       "    <tr>\n",
       "      <th>5-й Котельнический переулок</th>\n",
       "      <td>1</td>\n",
       "    </tr>\n",
       "    <tr>\n",
       "      <th>4-я Кабельная улица</th>\n",
       "      <td>1</td>\n",
       "    </tr>\n",
       "    <tr>\n",
       "      <th>4-й Рощинский проезд</th>\n",
       "      <td>1</td>\n",
       "    </tr>\n",
       "    <tr>\n",
       "      <th>4-й Кожевнический переулок</th>\n",
       "      <td>1</td>\n",
       "    </tr>\n",
       "    <tr>\n",
       "      <th>4-й Вятский переулок</th>\n",
       "      <td>1</td>\n",
       "    </tr>\n",
       "    <tr>\n",
       "      <th>4-й Вешняковский проезд</th>\n",
       "      <td>1</td>\n",
       "    </tr>\n",
       "    <tr>\n",
       "      <th>3-я Черепковская улица</th>\n",
       "      <td>1</td>\n",
       "    </tr>\n",
       "    <tr>\n",
       "      <th>3-я Северная линия</th>\n",
       "      <td>1</td>\n",
       "    </tr>\n",
       "    <tr>\n",
       "      <th>3-я Подрезковская улица</th>\n",
       "      <td>1</td>\n",
       "    </tr>\n",
       "    <tr>\n",
       "      <th>3-я Песчаная улица</th>\n",
       "      <td>1</td>\n",
       "    </tr>\n",
       "    <tr>\n",
       "      <th>3-я Новоостанкинская улица</th>\n",
       "      <td>1</td>\n",
       "    </tr>\n",
       "    <tr>\n",
       "      <th>3-й проезд Подбельского</th>\n",
       "      <td>1</td>\n",
       "    </tr>\n",
       "    <tr>\n",
       "      <th>Мариупольская улица</th>\n",
       "      <td>1</td>\n",
       "    </tr>\n",
       "    <tr>\n",
       "      <th>3-й Угрешский проезд</th>\n",
       "      <td>1</td>\n",
       "    </tr>\n",
       "    <tr>\n",
       "      <th>3-й Стрелецкий проезд</th>\n",
       "      <td>1</td>\n",
       "    </tr>\n",
       "    <tr>\n",
       "      <th>3-й Павловский переулок</th>\n",
       "      <td>1</td>\n",
       "    </tr>\n",
       "    <tr>\n",
       "      <th>3-й Лихачёвский переулок</th>\n",
       "      <td>1</td>\n",
       "    </tr>\n",
       "    <tr>\n",
       "      <th>3-й Кожуховский проезд</th>\n",
       "      <td>1</td>\n",
       "    </tr>\n",
       "    <tr>\n",
       "      <th>3-й Кадашёвский переулок</th>\n",
       "      <td>1</td>\n",
       "    </tr>\n",
       "    <tr>\n",
       "      <th>3-й Дорожный проезд</th>\n",
       "      <td>1</td>\n",
       "    </tr>\n",
       "    <tr>\n",
       "      <th>2-я улица Энтузиастов</th>\n",
       "      <td>1</td>\n",
       "    </tr>\n",
       "    <tr>\n",
       "      <th>2-я улица Марьиной Рощи</th>\n",
       "      <td>1</td>\n",
       "    </tr>\n",
       "    <tr>\n",
       "      <th>2-я улица Бухвостова</th>\n",
       "      <td>1</td>\n",
       "    </tr>\n",
       "    <tr>\n",
       "      <th>2-я Ямская улица</th>\n",
       "      <td>1</td>\n",
       "    </tr>\n",
       "    <tr>\n",
       "      <th>2-я Филёвская улица</th>\n",
       "      <td>1</td>\n",
       "    </tr>\n",
       "    <tr>\n",
       "      <th>2-я Сокольническая улица</th>\n",
       "      <td>1</td>\n",
       "    </tr>\n",
       "    <tr>\n",
       "      <th>2-я Прядильная улица</th>\n",
       "      <td>1</td>\n",
       "    </tr>\n",
       "    <tr>\n",
       "      <th>5-й проезд Подбельского</th>\n",
       "      <td>1</td>\n",
       "    </tr>\n",
       "    <tr>\n",
       "      <th>6-я Кожуховская улица</th>\n",
       "      <td>1</td>\n",
       "    </tr>\n",
       "    <tr>\n",
       "      <th>6-я улица Лазенки</th>\n",
       "      <td>1</td>\n",
       "    </tr>\n",
       "    <tr>\n",
       "      <th>6-я улица Новые Сады</th>\n",
       "      <td>1</td>\n",
       "    </tr>\n",
       "    <tr>\n",
       "      <th>Богоявленский переулок</th>\n",
       "      <td>1</td>\n",
       "    </tr>\n",
       "    <tr>\n",
       "      <th>Библиотечная улица</th>\n",
       "      <td>1</td>\n",
       "    </tr>\n",
       "    <tr>\n",
       "      <th>Бескудниковский проезд</th>\n",
       "      <td>1</td>\n",
       "    </tr>\n",
       "    <tr>\n",
       "      <th>Бескудниковский переулок</th>\n",
       "      <td>1</td>\n",
       "    </tr>\n",
       "    <tr>\n",
       "      <th>Берниковская набережная</th>\n",
       "      <td>1</td>\n",
       "    </tr>\n",
       "    <tr>\n",
       "      <th>Басовская улица</th>\n",
       "      <td>1</td>\n",
       "    </tr>\n",
       "    <tr>\n",
       "      <th>Барабанный переулок</th>\n",
       "      <td>1</td>\n",
       "    </tr>\n",
       "    <tr>\n",
       "      <th>Банный проезд</th>\n",
       "      <td>1</td>\n",
       "    </tr>\n",
       "    <tr>\n",
       "      <th>Балтийская улица</th>\n",
       "      <td>1</td>\n",
       "    </tr>\n",
       "    <tr>\n",
       "      <th>Базовая улица</th>\n",
       "      <td>1</td>\n",
       "    </tr>\n",
       "    <tr>\n",
       "      <th>Бабаевская улица</th>\n",
       "      <td>1</td>\n",
       "    </tr>\n",
       "    <tr>\n",
       "      <th>Аэрофлотская улица</th>\n",
       "      <td>1</td>\n",
       "    </tr>\n",
       "    <tr>\n",
       "      <th>Аэродромная улица</th>\n",
       "      <td>1</td>\n",
       "    </tr>\n",
       "    <tr>\n",
       "      <th>Ащеулов переулок</th>\n",
       "      <td>1</td>\n",
       "    </tr>\n",
       "    <tr>\n",
       "      <th>Астрадамский проезд</th>\n",
       "      <td>1</td>\n",
       "    </tr>\n",
       "    <tr>\n",
       "      <th>Архангельский переулок</th>\n",
       "      <td>1</td>\n",
       "    </tr>\n",
       "    <tr>\n",
       "      <th>Армавирская улица</th>\n",
       "      <td>1</td>\n",
       "    </tr>\n",
       "    <tr>\n",
       "      <th>Анненский проезд</th>\n",
       "      <td>1</td>\n",
       "    </tr>\n",
       "    <tr>\n",
       "      <th>Анненская улица</th>\n",
       "      <td>1</td>\n",
       "    </tr>\n",
       "    <tr>\n",
       "      <th>Андроньевская площадь</th>\n",
       "      <td>1</td>\n",
       "    </tr>\n",
       "    <tr>\n",
       "      <th>Андреево-Забелинская улица</th>\n",
       "      <td>1</td>\n",
       "    </tr>\n",
       "    <tr>\n",
       "      <th>Алымов переулок</th>\n",
       "      <td>1</td>\n",
       "    </tr>\n",
       "    <tr>\n",
       "      <th>Автомобильный проезд</th>\n",
       "      <td>1</td>\n",
       "    </tr>\n",
       "    <tr>\n",
       "      <th>Авиационный переулок</th>\n",
       "      <td>1</td>\n",
       "    </tr>\n",
       "    <tr>\n",
       "      <th>8-я улица Соколиной Горы</th>\n",
       "      <td>1</td>\n",
       "    </tr>\n",
       "    <tr>\n",
       "      <th>8-й проезд Марьиной Рощи</th>\n",
       "      <td>1</td>\n",
       "    </tr>\n",
       "    <tr>\n",
       "      <th>7-я улица Лазенки</th>\n",
       "      <td>1</td>\n",
       "    </tr>\n",
       "    <tr>\n",
       "      <th>7-я Северная линия</th>\n",
       "      <td>1</td>\n",
       "    </tr>\n",
       "    <tr>\n",
       "      <th>7-й Ростовский переулок</th>\n",
       "      <td>1</td>\n",
       "    </tr>\n",
       "    <tr>\n",
       "      <th>2-я Напрудная улица</th>\n",
       "      <td>1</td>\n",
       "    </tr>\n",
       "    <tr>\n",
       "      <th>2-я Квесисская улица</th>\n",
       "      <td>1</td>\n",
       "    </tr>\n",
       "    <tr>\n",
       "      <th>2-я Дубровская улица</th>\n",
       "      <td>1</td>\n",
       "    </tr>\n",
       "    <tr>\n",
       "      <th>1-я Пугачёвская улица</th>\n",
       "      <td>1</td>\n",
       "    </tr>\n",
       "    <tr>\n",
       "      <th>1-я Миусская улица</th>\n",
       "      <td>1</td>\n",
       "    </tr>\n",
       "    <tr>\n",
       "      <th>1-я Карачаровская улица</th>\n",
       "      <td>1</td>\n",
       "    </tr>\n",
       "    <tr>\n",
       "      <th>1-я Гражданская улица</th>\n",
       "      <td>1</td>\n",
       "    </tr>\n",
       "    <tr>\n",
       "      <th>1-я Боевская улица</th>\n",
       "      <td>1</td>\n",
       "    </tr>\n",
       "    <tr>\n",
       "      <th>1-я Аэропортовская улица</th>\n",
       "      <td>1</td>\n",
       "    </tr>\n",
       "    <tr>\n",
       "      <th>1-й проезд Марьиной Рощи</th>\n",
       "      <td>1</td>\n",
       "    </tr>\n",
       "    <tr>\n",
       "      <th>1-й Тушинский проезд</th>\n",
       "      <td>1</td>\n",
       "    </tr>\n",
       "    <tr>\n",
       "      <th>1-й Спасоналивковский переулок</th>\n",
       "      <td>1</td>\n",
       "    </tr>\n",
       "    <tr>\n",
       "      <th>1-й Сетуньский проезд</th>\n",
       "      <td>1</td>\n",
       "    </tr>\n",
       "    <tr>\n",
       "      <th>1-й Сельскохозяйственный проезд</th>\n",
       "      <td>1</td>\n",
       "    </tr>\n",
       "    <tr>\n",
       "      <th>1-й Саратовский проезд</th>\n",
       "      <td>1</td>\n",
       "    </tr>\n",
       "    <tr>\n",
       "      <th>1-й Рижский переулок</th>\n",
       "      <td>1</td>\n",
       "    </tr>\n",
       "    <tr>\n",
       "      <th>1-й Обыденский переулок</th>\n",
       "      <td>1</td>\n",
       "    </tr>\n",
       "    <tr>\n",
       "      <th>1-й Новокузнецкий переулок</th>\n",
       "      <td>1</td>\n",
       "    </tr>\n",
       "    <tr>\n",
       "      <th>1-й Николощеповский переулок</th>\n",
       "      <td>1</td>\n",
       "    </tr>\n",
       "    <tr>\n",
       "      <th>1-й Монетчиковский переулок</th>\n",
       "      <td>1</td>\n",
       "    </tr>\n",
       "    <tr>\n",
       "      <th>1-й Магистральный тупик</th>\n",
       "      <td>1</td>\n",
       "    </tr>\n",
       "    <tr>\n",
       "      <th>1-й Люсиновский переулок</th>\n",
       "      <td>1</td>\n",
       "    </tr>\n",
       "    <tr>\n",
       "      <th>1-й Курьяновский проезд</th>\n",
       "      <td>1</td>\n",
       "    </tr>\n",
       "    <tr>\n",
       "      <th>1-й Краснокурсантский проезд</th>\n",
       "      <td>1</td>\n",
       "    </tr>\n",
       "    <tr>\n",
       "      <th>1-й Котельнический переулок</th>\n",
       "      <td>1</td>\n",
       "    </tr>\n",
       "    <tr>\n",
       "      <th>1-й Коптельский переулок</th>\n",
       "      <td>1</td>\n",
       "    </tr>\n",
       "    <tr>\n",
       "      <th>1-й Кожуховский проезд</th>\n",
       "      <td>1</td>\n",
       "    </tr>\n",
       "    <tr>\n",
       "      <th>1-й Кожевнический переулок</th>\n",
       "      <td>1</td>\n",
       "    </tr>\n",
       "    <tr>\n",
       "      <th>1-й Кирпичный переулок</th>\n",
       "      <td>1</td>\n",
       "    </tr>\n",
       "    <tr>\n",
       "      <th>1-й Зачатьевский переулок</th>\n",
       "      <td>1</td>\n",
       "    </tr>\n",
       "    <tr>\n",
       "      <th>1-й Голутвинский переулок</th>\n",
       "      <td>1</td>\n",
       "    </tr>\n",
       "    <tr>\n",
       "      <th>1-й Вешняковский проезд</th>\n",
       "      <td>1</td>\n",
       "    </tr>\n",
       "    <tr>\n",
       "      <th>1-й Ботанический проезд</th>\n",
       "      <td>1</td>\n",
       "    </tr>\n",
       "    <tr>\n",
       "      <th>1-я Напрудная улица</th>\n",
       "      <td>1</td>\n",
       "    </tr>\n",
       "    <tr>\n",
       "      <th>1-я Чоботовская аллея</th>\n",
       "      <td>1</td>\n",
       "    </tr>\n",
       "    <tr>\n",
       "      <th>2-я Гражданская улица</th>\n",
       "      <td>1</td>\n",
       "    </tr>\n",
       "    <tr>\n",
       "      <th>1-я линия Хорошёвского Серебряного Бора</th>\n",
       "      <td>1</td>\n",
       "    </tr>\n",
       "    <tr>\n",
       "      <th>2-й Щемиловский переулок</th>\n",
       "      <td>1</td>\n",
       "    </tr>\n",
       "    <tr>\n",
       "      <th>2-й Хуторской переулок</th>\n",
       "      <td>1</td>\n",
       "    </tr>\n",
       "    <tr>\n",
       "      <th>2-й Стрелецкий проезд</th>\n",
       "      <td>1</td>\n",
       "    </tr>\n",
       "    <tr>\n",
       "      <th>2-й Сетуньский проезд</th>\n",
       "      <td>1</td>\n",
       "    </tr>\n",
       "    <tr>\n",
       "      <th>2-й Сельскохозяйственный проезд</th>\n",
       "      <td>1</td>\n",
       "    </tr>\n",
       "    <tr>\n",
       "      <th>2-й Рощинский проезд</th>\n",
       "      <td>1</td>\n",
       "    </tr>\n",
       "    <tr>\n",
       "      <th>2-й Полевой переулок</th>\n",
       "      <td>1</td>\n",
       "    </tr>\n",
       "    <tr>\n",
       "      <th>2-й Обыденский переулок</th>\n",
       "      <td>1</td>\n",
       "    </tr>\n",
       "    <tr>\n",
       "      <th>2-й Новоподмосковный переулок</th>\n",
       "      <td>1</td>\n",
       "    </tr>\n",
       "    <tr>\n",
       "      <th>2-й Новокузнецкий переулок</th>\n",
       "      <td>1</td>\n",
       "    </tr>\n",
       "    <tr>\n",
       "      <th>2-й Неопалимовский переулок</th>\n",
       "      <td>1</td>\n",
       "    </tr>\n",
       "    <tr>\n",
       "      <th>2-й Магистральный тупик</th>\n",
       "      <td>1</td>\n",
       "    </tr>\n",
       "    <tr>\n",
       "      <th>2-й Курьяновский проезд</th>\n",
       "      <td>1</td>\n",
       "    </tr>\n",
       "    <tr>\n",
       "      <th>2-й Красносельский переулок</th>\n",
       "      <td>1</td>\n",
       "    </tr>\n",
       "    <tr>\n",
       "      <th>2-й Колобовский переулок</th>\n",
       "      <td>1</td>\n",
       "    </tr>\n",
       "    <tr>\n",
       "      <th>2-й Кожуховский проезд</th>\n",
       "      <td>1</td>\n",
       "    </tr>\n",
       "    <tr>\n",
       "      <th>2-й Кожевнический переулок</th>\n",
       "      <td>1</td>\n",
       "    </tr>\n",
       "    <tr>\n",
       "      <th>2-й Кадашёвский переулок</th>\n",
       "      <td>1</td>\n",
       "    </tr>\n",
       "    <tr>\n",
       "      <th>2-й Кабельный проезд</th>\n",
       "      <td>1</td>\n",
       "    </tr>\n",
       "    <tr>\n",
       "      <th>2-й Иртышский проезд</th>\n",
       "      <td>1</td>\n",
       "    </tr>\n",
       "    <tr>\n",
       "      <th>2-й Вышеславцев переулок</th>\n",
       "      <td>1</td>\n",
       "    </tr>\n",
       "    <tr>\n",
       "      <th>2-й Войковский проезд</th>\n",
       "      <td>1</td>\n",
       "    </tr>\n",
       "    <tr>\n",
       "      <th>2-й Верхний Михайловский проезд</th>\n",
       "      <td>1</td>\n",
       "    </tr>\n",
       "    <tr>\n",
       "      <th>2-й Боткинский проезд</th>\n",
       "      <td>1</td>\n",
       "    </tr>\n",
       "    <tr>\n",
       "      <th>2-й Балтийский переулок</th>\n",
       "      <td>1</td>\n",
       "    </tr>\n",
       "    <tr>\n",
       "      <th>17-й проезд Марьиной Рощи</th>\n",
       "      <td>1</td>\n",
       "    </tr>\n",
       "    <tr>\n",
       "      <th>14-я Парковая улица</th>\n",
       "      <td>1</td>\n",
       "    </tr>\n",
       "    <tr>\n",
       "      <th>12-й проезд Марьиной Рощи</th>\n",
       "      <td>1</td>\n",
       "    </tr>\n",
       "    <tr>\n",
       "      <th>11-я Парковая улица</th>\n",
       "      <td>1</td>\n",
       "    </tr>\n",
       "    <tr>\n",
       "      <th>Больничный переулок</th>\n",
       "      <td>1</td>\n",
       "    </tr>\n",
       "    <tr>\n",
       "      <th>Большая Бутовская улица</th>\n",
       "      <td>1</td>\n",
       "    </tr>\n",
       "    <tr>\n",
       "      <th>Большая Внуковская улица</th>\n",
       "      <td>1</td>\n",
       "    </tr>\n",
       "    <tr>\n",
       "      <th>Лениногорская улица</th>\n",
       "      <td>1</td>\n",
       "    </tr>\n",
       "    <tr>\n",
       "      <th>Кучин переулок</th>\n",
       "      <td>1</td>\n",
       "    </tr>\n",
       "    <tr>\n",
       "      <th>Курганская улица</th>\n",
       "      <td>1</td>\n",
       "    </tr>\n",
       "    <tr>\n",
       "      <th>Кунцевская улица</th>\n",
       "      <td>1</td>\n",
       "    </tr>\n",
       "    <tr>\n",
       "      <th>Кулаков переулок</th>\n",
       "      <td>1</td>\n",
       "    </tr>\n",
       "    <tr>\n",
       "      <th>Кузьминская улица</th>\n",
       "      <td>1</td>\n",
       "    </tr>\n",
       "    <tr>\n",
       "      <th>Кривоарбатский переулок</th>\n",
       "      <td>1</td>\n",
       "    </tr>\n",
       "    <tr>\n",
       "      <th>Кремлёвская набережная</th>\n",
       "      <td>1</td>\n",
       "    </tr>\n",
       "    <tr>\n",
       "      <th>Красностуденческий проезд</th>\n",
       "      <td>1</td>\n",
       "    </tr>\n",
       "    <tr>\n",
       "      <th>Красноказарменный проезд</th>\n",
       "      <td>1</td>\n",
       "    </tr>\n",
       "    <tr>\n",
       "      <th>Красногвардейский бульвар</th>\n",
       "      <td>1</td>\n",
       "    </tr>\n",
       "    <tr>\n",
       "      <th>Костомаровская набережная</th>\n",
       "      <td>1</td>\n",
       "    </tr>\n",
       "    <tr>\n",
       "      <th>Коптевский бульвар</th>\n",
       "      <td>1</td>\n",
       "    </tr>\n",
       "    <tr>\n",
       "      <th>Кооперативная улица</th>\n",
       "      <td>1</td>\n",
       "    </tr>\n",
       "    <tr>\n",
       "      <th>Кондрашёвский тупик</th>\n",
       "      <td>1</td>\n",
       "    </tr>\n",
       "    <tr>\n",
       "      <th>Конаковский проезд</th>\n",
       "      <td>1</td>\n",
       "    </tr>\n",
       "    <tr>\n",
       "      <th>Композиторская улица</th>\n",
       "      <td>1</td>\n",
       "    </tr>\n",
       "    <tr>\n",
       "      <th>Козицкий переулок</th>\n",
       "      <td>1</td>\n",
       "    </tr>\n",
       "    <tr>\n",
       "      <th>Кожевнический проезд</th>\n",
       "      <td>1</td>\n",
       "    </tr>\n",
       "    <tr>\n",
       "      <th>Ковров переулок</th>\n",
       "      <td>1</td>\n",
       "    </tr>\n",
       "    <tr>\n",
       "      <th>Кирпичная улица</th>\n",
       "      <td>1</td>\n",
       "    </tr>\n",
       "    <tr>\n",
       "      <th>Каскадная улица</th>\n",
       "      <td>1</td>\n",
       "    </tr>\n",
       "    <tr>\n",
       "      <th>Карельский бульвар</th>\n",
       "      <td>1</td>\n",
       "    </tr>\n",
       "    <tr>\n",
       "      <th>Каргопольская улица</th>\n",
       "      <td>1</td>\n",
       "    </tr>\n",
       "    <tr>\n",
       "      <th>Канатчиковский проезд</th>\n",
       "      <td>1</td>\n",
       "    </tr>\n",
       "    <tr>\n",
       "      <th>Калошин переулок</th>\n",
       "      <td>1</td>\n",
       "    </tr>\n",
       "    <tr>\n",
       "      <th>Калибровская улица</th>\n",
       "      <td>1</td>\n",
       "    </tr>\n",
       "    <tr>\n",
       "      <th>Интернациональная улица</th>\n",
       "      <td>1</td>\n",
       "    </tr>\n",
       "    <tr>\n",
       "      <th>Институтский переулок</th>\n",
       "      <td>1</td>\n",
       "    </tr>\n",
       "    <tr>\n",
       "      <th>Икшинская улица</th>\n",
       "      <td>1</td>\n",
       "    </tr>\n",
       "    <tr>\n",
       "      <th>Ландышевая улица</th>\n",
       "      <td>1</td>\n",
       "    </tr>\n",
       "    <tr>\n",
       "      <th>Лефортовский переулок</th>\n",
       "      <td>1</td>\n",
       "    </tr>\n",
       "    <tr>\n",
       "      <th>Известковый переулок</th>\n",
       "      <td>1</td>\n",
       "    </tr>\n",
       "    <tr>\n",
       "      <th>Лечебная улица</th>\n",
       "      <td>1</td>\n",
       "    </tr>\n",
       "    <tr>\n",
       "      <th>Мансуровский переулок</th>\n",
       "      <td>1</td>\n",
       "    </tr>\n",
       "    <tr>\n",
       "      <th>Мамоновский переулок</th>\n",
       "      <td>1</td>\n",
       "    </tr>\n",
       "    <tr>\n",
       "      <th>Малый Толмачёвский переулок</th>\n",
       "      <td>1</td>\n",
       "    </tr>\n",
       "    <tr>\n",
       "      <th>Малый Татарский переулок</th>\n",
       "      <td>1</td>\n",
       "    </tr>\n",
       "    <tr>\n",
       "      <th>Малый Саввинский переулок</th>\n",
       "      <td>1</td>\n",
       "    </tr>\n",
       "    <tr>\n",
       "      <th>Малый Путинковский переулок</th>\n",
       "      <td>1</td>\n",
       "    </tr>\n",
       "    <tr>\n",
       "      <th>Малый Полуярославский переулок</th>\n",
       "      <td>1</td>\n",
       "    </tr>\n",
       "    <tr>\n",
       "      <th>Малый Николопесковский переулок</th>\n",
       "      <td>1</td>\n",
       "    </tr>\n",
       "    <tr>\n",
       "      <th>Малый Лёвшинский переулок</th>\n",
       "      <td>1</td>\n",
       "    </tr>\n",
       "    <tr>\n",
       "      <th>Малый Коптевский проезд</th>\n",
       "      <td>1</td>\n",
       "    </tr>\n",
       "    <tr>\n",
       "      <th>Малый Конюшковский переулок</th>\n",
       "      <td>1</td>\n",
       "    </tr>\n",
       "    <tr>\n",
       "      <th>Малый Каретный переулок</th>\n",
       "      <td>1</td>\n",
       "    </tr>\n",
       "    <tr>\n",
       "      <th>Малый Казённый переулок</th>\n",
       "      <td>1</td>\n",
       "    </tr>\n",
       "    <tr>\n",
       "      <th>Малый Ивановский переулок</th>\n",
       "      <td>1</td>\n",
       "    </tr>\n",
       "    <tr>\n",
       "      <th>Малый Знаменский переулок</th>\n",
       "      <td>1</td>\n",
       "    </tr>\n",
       "    <tr>\n",
       "      <th>Малый Златоустинский переулок</th>\n",
       "      <td>1</td>\n",
       "    </tr>\n",
       "    <tr>\n",
       "      <th>Малый Власьевский переулок</th>\n",
       "      <td>1</td>\n",
       "    </tr>\n",
       "    <tr>\n",
       "      <th>Малая Тульская улица</th>\n",
       "      <td>1</td>\n",
       "    </tr>\n",
       "    <tr>\n",
       "      <th>Малая Переяславская улица</th>\n",
       "      <td>1</td>\n",
       "    </tr>\n",
       "    <tr>\n",
       "      <th>Малая Ботаническая улица</th>\n",
       "      <td>1</td>\n",
       "    </tr>\n",
       "    <tr>\n",
       "      <th>Малая Андроньевская улица</th>\n",
       "      <td>1</td>\n",
       "    </tr>\n",
       "    <tr>\n",
       "      <th>Мажоров переулок</th>\n",
       "      <td>1</td>\n",
       "    </tr>\n",
       "    <tr>\n",
       "      <th>Магаданская улица</th>\n",
       "      <td>1</td>\n",
       "    </tr>\n",
       "    <tr>\n",
       "      <th>Лыщиков переулок</th>\n",
       "      <td>1</td>\n",
       "    </tr>\n",
       "    <tr>\n",
       "      <th>Лужнецкий проезд</th>\n",
       "      <td>1</td>\n",
       "    </tr>\n",
       "    <tr>\n",
       "      <th>Лосевская улица</th>\n",
       "      <td>1</td>\n",
       "    </tr>\n",
       "    <tr>\n",
       "      <th>Лонгиновская улица</th>\n",
       "      <td>1</td>\n",
       "    </tr>\n",
       "    <tr>\n",
       "      <th>Линейный проезд</th>\n",
       "      <td>1</td>\n",
       "    </tr>\n",
       "    <tr>\n",
       "      <th>Лианозовский проезд</th>\n",
       "      <td>1</td>\n",
       "    </tr>\n",
       "    <tr>\n",
       "      <th>Измайловская площадь</th>\n",
       "      <td>1</td>\n",
       "    </tr>\n",
       "    <tr>\n",
       "      <th>Изваринская улица</th>\n",
       "      <td>1</td>\n",
       "    </tr>\n",
       "    <tr>\n",
       "      <th>Большая Ширяевская улица</th>\n",
       "      <td>1</td>\n",
       "    </tr>\n",
       "    <tr>\n",
       "      <th>Вяземская улица</th>\n",
       "      <td>1</td>\n",
       "    </tr>\n",
       "    <tr>\n",
       "      <th>Врачебный проезд</th>\n",
       "      <td>1</td>\n",
       "    </tr>\n",
       "    <tr>\n",
       "      <th>Воротниковский переулок</th>\n",
       "      <td>1</td>\n",
       "    </tr>\n",
       "    <tr>\n",
       "      <th>Волоцкой переулок</th>\n",
       "      <td>1</td>\n",
       "    </tr>\n",
       "    <tr>\n",
       "      <th>Винницкая улица</th>\n",
       "      <td>1</td>\n",
       "    </tr>\n",
       "    <tr>\n",
       "      <th>Верхняя улица</th>\n",
       "      <td>1</td>\n",
       "    </tr>\n",
       "    <tr>\n",
       "      <th>Верхний Золоторожский переулок</th>\n",
       "      <td>1</td>\n",
       "    </tr>\n",
       "    <tr>\n",
       "      <th>Вербная улица</th>\n",
       "      <td>1</td>\n",
       "    </tr>\n",
       "    <tr>\n",
       "      <th>Вековая улица</th>\n",
       "      <td>1</td>\n",
       "    </tr>\n",
       "    <tr>\n",
       "      <th>Варсонофьевский переулок</th>\n",
       "      <td>1</td>\n",
       "    </tr>\n",
       "    <tr>\n",
       "      <th>Вагоноремонтная улица</th>\n",
       "      <td>1</td>\n",
       "    </tr>\n",
       "    <tr>\n",
       "      <th>Бутиковский переулок</th>\n",
       "      <td>1</td>\n",
       "    </tr>\n",
       "    <tr>\n",
       "      <th>Будайский проезд</th>\n",
       "      <td>1</td>\n",
       "    </tr>\n",
       "    <tr>\n",
       "      <th>Будайская улица</th>\n",
       "      <td>1</td>\n",
       "    </tr>\n",
       "    <tr>\n",
       "      <th>Брошевский переулок</th>\n",
       "      <td>1</td>\n",
       "    </tr>\n",
       "    <tr>\n",
       "      <th>Бродников переулок</th>\n",
       "      <td>1</td>\n",
       "    </tr>\n",
       "    <tr>\n",
       "      <th>Ботанический переулок</th>\n",
       "      <td>1</td>\n",
       "    </tr>\n",
       "    <tr>\n",
       "      <th>Боровский проезд</th>\n",
       "      <td>1</td>\n",
       "    </tr>\n",
       "    <tr>\n",
       "      <th>Боровая улица</th>\n",
       "      <td>1</td>\n",
       "    </tr>\n",
       "    <tr>\n",
       "      <th>Большой Трёхсвятительский переулок</th>\n",
       "      <td>1</td>\n",
       "    </tr>\n",
       "    <tr>\n",
       "      <th>Большой Строченовский переулок</th>\n",
       "      <td>1</td>\n",
       "    </tr>\n",
       "    <tr>\n",
       "      <th>Большой Симоновский переулок</th>\n",
       "      <td>1</td>\n",
       "    </tr>\n",
       "    <tr>\n",
       "      <th>Большой Предтеченский переулок</th>\n",
       "      <td>1</td>\n",
       "    </tr>\n",
       "    <tr>\n",
       "      <th>Большой Полуярославский переулок</th>\n",
       "      <td>1</td>\n",
       "    </tr>\n",
       "    <tr>\n",
       "      <th>Большой Николопесковский переулок</th>\n",
       "      <td>1</td>\n",
       "    </tr>\n",
       "    <tr>\n",
       "      <th>Большой Кисельный переулок</th>\n",
       "      <td>1</td>\n",
       "    </tr>\n",
       "    <tr>\n",
       "      <th>Большой Казённый переулок</th>\n",
       "      <td>1</td>\n",
       "    </tr>\n",
       "    <tr>\n",
       "      <th>Большой Знаменский переулок</th>\n",
       "      <td>1</td>\n",
       "    </tr>\n",
       "    <tr>\n",
       "      <th>Большой Афанасьевский переулок</th>\n",
       "      <td>1</td>\n",
       "    </tr>\n",
       "    <tr>\n",
       "      <th>Большая Юшуньская улица</th>\n",
       "      <td>1</td>\n",
       "    </tr>\n",
       "    <tr>\n",
       "      <th>Выползов переулок</th>\n",
       "      <td>1</td>\n",
       "    </tr>\n",
       "    <tr>\n",
       "      <th>Газгольдерная улица</th>\n",
       "      <td>1</td>\n",
       "    </tr>\n",
       "    <tr>\n",
       "      <th>Ижорский проезд</th>\n",
       "      <td>1</td>\n",
       "    </tr>\n",
       "    <tr>\n",
       "      <th>Гаражная улица</th>\n",
       "      <td>1</td>\n",
       "    </tr>\n",
       "    <tr>\n",
       "      <th>Иваньковское шоссе</th>\n",
       "      <td>1</td>\n",
       "    </tr>\n",
       "    <tr>\n",
       "      <th>Зубарев переулок</th>\n",
       "      <td>1</td>\n",
       "    </tr>\n",
       "    <tr>\n",
       "      <th>Звонарский переулок</th>\n",
       "      <td>1</td>\n",
       "    </tr>\n",
       "    <tr>\n",
       "      <th>Зарайская улица</th>\n",
       "      <td>1</td>\n",
       "    </tr>\n",
       "    <tr>\n",
       "      <th>Заводской проезд</th>\n",
       "      <td>1</td>\n",
       "    </tr>\n",
       "    <tr>\n",
       "      <th>Жуков проезд</th>\n",
       "      <td>1</td>\n",
       "    </tr>\n",
       "    <tr>\n",
       "      <th>Живарев переулок</th>\n",
       "      <td>1</td>\n",
       "    </tr>\n",
       "    <tr>\n",
       "      <th>Есенинский бульвар</th>\n",
       "      <td>1</td>\n",
       "    </tr>\n",
       "    <tr>\n",
       "      <th>Елоховский проезд</th>\n",
       "      <td>1</td>\n",
       "    </tr>\n",
       "    <tr>\n",
       "      <th>Егорьевский проезд</th>\n",
       "      <td>1</td>\n",
       "    </tr>\n",
       "    <tr>\n",
       "      <th>Докучаев переулок</th>\n",
       "      <td>1</td>\n",
       "    </tr>\n",
       "    <tr>\n",
       "      <th>Добровольческая улица</th>\n",
       "      <td>1</td>\n",
       "    </tr>\n",
       "    <tr>\n",
       "      <th>Дмитровский переулок</th>\n",
       "      <td>1</td>\n",
       "    </tr>\n",
       "    <tr>\n",
       "      <th>Дивизионная улица</th>\n",
       "      <td>1</td>\n",
       "    </tr>\n",
       "    <tr>\n",
       "      <th>Джанкойская улица</th>\n",
       "      <td>1</td>\n",
       "    </tr>\n",
       "    <tr>\n",
       "      <th>Денежный переулок</th>\n",
       "      <td>1</td>\n",
       "    </tr>\n",
       "    <tr>\n",
       "      <th>Делегатская улица</th>\n",
       "      <td>1</td>\n",
       "    </tr>\n",
       "    <tr>\n",
       "      <th>Дегтярный переулок</th>\n",
       "      <td>1</td>\n",
       "    </tr>\n",
       "    <tr>\n",
       "      <th>Гродненская улица</th>\n",
       "      <td>1</td>\n",
       "    </tr>\n",
       "    <tr>\n",
       "      <th>Гранатный переулок</th>\n",
       "      <td>1</td>\n",
       "    </tr>\n",
       "    <tr>\n",
       "      <th>Госпитальный переулок</th>\n",
       "      <td>1</td>\n",
       "    </tr>\n",
       "    <tr>\n",
       "      <th>Гольяновская улица</th>\n",
       "      <td>1</td>\n",
       "    </tr>\n",
       "    <tr>\n",
       "      <th>Глинищевский переулок</th>\n",
       "      <td>1</td>\n",
       "    </tr>\n",
       "    <tr>\n",
       "      <th>Глинистый переулок</th>\n",
       "      <td>1</td>\n",
       "    </tr>\n",
       "    <tr>\n",
       "      <th>Глебовская улица</th>\n",
       "      <td>1</td>\n",
       "    </tr>\n",
       "    <tr>\n",
       "      <th>Глазовский переулок</th>\n",
       "      <td>1</td>\n",
       "    </tr>\n",
       "    <tr>\n",
       "      <th>Гжельский переулок</th>\n",
       "      <td>1</td>\n",
       "    </tr>\n",
       "    <tr>\n",
       "      <th>Гжатская улица</th>\n",
       "      <td>1</td>\n",
       "    </tr>\n",
       "    <tr>\n",
       "      <th>Гвардейская улица</th>\n",
       "      <td>1</td>\n",
       "    </tr>\n",
       "    <tr>\n",
       "      <th>шоссе Фрезер</th>\n",
       "      <td>1</td>\n",
       "    </tr>\n",
       "  </tbody>\n",
       "</table>\n",
       "</div>"
      ],
      "text/plain": [
       "                                         district\n",
       "street                                           \n",
       "Мартеновская улица                              2\n",
       "Холмогорская улица                              2\n",
       "улица Коновалова                                2\n",
       "улица Липчанского                               2\n",
       "Селигерская улица                               2\n",
       "Средний Овчинниковский переулок                 1\n",
       "Средний Кондратьевский переулок                 1\n",
       "Средняя Калитниковская улица                    1\n",
       "Спортивный проезд                               1\n",
       "Соймоновский проезд                             1\n",
       "Сретенский тупик                                1\n",
       "Спартаковский переулок                          1\n",
       "Союзный проспект                                1\n",
       "Стандартная улица                               1\n",
       "Софийская набережная                            1\n",
       "Сормовский проезд                               1\n",
       "Солнечногорский проезд                          1\n",
       "Солнечногорская улица                           1\n",
       "Скорняжный переулок                             1\n",
       "Соболевский проезд                              1\n",
       "Старомарьинское шоссе                           1\n",
       "Скатертный переулок                             1\n",
       "Синельниковская улица                           1\n",
       "Симферопольский проезд                          1\n",
       "Сивашская улица                                 1\n",
       "Сибирский проезд                                1\n",
       "Сеченовский переулок                            1\n",
       "Северодвинская улица                            1\n",
       "Сверчков переулок                               1\n",
       "Садовнический проезд                            1\n",
       "Садовая-Сухаревская улица                       1\n",
       "Русаковская набережная                          1\n",
       "Рубцов переулок                                 1\n",
       "Староалексеевская улица                         1\n",
       "Старомонетный переулок                          1\n",
       "Родниковая улица                                1\n",
       "Староникольская улица                           1\n",
       "Филипповский переулок                           1\n",
       "Феодосийская улица                              1\n",
       "Федоскинская улица                              1\n",
       "Фармацевтический проезд                         1\n",
       "Учинская улица                                  1\n",
       "Утренняя улица                                  1\n",
       "Успенский переулок                              1\n",
       "Уржумская улица                                 1\n",
       "Уваровский переулок                             1\n",
       "Тургеневская площадь                            1\n",
       "Троилинский переулок                            1\n",
       "Триумфальная площадь                            1\n",
       "Тихвинский переулок                             1\n",
       "Тихая улица                                     1\n",
       "Тимирязевский проезд                            1\n",
       "Тетеринский переулок                            1\n",
       "Тестовская улица                                1\n",
       "Тессинский переулок                             1\n",
       "Тенистый проезд                                 1\n",
       "Театральная аллея                               1\n",
       "Таёжная улица                                   1\n",
       "Тарханская улица                                1\n",
       "Тарусская улица                                 1\n",
       "Таможенный проезд                               1\n",
       "Таганрогская улица                              1\n",
       "Стрельбищенский переулок                        1\n",
       "Стрелецкая улица                                1\n",
       "Столовый переулок                               1\n",
       "Старослободская улица                           1\n",
       "Ростокинская улица                              1\n",
       "Пыжёвский переулок                              1\n",
       "Пяловская улица                                 1\n",
       "Новохорошёвский проезд                          1\n",
       "Новорублёвская улица                            1\n",
       "Новорижское шоссе                               1\n",
       "Новопресненский переулок                        1\n",
       "Новопоселковая улица                            1\n",
       "Новоостаповская улица                           1\n",
       "Новолучанская улица                             1\n",
       "Нововладыкинский проезд                         1\n",
       "Новобутовский проезд                            1\n",
       "Никитский переулок                              1\n",
       "Нижний Кисельный переулок                       1\n",
       "Нижний Журавлёв переулок                        1\n",
       "Несвижский переулок                             1\n",
       "Неманский проезд                                1\n",
       "Нелидовская улица                               1\n",
       "Научный проезд                                  1\n",
       "Народный проспект                               1\n",
       "Наро-Фоминская улица                            1\n",
       "Нарвская улица                                  1\n",
       "Напрудный переулок                              1\n",
       "Нагорный бульвар                                1\n",
       "Нагатинский бульвар                             1\n",
       "Мрузовский переулок                             1\n",
       "Молодёжная улица                                1\n",
       "Мишина улица                                    1\n",
       "Миусская площадь                                1\n",
       "Мирской переулок                                1\n",
       "Минаевский переулок                             1\n",
       "Миллионная улица                                1\n",
       "Мерзляковский переулок                          1\n",
       "Новосибирская улица                             1\n",
       "Норильская улица                                1\n",
       "Фруктовая улица                                 1\n",
       "Олонецкий проезд                                1\n",
       "Пулковская улица                                1\n",
       "Пуговишников переулок                           1\n",
       "Проточный переулок                              1\n",
       "Производственная улица                          1\n",
       "Причальный проезд                               1\n",
       "Прибрежный проезд                               1\n",
       "Посланников переулок                            1\n",
       "Поречная улица                                  1\n",
       "Попов проезд                                    1\n",
       "Полтавская улица                                1\n",
       "Полоцкая улица                                  1\n",
       "Пожарский переулок                              1\n",
       "Подсосенский переулок                           1\n",
       "Подольская улица                                1\n",
       "Плетешковский переулок                          1\n",
       "Платовская улица                                1\n",
       "Печорская улица                                 1\n",
       "Петровско-Разумовская аллея                     1\n",
       "Петроверигский переулок                         1\n",
       "Песчаный переулок                               1\n",
       "Песчаная улица                                  1\n",
       "Пестовский переулок                             1\n",
       "Перовский проезд                                1\n",
       "Пенягинская улица                               1\n",
       "Педагогическая улица                            1\n",
       "Парусный проезд                                 1\n",
       "Отрадный проезд                                 1\n",
       "Орехово-Зуевский проезд                         1\n",
       "Оренбургская улица                              1\n",
       "Фролов переулок                                 1\n",
       "Хвалынский бульвар                              1\n",
       "Хавская улица                                   1\n",
       "улица Николаева                                 1\n",
       "улица Недорубова                                1\n",
       "улица Можайский Вал                             1\n",
       "улица Медведева                                 1\n",
       "улица Маршала Новикова                          1\n",
       "улица Маршала Мерецкова                         1\n",
       "улица Малая Ордынка                             1\n",
       "улица Максимова                                 1\n",
       "улица Линии Октябрьской Железной Дороги         1\n",
       "улица Лефортовский Вал                          1\n",
       "улица Лестева                                   1\n",
       "улица Лапина                                    1\n",
       "улица Кухмистерова                              1\n",
       "улица Кутузова                                  1\n",
       "улица Кубинка                                   1\n",
       "улица Крутицкий Вал                             1\n",
       "улица Красных Зорь                              1\n",
       "улица Красная Сосна                             1\n",
       "улица Кошкина                                   1\n",
       "улица Константинова                             1\n",
       "улица Клочкова                                  1\n",
       "улица Капотня                                   1\n",
       "улица Инессы Арманд                             1\n",
       "улица Знаменские Садки                          1\n",
       "улица Зенитчиков                                1\n",
       "улица Жуковского                                1\n",
       "улица Жебрунова                                 1\n",
       "улица Екатерины Будановой                       1\n",
       "улица Дубки                                     1\n",
       "улица Достоевского                              1\n",
       "улица Немчинова                                 1\n",
       "улица Новая Дорога                              1\n",
       "Машкинское шоссе                                1\n",
       "улица Павла Андреева                            1\n",
       "улица Щорса                                     1\n",
       "улица Шумкина                                   1\n",
       "улица Шумилова                                  1\n",
       "улица Шеногина                                  1\n",
       "улица Фонвизина                                 1\n",
       "улица Фадеева                                   1\n",
       "улица Уткина                                    1\n",
       "улица Степана Шутова                            1\n",
       "улица Старые Кузьминки                          1\n",
       "улица Советской Армии                           1\n",
       "улица Саморы Машела                             1\n",
       "улица Саляма Адиля                              1\n",
       "улица Сайкина                                   1\n",
       "улица Савельева                                 1\n",
       "улица Рудневой                                  1\n",
       "улица Ротерта                                   1\n",
       "улица Рословка                                  1\n",
       "улица Рокотова                                  1\n",
       "улица Рогожский Посёлок                         1\n",
       "улица Рогова                                    1\n",
       "улица Ремизова                                  1\n",
       "улица Ращупкина                                 1\n",
       "улица Расплетина                                1\n",
       "улица Раевского                                 1\n",
       "улица Пржевальского                             1\n",
       "улица Полины Осипенко                           1\n",
       "улица Подвойского                               1\n",
       "улица Пивченкова                                1\n",
       "улица Паперника                                 1\n",
       "улица Демьяна Бедного                           1\n",
       "улица Девятая Рота                              1\n",
       "улица Гончарова                                 1\n",
       "улица Генерала Ермолова                         1\n",
       "переулок Васнецова                              1\n",
       "бульвар Матроса Железняка                       1\n",
       "аллея Жемчуговой                                1\n",
       "Яхромская улица                                 1\n",
       "Яузский бульвар                                 1\n",
       "Ясногорская улица                               1\n",
       "Янтарный проезд                                 1\n",
       "Ялтинская улица                                 1\n",
       "Якиманский переулок                             1\n",
       "Юрловский проезд                                1\n",
       "Электрический переулок                          1\n",
       "Щёлковский проезд                               1\n",
       "Шубинский переулок                              1\n",
       "Штурвальная улица                               1\n",
       "Шепелюгинская улица                             1\n",
       "Чуксин тупик                                    1\n",
       "Чукотский проезд                                1\n",
       "Черноморский бульвар                            1\n",
       "Черницынский проезд                             1\n",
       "Черниговский переулок                           1\n",
       "Чермянский проезд                               1\n",
       "Чермянская улица                                1\n",
       "Челюскинская улица                              1\n",
       "Хохловский переулок                             1\n",
       "Хованская улица                                 1\n",
       "Хлыновский тупик                                1\n",
       "Хлебный переулок                                1\n",
       "Хитровский переулок                             1\n",
       "Хилков переулок                                 1\n",
       "переулок Красина                                1\n",
       "переулок Маяковского                            1\n",
       "переулок Расковой                               1\n",
       "улица Академика Понтрягина                      1\n",
       "улица Гамалеи                                   1\n",
       "улица Высоцкого                                 1\n",
       "улица Васильцовский Стан                        1\n",
       "улица Брусилова                                 1\n",
       "улица Бориса Жигулёнкова                        1\n",
       "улица Богородский Вал                           1\n",
       "улица Богданова                                 1\n",
       "улица Благуша                                   1\n",
       "улица Атарбекова                                1\n",
       "улица Артюхиной                                 1\n",
       "улица Анатолия Живова                           1\n",
       "улица Алексея Дикого                            1\n",
       "улица Академика Семёнова                        1\n",
       "улица Академика Петровского                     1\n",
       "переулок Хользунова                             1\n",
       "улица Академика Павлова                         1\n",
       "улица Академика Опарина                         1\n",
       "улица Академика Арцимовича                      1\n",
       "улица Айвазовского                              1\n",
       "улица Авиаконструктора Микояна                  1\n",
       "улица 9 Мая                                     1\n",
       "проспект 40 лет Октября                         1\n",
       "проектируемый проезд № 1980                     1\n",
       "проезд Черепановых                              1\n",
       "проезд Досфлота                                 1\n",
       "проезд Добролюбова                              1\n",
       "поселение Филимонковское                        1\n",
       "площадь Журавлёва                               1\n",
       "Международная улица                             1\n",
       "1-й Балтийский переулок                         1\n",
       "1-й Басманный переулок                          1\n",
       "3-я Железногорская улица                        1\n",
       "5-й проезд Марьиной Рощи                        1\n",
       "5-й Рощинский проезд                            1\n",
       "5-й Монетчиковский переулок                     1\n",
       "5-й Котельнический переулок                     1\n",
       "4-я Кабельная улица                             1\n",
       "4-й Рощинский проезд                            1\n",
       "4-й Кожевнический переулок                      1\n",
       "4-й Вятский переулок                            1\n",
       "4-й Вешняковский проезд                         1\n",
       "3-я Черепковская улица                          1\n",
       "3-я Северная линия                              1\n",
       "3-я Подрезковская улица                         1\n",
       "3-я Песчаная улица                              1\n",
       "3-я Новоостанкинская улица                      1\n",
       "3-й проезд Подбельского                         1\n",
       "Мариупольская улица                             1\n",
       "3-й Угрешский проезд                            1\n",
       "3-й Стрелецкий проезд                           1\n",
       "3-й Павловский переулок                         1\n",
       "3-й Лихачёвский переулок                        1\n",
       "3-й Кожуховский проезд                          1\n",
       "3-й Кадашёвский переулок                        1\n",
       "3-й Дорожный проезд                             1\n",
       "2-я улица Энтузиастов                           1\n",
       "2-я улица Марьиной Рощи                         1\n",
       "2-я улица Бухвостова                            1\n",
       "2-я Ямская улица                                1\n",
       "2-я Филёвская улица                             1\n",
       "2-я Сокольническая улица                        1\n",
       "2-я Прядильная улица                            1\n",
       "5-й проезд Подбельского                         1\n",
       "6-я Кожуховская улица                           1\n",
       "6-я улица Лазенки                               1\n",
       "6-я улица Новые Сады                            1\n",
       "Богоявленский переулок                          1\n",
       "Библиотечная улица                              1\n",
       "Бескудниковский проезд                          1\n",
       "Бескудниковский переулок                        1\n",
       "Берниковская набережная                         1\n",
       "Басовская улица                                 1\n",
       "Барабанный переулок                             1\n",
       "Банный проезд                                   1\n",
       "Балтийская улица                                1\n",
       "Базовая улица                                   1\n",
       "Бабаевская улица                                1\n",
       "Аэрофлотская улица                              1\n",
       "Аэродромная улица                               1\n",
       "Ащеулов переулок                                1\n",
       "Астрадамский проезд                             1\n",
       "Архангельский переулок                          1\n",
       "Армавирская улица                               1\n",
       "Анненский проезд                                1\n",
       "Анненская улица                                 1\n",
       "Андроньевская площадь                           1\n",
       "Андреево-Забелинская улица                      1\n",
       "Алымов переулок                                 1\n",
       "Автомобильный проезд                            1\n",
       "Авиационный переулок                            1\n",
       "8-я улица Соколиной Горы                        1\n",
       "8-й проезд Марьиной Рощи                        1\n",
       "7-я улица Лазенки                               1\n",
       "7-я Северная линия                              1\n",
       "7-й Ростовский переулок                         1\n",
       "2-я Напрудная улица                             1\n",
       "2-я Квесисская улица                            1\n",
       "2-я Дубровская улица                            1\n",
       "1-я Пугачёвская улица                           1\n",
       "1-я Миусская улица                              1\n",
       "1-я Карачаровская улица                         1\n",
       "1-я Гражданская улица                           1\n",
       "1-я Боевская улица                              1\n",
       "1-я Аэропортовская улица                        1\n",
       "1-й проезд Марьиной Рощи                        1\n",
       "1-й Тушинский проезд                            1\n",
       "1-й Спасоналивковский переулок                  1\n",
       "1-й Сетуньский проезд                           1\n",
       "1-й Сельскохозяйственный проезд                 1\n",
       "1-й Саратовский проезд                          1\n",
       "1-й Рижский переулок                            1\n",
       "1-й Обыденский переулок                         1\n",
       "1-й Новокузнецкий переулок                      1\n",
       "1-й Николощеповский переулок                    1\n",
       "1-й Монетчиковский переулок                     1\n",
       "1-й Магистральный тупик                         1\n",
       "1-й Люсиновский переулок                        1\n",
       "1-й Курьяновский проезд                         1\n",
       "1-й Краснокурсантский проезд                    1\n",
       "1-й Котельнический переулок                     1\n",
       "1-й Коптельский переулок                        1\n",
       "1-й Кожуховский проезд                          1\n",
       "1-й Кожевнический переулок                      1\n",
       "1-й Кирпичный переулок                          1\n",
       "1-й Зачатьевский переулок                       1\n",
       "1-й Голутвинский переулок                       1\n",
       "1-й Вешняковский проезд                         1\n",
       "1-й Ботанический проезд                         1\n",
       "1-я Напрудная улица                             1\n",
       "1-я Чоботовская аллея                           1\n",
       "2-я Гражданская улица                           1\n",
       "1-я линия Хорошёвского Серебряного Бора         1\n",
       "2-й Щемиловский переулок                        1\n",
       "2-й Хуторской переулок                          1\n",
       "2-й Стрелецкий проезд                           1\n",
       "2-й Сетуньский проезд                           1\n",
       "2-й Сельскохозяйственный проезд                 1\n",
       "2-й Рощинский проезд                            1\n",
       "2-й Полевой переулок                            1\n",
       "2-й Обыденский переулок                         1\n",
       "2-й Новоподмосковный переулок                   1\n",
       "2-й Новокузнецкий переулок                      1\n",
       "2-й Неопалимовский переулок                     1\n",
       "2-й Магистральный тупик                         1\n",
       "2-й Курьяновский проезд                         1\n",
       "2-й Красносельский переулок                     1\n",
       "2-й Колобовский переулок                        1\n",
       "2-й Кожуховский проезд                          1\n",
       "2-й Кожевнический переулок                      1\n",
       "2-й Кадашёвский переулок                        1\n",
       "2-й Кабельный проезд                            1\n",
       "2-й Иртышский проезд                            1\n",
       "2-й Вышеславцев переулок                        1\n",
       "2-й Войковский проезд                           1\n",
       "2-й Верхний Михайловский проезд                 1\n",
       "2-й Боткинский проезд                           1\n",
       "2-й Балтийский переулок                         1\n",
       "17-й проезд Марьиной Рощи                       1\n",
       "14-я Парковая улица                             1\n",
       "12-й проезд Марьиной Рощи                       1\n",
       "11-я Парковая улица                             1\n",
       "Больничный переулок                             1\n",
       "Большая Бутовская улица                         1\n",
       "Большая Внуковская улица                        1\n",
       "Лениногорская улица                             1\n",
       "Кучин переулок                                  1\n",
       "Курганская улица                                1\n",
       "Кунцевская улица                                1\n",
       "Кулаков переулок                                1\n",
       "Кузьминская улица                               1\n",
       "Кривоарбатский переулок                         1\n",
       "Кремлёвская набережная                          1\n",
       "Красностуденческий проезд                       1\n",
       "Красноказарменный проезд                        1\n",
       "Красногвардейский бульвар                       1\n",
       "Костомаровская набережная                       1\n",
       "Коптевский бульвар                              1\n",
       "Кооперативная улица                             1\n",
       "Кондрашёвский тупик                             1\n",
       "Конаковский проезд                              1\n",
       "Композиторская улица                            1\n",
       "Козицкий переулок                               1\n",
       "Кожевнический проезд                            1\n",
       "Ковров переулок                                 1\n",
       "Кирпичная улица                                 1\n",
       "Каскадная улица                                 1\n",
       "Карельский бульвар                              1\n",
       "Каргопольская улица                             1\n",
       "Канатчиковский проезд                           1\n",
       "Калошин переулок                                1\n",
       "Калибровская улица                              1\n",
       "Интернациональная улица                         1\n",
       "Институтский переулок                           1\n",
       "Икшинская улица                                 1\n",
       "Ландышевая улица                                1\n",
       "Лефортовский переулок                           1\n",
       "Известковый переулок                            1\n",
       "Лечебная улица                                  1\n",
       "Мансуровский переулок                           1\n",
       "Мамоновский переулок                            1\n",
       "Малый Толмачёвский переулок                     1\n",
       "Малый Татарский переулок                        1\n",
       "Малый Саввинский переулок                       1\n",
       "Малый Путинковский переулок                     1\n",
       "Малый Полуярославский переулок                  1\n",
       "Малый Николопесковский переулок                 1\n",
       "Малый Лёвшинский переулок                       1\n",
       "Малый Коптевский проезд                         1\n",
       "Малый Конюшковский переулок                     1\n",
       "Малый Каретный переулок                         1\n",
       "Малый Казённый переулок                         1\n",
       "Малый Ивановский переулок                       1\n",
       "Малый Знаменский переулок                       1\n",
       "Малый Златоустинский переулок                   1\n",
       "Малый Власьевский переулок                      1\n",
       "Малая Тульская улица                            1\n",
       "Малая Переяславская улица                       1\n",
       "Малая Ботаническая улица                        1\n",
       "Малая Андроньевская улица                       1\n",
       "Мажоров переулок                                1\n",
       "Магаданская улица                               1\n",
       "Лыщиков переулок                                1\n",
       "Лужнецкий проезд                                1\n",
       "Лосевская улица                                 1\n",
       "Лонгиновская улица                              1\n",
       "Линейный проезд                                 1\n",
       "Лианозовский проезд                             1\n",
       "Измайловская площадь                            1\n",
       "Изваринская улица                               1\n",
       "Большая Ширяевская улица                        1\n",
       "Вяземская улица                                 1\n",
       "Врачебный проезд                                1\n",
       "Воротниковский переулок                         1\n",
       "Волоцкой переулок                               1\n",
       "Винницкая улица                                 1\n",
       "Верхняя улица                                   1\n",
       "Верхний Золоторожский переулок                  1\n",
       "Вербная улица                                   1\n",
       "Вековая улица                                   1\n",
       "Варсонофьевский переулок                        1\n",
       "Вагоноремонтная улица                           1\n",
       "Бутиковский переулок                            1\n",
       "Будайский проезд                                1\n",
       "Будайская улица                                 1\n",
       "Брошевский переулок                             1\n",
       "Бродников переулок                              1\n",
       "Ботанический переулок                           1\n",
       "Боровский проезд                                1\n",
       "Боровая улица                                   1\n",
       "Большой Трёхсвятительский переулок              1\n",
       "Большой Строченовский переулок                  1\n",
       "Большой Симоновский переулок                    1\n",
       "Большой Предтеченский переулок                  1\n",
       "Большой Полуярославский переулок                1\n",
       "Большой Николопесковский переулок               1\n",
       "Большой Кисельный переулок                      1\n",
       "Большой Казённый переулок                       1\n",
       "Большой Знаменский переулок                     1\n",
       "Большой Афанасьевский переулок                  1\n",
       "Большая Юшуньская улица                         1\n",
       "Выползов переулок                               1\n",
       "Газгольдерная улица                             1\n",
       "Ижорский проезд                                 1\n",
       "Гаражная улица                                  1\n",
       "Иваньковское шоссе                              1\n",
       "Зубарев переулок                                1\n",
       "Звонарский переулок                             1\n",
       "Зарайская улица                                 1\n",
       "Заводской проезд                                1\n",
       "Жуков проезд                                    1\n",
       "Живарев переулок                                1\n",
       "Есенинский бульвар                              1\n",
       "Елоховский проезд                               1\n",
       "Егорьевский проезд                              1\n",
       "Докучаев переулок                               1\n",
       "Добровольческая улица                           1\n",
       "Дмитровский переулок                            1\n",
       "Дивизионная улица                               1\n",
       "Джанкойская улица                               1\n",
       "Денежный переулок                               1\n",
       "Делегатская улица                               1\n",
       "Дегтярный переулок                              1\n",
       "Гродненская улица                               1\n",
       "Гранатный переулок                              1\n",
       "Госпитальный переулок                           1\n",
       "Гольяновская улица                              1\n",
       "Глинищевский переулок                           1\n",
       "Глинистый переулок                              1\n",
       "Глебовская улица                                1\n",
       "Глазовский переулок                             1\n",
       "Гжельский переулок                              1\n",
       "Гжатская улица                                  1\n",
       "Гвардейская улица                               1\n",
       "шоссе Фрезер                                    1"
      ]
     },
     "execution_count": 56,
     "metadata": {},
     "output_type": "execute_result"
    }
   ],
   "source": [
    "top_one_streets.groupby('street').count().sort_values(by = 'district', ascending = False)"
   ]
  },
  {
   "cell_type": "code",
   "execution_count": 57,
   "id": "7292f463",
   "metadata": {},
   "outputs": [
    {
     "data": {
      "text/plain": [
       "534"
      ]
     },
     "execution_count": 57,
     "metadata": {},
     "output_type": "execute_result"
    }
   ],
   "source": [
    "len(top_one_streets)"
   ]
  },
  {
   "cell_type": "code",
   "execution_count": 58,
   "id": "c41f624b",
   "metadata": {},
   "outputs": [
    {
     "name": "stdout",
     "output_type": "stream",
     "text": [
      "Доля объектов на улицых с одним объектом общественного питания:4%\n"
     ]
    }
   ],
   "source": [
    "ay = streets_one['id'].sum()/data_sum['id'].sum()\n",
    "print(f'Доля объектов на улицых с одним объектом общественного питания:{ay:.0%}')"
   ]
  },
  {
   "cell_type": "markdown",
   "id": "c9cc7b65",
   "metadata": {},
   "source": [
    "##### * Вывод  <a id = \"analyz8\"></a>\n",
    "Всего:15366 заведений \n",
    "Топ самых распространенных заведений: \n",
    "кафе (42%)\n",
    "столовая (18,7%)\n",
    "ресторан (16%)\n",
    "заведения до 50 мест - 50%\n",
    "заведения от 50 до 500 мест - 38%\n",
    "\n",
    "Стоит рассмотреть возможность открыть:\n",
    "* кафе \n",
    "* до 50 мест \n",
    "* что касается района, то: в топ-10 улицы чаще длинные (находятся в нескольких районах), а улицы из списка с одним заведением короткие(находятся максимум в двух районах) - возможно,  улицы из топ-10 на самом деле не популярнее улиц с заведениями-одиночками, а просто длиннее, и за счет этого суммарное количество заведений набирается бОльшим, хотя если рассматривать плотность заведений на этих улицах, она может оказаться небольшой. Для выбора района лучше провести дополнительно более глубокое исследование (например, с анализом местоположения по районам, учитывая координаты, с учетом плотности расположения заведений на карте, близости от метро и т.д.).\n",
    "\n",
    "На рынке значительно преобладают несетевые точки питания, потому лучше начать с открытия одного не сетевого заведения. На нем можно будет “обкатать” бизнес и затем уже рассмотреть возможность превращения бизнеса в сеть.\n",
    "\n",
    "\n",
    "\n"
   ]
  },
  {
   "cell_type": "markdown",
   "id": "16da28d2",
   "metadata": {},
   "source": [
    "#### 4. Презентация : <a id = \"preza\"></a>  https://drive.google.com/file/d/1fyfckS_S2sEvRXYF96Xa-XifIPNzwYXj/view?usp=sharing\n"
   ]
  }
 ],
 "metadata": {
  "ExecuteTimeLog": [
   {
    "duration": 1406,
    "start_time": "2022-08-18T19:03:51.538Z"
   },
   {
    "duration": 0,
    "start_time": "2022-08-18T19:03:52.948Z"
   },
   {
    "duration": 0,
    "start_time": "2022-08-18T19:03:52.950Z"
   },
   {
    "duration": 0,
    "start_time": "2022-08-18T19:03:52.951Z"
   },
   {
    "duration": 0,
    "start_time": "2022-08-18T19:03:52.953Z"
   },
   {
    "duration": 0,
    "start_time": "2022-08-18T19:03:52.968Z"
   },
   {
    "duration": 0,
    "start_time": "2022-08-18T19:03:52.969Z"
   },
   {
    "duration": 0,
    "start_time": "2022-08-18T19:03:52.971Z"
   },
   {
    "duration": 0,
    "start_time": "2022-08-18T19:03:52.972Z"
   },
   {
    "duration": 0,
    "start_time": "2022-08-18T19:03:52.974Z"
   },
   {
    "duration": 0,
    "start_time": "2022-08-18T19:03:52.975Z"
   },
   {
    "duration": 0,
    "start_time": "2022-08-18T19:03:52.977Z"
   },
   {
    "duration": 0,
    "start_time": "2022-08-18T19:03:52.978Z"
   },
   {
    "duration": 0,
    "start_time": "2022-08-18T19:03:52.980Z"
   },
   {
    "duration": 0,
    "start_time": "2022-08-18T19:03:52.981Z"
   },
   {
    "duration": 0,
    "start_time": "2022-08-18T19:03:52.982Z"
   },
   {
    "duration": 0,
    "start_time": "2022-08-18T19:03:52.984Z"
   },
   {
    "duration": 0,
    "start_time": "2022-08-18T19:03:52.985Z"
   },
   {
    "duration": 0,
    "start_time": "2022-08-18T19:03:52.986Z"
   },
   {
    "duration": 0,
    "start_time": "2022-08-18T19:03:52.988Z"
   },
   {
    "duration": 0,
    "start_time": "2022-08-18T19:03:52.989Z"
   },
   {
    "duration": 0,
    "start_time": "2022-08-18T19:03:52.991Z"
   },
   {
    "duration": 0,
    "start_time": "2022-08-18T19:03:52.992Z"
   },
   {
    "duration": 0,
    "start_time": "2022-08-18T19:03:52.994Z"
   },
   {
    "duration": 0,
    "start_time": "2022-08-18T19:03:52.995Z"
   },
   {
    "duration": 0,
    "start_time": "2022-08-18T19:03:52.996Z"
   },
   {
    "duration": 0,
    "start_time": "2022-08-18T19:03:52.997Z"
   },
   {
    "duration": 0,
    "start_time": "2022-08-18T19:03:52.998Z"
   },
   {
    "duration": 0,
    "start_time": "2022-08-18T19:03:52.999Z"
   },
   {
    "duration": 0,
    "start_time": "2022-08-18T19:03:53.000Z"
   },
   {
    "duration": 0,
    "start_time": "2022-08-18T19:03:53.001Z"
   },
   {
    "duration": 0,
    "start_time": "2022-08-18T19:03:53.002Z"
   },
   {
    "duration": 0,
    "start_time": "2022-08-18T19:03:53.003Z"
   },
   {
    "duration": 0,
    "start_time": "2022-08-18T19:03:53.004Z"
   },
   {
    "duration": 0,
    "start_time": "2022-08-18T19:03:53.005Z"
   },
   {
    "duration": 0,
    "start_time": "2022-08-18T19:03:53.068Z"
   },
   {
    "duration": 0,
    "start_time": "2022-08-18T19:03:53.069Z"
   },
   {
    "duration": 0,
    "start_time": "2022-08-18T19:03:53.070Z"
   },
   {
    "duration": 1,
    "start_time": "2022-08-18T19:03:53.071Z"
   },
   {
    "duration": 0,
    "start_time": "2022-08-18T19:03:53.072Z"
   },
   {
    "duration": 0,
    "start_time": "2022-08-18T19:03:53.074Z"
   },
   {
    "duration": 0,
    "start_time": "2022-08-18T19:03:53.074Z"
   },
   {
    "duration": 0,
    "start_time": "2022-08-18T19:03:53.075Z"
   },
   {
    "duration": 0,
    "start_time": "2022-08-18T19:03:53.076Z"
   },
   {
    "duration": 0,
    "start_time": "2022-08-18T19:03:53.077Z"
   },
   {
    "duration": 0,
    "start_time": "2022-08-18T19:03:53.078Z"
   },
   {
    "duration": 0,
    "start_time": "2022-08-18T19:03:53.080Z"
   },
   {
    "duration": 0,
    "start_time": "2022-08-18T19:03:53.081Z"
   },
   {
    "duration": 0,
    "start_time": "2022-08-18T19:03:53.081Z"
   },
   {
    "duration": 166,
    "start_time": "2022-08-18T19:04:09.895Z"
   },
   {
    "duration": 18,
    "start_time": "2022-08-18T19:04:10.684Z"
   },
   {
    "duration": 14,
    "start_time": "2022-08-18T19:04:11.272Z"
   },
   {
    "duration": 7,
    "start_time": "2022-08-18T19:04:11.722Z"
   },
   {
    "duration": 6,
    "start_time": "2022-08-18T19:04:12.158Z"
   },
   {
    "duration": 19,
    "start_time": "2022-08-18T19:04:13.562Z"
   },
   {
    "duration": 142,
    "start_time": "2022-08-18T19:04:15.266Z"
   },
   {
    "duration": 14,
    "start_time": "2022-08-18T19:04:15.574Z"
   },
   {
    "duration": 3,
    "start_time": "2022-08-18T19:04:15.938Z"
   },
   {
    "duration": 7,
    "start_time": "2022-08-18T19:04:16.234Z"
   },
   {
    "duration": 7,
    "start_time": "2022-08-18T19:04:17.194Z"
   },
   {
    "duration": 16,
    "start_time": "2022-08-18T19:04:17.576Z"
   },
   {
    "duration": 8,
    "start_time": "2022-08-18T19:04:18.301Z"
   },
   {
    "duration": 8,
    "start_time": "2022-08-18T19:04:18.670Z"
   },
   {
    "duration": 6,
    "start_time": "2022-08-18T19:04:18.998Z"
   },
   {
    "duration": 248,
    "start_time": "2022-08-18T19:04:20.276Z"
   },
   {
    "duration": 234,
    "start_time": "2022-08-18T19:04:21.185Z"
   },
   {
    "duration": 168,
    "start_time": "2022-08-18T19:04:22.242Z"
   },
   {
    "duration": 20,
    "start_time": "2022-08-18T19:04:24.062Z"
   },
   {
    "duration": 194,
    "start_time": "2022-08-18T19:04:24.777Z"
   },
   {
    "duration": 19,
    "start_time": "2022-08-18T19:04:25.846Z"
   },
   {
    "duration": 181,
    "start_time": "2022-08-18T19:04:26.181Z"
   },
   {
    "duration": 18,
    "start_time": "2022-08-18T19:04:26.884Z"
   },
   {
    "duration": 272,
    "start_time": "2022-08-18T19:04:27.238Z"
   },
   {
    "duration": 14,
    "start_time": "2022-08-18T19:04:27.889Z"
   },
   {
    "duration": 164,
    "start_time": "2022-08-18T19:04:28.275Z"
   },
   {
    "duration": 26,
    "start_time": "2022-08-18T19:04:29.594Z"
   },
   {
    "duration": 135,
    "start_time": "2022-08-18T19:04:29.934Z"
   },
   {
    "duration": 20,
    "start_time": "2022-08-18T19:04:31.085Z"
   },
   {
    "duration": 190,
    "start_time": "2022-08-18T19:04:31.396Z"
   },
   {
    "duration": 7,
    "start_time": "2022-08-18T19:04:31.966Z"
   },
   {
    "duration": 7,
    "start_time": "2022-08-18T19:04:32.538Z"
   },
   {
    "duration": 6,
    "start_time": "2022-08-18T19:04:32.766Z"
   },
   {
    "duration": 7,
    "start_time": "2022-08-18T19:04:33.038Z"
   },
   {
    "duration": 7,
    "start_time": "2022-08-18T19:04:33.346Z"
   },
   {
    "duration": 6,
    "start_time": "2022-08-18T19:04:33.641Z"
   },
   {
    "duration": 12,
    "start_time": "2022-08-18T19:04:35.096Z"
   },
   {
    "duration": 209,
    "start_time": "2022-08-18T19:04:35.434Z"
   },
   {
    "duration": 12,
    "start_time": "2022-08-18T19:04:36.430Z"
   },
   {
    "duration": 12,
    "start_time": "2022-08-18T19:04:37.088Z"
   },
   {
    "duration": 11,
    "start_time": "2022-08-18T19:04:37.697Z"
   },
   {
    "duration": 210,
    "start_time": "2022-08-18T19:04:38.566Z"
   },
   {
    "duration": 16,
    "start_time": "2022-08-18T19:04:39.178Z"
   },
   {
    "duration": 2319,
    "start_time": "2022-08-18T19:04:39.446Z"
   },
   {
    "duration": 17,
    "start_time": "2022-08-18T19:04:41.767Z"
   },
   {
    "duration": 17,
    "start_time": "2022-08-18T19:04:41.786Z"
   },
   {
    "duration": 20,
    "start_time": "2022-08-18T19:04:41.805Z"
   },
   {
    "duration": 4,
    "start_time": "2022-08-18T19:04:41.827Z"
   },
   {
    "duration": 1502,
    "start_time": "2022-08-19T04:48:27.823Z"
   },
   {
    "duration": 290,
    "start_time": "2022-08-19T04:48:36.954Z"
   },
   {
    "duration": 107,
    "start_time": "2022-08-19T05:40:53.031Z"
   },
   {
    "duration": 10,
    "start_time": "2022-08-19T05:41:04.626Z"
   },
   {
    "duration": 9,
    "start_time": "2022-08-19T05:42:20.867Z"
   },
   {
    "duration": 8,
    "start_time": "2022-08-19T05:42:29.083Z"
   },
   {
    "duration": 8,
    "start_time": "2022-08-19T05:42:35.038Z"
   },
   {
    "duration": 13,
    "start_time": "2022-08-19T05:43:06.343Z"
   },
   {
    "duration": 8,
    "start_time": "2022-08-19T05:43:18.550Z"
   },
   {
    "duration": 13,
    "start_time": "2022-08-19T05:43:22.525Z"
   },
   {
    "duration": 10,
    "start_time": "2022-08-19T05:43:35.991Z"
   },
   {
    "duration": 11,
    "start_time": "2022-08-19T05:43:41.873Z"
   },
   {
    "duration": 13,
    "start_time": "2022-08-19T05:45:09.776Z"
   },
   {
    "duration": 11,
    "start_time": "2022-08-19T05:45:53.481Z"
   },
   {
    "duration": 13,
    "start_time": "2022-08-19T05:46:59.226Z"
   },
   {
    "duration": 69,
    "start_time": "2022-08-19T05:47:16.554Z"
   },
   {
    "duration": 12,
    "start_time": "2022-08-19T05:47:28.968Z"
   },
   {
    "duration": 21,
    "start_time": "2022-08-19T05:49:59.793Z"
   },
   {
    "duration": 20,
    "start_time": "2022-08-19T05:50:51.275Z"
   },
   {
    "duration": 18,
    "start_time": "2022-08-19T05:51:07.961Z"
   },
   {
    "duration": 58,
    "start_time": "2022-08-19T05:51:54.260Z"
   },
   {
    "duration": 15,
    "start_time": "2022-08-19T05:53:10.418Z"
   },
   {
    "duration": 17,
    "start_time": "2022-08-19T05:53:49.464Z"
   },
   {
    "duration": 108,
    "start_time": "2022-08-19T05:55:17.283Z"
   },
   {
    "duration": 15,
    "start_time": "2022-08-19T05:55:44.037Z"
   },
   {
    "duration": 17,
    "start_time": "2022-08-19T05:55:54.852Z"
   },
   {
    "duration": 16,
    "start_time": "2022-08-19T05:56:06.577Z"
   },
   {
    "duration": 16,
    "start_time": "2022-08-19T05:56:18.266Z"
   },
   {
    "duration": 88,
    "start_time": "2022-08-19T05:56:47.363Z"
   },
   {
    "duration": 18,
    "start_time": "2022-08-19T05:56:58.978Z"
   },
   {
    "duration": 14,
    "start_time": "2022-08-19T05:57:09.511Z"
   },
   {
    "duration": 14,
    "start_time": "2022-08-19T05:57:29.629Z"
   },
   {
    "duration": 15,
    "start_time": "2022-08-19T05:59:54.047Z"
   },
   {
    "duration": 18,
    "start_time": "2022-08-19T06:01:01.717Z"
   },
   {
    "duration": 13,
    "start_time": "2022-08-19T06:01:10.322Z"
   },
   {
    "duration": 14,
    "start_time": "2022-08-19T06:01:31.528Z"
   },
   {
    "duration": 13,
    "start_time": "2022-08-19T06:01:42.482Z"
   },
   {
    "duration": 21,
    "start_time": "2022-08-19T06:02:10.263Z"
   },
   {
    "duration": 13,
    "start_time": "2022-08-19T06:06:23.428Z"
   },
   {
    "duration": 20,
    "start_time": "2022-08-19T06:06:32.533Z"
   },
   {
    "duration": 20,
    "start_time": "2022-08-19T06:10:42.718Z"
   },
   {
    "duration": 22,
    "start_time": "2022-08-19T06:11:41.636Z"
   },
   {
    "duration": 19,
    "start_time": "2022-08-19T06:12:00.910Z"
   },
   {
    "duration": 9,
    "start_time": "2022-08-19T06:48:03.079Z"
   },
   {
    "duration": 1279,
    "start_time": "2022-08-19T06:48:30.171Z"
   },
   {
    "duration": 115,
    "start_time": "2022-08-19T06:48:31.453Z"
   },
   {
    "duration": 14,
    "start_time": "2022-08-19T06:48:31.569Z"
   },
   {
    "duration": 31,
    "start_time": "2022-08-19T06:48:31.585Z"
   },
   {
    "duration": 11,
    "start_time": "2022-08-19T06:48:31.626Z"
   },
   {
    "duration": 6,
    "start_time": "2022-08-19T06:48:31.639Z"
   },
   {
    "duration": 19,
    "start_time": "2022-08-19T06:48:31.647Z"
   },
   {
    "duration": 20,
    "start_time": "2022-08-19T06:48:31.668Z"
   },
   {
    "duration": 46,
    "start_time": "2022-08-19T06:48:31.690Z"
   },
   {
    "duration": 12,
    "start_time": "2022-08-19T06:48:31.738Z"
   },
   {
    "duration": 133,
    "start_time": "2022-08-19T06:48:31.752Z"
   },
   {
    "duration": 10,
    "start_time": "2022-08-19T06:48:31.886Z"
   },
   {
    "duration": 28,
    "start_time": "2022-08-19T06:48:31.897Z"
   },
   {
    "duration": 12,
    "start_time": "2022-08-19T06:48:31.926Z"
   },
   {
    "duration": 14,
    "start_time": "2022-08-19T06:48:31.940Z"
   },
   {
    "duration": 13,
    "start_time": "2022-08-19T06:48:31.956Z"
   },
   {
    "duration": 7,
    "start_time": "2022-08-19T06:48:31.970Z"
   },
   {
    "duration": 12,
    "start_time": "2022-08-19T06:48:31.978Z"
   },
   {
    "duration": 21,
    "start_time": "2022-08-19T06:48:31.991Z"
   },
   {
    "duration": 266,
    "start_time": "2022-08-19T06:48:32.014Z"
   },
   {
    "duration": 252,
    "start_time": "2022-08-19T06:48:32.281Z"
   },
   {
    "duration": 185,
    "start_time": "2022-08-19T06:48:32.535Z"
   },
   {
    "duration": 17,
    "start_time": "2022-08-19T06:48:32.729Z"
   },
   {
    "duration": 197,
    "start_time": "2022-08-19T06:48:32.748Z"
   },
   {
    "duration": 15,
    "start_time": "2022-08-19T06:48:32.946Z"
   },
   {
    "duration": 196,
    "start_time": "2022-08-19T06:48:32.962Z"
   },
   {
    "duration": 15,
    "start_time": "2022-08-19T06:48:33.160Z"
   },
   {
    "duration": 260,
    "start_time": "2022-08-19T06:48:33.179Z"
   },
   {
    "duration": 13,
    "start_time": "2022-08-19T06:48:33.441Z"
   },
   {
    "duration": 175,
    "start_time": "2022-08-19T06:48:33.456Z"
   },
   {
    "duration": 15,
    "start_time": "2022-08-19T06:48:33.632Z"
   },
   {
    "duration": 120,
    "start_time": "2022-08-19T06:48:33.649Z"
   },
   {
    "duration": 16,
    "start_time": "2022-08-19T06:48:33.770Z"
   },
   {
    "duration": 198,
    "start_time": "2022-08-19T06:48:33.788Z"
   },
   {
    "duration": 16,
    "start_time": "2022-08-19T06:48:33.988Z"
   },
   {
    "duration": 26,
    "start_time": "2022-08-19T06:48:34.018Z"
   },
   {
    "duration": 7,
    "start_time": "2022-08-19T06:48:34.046Z"
   },
   {
    "duration": 5,
    "start_time": "2022-08-19T06:48:34.054Z"
   },
   {
    "duration": 11,
    "start_time": "2022-08-19T06:48:34.061Z"
   },
   {
    "duration": 9,
    "start_time": "2022-08-19T06:48:34.073Z"
   },
   {
    "duration": 12,
    "start_time": "2022-08-19T06:48:34.084Z"
   },
   {
    "duration": 190,
    "start_time": "2022-08-19T06:48:34.097Z"
   },
   {
    "duration": 29,
    "start_time": "2022-08-19T06:48:34.288Z"
   },
   {
    "duration": 18,
    "start_time": "2022-08-19T06:48:34.319Z"
   },
   {
    "duration": 10,
    "start_time": "2022-08-19T06:48:34.338Z"
   },
   {
    "duration": 241,
    "start_time": "2022-08-19T06:48:34.349Z"
   },
   {
    "duration": 41,
    "start_time": "2022-08-19T06:48:34.592Z"
   },
   {
    "duration": 2098,
    "start_time": "2022-08-19T06:48:34.636Z"
   },
   {
    "duration": 15,
    "start_time": "2022-08-19T06:48:36.735Z"
   },
   {
    "duration": 12,
    "start_time": "2022-08-19T06:48:36.751Z"
   },
   {
    "duration": 15,
    "start_time": "2022-08-19T06:48:36.764Z"
   },
   {
    "duration": 31,
    "start_time": "2022-08-19T06:48:36.781Z"
   },
   {
    "duration": 17,
    "start_time": "2022-08-19T06:50:02.080Z"
   },
   {
    "duration": 20,
    "start_time": "2022-08-19T06:50:40.339Z"
   },
   {
    "duration": 27,
    "start_time": "2022-08-19T06:58:22.315Z"
   },
   {
    "duration": 16,
    "start_time": "2022-08-19T06:58:28.850Z"
   },
   {
    "duration": 18,
    "start_time": "2022-08-19T06:58:31.924Z"
   },
   {
    "duration": 17,
    "start_time": "2022-08-19T07:04:01.639Z"
   },
   {
    "duration": 42,
    "start_time": "2022-08-19T07:05:37.392Z"
   },
   {
    "duration": 21,
    "start_time": "2022-08-19T07:07:58.915Z"
   },
   {
    "duration": 20,
    "start_time": "2022-08-19T07:08:07.430Z"
   },
   {
    "duration": 20,
    "start_time": "2022-08-19T07:08:15.128Z"
   },
   {
    "duration": 28,
    "start_time": "2022-08-19T07:08:32.931Z"
   },
   {
    "duration": 167,
    "start_time": "2022-08-19T07:09:22.073Z"
   },
   {
    "duration": 35,
    "start_time": "2022-08-19T07:09:39.470Z"
   },
   {
    "duration": 19,
    "start_time": "2022-08-19T07:21:19.129Z"
   },
   {
    "duration": 24,
    "start_time": "2022-08-19T07:21:25.842Z"
   },
   {
    "duration": 15,
    "start_time": "2022-08-19T07:29:07.476Z"
   },
   {
    "duration": 19,
    "start_time": "2022-08-19T07:29:18.874Z"
   },
   {
    "duration": 11,
    "start_time": "2022-08-19T07:30:17.782Z"
   },
   {
    "duration": 31,
    "start_time": "2022-08-19T07:30:23.318Z"
   },
   {
    "duration": 25,
    "start_time": "2022-08-19T07:30:58.131Z"
   },
   {
    "duration": 18,
    "start_time": "2022-08-19T07:31:19.256Z"
   },
   {
    "duration": 127,
    "start_time": "2022-08-19T07:35:56.643Z"
   },
   {
    "duration": 104,
    "start_time": "2022-08-19T07:36:08.865Z"
   },
   {
    "duration": 111,
    "start_time": "2022-08-19T07:36:19.443Z"
   },
   {
    "duration": 40,
    "start_time": "2022-08-19T07:36:39.290Z"
   },
   {
    "duration": 44,
    "start_time": "2022-08-19T07:37:57.400Z"
   },
   {
    "duration": 29,
    "start_time": "2022-08-19T07:38:18.014Z"
   },
   {
    "duration": 26,
    "start_time": "2022-08-19T07:38:21.335Z"
   },
   {
    "duration": 23,
    "start_time": "2022-08-19T07:38:36.056Z"
   },
   {
    "duration": 17,
    "start_time": "2022-08-19T07:38:53.751Z"
   },
   {
    "duration": 19,
    "start_time": "2022-08-19T07:38:59.056Z"
   },
   {
    "duration": 61,
    "start_time": "2022-08-19T07:39:04.389Z"
   },
   {
    "duration": 85,
    "start_time": "2022-08-19T07:40:12.145Z"
   },
   {
    "duration": 31,
    "start_time": "2022-08-19T07:40:16.493Z"
   },
   {
    "duration": 46,
    "start_time": "2022-08-19T07:40:27.413Z"
   },
   {
    "duration": 46,
    "start_time": "2022-08-19T07:41:17.683Z"
   },
   {
    "duration": 46,
    "start_time": "2022-08-19T07:41:42.779Z"
   },
   {
    "duration": 16,
    "start_time": "2022-08-19T07:42:38.451Z"
   },
   {
    "duration": 12,
    "start_time": "2022-08-19T07:45:13.532Z"
   },
   {
    "duration": 46,
    "start_time": "2022-08-19T07:48:05.088Z"
   },
   {
    "duration": 58,
    "start_time": "2022-08-19T07:48:32.821Z"
   },
   {
    "duration": 26,
    "start_time": "2022-08-19T07:48:36.153Z"
   },
   {
    "duration": 24,
    "start_time": "2022-08-19T07:48:48.019Z"
   },
   {
    "duration": 27,
    "start_time": "2022-08-19T07:49:40.544Z"
   },
   {
    "duration": 29,
    "start_time": "2022-08-19T07:49:55.209Z"
   },
   {
    "duration": 29,
    "start_time": "2022-08-19T07:50:06.808Z"
   },
   {
    "duration": 22,
    "start_time": "2022-08-19T07:51:27.631Z"
   },
   {
    "duration": 16,
    "start_time": "2022-08-19T07:54:32.943Z"
   },
   {
    "duration": 22,
    "start_time": "2022-08-19T07:54:43.570Z"
   },
   {
    "duration": 33,
    "start_time": "2022-08-19T07:55:07.396Z"
   },
   {
    "duration": 5,
    "start_time": "2022-08-19T07:55:20.627Z"
   },
   {
    "duration": 9,
    "start_time": "2022-08-19T08:00:18.270Z"
   },
   {
    "duration": 9,
    "start_time": "2022-08-19T08:00:28.947Z"
   },
   {
    "duration": 13,
    "start_time": "2022-08-19T08:01:05.722Z"
   },
   {
    "duration": 9,
    "start_time": "2022-08-19T08:01:13.133Z"
   },
   {
    "duration": 10491,
    "start_time": "2022-08-19T08:04:06.231Z"
   },
   {
    "duration": 158,
    "start_time": "2022-08-19T08:05:12.378Z"
   },
   {
    "duration": 141,
    "start_time": "2022-08-19T08:05:40.644Z"
   },
   {
    "duration": 210,
    "start_time": "2022-08-19T08:06:17.938Z"
   },
   {
    "duration": 128,
    "start_time": "2022-08-19T08:06:24.119Z"
   },
   {
    "duration": 213,
    "start_time": "2022-08-19T08:06:30.348Z"
   },
   {
    "duration": 150,
    "start_time": "2022-08-19T08:06:38.035Z"
   },
   {
    "duration": 144,
    "start_time": "2022-08-19T08:06:55.307Z"
   },
   {
    "duration": 151,
    "start_time": "2022-08-19T08:07:02.673Z"
   },
   {
    "duration": 82,
    "start_time": "2022-08-19T08:08:23.661Z"
   },
   {
    "duration": 144,
    "start_time": "2022-08-19T08:08:29.176Z"
   },
   {
    "duration": 125,
    "start_time": "2022-08-19T08:08:59.177Z"
   },
   {
    "duration": 148,
    "start_time": "2022-08-19T08:09:54.678Z"
   },
   {
    "duration": 116,
    "start_time": "2022-08-19T08:09:58.326Z"
   },
   {
    "duration": 135,
    "start_time": "2022-08-19T08:10:02.723Z"
   },
   {
    "duration": 173,
    "start_time": "2022-08-19T08:10:14.686Z"
   },
   {
    "duration": 160,
    "start_time": "2022-08-19T08:11:04.030Z"
   },
   {
    "duration": 163,
    "start_time": "2022-08-19T08:11:26.879Z"
   },
   {
    "duration": 195,
    "start_time": "2022-08-19T08:11:37.910Z"
   },
   {
    "duration": 151,
    "start_time": "2022-08-19T08:11:46.529Z"
   },
   {
    "duration": 158,
    "start_time": "2022-08-19T08:11:51.290Z"
   },
   {
    "duration": 146,
    "start_time": "2022-08-19T08:13:04.015Z"
   },
   {
    "duration": 141,
    "start_time": "2022-08-19T08:13:10.029Z"
   },
   {
    "duration": 255,
    "start_time": "2022-08-19T08:13:16.580Z"
   },
   {
    "duration": 140,
    "start_time": "2022-08-19T08:13:21.774Z"
   },
   {
    "duration": 137,
    "start_time": "2022-08-19T08:13:26.339Z"
   },
   {
    "duration": 165,
    "start_time": "2022-08-19T08:13:40.581Z"
   },
   {
    "duration": 136,
    "start_time": "2022-08-19T08:13:46.718Z"
   },
   {
    "duration": 119,
    "start_time": "2022-08-19T08:14:33.629Z"
   },
   {
    "duration": 145,
    "start_time": "2022-08-19T08:14:38.924Z"
   },
   {
    "duration": 160,
    "start_time": "2022-08-19T08:14:48.009Z"
   },
   {
    "duration": 15,
    "start_time": "2022-08-19T08:20:43.543Z"
   },
   {
    "duration": 568,
    "start_time": "2022-08-19T08:21:03.623Z"
   },
   {
    "duration": 5880,
    "start_time": "2022-08-19T08:21:45.631Z"
   },
   {
    "duration": 6182,
    "start_time": "2022-08-19T08:22:15.696Z"
   },
   {
    "duration": 694,
    "start_time": "2022-08-19T08:22:24.331Z"
   },
   {
    "duration": 6067,
    "start_time": "2022-08-19T08:22:49.502Z"
   },
   {
    "duration": 534,
    "start_time": "2022-08-19T08:23:08.672Z"
   },
   {
    "duration": 762,
    "start_time": "2022-08-19T08:23:21.757Z"
   },
   {
    "duration": 520,
    "start_time": "2022-08-19T08:24:33.697Z"
   },
   {
    "duration": 54,
    "start_time": "2022-08-19T08:25:29.163Z"
   },
   {
    "duration": 567,
    "start_time": "2022-08-19T08:25:36.592Z"
   },
   {
    "duration": 761,
    "start_time": "2022-08-19T08:25:54.335Z"
   },
   {
    "duration": 13,
    "start_time": "2022-08-19T08:26:40.736Z"
   },
   {
    "duration": 219,
    "start_time": "2022-08-19T08:38:06.554Z"
   },
   {
    "duration": 247,
    "start_time": "2022-08-19T08:39:18.980Z"
   },
   {
    "duration": 219,
    "start_time": "2022-08-19T08:39:27.568Z"
   },
   {
    "duration": 413,
    "start_time": "2022-08-19T08:41:15.446Z"
   },
   {
    "duration": 227,
    "start_time": "2022-08-19T08:41:27.029Z"
   },
   {
    "duration": 253,
    "start_time": "2022-08-19T08:42:01.771Z"
   },
   {
    "duration": 331,
    "start_time": "2022-08-19T08:42:09.090Z"
   },
   {
    "duration": 352,
    "start_time": "2022-08-19T08:43:02.659Z"
   },
   {
    "duration": 368,
    "start_time": "2022-08-19T08:43:14.998Z"
   },
   {
    "duration": 447,
    "start_time": "2022-08-19T08:43:21.761Z"
   },
   {
    "duration": 9,
    "start_time": "2022-08-19T08:46:59.791Z"
   },
   {
    "duration": 355,
    "start_time": "2022-08-19T08:47:04.893Z"
   },
   {
    "duration": 313,
    "start_time": "2022-08-19T08:49:00.460Z"
   },
   {
    "duration": 321,
    "start_time": "2022-08-19T08:50:17.047Z"
   },
   {
    "duration": 331,
    "start_time": "2022-08-19T08:50:30.686Z"
   },
   {
    "duration": 454,
    "start_time": "2022-08-19T08:50:37.173Z"
   },
   {
    "duration": 325,
    "start_time": "2022-08-19T08:50:58.641Z"
   },
   {
    "duration": 386,
    "start_time": "2022-08-19T08:51:08.989Z"
   },
   {
    "duration": 352,
    "start_time": "2022-08-19T08:51:35.822Z"
   },
   {
    "duration": 10,
    "start_time": "2022-08-19T08:55:35.546Z"
   },
   {
    "duration": 9,
    "start_time": "2022-08-19T08:55:43.884Z"
   },
   {
    "duration": 1233,
    "start_time": "2022-08-19T08:55:50.005Z"
   },
   {
    "duration": 127,
    "start_time": "2022-08-19T08:55:51.240Z"
   },
   {
    "duration": 15,
    "start_time": "2022-08-19T08:55:51.369Z"
   },
   {
    "duration": 12,
    "start_time": "2022-08-19T08:55:51.386Z"
   },
   {
    "duration": 13,
    "start_time": "2022-08-19T08:55:51.399Z"
   },
   {
    "duration": 8,
    "start_time": "2022-08-19T08:55:51.413Z"
   },
   {
    "duration": 20,
    "start_time": "2022-08-19T08:55:51.422Z"
   },
   {
    "duration": 21,
    "start_time": "2022-08-19T08:55:51.443Z"
   },
   {
    "duration": 35,
    "start_time": "2022-08-19T08:55:51.466Z"
   },
   {
    "duration": 14,
    "start_time": "2022-08-19T08:55:51.504Z"
   },
   {
    "duration": 120,
    "start_time": "2022-08-19T08:55:51.520Z"
   },
   {
    "duration": 9,
    "start_time": "2022-08-19T08:55:51.642Z"
   },
   {
    "duration": 10,
    "start_time": "2022-08-19T08:55:51.653Z"
   },
   {
    "duration": 16,
    "start_time": "2022-08-19T08:55:51.664Z"
   },
   {
    "duration": 32,
    "start_time": "2022-08-19T08:55:51.681Z"
   },
   {
    "duration": 23,
    "start_time": "2022-08-19T08:55:51.714Z"
   },
   {
    "duration": 26,
    "start_time": "2022-08-19T08:55:51.739Z"
   },
   {
    "duration": 24,
    "start_time": "2022-08-19T08:55:51.768Z"
   },
   {
    "duration": 29,
    "start_time": "2022-08-19T08:55:51.793Z"
   },
   {
    "duration": 250,
    "start_time": "2022-08-19T08:55:51.824Z"
   },
   {
    "duration": 228,
    "start_time": "2022-08-19T08:55:52.076Z"
   },
   {
    "duration": 153,
    "start_time": "2022-08-19T08:55:52.306Z"
   },
   {
    "duration": 18,
    "start_time": "2022-08-19T08:55:52.461Z"
   },
   {
    "duration": 202,
    "start_time": "2022-08-19T08:55:52.480Z"
   },
   {
    "duration": 17,
    "start_time": "2022-08-19T08:55:52.684Z"
   },
   {
    "duration": 169,
    "start_time": "2022-08-19T08:55:52.702Z"
   },
   {
    "duration": 16,
    "start_time": "2022-08-19T08:55:52.873Z"
   },
   {
    "duration": 235,
    "start_time": "2022-08-19T08:55:52.900Z"
   },
   {
    "duration": 18,
    "start_time": "2022-08-19T08:55:53.136Z"
   },
   {
    "duration": 151,
    "start_time": "2022-08-19T08:55:53.157Z"
   },
   {
    "duration": 18,
    "start_time": "2022-08-19T08:55:53.310Z"
   },
   {
    "duration": 120,
    "start_time": "2022-08-19T08:55:53.330Z"
   },
   {
    "duration": 17,
    "start_time": "2022-08-19T08:55:53.451Z"
   },
   {
    "duration": 168,
    "start_time": "2022-08-19T08:55:53.470Z"
   },
   {
    "duration": 19,
    "start_time": "2022-08-19T08:55:53.640Z"
   },
   {
    "duration": 39,
    "start_time": "2022-08-19T08:55:53.660Z"
   },
   {
    "duration": 27,
    "start_time": "2022-08-19T08:55:53.701Z"
   },
   {
    "duration": 7,
    "start_time": "2022-08-19T08:55:53.730Z"
   },
   {
    "duration": 37,
    "start_time": "2022-08-19T08:55:53.738Z"
   },
   {
    "duration": 125,
    "start_time": "2022-08-19T08:55:53.777Z"
   },
   {
    "duration": 0,
    "start_time": "2022-08-19T08:55:53.904Z"
   },
   {
    "duration": 0,
    "start_time": "2022-08-19T08:55:53.905Z"
   },
   {
    "duration": 0,
    "start_time": "2022-08-19T08:55:53.906Z"
   },
   {
    "duration": 0,
    "start_time": "2022-08-19T08:55:53.906Z"
   },
   {
    "duration": 0,
    "start_time": "2022-08-19T08:55:53.907Z"
   },
   {
    "duration": 0,
    "start_time": "2022-08-19T08:55:53.908Z"
   },
   {
    "duration": 0,
    "start_time": "2022-08-19T08:55:53.909Z"
   },
   {
    "duration": 0,
    "start_time": "2022-08-19T08:55:53.910Z"
   },
   {
    "duration": 0,
    "start_time": "2022-08-19T08:55:53.911Z"
   },
   {
    "duration": 0,
    "start_time": "2022-08-19T08:55:53.912Z"
   },
   {
    "duration": 1,
    "start_time": "2022-08-19T08:55:53.912Z"
   },
   {
    "duration": 0,
    "start_time": "2022-08-19T08:55:53.913Z"
   },
   {
    "duration": 11,
    "start_time": "2022-08-19T08:59:34.418Z"
   },
   {
    "duration": 140,
    "start_time": "2022-08-19T09:00:07.863Z"
   },
   {
    "duration": 123,
    "start_time": "2022-08-19T09:00:28.184Z"
   },
   {
    "duration": 129,
    "start_time": "2022-08-19T09:00:37.649Z"
   },
   {
    "duration": 141,
    "start_time": "2022-08-19T09:03:18.142Z"
   },
   {
    "duration": 136,
    "start_time": "2022-08-19T09:05:11.478Z"
   },
   {
    "duration": 146,
    "start_time": "2022-08-19T09:05:16.357Z"
   },
   {
    "duration": 136,
    "start_time": "2022-08-19T09:05:23.282Z"
   },
   {
    "duration": 241,
    "start_time": "2022-08-19T09:06:00.274Z"
   },
   {
    "duration": 150,
    "start_time": "2022-08-19T09:06:10.771Z"
   },
   {
    "duration": 159,
    "start_time": "2022-08-19T09:06:27.000Z"
   },
   {
    "duration": 150,
    "start_time": "2022-08-19T09:06:35.385Z"
   },
   {
    "duration": 119,
    "start_time": "2022-08-19T09:15:56.079Z"
   },
   {
    "duration": 134,
    "start_time": "2022-08-19T09:16:23.802Z"
   },
   {
    "duration": 25,
    "start_time": "2022-08-19T09:29:53.991Z"
   },
   {
    "duration": 20,
    "start_time": "2022-08-19T09:30:16.918Z"
   },
   {
    "duration": 23,
    "start_time": "2022-08-19T09:31:22.712Z"
   },
   {
    "duration": 65,
    "start_time": "2022-08-19T09:35:26.428Z"
   },
   {
    "duration": 15,
    "start_time": "2022-08-19T09:36:31.846Z"
   },
   {
    "duration": 17,
    "start_time": "2022-08-19T09:36:46.726Z"
   },
   {
    "duration": 148,
    "start_time": "2022-08-19T09:37:36.540Z"
   },
   {
    "duration": 532,
    "start_time": "2022-08-19T09:38:30.710Z"
   },
   {
    "duration": 599,
    "start_time": "2022-08-19T09:39:12.264Z"
   },
   {
    "duration": 592,
    "start_time": "2022-08-19T09:39:21.564Z"
   },
   {
    "duration": 103,
    "start_time": "2022-08-19T09:39:33.350Z"
   },
   {
    "duration": 633,
    "start_time": "2022-08-19T09:39:39.626Z"
   },
   {
    "duration": 621,
    "start_time": "2022-08-19T09:40:01.241Z"
   },
   {
    "duration": 538,
    "start_time": "2022-08-19T09:41:16.257Z"
   },
   {
    "duration": 674,
    "start_time": "2022-08-19T09:41:35.662Z"
   },
   {
    "duration": 1229,
    "start_time": "2022-08-19T09:42:00.547Z"
   },
   {
    "duration": 156,
    "start_time": "2022-08-19T09:42:01.777Z"
   },
   {
    "duration": 21,
    "start_time": "2022-08-19T09:42:01.935Z"
   },
   {
    "duration": 23,
    "start_time": "2022-08-19T09:42:01.958Z"
   },
   {
    "duration": 18,
    "start_time": "2022-08-19T09:42:01.983Z"
   },
   {
    "duration": 8,
    "start_time": "2022-08-19T09:42:02.002Z"
   },
   {
    "duration": 33,
    "start_time": "2022-08-19T09:42:02.011Z"
   },
   {
    "duration": 20,
    "start_time": "2022-08-19T09:42:02.046Z"
   },
   {
    "duration": 32,
    "start_time": "2022-08-19T09:42:02.068Z"
   },
   {
    "duration": 15,
    "start_time": "2022-08-19T09:42:02.102Z"
   },
   {
    "duration": 135,
    "start_time": "2022-08-19T09:42:02.118Z"
   },
   {
    "duration": 10,
    "start_time": "2022-08-19T09:42:02.255Z"
   },
   {
    "duration": 3,
    "start_time": "2022-08-19T09:42:02.267Z"
   },
   {
    "duration": 31,
    "start_time": "2022-08-19T09:42:02.271Z"
   },
   {
    "duration": 6,
    "start_time": "2022-08-19T09:42:02.303Z"
   },
   {
    "duration": 14,
    "start_time": "2022-08-19T09:42:02.311Z"
   },
   {
    "duration": 8,
    "start_time": "2022-08-19T09:42:02.328Z"
   },
   {
    "duration": 8,
    "start_time": "2022-08-19T09:42:02.338Z"
   },
   {
    "duration": 10,
    "start_time": "2022-08-19T09:42:02.347Z"
   },
   {
    "duration": 254,
    "start_time": "2022-08-19T09:42:02.358Z"
   },
   {
    "duration": 223,
    "start_time": "2022-08-19T09:42:02.613Z"
   },
   {
    "duration": 152,
    "start_time": "2022-08-19T09:42:02.838Z"
   },
   {
    "duration": 21,
    "start_time": "2022-08-19T09:42:02.991Z"
   },
   {
    "duration": 182,
    "start_time": "2022-08-19T09:42:03.014Z"
   },
   {
    "duration": 16,
    "start_time": "2022-08-19T09:42:03.198Z"
   },
   {
    "duration": 178,
    "start_time": "2022-08-19T09:42:03.216Z"
   },
   {
    "duration": 17,
    "start_time": "2022-08-19T09:42:03.397Z"
   },
   {
    "duration": 250,
    "start_time": "2022-08-19T09:42:03.418Z"
   },
   {
    "duration": 14,
    "start_time": "2022-08-19T09:42:03.669Z"
   },
   {
    "duration": 161,
    "start_time": "2022-08-19T09:42:03.685Z"
   },
   {
    "duration": 17,
    "start_time": "2022-08-19T09:42:03.847Z"
   },
   {
    "duration": 134,
    "start_time": "2022-08-19T09:42:03.866Z"
   },
   {
    "duration": 18,
    "start_time": "2022-08-19T09:42:04.002Z"
   },
   {
    "duration": 176,
    "start_time": "2022-08-19T09:42:04.022Z"
   },
   {
    "duration": 17,
    "start_time": "2022-08-19T09:42:04.200Z"
   },
   {
    "duration": 39,
    "start_time": "2022-08-19T09:42:04.219Z"
   },
   {
    "duration": 39,
    "start_time": "2022-08-19T09:42:04.261Z"
   },
   {
    "duration": 15,
    "start_time": "2022-08-19T09:42:04.302Z"
   },
   {
    "duration": 414,
    "start_time": "2022-08-19T09:42:04.319Z"
   },
   {
    "duration": 169,
    "start_time": "2022-08-19T09:42:04.734Z"
   },
   {
    "duration": 11,
    "start_time": "2022-08-19T09:42:04.905Z"
   },
   {
    "duration": 185,
    "start_time": "2022-08-19T09:42:04.918Z"
   },
   {
    "duration": 12,
    "start_time": "2022-08-19T09:42:05.104Z"
   },
   {
    "duration": 12,
    "start_time": "2022-08-19T09:42:05.117Z"
   },
   {
    "duration": 17,
    "start_time": "2022-08-19T09:42:05.130Z"
   },
   {
    "duration": 223,
    "start_time": "2022-08-19T09:42:05.148Z"
   },
   {
    "duration": 13,
    "start_time": "2022-08-19T09:42:05.372Z"
   },
   {
    "duration": 2821,
    "start_time": "2022-08-19T09:42:05.398Z"
   },
   {
    "duration": 15,
    "start_time": "2022-08-19T09:42:08.221Z"
   },
   {
    "duration": 19,
    "start_time": "2022-08-19T09:42:08.237Z"
   },
   {
    "duration": 26,
    "start_time": "2022-08-19T09:42:08.258Z"
   },
   {
    "duration": 7,
    "start_time": "2022-08-19T09:42:08.286Z"
   },
   {
    "duration": 35,
    "start_time": "2022-08-19T09:56:39.460Z"
   },
   {
    "duration": 23,
    "start_time": "2022-08-19T09:59:38.540Z"
   },
   {
    "duration": 23,
    "start_time": "2022-08-19T09:59:52.941Z"
   },
   {
    "duration": 4,
    "start_time": "2022-08-19T10:05:47.254Z"
   },
   {
    "duration": 165,
    "start_time": "2022-08-19T10:07:45.076Z"
   },
   {
    "duration": 22,
    "start_time": "2022-08-19T10:21:02.264Z"
   },
   {
    "duration": 33,
    "start_time": "2022-08-19T10:21:34.479Z"
   },
   {
    "duration": 129,
    "start_time": "2022-08-19T10:22:15.810Z"
   },
   {
    "duration": 31,
    "start_time": "2022-08-19T10:22:31.980Z"
   },
   {
    "duration": 22,
    "start_time": "2022-08-19T10:22:53.367Z"
   },
   {
    "duration": 34,
    "start_time": "2022-08-19T10:23:01.980Z"
   },
   {
    "duration": 24,
    "start_time": "2022-08-19T10:23:31.836Z"
   },
   {
    "duration": 106,
    "start_time": "2022-08-19T10:23:49.045Z"
   },
   {
    "duration": 17,
    "start_time": "2022-08-19T10:24:42.022Z"
   },
   {
    "duration": 18,
    "start_time": "2022-08-19T10:24:45.254Z"
   },
   {
    "duration": 22,
    "start_time": "2022-08-19T10:24:52.193Z"
   },
   {
    "duration": 24,
    "start_time": "2022-08-19T10:25:49.132Z"
   },
   {
    "duration": 25,
    "start_time": "2022-08-19T10:31:55.260Z"
   },
   {
    "duration": 22,
    "start_time": "2022-08-19T10:32:13.374Z"
   },
   {
    "duration": 1218,
    "start_time": "2022-08-19T10:32:51.342Z"
   },
   {
    "duration": 102,
    "start_time": "2022-08-19T10:32:52.561Z"
   },
   {
    "duration": 14,
    "start_time": "2022-08-19T10:32:52.665Z"
   },
   {
    "duration": 12,
    "start_time": "2022-08-19T10:32:52.681Z"
   },
   {
    "duration": 19,
    "start_time": "2022-08-19T10:32:52.695Z"
   },
   {
    "duration": 9,
    "start_time": "2022-08-19T10:32:52.716Z"
   },
   {
    "duration": 21,
    "start_time": "2022-08-19T10:32:52.727Z"
   },
   {
    "duration": 21,
    "start_time": "2022-08-19T10:32:52.749Z"
   },
   {
    "duration": 39,
    "start_time": "2022-08-19T10:32:52.771Z"
   },
   {
    "duration": 14,
    "start_time": "2022-08-19T10:32:52.814Z"
   },
   {
    "duration": 150,
    "start_time": "2022-08-19T10:32:52.830Z"
   },
   {
    "duration": 11,
    "start_time": "2022-08-19T10:32:52.981Z"
   },
   {
    "duration": 4,
    "start_time": "2022-08-19T10:32:52.993Z"
   },
   {
    "duration": 25,
    "start_time": "2022-08-19T10:32:52.998Z"
   },
   {
    "duration": 9,
    "start_time": "2022-08-19T10:32:53.025Z"
   },
   {
    "duration": 14,
    "start_time": "2022-08-19T10:32:53.036Z"
   },
   {
    "duration": 9,
    "start_time": "2022-08-19T10:32:53.051Z"
   },
   {
    "duration": 12,
    "start_time": "2022-08-19T10:32:53.062Z"
   },
   {
    "duration": 8,
    "start_time": "2022-08-19T10:32:53.076Z"
   },
   {
    "duration": 236,
    "start_time": "2022-08-19T10:32:53.111Z"
   },
   {
    "duration": 225,
    "start_time": "2022-08-19T10:32:53.348Z"
   },
   {
    "duration": 167,
    "start_time": "2022-08-19T10:32:53.575Z"
   },
   {
    "duration": 19,
    "start_time": "2022-08-19T10:32:53.744Z"
   },
   {
    "duration": 225,
    "start_time": "2022-08-19T10:32:53.765Z"
   },
   {
    "duration": 42,
    "start_time": "2022-08-19T10:32:53.992Z"
   },
   {
    "duration": 189,
    "start_time": "2022-08-19T10:32:54.036Z"
   },
   {
    "duration": 17,
    "start_time": "2022-08-19T10:32:54.226Z"
   },
   {
    "duration": 298,
    "start_time": "2022-08-19T10:32:54.247Z"
   },
   {
    "duration": 23,
    "start_time": "2022-08-19T10:32:54.547Z"
   },
   {
    "duration": 171,
    "start_time": "2022-08-19T10:32:54.572Z"
   },
   {
    "duration": 20,
    "start_time": "2022-08-19T10:32:54.745Z"
   },
   {
    "duration": 153,
    "start_time": "2022-08-19T10:32:54.767Z"
   },
   {
    "duration": 26,
    "start_time": "2022-08-19T10:32:54.922Z"
   },
   {
    "duration": 196,
    "start_time": "2022-08-19T10:32:54.950Z"
   },
   {
    "duration": 21,
    "start_time": "2022-08-19T10:32:55.147Z"
   },
   {
    "duration": 44,
    "start_time": "2022-08-19T10:32:55.170Z"
   },
   {
    "duration": 25,
    "start_time": "2022-08-19T10:32:55.215Z"
   },
   {
    "duration": 8,
    "start_time": "2022-08-19T10:32:55.241Z"
   },
   {
    "duration": 7,
    "start_time": "2022-08-19T10:32:55.250Z"
   },
   {
    "duration": 369,
    "start_time": "2022-08-19T10:32:55.259Z"
   },
   {
    "duration": 162,
    "start_time": "2022-08-19T10:32:55.629Z"
   },
   {
    "duration": 17,
    "start_time": "2022-08-19T10:32:55.793Z"
   },
   {
    "duration": 202,
    "start_time": "2022-08-19T10:32:55.812Z"
   },
   {
    "duration": 12,
    "start_time": "2022-08-19T10:32:56.016Z"
   },
   {
    "duration": 12,
    "start_time": "2022-08-19T10:32:56.029Z"
   },
   {
    "duration": 11,
    "start_time": "2022-08-19T10:32:56.043Z"
   },
   {
    "duration": 214,
    "start_time": "2022-08-19T10:32:56.055Z"
   },
   {
    "duration": 13,
    "start_time": "2022-08-19T10:32:56.270Z"
   },
   {
    "duration": 2228,
    "start_time": "2022-08-19T10:32:56.285Z"
   },
   {
    "duration": 26,
    "start_time": "2022-08-19T10:32:58.515Z"
   },
   {
    "duration": 25,
    "start_time": "2022-08-19T10:32:58.543Z"
   },
   {
    "duration": 39,
    "start_time": "2022-08-19T10:32:58.569Z"
   },
   {
    "duration": 5,
    "start_time": "2022-08-19T10:32:58.610Z"
   },
   {
    "duration": 164,
    "start_time": "2022-08-19T10:36:34.112Z"
   },
   {
    "duration": 1305,
    "start_time": "2022-08-19T10:36:54.373Z"
   },
   {
    "duration": 103,
    "start_time": "2022-08-19T10:36:55.679Z"
   },
   {
    "duration": 30,
    "start_time": "2022-08-19T10:36:55.783Z"
   },
   {
    "duration": 16,
    "start_time": "2022-08-19T10:36:55.817Z"
   },
   {
    "duration": 9,
    "start_time": "2022-08-19T10:36:55.834Z"
   },
   {
    "duration": 7,
    "start_time": "2022-08-19T10:36:55.845Z"
   },
   {
    "duration": 18,
    "start_time": "2022-08-19T10:36:55.853Z"
   },
   {
    "duration": 42,
    "start_time": "2022-08-19T10:36:55.872Z"
   },
   {
    "duration": 22,
    "start_time": "2022-08-19T10:36:55.915Z"
   },
   {
    "duration": 21,
    "start_time": "2022-08-19T10:36:55.940Z"
   },
   {
    "duration": 157,
    "start_time": "2022-08-19T10:36:55.964Z"
   },
   {
    "duration": 11,
    "start_time": "2022-08-19T10:36:56.122Z"
   },
   {
    "duration": 3,
    "start_time": "2022-08-19T10:36:56.134Z"
   },
   {
    "duration": 16,
    "start_time": "2022-08-19T10:36:56.138Z"
   },
   {
    "duration": 7,
    "start_time": "2022-08-19T10:36:56.155Z"
   },
   {
    "duration": 36,
    "start_time": "2022-08-19T10:36:56.163Z"
   },
   {
    "duration": 9,
    "start_time": "2022-08-19T10:36:56.201Z"
   },
   {
    "duration": 12,
    "start_time": "2022-08-19T10:36:56.211Z"
   },
   {
    "duration": 6,
    "start_time": "2022-08-19T10:36:56.224Z"
   },
   {
    "duration": 241,
    "start_time": "2022-08-19T10:36:56.231Z"
   },
   {
    "duration": 221,
    "start_time": "2022-08-19T10:36:56.473Z"
   },
   {
    "duration": 160,
    "start_time": "2022-08-19T10:36:56.698Z"
   },
   {
    "duration": 19,
    "start_time": "2022-08-19T10:36:56.859Z"
   },
   {
    "duration": 193,
    "start_time": "2022-08-19T10:36:56.880Z"
   },
   {
    "duration": 29,
    "start_time": "2022-08-19T10:36:57.075Z"
   },
   {
    "duration": 177,
    "start_time": "2022-08-19T10:36:57.116Z"
   },
   {
    "duration": 20,
    "start_time": "2022-08-19T10:36:57.294Z"
   },
   {
    "duration": 244,
    "start_time": "2022-08-19T10:36:57.320Z"
   },
   {
    "duration": 14,
    "start_time": "2022-08-19T10:36:57.565Z"
   },
   {
    "duration": 149,
    "start_time": "2022-08-19T10:36:57.581Z"
   },
   {
    "duration": 16,
    "start_time": "2022-08-19T10:36:57.731Z"
   },
   {
    "duration": 130,
    "start_time": "2022-08-19T10:36:57.749Z"
   },
   {
    "duration": 23,
    "start_time": "2022-08-19T10:36:57.880Z"
   },
   {
    "duration": 163,
    "start_time": "2022-08-19T10:36:57.908Z"
   },
   {
    "duration": 38,
    "start_time": "2022-08-19T10:36:58.073Z"
   },
   {
    "duration": 28,
    "start_time": "2022-08-19T10:36:58.114Z"
   },
   {
    "duration": 23,
    "start_time": "2022-08-19T10:36:58.144Z"
   },
   {
    "duration": 6,
    "start_time": "2022-08-19T10:36:58.168Z"
   },
   {
    "duration": 27,
    "start_time": "2022-08-19T10:36:58.176Z"
   },
   {
    "duration": 360,
    "start_time": "2022-08-19T10:36:58.205Z"
   },
   {
    "duration": 165,
    "start_time": "2022-08-19T10:36:58.566Z"
   },
   {
    "duration": 12,
    "start_time": "2022-08-19T10:36:58.732Z"
   },
   {
    "duration": 179,
    "start_time": "2022-08-19T10:36:58.745Z"
   },
   {
    "duration": 10,
    "start_time": "2022-08-19T10:36:58.925Z"
   },
   {
    "duration": 10,
    "start_time": "2022-08-19T10:36:58.937Z"
   },
   {
    "duration": 10,
    "start_time": "2022-08-19T10:36:58.949Z"
   },
   {
    "duration": 216,
    "start_time": "2022-08-19T10:36:58.960Z"
   },
   {
    "duration": 13,
    "start_time": "2022-08-19T10:36:59.178Z"
   },
   {
    "duration": 1494,
    "start_time": "2022-08-19T10:36:59.193Z"
   },
   {
    "duration": 29,
    "start_time": "2022-08-19T10:37:00.689Z"
   },
   {
    "duration": 147,
    "start_time": "2022-08-19T10:37:00.720Z"
   },
   {
    "duration": 0,
    "start_time": "2022-08-19T10:37:00.869Z"
   },
   {
    "duration": 0,
    "start_time": "2022-08-19T10:37:00.871Z"
   },
   {
    "duration": 0,
    "start_time": "2022-08-19T10:37:00.872Z"
   },
   {
    "duration": 38,
    "start_time": "2022-08-19T10:38:02.119Z"
   },
   {
    "duration": 29,
    "start_time": "2022-08-19T10:38:28.545Z"
   },
   {
    "duration": 28,
    "start_time": "2022-08-19T10:38:38.862Z"
   },
   {
    "duration": 44,
    "start_time": "2022-08-19T10:39:04.526Z"
   },
   {
    "duration": 36,
    "start_time": "2022-08-19T10:39:51.314Z"
   },
   {
    "duration": 37,
    "start_time": "2022-08-19T10:40:55.923Z"
   },
   {
    "duration": 33,
    "start_time": "2022-08-19T10:41:29.918Z"
   },
   {
    "duration": 45,
    "start_time": "2022-08-19T10:41:52.474Z"
   },
   {
    "duration": 13,
    "start_time": "2022-08-19T10:42:19.017Z"
   },
   {
    "duration": 12,
    "start_time": "2022-08-19T10:42:21.259Z"
   },
   {
    "duration": 25,
    "start_time": "2022-08-19T10:42:32.517Z"
   },
   {
    "duration": 24,
    "start_time": "2022-08-19T10:42:53.042Z"
   },
   {
    "duration": 3,
    "start_time": "2022-08-19T10:44:18.775Z"
   },
   {
    "duration": 4,
    "start_time": "2022-08-19T10:44:26.714Z"
   },
   {
    "duration": 14,
    "start_time": "2022-08-19T10:48:40.646Z"
   },
   {
    "duration": 13,
    "start_time": "2022-08-19T10:50:58.211Z"
   },
   {
    "duration": 9,
    "start_time": "2022-08-19T10:51:07.218Z"
   },
   {
    "duration": 10,
    "start_time": "2022-08-19T10:51:24.116Z"
   },
   {
    "duration": 1204,
    "start_time": "2022-08-19T10:51:35.524Z"
   },
   {
    "duration": 116,
    "start_time": "2022-08-19T10:51:36.730Z"
   },
   {
    "duration": 17,
    "start_time": "2022-08-19T10:51:36.848Z"
   },
   {
    "duration": 13,
    "start_time": "2022-08-19T10:51:36.867Z"
   },
   {
    "duration": 23,
    "start_time": "2022-08-19T10:51:36.881Z"
   },
   {
    "duration": 21,
    "start_time": "2022-08-19T10:51:36.905Z"
   },
   {
    "duration": 27,
    "start_time": "2022-08-19T10:51:36.929Z"
   },
   {
    "duration": 25,
    "start_time": "2022-08-19T10:51:36.958Z"
   },
   {
    "duration": 30,
    "start_time": "2022-08-19T10:51:36.984Z"
   },
   {
    "duration": 16,
    "start_time": "2022-08-19T10:51:37.016Z"
   },
   {
    "duration": 142,
    "start_time": "2022-08-19T10:51:37.033Z"
   },
   {
    "duration": 11,
    "start_time": "2022-08-19T10:51:37.177Z"
   },
   {
    "duration": 9,
    "start_time": "2022-08-19T10:51:37.205Z"
   },
   {
    "duration": 37,
    "start_time": "2022-08-19T10:51:37.216Z"
   },
   {
    "duration": 18,
    "start_time": "2022-08-19T10:51:37.255Z"
   },
   {
    "duration": 14,
    "start_time": "2022-08-19T10:51:37.274Z"
   },
   {
    "duration": 9,
    "start_time": "2022-08-19T10:51:37.290Z"
   },
   {
    "duration": 12,
    "start_time": "2022-08-19T10:51:37.309Z"
   },
   {
    "duration": 6,
    "start_time": "2022-08-19T10:51:37.323Z"
   },
   {
    "duration": 240,
    "start_time": "2022-08-19T10:51:37.330Z"
   },
   {
    "duration": 245,
    "start_time": "2022-08-19T10:51:37.572Z"
   },
   {
    "duration": 175,
    "start_time": "2022-08-19T10:51:37.819Z"
   },
   {
    "duration": 19,
    "start_time": "2022-08-19T10:51:38.012Z"
   },
   {
    "duration": 187,
    "start_time": "2022-08-19T10:51:38.033Z"
   },
   {
    "duration": 17,
    "start_time": "2022-08-19T10:51:38.221Z"
   },
   {
    "duration": 181,
    "start_time": "2022-08-19T10:51:38.240Z"
   },
   {
    "duration": 17,
    "start_time": "2022-08-19T10:51:38.423Z"
   },
   {
    "duration": 272,
    "start_time": "2022-08-19T10:51:38.444Z"
   },
   {
    "duration": 13,
    "start_time": "2022-08-19T10:51:38.717Z"
   },
   {
    "duration": 178,
    "start_time": "2022-08-19T10:51:38.732Z"
   },
   {
    "duration": 17,
    "start_time": "2022-08-19T10:51:38.911Z"
   },
   {
    "duration": 125,
    "start_time": "2022-08-19T10:51:38.930Z"
   },
   {
    "duration": 17,
    "start_time": "2022-08-19T10:51:39.057Z"
   },
   {
    "duration": 176,
    "start_time": "2022-08-19T10:51:39.075Z"
   },
   {
    "duration": 18,
    "start_time": "2022-08-19T10:51:39.252Z"
   },
   {
    "duration": 38,
    "start_time": "2022-08-19T10:51:39.272Z"
   },
   {
    "duration": 33,
    "start_time": "2022-08-19T10:51:39.312Z"
   },
   {
    "duration": 7,
    "start_time": "2022-08-19T10:51:39.347Z"
   },
   {
    "duration": 12,
    "start_time": "2022-08-19T10:51:39.356Z"
   },
   {
    "duration": 365,
    "start_time": "2022-08-19T10:51:39.369Z"
   },
   {
    "duration": 155,
    "start_time": "2022-08-19T10:51:39.735Z"
   },
   {
    "duration": 32,
    "start_time": "2022-08-19T10:51:39.891Z"
   },
   {
    "duration": 186,
    "start_time": "2022-08-19T10:51:39.925Z"
   },
   {
    "duration": 11,
    "start_time": "2022-08-19T10:51:40.113Z"
   },
   {
    "duration": 14,
    "start_time": "2022-08-19T10:51:40.126Z"
   },
   {
    "duration": 9,
    "start_time": "2022-08-19T10:51:40.142Z"
   },
   {
    "duration": 219,
    "start_time": "2022-08-19T10:51:40.153Z"
   },
   {
    "duration": 14,
    "start_time": "2022-08-19T10:51:40.374Z"
   },
   {
    "duration": 2236,
    "start_time": "2022-08-19T10:51:40.389Z"
   },
   {
    "duration": 23,
    "start_time": "2022-08-19T10:51:42.627Z"
   },
   {
    "duration": 18,
    "start_time": "2022-08-19T10:51:42.652Z"
   },
   {
    "duration": 44,
    "start_time": "2022-08-19T10:51:42.671Z"
   },
   {
    "duration": 3,
    "start_time": "2022-08-19T10:51:42.717Z"
   },
   {
    "duration": 17,
    "start_time": "2022-08-19T10:51:42.721Z"
   },
   {
    "duration": 14,
    "start_time": "2022-08-19T10:51:42.740Z"
   },
   {
    "duration": 135,
    "start_time": "2022-08-19T10:51:42.756Z"
   },
   {
    "duration": 14,
    "start_time": "2022-08-19T10:52:40.915Z"
   },
   {
    "duration": 12,
    "start_time": "2022-08-19T10:53:43.019Z"
   },
   {
    "duration": 12,
    "start_time": "2022-08-19T10:53:54.327Z"
   },
   {
    "duration": 13,
    "start_time": "2022-08-19T10:54:21.216Z"
   },
   {
    "duration": 10,
    "start_time": "2022-08-19T10:54:45.174Z"
   },
   {
    "duration": 28,
    "start_time": "2022-08-19T10:57:15.159Z"
   },
   {
    "duration": 23,
    "start_time": "2022-08-19T10:57:36.942Z"
   },
   {
    "duration": 12,
    "start_time": "2022-08-19T10:58:10.012Z"
   },
   {
    "duration": 11,
    "start_time": "2022-08-19T10:58:22.234Z"
   },
   {
    "duration": 17,
    "start_time": "2022-08-19T10:59:25.218Z"
   },
   {
    "duration": 12,
    "start_time": "2022-08-19T11:00:06.300Z"
   },
   {
    "duration": 24,
    "start_time": "2022-08-19T11:00:41.736Z"
   },
   {
    "duration": 29,
    "start_time": "2022-08-19T11:00:45.111Z"
   },
   {
    "duration": 19,
    "start_time": "2022-08-19T11:00:48.766Z"
   },
   {
    "duration": 11,
    "start_time": "2022-08-19T11:01:34.782Z"
   },
   {
    "duration": 1273,
    "start_time": "2022-08-19T11:02:19.894Z"
   },
   {
    "duration": 123,
    "start_time": "2022-08-19T11:02:21.169Z"
   },
   {
    "duration": 28,
    "start_time": "2022-08-19T11:02:21.294Z"
   },
   {
    "duration": 13,
    "start_time": "2022-08-19T11:02:21.324Z"
   },
   {
    "duration": 7,
    "start_time": "2022-08-19T11:02:21.338Z"
   },
   {
    "duration": 6,
    "start_time": "2022-08-19T11:02:21.347Z"
   },
   {
    "duration": 18,
    "start_time": "2022-08-19T11:02:21.355Z"
   },
   {
    "duration": 51,
    "start_time": "2022-08-19T11:02:21.375Z"
   },
   {
    "duration": 14,
    "start_time": "2022-08-19T11:02:21.427Z"
   },
   {
    "duration": 20,
    "start_time": "2022-08-19T11:02:21.443Z"
   },
   {
    "duration": 147,
    "start_time": "2022-08-19T11:02:21.464Z"
   },
   {
    "duration": 16,
    "start_time": "2022-08-19T11:02:21.612Z"
   },
   {
    "duration": 10,
    "start_time": "2022-08-19T11:02:21.629Z"
   },
   {
    "duration": 12,
    "start_time": "2022-08-19T11:02:21.640Z"
   },
   {
    "duration": 8,
    "start_time": "2022-08-19T11:02:21.654Z"
   },
   {
    "duration": 14,
    "start_time": "2022-08-19T11:02:21.663Z"
   },
   {
    "duration": 6,
    "start_time": "2022-08-19T11:02:21.679Z"
   },
   {
    "duration": 22,
    "start_time": "2022-08-19T11:02:21.686Z"
   },
   {
    "duration": 16,
    "start_time": "2022-08-19T11:02:21.710Z"
   },
   {
    "duration": 256,
    "start_time": "2022-08-19T11:02:21.727Z"
   },
   {
    "duration": 250,
    "start_time": "2022-08-19T11:02:21.986Z"
   },
   {
    "duration": 173,
    "start_time": "2022-08-19T11:02:22.238Z"
   },
   {
    "duration": 19,
    "start_time": "2022-08-19T11:02:22.413Z"
   },
   {
    "duration": 183,
    "start_time": "2022-08-19T11:02:22.433Z"
   },
   {
    "duration": 18,
    "start_time": "2022-08-19T11:02:22.618Z"
   },
   {
    "duration": 190,
    "start_time": "2022-08-19T11:02:22.637Z"
   },
   {
    "duration": 16,
    "start_time": "2022-08-19T11:02:22.828Z"
   },
   {
    "duration": 278,
    "start_time": "2022-08-19T11:02:22.848Z"
   },
   {
    "duration": 14,
    "start_time": "2022-08-19T11:02:23.127Z"
   },
   {
    "duration": 154,
    "start_time": "2022-08-19T11:02:23.143Z"
   },
   {
    "duration": 19,
    "start_time": "2022-08-19T11:02:23.299Z"
   },
   {
    "duration": 127,
    "start_time": "2022-08-19T11:02:23.320Z"
   },
   {
    "duration": 18,
    "start_time": "2022-08-19T11:02:23.448Z"
   },
   {
    "duration": 174,
    "start_time": "2022-08-19T11:02:23.467Z"
   },
   {
    "duration": 17,
    "start_time": "2022-08-19T11:02:23.643Z"
   },
   {
    "duration": 21,
    "start_time": "2022-08-19T11:02:23.661Z"
   },
   {
    "duration": 46,
    "start_time": "2022-08-19T11:02:23.683Z"
   },
   {
    "duration": 8,
    "start_time": "2022-08-19T11:02:23.731Z"
   },
   {
    "duration": 6,
    "start_time": "2022-08-19T11:02:23.740Z"
   },
   {
    "duration": 393,
    "start_time": "2022-08-19T11:02:23.748Z"
   },
   {
    "duration": 170,
    "start_time": "2022-08-19T11:02:24.142Z"
   },
   {
    "duration": 17,
    "start_time": "2022-08-19T11:02:24.314Z"
   },
   {
    "duration": 190,
    "start_time": "2022-08-19T11:02:24.333Z"
   },
   {
    "duration": 13,
    "start_time": "2022-08-19T11:02:24.525Z"
   },
   {
    "duration": 15,
    "start_time": "2022-08-19T11:02:24.540Z"
   },
   {
    "duration": 31,
    "start_time": "2022-08-19T11:02:24.557Z"
   },
   {
    "duration": 242,
    "start_time": "2022-08-19T11:02:24.590Z"
   },
   {
    "duration": 14,
    "start_time": "2022-08-19T11:02:24.834Z"
   },
   {
    "duration": 1995,
    "start_time": "2022-08-19T11:02:24.850Z"
   },
   {
    "duration": 24,
    "start_time": "2022-08-19T11:02:26.847Z"
   },
   {
    "duration": 42,
    "start_time": "2022-08-19T11:02:26.872Z"
   },
   {
    "duration": 31,
    "start_time": "2022-08-19T11:02:26.915Z"
   },
   {
    "duration": 5,
    "start_time": "2022-08-19T11:02:26.948Z"
   },
   {
    "duration": 12,
    "start_time": "2022-08-19T11:02:26.955Z"
   },
   {
    "duration": 13,
    "start_time": "2022-08-19T11:02:26.969Z"
   },
   {
    "duration": 10,
    "start_time": "2022-08-19T11:03:30.982Z"
   },
   {
    "duration": 24,
    "start_time": "2022-08-19T11:04:20.310Z"
   },
   {
    "duration": 1214,
    "start_time": "2022-08-19T11:04:34.626Z"
   },
   {
    "duration": 103,
    "start_time": "2022-08-19T11:04:35.842Z"
   },
   {
    "duration": 16,
    "start_time": "2022-08-19T11:04:35.946Z"
   },
   {
    "duration": 15,
    "start_time": "2022-08-19T11:04:35.965Z"
   },
   {
    "duration": 36,
    "start_time": "2022-08-19T11:04:35.981Z"
   },
   {
    "duration": 14,
    "start_time": "2022-08-19T11:04:36.018Z"
   },
   {
    "duration": 24,
    "start_time": "2022-08-19T11:04:36.033Z"
   },
   {
    "duration": 21,
    "start_time": "2022-08-19T11:04:36.058Z"
   },
   {
    "duration": 25,
    "start_time": "2022-08-19T11:04:36.080Z"
   },
   {
    "duration": 16,
    "start_time": "2022-08-19T11:04:36.107Z"
   },
   {
    "duration": 136,
    "start_time": "2022-08-19T11:04:36.124Z"
   },
   {
    "duration": 10,
    "start_time": "2022-08-19T11:04:36.262Z"
   },
   {
    "duration": 4,
    "start_time": "2022-08-19T11:04:36.273Z"
   },
   {
    "duration": 33,
    "start_time": "2022-08-19T11:04:36.280Z"
   },
   {
    "duration": 9,
    "start_time": "2022-08-19T11:04:36.315Z"
   },
   {
    "duration": 20,
    "start_time": "2022-08-19T11:04:36.325Z"
   },
   {
    "duration": 6,
    "start_time": "2022-08-19T11:04:36.347Z"
   },
   {
    "duration": 13,
    "start_time": "2022-08-19T11:04:36.354Z"
   },
   {
    "duration": 6,
    "start_time": "2022-08-19T11:04:36.368Z"
   },
   {
    "duration": 264,
    "start_time": "2022-08-19T11:04:36.375Z"
   },
   {
    "duration": 239,
    "start_time": "2022-08-19T11:04:36.641Z"
   },
   {
    "duration": 166,
    "start_time": "2022-08-19T11:04:36.882Z"
   },
   {
    "duration": 17,
    "start_time": "2022-08-19T11:04:37.049Z"
   },
   {
    "duration": 182,
    "start_time": "2022-08-19T11:04:37.067Z"
   },
   {
    "duration": 16,
    "start_time": "2022-08-19T11:04:37.251Z"
   },
   {
    "duration": 182,
    "start_time": "2022-08-19T11:04:37.269Z"
   },
   {
    "duration": 16,
    "start_time": "2022-08-19T11:04:37.452Z"
   },
   {
    "duration": 275,
    "start_time": "2022-08-19T11:04:37.472Z"
   },
   {
    "duration": 14,
    "start_time": "2022-08-19T11:04:37.749Z"
   },
   {
    "duration": 155,
    "start_time": "2022-08-19T11:04:37.764Z"
   },
   {
    "duration": 15,
    "start_time": "2022-08-19T11:04:37.921Z"
   },
   {
    "duration": 138,
    "start_time": "2022-08-19T11:04:37.938Z"
   },
   {
    "duration": 27,
    "start_time": "2022-08-19T11:04:38.077Z"
   },
   {
    "duration": 157,
    "start_time": "2022-08-19T11:04:38.109Z"
   },
   {
    "duration": 19,
    "start_time": "2022-08-19T11:04:38.268Z"
   },
   {
    "duration": 29,
    "start_time": "2022-08-19T11:04:38.289Z"
   },
   {
    "duration": 24,
    "start_time": "2022-08-19T11:04:38.320Z"
   },
   {
    "duration": 6,
    "start_time": "2022-08-19T11:04:38.346Z"
   },
   {
    "duration": 7,
    "start_time": "2022-08-19T11:04:38.353Z"
   },
   {
    "duration": 379,
    "start_time": "2022-08-19T11:04:38.361Z"
   },
   {
    "duration": 147,
    "start_time": "2022-08-19T11:04:38.741Z"
   },
   {
    "duration": 25,
    "start_time": "2022-08-19T11:04:38.889Z"
   },
   {
    "duration": 170,
    "start_time": "2022-08-19T11:04:38.915Z"
   },
   {
    "duration": 20,
    "start_time": "2022-08-19T11:04:39.086Z"
   },
   {
    "duration": 21,
    "start_time": "2022-08-19T11:04:39.107Z"
   },
   {
    "duration": 11,
    "start_time": "2022-08-19T11:04:39.129Z"
   },
   {
    "duration": 202,
    "start_time": "2022-08-19T11:04:39.141Z"
   },
   {
    "duration": 12,
    "start_time": "2022-08-19T11:04:39.345Z"
   },
   {
    "duration": 1407,
    "start_time": "2022-08-19T11:04:39.359Z"
   },
   {
    "duration": 22,
    "start_time": "2022-08-19T11:04:40.767Z"
   },
   {
    "duration": 29,
    "start_time": "2022-08-19T11:04:40.791Z"
   },
   {
    "duration": 18,
    "start_time": "2022-08-19T11:04:40.822Z"
   },
   {
    "duration": 4,
    "start_time": "2022-08-19T11:04:40.842Z"
   },
   {
    "duration": 5,
    "start_time": "2022-08-19T11:04:40.848Z"
   },
   {
    "duration": 13,
    "start_time": "2022-08-19T11:04:40.855Z"
   },
   {
    "duration": 39,
    "start_time": "2022-08-19T11:04:40.870Z"
   },
   {
    "duration": 11,
    "start_time": "2022-08-19T11:06:54.059Z"
   },
   {
    "duration": 10,
    "start_time": "2022-08-19T11:07:23.131Z"
   },
   {
    "duration": 15,
    "start_time": "2022-08-19T11:08:46.832Z"
   },
   {
    "duration": 7,
    "start_time": "2022-08-19T11:09:47.989Z"
   },
   {
    "duration": 11,
    "start_time": "2022-08-19T11:13:25.439Z"
   },
   {
    "duration": 12,
    "start_time": "2022-08-19T11:19:20.240Z"
   },
   {
    "duration": 173,
    "start_time": "2022-08-19T11:37:00.617Z"
   },
   {
    "duration": 270,
    "start_time": "2022-08-19T11:37:23.449Z"
   },
   {
    "duration": 222,
    "start_time": "2022-08-19T11:37:36.927Z"
   },
   {
    "duration": 196,
    "start_time": "2022-08-19T11:38:14.783Z"
   },
   {
    "duration": 169,
    "start_time": "2022-08-19T11:38:29.992Z"
   },
   {
    "duration": 158,
    "start_time": "2022-08-19T11:38:44.980Z"
   },
   {
    "duration": 369,
    "start_time": "2022-08-19T11:39:31.458Z"
   },
   {
    "duration": 364,
    "start_time": "2022-08-19T11:43:29.268Z"
   },
   {
    "duration": 152,
    "start_time": "2022-08-19T11:43:52.028Z"
   },
   {
    "duration": 169,
    "start_time": "2022-08-19T11:44:43.577Z"
   },
   {
    "duration": 319,
    "start_time": "2022-08-19T11:45:06.665Z"
   },
   {
    "duration": 1332,
    "start_time": "2022-08-19T11:45:36.495Z"
   },
   {
    "duration": 241,
    "start_time": "2022-08-19T11:45:37.829Z"
   },
   {
    "duration": 15,
    "start_time": "2022-08-19T11:45:38.072Z"
   },
   {
    "duration": 28,
    "start_time": "2022-08-19T11:45:38.089Z"
   },
   {
    "duration": 6,
    "start_time": "2022-08-19T11:45:38.119Z"
   },
   {
    "duration": 7,
    "start_time": "2022-08-19T11:45:38.127Z"
   },
   {
    "duration": 18,
    "start_time": "2022-08-19T11:45:38.136Z"
   },
   {
    "duration": 22,
    "start_time": "2022-08-19T11:45:38.156Z"
   },
   {
    "duration": 44,
    "start_time": "2022-08-19T11:45:38.179Z"
   },
   {
    "duration": 15,
    "start_time": "2022-08-19T11:45:38.227Z"
   },
   {
    "duration": 162,
    "start_time": "2022-08-19T11:45:38.244Z"
   },
   {
    "duration": 17,
    "start_time": "2022-08-19T11:45:38.408Z"
   },
   {
    "duration": 5,
    "start_time": "2022-08-19T11:45:38.427Z"
   },
   {
    "duration": 8,
    "start_time": "2022-08-19T11:45:38.434Z"
   },
   {
    "duration": 9,
    "start_time": "2022-08-19T11:45:38.443Z"
   },
   {
    "duration": 14,
    "start_time": "2022-08-19T11:45:38.453Z"
   },
   {
    "duration": 42,
    "start_time": "2022-08-19T11:45:38.468Z"
   },
   {
    "duration": 10,
    "start_time": "2022-08-19T11:45:38.512Z"
   },
   {
    "duration": 6,
    "start_time": "2022-08-19T11:45:38.524Z"
   },
   {
    "duration": 249,
    "start_time": "2022-08-19T11:45:38.532Z"
   },
   {
    "duration": 233,
    "start_time": "2022-08-19T11:45:38.783Z"
   },
   {
    "duration": 168,
    "start_time": "2022-08-19T11:45:39.018Z"
   },
   {
    "duration": 28,
    "start_time": "2022-08-19T11:45:39.188Z"
   },
   {
    "duration": 179,
    "start_time": "2022-08-19T11:45:39.218Z"
   },
   {
    "duration": 21,
    "start_time": "2022-08-19T11:45:39.409Z"
   },
   {
    "duration": 201,
    "start_time": "2022-08-19T11:45:39.432Z"
   },
   {
    "duration": 15,
    "start_time": "2022-08-19T11:45:39.635Z"
   },
   {
    "duration": 265,
    "start_time": "2022-08-19T11:45:39.654Z"
   },
   {
    "duration": 15,
    "start_time": "2022-08-19T11:45:39.921Z"
   },
   {
    "duration": 163,
    "start_time": "2022-08-19T11:45:39.937Z"
   },
   {
    "duration": 26,
    "start_time": "2022-08-19T11:45:40.111Z"
   },
   {
    "duration": 134,
    "start_time": "2022-08-19T11:45:40.139Z"
   },
   {
    "duration": 47,
    "start_time": "2022-08-19T11:45:40.274Z"
   },
   {
    "duration": 173,
    "start_time": "2022-08-19T11:45:40.323Z"
   },
   {
    "duration": 22,
    "start_time": "2022-08-19T11:45:40.498Z"
   },
   {
    "duration": 21,
    "start_time": "2022-08-19T11:45:40.522Z"
   },
   {
    "duration": 23,
    "start_time": "2022-08-19T11:45:40.544Z"
   },
   {
    "duration": 5,
    "start_time": "2022-08-19T11:45:40.568Z"
   },
   {
    "duration": 20,
    "start_time": "2022-08-19T11:45:40.597Z"
   },
   {
    "duration": 345,
    "start_time": "2022-08-19T11:45:40.619Z"
   },
   {
    "duration": 178,
    "start_time": "2022-08-19T11:45:40.965Z"
   },
   {
    "duration": 14,
    "start_time": "2022-08-19T11:45:41.144Z"
   },
   {
    "duration": 235,
    "start_time": "2022-08-19T11:45:41.160Z"
   },
   {
    "duration": 20,
    "start_time": "2022-08-19T11:45:41.397Z"
   },
   {
    "duration": 14,
    "start_time": "2022-08-19T11:45:41.419Z"
   },
   {
    "duration": 11,
    "start_time": "2022-08-19T11:45:41.434Z"
   },
   {
    "duration": 214,
    "start_time": "2022-08-19T11:45:41.447Z"
   },
   {
    "duration": 18,
    "start_time": "2022-08-19T11:45:41.663Z"
   },
   {
    "duration": 2262,
    "start_time": "2022-08-19T11:45:41.683Z"
   },
   {
    "duration": 28,
    "start_time": "2022-08-19T11:45:43.946Z"
   },
   {
    "duration": 40,
    "start_time": "2022-08-19T11:45:43.976Z"
   },
   {
    "duration": 23,
    "start_time": "2022-08-19T11:45:44.018Z"
   },
   {
    "duration": 5,
    "start_time": "2022-08-19T11:45:44.043Z"
   },
   {
    "duration": 9,
    "start_time": "2022-08-19T11:45:44.050Z"
   },
   {
    "duration": 177,
    "start_time": "2022-08-19T11:47:15.200Z"
   },
   {
    "duration": 233,
    "start_time": "2022-08-19T11:47:40.684Z"
   },
   {
    "duration": 224,
    "start_time": "2022-08-19T11:49:26.244Z"
   },
   {
    "duration": 218,
    "start_time": "2022-08-19T11:49:41.173Z"
   },
   {
    "duration": 151,
    "start_time": "2022-08-19T11:50:07.675Z"
   },
   {
    "duration": 474,
    "start_time": "2022-08-19T11:50:47.948Z"
   },
   {
    "duration": 356,
    "start_time": "2022-08-19T11:50:59.476Z"
   },
   {
    "duration": 65,
    "start_time": "2022-08-19T11:52:15.787Z"
   }
  ],
  "kernelspec": {
   "display_name": "Python 3 (ipykernel)",
   "language": "python",
   "name": "python3"
  },
  "language_info": {
   "codemirror_mode": {
    "name": "ipython",
    "version": 3
   },
   "file_extension": ".py",
   "mimetype": "text/x-python",
   "name": "python",
   "nbconvert_exporter": "python",
   "pygments_lexer": "ipython3",
   "version": "3.9.7"
  },
  "toc": {
   "base_numbering": 1,
   "nav_menu": {},
   "number_sections": true,
   "sideBar": true,
   "skip_h1_title": true,
   "title_cell": "Table of Contents",
   "title_sidebar": "Contents",
   "toc_cell": false,
   "toc_position": {},
   "toc_section_display": true,
   "toc_window_display": false
  }
 },
 "nbformat": 4,
 "nbformat_minor": 5
}
