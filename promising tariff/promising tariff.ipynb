{
 "cells": [
  {
   "cell_type": "markdown",
   "id": "c74dc234",
   "metadata": {},
   "source": [
    "# Содержание\n",
    "\n",
    "<a id='section_id'></a>[Определение перспективного тарифа для телеком-компании](#section_id)\n",
    "\n",
    "<a id='section_id1'></a>[Описание проекта](#section_id1)\n",
    "\n",
    "<a id='section_id2'></a>[Описание тарифов](#section_id2)\n",
    "\n",
    "<a id='section_id3'></a>[Описание данных](#section_id3)\n",
    "\n",
    "<a id='section_id4'></a>[Шаг 1. Обзор данных](#section_id4)\n",
    "\n",
    "<a id='section_id5'></a>[Шаг 2. Предобработка данных](#section_id5)\n",
    "\n",
    "<a id='section_id5'></a> [Шаг 3. Анализ данных](#section_id6)\n",
    "\n",
    "<a id='section_id5'></a> [Шаг 4. Проверка гипотез](#section_id7)\n",
    "\n",
    "<a id='section_id5'></a> [Шаг 5. Вывод](#section_id8)\n",
    "\n",
    "\n",
    " \n",
    "\n",
    "\n",
    "\n"
   ]
  },
  {
   "cell_type": "markdown",
   "id": "9ed28e3b",
   "metadata": {},
   "source": [
    "# [Определение перспективного тарифа для телеком-компании](#section_id)\n",
    "\n",
    "## [Описание проекта](#section_id1)\n",
    "Задача - определить какой тариф приносит больше денег проведя предварительный анализ тарифов на небольшой выборке клиентов. \n",
    "\n",
    "## [Описание тарифов](#section_id2)\n",
    "\n",
    "### Тариф «Смарт»\n",
    "Ежемесячная плата: 550 рублей\n",
    "Включено 500 минут разговора, 50 сообщений и 15 Гб интернет-трафика\n",
    "Стоимость услуг сверх тарифного пакета:\n",
    "минута разговора: 3 рубля\n",
    "сообщение: 3 рубля\n",
    "1 Гб интернет-трафика: 200 рублей\n",
    "\n",
    "### Тариф «Ультра»\n",
    "Ежемесячная плата: 1950 рублей\n",
    "Включено 3000 минут разговора, 1000 сообщений и 30 Гб интернет-трафика\n",
    "Стоимость услуг сверх тарифного пакета:\n",
    "минута разговора: 1 рубль\n",
    "сообщение: 1 рубль\n",
    "1 Гб интернет-трафика: 150 рублей\n",
    "\n",
    "**Примечание**\n",
    "«Мегалайн» всегда округляет секунды до минут, а мегабайты — до гигабайт. Каждый звонок округляется отдельно: даже если он длился всего 1 секунду, будет засчитан как 1 минута.\n",
    "Для веб-трафика отдельные сессии не считаются. Вместо этого общая сумма за месяц округляется в бо́льшую сторону. Если абонент использует 1025 мегабайт в этом месяце, с него возьмут плату за 2 гигабайта. Примите, что неиспользованные за предыдущий месяц звонки, смс, интернет на следующий месяц не переносятся."
   ]
  },
  {
   "cell_type": "markdown",
   "id": "ff9eff5a",
   "metadata": {},
   "source": [
    "## [Описание данных](#section_id3)\n",
    "\n",
    "**Таблица users (информация о пользователях)**:\n",
    "* user_id — уникальный идентификатор пользователя\n",
    "* first_name — имя пользователя\n",
    "* last_name — фамилия пользователя\n",
    "* age — возраст пользователя (годы)\n",
    "* reg_date — дата подключения тарифа (день, месяц, год)\n",
    "* churn_date — дата прекращения пользования тарифом (если значение пропущено, то тариф ещё действовал на момент выгрузки данных)\n",
    "* city — город проживания пользователя\n",
    "* tariff — название тарифного плана\n",
    "\n",
    "**Таблица calls (информация о звонках)**:\n",
    "* id — уникальный номер звонка\n",
    "* call_date — дата звонка\n",
    "* duration — длительность звонка в минутах\n",
    "* user_id — идентификатор пользователя, сделавшего звонок\n",
    "\n",
    "**Таблица messages (информация о сообщениях)**:\n",
    "* id — уникальный номер сообщения\n",
    "* message_date — дата сообщения\n",
    "* user_id — идентификатор пользователя, отправившего сообщение\n",
    "\n",
    "**Таблица internet (информация об интернет-сессиях)**:\n",
    "* id — уникальный номер сессии\n",
    "* mb_used — объём потраченного за сессию интернет-трафика (в мегабайтах)\n",
    "* session_date — дата интернет-сессии\n",
    "* user_id — идентификатор пользователя\n",
    "\n",
    "**Таблица tariffs (информация о тарифах)**:\n",
    "* tariff_name — название тарифа\n",
    "* rub_monthly_fee — ежемесячная абонентская плата в рублях\n",
    "* minutes_included — количество минут разговора в месяц, включённых в абонентскую плату\n",
    "* messages_included — количество сообщений в месяц, включённых в абонентскую плату\n",
    "* mb_per_month_included — объём интернет-трафика, включённого в абонентскую плату (в мегабайтах)\n",
    "* rub_per_minute — стоимость минуты разговора сверх тарифного пакета (например, если в тарифе 100 минут разговора в месяц, то со 101 минуты будет взиматься плата)\n",
    "* rub_per_message — стоимость отправки сообщения сверх тарифного пакета\n",
    "* rub_per_gb — стоимость дополнительного гигабайта интернет-трафика сверх тарифного пакета (1 гигабайт = 1024 мегабайта)\n",
    "\n",
    "**Примечание. Если объединение таблиц командой merge приводит к ошибке dead kernell, примените join.**"
   ]
  },
  {
   "cell_type": "markdown",
   "id": "a0b104b5",
   "metadata": {},
   "source": [
    "# [Шаг 1. Обзор данных](#section_id4)"
   ]
  },
  {
   "cell_type": "markdown",
   "id": "4151184a",
   "metadata": {},
   "source": [
    "Импортируем библиотеки, которые нам понадобятся:"
   ]
  },
  {
   "cell_type": "code",
   "execution_count": 1,
   "id": "28918cc8",
   "metadata": {},
   "outputs": [],
   "source": [
    "import pandas as pd\n",
    "import matplotlib.pyplot as plt \n",
    "import numpy as np\n",
    "from scipy import stats as st\n",
    "import math"
   ]
  },
  {
   "cell_type": "markdown",
   "id": "ad82134a",
   "metadata": {},
   "source": [
    "Изучим данные:"
   ]
  },
  {
   "cell_type": "code",
   "execution_count": 2,
   "id": "ee4ed954",
   "metadata": {},
   "outputs": [
    {
     "data": {
      "text/html": [
       "<div>\n",
       "<style scoped>\n",
       "    .dataframe tbody tr th:only-of-type {\n",
       "        vertical-align: middle;\n",
       "    }\n",
       "\n",
       "    .dataframe tbody tr th {\n",
       "        vertical-align: top;\n",
       "    }\n",
       "\n",
       "    .dataframe thead th {\n",
       "        text-align: right;\n",
       "    }\n",
       "</style>\n",
       "<table border=\"1\" class=\"dataframe\">\n",
       "  <thead>\n",
       "    <tr style=\"text-align: right;\">\n",
       "      <th></th>\n",
       "      <th>id</th>\n",
       "      <th>call_date</th>\n",
       "      <th>duration</th>\n",
       "      <th>user_id</th>\n",
       "    </tr>\n",
       "  </thead>\n",
       "  <tbody>\n",
       "    <tr>\n",
       "      <th>0</th>\n",
       "      <td>1000_0</td>\n",
       "      <td>2018-07-25</td>\n",
       "      <td>0.00</td>\n",
       "      <td>1000</td>\n",
       "    </tr>\n",
       "    <tr>\n",
       "      <th>1</th>\n",
       "      <td>1000_1</td>\n",
       "      <td>2018-08-17</td>\n",
       "      <td>0.00</td>\n",
       "      <td>1000</td>\n",
       "    </tr>\n",
       "    <tr>\n",
       "      <th>2</th>\n",
       "      <td>1000_2</td>\n",
       "      <td>2018-06-11</td>\n",
       "      <td>2.85</td>\n",
       "      <td>1000</td>\n",
       "    </tr>\n",
       "    <tr>\n",
       "      <th>3</th>\n",
       "      <td>1000_3</td>\n",
       "      <td>2018-09-21</td>\n",
       "      <td>13.80</td>\n",
       "      <td>1000</td>\n",
       "    </tr>\n",
       "    <tr>\n",
       "      <th>4</th>\n",
       "      <td>1000_4</td>\n",
       "      <td>2018-12-15</td>\n",
       "      <td>5.18</td>\n",
       "      <td>1000</td>\n",
       "    </tr>\n",
       "    <tr>\n",
       "      <th>5</th>\n",
       "      <td>1000_5</td>\n",
       "      <td>2018-11-02</td>\n",
       "      <td>0.00</td>\n",
       "      <td>1000</td>\n",
       "    </tr>\n",
       "    <tr>\n",
       "      <th>6</th>\n",
       "      <td>1000_6</td>\n",
       "      <td>2018-10-18</td>\n",
       "      <td>0.00</td>\n",
       "      <td>1000</td>\n",
       "    </tr>\n",
       "    <tr>\n",
       "      <th>7</th>\n",
       "      <td>1000_7</td>\n",
       "      <td>2018-08-22</td>\n",
       "      <td>18.31</td>\n",
       "      <td>1000</td>\n",
       "    </tr>\n",
       "    <tr>\n",
       "      <th>8</th>\n",
       "      <td>1000_8</td>\n",
       "      <td>2018-09-15</td>\n",
       "      <td>18.44</td>\n",
       "      <td>1000</td>\n",
       "    </tr>\n",
       "    <tr>\n",
       "      <th>9</th>\n",
       "      <td>1000_9</td>\n",
       "      <td>2018-08-15</td>\n",
       "      <td>0.00</td>\n",
       "      <td>1000</td>\n",
       "    </tr>\n",
       "    <tr>\n",
       "      <th>10</th>\n",
       "      <td>1000_10</td>\n",
       "      <td>2018-08-22</td>\n",
       "      <td>5.03</td>\n",
       "      <td>1000</td>\n",
       "    </tr>\n",
       "    <tr>\n",
       "      <th>11</th>\n",
       "      <td>1000_11</td>\n",
       "      <td>2018-05-28</td>\n",
       "      <td>18.82</td>\n",
       "      <td>1000</td>\n",
       "    </tr>\n",
       "    <tr>\n",
       "      <th>12</th>\n",
       "      <td>1000_12</td>\n",
       "      <td>2018-07-05</td>\n",
       "      <td>2.02</td>\n",
       "      <td>1000</td>\n",
       "    </tr>\n",
       "    <tr>\n",
       "      <th>13</th>\n",
       "      <td>1000_13</td>\n",
       "      <td>2018-09-29</td>\n",
       "      <td>7.15</td>\n",
       "      <td>1000</td>\n",
       "    </tr>\n",
       "    <tr>\n",
       "      <th>14</th>\n",
       "      <td>1000_14</td>\n",
       "      <td>2018-12-11</td>\n",
       "      <td>9.13</td>\n",
       "      <td>1000</td>\n",
       "    </tr>\n",
       "  </tbody>\n",
       "</table>\n",
       "</div>"
      ],
      "text/plain": [
       "         id   call_date  duration  user_id\n",
       "0    1000_0  2018-07-25      0.00     1000\n",
       "1    1000_1  2018-08-17      0.00     1000\n",
       "2    1000_2  2018-06-11      2.85     1000\n",
       "3    1000_3  2018-09-21     13.80     1000\n",
       "4    1000_4  2018-12-15      5.18     1000\n",
       "5    1000_5  2018-11-02      0.00     1000\n",
       "6    1000_6  2018-10-18      0.00     1000\n",
       "7    1000_7  2018-08-22     18.31     1000\n",
       "8    1000_8  2018-09-15     18.44     1000\n",
       "9    1000_9  2018-08-15      0.00     1000\n",
       "10  1000_10  2018-08-22      5.03     1000\n",
       "11  1000_11  2018-05-28     18.82     1000\n",
       "12  1000_12  2018-07-05      2.02     1000\n",
       "13  1000_13  2018-09-29      7.15     1000\n",
       "14  1000_14  2018-12-11      9.13     1000"
      ]
     },
     "execution_count": 2,
     "metadata": {},
     "output_type": "execute_result"
    }
   ],
   "source": [
    "# таблица calls (информация о звонках):\n",
    "try:\n",
    "    df_calls = pd.read_csv('/datasets/calls.csv')\n",
    "except:\n",
    "    df_calls = pd.read_csv('calls.csv')\n",
    "df_calls.head(15)"
   ]
  },
  {
   "cell_type": "code",
   "execution_count": 3,
   "id": "afc359b3",
   "metadata": {},
   "outputs": [
    {
     "name": "stdout",
     "output_type": "stream",
     "text": [
      "<class 'pandas.core.frame.DataFrame'>\n",
      "RangeIndex: 202607 entries, 0 to 202606\n",
      "Data columns (total 4 columns):\n",
      " #   Column     Non-Null Count   Dtype  \n",
      "---  ------     --------------   -----  \n",
      " 0   id         202607 non-null  object \n",
      " 1   call_date  202607 non-null  object \n",
      " 2   duration   202607 non-null  float64\n",
      " 3   user_id    202607 non-null  int64  \n",
      "dtypes: float64(1), int64(1), object(2)\n",
      "memory usage: 6.2+ MB\n"
     ]
    }
   ],
   "source": [
    "df_calls.info()"
   ]
  },
  {
   "cell_type": "code",
   "execution_count": 4,
   "id": "6c4f7975",
   "metadata": {},
   "outputs": [
    {
     "data": {
      "text/plain": [
       "492"
      ]
     },
     "execution_count": 4,
     "metadata": {},
     "output_type": "execute_result"
    }
   ],
   "source": [
    "# проверим- сколько уникальных юзеров совершало звонки\n",
    "len(df_calls['user_id'].unique())"
   ]
  },
  {
   "cell_type": "code",
   "execution_count": 5,
   "id": "793ee09b",
   "metadata": {},
   "outputs": [
    {
     "data": {
      "text/html": [
       "<div>\n",
       "<style scoped>\n",
       "    .dataframe tbody tr th:only-of-type {\n",
       "        vertical-align: middle;\n",
       "    }\n",
       "\n",
       "    .dataframe tbody tr th {\n",
       "        vertical-align: top;\n",
       "    }\n",
       "\n",
       "    .dataframe thead th {\n",
       "        text-align: right;\n",
       "    }\n",
       "</style>\n",
       "<table border=\"1\" class=\"dataframe\">\n",
       "  <thead>\n",
       "    <tr style=\"text-align: right;\">\n",
       "      <th></th>\n",
       "      <th>id</th>\n",
       "      <th>call_date</th>\n",
       "      <th>duration</th>\n",
       "      <th>user_id</th>\n",
       "    </tr>\n",
       "  </thead>\n",
       "  <tbody>\n",
       "    <tr>\n",
       "      <th>0</th>\n",
       "      <td>1000_0</td>\n",
       "      <td>2018-07-25</td>\n",
       "      <td>0.00</td>\n",
       "      <td>1000</td>\n",
       "    </tr>\n",
       "    <tr>\n",
       "      <th>1</th>\n",
       "      <td>1000_1</td>\n",
       "      <td>2018-08-17</td>\n",
       "      <td>0.00</td>\n",
       "      <td>1000</td>\n",
       "    </tr>\n",
       "    <tr>\n",
       "      <th>2</th>\n",
       "      <td>1000_2</td>\n",
       "      <td>2018-06-11</td>\n",
       "      <td>2.85</td>\n",
       "      <td>1000</td>\n",
       "    </tr>\n",
       "    <tr>\n",
       "      <th>3</th>\n",
       "      <td>1000_3</td>\n",
       "      <td>2018-09-21</td>\n",
       "      <td>13.80</td>\n",
       "      <td>1000</td>\n",
       "    </tr>\n",
       "    <tr>\n",
       "      <th>4</th>\n",
       "      <td>1000_4</td>\n",
       "      <td>2018-12-15</td>\n",
       "      <td>5.18</td>\n",
       "      <td>1000</td>\n",
       "    </tr>\n",
       "  </tbody>\n",
       "</table>\n",
       "</div>"
      ],
      "text/plain": [
       "       id   call_date  duration  user_id\n",
       "0  1000_0  2018-07-25      0.00     1000\n",
       "1  1000_1  2018-08-17      0.00     1000\n",
       "2  1000_2  2018-06-11      2.85     1000\n",
       "3  1000_3  2018-09-21     13.80     1000\n",
       "4  1000_4  2018-12-15      5.18     1000"
      ]
     },
     "execution_count": 5,
     "metadata": {},
     "output_type": "execute_result"
    }
   ],
   "source": [
    "df_calls.head()"
   ]
  },
  {
   "cell_type": "code",
   "execution_count": 6,
   "id": "2cfc305d",
   "metadata": {},
   "outputs": [
    {
     "data": {
      "image/png": "[encoded data removed]",
      "text/plain": [
       "<Figure size 432x288 with 1 Axes>"
      ]
     },
     "metadata": {
      "needs_background": "light"
     },
     "output_type": "display_data"
    }
   ],
   "source": [
    "# изучим количество звонков на аномалии\n",
    "df_calls['duration'].hist()\n",
    "plt.title('Длина звонков, мин')\n",
    "plt.xlabel('Минуты разговора')\n",
    "plt.ylabel('Количество звонков')\n",
    "None"
   ]
  },
  {
   "cell_type": "markdown",
   "id": "fe1e59dd",
   "metadata": {},
   "source": [
    "Есть недозвоны, потому видим пик на нуле, разговоров больше 25 минут практически нет."
   ]
  },
  {
   "cell_type": "code",
   "execution_count": 7,
   "id": "cd4f1743",
   "metadata": {},
   "outputs": [
    {
     "data": {
      "text/html": [
       "<div>\n",
       "<style scoped>\n",
       "    .dataframe tbody tr th:only-of-type {\n",
       "        vertical-align: middle;\n",
       "    }\n",
       "\n",
       "    .dataframe tbody tr th {\n",
       "        vertical-align: top;\n",
       "    }\n",
       "\n",
       "    .dataframe thead th {\n",
       "        text-align: right;\n",
       "    }\n",
       "</style>\n",
       "<table border=\"1\" class=\"dataframe\">\n",
       "  <thead>\n",
       "    <tr style=\"text-align: right;\">\n",
       "      <th></th>\n",
       "      <th>duration</th>\n",
       "      <th>user_id</th>\n",
       "    </tr>\n",
       "  </thead>\n",
       "  <tbody>\n",
       "    <tr>\n",
       "      <th>count</th>\n",
       "      <td>202607.000000</td>\n",
       "      <td>202607.000000</td>\n",
       "    </tr>\n",
       "    <tr>\n",
       "      <th>mean</th>\n",
       "      <td>6.755887</td>\n",
       "      <td>1253.940619</td>\n",
       "    </tr>\n",
       "    <tr>\n",
       "      <th>std</th>\n",
       "      <td>5.843365</td>\n",
       "      <td>144.722751</td>\n",
       "    </tr>\n",
       "    <tr>\n",
       "      <th>min</th>\n",
       "      <td>0.000000</td>\n",
       "      <td>1000.000000</td>\n",
       "    </tr>\n",
       "    <tr>\n",
       "      <th>25%</th>\n",
       "      <td>1.300000</td>\n",
       "      <td>1126.000000</td>\n",
       "    </tr>\n",
       "    <tr>\n",
       "      <th>50%</th>\n",
       "      <td>6.000000</td>\n",
       "      <td>1260.000000</td>\n",
       "    </tr>\n",
       "    <tr>\n",
       "      <th>75%</th>\n",
       "      <td>10.700000</td>\n",
       "      <td>1379.000000</td>\n",
       "    </tr>\n",
       "    <tr>\n",
       "      <th>max</th>\n",
       "      <td>38.000000</td>\n",
       "      <td>1499.000000</td>\n",
       "    </tr>\n",
       "  </tbody>\n",
       "</table>\n",
       "</div>"
      ],
      "text/plain": [
       "            duration        user_id\n",
       "count  202607.000000  202607.000000\n",
       "mean        6.755887    1253.940619\n",
       "std         5.843365     144.722751\n",
       "min         0.000000    1000.000000\n",
       "25%         1.300000    1126.000000\n",
       "50%         6.000000    1260.000000\n",
       "75%        10.700000    1379.000000\n",
       "max        38.000000    1499.000000"
      ]
     },
     "execution_count": 7,
     "metadata": {},
     "output_type": "execute_result"
    }
   ],
   "source": [
    "df_calls.describe()"
   ]
  },
  {
   "cell_type": "markdown",
   "id": "5ef7b25d",
   "metadata": {},
   "source": [
    "По условиям, мы помним, что 0 - это несостоявшийся звонок. Посмотрим сколько таких звонков:"
   ]
  },
  {
   "cell_type": "code",
   "execution_count": 8,
   "id": "cf1d97cc",
   "metadata": {},
   "outputs": [
    {
     "data": {
      "text/plain": [
       "19.551644316336553"
      ]
     },
     "execution_count": 8,
     "metadata": {},
     "output_type": "execute_result"
    }
   ],
   "source": [
    "len(df_calls.query('duration == 0'))/len(df_calls)*100"
   ]
  },
  {
   "cell_type": "markdown",
   "id": "625350f1",
   "metadata": {},
   "source": [
    "23% звонков - недозвоны, могу предположить, что это может быть реальным сценарием в жизни."
   ]
  },
  {
   "cell_type": "code",
   "execution_count": 9,
   "id": "fbc587bb",
   "metadata": {},
   "outputs": [
    {
     "data": {
      "text/html": [
       "<div>\n",
       "<style scoped>\n",
       "    .dataframe tbody tr th:only-of-type {\n",
       "        vertical-align: middle;\n",
       "    }\n",
       "\n",
       "    .dataframe tbody tr th {\n",
       "        vertical-align: top;\n",
       "    }\n",
       "\n",
       "    .dataframe thead th {\n",
       "        text-align: right;\n",
       "    }\n",
       "</style>\n",
       "<table border=\"1\" class=\"dataframe\">\n",
       "  <thead>\n",
       "    <tr style=\"text-align: right;\">\n",
       "      <th></th>\n",
       "      <th>id</th>\n",
       "      <th>mb_used</th>\n",
       "      <th>session_date</th>\n",
       "      <th>user_id</th>\n",
       "    </tr>\n",
       "  </thead>\n",
       "  <tbody>\n",
       "    <tr>\n",
       "      <th>0</th>\n",
       "      <td>1000_0</td>\n",
       "      <td>112.95</td>\n",
       "      <td>2018-11-25</td>\n",
       "      <td>1000</td>\n",
       "    </tr>\n",
       "    <tr>\n",
       "      <th>1</th>\n",
       "      <td>1000_1</td>\n",
       "      <td>1052.81</td>\n",
       "      <td>2018-09-07</td>\n",
       "      <td>1000</td>\n",
       "    </tr>\n",
       "    <tr>\n",
       "      <th>2</th>\n",
       "      <td>1000_2</td>\n",
       "      <td>1197.26</td>\n",
       "      <td>2018-06-25</td>\n",
       "      <td>1000</td>\n",
       "    </tr>\n",
       "    <tr>\n",
       "      <th>3</th>\n",
       "      <td>1000_3</td>\n",
       "      <td>550.27</td>\n",
       "      <td>2018-08-22</td>\n",
       "      <td>1000</td>\n",
       "    </tr>\n",
       "    <tr>\n",
       "      <th>4</th>\n",
       "      <td>1000_4</td>\n",
       "      <td>302.56</td>\n",
       "      <td>2018-09-24</td>\n",
       "      <td>1000</td>\n",
       "    </tr>\n",
       "    <tr>\n",
       "      <th>5</th>\n",
       "      <td>1000_5</td>\n",
       "      <td>399.97</td>\n",
       "      <td>2018-10-02</td>\n",
       "      <td>1000</td>\n",
       "    </tr>\n",
       "    <tr>\n",
       "      <th>6</th>\n",
       "      <td>1000_6</td>\n",
       "      <td>540.08</td>\n",
       "      <td>2018-09-07</td>\n",
       "      <td>1000</td>\n",
       "    </tr>\n",
       "    <tr>\n",
       "      <th>7</th>\n",
       "      <td>1000_7</td>\n",
       "      <td>415.70</td>\n",
       "      <td>2018-07-11</td>\n",
       "      <td>1000</td>\n",
       "    </tr>\n",
       "    <tr>\n",
       "      <th>8</th>\n",
       "      <td>1000_8</td>\n",
       "      <td>505.40</td>\n",
       "      <td>2018-10-08</td>\n",
       "      <td>1000</td>\n",
       "    </tr>\n",
       "    <tr>\n",
       "      <th>9</th>\n",
       "      <td>1000_9</td>\n",
       "      <td>345.54</td>\n",
       "      <td>2018-09-03</td>\n",
       "      <td>1000</td>\n",
       "    </tr>\n",
       "    <tr>\n",
       "      <th>10</th>\n",
       "      <td>1000_10</td>\n",
       "      <td>385.14</td>\n",
       "      <td>2018-09-27</td>\n",
       "      <td>1000</td>\n",
       "    </tr>\n",
       "    <tr>\n",
       "      <th>11</th>\n",
       "      <td>1000_11</td>\n",
       "      <td>0.00</td>\n",
       "      <td>2018-08-28</td>\n",
       "      <td>1000</td>\n",
       "    </tr>\n",
       "    <tr>\n",
       "      <th>12</th>\n",
       "      <td>1000_12</td>\n",
       "      <td>375.87</td>\n",
       "      <td>2018-06-20</td>\n",
       "      <td>1000</td>\n",
       "    </tr>\n",
       "    <tr>\n",
       "      <th>13</th>\n",
       "      <td>1000_13</td>\n",
       "      <td>393.83</td>\n",
       "      <td>2018-08-09</td>\n",
       "      <td>1000</td>\n",
       "    </tr>\n",
       "    <tr>\n",
       "      <th>14</th>\n",
       "      <td>1000_14</td>\n",
       "      <td>180.64</td>\n",
       "      <td>2018-08-11</td>\n",
       "      <td>1000</td>\n",
       "    </tr>\n",
       "  </tbody>\n",
       "</table>\n",
       "</div>"
      ],
      "text/plain": [
       "         id  mb_used session_date  user_id\n",
       "0    1000_0   112.95   2018-11-25     1000\n",
       "1    1000_1  1052.81   2018-09-07     1000\n",
       "2    1000_2  1197.26   2018-06-25     1000\n",
       "3    1000_3   550.27   2018-08-22     1000\n",
       "4    1000_4   302.56   2018-09-24     1000\n",
       "5    1000_5   399.97   2018-10-02     1000\n",
       "6    1000_6   540.08   2018-09-07     1000\n",
       "7    1000_7   415.70   2018-07-11     1000\n",
       "8    1000_8   505.40   2018-10-08     1000\n",
       "9    1000_9   345.54   2018-09-03     1000\n",
       "10  1000_10   385.14   2018-09-27     1000\n",
       "11  1000_11     0.00   2018-08-28     1000\n",
       "12  1000_12   375.87   2018-06-20     1000\n",
       "13  1000_13   393.83   2018-08-09     1000\n",
       "14  1000_14   180.64   2018-08-11     1000"
      ]
     },
     "execution_count": 9,
     "metadata": {},
     "output_type": "execute_result"
    }
   ],
   "source": [
    "# таблица internet (информация об интернет-сессиях):\n",
    "try:\n",
    "    df_internet = pd.read_csv('/datasets/internet.csv', index_col=0)\n",
    "except:\n",
    "    df_internet = pd.read_csv('internet.csv', index_col=0)\n",
    "df_internet.head(15)"
   ]
  },
  {
   "cell_type": "code",
   "execution_count": 10,
   "id": "1ddbf06f",
   "metadata": {},
   "outputs": [
    {
     "data": {
      "text/plain": [
       "497"
      ]
     },
     "execution_count": 10,
     "metadata": {},
     "output_type": "execute_result"
    }
   ],
   "source": [
    "# сколько уникальныз юзеров пользовалось инетом\n",
    "len(df_internet['user_id'].unique())"
   ]
  },
  {
   "cell_type": "code",
   "execution_count": 11,
   "id": "19eab096",
   "metadata": {},
   "outputs": [
    {
     "data": {
      "image/png": "[encoded data removed]",
      "text/plain": [
       "<Figure size 432x288 with 1 Axes>"
      ]
     },
     "metadata": {
      "needs_background": "light"
     },
     "output_type": "display_data"
    }
   ],
   "source": [
    "# изучим объем израсходованного трафика на аномалии\n",
    "df_internet['mb_used'].hist(bins=80, range=(0,1500))\n",
    "plt.title('Объем использованного трафика')\n",
    "plt.xlabel('Мб инета')\n",
    "plt.ylabel('Количество сессий')\n",
    "None"
   ]
  },
  {
   "cell_type": "markdown",
   "id": "492f34c6",
   "metadata": {},
   "source": [
    "Пик приходится где-то на 500 Мб инета, практически нет сессий больше чем на 1200 мб. Кажется, что это мало, но возможно в выборке есть взрослые люди, кто не пользуется интернетом вообще или пользуется очень мало."
   ]
  },
  {
   "cell_type": "code",
   "execution_count": 12,
   "id": "f4ddf02c",
   "metadata": {},
   "outputs": [
    {
     "name": "stdout",
     "output_type": "stream",
     "text": [
      "<class 'pandas.core.frame.DataFrame'>\n",
      "Int64Index: 149396 entries, 0 to 149395\n",
      "Data columns (total 4 columns):\n",
      " #   Column        Non-Null Count   Dtype  \n",
      "---  ------        --------------   -----  \n",
      " 0   id            149396 non-null  object \n",
      " 1   mb_used       149396 non-null  float64\n",
      " 2   session_date  149396 non-null  object \n",
      " 3   user_id       149396 non-null  int64  \n",
      "dtypes: float64(1), int64(1), object(2)\n",
      "memory usage: 5.7+ MB\n"
     ]
    }
   ],
   "source": [
    "df_internet.info()"
   ]
  },
  {
   "cell_type": "code",
   "execution_count": 13,
   "id": "58ffa3bc",
   "metadata": {},
   "outputs": [
    {
     "data": {
      "text/html": [
       "<div>\n",
       "<style scoped>\n",
       "    .dataframe tbody tr th:only-of-type {\n",
       "        vertical-align: middle;\n",
       "    }\n",
       "\n",
       "    .dataframe tbody tr th {\n",
       "        vertical-align: top;\n",
       "    }\n",
       "\n",
       "    .dataframe thead th {\n",
       "        text-align: right;\n",
       "    }\n",
       "</style>\n",
       "<table border=\"1\" class=\"dataframe\">\n",
       "  <thead>\n",
       "    <tr style=\"text-align: right;\">\n",
       "      <th></th>\n",
       "      <th>mb_used</th>\n",
       "      <th>user_id</th>\n",
       "    </tr>\n",
       "  </thead>\n",
       "  <tbody>\n",
       "    <tr>\n",
       "      <th>count</th>\n",
       "      <td>149396.000000</td>\n",
       "      <td>149396.000000</td>\n",
       "    </tr>\n",
       "    <tr>\n",
       "      <th>mean</th>\n",
       "      <td>370.192426</td>\n",
       "      <td>1252.099842</td>\n",
       "    </tr>\n",
       "    <tr>\n",
       "      <th>std</th>\n",
       "      <td>278.300951</td>\n",
       "      <td>144.050823</td>\n",
       "    </tr>\n",
       "    <tr>\n",
       "      <th>min</th>\n",
       "      <td>0.000000</td>\n",
       "      <td>1000.000000</td>\n",
       "    </tr>\n",
       "    <tr>\n",
       "      <th>25%</th>\n",
       "      <td>138.187500</td>\n",
       "      <td>1130.000000</td>\n",
       "    </tr>\n",
       "    <tr>\n",
       "      <th>50%</th>\n",
       "      <td>348.015000</td>\n",
       "      <td>1251.000000</td>\n",
       "    </tr>\n",
       "    <tr>\n",
       "      <th>75%</th>\n",
       "      <td>559.552500</td>\n",
       "      <td>1380.000000</td>\n",
       "    </tr>\n",
       "    <tr>\n",
       "      <th>max</th>\n",
       "      <td>1724.830000</td>\n",
       "      <td>1499.000000</td>\n",
       "    </tr>\n",
       "  </tbody>\n",
       "</table>\n",
       "</div>"
      ],
      "text/plain": [
       "             mb_used        user_id\n",
       "count  149396.000000  149396.000000\n",
       "mean      370.192426    1252.099842\n",
       "std       278.300951     144.050823\n",
       "min         0.000000    1000.000000\n",
       "25%       138.187500    1130.000000\n",
       "50%       348.015000    1251.000000\n",
       "75%       559.552500    1380.000000\n",
       "max      1724.830000    1499.000000"
      ]
     },
     "execution_count": 13,
     "metadata": {},
     "output_type": "execute_result"
    }
   ],
   "source": [
    "df_internet.describe()"
   ]
  },
  {
   "cell_type": "code",
   "execution_count": 14,
   "id": "d84752ee",
   "metadata": {},
   "outputs": [
    {
     "data": {
      "text/html": [
       "<div>\n",
       "<style scoped>\n",
       "    .dataframe tbody tr th:only-of-type {\n",
       "        vertical-align: middle;\n",
       "    }\n",
       "\n",
       "    .dataframe tbody tr th {\n",
       "        vertical-align: top;\n",
       "    }\n",
       "\n",
       "    .dataframe thead th {\n",
       "        text-align: right;\n",
       "    }\n",
       "</style>\n",
       "<table border=\"1\" class=\"dataframe\">\n",
       "  <thead>\n",
       "    <tr style=\"text-align: right;\">\n",
       "      <th></th>\n",
       "      <th>user_id</th>\n",
       "      <th>age</th>\n",
       "      <th>churn_date</th>\n",
       "      <th>city</th>\n",
       "      <th>first_name</th>\n",
       "      <th>last_name</th>\n",
       "      <th>reg_date</th>\n",
       "      <th>tariff</th>\n",
       "    </tr>\n",
       "  </thead>\n",
       "  <tbody>\n",
       "    <tr>\n",
       "      <th>0</th>\n",
       "      <td>1000</td>\n",
       "      <td>52</td>\n",
       "      <td>NaN</td>\n",
       "      <td>Краснодар</td>\n",
       "      <td>Рафаил</td>\n",
       "      <td>Верещагин</td>\n",
       "      <td>2018-05-25</td>\n",
       "      <td>ultra</td>\n",
       "    </tr>\n",
       "    <tr>\n",
       "      <th>1</th>\n",
       "      <td>1001</td>\n",
       "      <td>41</td>\n",
       "      <td>NaN</td>\n",
       "      <td>Москва</td>\n",
       "      <td>Иван</td>\n",
       "      <td>Ежов</td>\n",
       "      <td>2018-11-01</td>\n",
       "      <td>smart</td>\n",
       "    </tr>\n",
       "    <tr>\n",
       "      <th>2</th>\n",
       "      <td>1002</td>\n",
       "      <td>59</td>\n",
       "      <td>NaN</td>\n",
       "      <td>Стерлитамак</td>\n",
       "      <td>Евгений</td>\n",
       "      <td>Абрамович</td>\n",
       "      <td>2018-06-17</td>\n",
       "      <td>smart</td>\n",
       "    </tr>\n",
       "    <tr>\n",
       "      <th>3</th>\n",
       "      <td>1003</td>\n",
       "      <td>23</td>\n",
       "      <td>NaN</td>\n",
       "      <td>Москва</td>\n",
       "      <td>Белла</td>\n",
       "      <td>Белякова</td>\n",
       "      <td>2018-08-17</td>\n",
       "      <td>ultra</td>\n",
       "    </tr>\n",
       "    <tr>\n",
       "      <th>4</th>\n",
       "      <td>1004</td>\n",
       "      <td>68</td>\n",
       "      <td>NaN</td>\n",
       "      <td>Новокузнецк</td>\n",
       "      <td>Татьяна</td>\n",
       "      <td>Авдеенко</td>\n",
       "      <td>2018-05-14</td>\n",
       "      <td>ultra</td>\n",
       "    </tr>\n",
       "    <tr>\n",
       "      <th>5</th>\n",
       "      <td>1005</td>\n",
       "      <td>67</td>\n",
       "      <td>NaN</td>\n",
       "      <td>Набережные Челны</td>\n",
       "      <td>Афанасий</td>\n",
       "      <td>Горлов</td>\n",
       "      <td>2018-01-25</td>\n",
       "      <td>smart</td>\n",
       "    </tr>\n",
       "    <tr>\n",
       "      <th>6</th>\n",
       "      <td>1006</td>\n",
       "      <td>21</td>\n",
       "      <td>NaN</td>\n",
       "      <td>Ульяновск</td>\n",
       "      <td>Леонид</td>\n",
       "      <td>Ермолаев</td>\n",
       "      <td>2018-02-26</td>\n",
       "      <td>smart</td>\n",
       "    </tr>\n",
       "    <tr>\n",
       "      <th>7</th>\n",
       "      <td>1007</td>\n",
       "      <td>65</td>\n",
       "      <td>NaN</td>\n",
       "      <td>Москва</td>\n",
       "      <td>Юна</td>\n",
       "      <td>Березина</td>\n",
       "      <td>2018-04-19</td>\n",
       "      <td>smart</td>\n",
       "    </tr>\n",
       "    <tr>\n",
       "      <th>8</th>\n",
       "      <td>1008</td>\n",
       "      <td>63</td>\n",
       "      <td>NaN</td>\n",
       "      <td>Челябинск</td>\n",
       "      <td>Рустэм</td>\n",
       "      <td>Пономарёв</td>\n",
       "      <td>2018-12-19</td>\n",
       "      <td>smart</td>\n",
       "    </tr>\n",
       "    <tr>\n",
       "      <th>9</th>\n",
       "      <td>1009</td>\n",
       "      <td>24</td>\n",
       "      <td>NaN</td>\n",
       "      <td>Пермь</td>\n",
       "      <td>Василиса</td>\n",
       "      <td>Блинова</td>\n",
       "      <td>2018-03-22</td>\n",
       "      <td>smart</td>\n",
       "    </tr>\n",
       "    <tr>\n",
       "      <th>10</th>\n",
       "      <td>1010</td>\n",
       "      <td>26</td>\n",
       "      <td>NaN</td>\n",
       "      <td>Тюмень</td>\n",
       "      <td>Эдуард</td>\n",
       "      <td>Кононов</td>\n",
       "      <td>2018-08-05</td>\n",
       "      <td>smart</td>\n",
       "    </tr>\n",
       "    <tr>\n",
       "      <th>11</th>\n",
       "      <td>1011</td>\n",
       "      <td>44</td>\n",
       "      <td>NaN</td>\n",
       "      <td>Самара</td>\n",
       "      <td>Веселина</td>\n",
       "      <td>Алёшко</td>\n",
       "      <td>2018-03-19</td>\n",
       "      <td>smart</td>\n",
       "    </tr>\n",
       "    <tr>\n",
       "      <th>12</th>\n",
       "      <td>1012</td>\n",
       "      <td>38</td>\n",
       "      <td>NaN</td>\n",
       "      <td>Санкт-Петербург</td>\n",
       "      <td>Варлам</td>\n",
       "      <td>Соловьев</td>\n",
       "      <td>2018-03-28</td>\n",
       "      <td>smart</td>\n",
       "    </tr>\n",
       "    <tr>\n",
       "      <th>13</th>\n",
       "      <td>1013</td>\n",
       "      <td>36</td>\n",
       "      <td>NaN</td>\n",
       "      <td>Иваново</td>\n",
       "      <td>Борис</td>\n",
       "      <td>Андреенко</td>\n",
       "      <td>2018-11-14</td>\n",
       "      <td>ultra</td>\n",
       "    </tr>\n",
       "    <tr>\n",
       "      <th>14</th>\n",
       "      <td>1014</td>\n",
       "      <td>64</td>\n",
       "      <td>NaN</td>\n",
       "      <td>Чебоксары</td>\n",
       "      <td>Яков</td>\n",
       "      <td>Акинфьев</td>\n",
       "      <td>2018-05-15</td>\n",
       "      <td>smart</td>\n",
       "    </tr>\n",
       "  </tbody>\n",
       "</table>\n",
       "</div>"
      ],
      "text/plain": [
       "    user_id  age churn_date              city first_name  last_name  \\\n",
       "0      1000   52        NaN         Краснодар     Рафаил  Верещагин   \n",
       "1      1001   41        NaN            Москва       Иван       Ежов   \n",
       "2      1002   59        NaN       Стерлитамак    Евгений  Абрамович   \n",
       "3      1003   23        NaN            Москва      Белла   Белякова   \n",
       "4      1004   68        NaN       Новокузнецк    Татьяна   Авдеенко   \n",
       "5      1005   67        NaN  Набережные Челны   Афанасий     Горлов   \n",
       "6      1006   21        NaN         Ульяновск     Леонид   Ермолаев   \n",
       "7      1007   65        NaN            Москва        Юна   Березина   \n",
       "8      1008   63        NaN         Челябинск     Рустэм  Пономарёв   \n",
       "9      1009   24        NaN             Пермь   Василиса    Блинова   \n",
       "10     1010   26        NaN            Тюмень     Эдуард    Кононов   \n",
       "11     1011   44        NaN            Самара   Веселина     Алёшко   \n",
       "12     1012   38        NaN   Санкт-Петербург     Варлам   Соловьев   \n",
       "13     1013   36        NaN           Иваново      Борис  Андреенко   \n",
       "14     1014   64        NaN         Чебоксары       Яков   Акинфьев   \n",
       "\n",
       "      reg_date tariff  \n",
       "0   2018-05-25  ultra  \n",
       "1   2018-11-01  smart  \n",
       "2   2018-06-17  smart  \n",
       "3   2018-08-17  ultra  \n",
       "4   2018-05-14  ultra  \n",
       "5   2018-01-25  smart  \n",
       "6   2018-02-26  smart  \n",
       "7   2018-04-19  smart  \n",
       "8   2018-12-19  smart  \n",
       "9   2018-03-22  smart  \n",
       "10  2018-08-05  smart  \n",
       "11  2018-03-19  smart  \n",
       "12  2018-03-28  smart  \n",
       "13  2018-11-14  ultra  \n",
       "14  2018-05-15  smart  "
      ]
     },
     "execution_count": 14,
     "metadata": {},
     "output_type": "execute_result"
    }
   ],
   "source": [
    "# таблица users (информация о пользователях):\n",
    "try:\n",
    "    df_users = pd.read_csv('/datasets/users.csv')\n",
    "except:\n",
    "    df_users = pd.read_csv('users.csv')\n",
    "df_users.head(15)"
   ]
  },
  {
   "cell_type": "code",
   "execution_count": 15,
   "id": "d8dd3b2e",
   "metadata": {},
   "outputs": [
    {
     "name": "stdout",
     "output_type": "stream",
     "text": [
      "<class 'pandas.core.frame.DataFrame'>\n",
      "RangeIndex: 500 entries, 0 to 499\n",
      "Data columns (total 8 columns):\n",
      " #   Column      Non-Null Count  Dtype \n",
      "---  ------      --------------  ----- \n",
      " 0   user_id     500 non-null    int64 \n",
      " 1   age         500 non-null    int64 \n",
      " 2   churn_date  38 non-null     object\n",
      " 3   city        500 non-null    object\n",
      " 4   first_name  500 non-null    object\n",
      " 5   last_name   500 non-null    object\n",
      " 6   reg_date    500 non-null    object\n",
      " 7   tariff      500 non-null    object\n",
      "dtypes: int64(2), object(6)\n",
      "memory usage: 31.4+ KB\n"
     ]
    }
   ],
   "source": [
    "df_users.info()"
   ]
  },
  {
   "cell_type": "code",
   "execution_count": 16,
   "id": "1d7c153f",
   "metadata": {},
   "outputs": [
    {
     "data": {
      "text/plain": [
       "500"
      ]
     },
     "execution_count": 16,
     "metadata": {},
     "output_type": "execute_result"
    }
   ],
   "source": [
    "len(df_users['user_id'].unique())"
   ]
  },
  {
   "cell_type": "code",
   "execution_count": 17,
   "id": "e128e600",
   "metadata": {},
   "outputs": [
    {
     "data": {
      "text/html": [
       "<div>\n",
       "<style scoped>\n",
       "    .dataframe tbody tr th:only-of-type {\n",
       "        vertical-align: middle;\n",
       "    }\n",
       "\n",
       "    .dataframe tbody tr th {\n",
       "        vertical-align: top;\n",
       "    }\n",
       "\n",
       "    .dataframe thead th {\n",
       "        text-align: right;\n",
       "    }\n",
       "</style>\n",
       "<table border=\"1\" class=\"dataframe\">\n",
       "  <thead>\n",
       "    <tr style=\"text-align: right;\">\n",
       "      <th></th>\n",
       "      <th>id</th>\n",
       "      <th>message_date</th>\n",
       "      <th>user_id</th>\n",
       "    </tr>\n",
       "  </thead>\n",
       "  <tbody>\n",
       "    <tr>\n",
       "      <th>0</th>\n",
       "      <td>1000_0</td>\n",
       "      <td>2018-06-27</td>\n",
       "      <td>1000</td>\n",
       "    </tr>\n",
       "    <tr>\n",
       "      <th>1</th>\n",
       "      <td>1000_1</td>\n",
       "      <td>2018-10-08</td>\n",
       "      <td>1000</td>\n",
       "    </tr>\n",
       "    <tr>\n",
       "      <th>2</th>\n",
       "      <td>1000_2</td>\n",
       "      <td>2018-08-04</td>\n",
       "      <td>1000</td>\n",
       "    </tr>\n",
       "    <tr>\n",
       "      <th>3</th>\n",
       "      <td>1000_3</td>\n",
       "      <td>2018-06-16</td>\n",
       "      <td>1000</td>\n",
       "    </tr>\n",
       "    <tr>\n",
       "      <th>4</th>\n",
       "      <td>1000_4</td>\n",
       "      <td>2018-12-05</td>\n",
       "      <td>1000</td>\n",
       "    </tr>\n",
       "    <tr>\n",
       "      <th>5</th>\n",
       "      <td>1000_5</td>\n",
       "      <td>2018-06-20</td>\n",
       "      <td>1000</td>\n",
       "    </tr>\n",
       "    <tr>\n",
       "      <th>6</th>\n",
       "      <td>1000_6</td>\n",
       "      <td>2018-11-19</td>\n",
       "      <td>1000</td>\n",
       "    </tr>\n",
       "    <tr>\n",
       "      <th>7</th>\n",
       "      <td>1000_7</td>\n",
       "      <td>2018-10-29</td>\n",
       "      <td>1000</td>\n",
       "    </tr>\n",
       "    <tr>\n",
       "      <th>8</th>\n",
       "      <td>1000_8</td>\n",
       "      <td>2018-06-25</td>\n",
       "      <td>1000</td>\n",
       "    </tr>\n",
       "    <tr>\n",
       "      <th>9</th>\n",
       "      <td>1000_9</td>\n",
       "      <td>2018-12-18</td>\n",
       "      <td>1000</td>\n",
       "    </tr>\n",
       "    <tr>\n",
       "      <th>10</th>\n",
       "      <td>1000_10</td>\n",
       "      <td>2018-05-30</td>\n",
       "      <td>1000</td>\n",
       "    </tr>\n",
       "    <tr>\n",
       "      <th>11</th>\n",
       "      <td>1000_11</td>\n",
       "      <td>2018-07-06</td>\n",
       "      <td>1000</td>\n",
       "    </tr>\n",
       "    <tr>\n",
       "      <th>12</th>\n",
       "      <td>1000_12</td>\n",
       "      <td>2018-08-20</td>\n",
       "      <td>1000</td>\n",
       "    </tr>\n",
       "    <tr>\n",
       "      <th>13</th>\n",
       "      <td>1000_13</td>\n",
       "      <td>2018-10-30</td>\n",
       "      <td>1000</td>\n",
       "    </tr>\n",
       "    <tr>\n",
       "      <th>14</th>\n",
       "      <td>1000_14</td>\n",
       "      <td>2018-09-14</td>\n",
       "      <td>1000</td>\n",
       "    </tr>\n",
       "  </tbody>\n",
       "</table>\n",
       "</div>"
      ],
      "text/plain": [
       "         id message_date  user_id\n",
       "0    1000_0   2018-06-27     1000\n",
       "1    1000_1   2018-10-08     1000\n",
       "2    1000_2   2018-08-04     1000\n",
       "3    1000_3   2018-06-16     1000\n",
       "4    1000_4   2018-12-05     1000\n",
       "5    1000_5   2018-06-20     1000\n",
       "6    1000_6   2018-11-19     1000\n",
       "7    1000_7   2018-10-29     1000\n",
       "8    1000_8   2018-06-25     1000\n",
       "9    1000_9   2018-12-18     1000\n",
       "10  1000_10   2018-05-30     1000\n",
       "11  1000_11   2018-07-06     1000\n",
       "12  1000_12   2018-08-20     1000\n",
       "13  1000_13   2018-10-30     1000\n",
       "14  1000_14   2018-09-14     1000"
      ]
     },
     "execution_count": 17,
     "metadata": {},
     "output_type": "execute_result"
    }
   ],
   "source": [
    "# таблица messages (информация о сообщениях):\n",
    "try:\n",
    "    df_message = pd.read_csv('/datasets/messages.csv')\n",
    "except:\n",
    "    df_message = pd.read_csv('messages.csv')\n",
    "df_message.head(15)"
   ]
  },
  {
   "cell_type": "code",
   "execution_count": 18,
   "id": "98bc388b",
   "metadata": {},
   "outputs": [
    {
     "name": "stdout",
     "output_type": "stream",
     "text": [
      "<class 'pandas.core.frame.DataFrame'>\n",
      "RangeIndex: 123036 entries, 0 to 123035\n",
      "Data columns (total 3 columns):\n",
      " #   Column        Non-Null Count   Dtype \n",
      "---  ------        --------------   ----- \n",
      " 0   id            123036 non-null  object\n",
      " 1   message_date  123036 non-null  object\n",
      " 2   user_id       123036 non-null  int64 \n",
      "dtypes: int64(1), object(2)\n",
      "memory usage: 2.8+ MB\n"
     ]
    }
   ],
   "source": [
    "df_message.info()"
   ]
  },
  {
   "cell_type": "code",
   "execution_count": 19,
   "id": "06b3e42b",
   "metadata": {},
   "outputs": [
    {
     "data": {
      "text/plain": [
       "426"
      ]
     },
     "execution_count": 19,
     "metadata": {},
     "output_type": "execute_result"
    }
   ],
   "source": [
    "# сколько уникальных юзеров пользовалось смс\n",
    "len(df_message['user_id'].unique())"
   ]
  },
  {
   "cell_type": "code",
   "execution_count": 20,
   "id": "cba5f6b2",
   "metadata": {},
   "outputs": [
    {
     "data": {
      "text/html": [
       "<div>\n",
       "<style scoped>\n",
       "    .dataframe tbody tr th:only-of-type {\n",
       "        vertical-align: middle;\n",
       "    }\n",
       "\n",
       "    .dataframe tbody tr th {\n",
       "        vertical-align: top;\n",
       "    }\n",
       "\n",
       "    .dataframe thead th {\n",
       "        text-align: right;\n",
       "    }\n",
       "</style>\n",
       "<table border=\"1\" class=\"dataframe\">\n",
       "  <thead>\n",
       "    <tr style=\"text-align: right;\">\n",
       "      <th></th>\n",
       "      <th>user_id</th>\n",
       "    </tr>\n",
       "  </thead>\n",
       "  <tbody>\n",
       "    <tr>\n",
       "      <th>count</th>\n",
       "      <td>123036.000000</td>\n",
       "    </tr>\n",
       "    <tr>\n",
       "      <th>mean</th>\n",
       "      <td>1256.989410</td>\n",
       "    </tr>\n",
       "    <tr>\n",
       "      <th>std</th>\n",
       "      <td>143.523967</td>\n",
       "    </tr>\n",
       "    <tr>\n",
       "      <th>min</th>\n",
       "      <td>1000.000000</td>\n",
       "    </tr>\n",
       "    <tr>\n",
       "      <th>25%</th>\n",
       "      <td>1134.000000</td>\n",
       "    </tr>\n",
       "    <tr>\n",
       "      <th>50%</th>\n",
       "      <td>1271.000000</td>\n",
       "    </tr>\n",
       "    <tr>\n",
       "      <th>75%</th>\n",
       "      <td>1381.000000</td>\n",
       "    </tr>\n",
       "    <tr>\n",
       "      <th>max</th>\n",
       "      <td>1499.000000</td>\n",
       "    </tr>\n",
       "  </tbody>\n",
       "</table>\n",
       "</div>"
      ],
      "text/plain": [
       "             user_id\n",
       "count  123036.000000\n",
       "mean     1256.989410\n",
       "std       143.523967\n",
       "min      1000.000000\n",
       "25%      1134.000000\n",
       "50%      1271.000000\n",
       "75%      1381.000000\n",
       "max      1499.000000"
      ]
     },
     "execution_count": 20,
     "metadata": {},
     "output_type": "execute_result"
    }
   ],
   "source": [
    "df_message.describe()"
   ]
  },
  {
   "cell_type": "code",
   "execution_count": 21,
   "id": "1516a748",
   "metadata": {},
   "outputs": [
    {
     "data": {
      "text/html": [
       "<div>\n",
       "<style scoped>\n",
       "    .dataframe tbody tr th:only-of-type {\n",
       "        vertical-align: middle;\n",
       "    }\n",
       "\n",
       "    .dataframe tbody tr th {\n",
       "        vertical-align: top;\n",
       "    }\n",
       "\n",
       "    .dataframe thead th {\n",
       "        text-align: right;\n",
       "    }\n",
       "</style>\n",
       "<table border=\"1\" class=\"dataframe\">\n",
       "  <thead>\n",
       "    <tr style=\"text-align: right;\">\n",
       "      <th></th>\n",
       "      <th>messages_included</th>\n",
       "      <th>mb_per_month_included</th>\n",
       "      <th>minutes_included</th>\n",
       "      <th>rub_monthly_fee</th>\n",
       "      <th>rub_per_gb</th>\n",
       "      <th>rub_per_message</th>\n",
       "      <th>rub_per_minute</th>\n",
       "      <th>tariff_name</th>\n",
       "    </tr>\n",
       "  </thead>\n",
       "  <tbody>\n",
       "    <tr>\n",
       "      <th>0</th>\n",
       "      <td>50</td>\n",
       "      <td>15360</td>\n",
       "      <td>500</td>\n",
       "      <td>550</td>\n",
       "      <td>200</td>\n",
       "      <td>3</td>\n",
       "      <td>3</td>\n",
       "      <td>smart</td>\n",
       "    </tr>\n",
       "    <tr>\n",
       "      <th>1</th>\n",
       "      <td>1000</td>\n",
       "      <td>30720</td>\n",
       "      <td>3000</td>\n",
       "      <td>1950</td>\n",
       "      <td>150</td>\n",
       "      <td>1</td>\n",
       "      <td>1</td>\n",
       "      <td>ultra</td>\n",
       "    </tr>\n",
       "  </tbody>\n",
       "</table>\n",
       "</div>"
      ],
      "text/plain": [
       "   messages_included  mb_per_month_included  minutes_included  \\\n",
       "0                 50                  15360               500   \n",
       "1               1000                  30720              3000   \n",
       "\n",
       "   rub_monthly_fee  rub_per_gb  rub_per_message  rub_per_minute tariff_name  \n",
       "0              550         200                3               3       smart  \n",
       "1             1950         150                1               1       ultra  "
      ]
     },
     "execution_count": 21,
     "metadata": {},
     "output_type": "execute_result"
    }
   ],
   "source": [
    "# таблица tariffs (информация о тарифах)\n",
    "try:\n",
    "    df_tariffs = pd.read_csv('/datasets/tariffs.csv')\n",
    "except:\n",
    "    df_tariffs = pd.read_csv('tariffs.csv')\n",
    "df_tariffs.head(15)"
   ]
  },
  {
   "cell_type": "code",
   "execution_count": 22,
   "id": "c122922d",
   "metadata": {},
   "outputs": [
    {
     "name": "stdout",
     "output_type": "stream",
     "text": [
      "<class 'pandas.core.frame.DataFrame'>\n",
      "RangeIndex: 2 entries, 0 to 1\n",
      "Data columns (total 8 columns):\n",
      " #   Column                 Non-Null Count  Dtype \n",
      "---  ------                 --------------  ----- \n",
      " 0   messages_included      2 non-null      int64 \n",
      " 1   mb_per_month_included  2 non-null      int64 \n",
      " 2   minutes_included       2 non-null      int64 \n",
      " 3   rub_monthly_fee        2 non-null      int64 \n",
      " 4   rub_per_gb             2 non-null      int64 \n",
      " 5   rub_per_message        2 non-null      int64 \n",
      " 6   rub_per_minute         2 non-null      int64 \n",
      " 7   tariff_name            2 non-null      object\n",
      "dtypes: int64(7), object(1)\n",
      "memory usage: 256.0+ bytes\n"
     ]
    }
   ],
   "source": [
    "df_tariffs.info()"
   ]
  },
  {
   "cell_type": "markdown",
   "id": "5f65d2ad",
   "metadata": {},
   "source": [
    "#### Вывод:\n",
    "\n",
    "Предварительно в таблицах нет аномальных данных\n",
    "\n",
    "Видим, что в следующем шаге помимо прочего нужно:\n",
    "\n",
    "duration - привести к целочисленному типу\n",
    "\n",
    "call_date- привести в формат даты\n",
    "\n",
    "session_date- привести в формат даты\n",
    "\n",
    "mb_used - привести к целочисленному типу, помнить, что округление должно бытьв  большую сторону. Перевести мб в гб. \n",
    "\n",
    "reg_date - к формату даты \n",
    "\n"
   ]
  },
  {
   "cell_type": "code",
   "execution_count": 23,
   "id": "e9c7103c",
   "metadata": {},
   "outputs": [
    {
     "data": {
      "text/plain": [
       "{1091, 1106, 1128, 1231, 1328, 1371, 1473, 1489}"
      ]
     },
     "execution_count": 23,
     "metadata": {},
     "output_type": "execute_result"
    }
   ],
   "source": [
    "# check\n",
    "set(df_users.user_id) - set(df_calls.user_id)"
   ]
  },
  {
   "cell_type": "markdown",
   "id": "ddfd1636",
   "metadata": {},
   "source": [
    "# [Шаг 2. Предобработка данных](#section_id5)\n"
   ]
  },
  {
   "cell_type": "markdown",
   "id": "d7b23e2c",
   "metadata": {},
   "source": [
    "## [Приведем данные к нужным типам](#section_id6)"
   ]
  },
  {
   "cell_type": "code",
   "execution_count": 24,
   "id": "931236e5",
   "metadata": {},
   "outputs": [
    {
     "data": {
      "text/html": [
       "<div>\n",
       "<style scoped>\n",
       "    .dataframe tbody tr th:only-of-type {\n",
       "        vertical-align: middle;\n",
       "    }\n",
       "\n",
       "    .dataframe tbody tr th {\n",
       "        vertical-align: top;\n",
       "    }\n",
       "\n",
       "    .dataframe thead th {\n",
       "        text-align: right;\n",
       "    }\n",
       "</style>\n",
       "<table border=\"1\" class=\"dataframe\">\n",
       "  <thead>\n",
       "    <tr style=\"text-align: right;\">\n",
       "      <th></th>\n",
       "      <th>id</th>\n",
       "      <th>mb_used</th>\n",
       "      <th>session_date</th>\n",
       "      <th>user_id</th>\n",
       "    </tr>\n",
       "  </thead>\n",
       "  <tbody>\n",
       "    <tr>\n",
       "      <th>0</th>\n",
       "      <td>1000_0</td>\n",
       "      <td>112.95</td>\n",
       "      <td>2018-11-25</td>\n",
       "      <td>1000</td>\n",
       "    </tr>\n",
       "    <tr>\n",
       "      <th>1</th>\n",
       "      <td>1000_1</td>\n",
       "      <td>1052.81</td>\n",
       "      <td>2018-09-07</td>\n",
       "      <td>1000</td>\n",
       "    </tr>\n",
       "    <tr>\n",
       "      <th>2</th>\n",
       "      <td>1000_2</td>\n",
       "      <td>1197.26</td>\n",
       "      <td>2018-06-25</td>\n",
       "      <td>1000</td>\n",
       "    </tr>\n",
       "    <tr>\n",
       "      <th>3</th>\n",
       "      <td>1000_3</td>\n",
       "      <td>550.27</td>\n",
       "      <td>2018-08-22</td>\n",
       "      <td>1000</td>\n",
       "    </tr>\n",
       "    <tr>\n",
       "      <th>4</th>\n",
       "      <td>1000_4</td>\n",
       "      <td>302.56</td>\n",
       "      <td>2018-09-24</td>\n",
       "      <td>1000</td>\n",
       "    </tr>\n",
       "  </tbody>\n",
       "</table>\n",
       "</div>"
      ],
      "text/plain": [
       "       id  mb_used session_date  user_id\n",
       "0  1000_0   112.95   2018-11-25     1000\n",
       "1  1000_1  1052.81   2018-09-07     1000\n",
       "2  1000_2  1197.26   2018-06-25     1000\n",
       "3  1000_3   550.27   2018-08-22     1000\n",
       "4  1000_4   302.56   2018-09-24     1000"
      ]
     },
     "execution_count": 24,
     "metadata": {},
     "output_type": "execute_result"
    }
   ],
   "source": [
    "df_internet.head()"
   ]
  },
  {
   "cell_type": "code",
   "execution_count": 25,
   "id": "0c9b7735",
   "metadata": {},
   "outputs": [
    {
     "data": {
      "text/plain": [
       "0    39613\n",
       "7    11510\n",
       "6    11457\n",
       "5    11411\n",
       "8    11272\n",
       "Name: duration, dtype: int64"
      ]
     },
     "execution_count": 25,
     "metadata": {},
     "output_type": "execute_result"
    }
   ],
   "source": [
    "# приведем к целочисленному типу количество звонков\n",
    "df_calls['duration'] = df_calls['duration'].apply(np.ceil).astype('int')\n",
    "df_calls['duration'].value_counts().head()"
   ]
  },
  {
   "cell_type": "code",
   "execution_count": 26,
   "id": "bcbf0f7a",
   "metadata": {},
   "outputs": [
    {
     "data": {
      "text/html": [
       "<div>\n",
       "<style scoped>\n",
       "    .dataframe tbody tr th:only-of-type {\n",
       "        vertical-align: middle;\n",
       "    }\n",
       "\n",
       "    .dataframe tbody tr th {\n",
       "        vertical-align: top;\n",
       "    }\n",
       "\n",
       "    .dataframe thead th {\n",
       "        text-align: right;\n",
       "    }\n",
       "</style>\n",
       "<table border=\"1\" class=\"dataframe\">\n",
       "  <thead>\n",
       "    <tr style=\"text-align: right;\">\n",
       "      <th></th>\n",
       "      <th>id</th>\n",
       "      <th>call_date</th>\n",
       "      <th>duration</th>\n",
       "      <th>user_id</th>\n",
       "    </tr>\n",
       "  </thead>\n",
       "  <tbody>\n",
       "    <tr>\n",
       "      <th>0</th>\n",
       "      <td>1000_0</td>\n",
       "      <td>2018-07-25</td>\n",
       "      <td>0</td>\n",
       "      <td>1000</td>\n",
       "    </tr>\n",
       "    <tr>\n",
       "      <th>1</th>\n",
       "      <td>1000_1</td>\n",
       "      <td>2018-08-17</td>\n",
       "      <td>0</td>\n",
       "      <td>1000</td>\n",
       "    </tr>\n",
       "    <tr>\n",
       "      <th>2</th>\n",
       "      <td>1000_2</td>\n",
       "      <td>2018-06-11</td>\n",
       "      <td>3</td>\n",
       "      <td>1000</td>\n",
       "    </tr>\n",
       "    <tr>\n",
       "      <th>3</th>\n",
       "      <td>1000_3</td>\n",
       "      <td>2018-09-21</td>\n",
       "      <td>14</td>\n",
       "      <td>1000</td>\n",
       "    </tr>\n",
       "    <tr>\n",
       "      <th>4</th>\n",
       "      <td>1000_4</td>\n",
       "      <td>2018-12-15</td>\n",
       "      <td>6</td>\n",
       "      <td>1000</td>\n",
       "    </tr>\n",
       "  </tbody>\n",
       "</table>\n",
       "</div>"
      ],
      "text/plain": [
       "       id  call_date  duration  user_id\n",
       "0  1000_0 2018-07-25         0     1000\n",
       "1  1000_1 2018-08-17         0     1000\n",
       "2  1000_2 2018-06-11         3     1000\n",
       "3  1000_3 2018-09-21        14     1000\n",
       "4  1000_4 2018-12-15         6     1000"
      ]
     },
     "execution_count": 26,
     "metadata": {},
     "output_type": "execute_result"
    }
   ],
   "source": [
    "# к формату даты\n",
    "df_calls['call_date'] = pd.to_datetime(\n",
    "    df_calls['call_date'], format='%Y-%m-%d')\n",
    "# проверим, что все ок\n",
    "df_calls.head()"
   ]
  },
  {
   "cell_type": "code",
   "execution_count": 27,
   "id": "59ef789c",
   "metadata": {},
   "outputs": [
    {
     "data": {
      "text/plain": [
       "0   2018-06-27\n",
       "1   2018-10-08\n",
       "2   2018-08-04\n",
       "3   2018-06-16\n",
       "4   2018-12-05\n",
       "Name: message_date, dtype: datetime64[ns]"
      ]
     },
     "execution_count": 27,
     "metadata": {},
     "output_type": "execute_result"
    }
   ],
   "source": [
    "df_message['message_date'] = pd.to_datetime(\n",
    "    df_message['message_date'], format='%Y-%m-%d')\n",
    "df_message['message_date'].head()"
   ]
  },
  {
   "cell_type": "code",
   "execution_count": 28,
   "id": "efe571a7",
   "metadata": {},
   "outputs": [
    {
     "data": {
      "text/plain": [
       "0   2018-11-25\n",
       "1   2018-09-07\n",
       "2   2018-06-25\n",
       "3   2018-08-22\n",
       "4   2018-09-24\n",
       "Name: session_date, dtype: datetime64[ns]"
      ]
     },
     "execution_count": 28,
     "metadata": {},
     "output_type": "execute_result"
    }
   ],
   "source": [
    "df_internet['session_date'] = pd.to_datetime(\n",
    "    df_internet['session_date'], format='%Y-%m-%d')\n",
    "df_internet['session_date'].head()"
   ]
  },
  {
   "cell_type": "code",
   "execution_count": 29,
   "id": "6c37f64c",
   "metadata": {},
   "outputs": [
    {
     "data": {
      "text/plain": [
       "0   2018-11-25\n",
       "1   2018-09-07\n",
       "2   2018-06-25\n",
       "3   2018-08-22\n",
       "4   2018-09-24\n",
       "Name: reg_date, dtype: datetime64[ns]"
      ]
     },
     "execution_count": 29,
     "metadata": {},
     "output_type": "execute_result"
    }
   ],
   "source": [
    "df_users['reg_date'] = pd.to_datetime(\n",
    "    df_internet['session_date'], format='%Y-%m-%d')\n",
    "df_users['reg_date'].head()"
   ]
  },
  {
   "cell_type": "markdown",
   "id": "0799b666",
   "metadata": {},
   "source": [
    "## [Проверим данные на явные дубликаты:](#section_id7)"
   ]
  },
  {
   "cell_type": "code",
   "execution_count": 30,
   "id": "af4a4101",
   "metadata": {},
   "outputs": [
    {
     "data": {
      "text/plain": [
       "0"
      ]
     },
     "execution_count": 30,
     "metadata": {},
     "output_type": "execute_result"
    }
   ],
   "source": [
    "df_calls.duplicated().sum()"
   ]
  },
  {
   "cell_type": "code",
   "execution_count": 31,
   "id": "24d0c622",
   "metadata": {},
   "outputs": [
    {
     "data": {
      "text/plain": [
       "0"
      ]
     },
     "execution_count": 31,
     "metadata": {},
     "output_type": "execute_result"
    }
   ],
   "source": [
    "df_internet.duplicated().sum()"
   ]
  },
  {
   "cell_type": "code",
   "execution_count": 32,
   "id": "0e65ffc1",
   "metadata": {},
   "outputs": [
    {
     "data": {
      "text/plain": [
       "0"
      ]
     },
     "execution_count": 32,
     "metadata": {},
     "output_type": "execute_result"
    }
   ],
   "source": [
    "df_users.duplicated().sum()"
   ]
  },
  {
   "cell_type": "code",
   "execution_count": 33,
   "id": "ada695c8",
   "metadata": {},
   "outputs": [
    {
     "data": {
      "text/plain": [
       "0"
      ]
     },
     "execution_count": 33,
     "metadata": {},
     "output_type": "execute_result"
    }
   ],
   "source": [
    "df_message.duplicated().sum()"
   ]
  },
  {
   "cell_type": "code",
   "execution_count": 34,
   "id": "05a9cd5c",
   "metadata": {},
   "outputs": [
    {
     "data": {
      "text/plain": [
       "0"
      ]
     },
     "execution_count": 34,
     "metadata": {},
     "output_type": "execute_result"
    }
   ],
   "source": [
    "df_users.duplicated().sum()"
   ]
  },
  {
   "cell_type": "markdown",
   "id": "65075772",
   "metadata": {},
   "source": [
    "## Проверим данные на неявные дубликаты:"
   ]
  },
  {
   "cell_type": "code",
   "execution_count": 35,
   "id": "4bbcf4c2",
   "metadata": {},
   "outputs": [
    {
     "data": {
      "text/plain": [
       "array(['Архангельск', 'Астрахань', 'Балашиха', 'Барнаул', 'Белгород',\n",
       "       'Брянск', 'Владивосток', 'Владикавказ', 'Владимир', 'Волгоград',\n",
       "       'Волжский', 'Вологда', 'Воронеж', 'Грозный', 'Екатеринбург',\n",
       "       'Иваново', 'Ижевск', 'Иркутск', 'Казань', 'Калининград', 'Калуга',\n",
       "       'Кемерово', 'Киров', 'Кострома', 'Краснодар', 'Красноярск',\n",
       "       'Курган', 'Курск', 'Липецк', 'Магнитогорск', 'Махачкала', 'Москва',\n",
       "       'Мурманск', 'Набережные Челны', 'Нижневартовск', 'Нижний Новгород',\n",
       "       'Нижний Тагил', 'Новокузнецк', 'Новороссийск', 'Новосибирск',\n",
       "       'Омск', 'Оренбург', 'Орёл', 'Пенза', 'Пермь', 'Петрозаводск',\n",
       "       'Подольск', 'Ростов-на-Дону', 'Рязань', 'Самара',\n",
       "       'Санкт-Петербург', 'Саранск', 'Саратов', 'Севастополь', 'Смоленск',\n",
       "       'Сочи', 'Ставрополь', 'Стерлитамак', 'Сургут', 'Тамбов', 'Тверь',\n",
       "       'Тольятти', 'Томск', 'Тула', 'Тюмень', 'Улан-Удэ', 'Ульяновск',\n",
       "       'Уфа', 'Хабаровск', 'Химки', 'Чебоксары', 'Челябинск', 'Череповец',\n",
       "       'Чита', 'Якутск', 'Ярославль'], dtype=object)"
      ]
     },
     "execution_count": 35,
     "metadata": {},
     "output_type": "execute_result"
    }
   ],
   "source": [
    "df_users_unique = df_users['city'].unique()\n",
    "df_users_unique.sort()\n",
    "df_users_unique\n"
   ]
  },
  {
   "cell_type": "markdown",
   "id": "e243941b",
   "metadata": {},
   "source": [
    "Убудились, что в данных нет дубликатов.\n",
    "\n",
    "## Добавим столбцы с месяцами в нужные нам таблицы:"
   ]
  },
  {
   "cell_type": "code",
   "execution_count": 36,
   "id": "6b11ed88",
   "metadata": {},
   "outputs": [
    {
     "data": {
      "text/plain": [
       "12    33987\n",
       "11    29501\n",
       "10    27146\n",
       "9     24061\n",
       "8     21488\n",
       "7     18298\n",
       "6     14716\n",
       "5     12647\n",
       "4      9272\n",
       "3      6687\n",
       "2      3328\n",
       "1      1476\n",
       "Name: month, dtype: int64"
      ]
     },
     "execution_count": 36,
     "metadata": {},
     "output_type": "execute_result"
    }
   ],
   "source": [
    "# добавим столбец с месяцами в таблицу со звонками\n",
    "df_calls['month'] = pd.DatetimeIndex(df_calls['call_date']).month\n",
    "df_calls['month'].value_counts()"
   ]
  },
  {
   "cell_type": "code",
   "execution_count": 37,
   "id": "6b506e9a",
   "metadata": {},
   "outputs": [
    {
     "data": {
      "text/plain": [
       "12    20555\n",
       "11    18244\n",
       "10    17114\n",
       "9     14759\n",
       "8     13088\n",
       "7     11320\n",
       "6      8983\n",
       "5      7298\n",
       "4      5179\n",
       "3      3648\n",
       "2      1924\n",
       "1       924\n",
       "Name: month, dtype: int64"
      ]
     },
     "execution_count": 37,
     "metadata": {},
     "output_type": "execute_result"
    }
   ],
   "source": [
    "# добавим столбец с месяцами в таблицу с сообщениями\n",
    "df_message['month'] = pd.DatetimeIndex(df_message['message_date']).month\n",
    "df_message['month'].value_counts()"
   ]
  },
  {
   "cell_type": "code",
   "execution_count": 38,
   "id": "0002c843",
   "metadata": {},
   "outputs": [
    {
     "data": {
      "text/plain": [
       "12    24799\n",
       "11    21817\n",
       "10    20009\n",
       "9     17512\n",
       "8     16092\n",
       "7     13548\n",
       "6     11057\n",
       "5      9408\n",
       "4      6511\n",
       "3      4885\n",
       "2      2641\n",
       "1      1117\n",
       "Name: month, dtype: int64"
      ]
     },
     "execution_count": 38,
     "metadata": {},
     "output_type": "execute_result"
    }
   ],
   "source": [
    "# добавим столбец с месяцами в таблицу с трафиком\n",
    "df_internet['month'] = pd.DatetimeIndex(df_internet['session_date']).month\n",
    "df_internet['month'].value_counts()"
   ]
  },
  {
   "cell_type": "code",
   "execution_count": 39,
   "id": "2d316fde",
   "metadata": {},
   "outputs": [
    {
     "data": {
      "text/html": [
       "<div>\n",
       "<style scoped>\n",
       "    .dataframe tbody tr th:only-of-type {\n",
       "        vertical-align: middle;\n",
       "    }\n",
       "\n",
       "    .dataframe tbody tr th {\n",
       "        vertical-align: top;\n",
       "    }\n",
       "\n",
       "    .dataframe thead th {\n",
       "        text-align: right;\n",
       "    }\n",
       "</style>\n",
       "<table border=\"1\" class=\"dataframe\">\n",
       "  <thead>\n",
       "    <tr style=\"text-align: right;\">\n",
       "      <th></th>\n",
       "      <th>user_id</th>\n",
       "      <th>age</th>\n",
       "      <th>city</th>\n",
       "      <th>tariff</th>\n",
       "    </tr>\n",
       "  </thead>\n",
       "  <tbody>\n",
       "    <tr>\n",
       "      <th>0</th>\n",
       "      <td>1000</td>\n",
       "      <td>52</td>\n",
       "      <td>Краснодар</td>\n",
       "      <td>ultra</td>\n",
       "    </tr>\n",
       "    <tr>\n",
       "      <th>1</th>\n",
       "      <td>1001</td>\n",
       "      <td>41</td>\n",
       "      <td>Москва</td>\n",
       "      <td>smart</td>\n",
       "    </tr>\n",
       "    <tr>\n",
       "      <th>2</th>\n",
       "      <td>1002</td>\n",
       "      <td>59</td>\n",
       "      <td>Стерлитамак</td>\n",
       "      <td>smart</td>\n",
       "    </tr>\n",
       "    <tr>\n",
       "      <th>3</th>\n",
       "      <td>1003</td>\n",
       "      <td>23</td>\n",
       "      <td>Москва</td>\n",
       "      <td>ultra</td>\n",
       "    </tr>\n",
       "    <tr>\n",
       "      <th>4</th>\n",
       "      <td>1004</td>\n",
       "      <td>68</td>\n",
       "      <td>Новокузнецк</td>\n",
       "      <td>ultra</td>\n",
       "    </tr>\n",
       "  </tbody>\n",
       "</table>\n",
       "</div>"
      ],
      "text/plain": [
       "   user_id  age         city tariff\n",
       "0     1000   52    Краснодар  ultra\n",
       "1     1001   41       Москва  smart\n",
       "2     1002   59  Стерлитамак  smart\n",
       "3     1003   23       Москва  ultra\n",
       "4     1004   68  Новокузнецк  ultra"
      ]
     },
     "execution_count": 39,
     "metadata": {},
     "output_type": "execute_result"
    }
   ],
   "source": [
    "#удалим столбцы, которые нам не понадобятся\n",
    "df_users = df_users.drop(['first_name','last_name','churn_date', 'reg_date'], axis=1)\n",
    "df_users.head()"
   ]
  },
  {
   "cell_type": "markdown",
   "id": "cdeae9ff",
   "metadata": {},
   "source": [
    "## Посчитаем количество сделанных звонков и израсходованных минут по месяцам:"
   ]
  },
  {
   "cell_type": "code",
   "execution_count": 40,
   "id": "a037fda7",
   "metadata": {},
   "outputs": [
    {
     "data": {
      "text/html": [
       "<div>\n",
       "<style scoped>\n",
       "    .dataframe tbody tr th:only-of-type {\n",
       "        vertical-align: middle;\n",
       "    }\n",
       "\n",
       "    .dataframe tbody tr th {\n",
       "        vertical-align: top;\n",
       "    }\n",
       "\n",
       "    .dataframe thead th {\n",
       "        text-align: right;\n",
       "    }\n",
       "</style>\n",
       "<table border=\"1\" class=\"dataframe\">\n",
       "  <thead>\n",
       "    <tr style=\"text-align: right;\">\n",
       "      <th></th>\n",
       "      <th>user_id</th>\n",
       "      <th>month</th>\n",
       "      <th>calls_sum</th>\n",
       "      <th>calls_count</th>\n",
       "    </tr>\n",
       "  </thead>\n",
       "  <tbody>\n",
       "    <tr>\n",
       "      <th>0</th>\n",
       "      <td>1000</td>\n",
       "      <td>5</td>\n",
       "      <td>159</td>\n",
       "      <td>22</td>\n",
       "    </tr>\n",
       "    <tr>\n",
       "      <th>1</th>\n",
       "      <td>1000</td>\n",
       "      <td>6</td>\n",
       "      <td>172</td>\n",
       "      <td>43</td>\n",
       "    </tr>\n",
       "    <tr>\n",
       "      <th>2</th>\n",
       "      <td>1000</td>\n",
       "      <td>7</td>\n",
       "      <td>340</td>\n",
       "      <td>47</td>\n",
       "    </tr>\n",
       "    <tr>\n",
       "      <th>3</th>\n",
       "      <td>1000</td>\n",
       "      <td>8</td>\n",
       "      <td>408</td>\n",
       "      <td>52</td>\n",
       "    </tr>\n",
       "    <tr>\n",
       "      <th>4</th>\n",
       "      <td>1000</td>\n",
       "      <td>9</td>\n",
       "      <td>466</td>\n",
       "      <td>58</td>\n",
       "    </tr>\n",
       "  </tbody>\n",
       "</table>\n",
       "</div>"
      ],
      "text/plain": [
       "   user_id  month  calls_sum  calls_count\n",
       "0     1000      5        159           22\n",
       "1     1000      6        172           43\n",
       "2     1000      7        340           47\n",
       "3     1000      8        408           52\n",
       "4     1000      9        466           58"
      ]
     },
     "execution_count": 40,
     "metadata": {},
     "output_type": "execute_result"
    }
   ],
   "source": [
    "calls_total = df_calls.groupby(['user_id', 'month'],\n",
    "as_index = False).agg({'duration':'sum', \n",
    "'id':'count'}).rename(columns={'duration':'calls_sum','id':'calls_count'})\n",
    "calls_total.head()"
   ]
  },
  {
   "cell_type": "code",
   "execution_count": 41,
   "id": "5f5cca0b",
   "metadata": {},
   "outputs": [
    {
     "data": {
      "text/html": [
       "<div>\n",
       "<style scoped>\n",
       "    .dataframe tbody tr th:only-of-type {\n",
       "        vertical-align: middle;\n",
       "    }\n",
       "\n",
       "    .dataframe tbody tr th {\n",
       "        vertical-align: top;\n",
       "    }\n",
       "\n",
       "    .dataframe thead th {\n",
       "        text-align: right;\n",
       "    }\n",
       "</style>\n",
       "<table border=\"1\" class=\"dataframe\">\n",
       "  <thead>\n",
       "    <tr style=\"text-align: right;\">\n",
       "      <th></th>\n",
       "      <th>user_id</th>\n",
       "      <th>month</th>\n",
       "      <th>calls_sum</th>\n",
       "      <th>calls_count</th>\n",
       "    </tr>\n",
       "  </thead>\n",
       "  <tbody>\n",
       "    <tr>\n",
       "      <th>count</th>\n",
       "      <td>3174.000000</td>\n",
       "      <td>3174.000000</td>\n",
       "      <td>3174.000000</td>\n",
       "      <td>3174.000000</td>\n",
       "    </tr>\n",
       "    <tr>\n",
       "      <th>mean</th>\n",
       "      <td>1251.555766</td>\n",
       "      <td>8.311594</td>\n",
       "      <td>456.931632</td>\n",
       "      <td>63.833333</td>\n",
       "    </tr>\n",
       "    <tr>\n",
       "      <th>std</th>\n",
       "      <td>144.470630</td>\n",
       "      <td>2.910625</td>\n",
       "      <td>238.031270</td>\n",
       "      <td>32.678036</td>\n",
       "    </tr>\n",
       "    <tr>\n",
       "      <th>min</th>\n",
       "      <td>1000.000000</td>\n",
       "      <td>1.000000</td>\n",
       "      <td>0.000000</td>\n",
       "      <td>1.000000</td>\n",
       "    </tr>\n",
       "    <tr>\n",
       "      <th>25%</th>\n",
       "      <td>1126.000000</td>\n",
       "      <td>6.000000</td>\n",
       "      <td>290.000000</td>\n",
       "      <td>41.000000</td>\n",
       "    </tr>\n",
       "    <tr>\n",
       "      <th>50%</th>\n",
       "      <td>1254.000000</td>\n",
       "      <td>9.000000</td>\n",
       "      <td>447.000000</td>\n",
       "      <td>63.000000</td>\n",
       "    </tr>\n",
       "    <tr>\n",
       "      <th>75%</th>\n",
       "      <td>1378.000000</td>\n",
       "      <td>11.000000</td>\n",
       "      <td>592.000000</td>\n",
       "      <td>83.000000</td>\n",
       "    </tr>\n",
       "    <tr>\n",
       "      <th>max</th>\n",
       "      <td>1499.000000</td>\n",
       "      <td>12.000000</td>\n",
       "      <td>1673.000000</td>\n",
       "      <td>244.000000</td>\n",
       "    </tr>\n",
       "  </tbody>\n",
       "</table>\n",
       "</div>"
      ],
      "text/plain": [
       "           user_id        month    calls_sum  calls_count\n",
       "count  3174.000000  3174.000000  3174.000000  3174.000000\n",
       "mean   1251.555766     8.311594   456.931632    63.833333\n",
       "std     144.470630     2.910625   238.031270    32.678036\n",
       "min    1000.000000     1.000000     0.000000     1.000000\n",
       "25%    1126.000000     6.000000   290.000000    41.000000\n",
       "50%    1254.000000     9.000000   447.000000    63.000000\n",
       "75%    1378.000000    11.000000   592.000000    83.000000\n",
       "max    1499.000000    12.000000  1673.000000   244.000000"
      ]
     },
     "execution_count": 41,
     "metadata": {},
     "output_type": "execute_result"
    }
   ],
   "source": [
    "calls_total.describe()"
   ]
  },
  {
   "cell_type": "markdown",
   "id": "2e210752",
   "metadata": {},
   "source": [
    "В среднем количество минут в разговоре не превышает 500 минут, данные выглядят адекватно, несмотря на максимум."
   ]
  },
  {
   "cell_type": "markdown",
   "id": "f69bfad8",
   "metadata": {},
   "source": [
    "## Посчитаем количество сообщений по месяцам:"
   ]
  },
  {
   "cell_type": "code",
   "execution_count": 42,
   "id": "f94d4d4d",
   "metadata": {},
   "outputs": [
    {
     "data": {
      "text/html": [
       "<div>\n",
       "<style scoped>\n",
       "    .dataframe tbody tr th:only-of-type {\n",
       "        vertical-align: middle;\n",
       "    }\n",
       "\n",
       "    .dataframe tbody tr th {\n",
       "        vertical-align: top;\n",
       "    }\n",
       "\n",
       "    .dataframe thead th {\n",
       "        text-align: right;\n",
       "    }\n",
       "</style>\n",
       "<table border=\"1\" class=\"dataframe\">\n",
       "  <thead>\n",
       "    <tr style=\"text-align: right;\">\n",
       "      <th></th>\n",
       "      <th>user_id</th>\n",
       "      <th>month</th>\n",
       "      <th>message_count</th>\n",
       "    </tr>\n",
       "  </thead>\n",
       "  <tbody>\n",
       "    <tr>\n",
       "      <th>0</th>\n",
       "      <td>1000</td>\n",
       "      <td>5</td>\n",
       "      <td>22</td>\n",
       "    </tr>\n",
       "    <tr>\n",
       "      <th>1</th>\n",
       "      <td>1000</td>\n",
       "      <td>6</td>\n",
       "      <td>60</td>\n",
       "    </tr>\n",
       "    <tr>\n",
       "      <th>2</th>\n",
       "      <td>1000</td>\n",
       "      <td>7</td>\n",
       "      <td>75</td>\n",
       "    </tr>\n",
       "    <tr>\n",
       "      <th>3</th>\n",
       "      <td>1000</td>\n",
       "      <td>8</td>\n",
       "      <td>81</td>\n",
       "    </tr>\n",
       "    <tr>\n",
       "      <th>4</th>\n",
       "      <td>1000</td>\n",
       "      <td>9</td>\n",
       "      <td>57</td>\n",
       "    </tr>\n",
       "  </tbody>\n",
       "</table>\n",
       "</div>"
      ],
      "text/plain": [
       "   user_id  month  message_count\n",
       "0     1000      5             22\n",
       "1     1000      6             60\n",
       "2     1000      7             75\n",
       "3     1000      8             81\n",
       "4     1000      9             57"
      ]
     },
     "execution_count": 42,
     "metadata": {},
     "output_type": "execute_result"
    }
   ],
   "source": [
    "message_total = df_message.groupby(['user_id', 'month'],\n",
    "as_index = False).agg({'id':'count'}).rename(columns={'id':'message_count'})\n",
    "message_total.head()"
   ]
  },
  {
   "cell_type": "code",
   "execution_count": 43,
   "id": "800d70f6",
   "metadata": {},
   "outputs": [
    {
     "data": {
      "text/html": [
       "<div>\n",
       "<style scoped>\n",
       "    .dataframe tbody tr th:only-of-type {\n",
       "        vertical-align: middle;\n",
       "    }\n",
       "\n",
       "    .dataframe tbody tr th {\n",
       "        vertical-align: top;\n",
       "    }\n",
       "\n",
       "    .dataframe thead th {\n",
       "        text-align: right;\n",
       "    }\n",
       "</style>\n",
       "<table border=\"1\" class=\"dataframe\">\n",
       "  <thead>\n",
       "    <tr style=\"text-align: right;\">\n",
       "      <th></th>\n",
       "      <th>user_id</th>\n",
       "      <th>month</th>\n",
       "      <th>message_count</th>\n",
       "    </tr>\n",
       "  </thead>\n",
       "  <tbody>\n",
       "    <tr>\n",
       "      <th>count</th>\n",
       "      <td>2717.000000</td>\n",
       "      <td>2717.000000</td>\n",
       "      <td>2717.000000</td>\n",
       "    </tr>\n",
       "    <tr>\n",
       "      <th>mean</th>\n",
       "      <td>1255.635259</td>\n",
       "      <td>8.345234</td>\n",
       "      <td>45.283769</td>\n",
       "    </tr>\n",
       "    <tr>\n",
       "      <th>std</th>\n",
       "      <td>146.227484</td>\n",
       "      <td>2.892920</td>\n",
       "      <td>35.051363</td>\n",
       "    </tr>\n",
       "    <tr>\n",
       "      <th>min</th>\n",
       "      <td>1000.000000</td>\n",
       "      <td>1.000000</td>\n",
       "      <td>1.000000</td>\n",
       "    </tr>\n",
       "    <tr>\n",
       "      <th>25%</th>\n",
       "      <td>1126.000000</td>\n",
       "      <td>6.000000</td>\n",
       "      <td>19.000000</td>\n",
       "    </tr>\n",
       "    <tr>\n",
       "      <th>50%</th>\n",
       "      <td>1266.000000</td>\n",
       "      <td>9.000000</td>\n",
       "      <td>38.000000</td>\n",
       "    </tr>\n",
       "    <tr>\n",
       "      <th>75%</th>\n",
       "      <td>1384.000000</td>\n",
       "      <td>11.000000</td>\n",
       "      <td>63.000000</td>\n",
       "    </tr>\n",
       "    <tr>\n",
       "      <th>max</th>\n",
       "      <td>1499.000000</td>\n",
       "      <td>12.000000</td>\n",
       "      <td>224.000000</td>\n",
       "    </tr>\n",
       "  </tbody>\n",
       "</table>\n",
       "</div>"
      ],
      "text/plain": [
       "           user_id        month  message_count\n",
       "count  2717.000000  2717.000000    2717.000000\n",
       "mean   1255.635259     8.345234      45.283769\n",
       "std     146.227484     2.892920      35.051363\n",
       "min    1000.000000     1.000000       1.000000\n",
       "25%    1126.000000     6.000000      19.000000\n",
       "50%    1266.000000     9.000000      38.000000\n",
       "75%    1384.000000    11.000000      63.000000\n",
       "max    1499.000000    12.000000     224.000000"
      ]
     },
     "execution_count": 43,
     "metadata": {},
     "output_type": "execute_result"
    }
   ],
   "source": [
    "message_total.describe()"
   ]
  },
  {
   "cell_type": "markdown",
   "id": "504a758f",
   "metadata": {},
   "source": [
    "В среднем пользователи отправляют 45 сообщений в мес, данные выглядят правдоподобно."
   ]
  },
  {
   "cell_type": "markdown",
   "id": "bdec009d",
   "metadata": {},
   "source": [
    "## Посчитаем объем трафика по месяцам:"
   ]
  },
  {
   "cell_type": "code",
   "execution_count": 44,
   "id": "6c19c4eb",
   "metadata": {},
   "outputs": [
    {
     "data": {
      "text/html": [
       "<div>\n",
       "<style scoped>\n",
       "    .dataframe tbody tr th:only-of-type {\n",
       "        vertical-align: middle;\n",
       "    }\n",
       "\n",
       "    .dataframe tbody tr th {\n",
       "        vertical-align: top;\n",
       "    }\n",
       "\n",
       "    .dataframe thead th {\n",
       "        text-align: right;\n",
       "    }\n",
       "</style>\n",
       "<table border=\"1\" class=\"dataframe\">\n",
       "  <thead>\n",
       "    <tr style=\"text-align: right;\">\n",
       "      <th></th>\n",
       "      <th>user_id</th>\n",
       "      <th>month</th>\n",
       "      <th>mb_used</th>\n",
       "    </tr>\n",
       "  </thead>\n",
       "  <tbody>\n",
       "    <tr>\n",
       "      <th>0</th>\n",
       "      <td>1000</td>\n",
       "      <td>5</td>\n",
       "      <td>2253.49</td>\n",
       "    </tr>\n",
       "    <tr>\n",
       "      <th>1</th>\n",
       "      <td>1000</td>\n",
       "      <td>6</td>\n",
       "      <td>23233.77</td>\n",
       "    </tr>\n",
       "    <tr>\n",
       "      <th>2</th>\n",
       "      <td>1000</td>\n",
       "      <td>7</td>\n",
       "      <td>14003.64</td>\n",
       "    </tr>\n",
       "    <tr>\n",
       "      <th>3</th>\n",
       "      <td>1000</td>\n",
       "      <td>8</td>\n",
       "      <td>14055.93</td>\n",
       "    </tr>\n",
       "    <tr>\n",
       "      <th>4</th>\n",
       "      <td>1000</td>\n",
       "      <td>9</td>\n",
       "      <td>14568.91</td>\n",
       "    </tr>\n",
       "  </tbody>\n",
       "</table>\n",
       "</div>"
      ],
      "text/plain": [
       "   user_id  month   mb_used\n",
       "0     1000      5   2253.49\n",
       "1     1000      6  23233.77\n",
       "2     1000      7  14003.64\n",
       "3     1000      8  14055.93\n",
       "4     1000      9  14568.91"
      ]
     },
     "execution_count": 44,
     "metadata": {},
     "output_type": "execute_result"
    }
   ],
   "source": [
    "# суммируем объем интернета за месяц потребления каждым юзером\n",
    "internet_total = df_internet.groupby(['user_id', 'month'],\n",
    "as_index = False).agg({'mb_used':'sum'})\n",
    "internet_total.head()"
   ]
  },
  {
   "cell_type": "markdown",
   "id": "be720472",
   "metadata": {},
   "source": [
    "Переведем Мб в Гб и округлим в большую сторону(по условиям тарифов):"
   ]
  },
  {
   "cell_type": "code",
   "execution_count": 45,
   "id": "a9c559ca",
   "metadata": {},
   "outputs": [
    {
     "data": {
      "text/plain": [
       "0     2.200674\n",
       "1    22.689229\n",
       "2    13.675430\n",
       "3    13.726494\n",
       "4    14.227451\n",
       "Name: mb_used, dtype: float64"
      ]
     },
     "execution_count": 45,
     "metadata": {},
     "output_type": "execute_result"
    }
   ],
   "source": [
    "# переведем МБ в ГБ\n",
    "internet_total['mb_used'] = internet_total['mb_used']/1024\n",
    "internet_total['mb_used'].head()"
   ]
  },
  {
   "cell_type": "code",
   "execution_count": 46,
   "id": "fb6f2685",
   "metadata": {},
   "outputs": [
    {
     "data": {
      "text/html": [
       "<div>\n",
       "<style scoped>\n",
       "    .dataframe tbody tr th:only-of-type {\n",
       "        vertical-align: middle;\n",
       "    }\n",
       "\n",
       "    .dataframe tbody tr th {\n",
       "        vertical-align: top;\n",
       "    }\n",
       "\n",
       "    .dataframe thead th {\n",
       "        text-align: right;\n",
       "    }\n",
       "</style>\n",
       "<table border=\"1\" class=\"dataframe\">\n",
       "  <thead>\n",
       "    <tr style=\"text-align: right;\">\n",
       "      <th></th>\n",
       "      <th>user_id</th>\n",
       "      <th>month</th>\n",
       "      <th>gb</th>\n",
       "    </tr>\n",
       "  </thead>\n",
       "  <tbody>\n",
       "    <tr>\n",
       "      <th>0</th>\n",
       "      <td>1000</td>\n",
       "      <td>5</td>\n",
       "      <td>2.200674</td>\n",
       "    </tr>\n",
       "    <tr>\n",
       "      <th>1</th>\n",
       "      <td>1000</td>\n",
       "      <td>6</td>\n",
       "      <td>22.689229</td>\n",
       "    </tr>\n",
       "    <tr>\n",
       "      <th>2</th>\n",
       "      <td>1000</td>\n",
       "      <td>7</td>\n",
       "      <td>13.675430</td>\n",
       "    </tr>\n",
       "    <tr>\n",
       "      <th>3</th>\n",
       "      <td>1000</td>\n",
       "      <td>8</td>\n",
       "      <td>13.726494</td>\n",
       "    </tr>\n",
       "    <tr>\n",
       "      <th>4</th>\n",
       "      <td>1000</td>\n",
       "      <td>9</td>\n",
       "      <td>14.227451</td>\n",
       "    </tr>\n",
       "  </tbody>\n",
       "</table>\n",
       "</div>"
      ],
      "text/plain": [
       "   user_id  month         gb\n",
       "0     1000      5   2.200674\n",
       "1     1000      6  22.689229\n",
       "2     1000      7  13.675430\n",
       "3     1000      8  13.726494\n",
       "4     1000      9  14.227451"
      ]
     },
     "execution_count": 46,
     "metadata": {},
     "output_type": "execute_result"
    }
   ],
   "source": [
    "# пененазовем столбец\n",
    "internet_total.rename(columns={'mb_used': 'gb'}, inplace=True)\n",
    "internet_total.head()"
   ]
  },
  {
   "cell_type": "code",
   "execution_count": 47,
   "id": "a0eac18b",
   "metadata": {},
   "outputs": [
    {
     "data": {
      "text/html": [
       "<div>\n",
       "<style scoped>\n",
       "    .dataframe tbody tr th:only-of-type {\n",
       "        vertical-align: middle;\n",
       "    }\n",
       "\n",
       "    .dataframe tbody tr th {\n",
       "        vertical-align: top;\n",
       "    }\n",
       "\n",
       "    .dataframe thead th {\n",
       "        text-align: right;\n",
       "    }\n",
       "</style>\n",
       "<table border=\"1\" class=\"dataframe\">\n",
       "  <thead>\n",
       "    <tr style=\"text-align: right;\">\n",
       "      <th></th>\n",
       "      <th>user_id</th>\n",
       "      <th>month</th>\n",
       "      <th>gb</th>\n",
       "    </tr>\n",
       "  </thead>\n",
       "  <tbody>\n",
       "    <tr>\n",
       "      <th>0</th>\n",
       "      <td>1000</td>\n",
       "      <td>5</td>\n",
       "      <td>3</td>\n",
       "    </tr>\n",
       "    <tr>\n",
       "      <th>1</th>\n",
       "      <td>1000</td>\n",
       "      <td>6</td>\n",
       "      <td>23</td>\n",
       "    </tr>\n",
       "    <tr>\n",
       "      <th>2</th>\n",
       "      <td>1000</td>\n",
       "      <td>7</td>\n",
       "      <td>14</td>\n",
       "    </tr>\n",
       "    <tr>\n",
       "      <th>3</th>\n",
       "      <td>1000</td>\n",
       "      <td>8</td>\n",
       "      <td>14</td>\n",
       "    </tr>\n",
       "    <tr>\n",
       "      <th>4</th>\n",
       "      <td>1000</td>\n",
       "      <td>9</td>\n",
       "      <td>15</td>\n",
       "    </tr>\n",
       "  </tbody>\n",
       "</table>\n",
       "</div>"
      ],
      "text/plain": [
       "   user_id  month  gb\n",
       "0     1000      5   3\n",
       "1     1000      6  23\n",
       "2     1000      7  14\n",
       "3     1000      8  14\n",
       "4     1000      9  15"
      ]
     },
     "execution_count": 47,
     "metadata": {},
     "output_type": "execute_result"
    }
   ],
   "source": [
    "# округлим в большую сторону\n",
    "internet_total['gb'] = internet_total['gb'].apply(np.ceil).astype('int')\n",
    "internet_total.head()"
   ]
  },
  {
   "cell_type": "code",
   "execution_count": 48,
   "id": "2a7fdcd9",
   "metadata": {},
   "outputs": [
    {
     "data": {
      "text/html": [
       "<div>\n",
       "<style scoped>\n",
       "    .dataframe tbody tr th:only-of-type {\n",
       "        vertical-align: middle;\n",
       "    }\n",
       "\n",
       "    .dataframe tbody tr th {\n",
       "        vertical-align: top;\n",
       "    }\n",
       "\n",
       "    .dataframe thead th {\n",
       "        text-align: right;\n",
       "    }\n",
       "</style>\n",
       "<table border=\"1\" class=\"dataframe\">\n",
       "  <thead>\n",
       "    <tr style=\"text-align: right;\">\n",
       "      <th></th>\n",
       "      <th>user_id</th>\n",
       "      <th>month</th>\n",
       "      <th>gb</th>\n",
       "    </tr>\n",
       "  </thead>\n",
       "  <tbody>\n",
       "    <tr>\n",
       "      <th>count</th>\n",
       "      <td>3203.000000</td>\n",
       "      <td>3203.000000</td>\n",
       "      <td>3203.000000</td>\n",
       "    </tr>\n",
       "    <tr>\n",
       "      <th>mean</th>\n",
       "      <td>1251.393069</td>\n",
       "      <td>8.320949</td>\n",
       "      <td>17.358414</td>\n",
       "    </tr>\n",
       "    <tr>\n",
       "      <th>std</th>\n",
       "      <td>144.824407</td>\n",
       "      <td>2.903834</td>\n",
       "      <td>7.343379</td>\n",
       "    </tr>\n",
       "    <tr>\n",
       "      <th>min</th>\n",
       "      <td>1000.000000</td>\n",
       "      <td>1.000000</td>\n",
       "      <td>0.000000</td>\n",
       "    </tr>\n",
       "    <tr>\n",
       "      <th>25%</th>\n",
       "      <td>1124.000000</td>\n",
       "      <td>6.000000</td>\n",
       "      <td>13.000000</td>\n",
       "    </tr>\n",
       "    <tr>\n",
       "      <th>50%</th>\n",
       "      <td>1251.000000</td>\n",
       "      <td>9.000000</td>\n",
       "      <td>17.000000</td>\n",
       "    </tr>\n",
       "    <tr>\n",
       "      <th>75%</th>\n",
       "      <td>1379.000000</td>\n",
       "      <td>11.000000</td>\n",
       "      <td>21.000000</td>\n",
       "    </tr>\n",
       "    <tr>\n",
       "      <th>max</th>\n",
       "      <td>1499.000000</td>\n",
       "      <td>12.000000</td>\n",
       "      <td>49.000000</td>\n",
       "    </tr>\n",
       "  </tbody>\n",
       "</table>\n",
       "</div>"
      ],
      "text/plain": [
       "           user_id        month           gb\n",
       "count  3203.000000  3203.000000  3203.000000\n",
       "mean   1251.393069     8.320949    17.358414\n",
       "std     144.824407     2.903834     7.343379\n",
       "min    1000.000000     1.000000     0.000000\n",
       "25%    1124.000000     6.000000    13.000000\n",
       "50%    1251.000000     9.000000    17.000000\n",
       "75%    1379.000000    11.000000    21.000000\n",
       "max    1499.000000    12.000000    49.000000"
      ]
     },
     "execution_count": 48,
     "metadata": {},
     "output_type": "execute_result"
    }
   ],
   "source": [
    "internet_total.describe()"
   ]
  },
  {
   "cell_type": "markdown",
   "id": "8b4f2a29",
   "metadata": {},
   "source": [
    "Среднее- 17 Гб и максимум 49 Гб в мес, есть 0 ГБ, вероятно эти пользователи не пользуются инетом."
   ]
  },
  {
   "cell_type": "markdown",
   "id": "bdd93b1d",
   "metadata": {},
   "source": [
    "## Посчитаем месячную выручку с каждого пользователя:"
   ]
  },
  {
   "cell_type": "code",
   "execution_count": 49,
   "id": "c37c93d3",
   "metadata": {},
   "outputs": [
    {
     "data": {
      "text/html": [
       "<div>\n",
       "<style scoped>\n",
       "    .dataframe tbody tr th:only-of-type {\n",
       "        vertical-align: middle;\n",
       "    }\n",
       "\n",
       "    .dataframe tbody tr th {\n",
       "        vertical-align: top;\n",
       "    }\n",
       "\n",
       "    .dataframe thead th {\n",
       "        text-align: right;\n",
       "    }\n",
       "</style>\n",
       "<table border=\"1\" class=\"dataframe\">\n",
       "  <thead>\n",
       "    <tr style=\"text-align: right;\">\n",
       "      <th></th>\n",
       "      <th>user_id</th>\n",
       "      <th>month</th>\n",
       "      <th>calls_sum</th>\n",
       "      <th>calls_count</th>\n",
       "      <th>message_count</th>\n",
       "      <th>gb</th>\n",
       "    </tr>\n",
       "  </thead>\n",
       "  <tbody>\n",
       "    <tr>\n",
       "      <th>0</th>\n",
       "      <td>1000</td>\n",
       "      <td>5</td>\n",
       "      <td>159.0</td>\n",
       "      <td>22.0</td>\n",
       "      <td>22.0</td>\n",
       "      <td>3.0</td>\n",
       "    </tr>\n",
       "    <tr>\n",
       "      <th>1</th>\n",
       "      <td>1000</td>\n",
       "      <td>6</td>\n",
       "      <td>172.0</td>\n",
       "      <td>43.0</td>\n",
       "      <td>60.0</td>\n",
       "      <td>23.0</td>\n",
       "    </tr>\n",
       "    <tr>\n",
       "      <th>2</th>\n",
       "      <td>1000</td>\n",
       "      <td>7</td>\n",
       "      <td>340.0</td>\n",
       "      <td>47.0</td>\n",
       "      <td>75.0</td>\n",
       "      <td>14.0</td>\n",
       "    </tr>\n",
       "    <tr>\n",
       "      <th>3</th>\n",
       "      <td>1000</td>\n",
       "      <td>8</td>\n",
       "      <td>408.0</td>\n",
       "      <td>52.0</td>\n",
       "      <td>81.0</td>\n",
       "      <td>14.0</td>\n",
       "    </tr>\n",
       "    <tr>\n",
       "      <th>4</th>\n",
       "      <td>1000</td>\n",
       "      <td>9</td>\n",
       "      <td>466.0</td>\n",
       "      <td>58.0</td>\n",
       "      <td>57.0</td>\n",
       "      <td>15.0</td>\n",
       "    </tr>\n",
       "  </tbody>\n",
       "</table>\n",
       "</div>"
      ],
      "text/plain": [
       "   user_id  month  calls_sum  calls_count  message_count    gb\n",
       "0     1000      5      159.0         22.0           22.0   3.0\n",
       "1     1000      6      172.0         43.0           60.0  23.0\n",
       "2     1000      7      340.0         47.0           75.0  14.0\n",
       "3     1000      8      408.0         52.0           81.0  14.0\n",
       "4     1000      9      466.0         58.0           57.0  15.0"
      ]
     },
     "execution_count": 49,
     "metadata": {},
     "output_type": "execute_result"
    }
   ],
   "source": [
    "# объединим таблицы:\n",
    "df_revenue = calls_total.merge(message_total, \n",
    "on=['user_id','month'], how='outer').merge(internet_total, \n",
    "on=['user_id','month'], how = 'outer')\n",
    "df_revenue.head()"
   ]
  },
  {
   "cell_type": "code",
   "execution_count": 50,
   "id": "ce7810f3",
   "metadata": {},
   "outputs": [
    {
     "name": "stdout",
     "output_type": "stream",
     "text": [
      "<class 'pandas.core.frame.DataFrame'>\n",
      "Int64Index: 3214 entries, 0 to 3213\n",
      "Data columns (total 6 columns):\n",
      " #   Column         Non-Null Count  Dtype  \n",
      "---  ------         --------------  -----  \n",
      " 0   user_id        3214 non-null   int64  \n",
      " 1   month          3214 non-null   int64  \n",
      " 2   calls_sum      3174 non-null   float64\n",
      " 3   calls_count    3174 non-null   float64\n",
      " 4   message_count  2717 non-null   float64\n",
      " 5   gb             3203 non-null   float64\n",
      "dtypes: float64(4), int64(2)\n",
      "memory usage: 175.8 KB\n"
     ]
    }
   ],
   "source": [
    "# check\n",
    "df_revenue.info()"
   ]
  },
  {
   "cell_type": "markdown",
   "id": "275e1f54",
   "metadata": {},
   "source": [
    "Добавим информацию о тарифе:"
   ]
  },
  {
   "cell_type": "code",
   "execution_count": 51,
   "id": "b4e87793",
   "metadata": {},
   "outputs": [
    {
     "data": {
      "text/html": [
       "<div>\n",
       "<style scoped>\n",
       "    .dataframe tbody tr th:only-of-type {\n",
       "        vertical-align: middle;\n",
       "    }\n",
       "\n",
       "    .dataframe tbody tr th {\n",
       "        vertical-align: top;\n",
       "    }\n",
       "\n",
       "    .dataframe thead th {\n",
       "        text-align: right;\n",
       "    }\n",
       "</style>\n",
       "<table border=\"1\" class=\"dataframe\">\n",
       "  <thead>\n",
       "    <tr style=\"text-align: right;\">\n",
       "      <th></th>\n",
       "      <th>messages_included</th>\n",
       "      <th>mb_per_month_included</th>\n",
       "      <th>minutes_included</th>\n",
       "      <th>rub_monthly_fee</th>\n",
       "      <th>rub_per_gb</th>\n",
       "      <th>rub_per_message</th>\n",
       "      <th>rub_per_minute</th>\n",
       "      <th>tariff</th>\n",
       "    </tr>\n",
       "  </thead>\n",
       "  <tbody>\n",
       "    <tr>\n",
       "      <th>0</th>\n",
       "      <td>50</td>\n",
       "      <td>15360</td>\n",
       "      <td>500</td>\n",
       "      <td>550</td>\n",
       "      <td>200</td>\n",
       "      <td>3</td>\n",
       "      <td>3</td>\n",
       "      <td>smart</td>\n",
       "    </tr>\n",
       "    <tr>\n",
       "      <th>1</th>\n",
       "      <td>1000</td>\n",
       "      <td>30720</td>\n",
       "      <td>3000</td>\n",
       "      <td>1950</td>\n",
       "      <td>150</td>\n",
       "      <td>1</td>\n",
       "      <td>1</td>\n",
       "      <td>ultra</td>\n",
       "    </tr>\n",
       "  </tbody>\n",
       "</table>\n",
       "</div>"
      ],
      "text/plain": [
       "   messages_included  mb_per_month_included  minutes_included  \\\n",
       "0                 50                  15360               500   \n",
       "1               1000                  30720              3000   \n",
       "\n",
       "   rub_monthly_fee  rub_per_gb  rub_per_message  rub_per_minute tariff  \n",
       "0              550         200                3               3  smart  \n",
       "1             1950         150                1               1  ultra  "
      ]
     },
     "execution_count": 51,
     "metadata": {},
     "output_type": "execute_result"
    }
   ],
   "source": [
    "# переименуем название тарифа в таблице с тарифами, чтобы смогли объединить:\n",
    "df_tariffs = df_tariffs.rename(columns={'tariff_name': 'tariff'})\n",
    "df_tariffs.head()"
   ]
  },
  {
   "cell_type": "code",
   "execution_count": 52,
   "id": "c30fcd9d",
   "metadata": {},
   "outputs": [
    {
     "data": {
      "text/html": [
       "<div>\n",
       "<style scoped>\n",
       "    .dataframe tbody tr th:only-of-type {\n",
       "        vertical-align: middle;\n",
       "    }\n",
       "\n",
       "    .dataframe tbody tr th {\n",
       "        vertical-align: top;\n",
       "    }\n",
       "\n",
       "    .dataframe thead th {\n",
       "        text-align: right;\n",
       "    }\n",
       "</style>\n",
       "<table border=\"1\" class=\"dataframe\">\n",
       "  <thead>\n",
       "    <tr style=\"text-align: right;\">\n",
       "      <th></th>\n",
       "      <th>user_id</th>\n",
       "      <th>age</th>\n",
       "      <th>city</th>\n",
       "      <th>tariff</th>\n",
       "      <th>messages_included</th>\n",
       "      <th>mb_per_month_included</th>\n",
       "      <th>minutes_included</th>\n",
       "      <th>rub_monthly_fee</th>\n",
       "      <th>rub_per_gb</th>\n",
       "      <th>rub_per_message</th>\n",
       "      <th>rub_per_minute</th>\n",
       "    </tr>\n",
       "  </thead>\n",
       "  <tbody>\n",
       "    <tr>\n",
       "      <th>0</th>\n",
       "      <td>1000</td>\n",
       "      <td>52</td>\n",
       "      <td>Краснодар</td>\n",
       "      <td>ultra</td>\n",
       "      <td>1000</td>\n",
       "      <td>30720</td>\n",
       "      <td>3000</td>\n",
       "      <td>1950</td>\n",
       "      <td>150</td>\n",
       "      <td>1</td>\n",
       "      <td>1</td>\n",
       "    </tr>\n",
       "    <tr>\n",
       "      <th>1</th>\n",
       "      <td>1003</td>\n",
       "      <td>23</td>\n",
       "      <td>Москва</td>\n",
       "      <td>ultra</td>\n",
       "      <td>1000</td>\n",
       "      <td>30720</td>\n",
       "      <td>3000</td>\n",
       "      <td>1950</td>\n",
       "      <td>150</td>\n",
       "      <td>1</td>\n",
       "      <td>1</td>\n",
       "    </tr>\n",
       "    <tr>\n",
       "      <th>2</th>\n",
       "      <td>1004</td>\n",
       "      <td>68</td>\n",
       "      <td>Новокузнецк</td>\n",
       "      <td>ultra</td>\n",
       "      <td>1000</td>\n",
       "      <td>30720</td>\n",
       "      <td>3000</td>\n",
       "      <td>1950</td>\n",
       "      <td>150</td>\n",
       "      <td>1</td>\n",
       "      <td>1</td>\n",
       "    </tr>\n",
       "    <tr>\n",
       "      <th>3</th>\n",
       "      <td>1013</td>\n",
       "      <td>36</td>\n",
       "      <td>Иваново</td>\n",
       "      <td>ultra</td>\n",
       "      <td>1000</td>\n",
       "      <td>30720</td>\n",
       "      <td>3000</td>\n",
       "      <td>1950</td>\n",
       "      <td>150</td>\n",
       "      <td>1</td>\n",
       "      <td>1</td>\n",
       "    </tr>\n",
       "    <tr>\n",
       "      <th>4</th>\n",
       "      <td>1016</td>\n",
       "      <td>58</td>\n",
       "      <td>Омск</td>\n",
       "      <td>ultra</td>\n",
       "      <td>1000</td>\n",
       "      <td>30720</td>\n",
       "      <td>3000</td>\n",
       "      <td>1950</td>\n",
       "      <td>150</td>\n",
       "      <td>1</td>\n",
       "      <td>1</td>\n",
       "    </tr>\n",
       "  </tbody>\n",
       "</table>\n",
       "</div>"
      ],
      "text/plain": [
       "   user_id  age         city tariff  messages_included  mb_per_month_included  \\\n",
       "0     1000   52    Краснодар  ultra               1000                  30720   \n",
       "1     1003   23       Москва  ultra               1000                  30720   \n",
       "2     1004   68  Новокузнецк  ultra               1000                  30720   \n",
       "3     1013   36      Иваново  ultra               1000                  30720   \n",
       "4     1016   58         Омск  ultra               1000                  30720   \n",
       "\n",
       "   minutes_included  rub_monthly_fee  rub_per_gb  rub_per_message  \\\n",
       "0              3000             1950         150                1   \n",
       "1              3000             1950         150                1   \n",
       "2              3000             1950         150                1   \n",
       "3              3000             1950         150                1   \n",
       "4              3000             1950         150                1   \n",
       "\n",
       "   rub_per_minute  \n",
       "0               1  \n",
       "1               1  \n",
       "2               1  \n",
       "3               1  \n",
       "4               1  "
      ]
     },
     "execution_count": 52,
     "metadata": {},
     "output_type": "execute_result"
    }
   ],
   "source": [
    "#соединим таблицы\n",
    "total_tariff = pd.merge(df_users, df_tariffs, \n",
    "         left_on='tariff', right_on='tariff', how='outer')\n",
    "total_tariff.head()"
   ]
  },
  {
   "cell_type": "code",
   "execution_count": 53,
   "id": "c168564e",
   "metadata": {},
   "outputs": [
    {
     "data": {
      "text/html": [
       "<div>\n",
       "<style scoped>\n",
       "    .dataframe tbody tr th:only-of-type {\n",
       "        vertical-align: middle;\n",
       "    }\n",
       "\n",
       "    .dataframe tbody tr th {\n",
       "        vertical-align: top;\n",
       "    }\n",
       "\n",
       "    .dataframe thead th {\n",
       "        text-align: right;\n",
       "    }\n",
       "</style>\n",
       "<table border=\"1\" class=\"dataframe\">\n",
       "  <thead>\n",
       "    <tr style=\"text-align: right;\">\n",
       "      <th></th>\n",
       "      <th>user_id</th>\n",
       "      <th>month</th>\n",
       "      <th>calls_sum</th>\n",
       "      <th>calls_count</th>\n",
       "      <th>message_count</th>\n",
       "      <th>gb</th>\n",
       "      <th>age</th>\n",
       "      <th>city</th>\n",
       "      <th>tariff</th>\n",
       "      <th>messages_included</th>\n",
       "      <th>mb_per_month_included</th>\n",
       "      <th>minutes_included</th>\n",
       "      <th>rub_monthly_fee</th>\n",
       "      <th>rub_per_gb</th>\n",
       "      <th>rub_per_message</th>\n",
       "      <th>rub_per_minute</th>\n",
       "    </tr>\n",
       "  </thead>\n",
       "  <tbody>\n",
       "    <tr>\n",
       "      <th>0</th>\n",
       "      <td>1000</td>\n",
       "      <td>5.0</td>\n",
       "      <td>159.0</td>\n",
       "      <td>22.0</td>\n",
       "      <td>22.0</td>\n",
       "      <td>3.0</td>\n",
       "      <td>52</td>\n",
       "      <td>Краснодар</td>\n",
       "      <td>ultra</td>\n",
       "      <td>1000</td>\n",
       "      <td>30720</td>\n",
       "      <td>3000</td>\n",
       "      <td>1950</td>\n",
       "      <td>150</td>\n",
       "      <td>1</td>\n",
       "      <td>1</td>\n",
       "    </tr>\n",
       "    <tr>\n",
       "      <th>1</th>\n",
       "      <td>1000</td>\n",
       "      <td>6.0</td>\n",
       "      <td>172.0</td>\n",
       "      <td>43.0</td>\n",
       "      <td>60.0</td>\n",
       "      <td>23.0</td>\n",
       "      <td>52</td>\n",
       "      <td>Краснодар</td>\n",
       "      <td>ultra</td>\n",
       "      <td>1000</td>\n",
       "      <td>30720</td>\n",
       "      <td>3000</td>\n",
       "      <td>1950</td>\n",
       "      <td>150</td>\n",
       "      <td>1</td>\n",
       "      <td>1</td>\n",
       "    </tr>\n",
       "    <tr>\n",
       "      <th>2</th>\n",
       "      <td>1000</td>\n",
       "      <td>7.0</td>\n",
       "      <td>340.0</td>\n",
       "      <td>47.0</td>\n",
       "      <td>75.0</td>\n",
       "      <td>14.0</td>\n",
       "      <td>52</td>\n",
       "      <td>Краснодар</td>\n",
       "      <td>ultra</td>\n",
       "      <td>1000</td>\n",
       "      <td>30720</td>\n",
       "      <td>3000</td>\n",
       "      <td>1950</td>\n",
       "      <td>150</td>\n",
       "      <td>1</td>\n",
       "      <td>1</td>\n",
       "    </tr>\n",
       "    <tr>\n",
       "      <th>3</th>\n",
       "      <td>1000</td>\n",
       "      <td>8.0</td>\n",
       "      <td>408.0</td>\n",
       "      <td>52.0</td>\n",
       "      <td>81.0</td>\n",
       "      <td>14.0</td>\n",
       "      <td>52</td>\n",
       "      <td>Краснодар</td>\n",
       "      <td>ultra</td>\n",
       "      <td>1000</td>\n",
       "      <td>30720</td>\n",
       "      <td>3000</td>\n",
       "      <td>1950</td>\n",
       "      <td>150</td>\n",
       "      <td>1</td>\n",
       "      <td>1</td>\n",
       "    </tr>\n",
       "    <tr>\n",
       "      <th>4</th>\n",
       "      <td>1000</td>\n",
       "      <td>9.0</td>\n",
       "      <td>466.0</td>\n",
       "      <td>58.0</td>\n",
       "      <td>57.0</td>\n",
       "      <td>15.0</td>\n",
       "      <td>52</td>\n",
       "      <td>Краснодар</td>\n",
       "      <td>ultra</td>\n",
       "      <td>1000</td>\n",
       "      <td>30720</td>\n",
       "      <td>3000</td>\n",
       "      <td>1950</td>\n",
       "      <td>150</td>\n",
       "      <td>1</td>\n",
       "      <td>1</td>\n",
       "    </tr>\n",
       "  </tbody>\n",
       "</table>\n",
       "</div>"
      ],
      "text/plain": [
       "   user_id  month  calls_sum  calls_count  message_count    gb  age  \\\n",
       "0     1000    5.0      159.0         22.0           22.0   3.0   52   \n",
       "1     1000    6.0      172.0         43.0           60.0  23.0   52   \n",
       "2     1000    7.0      340.0         47.0           75.0  14.0   52   \n",
       "3     1000    8.0      408.0         52.0           81.0  14.0   52   \n",
       "4     1000    9.0      466.0         58.0           57.0  15.0   52   \n",
       "\n",
       "        city tariff  messages_included  mb_per_month_included  \\\n",
       "0  Краснодар  ultra               1000                  30720   \n",
       "1  Краснодар  ultra               1000                  30720   \n",
       "2  Краснодар  ultra               1000                  30720   \n",
       "3  Краснодар  ultra               1000                  30720   \n",
       "4  Краснодар  ultra               1000                  30720   \n",
       "\n",
       "   minutes_included  rub_monthly_fee  rub_per_gb  rub_per_message  \\\n",
       "0              3000             1950         150                1   \n",
       "1              3000             1950         150                1   \n",
       "2              3000             1950         150                1   \n",
       "3              3000             1950         150                1   \n",
       "4              3000             1950         150                1   \n",
       "\n",
       "   rub_per_minute  \n",
       "0               1  \n",
       "1               1  \n",
       "2               1  \n",
       "3               1  \n",
       "4               1  "
      ]
     },
     "execution_count": 53,
     "metadata": {},
     "output_type": "execute_result"
    }
   ],
   "source": [
    "df_revenue = pd.merge(df_revenue, total_tariff, \n",
    "         left_on='user_id', right_on='user_id', how='outer')\n",
    "df_revenue.head()"
   ]
  },
  {
   "cell_type": "code",
   "execution_count": 54,
   "id": "722c627b",
   "metadata": {},
   "outputs": [
    {
     "data": {
      "text/plain": [
       "user_id                    0\n",
       "month                      2\n",
       "calls_sum                 42\n",
       "calls_count               42\n",
       "message_count            499\n",
       "gb                        13\n",
       "age                        0\n",
       "city                       0\n",
       "tariff                     0\n",
       "messages_included          0\n",
       "mb_per_month_included      0\n",
       "minutes_included           0\n",
       "rub_monthly_fee            0\n",
       "rub_per_gb                 0\n",
       "rub_per_message            0\n",
       "rub_per_minute             0\n",
       "dtype: int64"
      ]
     },
     "execution_count": 54,
     "metadata": {},
     "output_type": "execute_result"
    }
   ],
   "source": [
    "df_revenue.isna().sum()"
   ]
  },
  {
   "cell_type": "code",
   "execution_count": 55,
   "id": "c2067cb2",
   "metadata": {},
   "outputs": [
    {
     "name": "stdout",
     "output_type": "stream",
     "text": [
      "<class 'pandas.core.frame.DataFrame'>\n",
      "Int64Index: 3216 entries, 0 to 3215\n",
      "Data columns (total 16 columns):\n",
      " #   Column                 Non-Null Count  Dtype  \n",
      "---  ------                 --------------  -----  \n",
      " 0   user_id                3216 non-null   int64  \n",
      " 1   month                  3214 non-null   float64\n",
      " 2   calls_sum              3174 non-null   float64\n",
      " 3   calls_count            3174 non-null   float64\n",
      " 4   message_count          2717 non-null   float64\n",
      " 5   gb                     3203 non-null   float64\n",
      " 6   age                    3216 non-null   int64  \n",
      " 7   city                   3216 non-null   object \n",
      " 8   tariff                 3216 non-null   object \n",
      " 9   messages_included      3216 non-null   int64  \n",
      " 10  mb_per_month_included  3216 non-null   int64  \n",
      " 11  minutes_included       3216 non-null   int64  \n",
      " 12  rub_monthly_fee        3216 non-null   int64  \n",
      " 13  rub_per_gb             3216 non-null   int64  \n",
      " 14  rub_per_message        3216 non-null   int64  \n",
      " 15  rub_per_minute         3216 non-null   int64  \n",
      "dtypes: float64(5), int64(9), object(2)\n",
      "memory usage: 427.1+ KB\n"
     ]
    }
   ],
   "source": [
    "df_revenue.info()"
   ]
  },
  {
   "cell_type": "markdown",
   "id": "8618e888",
   "metadata": {},
   "source": [
    "Вероятно, пропуски в таблице -говорят о том, что в этот  период не было звонков"
   ]
  },
  {
   "cell_type": "code",
   "execution_count": 56,
   "id": "aabdb045",
   "metadata": {
    "scrolled": true
   },
   "outputs": [
    {
     "data": {
      "text/plain": [
       "user_id                    0\n",
       "month                      0\n",
       "calls_sum                 40\n",
       "calls_count               40\n",
       "message_count            497\n",
       "gb                        11\n",
       "age                        0\n",
       "city                       0\n",
       "tariff                     0\n",
       "messages_included          0\n",
       "mb_per_month_included      0\n",
       "minutes_included           0\n",
       "rub_monthly_fee            0\n",
       "rub_per_gb                 0\n",
       "rub_per_message            0\n",
       "rub_per_minute             0\n",
       "dtype: int64"
      ]
     },
     "execution_count": 56,
     "metadata": {},
     "output_type": "execute_result"
    }
   ],
   "source": [
    "# есть 2 пропуска в month - можно удалить без влияния на результат\n",
    "df_revenue = df_revenue.dropna(subset = ['month']).reset_index(drop=True)\n",
    "df_revenue.isna().sum()"
   ]
  },
  {
   "cell_type": "code",
   "execution_count": 57,
   "id": "becff0f4",
   "metadata": {},
   "outputs": [
    {
     "data": {
      "text/plain": [
       "user_id                  0\n",
       "month                    0\n",
       "calls_sum                0\n",
       "calls_count              0\n",
       "message_count            0\n",
       "gb                       0\n",
       "age                      0\n",
       "city                     0\n",
       "tariff                   0\n",
       "messages_included        0\n",
       "mb_per_month_included    0\n",
       "minutes_included         0\n",
       "rub_monthly_fee          0\n",
       "rub_per_gb               0\n",
       "rub_per_message          0\n",
       "rub_per_minute           0\n",
       "dtype: int64"
      ]
     },
     "execution_count": 57,
     "metadata": {},
     "output_type": "execute_result"
    }
   ],
   "source": [
    "# в остальных данных пропуски обозначают 0\n",
    "df_revenue['calls_sum'] = df_revenue['calls_sum'].fillna(value = 0).astype(int)\n",
    "df_revenue['calls_count'] = df_revenue['calls_count'].fillna(value = 0).astype(int)\n",
    "df_revenue['message_count'] = df_revenue['message_count'].fillna(value = 0).astype(int)\n",
    "df_revenue['gb'] = df_revenue['gb'].fillna(value = 0).astype(int)\n",
    "df_revenue.isna().sum()"
   ]
  },
  {
   "cell_type": "markdown",
   "id": "12fa168b",
   "metadata": {},
   "source": [
    "Переведем МБ в ГБ  в колонке mb_per_month_included."
   ]
  },
  {
   "cell_type": "code",
   "execution_count": 58,
   "id": "9603c2b3",
   "metadata": {},
   "outputs": [
    {
     "data": {
      "text/plain": [
       "15"
      ]
     },
     "execution_count": 58,
     "metadata": {},
     "output_type": "execute_result"
    }
   ],
   "source": [
    "df_revenue['mb_per_month_included'] = df_revenue['mb_per_month_included']/1024\n",
    "# пененазовем столбец\n",
    "df_revenue.rename(columns={'mb_per_month_included': 'gb_per_month_included'}, inplace=True)\n",
    "# приведем к целочисленному типу\n",
    "df_revenue['gb_per_month_included'] = df_revenue['gb_per_month_included'].astype('int')\n",
    "df_revenue['gb_per_month_included'].min()"
   ]
  },
  {
   "cell_type": "code",
   "execution_count": 59,
   "id": "6aed845b",
   "metadata": {
    "scrolled": true
   },
   "outputs": [
    {
     "data": {
      "text/html": [
       "<div>\n",
       "<style scoped>\n",
       "    .dataframe tbody tr th:only-of-type {\n",
       "        vertical-align: middle;\n",
       "    }\n",
       "\n",
       "    .dataframe tbody tr th {\n",
       "        vertical-align: top;\n",
       "    }\n",
       "\n",
       "    .dataframe thead th {\n",
       "        text-align: right;\n",
       "    }\n",
       "</style>\n",
       "<table border=\"1\" class=\"dataframe\">\n",
       "  <thead>\n",
       "    <tr style=\"text-align: right;\">\n",
       "      <th></th>\n",
       "      <th>user_id</th>\n",
       "      <th>month</th>\n",
       "      <th>calls_sum</th>\n",
       "      <th>calls_count</th>\n",
       "      <th>message_count</th>\n",
       "      <th>gb</th>\n",
       "      <th>age</th>\n",
       "      <th>city</th>\n",
       "      <th>tariff</th>\n",
       "      <th>messages_included</th>\n",
       "      <th>gb_per_month_included</th>\n",
       "      <th>minutes_included</th>\n",
       "      <th>rub_monthly_fee</th>\n",
       "      <th>rub_per_gb</th>\n",
       "      <th>rub_per_message</th>\n",
       "      <th>rub_per_minute</th>\n",
       "      <th>total revenue</th>\n",
       "    </tr>\n",
       "  </thead>\n",
       "  <tbody>\n",
       "    <tr>\n",
       "      <th>3108</th>\n",
       "      <td>1486</td>\n",
       "      <td>12.0</td>\n",
       "      <td>1007</td>\n",
       "      <td>133</td>\n",
       "      <td>83</td>\n",
       "      <td>38</td>\n",
       "      <td>35</td>\n",
       "      <td>Нижний Новгород</td>\n",
       "      <td>smart</td>\n",
       "      <td>50</td>\n",
       "      <td>15</td>\n",
       "      <td>500</td>\n",
       "      <td>550</td>\n",
       "      <td>200</td>\n",
       "      <td>3</td>\n",
       "      <td>3</td>\n",
       "      <td>6770</td>\n",
       "    </tr>\n",
       "    <tr>\n",
       "      <th>260</th>\n",
       "      <td>1042</td>\n",
       "      <td>12.0</td>\n",
       "      <td>728</td>\n",
       "      <td>121</td>\n",
       "      <td>75</td>\n",
       "      <td>37</td>\n",
       "      <td>42</td>\n",
       "      <td>Хабаровск</td>\n",
       "      <td>smart</td>\n",
       "      <td>50</td>\n",
       "      <td>15</td>\n",
       "      <td>500</td>\n",
       "      <td>550</td>\n",
       "      <td>200</td>\n",
       "      <td>3</td>\n",
       "      <td>3</td>\n",
       "      <td>5709</td>\n",
       "    </tr>\n",
       "    <tr>\n",
       "      <th>3107</th>\n",
       "      <td>1486</td>\n",
       "      <td>11.0</td>\n",
       "      <td>764</td>\n",
       "      <td>108</td>\n",
       "      <td>96</td>\n",
       "      <td>36</td>\n",
       "      <td>35</td>\n",
       "      <td>Нижний Новгород</td>\n",
       "      <td>smart</td>\n",
       "      <td>50</td>\n",
       "      <td>15</td>\n",
       "      <td>500</td>\n",
       "      <td>550</td>\n",
       "      <td>200</td>\n",
       "      <td>3</td>\n",
       "      <td>3</td>\n",
       "      <td>5680</td>\n",
       "    </tr>\n",
       "    <tr>\n",
       "      <th>1622</th>\n",
       "      <td>1261</td>\n",
       "      <td>12.0</td>\n",
       "      <td>1074</td>\n",
       "      <td>141</td>\n",
       "      <td>22</td>\n",
       "      <td>32</td>\n",
       "      <td>46</td>\n",
       "      <td>Казань</td>\n",
       "      <td>smart</td>\n",
       "      <td>50</td>\n",
       "      <td>15</td>\n",
       "      <td>500</td>\n",
       "      <td>550</td>\n",
       "      <td>200</td>\n",
       "      <td>3</td>\n",
       "      <td>3</td>\n",
       "      <td>5672</td>\n",
       "    </tr>\n",
       "    <tr>\n",
       "      <th>1793</th>\n",
       "      <td>1286</td>\n",
       "      <td>12.0</td>\n",
       "      <td>739</td>\n",
       "      <td>95</td>\n",
       "      <td>68</td>\n",
       "      <td>35</td>\n",
       "      <td>19</td>\n",
       "      <td>Москва</td>\n",
       "      <td>smart</td>\n",
       "      <td>50</td>\n",
       "      <td>15</td>\n",
       "      <td>500</td>\n",
       "      <td>550</td>\n",
       "      <td>200</td>\n",
       "      <td>3</td>\n",
       "      <td>3</td>\n",
       "      <td>5321</td>\n",
       "    </tr>\n",
       "  </tbody>\n",
       "</table>\n",
       "</div>"
      ],
      "text/plain": [
       "      user_id  month  calls_sum  calls_count  message_count  gb  age  \\\n",
       "3108     1486   12.0       1007          133             83  38   35   \n",
       "260      1042   12.0        728          121             75  37   42   \n",
       "3107     1486   11.0        764          108             96  36   35   \n",
       "1622     1261   12.0       1074          141             22  32   46   \n",
       "1793     1286   12.0        739           95             68  35   19   \n",
       "\n",
       "                 city tariff  messages_included  gb_per_month_included  \\\n",
       "3108  Нижний Новгород  smart                 50                     15   \n",
       "260         Хабаровск  smart                 50                     15   \n",
       "3107  Нижний Новгород  smart                 50                     15   \n",
       "1622           Казань  smart                 50                     15   \n",
       "1793           Москва  smart                 50                     15   \n",
       "\n",
       "      minutes_included  rub_monthly_fee  rub_per_gb  rub_per_message  \\\n",
       "3108               500              550         200                3   \n",
       "260                500              550         200                3   \n",
       "3107               500              550         200                3   \n",
       "1622               500              550         200                3   \n",
       "1793               500              550         200                3   \n",
       "\n",
       "      rub_per_minute  total revenue  \n",
       "3108               3           6770  \n",
       "260                3           5709  \n",
       "3107               3           5680  \n",
       "1622               3           5672  \n",
       "1793               3           5321  "
      ]
     },
     "execution_count": 59,
     "metadata": {},
     "output_type": "execute_result"
    }
   ],
   "source": [
    "# напишем функцию, которая поможет вычесть бесплатный лимит из суммарного количества звонков,\n",
    "# сообщений и интернет- трафика; остаток умножим на значение из тарифного плана\n",
    "\n",
    "def revenue (row):\n",
    "    \n",
    "    if row ['message_count']>row['messages_included']: \n",
    "        message = (row['message_count'] - row['messages_included']) * row['rub_per_message']\n",
    "    else:\n",
    "        message = 0\n",
    "    if row['calls_sum']>row['minutes_included']:\n",
    "        calls = (row['calls_sum'] - row['minutes_included']) * row['rub_per_minute']\n",
    "    else:\n",
    "        calls=0\n",
    "    if row['gb']>row['gb_per_month_included']:\n",
    "        gbs = (row['gb'] - row['gb_per_month_included']) * row['rub_per_gb']\n",
    "    else:\n",
    "            gbs=0\n",
    "            \n",
    "# сложим оплату за гб, минуты и сообщения сверх тарифов:\n",
    "    total = 0\n",
    "    for i in [message, calls, gbs]:\n",
    "        if i > 0:\n",
    "            total += i\n",
    "    return total           \n",
    "      \n",
    "df_revenue['total revenue'] = df_revenue.apply(revenue,axis=1)\n",
    "\n",
    "# прибавим абонентскую плату, соответствующую тарифному плану:\n",
    "df_revenue['total revenue'] = df_revenue['total revenue']+df_revenue['rub_monthly_fee']\n",
    "\n",
    "\n",
    "# убедимся, что все ок\n",
    "df_revenue.sort_values(by='total revenue', ascending = False).head()"
   ]
  },
  {
   "cell_type": "code",
   "execution_count": 60,
   "id": "3282914d",
   "metadata": {},
   "outputs": [
    {
     "name": "stdout",
     "output_type": "stream",
     "text": [
      "<class 'pandas.core.frame.DataFrame'>\n",
      "RangeIndex: 3214 entries, 0 to 3213\n",
      "Data columns (total 17 columns):\n",
      " #   Column                 Non-Null Count  Dtype  \n",
      "---  ------                 --------------  -----  \n",
      " 0   user_id                3214 non-null   int64  \n",
      " 1   month                  3214 non-null   float64\n",
      " 2   calls_sum              3214 non-null   int32  \n",
      " 3   calls_count            3214 non-null   int32  \n",
      " 4   message_count          3214 non-null   int32  \n",
      " 5   gb                     3214 non-null   int32  \n",
      " 6   age                    3214 non-null   int64  \n",
      " 7   city                   3214 non-null   object \n",
      " 8   tariff                 3214 non-null   object \n",
      " 9   messages_included      3214 non-null   int64  \n",
      " 10  gb_per_month_included  3214 non-null   int32  \n",
      " 11  minutes_included       3214 non-null   int64  \n",
      " 12  rub_monthly_fee        3214 non-null   int64  \n",
      " 13  rub_per_gb             3214 non-null   int64  \n",
      " 14  rub_per_message        3214 non-null   int64  \n",
      " 15  rub_per_minute         3214 non-null   int64  \n",
      " 16  total revenue          3214 non-null   int64  \n",
      "dtypes: float64(1), int32(5), int64(9), object(2)\n",
      "memory usage: 364.2+ KB\n"
     ]
    }
   ],
   "source": [
    "df_revenue.info()"
   ]
  },
  {
   "cell_type": "code",
   "execution_count": 61,
   "id": "3557d8c9",
   "metadata": {},
   "outputs": [
    {
     "data": {
      "text/plain": [
       "count    3214.000000\n",
       "mean     1529.076229\n",
       "std       798.251091\n",
       "min       550.000000\n",
       "25%       750.000000\n",
       "50%      1653.500000\n",
       "75%      1950.000000\n",
       "max      6770.000000\n",
       "Name: total revenue, dtype: float64"
      ]
     },
     "execution_count": 61,
     "metadata": {},
     "output_type": "execute_result"
    }
   ],
   "source": [
    "df_revenue['total revenue'].describe()"
   ]
  },
  {
   "cell_type": "markdown",
   "id": "780e1d17",
   "metadata": {},
   "source": [
    "В среднем пользователи платят 1077 рубллей  в мес, максимум - 3397, вероятно на тарифе Ультра."
   ]
  },
  {
   "cell_type": "markdown",
   "id": "9da66b89",
   "metadata": {},
   "source": [
    "#### Вывод:\n",
    "\n",
    "Мы привели данные к нужным типам.\n",
    "\n",
    "Проверили их на явные и неявные дубликаты.\n",
    "\n",
    "Добавили столбцы с месяцами в нужные таблицы.\n",
    "\n",
    "Посчитали для каждого пользователя:\n",
    "\n",
    "* количество сделанных звонков и израсходованных минут разговора по месяцам;\n",
    "* количество отправленных сообщений по месяцам;\n",
    "* объем израсходованного интернет-трафика по месяцам;\n",
    "* помесячную выручку с каждого пользователя (вычли бесплатный лимит из суммарного количества звонков, сообщений и интернет- трафика; остаток умножили на значение из тарифного плана; прибавили абонентскую плату, соответствующую тарифному плану).\n",
    "И можем переходить к следующему шагу."
   ]
  },
  {
   "cell_type": "code",
   "execution_count": 62,
   "id": "c2c8a6b3",
   "metadata": {},
   "outputs": [
    {
     "data": {
      "text/plain": [
       "4914451"
      ]
     },
     "execution_count": 62,
     "metadata": {},
     "output_type": "execute_result"
    }
   ],
   "source": [
    "# check\n",
    "df_revenue['total revenue'].sum()"
   ]
  },
  {
   "cell_type": "code",
   "execution_count": 63,
   "id": "0989b298",
   "metadata": {},
   "outputs": [
    {
     "data": {
      "text/html": [
       "<div>\n",
       "<style scoped>\n",
       "    .dataframe tbody tr th:only-of-type {\n",
       "        vertical-align: middle;\n",
       "    }\n",
       "\n",
       "    .dataframe tbody tr th {\n",
       "        vertical-align: top;\n",
       "    }\n",
       "\n",
       "    .dataframe thead th {\n",
       "        text-align: right;\n",
       "    }\n",
       "</style>\n",
       "<table border=\"1\" class=\"dataframe\">\n",
       "  <thead>\n",
       "    <tr style=\"text-align: right;\">\n",
       "      <th></th>\n",
       "      <th>user_id</th>\n",
       "      <th>month</th>\n",
       "      <th>calls_sum</th>\n",
       "      <th>calls_count</th>\n",
       "      <th>message_count</th>\n",
       "      <th>gb</th>\n",
       "      <th>tariff</th>\n",
       "      <th>total revenue</th>\n",
       "    </tr>\n",
       "  </thead>\n",
       "  <tbody>\n",
       "    <tr>\n",
       "      <th>3160</th>\n",
       "      <td>1496</td>\n",
       "      <td>8.0</td>\n",
       "      <td>527</td>\n",
       "      <td>88</td>\n",
       "      <td>41</td>\n",
       "      <td>23</td>\n",
       "      <td>smart</td>\n",
       "      <td>2231</td>\n",
       "    </tr>\n",
       "    <tr>\n",
       "      <th>3163</th>\n",
       "      <td>1496</td>\n",
       "      <td>11.0</td>\n",
       "      <td>662</td>\n",
       "      <td>80</td>\n",
       "      <td>46</td>\n",
       "      <td>25</td>\n",
       "      <td>smart</td>\n",
       "      <td>3036</td>\n",
       "    </tr>\n",
       "    <tr>\n",
       "      <th>3164</th>\n",
       "      <td>1496</td>\n",
       "      <td>12.0</td>\n",
       "      <td>518</td>\n",
       "      <td>80</td>\n",
       "      <td>51</td>\n",
       "      <td>21</td>\n",
       "      <td>smart</td>\n",
       "      <td>1807</td>\n",
       "    </tr>\n",
       "    <tr>\n",
       "      <th>3167</th>\n",
       "      <td>1497</td>\n",
       "      <td>12.0</td>\n",
       "      <td>545</td>\n",
       "      <td>71</td>\n",
       "      <td>17</td>\n",
       "      <td>20</td>\n",
       "      <td>smart</td>\n",
       "      <td>1685</td>\n",
       "    </tr>\n",
       "    <tr>\n",
       "      <th>3174</th>\n",
       "      <td>1499</td>\n",
       "      <td>11.0</td>\n",
       "      <td>612</td>\n",
       "      <td>74</td>\n",
       "      <td>59</td>\n",
       "      <td>18</td>\n",
       "      <td>smart</td>\n",
       "      <td>1513</td>\n",
       "    </tr>\n",
       "  </tbody>\n",
       "</table>\n",
       "</div>"
      ],
      "text/plain": [
       "      user_id  month  calls_sum  calls_count  message_count  gb tariff  \\\n",
       "3160     1496    8.0        527           88             41  23  smart   \n",
       "3163     1496   11.0        662           80             46  25  smart   \n",
       "3164     1496   12.0        518           80             51  21  smart   \n",
       "3167     1497   12.0        545           71             17  20  smart   \n",
       "3174     1499   11.0        612           74             59  18  smart   \n",
       "\n",
       "      total revenue  \n",
       "3160           2231  \n",
       "3163           3036  \n",
       "3164           1807  \n",
       "3167           1685  \n",
       "3174           1513  "
      ]
     },
     "execution_count": 63,
     "metadata": {},
     "output_type": "execute_result"
    }
   ],
   "source": [
    "# check\n",
    "df_revenue[df_revenue['calls_sum'] > 500][['user_id', 'month', 'calls_sum', 'calls_count', 'message_count', 'gb',\n",
    "        'tariff',  'total revenue']].tail()"
   ]
  },
  {
   "cell_type": "markdown",
   "id": "ab62edc9",
   "metadata": {},
   "source": [
    "# [Шаг 3. Анализ данных](#section_id6)\n"
   ]
  },
  {
   "cell_type": "markdown",
   "id": "282065b4",
   "metadata": {},
   "source": [
    "Посмотрим-какое распределение клиентов по тарифам."
   ]
  },
  {
   "cell_type": "code",
   "execution_count": 64,
   "id": "4a7b5d69",
   "metadata": {},
   "outputs": [
    {
     "data": {
      "text/plain": [
       "350"
      ]
     },
     "execution_count": 64,
     "metadata": {},
     "output_type": "execute_result"
    }
   ],
   "source": [
    "# клиенты тарифа смарт\n",
    "df_revenue_smart = df_revenue.query('tariff==\"smart\"')\n",
    "len(df_revenue_smart['user_id'].unique())"
   ]
  },
  {
   "cell_type": "code",
   "execution_count": 65,
   "id": "62a1c3ce",
   "metadata": {},
   "outputs": [
    {
     "data": {
      "text/plain": [
       "148"
      ]
     },
     "execution_count": 65,
     "metadata": {},
     "output_type": "execute_result"
    }
   ],
   "source": [
    "# клиенты тарифа ультра\n",
    "df_revenue_ultra = df_revenue.query('tariff==\"ultra\"')\n",
    "len(df_revenue_ultra['user_id'].unique())"
   ]
  },
  {
   "cell_type": "markdown",
   "id": "2a4327e6",
   "metadata": {},
   "source": [
    "Тариф смарт значительно популярнее среди пользователей. Это можно объяснить тем, что предоставляемые объемы трафиков подходят для большего количества людей, плюс он дешевле."
   ]
  },
  {
   "cell_type": "markdown",
   "id": "6a3c5dcc",
   "metadata": {},
   "source": [
    "#### 3.1. Посчитаем -сколько минут разговора, сообщений и какой объем трафика требуется пользователям тарифа smart в месяц."
   ]
  },
  {
   "cell_type": "code",
   "execution_count": 66,
   "id": "a03b2be2",
   "metadata": {},
   "outputs": [
    {
     "data": {
      "text/html": [
       "<div>\n",
       "<style scoped>\n",
       "    .dataframe tbody tr th:only-of-type {\n",
       "        vertical-align: middle;\n",
       "    }\n",
       "\n",
       "    .dataframe tbody tr th {\n",
       "        vertical-align: top;\n",
       "    }\n",
       "\n",
       "    .dataframe thead th {\n",
       "        text-align: right;\n",
       "    }\n",
       "</style>\n",
       "<table border=\"1\" class=\"dataframe\">\n",
       "  <thead>\n",
       "    <tr style=\"text-align: right;\">\n",
       "      <th></th>\n",
       "      <th>calls_sum</th>\n",
       "      <th>gb</th>\n",
       "      <th>message_count</th>\n",
       "    </tr>\n",
       "    <tr>\n",
       "      <th>month</th>\n",
       "      <th></th>\n",
       "      <th></th>\n",
       "      <th></th>\n",
       "    </tr>\n",
       "  </thead>\n",
       "  <tbody>\n",
       "    <tr>\n",
       "      <th>1.0</th>\n",
       "      <td>203.85</td>\n",
       "      <td>8.74</td>\n",
       "      <td>18.24</td>\n",
       "    </tr>\n",
       "    <tr>\n",
       "      <th>2.0</th>\n",
       "      <td>298.69</td>\n",
       "      <td>11.84</td>\n",
       "      <td>24.09</td>\n",
       "    </tr>\n",
       "    <tr>\n",
       "      <th>3.0</th>\n",
       "      <td>390.05</td>\n",
       "      <td>15.23</td>\n",
       "      <td>31.86</td>\n",
       "    </tr>\n",
       "    <tr>\n",
       "      <th>4.0</th>\n",
       "      <td>367.13</td>\n",
       "      <td>13.62</td>\n",
       "      <td>30.74</td>\n",
       "    </tr>\n",
       "    <tr>\n",
       "      <th>5.0</th>\n",
       "      <td>387.36</td>\n",
       "      <td>15.91</td>\n",
       "      <td>33.77</td>\n",
       "    </tr>\n",
       "    <tr>\n",
       "      <th>6.0</th>\n",
       "      <td>395.64</td>\n",
       "      <td>15.95</td>\n",
       "      <td>33.40</td>\n",
       "    </tr>\n",
       "    <tr>\n",
       "      <th>7.0</th>\n",
       "      <td>408.35</td>\n",
       "      <td>15.88</td>\n",
       "      <td>33.75</td>\n",
       "    </tr>\n",
       "    <tr>\n",
       "      <th>8.0</th>\n",
       "      <td>421.47</td>\n",
       "      <td>16.74</td>\n",
       "      <td>33.64</td>\n",
       "    </tr>\n",
       "    <tr>\n",
       "      <th>9.0</th>\n",
       "      <td>428.61</td>\n",
       "      <td>16.39</td>\n",
       "      <td>33.64</td>\n",
       "    </tr>\n",
       "    <tr>\n",
       "      <th>10.0</th>\n",
       "      <td>426.14</td>\n",
       "      <td>16.88</td>\n",
       "      <td>33.77</td>\n",
       "    </tr>\n",
       "    <tr>\n",
       "      <th>11.0</th>\n",
       "      <td>435.27</td>\n",
       "      <td>17.00</td>\n",
       "      <td>34.08</td>\n",
       "    </tr>\n",
       "    <tr>\n",
       "      <th>12.0</th>\n",
       "      <td>478.56</td>\n",
       "      <td>18.20</td>\n",
       "      <td>35.99</td>\n",
       "    </tr>\n",
       "  </tbody>\n",
       "</table>\n",
       "</div>"
      ],
      "text/plain": [
       "       calls_sum     gb  message_count\n",
       "month                                 \n",
       "1.0       203.85   8.74          18.24\n",
       "2.0       298.69  11.84          24.09\n",
       "3.0       390.05  15.23          31.86\n",
       "4.0       367.13  13.62          30.74\n",
       "5.0       387.36  15.91          33.77\n",
       "6.0       395.64  15.95          33.40\n",
       "7.0       408.35  15.88          33.75\n",
       "8.0       421.47  16.74          33.64\n",
       "9.0       428.61  16.39          33.64\n",
       "10.0      426.14  16.88          33.77\n",
       "11.0      435.27  17.00          34.08\n",
       "12.0      478.56  18.20          35.99"
      ]
     },
     "execution_count": 66,
     "metadata": {},
     "output_type": "execute_result"
    }
   ],
   "source": [
    "\n",
    "df_revenue_smart_mean = df_revenue_smart.pivot_table(index=['month'], values= ['calls_sum', 'message_count', 'gb'], aggfunc='mean').round(2)\n",
    "df_revenue_smart_mean "
   ]
  },
  {
   "cell_type": "code",
   "execution_count": 67,
   "id": "1e060644",
   "metadata": {},
   "outputs": [
    {
     "data": {
      "text/plain": [
       "417.9349484073576"
      ]
     },
     "execution_count": 67,
     "metadata": {},
     "output_type": "execute_result"
    }
   ],
   "source": [
    "df_revenue_smart['calls_sum'].mean()"
   ]
  },
  {
   "cell_type": "code",
   "execution_count": 68,
   "id": "3dd49b2b",
   "metadata": {},
   "outputs": [
    {
     "data": {
      "text/plain": [
       "33.384028712427096"
      ]
     },
     "execution_count": 68,
     "metadata": {},
     "output_type": "execute_result"
    }
   ],
   "source": [
    "df_revenue_smart['message_count'].mean()"
   ]
  },
  {
   "cell_type": "code",
   "execution_count": 69,
   "id": "efc33ca7",
   "metadata": {},
   "outputs": [
    {
     "data": {
      "text/plain": [
       "16.328847016599372"
      ]
     },
     "execution_count": 69,
     "metadata": {},
     "output_type": "execute_result"
    }
   ],
   "source": [
    "df_revenue_smart['gb'].mean()"
   ]
  },
  {
   "cell_type": "code",
   "execution_count": 70,
   "id": "7e2a0def",
   "metadata": {},
   "outputs": [
    {
     "data": {
      "image/png": "[encoded data removed]",
      "text/plain": [
       "<Figure size 432x288 with 1 Axes>"
      ]
     },
     "metadata": {
      "needs_background": "light"
     },
     "output_type": "display_data"
    }
   ],
   "source": [
    "df_revenue_smart_mean.plot(y = ['calls_sum', 'gb', 'message_count'])\n",
    "plt.title('Тариф смарт, средние показатели')\n",
    "plt.xlabel('Месяцы')\n",
    "plt.ylabel('Количество звонков, сообщений и Гб')\n",
    "None"
   ]
  },
  {
   "cell_type": "markdown",
   "id": "971dcd7e",
   "metadata": {},
   "source": [
    "Видим, что в среднем, пользователи разговаривают 526 минут в месяц.\n",
    "\n",
    "В среднем - количество сообщений 49.\n",
    "\n",
    "В среднем Гб инета - 19.\n"
   ]
  },
  {
   "cell_type": "markdown",
   "id": "4dfb0506",
   "metadata": {},
   "source": [
    "Посмотрим, сколько было превышения лимитов"
   ]
  },
  {
   "cell_type": "code",
   "execution_count": 71,
   "id": "4b767afc",
   "metadata": {},
   "outputs": [
    {
     "data": {
      "text/plain": [
       "754"
      ]
     },
     "execution_count": 71,
     "metadata": {},
     "output_type": "execute_result"
    }
   ],
   "source": [
    "# превышение лимитов по звонкам\n",
    "len(df_revenue_smart.query('calls_sum>500')) "
   ]
  },
  {
   "cell_type": "code",
   "execution_count": 72,
   "id": "88d47d53",
   "metadata": {},
   "outputs": [
    {
     "data": {
      "text/plain": [
       "33.82682817406909"
      ]
     },
     "execution_count": 72,
     "metadata": {},
     "output_type": "execute_result"
    }
   ],
   "source": [
    "len(df_revenue_smart.query('calls_sum>500'))/len(df_revenue_smart)*100"
   ]
  },
  {
   "cell_type": "markdown",
   "id": "c13cc281",
   "metadata": {},
   "source": [
    "в 52% месяцев был превышен лимит по длительности звонков"
   ]
  },
  {
   "cell_type": "code",
   "execution_count": 73,
   "id": "425e7065",
   "metadata": {},
   "outputs": [
    {
     "data": {
      "text/plain": [
       "25.3028263795424"
      ]
     },
     "execution_count": 73,
     "metadata": {},
     "output_type": "execute_result"
    }
   ],
   "source": [
    "# превышение лимитов по сообщениям\n",
    "len(df_revenue_smart.query('message_count>50')) \n",
    "len(df_revenue_smart.query('message_count>50'))/len(df_revenue_smart)*100"
   ]
  },
  {
   "cell_type": "markdown",
   "id": "23fe3159",
   "metadata": {},
   "source": [
    "В 40% был превышен лимит по сообщениям"
   ]
  },
  {
   "cell_type": "code",
   "execution_count": 74,
   "id": "41b15c33",
   "metadata": {},
   "outputs": [
    {
     "data": {
      "text/plain": [
       "58.50157021085689"
      ]
     },
     "execution_count": 74,
     "metadata": {},
     "output_type": "execute_result"
    }
   ],
   "source": [
    "# превышение лимитов по Гб инета\n",
    "len(df_revenue_smart.query('gb>15')) \n",
    "len(df_revenue_smart.query('gb>15'))/len(df_revenue_smart)*100"
   ]
  },
  {
   "cell_type": "markdown",
   "id": "ec946327",
   "metadata": {},
   "source": [
    "В 64% превышен лимит по Гб. "
   ]
  },
  {
   "cell_type": "markdown",
   "id": "7cb54c5c",
   "metadata": {},
   "source": [
    "## Посчитаем -сколько требуется пользователям тарифа ultra в месяц."
   ]
  },
  {
   "cell_type": "markdown",
   "id": "35f73615",
   "metadata": {},
   "source": [
    "Расчет ср. длительности пользования тарифом, ultra vs smart по различным группам (объединение по месяцу, городу ...)\n",
    "\n",
    "Скорость оттока пользователей и связана она с тарифом\n",
    "\n",
    "Ускоряется ли отток клиентов\n",
    "\n",
    "Скорость подключения клиентов по городам (в каких городах быстрее)\n",
    "\n",
    "Кто чем больше пользуется — распределение по возрастным группам (молодежь интернетом, более старшее поколение - звонками)"
   ]
  },
  {
   "cell_type": "code",
   "execution_count": 75,
   "id": "31888a75",
   "metadata": {},
   "outputs": [
    {
     "data": {
      "text/html": [
       "<div>\n",
       "<style scoped>\n",
       "    .dataframe tbody tr th:only-of-type {\n",
       "        vertical-align: middle;\n",
       "    }\n",
       "\n",
       "    .dataframe tbody tr th {\n",
       "        vertical-align: top;\n",
       "    }\n",
       "\n",
       "    .dataframe thead th {\n",
       "        text-align: right;\n",
       "    }\n",
       "</style>\n",
       "<table border=\"1\" class=\"dataframe\">\n",
       "  <thead>\n",
       "    <tr style=\"text-align: right;\">\n",
       "      <th></th>\n",
       "      <th>calls_sum</th>\n",
       "      <th>gb</th>\n",
       "      <th>message_count</th>\n",
       "    </tr>\n",
       "    <tr>\n",
       "      <th>month</th>\n",
       "      <th></th>\n",
       "      <th></th>\n",
       "      <th></th>\n",
       "    </tr>\n",
       "  </thead>\n",
       "  <tbody>\n",
       "    <tr>\n",
       "      <th>1.0</th>\n",
       "      <td>203.85</td>\n",
       "      <td>8.74</td>\n",
       "      <td>18.24</td>\n",
       "    </tr>\n",
       "    <tr>\n",
       "      <th>2.0</th>\n",
       "      <td>298.69</td>\n",
       "      <td>11.84</td>\n",
       "      <td>24.09</td>\n",
       "    </tr>\n",
       "    <tr>\n",
       "      <th>3.0</th>\n",
       "      <td>390.05</td>\n",
       "      <td>15.23</td>\n",
       "      <td>31.86</td>\n",
       "    </tr>\n",
       "    <tr>\n",
       "      <th>4.0</th>\n",
       "      <td>367.13</td>\n",
       "      <td>13.62</td>\n",
       "      <td>30.74</td>\n",
       "    </tr>\n",
       "    <tr>\n",
       "      <th>5.0</th>\n",
       "      <td>387.36</td>\n",
       "      <td>15.91</td>\n",
       "      <td>33.77</td>\n",
       "    </tr>\n",
       "    <tr>\n",
       "      <th>6.0</th>\n",
       "      <td>395.64</td>\n",
       "      <td>15.95</td>\n",
       "      <td>33.40</td>\n",
       "    </tr>\n",
       "    <tr>\n",
       "      <th>7.0</th>\n",
       "      <td>408.35</td>\n",
       "      <td>15.88</td>\n",
       "      <td>33.75</td>\n",
       "    </tr>\n",
       "    <tr>\n",
       "      <th>8.0</th>\n",
       "      <td>421.47</td>\n",
       "      <td>16.74</td>\n",
       "      <td>33.64</td>\n",
       "    </tr>\n",
       "    <tr>\n",
       "      <th>9.0</th>\n",
       "      <td>428.61</td>\n",
       "      <td>16.39</td>\n",
       "      <td>33.64</td>\n",
       "    </tr>\n",
       "    <tr>\n",
       "      <th>10.0</th>\n",
       "      <td>426.14</td>\n",
       "      <td>16.88</td>\n",
       "      <td>33.77</td>\n",
       "    </tr>\n",
       "    <tr>\n",
       "      <th>11.0</th>\n",
       "      <td>435.27</td>\n",
       "      <td>17.00</td>\n",
       "      <td>34.08</td>\n",
       "    </tr>\n",
       "    <tr>\n",
       "      <th>12.0</th>\n",
       "      <td>478.56</td>\n",
       "      <td>18.20</td>\n",
       "      <td>35.99</td>\n",
       "    </tr>\n",
       "  </tbody>\n",
       "</table>\n",
       "</div>"
      ],
      "text/plain": [
       "       calls_sum     gb  message_count\n",
       "month                                 \n",
       "1.0       203.85   8.74          18.24\n",
       "2.0       298.69  11.84          24.09\n",
       "3.0       390.05  15.23          31.86\n",
       "4.0       367.13  13.62          30.74\n",
       "5.0       387.36  15.91          33.77\n",
       "6.0       395.64  15.95          33.40\n",
       "7.0       408.35  15.88          33.75\n",
       "8.0       421.47  16.74          33.64\n",
       "9.0       428.61  16.39          33.64\n",
       "10.0      426.14  16.88          33.77\n",
       "11.0      435.27  17.00          34.08\n",
       "12.0      478.56  18.20          35.99"
      ]
     },
     "execution_count": 75,
     "metadata": {},
     "output_type": "execute_result"
    }
   ],
   "source": [
    "df_revenue_ultra = df_revenue.query('tariff==\"ultra\"')\n",
    "df_revenue_ultra_mean = df_revenue_smart.pivot_table(index=['month'], values= ['calls_sum', 'message_count', 'gb'], aggfunc='mean').round(2)\n",
    "df_revenue_ultra_mean "
   ]
  },
  {
   "cell_type": "code",
   "execution_count": 76,
   "id": "4b535688",
   "metadata": {},
   "outputs": [
    {
     "data": {
      "image/png": "[encoded data removed]",
      "text/plain": [
       "<Figure size 432x288 with 1 Axes>"
      ]
     },
     "metadata": {
      "needs_background": "light"
     },
     "output_type": "display_data"
    }
   ],
   "source": [
    "df_revenue_ultra_mean.plot(y = ['calls_sum', 'gb', 'message_count'])\n",
    "plt.title('Тариф ультра, средние показатели')\n",
    "plt.xlabel('Месяцы')\n",
    "plt.ylabel('Количество звонков, сообщений и Гб')\n",
    "None"
   ]
  },
  {
   "cell_type": "code",
   "execution_count": 77,
   "id": "3ae47617",
   "metadata": {},
   "outputs": [
    {
     "data": {
      "text/plain": [
       "526.6233502538071"
      ]
     },
     "execution_count": 77,
     "metadata": {},
     "output_type": "execute_result"
    }
   ],
   "source": [
    "df_revenue_ultra['calls_sum'].mean()"
   ]
  },
  {
   "cell_type": "code",
   "execution_count": 78,
   "id": "2d4aad07",
   "metadata": {},
   "outputs": [
    {
     "data": {
      "text/plain": [
       "19.494416243654822"
      ]
     },
     "execution_count": 78,
     "metadata": {},
     "output_type": "execute_result"
    }
   ],
   "source": [
    "df_revenue_ultra['gb'].mean()"
   ]
  },
  {
   "cell_type": "code",
   "execution_count": 79,
   "id": "943c4df4",
   "metadata": {},
   "outputs": [
    {
     "data": {
      "text/plain": [
       "49.36345177664975"
      ]
     },
     "execution_count": 79,
     "metadata": {},
     "output_type": "execute_result"
    }
   ],
   "source": [
    "df_revenue_ultra['message_count'].mean()"
   ]
  },
  {
   "cell_type": "markdown",
   "id": "cbcc217c",
   "metadata": {},
   "source": [
    "Видим, что как и в тарифе smart в среднем, пользователи тратят 526 минут.\n",
    "\n",
    "В среднем - количество сообщений 49\n",
    "\n",
    "В среднем Гб инета - 19. \n",
    "\n",
    "Посмотрим, сколько пользователей превышает лимиты."
   ]
  },
  {
   "cell_type": "code",
   "execution_count": 80,
   "id": "9ae6b8f0",
   "metadata": {},
   "outputs": [
    {
     "data": {
      "text/plain": [
       "0.0"
      ]
     },
     "execution_count": 80,
     "metadata": {},
     "output_type": "execute_result"
    }
   ],
   "source": [
    "# превышение лимитов по звонкам\n",
    "len(df_revenue_ultra.query('calls_sum>3000')) #0\n",
    "len(df_revenue_ultra.query('calls_sum>3000'))/len(df_revenue_ultra)*100"
   ]
  },
  {
   "cell_type": "code",
   "execution_count": 81,
   "id": "4495e4a0",
   "metadata": {},
   "outputs": [
    {
     "data": {
      "text/plain": [
       "0.0"
      ]
     },
     "execution_count": 81,
     "metadata": {},
     "output_type": "execute_result"
    }
   ],
   "source": [
    "# превышение лимитов по сообщениям\n",
    "len(df_revenue_ultra.query('message_count>1000')) #0\n",
    "len(df_revenue_ultra.query('message_count>1000'))/len(df_revenue_ultra)*100"
   ]
  },
  {
   "cell_type": "code",
   "execution_count": 82,
   "id": "d709b048",
   "metadata": {},
   "outputs": [
    {
     "data": {
      "text/plain": [
       "13.604060913705585"
      ]
     },
     "execution_count": 82,
     "metadata": {},
     "output_type": "execute_result"
    }
   ],
   "source": [
    "# превышение лимитов по Гб инета\n",
    "len(df_revenue_ultra.query('gb>30')) #117\n",
    "len(df_revenue_ultra.query('gb>30'))/len(df_revenue_ultra)*100"
   ]
  },
  {
   "cell_type": "markdown",
   "id": "1e2d7b03",
   "metadata": {},
   "source": [
    "В тарифе Ultra пользователи превышают лимит только в Гб - в 13 %. Остальные находятся в рамках своего тарифа.\n",
    "\n",
    "#### Посчитаем среднее, дисперсию, стандартное отклонение и построим гистограмму."
   ]
  },
  {
   "cell_type": "code",
   "execution_count": 83,
   "id": "8a6b2d45",
   "metadata": {},
   "outputs": [
    {
     "data": {
      "image/png": "[encoded data removed]",
      "text/plain": [
       "<Figure size 432x288 with 1 Axes>"
      ]
     },
     "metadata": {
      "needs_background": "light"
     },
     "output_type": "display_data"
    },
    {
     "name": "stdout",
     "output_type": "stream",
     "text": [
      "              mean            var         std\n",
      "         calls_sum      calls_sum   calls_sum\n",
      "tariff                                       \n",
      "smart   417.934948   36219.315784  190.313730\n",
      "ultra   526.623350  100873.633397  317.606098\n"
     ]
    },
    {
     "data": {
      "image/png": "[encoded data removed]",
      "text/plain": [
       "<Figure size 432x288 with 1 Axes>"
      ]
     },
     "metadata": {
      "needs_background": "light"
     },
     "output_type": "display_data"
    },
    {
     "name": "stdout",
     "output_type": "stream",
     "text": [
      "             mean        var       std\n",
      "               gb         gb        gb\n",
      "tariff                                \n",
      "smart   16.328847  33.028705  5.747061\n",
      "ultra   19.494416  97.091686  9.853511\n"
     ]
    },
    {
     "data": {
      "image/png": "[encoded data removed]",
      "text/plain": [
       "<Figure size 432x288 with 1 Axes>"
      ]
     },
     "metadata": {
      "needs_background": "light"
     },
     "output_type": "display_data"
    },
    {
     "name": "stdout",
     "output_type": "stream",
     "text": [
      "                mean           var           std\n",
      "       message_count message_count message_count\n",
      "tariff                                          \n",
      "smart      33.384029    796.812958     28.227876\n",
      "ultra      49.363452   2285.266143     47.804457\n"
     ]
    }
   ],
   "source": [
    "for column in ['calls_sum', 'gb', 'message_count']:  \n",
    "    plt.hist(df_revenue_smart[column],bins=50, label='smart')\n",
    "    plt.hist(df_revenue_ultra[column],bins=50, label='ultra')\n",
    "    plt.legend(loc='upper right')\n",
    "    plt.suptitle(column)\n",
    "    plt.show()\n",
    "    print(df_revenue.pivot_table(index = 'tariff',values=column,aggfunc = ['mean','var','std']))"
   ]
  },
  {
   "cell_type": "markdown",
   "id": "13430f8f",
   "metadata": {},
   "source": [
    "Звонки - есть небольшой пик на 0, когда были недозвоны.\n",
    "Данные распределены нормально, в датасете с Гб данные так же распределены нормально.\n",
    "У сообщений есть выброс на 0- когда сообщениями не пользовались, при этом датасет скошен вправо, незначительное количество сообщений больше 150."
   ]
  },
  {
   "cell_type": "code",
   "execution_count": 84,
   "id": "679ec080",
   "metadata": {},
   "outputs": [
    {
     "data": {
      "image/png": "[encoded data removed]",
      "text/plain": [
       "<Figure size 1080x360 with 1 Axes>"
      ]
     },
     "metadata": {
      "needs_background": "light"
     },
     "output_type": "display_data"
    }
   ],
   "source": [
    "df_revenue.pivot_table(index='month', columns = 'tariff', values=['total revenue'], aggfunc = ['mean']).plot(kind=\"bar\", figsize=(15, 5), grid=True)\n",
    "None"
   ]
  },
  {
   "cell_type": "markdown",
   "id": "a0fdfdb2",
   "metadata": {},
   "source": [
    "Тариф ультра ежемесячно в среднем приносит больше денег.\n"
   ]
  },
  {
   "cell_type": "markdown",
   "id": "3a346ddd",
   "metadata": {},
   "source": [
    "#### Вывод:\n",
    "\n",
    "Пользователи тарифа Смарт в среднем ежемесячно совершают 417 звонков, отправляют 33 сообщения и используют 16 Гб.\n",
    "Пользователи тарифа Ультра в среднем ежемесячно совершают 526 звонков, отправляют 49 сообщений и используют 19 Гб.\n",
    "У датасетов по звонкам и гб-нормальное распределение. Датасет по сообщениям скошен вправо.\n",
    "\n",
    "Тариф smart является более популярным, чем тариф ультра.\n",
    "При этом в 52% данных по месяцам был превышен лимит по длительности звонков, в 40% был превышен лимит по сообщениям, в 64% превышен лимит по Гб.\n",
    "\n",
    "В тарифе ultra превышает лимит только только в Гб - 13 % ."
   ]
  },
  {
   "cell_type": "markdown",
   "id": "58103d82",
   "metadata": {},
   "source": [
    "# [Шаг 4. Проверка гипотез](#section_id7)"
   ]
  },
  {
   "cell_type": "markdown",
   "id": "d0aaa8a1",
   "metadata": {},
   "source": [
    "#### 4.1. Сформируем и проверим  гипотезу: \"Средняя выручка пользователей тарифов «Ультра» и «Смарт» различаются\"\n",
    "\n",
    "**Н0**:средняя выручка пользователей тарифов «Ультра» и «Смарт» равны (нулевая гипотеза всегда должна быть равна чему-то конкретному).\n",
    "\n",
    "**H1**: средняя выручка пользователей тарифов «Ультра» и «Смарт» различаются."
   ]
  },
  {
   "cell_type": "code",
   "execution_count": 85,
   "id": "b7cb436a",
   "metadata": {},
   "outputs": [
    {
     "data": {
      "text/plain": [
       "2070.1522842639592"
      ]
     },
     "execution_count": 85,
     "metadata": {},
     "output_type": "execute_result"
    }
   ],
   "source": [
    "df_revenue_ultra['total revenue'].mean()"
   ]
  },
  {
   "cell_type": "code",
   "execution_count": 86,
   "id": "78a6bc65",
   "metadata": {},
   "outputs": [
    {
     "data": {
      "text/plain": [
       "1289.9735307312696"
      ]
     },
     "execution_count": 86,
     "metadata": {},
     "output_type": "execute_result"
    }
   ],
   "source": [
    "df_revenue_smart['total revenue'].mean()"
   ]
  },
  {
   "cell_type": "code",
   "execution_count": 87,
   "id": "1011908a",
   "metadata": {},
   "outputs": [
    {
     "name": "stdout",
     "output_type": "stream",
     "text": [
      "p-значение: 4.2606313931076085e-250\n",
      "Отвергаем нулевую гипотезу\n"
     ]
    }
   ],
   "source": [
    "revenue_ultra = df_revenue_ultra['total revenue']\n",
    "revenue_smart = df_revenue_smart['total revenue']\n",
    "alpha = .05\n",
    "results = st.ttest_ind(revenue_ultra, revenue_smart, equal_var = False)\n",
    "print('p-значение:', results.pvalue) \n",
    "\n",
    "if results.pvalue < alpha: \n",
    "    print(\"Отвергаем нулевую гипотезу\")\n",
    "else:\n",
    "    print(\"Не получилось отвергнуть нулевую гипотезу\")"
   ]
  },
  {
   "cell_type": "markdown",
   "id": "f96dbc8b",
   "metadata": {},
   "source": [
    "По результатам мы видим, что можем отвергнуть нулевую гипотезу. Средняя выручка пользователей тарифов «Ультра» и «Смарт» различаются. Тогда интересно ответить на вопрос- какой тариф приносит больше денег:"
   ]
  },
  {
   "cell_type": "code",
   "execution_count": 88,
   "id": "28ae63d1",
   "metadata": {},
   "outputs": [
    {
     "data": {
      "text/html": [
       "<div>\n",
       "<style scoped>\n",
       "    .dataframe tbody tr th:only-of-type {\n",
       "        vertical-align: middle;\n",
       "    }\n",
       "\n",
       "    .dataframe tbody tr th {\n",
       "        vertical-align: top;\n",
       "    }\n",
       "\n",
       "    .dataframe thead tr th {\n",
       "        text-align: left;\n",
       "    }\n",
       "\n",
       "    .dataframe thead tr:last-of-type th {\n",
       "        text-align: right;\n",
       "    }\n",
       "</style>\n",
       "<table border=\"1\" class=\"dataframe\">\n",
       "  <thead>\n",
       "    <tr>\n",
       "      <th></th>\n",
       "      <th colspan=\"2\" halign=\"left\">total revenue</th>\n",
       "    </tr>\n",
       "    <tr>\n",
       "      <th>tariff</th>\n",
       "      <th>smart</th>\n",
       "      <th>ultra</th>\n",
       "    </tr>\n",
       "    <tr>\n",
       "      <th>month</th>\n",
       "      <th></th>\n",
       "      <th></th>\n",
       "    </tr>\n",
       "  </thead>\n",
       "  <tbody>\n",
       "    <tr>\n",
       "      <th>1.0</th>\n",
       "      <td>721.323529</td>\n",
       "      <td>1950.000000</td>\n",
       "    </tr>\n",
       "    <tr>\n",
       "      <th>2.0</th>\n",
       "      <td>827.603448</td>\n",
       "      <td>1975.000000</td>\n",
       "    </tr>\n",
       "    <tr>\n",
       "      <th>3.0</th>\n",
       "      <td>1164.623377</td>\n",
       "      <td>2014.864865</td>\n",
       "    </tr>\n",
       "    <tr>\n",
       "      <th>4.0</th>\n",
       "      <td>963.089286</td>\n",
       "      <td>2001.818182</td>\n",
       "    </tr>\n",
       "    <tr>\n",
       "      <th>5.0</th>\n",
       "      <td>1197.510638</td>\n",
       "      <td>2059.701493</td>\n",
       "    </tr>\n",
       "    <tr>\n",
       "      <th>6.0</th>\n",
       "      <td>1204.018293</td>\n",
       "      <td>2039.285714</td>\n",
       "    </tr>\n",
       "    <tr>\n",
       "      <th>7.0</th>\n",
       "      <td>1223.950249</td>\n",
       "      <td>2118.131868</td>\n",
       "    </tr>\n",
       "    <tr>\n",
       "      <th>8.0</th>\n",
       "      <td>1320.595745</td>\n",
       "      <td>2083.177570</td>\n",
       "    </tr>\n",
       "    <tr>\n",
       "      <th>9.0</th>\n",
       "      <td>1249.946154</td>\n",
       "      <td>2024.347826</td>\n",
       "    </tr>\n",
       "    <tr>\n",
       "      <th>10.0</th>\n",
       "      <td>1364.853741</td>\n",
       "      <td>2065.853659</td>\n",
       "    </tr>\n",
       "    <tr>\n",
       "      <th>11.0</th>\n",
       "      <td>1343.047468</td>\n",
       "      <td>2092.164179</td>\n",
       "    </tr>\n",
       "    <tr>\n",
       "      <th>12.0</th>\n",
       "      <td>1578.531157</td>\n",
       "      <td>2138.848921</td>\n",
       "    </tr>\n",
       "  </tbody>\n",
       "</table>\n",
       "</div>"
      ],
      "text/plain": [
       "       total revenue             \n",
       "tariff         smart        ultra\n",
       "month                            \n",
       "1.0       721.323529  1950.000000\n",
       "2.0       827.603448  1975.000000\n",
       "3.0      1164.623377  2014.864865\n",
       "4.0       963.089286  2001.818182\n",
       "5.0      1197.510638  2059.701493\n",
       "6.0      1204.018293  2039.285714\n",
       "7.0      1223.950249  2118.131868\n",
       "8.0      1320.595745  2083.177570\n",
       "9.0      1249.946154  2024.347826\n",
       "10.0     1364.853741  2065.853659\n",
       "11.0     1343.047468  2092.164179\n",
       "12.0     1578.531157  2138.848921"
      ]
     },
     "execution_count": 88,
     "metadata": {},
     "output_type": "execute_result"
    }
   ],
   "source": [
    "df_revenue.pivot_table(index='month', columns = 'tariff', values=['total revenue'], aggfunc = 'mean')"
   ]
  },
  {
   "cell_type": "code",
   "execution_count": 89,
   "id": "3ce51c85",
   "metadata": {},
   "outputs": [
    {
     "data": {
      "image/png": "[encoded data removed]",
      "text/plain": [
       "<Figure size 1080x360 with 1 Axes>"
      ]
     },
     "metadata": {
      "needs_background": "light"
     },
     "output_type": "display_data"
    }
   ],
   "source": [
    "df_revenue.pivot_table(index='month', columns = 'tariff', values=['total revenue'], aggfunc = 'mean').plot(kind=\"bar\", figsize=(15, 5), grid=True)\n",
    "None"
   ]
  },
  {
   "cell_type": "code",
   "execution_count": 90,
   "id": "1dcef4c8",
   "metadata": {},
   "outputs": [
    {
     "data": {
      "text/html": [
       "<div>\n",
       "<style scoped>\n",
       "    .dataframe tbody tr th:only-of-type {\n",
       "        vertical-align: middle;\n",
       "    }\n",
       "\n",
       "    .dataframe tbody tr th {\n",
       "        vertical-align: top;\n",
       "    }\n",
       "\n",
       "    .dataframe thead th {\n",
       "        text-align: right;\n",
       "    }\n",
       "</style>\n",
       "<table border=\"1\" class=\"dataframe\">\n",
       "  <thead>\n",
       "    <tr style=\"text-align: right;\">\n",
       "      <th></th>\n",
       "      <th>total revenue</th>\n",
       "    </tr>\n",
       "    <tr>\n",
       "      <th>tariff</th>\n",
       "      <th></th>\n",
       "    </tr>\n",
       "  </thead>\n",
       "  <tbody>\n",
       "    <tr>\n",
       "      <th>smart</th>\n",
       "      <td>1289.973531</td>\n",
       "    </tr>\n",
       "    <tr>\n",
       "      <th>ultra</th>\n",
       "      <td>2070.152284</td>\n",
       "    </tr>\n",
       "  </tbody>\n",
       "</table>\n",
       "</div>"
      ],
      "text/plain": [
       "        total revenue\n",
       "tariff               \n",
       "smart     1289.973531\n",
       "ultra     2070.152284"
      ]
     },
     "execution_count": 90,
     "metadata": {},
     "output_type": "execute_result"
    }
   ],
   "source": [
    "df_revenue.pivot_table(index='tariff', values='total revenue', aggfunc = 'mean')"
   ]
  },
  {
   "cell_type": "markdown",
   "id": "bfa53452",
   "metadata": {},
   "source": [
    "Мы видим, что тариф Ультра ежемесячно стабильно приносит больше денег, чем смарт, несомтря на то, что у Смарта пользователи выходят за границы тарифы и платят дополнительно."
   ]
  },
  {
   "cell_type": "markdown",
   "id": "63ebc0d4",
   "metadata": {},
   "source": [
    "**4.2. Сформируем и проверим гипотезу: \"Средняя выручка пользователей из Москвы отличается от выручки пользователей из других регионов.**\n",
    "\n",
    "**Н0**:средняя выручка пользователей Москвы и других регионов равны (нулевая гипотеза всегда должна быть равна чему-то конкретному).\n",
    "\n",
    "**H1**: средняя выручка пользователей пользователей Москвы и других регионов различается."
   ]
  },
  {
   "cell_type": "code",
   "execution_count": 91,
   "id": "c1ea9af4",
   "metadata": {},
   "outputs": [
    {
     "data": {
      "text/plain": [
       "611"
      ]
     },
     "execution_count": 91,
     "metadata": {},
     "output_type": "execute_result"
    }
   ],
   "source": [
    "# сделаем выборки Мск и других регионов и посмотрим их размер\n",
    "revenue_msk = df_revenue.query('city==\"Москва\"')\n",
    "revenue_msk = revenue_msk['total revenue']\n",
    "len(revenue_msk)"
   ]
  },
  {
   "cell_type": "code",
   "execution_count": 92,
   "id": "e9324c7a",
   "metadata": {},
   "outputs": [
    {
     "data": {
      "text/plain": [
       "2603"
      ]
     },
     "execution_count": 92,
     "metadata": {},
     "output_type": "execute_result"
    }
   ],
   "source": [
    "revenue_outher  = df_revenue.query('city!=\"Москва\"')\n",
    "revenue_outher = revenue_outher['total revenue']\n",
    "len(revenue_outher)"
   ]
  },
  {
   "cell_type": "code",
   "execution_count": 93,
   "id": "03e3b913",
   "metadata": {},
   "outputs": [
    {
     "name": "stdout",
     "output_type": "stream",
     "text": [
      "p-значение: 0.5257376663729298\n",
      "Не получилось отвергнуть нулевую гипотезу\n"
     ]
    }
   ],
   "source": [
    "alpha = .05\n",
    "results = st.ttest_ind(revenue_msk, revenue_outher, equal_var = False)\n",
    "print('p-значение:', results.pvalue) \n",
    "\n",
    "if results.pvalue < alpha: \n",
    "    print(\"Отвергаем нулевую гипотезу\")\n",
    "else:\n",
    "    print(\"Не получилось отвергнуть нулевую гипотезу\")"
   ]
  },
  {
   "cell_type": "markdown",
   "id": "9e3d1260",
   "metadata": {},
   "source": [
    "Значение p-value показывает: вероятность случайно получить такое или большее различие равно 52%-это очень много. Мы не можем сделать вывод о различии. Мы использовали дополнительный параметр equal_var = False, потому что у нас не одинаковые по размеру выборки. Мы не можем утверждать, что выручка в Мск и других регионах действительно разные."
   ]
  },
  {
   "cell_type": "markdown",
   "id": "08a3f2fe",
   "metadata": {},
   "source": [
    "<div class=\"alert alert-success\">\n",
    "<font size=\"4\", color= \"seagreen\"><b>✔️ Комментарий ревьюера</b></font>\n",
    "    <br /> \n",
    "    <font size=\"3\", color = \"black\">\n",
    "<br /> классическая формулировка расшифровки р-значения, молодец"
   ]
  },
  {
   "cell_type": "code",
   "execution_count": 94,
   "id": "fd2eb6e7",
   "metadata": {},
   "outputs": [
    {
     "data": {
      "text/plain": [
       "1546.7135842880523"
      ]
     },
     "execution_count": 94,
     "metadata": {},
     "output_type": "execute_result"
    }
   ],
   "source": [
    "revenue_msk.mean()"
   ]
  },
  {
   "cell_type": "code",
   "execution_count": 95,
   "id": "6b7e97a5",
   "metadata": {},
   "outputs": [
    {
     "data": {
      "text/plain": [
       "1524.9362274298885"
      ]
     },
     "execution_count": 95,
     "metadata": {},
     "output_type": "execute_result"
    }
   ],
   "source": [
    "revenue_outher.mean()"
   ]
  },
  {
   "cell_type": "code",
   "execution_count": 96,
   "id": "0952c028",
   "metadata": {},
   "outputs": [],
   "source": [
    "df_revenue['region'] = np.where(df_revenue['city'] == 'Москва', 'Москва', 'Другие регионы')"
   ]
  },
  {
   "cell_type": "code",
   "execution_count": 97,
   "id": "fc42e27a",
   "metadata": {},
   "outputs": [
    {
     "data": {
      "image/png": "[encoded data removed]",
      "text/plain": [
       "<Figure size 1080x360 with 1 Axes>"
      ]
     },
     "metadata": {
      "needs_background": "light"
     },
     "output_type": "display_data"
    }
   ],
   "source": [
    "df_revenue.pivot_table(index='month', columns = 'region', values=['total revenue'], aggfunc = 'mean').plot(kind=\"bar\", figsize=(15, 5), grid=True)\n",
    "None"
   ]
  },
  {
   "cell_type": "markdown",
   "id": "016abc27",
   "metadata": {},
   "source": [
    "# [Шаг 5. Вывод](#section_id8)\n"
   ]
  },
  {
   "cell_type": "markdown",
   "id": "6d8685ed",
   "metadata": {},
   "source": [
    "Пользователи тарифа Смарт в среднем ежемесячно совершают 417 звонков, отправляют 33 сообщения и используют 16 Гб.\n",
    "\n",
    "Пользователи тарифа Ультра в среднем ежемесячно совершают 526 звонков, отправляют 49 сообщений и используют 19 Гб.\n",
    "У датасетов по звонкам и гб-нормальное распределение. Датасет по сообщениям скошен вправо.\n",
    "\n",
    "Тариф smart является более популярным, чем тариф ультра.\n",
    "При этом в 52% данных по месяцам был превышен лимит по длительности звонков, в 40% был превышен лимит по сообщениям, в 64% превышен лимит по Гб.\n",
    "\n",
    "В тарифе ultra превышает лимит только только в Гб - 13 % .\n",
    "\n",
    "**Результаты проверки гипотез**\n",
    "\n",
    "Средняя выручка пользователей тарифов «Ультра» и «Смарт» различаются. Пользователи тарифа \"Ультра\" ежемесячно стабильно приносят больше денег, чем пользователи тарифа \"Cмарт\", несмотря на то, что у Смарта пользователи выходят за границы тарифы и платят дополнительно. \n",
    "\n",
    "Мы не можем сделать вывод о том, что средняя выручка пользователей из Москвы отличается от выручки пользователей из других регионов.\n",
    "\n",
    "Тариф Ультра точно более выгоден для компании - учитывая, что половина его пользователей все равно остается в пределах тех же значений по использованию минут, сообщений и Гб, что и пользователи тарифа Смарт, при этом средняя выручка от пользователей стабильно выше.\n",
    "\n",
    "\n"
   ]
  }
 ],
 "metadata": {
  "ExecuteTimeLog": [
   {
    "duration": 12,
    "start_time": "2022-06-10T19:48:12.284Z"
   },
   {
    "duration": 4,
    "start_time": "2022-06-10T19:52:21.353Z"
   },
   {
    "duration": 56,
    "start_time": "2022-06-10T19:54:34.036Z"
   },
   {
    "duration": 1259,
    "start_time": "2022-06-10T19:54:40.288Z"
   },
   {
    "duration": 351,
    "start_time": "2022-06-10T19:54:41.549Z"
   },
   {
    "duration": 25,
    "start_time": "2022-06-10T19:54:41.901Z"
   },
   {
    "duration": 25,
    "start_time": "2022-06-10T19:54:41.928Z"
   },
   {
    "duration": 21,
    "start_time": "2022-06-10T19:54:41.955Z"
   },
   {
    "duration": 462,
    "start_time": "2022-06-10T19:54:41.979Z"
   },
   {
    "duration": 26,
    "start_time": "2022-06-10T19:54:42.442Z"
   },
   {
    "duration": 54,
    "start_time": "2022-06-10T19:54:42.471Z"
   },
   {
    "duration": 101,
    "start_time": "2022-06-10T19:54:42.527Z"
   },
   {
    "duration": 10,
    "start_time": "2022-06-10T19:54:42.629Z"
   },
   {
    "duration": 16,
    "start_time": "2022-06-10T19:54:42.641Z"
   },
   {
    "duration": 422,
    "start_time": "2022-06-10T19:54:42.675Z"
   },
   {
    "duration": 20,
    "start_time": "2022-06-10T19:54:43.098Z"
   },
   {
    "duration": 16,
    "start_time": "2022-06-10T19:54:43.121Z"
   },
   {
    "duration": 89,
    "start_time": "2022-06-10T19:54:43.139Z"
   },
   {
    "duration": 10,
    "start_time": "2022-06-10T19:54:43.229Z"
   },
   {
    "duration": 10,
    "start_time": "2022-06-10T19:54:43.240Z"
   },
   {
    "duration": 12,
    "start_time": "2022-06-10T19:54:43.253Z"
   },
   {
    "duration": 43,
    "start_time": "2022-06-10T19:54:43.266Z"
   },
   {
    "duration": 43,
    "start_time": "2022-06-10T19:54:43.311Z"
   },
   {
    "duration": 42,
    "start_time": "2022-06-10T19:54:43.356Z"
   },
   {
    "duration": 31,
    "start_time": "2022-06-10T19:54:43.400Z"
   },
   {
    "duration": 16,
    "start_time": "2022-06-10T19:54:43.432Z"
   },
   {
    "duration": 119,
    "start_time": "2022-06-10T19:54:43.460Z"
   },
   {
    "duration": 52,
    "start_time": "2022-06-10T19:54:43.582Z"
   },
   {
    "duration": 7,
    "start_time": "2022-06-10T19:54:43.635Z"
   },
   {
    "duration": 63,
    "start_time": "2022-06-10T19:54:43.659Z"
   },
   {
    "duration": 7,
    "start_time": "2022-06-10T19:54:43.723Z"
   },
   {
    "duration": 5,
    "start_time": "2022-06-10T19:54:43.731Z"
   },
   {
    "duration": 59,
    "start_time": "2022-06-10T19:54:43.738Z"
   },
   {
    "duration": 25,
    "start_time": "2022-06-10T19:54:43.800Z"
   },
   {
    "duration": 20,
    "start_time": "2022-06-10T19:54:43.827Z"
   },
   {
    "duration": 22,
    "start_time": "2022-06-10T19:54:43.849Z"
   },
   {
    "duration": 34,
    "start_time": "2022-06-10T19:54:43.875Z"
   },
   {
    "duration": 35,
    "start_time": "2022-06-10T19:54:43.911Z"
   },
   {
    "duration": 26,
    "start_time": "2022-06-10T19:54:43.948Z"
   },
   {
    "duration": 47,
    "start_time": "2022-06-10T19:54:43.976Z"
   },
   {
    "duration": 16,
    "start_time": "2022-06-10T19:54:44.025Z"
   },
   {
    "duration": 7,
    "start_time": "2022-06-10T19:54:44.043Z"
   },
   {
    "duration": 13,
    "start_time": "2022-06-10T19:54:44.052Z"
   },
   {
    "duration": 36,
    "start_time": "2022-06-10T19:54:44.071Z"
   },
   {
    "duration": 4,
    "start_time": "2022-06-10T19:54:44.109Z"
   },
   {
    "duration": 20,
    "start_time": "2022-06-10T19:54:44.114Z"
   },
   {
    "duration": 7,
    "start_time": "2022-06-10T19:54:44.135Z"
   },
   {
    "duration": 21,
    "start_time": "2022-06-10T19:54:44.144Z"
   },
   {
    "duration": 11,
    "start_time": "2022-06-10T19:54:44.168Z"
   },
   {
    "duration": 29,
    "start_time": "2022-06-10T19:54:44.182Z"
   },
   {
    "duration": 12,
    "start_time": "2022-06-10T19:54:44.213Z"
   },
   {
    "duration": 18,
    "start_time": "2022-06-10T19:54:44.227Z"
   },
   {
    "duration": 117,
    "start_time": "2022-06-10T19:54:44.247Z"
   },
   {
    "duration": 9,
    "start_time": "2022-06-10T19:54:44.366Z"
   },
   {
    "duration": 34,
    "start_time": "2022-06-10T19:54:44.376Z"
   },
   {
    "duration": 19,
    "start_time": "2022-06-10T19:54:44.412Z"
   },
   {
    "duration": 194,
    "start_time": "2022-06-10T19:54:44.433Z"
   },
   {
    "duration": 8,
    "start_time": "2022-06-10T19:54:44.629Z"
   },
   {
    "duration": 30,
    "start_time": "2022-06-10T19:54:44.638Z"
   },
   {
    "duration": 39,
    "start_time": "2022-06-10T19:54:44.671Z"
   },
   {
    "duration": 10,
    "start_time": "2022-06-10T19:54:44.712Z"
   },
   {
    "duration": 16,
    "start_time": "2022-06-10T19:54:44.723Z"
   },
   {
    "duration": 154,
    "start_time": "2022-06-10T19:54:44.747Z"
   },
   {
    "duration": 15,
    "start_time": "2022-06-10T19:54:44.903Z"
   },
   {
    "duration": 7,
    "start_time": "2022-06-10T19:54:44.920Z"
   },
   {
    "duration": 7,
    "start_time": "2022-06-10T19:54:44.929Z"
   },
   {
    "duration": 40,
    "start_time": "2022-06-10T19:54:44.938Z"
   },
   {
    "duration": 912,
    "start_time": "2022-06-10T19:54:44.980Z"
   },
   {
    "duration": 4,
    "start_time": "2022-06-10T19:54:45.894Z"
   },
   {
    "duration": 8,
    "start_time": "2022-06-10T19:54:45.899Z"
   },
   {
    "duration": 7,
    "start_time": "2022-06-10T19:54:45.908Z"
   },
   {
    "duration": 25,
    "start_time": "2022-06-10T19:54:45.917Z"
   },
   {
    "duration": 354,
    "start_time": "2022-06-10T19:54:45.944Z"
   },
   {
    "duration": 13,
    "start_time": "2022-06-10T19:54:46.302Z"
   },
   {
    "duration": 8,
    "start_time": "2022-06-10T19:54:46.316Z"
   },
   {
    "duration": 9,
    "start_time": "2022-06-10T19:54:46.325Z"
   },
   {
    "duration": 7,
    "start_time": "2022-06-10T19:54:46.335Z"
   },
   {
    "duration": 24,
    "start_time": "2022-06-10T19:54:46.343Z"
   },
   {
    "duration": 37,
    "start_time": "2022-06-10T19:54:46.369Z"
   },
   {
    "duration": 7,
    "start_time": "2022-06-10T19:54:46.408Z"
   },
   {
    "duration": 258,
    "start_time": "2022-06-10T19:54:46.417Z"
   },
   {
    "duration": 23,
    "start_time": "2022-06-10T19:54:46.676Z"
   },
   {
    "duration": 15,
    "start_time": "2022-06-10T19:54:46.700Z"
   },
   {
    "duration": 5,
    "start_time": "2022-06-10T19:55:56.738Z"
   },
   {
    "duration": 11,
    "start_time": "2022-06-10T19:56:33.795Z"
   },
   {
    "duration": 4,
    "start_time": "2022-06-10T19:56:51.925Z"
   },
   {
    "duration": 18,
    "start_time": "2022-06-10T19:57:37.320Z"
   },
   {
    "duration": 1130,
    "start_time": "2022-06-10T20:01:44.437Z"
   },
   {
    "duration": 210,
    "start_time": "2022-06-10T20:01:45.569Z"
   },
   {
    "duration": 38,
    "start_time": "2022-06-10T20:01:45.783Z"
   },
   {
    "duration": 45,
    "start_time": "2022-06-10T20:01:45.823Z"
   },
   {
    "duration": 15,
    "start_time": "2022-06-10T20:01:45.870Z"
   },
   {
    "duration": 182,
    "start_time": "2022-06-10T20:01:45.886Z"
   },
   {
    "duration": 38,
    "start_time": "2022-06-10T20:01:46.070Z"
   },
   {
    "duration": 29,
    "start_time": "2022-06-10T20:01:46.110Z"
   },
   {
    "duration": 62,
    "start_time": "2022-06-10T20:01:46.141Z"
   },
   {
    "duration": 13,
    "start_time": "2022-06-10T20:01:46.204Z"
   },
   {
    "duration": 16,
    "start_time": "2022-06-10T20:01:46.219Z"
   },
   {
    "duration": 141,
    "start_time": "2022-06-10T20:01:46.237Z"
   },
   {
    "duration": 32,
    "start_time": "2022-06-10T20:01:46.380Z"
   },
   {
    "duration": 16,
    "start_time": "2022-06-10T20:01:46.415Z"
   },
   {
    "duration": 21,
    "start_time": "2022-06-10T20:01:46.433Z"
   },
   {
    "duration": 23,
    "start_time": "2022-06-10T20:01:46.456Z"
   },
   {
    "duration": 35,
    "start_time": "2022-06-10T20:01:46.481Z"
   },
   {
    "duration": 8,
    "start_time": "2022-06-10T20:01:46.517Z"
   },
   {
    "duration": 4,
    "start_time": "2022-06-10T20:01:46.526Z"
   },
   {
    "duration": 57,
    "start_time": "2022-06-10T20:01:46.531Z"
   },
   {
    "duration": 29,
    "start_time": "2022-06-10T20:01:46.591Z"
   },
   {
    "duration": 27,
    "start_time": "2022-06-10T20:01:46.622Z"
   },
   {
    "duration": 22,
    "start_time": "2022-06-10T20:01:46.651Z"
   },
   {
    "duration": 156,
    "start_time": "2022-06-10T20:01:46.674Z"
   },
   {
    "duration": 77,
    "start_time": "2022-06-10T20:01:46.832Z"
   },
   {
    "duration": 6,
    "start_time": "2022-06-10T20:01:46.911Z"
   },
   {
    "duration": 71,
    "start_time": "2022-06-10T20:01:46.919Z"
   },
   {
    "duration": 8,
    "start_time": "2022-06-10T20:01:46.997Z"
   },
   {
    "duration": 7,
    "start_time": "2022-06-10T20:01:47.007Z"
   },
   {
    "duration": 32,
    "start_time": "2022-06-10T20:01:47.016Z"
   },
   {
    "duration": 24,
    "start_time": "2022-06-10T20:01:47.049Z"
   },
   {
    "duration": 54,
    "start_time": "2022-06-10T20:01:47.075Z"
   },
   {
    "duration": 13,
    "start_time": "2022-06-10T20:01:47.133Z"
   },
   {
    "duration": 9,
    "start_time": "2022-06-10T20:01:47.148Z"
   },
   {
    "duration": 106,
    "start_time": "2022-06-10T20:01:47.165Z"
   },
   {
    "duration": 34,
    "start_time": "2022-06-10T20:01:47.272Z"
   },
   {
    "duration": 45,
    "start_time": "2022-06-10T20:01:47.309Z"
   },
   {
    "duration": 64,
    "start_time": "2022-06-10T20:01:47.356Z"
   },
   {
    "duration": 23,
    "start_time": "2022-06-10T20:01:47.423Z"
   },
   {
    "duration": 10,
    "start_time": "2022-06-10T20:01:47.448Z"
   },
   {
    "duration": 55,
    "start_time": "2022-06-10T20:01:47.464Z"
   },
   {
    "duration": 10,
    "start_time": "2022-06-10T20:01:47.521Z"
   },
   {
    "duration": 76,
    "start_time": "2022-06-10T20:01:47.533Z"
   },
   {
    "duration": 13,
    "start_time": "2022-06-10T20:01:47.611Z"
   },
   {
    "duration": 24,
    "start_time": "2022-06-10T20:01:47.626Z"
   },
   {
    "duration": 20,
    "start_time": "2022-06-10T20:01:47.652Z"
   },
   {
    "duration": 55,
    "start_time": "2022-06-10T20:01:47.674Z"
   },
   {
    "duration": 22,
    "start_time": "2022-06-10T20:01:47.731Z"
   },
   {
    "duration": 74,
    "start_time": "2022-06-10T20:01:47.755Z"
   },
   {
    "duration": 139,
    "start_time": "2022-06-10T20:01:47.831Z"
   },
   {
    "duration": 13,
    "start_time": "2022-06-10T20:01:47.974Z"
   },
   {
    "duration": 43,
    "start_time": "2022-06-10T20:01:47.996Z"
   },
   {
    "duration": 27,
    "start_time": "2022-06-10T20:01:48.041Z"
   },
   {
    "duration": 51,
    "start_time": "2022-06-10T20:01:48.070Z"
   },
   {
    "duration": 35,
    "start_time": "2022-06-10T20:01:48.123Z"
   },
   {
    "duration": 212,
    "start_time": "2022-06-10T20:01:48.163Z"
   },
   {
    "duration": 17,
    "start_time": "2022-06-10T20:01:48.382Z"
   },
   {
    "duration": 24,
    "start_time": "2022-06-10T20:01:48.403Z"
   },
   {
    "duration": 8,
    "start_time": "2022-06-10T20:01:48.429Z"
   },
   {
    "duration": 12,
    "start_time": "2022-06-10T20:01:48.439Z"
   },
   {
    "duration": 49,
    "start_time": "2022-06-10T20:01:48.453Z"
   },
   {
    "duration": 148,
    "start_time": "2022-06-10T20:01:48.504Z"
   },
   {
    "duration": 22,
    "start_time": "2022-06-10T20:01:48.662Z"
   },
   {
    "duration": 23,
    "start_time": "2022-06-10T20:01:48.688Z"
   },
   {
    "duration": 10,
    "start_time": "2022-06-10T20:01:48.713Z"
   },
   {
    "duration": 9,
    "start_time": "2022-06-10T20:01:48.725Z"
   },
   {
    "duration": 897,
    "start_time": "2022-06-10T20:01:48.736Z"
   },
   {
    "duration": 4,
    "start_time": "2022-06-10T20:01:49.635Z"
   },
   {
    "duration": 20,
    "start_time": "2022-06-10T20:01:49.641Z"
   },
   {
    "duration": 11,
    "start_time": "2022-06-10T20:01:49.666Z"
   },
   {
    "duration": 41,
    "start_time": "2022-06-10T20:01:49.679Z"
   },
   {
    "duration": 373,
    "start_time": "2022-06-10T20:01:49.722Z"
   },
   {
    "duration": 13,
    "start_time": "2022-06-10T20:01:50.097Z"
   },
   {
    "duration": 21,
    "start_time": "2022-06-10T20:01:50.112Z"
   },
   {
    "duration": 11,
    "start_time": "2022-06-10T20:01:50.134Z"
   },
   {
    "duration": 5,
    "start_time": "2022-06-10T20:01:50.147Z"
   },
   {
    "duration": 28,
    "start_time": "2022-06-10T20:01:50.158Z"
   },
   {
    "duration": 19,
    "start_time": "2022-06-10T20:01:50.187Z"
   },
   {
    "duration": 5,
    "start_time": "2022-06-10T20:01:50.208Z"
   },
   {
    "duration": 257,
    "start_time": "2022-06-10T20:01:50.215Z"
   },
   {
    "duration": 28,
    "start_time": "2022-06-10T20:01:50.473Z"
   },
   {
    "duration": 13,
    "start_time": "2022-06-10T20:01:50.503Z"
   },
   {
    "duration": 3,
    "start_time": "2022-06-10T20:01:50.518Z"
   },
   {
    "duration": 1072,
    "start_time": "2022-06-10T20:15:12.514Z"
   },
   {
    "duration": 202,
    "start_time": "2022-06-10T20:15:13.588Z"
   },
   {
    "duration": 27,
    "start_time": "2022-06-10T20:15:13.792Z"
   },
   {
    "duration": 25,
    "start_time": "2022-06-10T20:15:13.821Z"
   },
   {
    "duration": 32,
    "start_time": "2022-06-10T20:15:13.848Z"
   },
   {
    "duration": 143,
    "start_time": "2022-06-10T20:15:13.883Z"
   },
   {
    "duration": 20,
    "start_time": "2022-06-10T20:15:14.028Z"
   },
   {
    "duration": 46,
    "start_time": "2022-06-10T20:15:14.050Z"
   },
   {
    "duration": 35,
    "start_time": "2022-06-10T20:15:14.097Z"
   },
   {
    "duration": 10,
    "start_time": "2022-06-10T20:15:14.134Z"
   },
   {
    "duration": 24,
    "start_time": "2022-06-10T20:15:14.146Z"
   },
   {
    "duration": 118,
    "start_time": "2022-06-10T20:15:14.172Z"
   },
   {
    "duration": 17,
    "start_time": "2022-06-10T20:15:14.292Z"
   },
   {
    "duration": 14,
    "start_time": "2022-06-10T20:15:14.312Z"
   },
   {
    "duration": 20,
    "start_time": "2022-06-10T20:15:14.328Z"
   },
   {
    "duration": 27,
    "start_time": "2022-06-10T20:15:14.349Z"
   },
   {
    "duration": 19,
    "start_time": "2022-06-10T20:15:14.377Z"
   },
   {
    "duration": 6,
    "start_time": "2022-06-10T20:15:14.397Z"
   },
   {
    "duration": 4,
    "start_time": "2022-06-10T20:15:14.404Z"
   },
   {
    "duration": 41,
    "start_time": "2022-06-10T20:15:14.409Z"
   },
   {
    "duration": 36,
    "start_time": "2022-06-10T20:15:14.451Z"
   },
   {
    "duration": 29,
    "start_time": "2022-06-10T20:15:14.489Z"
   },
   {
    "duration": 15,
    "start_time": "2022-06-10T20:15:14.520Z"
   },
   {
    "duration": 114,
    "start_time": "2022-06-10T20:15:14.537Z"
   },
   {
    "duration": 59,
    "start_time": "2022-06-10T20:15:14.652Z"
   },
   {
    "duration": 7,
    "start_time": "2022-06-10T20:15:14.712Z"
   },
   {
    "duration": 85,
    "start_time": "2022-06-10T20:15:14.721Z"
   },
   {
    "duration": 5,
    "start_time": "2022-06-10T20:15:14.808Z"
   },
   {
    "duration": 7,
    "start_time": "2022-06-10T20:15:14.815Z"
   },
   {
    "duration": 31,
    "start_time": "2022-06-10T20:15:14.823Z"
   },
   {
    "duration": 26,
    "start_time": "2022-06-10T20:15:14.855Z"
   },
   {
    "duration": 34,
    "start_time": "2022-06-10T20:15:14.882Z"
   },
   {
    "duration": 9,
    "start_time": "2022-06-10T20:15:14.918Z"
   },
   {
    "duration": 11,
    "start_time": "2022-06-10T20:15:14.929Z"
   },
   {
    "duration": 53,
    "start_time": "2022-06-10T20:15:14.941Z"
   },
   {
    "duration": 19,
    "start_time": "2022-06-10T20:15:14.996Z"
   },
   {
    "duration": 58,
    "start_time": "2022-06-10T20:15:15.016Z"
   },
   {
    "duration": 19,
    "start_time": "2022-06-10T20:15:15.083Z"
   },
   {
    "duration": 14,
    "start_time": "2022-06-10T20:15:15.104Z"
   },
   {
    "duration": 28,
    "start_time": "2022-06-10T20:15:15.119Z"
   },
   {
    "duration": 20,
    "start_time": "2022-06-10T20:15:15.151Z"
   },
   {
    "duration": 14,
    "start_time": "2022-06-10T20:15:15.178Z"
   },
   {
    "duration": 26,
    "start_time": "2022-06-10T20:15:15.194Z"
   },
   {
    "duration": 8,
    "start_time": "2022-06-10T20:15:15.221Z"
   },
   {
    "duration": 17,
    "start_time": "2022-06-10T20:15:15.230Z"
   },
   {
    "duration": 10,
    "start_time": "2022-06-10T20:15:15.248Z"
   },
   {
    "duration": 32,
    "start_time": "2022-06-10T20:15:15.261Z"
   },
   {
    "duration": 15,
    "start_time": "2022-06-10T20:15:15.294Z"
   },
   {
    "duration": 20,
    "start_time": "2022-06-10T20:15:15.311Z"
   },
   {
    "duration": 98,
    "start_time": "2022-06-10T20:15:15.333Z"
   },
   {
    "duration": 7,
    "start_time": "2022-06-10T20:15:15.432Z"
   },
   {
    "duration": 9,
    "start_time": "2022-06-10T20:15:15.440Z"
   },
   {
    "duration": 21,
    "start_time": "2022-06-10T20:15:15.467Z"
   },
   {
    "duration": 10,
    "start_time": "2022-06-10T20:15:15.490Z"
   },
   {
    "duration": 19,
    "start_time": "2022-06-10T20:15:15.501Z"
   },
   {
    "duration": 163,
    "start_time": "2022-06-10T20:15:15.521Z"
   },
   {
    "duration": 9,
    "start_time": "2022-06-10T20:15:15.686Z"
   },
   {
    "duration": 22,
    "start_time": "2022-06-10T20:15:15.696Z"
   },
   {
    "duration": 7,
    "start_time": "2022-06-10T20:15:15.720Z"
   },
   {
    "duration": 8,
    "start_time": "2022-06-10T20:15:15.728Z"
   },
   {
    "duration": 42,
    "start_time": "2022-06-10T20:15:15.738Z"
   },
   {
    "duration": 136,
    "start_time": "2022-06-10T20:15:15.781Z"
   },
   {
    "duration": 16,
    "start_time": "2022-06-10T20:15:15.918Z"
   },
   {
    "duration": 8,
    "start_time": "2022-06-10T20:15:15.936Z"
   },
   {
    "duration": 19,
    "start_time": "2022-06-10T20:15:15.958Z"
   },
   {
    "duration": 21,
    "start_time": "2022-06-10T20:15:15.979Z"
   },
   {
    "duration": 802,
    "start_time": "2022-06-10T20:15:16.001Z"
   },
   {
    "duration": 4,
    "start_time": "2022-06-10T20:15:16.805Z"
   },
   {
    "duration": 14,
    "start_time": "2022-06-10T20:15:16.811Z"
   },
   {
    "duration": 8,
    "start_time": "2022-06-10T20:15:16.827Z"
   },
   {
    "duration": 28,
    "start_time": "2022-06-10T20:15:16.836Z"
   },
   {
    "duration": 339,
    "start_time": "2022-06-10T20:15:16.865Z"
   },
   {
    "duration": 14,
    "start_time": "2022-06-10T20:15:17.206Z"
   },
   {
    "duration": 20,
    "start_time": "2022-06-10T20:15:17.221Z"
   },
   {
    "duration": 23,
    "start_time": "2022-06-10T20:15:17.242Z"
   },
   {
    "duration": 11,
    "start_time": "2022-06-10T20:15:17.267Z"
   },
   {
    "duration": 23,
    "start_time": "2022-06-10T20:15:17.280Z"
   },
   {
    "duration": 8,
    "start_time": "2022-06-10T20:15:17.306Z"
   },
   {
    "duration": 30,
    "start_time": "2022-06-10T20:15:17.315Z"
   },
   {
    "duration": 296,
    "start_time": "2022-06-10T20:15:17.346Z"
   },
   {
    "duration": 36,
    "start_time": "2022-06-10T20:15:17.644Z"
   },
   {
    "duration": 23,
    "start_time": "2022-06-10T20:15:17.681Z"
   },
   {
    "duration": 6,
    "start_time": "2022-06-10T20:15:17.706Z"
   },
   {
    "duration": 1150,
    "start_time": "2022-06-14T18:29:22.354Z"
   },
   {
    "duration": 192,
    "start_time": "2022-06-14T18:29:23.506Z"
   },
   {
    "duration": 38,
    "start_time": "2022-06-14T18:29:23.700Z"
   },
   {
    "duration": 10,
    "start_time": "2022-06-14T18:29:23.745Z"
   },
   {
    "duration": 15,
    "start_time": "2022-06-14T18:29:23.757Z"
   },
   {
    "duration": 193,
    "start_time": "2022-06-14T18:29:23.773Z"
   },
   {
    "duration": 31,
    "start_time": "2022-06-14T18:29:23.969Z"
   },
   {
    "duration": 30,
    "start_time": "2022-06-14T18:29:24.002Z"
   },
   {
    "duration": 168,
    "start_time": "2022-06-14T18:29:24.034Z"
   },
   {
    "duration": 4,
    "start_time": "2022-06-14T18:29:24.205Z"
   },
   {
    "duration": 310,
    "start_time": "2022-06-14T18:29:24.211Z"
   },
   {
    "duration": 38,
    "start_time": "2022-06-14T18:29:24.526Z"
   },
   {
    "duration": 30,
    "start_time": "2022-06-14T18:29:24.567Z"
   },
   {
    "duration": 59,
    "start_time": "2022-06-14T18:29:24.600Z"
   },
   {
    "duration": 12,
    "start_time": "2022-06-14T18:29:24.661Z"
   },
   {
    "duration": 11,
    "start_time": "2022-06-14T18:29:24.675Z"
   },
   {
    "duration": 121,
    "start_time": "2022-06-14T18:29:24.687Z"
   },
   {
    "duration": 30,
    "start_time": "2022-06-14T18:29:24.809Z"
   },
   {
    "duration": 5,
    "start_time": "2022-06-14T18:29:24.841Z"
   },
   {
    "duration": 18,
    "start_time": "2022-06-14T18:29:24.848Z"
   },
   {
    "duration": 19,
    "start_time": "2022-06-14T18:29:24.867Z"
   },
   {
    "duration": 10,
    "start_time": "2022-06-14T18:29:24.888Z"
   },
   {
    "duration": 16,
    "start_time": "2022-06-14T18:29:24.899Z"
   },
   {
    "duration": 23,
    "start_time": "2022-06-14T18:29:24.917Z"
   },
   {
    "duration": 41,
    "start_time": "2022-06-14T18:29:24.942Z"
   },
   {
    "duration": 21,
    "start_time": "2022-06-14T18:29:24.985Z"
   },
   {
    "duration": 57,
    "start_time": "2022-06-14T18:29:25.007Z"
   },
   {
    "duration": 21,
    "start_time": "2022-06-14T18:29:25.068Z"
   },
   {
    "duration": 113,
    "start_time": "2022-06-14T18:29:25.091Z"
   },
   {
    "duration": 52,
    "start_time": "2022-06-14T18:29:25.206Z"
   },
   {
    "duration": 7,
    "start_time": "2022-06-14T18:29:25.260Z"
   },
   {
    "duration": 48,
    "start_time": "2022-06-14T18:29:25.268Z"
   },
   {
    "duration": 25,
    "start_time": "2022-06-14T18:29:25.317Z"
   },
   {
    "duration": 7,
    "start_time": "2022-06-14T18:29:25.344Z"
   },
   {
    "duration": 31,
    "start_time": "2022-06-14T18:29:25.353Z"
   },
   {
    "duration": 19,
    "start_time": "2022-06-14T18:29:25.385Z"
   },
   {
    "duration": 25,
    "start_time": "2022-06-14T18:29:25.433Z"
   },
   {
    "duration": 9,
    "start_time": "2022-06-14T18:29:25.460Z"
   },
   {
    "duration": 46,
    "start_time": "2022-06-14T18:29:25.470Z"
   },
   {
    "duration": 44,
    "start_time": "2022-06-14T18:29:25.519Z"
   },
   {
    "duration": 22,
    "start_time": "2022-06-14T18:29:25.565Z"
   },
   {
    "duration": 16,
    "start_time": "2022-06-14T18:29:25.588Z"
   },
   {
    "duration": 38,
    "start_time": "2022-06-14T18:29:25.606Z"
   },
   {
    "duration": 6,
    "start_time": "2022-06-14T18:29:25.646Z"
   },
   {
    "duration": 11,
    "start_time": "2022-06-14T18:29:25.654Z"
   },
   {
    "duration": 10,
    "start_time": "2022-06-14T18:29:25.667Z"
   },
   {
    "duration": 20,
    "start_time": "2022-06-14T18:29:25.679Z"
   },
   {
    "duration": 37,
    "start_time": "2022-06-14T18:29:25.701Z"
   },
   {
    "duration": 12,
    "start_time": "2022-06-14T18:29:25.740Z"
   },
   {
    "duration": 16,
    "start_time": "2022-06-14T18:29:25.753Z"
   },
   {
    "duration": 16,
    "start_time": "2022-06-14T18:29:25.770Z"
   },
   {
    "duration": 29,
    "start_time": "2022-06-14T18:29:25.788Z"
   },
   {
    "duration": 19,
    "start_time": "2022-06-14T18:29:25.819Z"
   },
   {
    "duration": 16,
    "start_time": "2022-06-14T18:29:25.840Z"
   },
   {
    "duration": 9,
    "start_time": "2022-06-14T18:29:25.857Z"
   },
   {
    "duration": 12,
    "start_time": "2022-06-14T18:29:25.868Z"
   },
   {
    "duration": 7,
    "start_time": "2022-06-14T18:29:25.881Z"
   },
   {
    "duration": 126,
    "start_time": "2022-06-14T18:29:25.889Z"
   },
   {
    "duration": 25,
    "start_time": "2022-06-14T18:29:26.016Z"
   },
   {
    "duration": 17,
    "start_time": "2022-06-14T18:29:26.043Z"
   },
   {
    "duration": 4,
    "start_time": "2022-06-14T18:29:26.062Z"
   },
   {
    "duration": 15,
    "start_time": "2022-06-14T18:29:26.068Z"
   },
   {
    "duration": 7,
    "start_time": "2022-06-14T18:29:26.085Z"
   },
   {
    "duration": 19,
    "start_time": "2022-06-14T18:29:26.093Z"
   },
   {
    "duration": 32,
    "start_time": "2022-06-14T18:29:26.113Z"
   },
   {
    "duration": 5,
    "start_time": "2022-06-14T18:29:26.147Z"
   },
   {
    "duration": 10,
    "start_time": "2022-06-14T18:29:26.153Z"
   },
   {
    "duration": 18,
    "start_time": "2022-06-14T18:29:26.165Z"
   },
   {
    "duration": 186,
    "start_time": "2022-06-14T18:29:26.185Z"
   },
   {
    "duration": 7,
    "start_time": "2022-06-14T18:29:26.373Z"
   },
   {
    "duration": 21,
    "start_time": "2022-06-14T18:29:26.382Z"
   },
   {
    "duration": 14,
    "start_time": "2022-06-14T18:29:26.405Z"
   },
   {
    "duration": 30,
    "start_time": "2022-06-14T18:29:26.421Z"
   },
   {
    "duration": 25,
    "start_time": "2022-06-14T18:29:26.453Z"
   },
   {
    "duration": 170,
    "start_time": "2022-06-14T18:29:26.480Z"
   },
   {
    "duration": 5,
    "start_time": "2022-06-14T18:29:26.652Z"
   },
   {
    "duration": 9,
    "start_time": "2022-06-14T18:29:26.658Z"
   },
   {
    "duration": 8,
    "start_time": "2022-06-14T18:29:26.669Z"
   },
   {
    "duration": 19,
    "start_time": "2022-06-14T18:29:26.678Z"
   },
   {
    "duration": 15,
    "start_time": "2022-06-14T18:29:26.699Z"
   },
   {
    "duration": 30,
    "start_time": "2022-06-14T18:29:26.715Z"
   },
   {
    "duration": 1287,
    "start_time": "2022-06-14T18:29:26.750Z"
   },
   {
    "duration": 515,
    "start_time": "2022-06-14T18:29:28.038Z"
   },
   {
    "duration": 5,
    "start_time": "2022-06-14T18:29:28.555Z"
   },
   {
    "duration": 9,
    "start_time": "2022-06-14T18:29:28.561Z"
   },
   {
    "duration": 11,
    "start_time": "2022-06-14T18:29:28.572Z"
   },
   {
    "duration": 22,
    "start_time": "2022-06-14T18:29:28.633Z"
   },
   {
    "duration": 584,
    "start_time": "2022-06-14T18:29:28.657Z"
   },
   {
    "duration": 22,
    "start_time": "2022-06-14T18:29:29.243Z"
   },
   {
    "duration": 75,
    "start_time": "2022-06-14T18:29:29.267Z"
   },
   {
    "duration": 13,
    "start_time": "2022-06-14T18:29:29.344Z"
   },
   {
    "duration": 9,
    "start_time": "2022-06-14T18:29:29.359Z"
   },
   {
    "duration": 68,
    "start_time": "2022-06-14T18:29:29.370Z"
   },
   {
    "duration": 5,
    "start_time": "2022-06-14T18:29:29.441Z"
   },
   {
    "duration": 9,
    "start_time": "2022-06-14T18:29:29.449Z"
   },
   {
    "duration": 593,
    "start_time": "2022-06-14T18:29:29.460Z"
   },
   {
    "duration": 5,
    "start_time": "2022-06-14T18:29:30.055Z"
   },
   {
    "duration": 303,
    "start_time": "2022-06-14T18:29:45.040Z"
   },
   {
    "duration": 273,
    "start_time": "2022-06-14T18:29:49.226Z"
   },
   {
    "duration": 109,
    "start_time": "2022-06-14T18:31:18.193Z"
   },
   {
    "duration": 31,
    "start_time": "2022-06-14T18:31:29.417Z"
   },
   {
    "duration": 51,
    "start_time": "2022-06-14T18:36:27.154Z"
   },
   {
    "duration": 438,
    "start_time": "2022-06-14T18:36:34.093Z"
   },
   {
    "duration": 3,
    "start_time": "2022-06-14T18:36:37.801Z"
   },
   {
    "duration": 1416,
    "start_time": "2022-06-14T18:37:12.777Z"
   },
   {
    "duration": 175,
    "start_time": "2022-06-14T18:37:19.664Z"
   },
   {
    "duration": 17,
    "start_time": "2022-06-14T18:37:35.112Z"
   },
   {
    "duration": 12,
    "start_time": "2022-06-14T18:37:40.441Z"
   },
   {
    "duration": 161,
    "start_time": "2022-06-14T18:37:59.881Z"
   },
   {
    "duration": 201,
    "start_time": "2022-06-14T18:38:01.544Z"
   },
   {
    "duration": 1211,
    "start_time": "2022-06-14T18:42:23.198Z"
   },
   {
    "duration": 223,
    "start_time": "2022-06-14T18:42:24.411Z"
   },
   {
    "duration": 34,
    "start_time": "2022-06-14T18:42:24.636Z"
   },
   {
    "duration": 7,
    "start_time": "2022-06-14T18:42:24.673Z"
   },
   {
    "duration": 12,
    "start_time": "2022-06-14T18:42:24.682Z"
   },
   {
    "duration": 212,
    "start_time": "2022-06-14T18:42:24.695Z"
   },
   {
    "duration": 40,
    "start_time": "2022-06-14T18:42:24.909Z"
   },
   {
    "duration": 14,
    "start_time": "2022-06-14T18:42:24.951Z"
   },
   {
    "duration": 176,
    "start_time": "2022-06-14T18:42:24.966Z"
   },
   {
    "duration": 5,
    "start_time": "2022-06-14T18:42:25.145Z"
   },
   {
    "duration": 287,
    "start_time": "2022-06-14T18:42:25.152Z"
   },
   {
    "duration": 31,
    "start_time": "2022-06-14T18:42:25.441Z"
   },
   {
    "duration": 26,
    "start_time": "2022-06-14T18:42:25.473Z"
   },
   {
    "duration": 52,
    "start_time": "2022-06-14T18:42:25.501Z"
   },
   {
    "duration": 12,
    "start_time": "2022-06-14T18:42:25.555Z"
   },
   {
    "duration": 19,
    "start_time": "2022-06-14T18:42:25.570Z"
   },
   {
    "duration": 105,
    "start_time": "2022-06-14T18:42:25.590Z"
   },
   {
    "duration": 19,
    "start_time": "2022-06-14T18:42:25.696Z"
   },
   {
    "duration": 5,
    "start_time": "2022-06-14T18:42:25.725Z"
   },
   {
    "duration": 19,
    "start_time": "2022-06-14T18:42:25.732Z"
   },
   {
    "duration": 36,
    "start_time": "2022-06-14T18:42:25.753Z"
   },
   {
    "duration": 12,
    "start_time": "2022-06-14T18:42:25.791Z"
   },
   {
    "duration": 29,
    "start_time": "2022-06-14T18:42:25.805Z"
   },
   {
    "duration": 17,
    "start_time": "2022-06-14T18:42:25.835Z"
   },
   {
    "duration": 14,
    "start_time": "2022-06-14T18:42:25.854Z"
   },
   {
    "duration": 42,
    "start_time": "2022-06-14T18:42:25.870Z"
   },
   {
    "duration": 33,
    "start_time": "2022-06-14T18:42:25.913Z"
   },
   {
    "duration": 28,
    "start_time": "2022-06-14T18:42:25.950Z"
   },
   {
    "duration": 50,
    "start_time": "2022-06-14T18:42:25.980Z"
   },
   {
    "duration": 126,
    "start_time": "2022-06-14T18:42:26.032Z"
   },
   {
    "duration": 49,
    "start_time": "2022-06-14T18:42:26.160Z"
   },
   {
    "duration": 20,
    "start_time": "2022-06-14T18:42:26.210Z"
   },
   {
    "duration": 51,
    "start_time": "2022-06-14T18:42:26.231Z"
   },
   {
    "duration": 6,
    "start_time": "2022-06-14T18:42:26.284Z"
   },
   {
    "duration": 4,
    "start_time": "2022-06-14T18:42:26.292Z"
   },
   {
    "duration": 35,
    "start_time": "2022-06-14T18:42:26.327Z"
   },
   {
    "duration": 25,
    "start_time": "2022-06-14T18:42:26.365Z"
   },
   {
    "duration": 45,
    "start_time": "2022-06-14T18:42:26.392Z"
   },
   {
    "duration": 8,
    "start_time": "2022-06-14T18:42:26.439Z"
   },
   {
    "duration": 48,
    "start_time": "2022-06-14T18:42:26.448Z"
   },
   {
    "duration": 30,
    "start_time": "2022-06-14T18:42:26.498Z"
   },
   {
    "duration": 26,
    "start_time": "2022-06-14T18:42:26.530Z"
   },
   {
    "duration": 16,
    "start_time": "2022-06-14T18:42:26.558Z"
   },
   {
    "duration": 20,
    "start_time": "2022-06-14T18:42:26.575Z"
   },
   {
    "duration": 9,
    "start_time": "2022-06-14T18:42:26.633Z"
   },
   {
    "duration": 19,
    "start_time": "2022-06-14T18:42:26.644Z"
   },
   {
    "duration": 12,
    "start_time": "2022-06-14T18:42:26.664Z"
   },
   {
    "duration": 16,
    "start_time": "2022-06-14T18:42:26.677Z"
   },
   {
    "duration": 17,
    "start_time": "2022-06-14T18:42:26.694Z"
   },
   {
    "duration": 21,
    "start_time": "2022-06-14T18:42:26.712Z"
   },
   {
    "duration": 8,
    "start_time": "2022-06-14T18:42:26.735Z"
   },
   {
    "duration": 15,
    "start_time": "2022-06-14T18:42:26.745Z"
   },
   {
    "duration": 21,
    "start_time": "2022-06-14T18:42:26.762Z"
   },
   {
    "duration": 7,
    "start_time": "2022-06-14T18:42:26.784Z"
   },
   {
    "duration": 39,
    "start_time": "2022-06-14T18:42:26.792Z"
   },
   {
    "duration": 9,
    "start_time": "2022-06-14T18:42:26.833Z"
   },
   {
    "duration": 11,
    "start_time": "2022-06-14T18:42:26.844Z"
   },
   {
    "duration": 7,
    "start_time": "2022-06-14T18:42:26.857Z"
   },
   {
    "duration": 127,
    "start_time": "2022-06-14T18:42:26.865Z"
   },
   {
    "duration": 15,
    "start_time": "2022-06-14T18:42:26.994Z"
   },
   {
    "duration": 8,
    "start_time": "2022-06-14T18:42:27.026Z"
   },
   {
    "duration": 11,
    "start_time": "2022-06-14T18:42:27.035Z"
   },
   {
    "duration": 19,
    "start_time": "2022-06-14T18:42:27.048Z"
   },
   {
    "duration": 17,
    "start_time": "2022-06-14T18:42:27.069Z"
   },
   {
    "duration": 8,
    "start_time": "2022-06-14T18:42:27.088Z"
   },
   {
    "duration": 42,
    "start_time": "2022-06-14T18:42:27.098Z"
   },
   {
    "duration": 4,
    "start_time": "2022-06-14T18:42:27.141Z"
   },
   {
    "duration": 11,
    "start_time": "2022-06-14T18:42:27.147Z"
   },
   {
    "duration": 9,
    "start_time": "2022-06-14T18:42:27.160Z"
   },
   {
    "duration": 168,
    "start_time": "2022-06-14T18:42:27.171Z"
   },
   {
    "duration": 8,
    "start_time": "2022-06-14T18:42:27.341Z"
   },
   {
    "duration": 11,
    "start_time": "2022-06-14T18:42:27.350Z"
   },
   {
    "duration": 12,
    "start_time": "2022-06-14T18:42:27.362Z"
   },
   {
    "duration": 13,
    "start_time": "2022-06-14T18:42:27.376Z"
   },
   {
    "duration": 50,
    "start_time": "2022-06-14T18:42:27.391Z"
   },
   {
    "duration": 188,
    "start_time": "2022-06-14T18:42:27.442Z"
   },
   {
    "duration": 5,
    "start_time": "2022-06-14T18:42:27.631Z"
   },
   {
    "duration": 12,
    "start_time": "2022-06-14T18:42:27.638Z"
   },
   {
    "duration": 7,
    "start_time": "2022-06-14T18:42:27.651Z"
   },
   {
    "duration": 10,
    "start_time": "2022-06-14T18:42:27.660Z"
   },
   {
    "duration": 8,
    "start_time": "2022-06-14T18:42:27.671Z"
   },
   {
    "duration": 7,
    "start_time": "2022-06-14T18:42:27.685Z"
   },
   {
    "duration": 960,
    "start_time": "2022-06-14T18:42:27.694Z"
   },
   {
    "duration": 290,
    "start_time": "2022-06-14T18:42:28.656Z"
   },
   {
    "duration": 5,
    "start_time": "2022-06-14T18:42:28.947Z"
   },
   {
    "duration": 18,
    "start_time": "2022-06-14T18:42:28.953Z"
   },
   {
    "duration": 33,
    "start_time": "2022-06-14T18:42:28.972Z"
   },
   {
    "duration": 22,
    "start_time": "2022-06-14T18:42:29.007Z"
   },
   {
    "duration": 256,
    "start_time": "2022-06-14T18:42:29.031Z"
   },
   {
    "duration": 15,
    "start_time": "2022-06-14T18:42:29.290Z"
   },
   {
    "duration": 38,
    "start_time": "2022-06-14T18:42:29.308Z"
   },
   {
    "duration": 42,
    "start_time": "2022-06-14T18:42:29.347Z"
   },
   {
    "duration": 21,
    "start_time": "2022-06-14T18:42:29.390Z"
   },
   {
    "duration": 15,
    "start_time": "2022-06-14T18:42:29.413Z"
   },
   {
    "duration": 14,
    "start_time": "2022-06-14T18:42:29.430Z"
   },
   {
    "duration": 23,
    "start_time": "2022-06-14T18:42:29.446Z"
   },
   {
    "duration": 270,
    "start_time": "2022-06-14T18:42:29.471Z"
   },
   {
    "duration": 60,
    "start_time": "2022-06-14T18:42:29.744Z"
   },
   {
    "duration": 20,
    "start_time": "2022-06-14T18:42:29.806Z"
   },
   {
    "duration": 1382,
    "start_time": "2022-06-14T18:42:29.828Z"
   },
   {
    "duration": 202,
    "start_time": "2022-06-14T18:42:31.212Z"
   },
   {
    "duration": 338,
    "start_time": "2022-06-14T18:42:31.416Z"
   },
   {
    "duration": 225,
    "start_time": "2022-06-14T18:42:31.757Z"
   },
   {
    "duration": 65,
    "start_time": "2022-06-14T18:42:31.984Z"
   }
  ],
  "kernelspec": {
   "display_name": "Python 3 (ipykernel)",
   "language": "python",
   "name": "python3"
  },
  "language_info": {
   "codemirror_mode": {
    "name": "ipython",
    "version": 3
   },
   "file_extension": ".py",
   "mimetype": "text/x-python",
   "name": "python",
   "nbconvert_exporter": "python",
   "pygments_lexer": "ipython3",
   "version": "3.9.7"
  },
  "toc": {
   "base_numbering": 1,
   "nav_menu": {},
   "number_sections": true,
   "sideBar": true,
   "skip_h1_title": true,
   "title_cell": "Table of Contents",
   "title_sidebar": "Contents",
   "toc_cell": false,
   "toc_position": {
    "height": "478.4px",
    "left": "474px",
    "top": "143.125px",
    "width": "306.4px"
   },
   "toc_section_display": true,
   "toc_window_display": true
  }
 },
 "nbformat": 4,
 "nbformat_minor": 5
}
