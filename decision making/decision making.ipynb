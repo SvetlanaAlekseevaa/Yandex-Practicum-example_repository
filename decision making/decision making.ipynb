{
 "cells": [
  {
   "cell_type": "markdown",
   "id": "db4b730a",
   "metadata": {},
   "source": [
    "## Проект: принятие решений в бизнесе"
   ]
  },
  {
   "cell_type": "markdown",
   "id": "db4d290a",
   "metadata": {},
   "source": [
    "#### Цель: приоритизировать гипотезы, запустить A/B-тест и проанализировать результаты"
   ]
  },
  {
   "cell_type": "markdown",
   "id": "30a529be",
   "metadata": {},
   "source": [
    "#### Описание данных:\n",
    "\n",
    "Файл /datasets/hypothesis.csv\n",
    "* Hypothesis — краткое описание гипотезы;\n",
    "* Reach — охват пользователей по 10-балльной шкале;\n",
    "* Impact — влияние на пользователей по 10-балльной шкале;\n",
    "* Confidence — уверенность в гипотезе по 10-балльной шкале;\n",
    "* Efforts — затраты ресурсов на проверку гипотезы по 10-балльной шкале\n",
    "\n",
    "Файл /datasets/orders.csv\n",
    "* transactionId — идентификатор заказа;\n",
    "* visitorId — идентификатор пользователя, совершившего заказ;\n",
    "* date — дата, когда был совершён заказ;\n",
    "* revenue — выручка заказа;\n",
    "* group — группа A/B-теста, в которую попал заказ\n",
    "\n",
    "Файл /datasets/visitors.csv\n",
    "* date — дата;\n",
    "* group — группа A/B-теста;\n",
    "* visitors — количество пользователей в указанную дату в указанной группе A/B-теста"
   ]
  },
  {
   "cell_type": "markdown",
   "id": "83f446af",
   "metadata": {},
   "source": [
    "#### Ход проекта:\n",
    "\n",
    "1. Предобработка данных\n",
    "2. Приоритезация гипотез\n",
    "3. Анализ А/Б теста:\n",
    "* График кумулятивной выручки по группам\n",
    "* График кумулятивного среднего чека по группам\n",
    "* График относительного изменения кумулятивного среднего чека группы B к группе A\n",
    "* График кумулятивной конверсии по группам\n",
    "* График относительного изменения кумулятивной конверсии группы B к группе A\n",
    "* Точечный график количества заказов по пользователям\n",
    "* Определение аномальных пользователей\n",
    "* График стоимостей заказов\n",
    "* Подсчет статистической значимости различий в конверсии между группами по «сырым» данным. \n",
    "* Подсчет статистической значимости различий в среднем чеке заказа между группами по «сырым» данным.\n",
    "* Подсчет статистической значимости различий в среднем чеке заказа между группами по «очищенным» данным.\n",
    "* Подсчет статистическoй значимости различий в конверсии между группами по «очищенным» данным.\n",
    "* Подсчет статистической значимости различий в среднем чеке заказа между группами по «очищенным» данным.\n",
    "4. Выводы"
   ]
  },
  {
   "cell_type": "markdown",
   "id": "54228f41",
   "metadata": {},
   "source": [
    "### Предобработка данных"
   ]
  },
  {
   "cell_type": "markdown",
   "id": "17829fa6",
   "metadata": {},
   "source": [
    "Импортируем библиотеки:"
   ]
  },
  {
   "cell_type": "code",
   "execution_count": 1,
   "id": "65ee4a4d",
   "metadata": {},
   "outputs": [],
   "source": [
    "import numpy as np\n",
    "import pandas as pd\n",
    "import matplotlib.pyplot as plt\n",
    "import seaborn as sns\n",
    "from matplotlib import pyplot as plt\n",
    "from IPython.display import display\n",
    "import scipy.stats as stats\n",
    "import datetime as dt"
   ]
  },
  {
   "cell_type": "markdown",
   "id": "a66777bd",
   "metadata": {},
   "source": [
    "Загрузим данные и проверим типы данных:"
   ]
  },
  {
   "cell_type": "code",
   "execution_count": 2,
   "id": "73414674",
   "metadata": {},
   "outputs": [
    {
     "data": {
      "text/html": [
       "<div>\n",
       "<style scoped>\n",
       "    .dataframe tbody tr th:only-of-type {\n",
       "        vertical-align: middle;\n",
       "    }\n",
       "\n",
       "    .dataframe tbody tr th {\n",
       "        vertical-align: top;\n",
       "    }\n",
       "\n",
       "    .dataframe thead th {\n",
       "        text-align: right;\n",
       "    }\n",
       "</style>\n",
       "<table border=\"1\" class=\"dataframe\">\n",
       "  <thead>\n",
       "    <tr style=\"text-align: right;\">\n",
       "      <th></th>\n",
       "      <th>Hypothesis</th>\n",
       "      <th>Reach</th>\n",
       "      <th>Impact</th>\n",
       "      <th>Confidence</th>\n",
       "      <th>Efforts</th>\n",
       "    </tr>\n",
       "  </thead>\n",
       "  <tbody>\n",
       "    <tr>\n",
       "      <th>0</th>\n",
       "      <td>Добавить два новых канала привлечения трафика, что позволит привлекать на 30% больше пользователей</td>\n",
       "      <td>3</td>\n",
       "      <td>10</td>\n",
       "      <td>8</td>\n",
       "      <td>6</td>\n",
       "    </tr>\n",
       "    <tr>\n",
       "      <th>1</th>\n",
       "      <td>Запустить собственную службу доставки, что сократит срок доставки заказов</td>\n",
       "      <td>2</td>\n",
       "      <td>5</td>\n",
       "      <td>4</td>\n",
       "      <td>10</td>\n",
       "    </tr>\n",
       "    <tr>\n",
       "      <th>2</th>\n",
       "      <td>Добавить блоки рекомендаций товаров на сайт интернет магазина, чтобы повысить конверсию и средний чек заказа</td>\n",
       "      <td>8</td>\n",
       "      <td>3</td>\n",
       "      <td>7</td>\n",
       "      <td>3</td>\n",
       "    </tr>\n",
       "    <tr>\n",
       "      <th>3</th>\n",
       "      <td>Изменить структура категорий, что увеличит конверсию, т.к. пользователи быстрее найдут нужный товар</td>\n",
       "      <td>8</td>\n",
       "      <td>3</td>\n",
       "      <td>3</td>\n",
       "      <td>8</td>\n",
       "    </tr>\n",
       "    <tr>\n",
       "      <th>4</th>\n",
       "      <td>Изменить цвет фона главной страницы, чтобы увеличить вовлеченность пользователей</td>\n",
       "      <td>3</td>\n",
       "      <td>1</td>\n",
       "      <td>1</td>\n",
       "      <td>1</td>\n",
       "    </tr>\n",
       "    <tr>\n",
       "      <th>5</th>\n",
       "      <td>Добавить страницу отзывов клиентов о магазине, что позволит увеличить количество заказов</td>\n",
       "      <td>3</td>\n",
       "      <td>2</td>\n",
       "      <td>2</td>\n",
       "      <td>3</td>\n",
       "    </tr>\n",
       "    <tr>\n",
       "      <th>6</th>\n",
       "      <td>Показать на главной странице баннеры с актуальными акциями и распродажами, чтобы увеличить конверсию</td>\n",
       "      <td>5</td>\n",
       "      <td>3</td>\n",
       "      <td>8</td>\n",
       "      <td>3</td>\n",
       "    </tr>\n",
       "    <tr>\n",
       "      <th>7</th>\n",
       "      <td>Добавить форму подписки на все основные страницы, чтобы собрать базу клиентов для email-рассылок</td>\n",
       "      <td>10</td>\n",
       "      <td>7</td>\n",
       "      <td>8</td>\n",
       "      <td>5</td>\n",
       "    </tr>\n",
       "    <tr>\n",
       "      <th>8</th>\n",
       "      <td>Запустить акцию, дающую скидку на товар в день рождения</td>\n",
       "      <td>1</td>\n",
       "      <td>9</td>\n",
       "      <td>9</td>\n",
       "      <td>5</td>\n",
       "    </tr>\n",
       "  </tbody>\n",
       "</table>\n",
       "</div>"
      ],
      "text/plain": [
       "                                                                                                     Hypothesis  \\\n",
       "0            Добавить два новых канала привлечения трафика, что позволит привлекать на 30% больше пользователей   \n",
       "1                                     Запустить собственную службу доставки, что сократит срок доставки заказов   \n",
       "2  Добавить блоки рекомендаций товаров на сайт интернет магазина, чтобы повысить конверсию и средний чек заказа   \n",
       "3           Изменить структура категорий, что увеличит конверсию, т.к. пользователи быстрее найдут нужный товар   \n",
       "4                              Изменить цвет фона главной страницы, чтобы увеличить вовлеченность пользователей   \n",
       "5                      Добавить страницу отзывов клиентов о магазине, что позволит увеличить количество заказов   \n",
       "6          Показать на главной странице баннеры с актуальными акциями и распродажами, чтобы увеличить конверсию   \n",
       "7              Добавить форму подписки на все основные страницы, чтобы собрать базу клиентов для email-рассылок   \n",
       "8                                                       Запустить акцию, дающую скидку на товар в день рождения   \n",
       "\n",
       "   Reach  Impact  Confidence  Efforts  \n",
       "0      3      10           8        6  \n",
       "1      2       5           4       10  \n",
       "2      8       3           7        3  \n",
       "3      8       3           3        8  \n",
       "4      3       1           1        1  \n",
       "5      3       2           2        3  \n",
       "6      5       3           8        3  \n",
       "7     10       7           8        5  \n",
       "8      1       9           9        5  "
      ]
     },
     "execution_count": 2,
     "metadata": {},
     "output_type": "execute_result"
    }
   ],
   "source": [
    "try:\n",
    "    hypothesis = pd.read_csv('/datasets/hypothesis.csv')\n",
    "except:\n",
    "    hypothesis = pd.read_csv('hypothesis.csv')\n",
    "# Сброс ограничений на количество выводимых рядов\n",
    "pd.set_option('display.max_rows', None)\n",
    "# Сброс ограничений на число столбцов\n",
    "pd.set_option('display.max_columns', None)\n",
    "# Сброс ограничений на количество символов в записи\n",
    "pd.set_option('display.max_colwidth', None)\n",
    "hypothesis.head(9)"
   ]
  },
  {
   "cell_type": "code",
   "execution_count": 3,
   "id": "cd46fee1",
   "metadata": {},
   "outputs": [
    {
     "name": "stdout",
     "output_type": "stream",
     "text": [
      "<class 'pandas.core.frame.DataFrame'>\n",
      "RangeIndex: 9 entries, 0 to 8\n",
      "Data columns (total 5 columns):\n",
      " #   Column      Non-Null Count  Dtype \n",
      "---  ------      --------------  ----- \n",
      " 0   Hypothesis  9 non-null      object\n",
      " 1   Reach       9 non-null      int64 \n",
      " 2   Impact      9 non-null      int64 \n",
      " 3   Confidence  9 non-null      int64 \n",
      " 4   Efforts     9 non-null      int64 \n",
      "dtypes: int64(4), object(1)\n",
      "memory usage: 488.0+ bytes\n"
     ]
    }
   ],
   "source": [
    "hypothesis.info()"
   ]
  },
  {
   "cell_type": "code",
   "execution_count": 4,
   "id": "fc9aa2d4",
   "metadata": {},
   "outputs": [
    {
     "data": {
      "text/html": [
       "<div>\n",
       "<style scoped>\n",
       "    .dataframe tbody tr th:only-of-type {\n",
       "        vertical-align: middle;\n",
       "    }\n",
       "\n",
       "    .dataframe tbody tr th {\n",
       "        vertical-align: top;\n",
       "    }\n",
       "\n",
       "    .dataframe thead th {\n",
       "        text-align: right;\n",
       "    }\n",
       "</style>\n",
       "<table border=\"1\" class=\"dataframe\">\n",
       "  <thead>\n",
       "    <tr style=\"text-align: right;\">\n",
       "      <th></th>\n",
       "      <th>transactionId</th>\n",
       "      <th>visitorId</th>\n",
       "      <th>date</th>\n",
       "      <th>revenue</th>\n",
       "      <th>group</th>\n",
       "    </tr>\n",
       "  </thead>\n",
       "  <tbody>\n",
       "    <tr>\n",
       "      <th>0</th>\n",
       "      <td>3667963787</td>\n",
       "      <td>3312258926</td>\n",
       "      <td>2019-08-15</td>\n",
       "      <td>1650</td>\n",
       "      <td>B</td>\n",
       "    </tr>\n",
       "    <tr>\n",
       "      <th>1</th>\n",
       "      <td>2804400009</td>\n",
       "      <td>3642806036</td>\n",
       "      <td>2019-08-15</td>\n",
       "      <td>730</td>\n",
       "      <td>B</td>\n",
       "    </tr>\n",
       "    <tr>\n",
       "      <th>2</th>\n",
       "      <td>2961555356</td>\n",
       "      <td>4069496402</td>\n",
       "      <td>2019-08-15</td>\n",
       "      <td>400</td>\n",
       "      <td>A</td>\n",
       "    </tr>\n",
       "    <tr>\n",
       "      <th>3</th>\n",
       "      <td>3797467345</td>\n",
       "      <td>1196621759</td>\n",
       "      <td>2019-08-15</td>\n",
       "      <td>9759</td>\n",
       "      <td>B</td>\n",
       "    </tr>\n",
       "    <tr>\n",
       "      <th>4</th>\n",
       "      <td>2282983706</td>\n",
       "      <td>2322279887</td>\n",
       "      <td>2019-08-15</td>\n",
       "      <td>2308</td>\n",
       "      <td>B</td>\n",
       "    </tr>\n",
       "  </tbody>\n",
       "</table>\n",
       "</div>"
      ],
      "text/plain": [
       "   transactionId   visitorId        date  revenue group\n",
       "0     3667963787  3312258926  2019-08-15     1650     B\n",
       "1     2804400009  3642806036  2019-08-15      730     B\n",
       "2     2961555356  4069496402  2019-08-15      400     A\n",
       "3     3797467345  1196621759  2019-08-15     9759     B\n",
       "4     2282983706  2322279887  2019-08-15     2308     B"
      ]
     },
     "execution_count": 4,
     "metadata": {},
     "output_type": "execute_result"
    }
   ],
   "source": [
    "try:\n",
    "    orders = pd.read_csv('/datasets/orders.csv')\n",
    "except:\n",
    "    orders = pd.read_csv('orders.csv')\n",
    "orders.head()"
   ]
  },
  {
   "cell_type": "code",
   "execution_count": 5,
   "id": "29d1faa1",
   "metadata": {},
   "outputs": [
    {
     "name": "stdout",
     "output_type": "stream",
     "text": [
      "<class 'pandas.core.frame.DataFrame'>\n",
      "RangeIndex: 1197 entries, 0 to 1196\n",
      "Data columns (total 5 columns):\n",
      " #   Column         Non-Null Count  Dtype \n",
      "---  ------         --------------  ----- \n",
      " 0   transactionId  1197 non-null   int64 \n",
      " 1   visitorId      1197 non-null   int64 \n",
      " 2   date           1197 non-null   object\n",
      " 3   revenue        1197 non-null   int64 \n",
      " 4   group          1197 non-null   object\n",
      "dtypes: int64(3), object(2)\n",
      "memory usage: 46.9+ KB\n"
     ]
    }
   ],
   "source": [
    "orders.info()"
   ]
  },
  {
   "cell_type": "code",
   "execution_count": 6,
   "id": "dd4ca89d",
   "metadata": {},
   "outputs": [
    {
     "data": {
      "text/html": [
       "<div>\n",
       "<style scoped>\n",
       "    .dataframe tbody tr th:only-of-type {\n",
       "        vertical-align: middle;\n",
       "    }\n",
       "\n",
       "    .dataframe tbody tr th {\n",
       "        vertical-align: top;\n",
       "    }\n",
       "\n",
       "    .dataframe thead th {\n",
       "        text-align: right;\n",
       "    }\n",
       "</style>\n",
       "<table border=\"1\" class=\"dataframe\">\n",
       "  <thead>\n",
       "    <tr style=\"text-align: right;\">\n",
       "      <th></th>\n",
       "      <th>date</th>\n",
       "      <th>group</th>\n",
       "      <th>visitors</th>\n",
       "    </tr>\n",
       "  </thead>\n",
       "  <tbody>\n",
       "    <tr>\n",
       "      <th>0</th>\n",
       "      <td>2019-08-01</td>\n",
       "      <td>A</td>\n",
       "      <td>719</td>\n",
       "    </tr>\n",
       "    <tr>\n",
       "      <th>1</th>\n",
       "      <td>2019-08-02</td>\n",
       "      <td>A</td>\n",
       "      <td>619</td>\n",
       "    </tr>\n",
       "    <tr>\n",
       "      <th>2</th>\n",
       "      <td>2019-08-03</td>\n",
       "      <td>A</td>\n",
       "      <td>507</td>\n",
       "    </tr>\n",
       "    <tr>\n",
       "      <th>3</th>\n",
       "      <td>2019-08-04</td>\n",
       "      <td>A</td>\n",
       "      <td>717</td>\n",
       "    </tr>\n",
       "    <tr>\n",
       "      <th>4</th>\n",
       "      <td>2019-08-05</td>\n",
       "      <td>A</td>\n",
       "      <td>756</td>\n",
       "    </tr>\n",
       "  </tbody>\n",
       "</table>\n",
       "</div>"
      ],
      "text/plain": [
       "         date group  visitors\n",
       "0  2019-08-01     A       719\n",
       "1  2019-08-02     A       619\n",
       "2  2019-08-03     A       507\n",
       "3  2019-08-04     A       717\n",
       "4  2019-08-05     A       756"
      ]
     },
     "execution_count": 6,
     "metadata": {},
     "output_type": "execute_result"
    }
   ],
   "source": [
    "try:\n",
    "    visitors = pd.read_csv('/datasets/visitors.csv')\n",
    "except:\n",
    "    visitors = pd.read_csv('visitors.csv')\n",
    "visitors.head()"
   ]
  },
  {
   "cell_type": "code",
   "execution_count": 7,
   "id": "d6536226",
   "metadata": {},
   "outputs": [
    {
     "name": "stdout",
     "output_type": "stream",
     "text": [
      "<class 'pandas.core.frame.DataFrame'>\n",
      "RangeIndex: 62 entries, 0 to 61\n",
      "Data columns (total 3 columns):\n",
      " #   Column    Non-Null Count  Dtype \n",
      "---  ------    --------------  ----- \n",
      " 0   date      62 non-null     object\n",
      " 1   group     62 non-null     object\n",
      " 2   visitors  62 non-null     int64 \n",
      "dtypes: int64(1), object(2)\n",
      "memory usage: 1.6+ KB\n"
     ]
    }
   ],
   "source": [
    "visitors.info()"
   ]
  },
  {
   "cell_type": "markdown",
   "id": "a2a45d8c",
   "metadata": {},
   "source": [
    "Видим, что пропусков в данных нет. Приведем названия столбцов к нижнему регистру, даты- в тип даты."
   ]
  },
  {
   "cell_type": "code",
   "execution_count": 8,
   "id": "5851d0ad",
   "metadata": {},
   "outputs": [],
   "source": [
    "hypothesis.columns = hypothesis.columns.str.lower()\n",
    "orders.columns = orders.columns.str.lower()\n",
    "orders['date'] =  pd.to_datetime(orders['date'])\n",
    "visitors['date'] =  pd.to_datetime(visitors['date'])"
   ]
  },
  {
   "cell_type": "markdown",
   "id": "a0cdf965",
   "metadata": {},
   "source": [
    "Посмотрим на данные более подробно и убедимся, что в данных нет явных аномалий:"
   ]
  },
  {
   "cell_type": "code",
   "execution_count": 9,
   "id": "6e2ba769",
   "metadata": {},
   "outputs": [
    {
     "data": {
      "text/plain": [
       "B    640\n",
       "A    557\n",
       "Name: group, dtype: int64"
      ]
     },
     "execution_count": 9,
     "metadata": {},
     "output_type": "execute_result"
    }
   ],
   "source": [
    "orders['group'].value_counts()"
   ]
  },
  {
   "cell_type": "code",
   "execution_count": 10,
   "id": "d3cd3d47",
   "metadata": {},
   "outputs": [
    {
     "data": {
      "text/plain": [
       "count    1.197000e+03\n",
       "mean     8.348006e+03\n",
       "std      3.919113e+04\n",
       "min      5.000000e+01\n",
       "25%      1.220000e+03\n",
       "50%      2.978000e+03\n",
       "75%      8.290000e+03\n",
       "max      1.294500e+06\n",
       "Name: revenue, dtype: float64"
      ]
     },
     "execution_count": 10,
     "metadata": {},
     "output_type": "execute_result"
    }
   ],
   "source": [
    "orders['revenue'].describe()"
   ]
  },
  {
   "cell_type": "code",
   "execution_count": 11,
   "id": "570f66f7",
   "metadata": {},
   "outputs": [
    {
     "data": {
      "text/plain": [
       "A    31\n",
       "B    31\n",
       "Name: group, dtype: int64"
      ]
     },
     "execution_count": 11,
     "metadata": {},
     "output_type": "execute_result"
    }
   ],
   "source": [
    "visitors['group'].value_counts()"
   ]
  },
  {
   "cell_type": "markdown",
   "id": "e0443f15",
   "metadata": {},
   "source": [
    "Проверим, что в данных нет явных дубликатов:"
   ]
  },
  {
   "cell_type": "code",
   "execution_count": 12,
   "id": "e576c4b2",
   "metadata": {},
   "outputs": [
    {
     "data": {
      "text/plain": [
       "0"
      ]
     },
     "execution_count": 12,
     "metadata": {},
     "output_type": "execute_result"
    }
   ],
   "source": [
    "orders.duplicated().sum()"
   ]
  },
  {
   "cell_type": "code",
   "execution_count": 13,
   "id": "3ad81a95",
   "metadata": {},
   "outputs": [
    {
     "data": {
      "text/plain": [
       "0"
      ]
     },
     "execution_count": 13,
     "metadata": {},
     "output_type": "execute_result"
    }
   ],
   "source": [
    "visitors.duplicated().sum()"
   ]
  },
  {
   "cell_type": "markdown",
   "id": "0d81911a",
   "metadata": {},
   "source": [
    "#### Вывод\n",
    "Мы привели названиe столбцов к нижнему регистру, убедились, что в данных нет пропусков и явных аномалий, явных и неявных дубликатов, привели столбцы к нужным типам. Тепепрь  можем приступать к следующему шагу."
   ]
  },
  {
   "cell_type": "markdown",
   "id": "2da44bd2",
   "metadata": {},
   "source": [
    "### Приоретизация гипотез"
   ]
  },
  {
   "cell_type": "markdown",
   "id": "40f6b7de",
   "metadata": {},
   "source": [
    "Применим фреймворк ICE для приоритизации гипотез и отсотритруем их по убыванию приоритета:"
   ]
  },
  {
   "cell_type": "code",
   "execution_count": 14,
   "id": "d2219b99",
   "metadata": {},
   "outputs": [
    {
     "data": {
      "text/html": [
       "<div>\n",
       "<style scoped>\n",
       "    .dataframe tbody tr th:only-of-type {\n",
       "        vertical-align: middle;\n",
       "    }\n",
       "\n",
       "    .dataframe tbody tr th {\n",
       "        vertical-align: top;\n",
       "    }\n",
       "\n",
       "    .dataframe thead th {\n",
       "        text-align: right;\n",
       "    }\n",
       "</style>\n",
       "<table border=\"1\" class=\"dataframe\">\n",
       "  <thead>\n",
       "    <tr style=\"text-align: right;\">\n",
       "      <th></th>\n",
       "      <th>hypothesis</th>\n",
       "      <th>reach</th>\n",
       "      <th>impact</th>\n",
       "      <th>confidence</th>\n",
       "      <th>efforts</th>\n",
       "      <th>ice</th>\n",
       "    </tr>\n",
       "  </thead>\n",
       "  <tbody>\n",
       "    <tr>\n",
       "      <th>8</th>\n",
       "      <td>Запустить акцию, дающую скидку на товар в день рождения</td>\n",
       "      <td>1</td>\n",
       "      <td>9</td>\n",
       "      <td>9</td>\n",
       "      <td>5</td>\n",
       "      <td>16.200000</td>\n",
       "    </tr>\n",
       "    <tr>\n",
       "      <th>0</th>\n",
       "      <td>Добавить два новых канала привлечения трафика, что позволит привлекать на 30% больше пользователей</td>\n",
       "      <td>3</td>\n",
       "      <td>10</td>\n",
       "      <td>8</td>\n",
       "      <td>6</td>\n",
       "      <td>13.333333</td>\n",
       "    </tr>\n",
       "    <tr>\n",
       "      <th>7</th>\n",
       "      <td>Добавить форму подписки на все основные страницы, чтобы собрать базу клиентов для email-рассылок</td>\n",
       "      <td>10</td>\n",
       "      <td>7</td>\n",
       "      <td>8</td>\n",
       "      <td>5</td>\n",
       "      <td>11.200000</td>\n",
       "    </tr>\n",
       "    <tr>\n",
       "      <th>6</th>\n",
       "      <td>Показать на главной странице баннеры с актуальными акциями и распродажами, чтобы увеличить конверсию</td>\n",
       "      <td>5</td>\n",
       "      <td>3</td>\n",
       "      <td>8</td>\n",
       "      <td>3</td>\n",
       "      <td>8.000000</td>\n",
       "    </tr>\n",
       "    <tr>\n",
       "      <th>2</th>\n",
       "      <td>Добавить блоки рекомендаций товаров на сайт интернет магазина, чтобы повысить конверсию и средний чек заказа</td>\n",
       "      <td>8</td>\n",
       "      <td>3</td>\n",
       "      <td>7</td>\n",
       "      <td>3</td>\n",
       "      <td>7.000000</td>\n",
       "    </tr>\n",
       "    <tr>\n",
       "      <th>1</th>\n",
       "      <td>Запустить собственную службу доставки, что сократит срок доставки заказов</td>\n",
       "      <td>2</td>\n",
       "      <td>5</td>\n",
       "      <td>4</td>\n",
       "      <td>10</td>\n",
       "      <td>2.000000</td>\n",
       "    </tr>\n",
       "    <tr>\n",
       "      <th>5</th>\n",
       "      <td>Добавить страницу отзывов клиентов о магазине, что позволит увеличить количество заказов</td>\n",
       "      <td>3</td>\n",
       "      <td>2</td>\n",
       "      <td>2</td>\n",
       "      <td>3</td>\n",
       "      <td>1.333333</td>\n",
       "    </tr>\n",
       "    <tr>\n",
       "      <th>3</th>\n",
       "      <td>Изменить структура категорий, что увеличит конверсию, т.к. пользователи быстрее найдут нужный товар</td>\n",
       "      <td>8</td>\n",
       "      <td>3</td>\n",
       "      <td>3</td>\n",
       "      <td>8</td>\n",
       "      <td>1.125000</td>\n",
       "    </tr>\n",
       "    <tr>\n",
       "      <th>4</th>\n",
       "      <td>Изменить цвет фона главной страницы, чтобы увеличить вовлеченность пользователей</td>\n",
       "      <td>3</td>\n",
       "      <td>1</td>\n",
       "      <td>1</td>\n",
       "      <td>1</td>\n",
       "      <td>1.000000</td>\n",
       "    </tr>\n",
       "  </tbody>\n",
       "</table>\n",
       "</div>"
      ],
      "text/plain": [
       "                                                                                                     hypothesis  \\\n",
       "8                                                       Запустить акцию, дающую скидку на товар в день рождения   \n",
       "0            Добавить два новых канала привлечения трафика, что позволит привлекать на 30% больше пользователей   \n",
       "7              Добавить форму подписки на все основные страницы, чтобы собрать базу клиентов для email-рассылок   \n",
       "6          Показать на главной странице баннеры с актуальными акциями и распродажами, чтобы увеличить конверсию   \n",
       "2  Добавить блоки рекомендаций товаров на сайт интернет магазина, чтобы повысить конверсию и средний чек заказа   \n",
       "1                                     Запустить собственную службу доставки, что сократит срок доставки заказов   \n",
       "5                      Добавить страницу отзывов клиентов о магазине, что позволит увеличить количество заказов   \n",
       "3           Изменить структура категорий, что увеличит конверсию, т.к. пользователи быстрее найдут нужный товар   \n",
       "4                              Изменить цвет фона главной страницы, чтобы увеличить вовлеченность пользователей   \n",
       "\n",
       "   reach  impact  confidence  efforts        ice  \n",
       "8      1       9           9        5  16.200000  \n",
       "0      3      10           8        6  13.333333  \n",
       "7     10       7           8        5  11.200000  \n",
       "6      5       3           8        3   8.000000  \n",
       "2      8       3           7        3   7.000000  \n",
       "1      2       5           4       10   2.000000  \n",
       "5      3       2           2        3   1.333333  \n",
       "3      8       3           3        8   1.125000  \n",
       "4      3       1           1        1   1.000000  "
      ]
     },
     "execution_count": 14,
     "metadata": {},
     "output_type": "execute_result"
    }
   ],
   "source": [
    "hypothesis['ice'] = hypothesis['impact']*hypothesis['confidence']/hypothesis['efforts']\n",
    "hypothesis.sort_values(by = 'ice', ascending=False)"
   ]
  },
  {
   "cell_type": "markdown",
   "id": "2ed1dc56",
   "metadata": {},
   "source": [
    "ICE включает в себя 3 фактора - влияние, легкость в реализации и уверенность в оценке влияния, легкости в реализации. По этому методу на первом месте гипотеза №9, на втором гипотеза №1, на третьем - гипотеза №8.\n",
    "\n",
    "Применим фреймворк RICE для приоритизации гипотез oтсортируем их по убыванию приоритета."
   ]
  },
  {
   "cell_type": "code",
   "execution_count": 15,
   "id": "6f2b398e",
   "metadata": {},
   "outputs": [
    {
     "data": {
      "text/html": [
       "<div>\n",
       "<style scoped>\n",
       "    .dataframe tbody tr th:only-of-type {\n",
       "        vertical-align: middle;\n",
       "    }\n",
       "\n",
       "    .dataframe tbody tr th {\n",
       "        vertical-align: top;\n",
       "    }\n",
       "\n",
       "    .dataframe thead th {\n",
       "        text-align: right;\n",
       "    }\n",
       "</style>\n",
       "<table border=\"1\" class=\"dataframe\">\n",
       "  <thead>\n",
       "    <tr style=\"text-align: right;\">\n",
       "      <th></th>\n",
       "      <th>hypothesis</th>\n",
       "      <th>reach</th>\n",
       "      <th>impact</th>\n",
       "      <th>confidence</th>\n",
       "      <th>efforts</th>\n",
       "      <th>ice</th>\n",
       "      <th>rice</th>\n",
       "    </tr>\n",
       "  </thead>\n",
       "  <tbody>\n",
       "    <tr>\n",
       "      <th>7</th>\n",
       "      <td>Добавить форму подписки на все основные страницы, чтобы собрать базу клиентов для email-рассылок</td>\n",
       "      <td>10</td>\n",
       "      <td>7</td>\n",
       "      <td>8</td>\n",
       "      <td>5</td>\n",
       "      <td>11.200000</td>\n",
       "      <td>112.0</td>\n",
       "    </tr>\n",
       "    <tr>\n",
       "      <th>2</th>\n",
       "      <td>Добавить блоки рекомендаций товаров на сайт интернет магазина, чтобы повысить конверсию и средний чек заказа</td>\n",
       "      <td>8</td>\n",
       "      <td>3</td>\n",
       "      <td>7</td>\n",
       "      <td>3</td>\n",
       "      <td>7.000000</td>\n",
       "      <td>56.0</td>\n",
       "    </tr>\n",
       "    <tr>\n",
       "      <th>0</th>\n",
       "      <td>Добавить два новых канала привлечения трафика, что позволит привлекать на 30% больше пользователей</td>\n",
       "      <td>3</td>\n",
       "      <td>10</td>\n",
       "      <td>8</td>\n",
       "      <td>6</td>\n",
       "      <td>13.333333</td>\n",
       "      <td>40.0</td>\n",
       "    </tr>\n",
       "    <tr>\n",
       "      <th>6</th>\n",
       "      <td>Показать на главной странице баннеры с актуальными акциями и распродажами, чтобы увеличить конверсию</td>\n",
       "      <td>5</td>\n",
       "      <td>3</td>\n",
       "      <td>8</td>\n",
       "      <td>3</td>\n",
       "      <td>8.000000</td>\n",
       "      <td>40.0</td>\n",
       "    </tr>\n",
       "    <tr>\n",
       "      <th>8</th>\n",
       "      <td>Запустить акцию, дающую скидку на товар в день рождения</td>\n",
       "      <td>1</td>\n",
       "      <td>9</td>\n",
       "      <td>9</td>\n",
       "      <td>5</td>\n",
       "      <td>16.200000</td>\n",
       "      <td>16.2</td>\n",
       "    </tr>\n",
       "    <tr>\n",
       "      <th>3</th>\n",
       "      <td>Изменить структура категорий, что увеличит конверсию, т.к. пользователи быстрее найдут нужный товар</td>\n",
       "      <td>8</td>\n",
       "      <td>3</td>\n",
       "      <td>3</td>\n",
       "      <td>8</td>\n",
       "      <td>1.125000</td>\n",
       "      <td>9.0</td>\n",
       "    </tr>\n",
       "    <tr>\n",
       "      <th>1</th>\n",
       "      <td>Запустить собственную службу доставки, что сократит срок доставки заказов</td>\n",
       "      <td>2</td>\n",
       "      <td>5</td>\n",
       "      <td>4</td>\n",
       "      <td>10</td>\n",
       "      <td>2.000000</td>\n",
       "      <td>4.0</td>\n",
       "    </tr>\n",
       "    <tr>\n",
       "      <th>5</th>\n",
       "      <td>Добавить страницу отзывов клиентов о магазине, что позволит увеличить количество заказов</td>\n",
       "      <td>3</td>\n",
       "      <td>2</td>\n",
       "      <td>2</td>\n",
       "      <td>3</td>\n",
       "      <td>1.333333</td>\n",
       "      <td>4.0</td>\n",
       "    </tr>\n",
       "    <tr>\n",
       "      <th>4</th>\n",
       "      <td>Изменить цвет фона главной страницы, чтобы увеличить вовлеченность пользователей</td>\n",
       "      <td>3</td>\n",
       "      <td>1</td>\n",
       "      <td>1</td>\n",
       "      <td>1</td>\n",
       "      <td>1.000000</td>\n",
       "      <td>3.0</td>\n",
       "    </tr>\n",
       "  </tbody>\n",
       "</table>\n",
       "</div>"
      ],
      "text/plain": [
       "                                                                                                     hypothesis  \\\n",
       "7              Добавить форму подписки на все основные страницы, чтобы собрать базу клиентов для email-рассылок   \n",
       "2  Добавить блоки рекомендаций товаров на сайт интернет магазина, чтобы повысить конверсию и средний чек заказа   \n",
       "0            Добавить два новых канала привлечения трафика, что позволит привлекать на 30% больше пользователей   \n",
       "6          Показать на главной странице баннеры с актуальными акциями и распродажами, чтобы увеличить конверсию   \n",
       "8                                                       Запустить акцию, дающую скидку на товар в день рождения   \n",
       "3           Изменить структура категорий, что увеличит конверсию, т.к. пользователи быстрее найдут нужный товар   \n",
       "1                                     Запустить собственную службу доставки, что сократит срок доставки заказов   \n",
       "5                      Добавить страницу отзывов клиентов о магазине, что позволит увеличить количество заказов   \n",
       "4                              Изменить цвет фона главной страницы, чтобы увеличить вовлеченность пользователей   \n",
       "\n",
       "   reach  impact  confidence  efforts        ice   rice  \n",
       "7     10       7           8        5  11.200000  112.0  \n",
       "2      8       3           7        3   7.000000   56.0  \n",
       "0      3      10           8        6  13.333333   40.0  \n",
       "6      5       3           8        3   8.000000   40.0  \n",
       "8      1       9           9        5  16.200000   16.2  \n",
       "3      8       3           3        8   1.125000    9.0  \n",
       "1      2       5           4       10   2.000000    4.0  \n",
       "5      3       2           2        3   1.333333    4.0  \n",
       "4      3       1           1        1   1.000000    3.0  "
      ]
     },
     "execution_count": 15,
     "metadata": {},
     "output_type": "execute_result"
    }
   ],
   "source": [
    "hypothesis['rice'] = hypothesis['reach']*hypothesis['impact']*hypothesis['confidence']/hypothesis['efforts']\n",
    "hypothesis.sort_values(by = 'rice', ascending=False)"
   ]
  },
  {
   "cell_type": "markdown",
   "id": "25d38681",
   "metadata": {},
   "source": [
    "RICE включает в себя 4 фактора - охват, влияние, трудозатраты и уверенность в оценке охвата, влияния и трудозатрат. По этому метроду на первом месте гипотеза №8, на втором гипотеза №3, на третьем -гипотеза №1.\n",
    "\n",
    "Методы отличаются тем, что в RICE учитывается скольких пользователей затронет изменение, которое предполагается внести. Если необходимо предложить одну гипотезу - то это будет гипотеза №8 \"Добавить форму подписки на все основные страницы, чтобы собрать базу клиентов для email-рассылок\"."
   ]
  },
  {
   "cell_type": "markdown",
   "id": "bccc3f49",
   "metadata": {},
   "source": [
    "### Анализ А/Б теста"
   ]
  },
  {
   "cell_type": "markdown",
   "id": "c49d2df5",
   "metadata": {},
   "source": [
    "#### График кумулятивной выручки по группам"
   ]
  },
  {
   "cell_type": "markdown",
   "id": "81fa861e",
   "metadata": {},
   "source": [
    "Создаём датафрейм dategroups с уникальными парами значений 'date' и 'group', таблицы orders, избавляемся от дубликатов и объявляем переменную ordersaggregated,содержащую:\n",
    "* дату;\n",
    "* группу A/B-теста;\n",
    "* число уникальных заказов в группе теста по указанную дату включительно;\n",
    "* число уникальных пользователей, совершивших хотя бы 1 заказ в группе теста по указанную дату включительно;\n",
    "* суммарную выручку заказов в группе теста по указанную дату включительно."
   ]
  },
  {
   "cell_type": "code",
   "execution_count": 16,
   "id": "22a61bc4",
   "metadata": {},
   "outputs": [],
   "source": [
    "datesgroups = orders[['date','group']].drop_duplicates() \n",
    "ordersaggregated = datesgroups.apply(lambda x: \n",
    "orders[np.logical_and(orders['date'] <= x['date'], \n",
    "orders['group'] == x['group'])].agg({'date' : 'max', 'group' : 'max', 'transactionid' : 'nunique', \n",
    "'visitorid' : 'nunique', 'revenue' : 'sum'}), axis=1).sort_values(by=['date','group'])"
   ]
  },
  {
   "cell_type": "markdown",
   "id": "8affa351",
   "metadata": {},
   "source": [
    "Создаем переменную visitorsaggregated, содержащую:\n",
    "* дату;\n",
    "* группу A/B-теста;\n",
    "* количество уникальных посетителей в группе теста по указанную дату включительно"
   ]
  },
  {
   "cell_type": "code",
   "execution_count": 17,
   "id": "5da9974a",
   "metadata": {},
   "outputs": [],
   "source": [
    "visitorsaggregated = datesgroups.apply(lambda x: \n",
    "visitors[np.logical_and(visitors['date'] <= x['date'], visitors['group'] == x['group'])].agg({'date' : 'max', \n",
    "'group' : 'max', 'visitors' : 'sum'}), axis=1).sort_values(by=['date','group'])"
   ]
  },
  {
   "cell_type": "markdown",
   "id": "74a58e94",
   "metadata": {},
   "source": [
    "Создаем переменную cumulativedata, объединив ordersaggregated и visitorsaggregated по колонкам 'date', 'group' методом merge() и присваиваем столбцам необходимые названия:"
   ]
  },
  {
   "cell_type": "code",
   "execution_count": 18,
   "id": "ab1a759c",
   "metadata": {},
   "outputs": [],
   "source": [
    "cumulativedata = ordersaggregated.merge(visitorsaggregated, left_on=['date', 'group'], right_on=['date', 'group'])\n",
    "cumulativedata.columns = ['date', 'group', 'orders', 'buyers', 'revenue', 'visitors']"
   ]
  },
  {
   "cell_type": "markdown",
   "id": "d5f53566",
   "metadata": {},
   "source": [
    "Сохраним данные о датах, выручке и числе заказов в группах A и B в переменныx cumulativerevenue_a и cumulativerevenue_b и построим графики кумулятивной выручки по дням по группам."
   ]
  },
  {
   "cell_type": "code",
   "execution_count": 19,
   "id": "cec0443f",
   "metadata": {},
   "outputs": [
    {
     "data": {
      "image/png": "[encoded data removed]",
      "text/plain": [
       "<Figure size 864x720 with 1 Axes>"
      ]
     },
     "metadata": {
      "needs_background": "light"
     },
     "output_type": "display_data"
    }
   ],
   "source": [
    "cumulativerevenue_a = cumulativedata[cumulativedata['group']=='A'][['date','revenue', 'orders']]\n",
    "cumulativerevenue_b = cumulativedata[cumulativedata['group']=='B'][['date','revenue', 'orders']]\n",
    "plt.figure(figsize =(12, 10)) \n",
    "plt.plot(cumulativerevenue_a['date'], cumulativerevenue_a['revenue'], label='A')\n",
    "plt.plot(cumulativerevenue_b['date'], cumulativerevenue_b['revenue'], label='B')\n",
    "plt.legend()\n",
    "plt.grid(True)\n",
    "plt.title('График кумулятивной выручки по дням и группам', fontsize=20, fontname='Times New Roman')\n",
    "None"
   ]
  },
  {
   "cell_type": "markdown",
   "id": "2a1049b1",
   "metadata": {},
   "source": [
    "В середине теста у группы B резко повысились значения, после чего группа продолжила лидировать. Вероятно есть аномальные заказы, которые влияют на результаты."
   ]
  },
  {
   "cell_type": "markdown",
   "id": "8a4953df",
   "metadata": {},
   "source": [
    "#### График кумулятивного среднего чека по группам"
   ]
  },
  {
   "cell_type": "code",
   "execution_count": 20,
   "id": "69a2db9f",
   "metadata": {},
   "outputs": [
    {
     "data": {
      "image/png": "[encoded data removed]",
      "text/plain": [
       "<Figure size 864x720 with 1 Axes>"
      ]
     },
     "metadata": {
      "needs_background": "light"
     },
     "output_type": "display_data"
    }
   ],
   "source": [
    "plt.figure(figsize =(12, 10)) \n",
    "plt.plot(cumulativerevenue_a['date'], cumulativerevenue_a['revenue']/cumulativerevenue_a['orders'], label='A')\n",
    "plt.plot(cumulativerevenue_b['date'], cumulativerevenue_b['revenue']/cumulativerevenue_b['orders'], label='B')\n",
    "plt.legend() \n",
    "plt.grid(True)\n",
    "plt.title('График кумулятивного среднего чека по группам', fontsize=20, fontname='Times New Roman')\n",
    "None"
   ]
  },
  {
   "cell_type": "markdown",
   "id": "f4d7cd38",
   "metadata": {},
   "source": [
    "Мы видим резкий рост кумулятивного значения среднего чека у группы B, энеобходимо провести дополнительный анализ выбросов, которые сильно искажают результаты."
   ]
  },
  {
   "cell_type": "markdown",
   "id": "e3a5c065",
   "metadata": {},
   "source": [
    "#### График относительного изменения кумулятивного среднего чека группы B к группе A"
   ]
  },
  {
   "cell_type": "markdown",
   "id": "f49cd26d",
   "metadata": {},
   "source": [
    "Сохраним в переменной mergeсumulativeкevenue нужные столбцы, объединив таблицы cumulativeкevenue_a и cumulativerevenue_b методом merge() и построим график относительного различия кумулятивного среднего чека группы B к группе A."
   ]
  },
  {
   "cell_type": "code",
   "execution_count": 21,
   "id": "ae1d4745",
   "metadata": {},
   "outputs": [
    {
     "data": {
      "text/html": [
       "<div>\n",
       "<style scoped>\n",
       "    .dataframe tbody tr th:only-of-type {\n",
       "        vertical-align: middle;\n",
       "    }\n",
       "\n",
       "    .dataframe tbody tr th {\n",
       "        vertical-align: top;\n",
       "    }\n",
       "\n",
       "    .dataframe thead th {\n",
       "        text-align: right;\n",
       "    }\n",
       "</style>\n",
       "<table border=\"1\" class=\"dataframe\">\n",
       "  <thead>\n",
       "    <tr style=\"text-align: right;\">\n",
       "      <th></th>\n",
       "      <th>date</th>\n",
       "      <th>revenueA</th>\n",
       "      <th>ordersA</th>\n",
       "      <th>revenueB</th>\n",
       "      <th>ordersB</th>\n",
       "    </tr>\n",
       "  </thead>\n",
       "  <tbody>\n",
       "    <tr>\n",
       "      <th>0</th>\n",
       "      <td>2019-08-01</td>\n",
       "      <td>148579</td>\n",
       "      <td>24</td>\n",
       "      <td>101217</td>\n",
       "      <td>21</td>\n",
       "    </tr>\n",
       "    <tr>\n",
       "      <th>1</th>\n",
       "      <td>2019-08-02</td>\n",
       "      <td>242401</td>\n",
       "      <td>44</td>\n",
       "      <td>266748</td>\n",
       "      <td>45</td>\n",
       "    </tr>\n",
       "    <tr>\n",
       "      <th>2</th>\n",
       "      <td>2019-08-03</td>\n",
       "      <td>354874</td>\n",
       "      <td>68</td>\n",
       "      <td>380996</td>\n",
       "      <td>61</td>\n",
       "    </tr>\n",
       "    <tr>\n",
       "      <th>3</th>\n",
       "      <td>2019-08-04</td>\n",
       "      <td>425699</td>\n",
       "      <td>84</td>\n",
       "      <td>489567</td>\n",
       "      <td>78</td>\n",
       "    </tr>\n",
       "    <tr>\n",
       "      <th>4</th>\n",
       "      <td>2019-08-05</td>\n",
       "      <td>549917</td>\n",
       "      <td>109</td>\n",
       "      <td>581995</td>\n",
       "      <td>101</td>\n",
       "    </tr>\n",
       "  </tbody>\n",
       "</table>\n",
       "</div>"
      ],
      "text/plain": [
       "        date  revenueA  ordersA  revenueB  ordersB\n",
       "0 2019-08-01    148579       24    101217       21\n",
       "1 2019-08-02    242401       44    266748       45\n",
       "2 2019-08-03    354874       68    380996       61\n",
       "3 2019-08-04    425699       84    489567       78\n",
       "4 2019-08-05    549917      109    581995      101"
      ]
     },
     "execution_count": 21,
     "metadata": {},
     "output_type": "execute_result"
    }
   ],
   "source": [
    "mergedсumulativerevenue = cumulativerevenue_a.merge(cumulativerevenue_b, left_on='date', \n",
    "right_on='date', how='left', suffixes=['A', 'B'])\n",
    "mergedсumulativerevenue.head()"
   ]
  },
  {
   "cell_type": "code",
   "execution_count": 22,
   "id": "ed20247b",
   "metadata": {},
   "outputs": [
    {
     "data": {
      "image/png": "[encoded data removed]",
      "text/plain": [
       "<Figure size 864x720 with 1 Axes>"
      ]
     },
     "metadata": {
      "needs_background": "light"
     },
     "output_type": "display_data"
    }
   ],
   "source": [
    "plt.figure(figsize =(12, 10)) \n",
    "plt.plot(mergedсumulativerevenue['date'], \n",
    "(mergedсumulativerevenue['revenueB']/mergedсumulativerevenue['ordersB'])/\n",
    "         (mergedсumulativerevenue['revenueA']/mergedсumulativerevenue['ordersA'])-1)\n",
    "plt.axhline(y=0, color='red', linestyle='--')\n",
    "plt.grid(True)\n",
    "plt.title('График относительного изменения кумулятивного среднего чека группы B к группе A', \n",
    "          fontsize=20, fontname='Times New Roman')\n",
    "None"
   ]
  },
  {
   "cell_type": "markdown",
   "id": "92ed0f2e",
   "metadata": {},
   "source": [
    "Есть несколько дат, когда результаты теста значительно и резко менялись- верояно тогда и произошли аномальные выбросы."
   ]
  },
  {
   "cell_type": "markdown",
   "id": "075842e1",
   "metadata": {},
   "source": [
    "#### График кумулятивной конверсии по группам"
   ]
  },
  {
   "cell_type": "markdown",
   "id": "757e78ce",
   "metadata": {},
   "source": [
    "Добавим в cumulativedata столбец 'conversion' c отношением числа заказов к количеству пользователей в указанной группе в указанный день."
   ]
  },
  {
   "cell_type": "code",
   "execution_count": 23,
   "id": "0496d349",
   "metadata": {},
   "outputs": [],
   "source": [
    "cumulativedata['conversion'] = cumulativedata['orders']/cumulativedata['visitors']"
   ]
  },
  {
   "cell_type": "markdown",
   "id": "c80d6517",
   "metadata": {},
   "source": [
    "Сохраним в переменных cumulativedata_a и cumulativedata_b данные о заказах в группах А и B и построим график."
   ]
  },
  {
   "cell_type": "code",
   "execution_count": 24,
   "id": "fdc9b67f",
   "metadata": {},
   "outputs": [
    {
     "data": {
      "image/png": "[encoded data removed]",
      "text/plain": [
       "<Figure size 720x576 with 1 Axes>"
      ]
     },
     "metadata": {
      "needs_background": "light"
     },
     "output_type": "display_data"
    }
   ],
   "source": [
    "cumulativedata_a = cumulativedata[cumulativedata['group']=='A']\n",
    "cumulativedata_b = cumulativedata[cumulativedata['group']=='B']\n",
    "plt.figure(figsize =(10, 8)) \n",
    "plt.plot(cumulativedata_a ['date'],cumulativedata_a ['conversion'], label='A')\n",
    "plt.plot(cumulativedata_b['date'], cumulativedata_b['conversion'], label='B')\n",
    "plt.legend()\n",
    "plt.grid(True)\n",
    "plt.title('График кумулятивной конверсии по группам', fontsize=20, fontname='Times New Roman')\n",
    "None"
   ]
  },
  {
   "cell_type": "markdown",
   "id": "f23e9516",
   "metadata": {},
   "source": [
    "В начале большее значение имела группа А, затем значения резко снизились и лидером стала группа B. Построим:\n",
    "#### График относительного изменения кумулятивной конверсии группы B к группе A"
   ]
  },
  {
   "cell_type": "markdown",
   "id": "6c2ebce7",
   "metadata": {},
   "source": [
    "Создадим переменную mergedсumulativeсonversion, объединив таблицы cumulativedata_a и cumulativedata_b и построим график."
   ]
  },
  {
   "cell_type": "code",
   "execution_count": 25,
   "id": "85225d1a",
   "metadata": {},
   "outputs": [
    {
     "data": {
      "image/png": "[encoded data removed]",
      "text/plain": [
       "<Figure size 720x576 with 1 Axes>"
      ]
     },
     "metadata": {
      "needs_background": "light"
     },
     "output_type": "display_data"
    }
   ],
   "source": [
    "mergedсumulativeсonversion = cumulativedata_a[['date','conversion']].merge(cumulativedata_b[['date','conversion']],\n",
    "left_on='date', right_on='date', how='left', suffixes=['A', 'B'])\n",
    "plt.figure(figsize =(10, 8)) \n",
    "plt.plot (mergedсumulativeсonversion['date'], \n",
    "mergedсumulativeсonversion['conversionB']/ mergedсumulativeсonversion['conversionA']-1)\n",
    "plt.axhline(y=0, color='red', linestyle='--')\n",
    "plt.axhline(y=0.1, color='grey', linestyle='--')\n",
    "plt.title('График относительного изменения кумулятивной конверсии группы B к группе A',fontsize=20, fontname='Times New Roman')\n",
    "\n",
    "None"
   ]
  },
  {
   "cell_type": "markdown",
   "id": "71ac1900",
   "metadata": {},
   "source": [
    "Группа B лидирует по конверсии, показатели конверсии меняются от 10 до 20% прироста, но можно сказать, что группа B точно показывает прирост 10% ."
   ]
  },
  {
   "cell_type": "markdown",
   "id": "50de51cd",
   "metadata": {},
   "source": [
    "#### Точечный график количества заказов по пользователям"
   ]
  },
  {
   "cell_type": "code",
   "execution_count": 26,
   "id": "a44991ba",
   "metadata": {},
   "outputs": [
    {
     "data": {
      "image/png": "[encoded data removed]",
      "text/plain": [
       "<Figure size 720x576 with 1 Axes>"
      ]
     },
     "metadata": {
      "needs_background": "light"
     },
     "output_type": "display_data"
    }
   ],
   "source": [
    "ordersbyusers = orders.groupby('visitorid', as_index=False).agg({'transactionid': 'nunique'})\n",
    "ordersbyusers.columns = ['visitorid', 'orders']\n",
    "x_values = pd.Series(range(0, len(ordersbyusers)))\n",
    "plt.figure(figsize=(10, 8))\n",
    "plt.scatter(x_values, ordersbyusers['orders'], alpha = 0.5)\n",
    "plt.title('Точечный график количества заказов по пользователям', fontsize=20, fontname='Times New Roman')\n",
    "plt.xlabel('Сгенерированные номера наблюдений')\n",
    "plt.ylabel('Количество заказов')\n",
    "None"
   ]
  },
  {
   "cell_type": "markdown",
   "id": "c8934b87",
   "metadata": {},
   "source": [
    "Пользователей, заказавших более 2х раз- совсем немного. Проверим являются ли они аномальными, посчитав выборочные перцентили."
   ]
  },
  {
   "cell_type": "markdown",
   "id": "6d482c7d",
   "metadata": {},
   "source": [
    "#### Определение аномальных пользователей"
   ]
  },
  {
   "cell_type": "code",
   "execution_count": 27,
   "id": "c7fb569f",
   "metadata": {},
   "outputs": [
    {
     "data": {
      "text/plain": [
       "array([2., 4.])"
      ]
     },
     "execution_count": 27,
     "metadata": {},
     "output_type": "execute_result"
    }
   ],
   "source": [
    "np.percentile(ordersbyusers['orders'], [95, 99])"
   ]
  },
  {
   "cell_type": "markdown",
   "id": "0961e71f",
   "metadata": {},
   "source": [
    "Не более 5% пользователей совершало больше 2х заказов и не более 1% - больше 4х заказов. "
   ]
  },
  {
   "cell_type": "markdown",
   "id": "3957da10",
   "metadata": {},
   "source": [
    "#### Построим график стоимостей заказов"
   ]
  },
  {
   "cell_type": "code",
   "execution_count": 28,
   "id": "d5d4b008",
   "metadata": {},
   "outputs": [
    {
     "data": {
      "image/png": "[encoded data removed]",
      "text/plain": [
       "<Figure size 720x576 with 1 Axes>"
      ]
     },
     "metadata": {
      "needs_background": "light"
     },
     "output_type": "display_data"
    }
   ],
   "source": [
    "x_values = pd.Series(range(0, len(orders['revenue'])))\n",
    "plt.figure(figsize=(10, 8))\n",
    "plt.scatter(x_values, orders['revenue'],alpha = 0.5) \n",
    "plt.title('Точечный график стоимостей заказов', fontsize=20, fontname='Times New Roman')\n",
    "plt.xlabel('Сгенерированные номера наблюдений')\n",
    "plt.ylabel('Стоимость заказов')\n",
    "None"
   ]
  },
  {
   "cell_type": "markdown",
   "id": "657ed87c",
   "metadata": {},
   "source": [
    "Видим выбросы в районе 200 тыс руб и более 1.2. млн руб. Посчитаем перцентили:"
   ]
  },
  {
   "cell_type": "code",
   "execution_count": 29,
   "id": "a291ec80",
   "metadata": {},
   "outputs": [
    {
     "data": {
      "text/plain": [
       "array([28000. , 58233.2])"
      ]
     },
     "execution_count": 29,
     "metadata": {},
     "output_type": "execute_result"
    }
   ],
   "source": [
    "np.percentile(orders['revenue'], [95, 99])"
   ]
  },
  {
   "cell_type": "markdown",
   "id": "99a4016a",
   "metadata": {},
   "source": [
    "Не более 5% заказов дороже 28 тыс руб и не более 1% дороже 58233 руб.Посчитаем статистическую значимость различий в среднем числе заказов на пользователя и среднем чеке между группами по «сырым» данным — без удаления аномальных пользователей.\n",
    "\n",
    "Создадим переменные, в которых для пользователей будет указано число заказов:"
   ]
  },
  {
   "cell_type": "code",
   "execution_count": 30,
   "id": "859d62f2",
   "metadata": {},
   "outputs": [],
   "source": [
    "ordersbyusersa = (\n",
    "    orders[orders['group'] == 'A']\n",
    "    .groupby('visitorid', as_index=False)\n",
    "    .agg({'transactionid': pd.Series.nunique})\n",
    ")\n",
    "ordersbyusersa.columns = ['user_id', 'orders']\n",
    "\n",
    "ordersbyusersb = (\n",
    "    orders[orders['group'] == 'B']\n",
    "    .groupby('visitorid', as_index=False)\n",
    "    .agg({'transactionid': pd.Series.nunique})\n",
    ")\n",
    "ordersbyusersb.columns = ['user_id', 'orders']"
   ]
  },
  {
   "cell_type": "markdown",
   "id": "7edf228f",
   "metadata": {},
   "source": [
    "#### Посчитаем статистическую значимость различий в конверсии между группами по «сырым» данным."
   ]
  },
  {
   "cell_type": "markdown",
   "id": "f5480c4d",
   "metadata": {},
   "source": [
    "Создадим переменные в которых посчитаем количество по визитам и их кумулятивные показатели по группам."
   ]
  },
  {
   "cell_type": "code",
   "execution_count": 31,
   "id": "9d8df6c2",
   "metadata": {},
   "outputs": [
    {
     "data": {
      "text/html": [
       "<div>\n",
       "<style scoped>\n",
       "    .dataframe tbody tr th:only-of-type {\n",
       "        vertical-align: middle;\n",
       "    }\n",
       "\n",
       "    .dataframe tbody tr th {\n",
       "        vertical-align: top;\n",
       "    }\n",
       "\n",
       "    .dataframe thead th {\n",
       "        text-align: right;\n",
       "    }\n",
       "</style>\n",
       "<table border=\"1\" class=\"dataframe\">\n",
       "  <thead>\n",
       "    <tr style=\"text-align: right;\">\n",
       "      <th></th>\n",
       "      <th>date</th>\n",
       "      <th>visitors_cummulative_a</th>\n",
       "    </tr>\n",
       "  </thead>\n",
       "  <tbody>\n",
       "    <tr>\n",
       "      <th>0</th>\n",
       "      <td>2019-08-01</td>\n",
       "      <td>719</td>\n",
       "    </tr>\n",
       "    <tr>\n",
       "      <th>1</th>\n",
       "      <td>2019-08-02</td>\n",
       "      <td>1338</td>\n",
       "    </tr>\n",
       "    <tr>\n",
       "      <th>2</th>\n",
       "      <td>2019-08-03</td>\n",
       "      <td>1845</td>\n",
       "    </tr>\n",
       "    <tr>\n",
       "      <th>3</th>\n",
       "      <td>2019-08-04</td>\n",
       "      <td>2562</td>\n",
       "    </tr>\n",
       "    <tr>\n",
       "      <th>4</th>\n",
       "      <td>2019-08-05</td>\n",
       "      <td>3318</td>\n",
       "    </tr>\n",
       "  </tbody>\n",
       "</table>\n",
       "</div>"
      ],
      "text/plain": [
       "        date  visitors_cummulative_a\n",
       "0 2019-08-01                     719\n",
       "1 2019-08-02                    1338\n",
       "2 2019-08-03                    1845\n",
       "3 2019-08-04                    2562\n",
       "4 2019-08-05                    3318"
      ]
     },
     "execution_count": 31,
     "metadata": {},
     "output_type": "execute_result"
    }
   ],
   "source": [
    "visitorsadaily = visitors[visitors['group'] == 'A'][['date', 'visitors']]\n",
    "visitorsadaily.columns = ['date', 'visitors_date_a']\n",
    "\n",
    "visitorsacummulative = visitorsadaily.apply(\n",
    "    lambda x: visitorsadaily[visitorsadaily['date'] <= x['date']].agg({'date': 'max', 'visitors_date_a': 'sum'}),axis=1)\n",
    "visitorsacummulative.columns = ['date', 'visitors_cummulative_a']\n",
    "visitorsacummulative.head()"
   ]
  },
  {
   "cell_type": "code",
   "execution_count": 32,
   "id": "4813c0d0",
   "metadata": {},
   "outputs": [
    {
     "data": {
      "text/html": [
       "<div>\n",
       "<style scoped>\n",
       "    .dataframe tbody tr th:only-of-type {\n",
       "        vertical-align: middle;\n",
       "    }\n",
       "\n",
       "    .dataframe tbody tr th {\n",
       "        vertical-align: top;\n",
       "    }\n",
       "\n",
       "    .dataframe thead th {\n",
       "        text-align: right;\n",
       "    }\n",
       "</style>\n",
       "<table border=\"1\" class=\"dataframe\">\n",
       "  <thead>\n",
       "    <tr style=\"text-align: right;\">\n",
       "      <th></th>\n",
       "      <th>date</th>\n",
       "      <th>visitors_cummulative_b</th>\n",
       "    </tr>\n",
       "  </thead>\n",
       "  <tbody>\n",
       "    <tr>\n",
       "      <th>31</th>\n",
       "      <td>2019-08-01</td>\n",
       "      <td>713</td>\n",
       "    </tr>\n",
       "    <tr>\n",
       "      <th>32</th>\n",
       "      <td>2019-08-02</td>\n",
       "      <td>1294</td>\n",
       "    </tr>\n",
       "    <tr>\n",
       "      <th>33</th>\n",
       "      <td>2019-08-03</td>\n",
       "      <td>1803</td>\n",
       "    </tr>\n",
       "    <tr>\n",
       "      <th>34</th>\n",
       "      <td>2019-08-04</td>\n",
       "      <td>2573</td>\n",
       "    </tr>\n",
       "    <tr>\n",
       "      <th>35</th>\n",
       "      <td>2019-08-05</td>\n",
       "      <td>3280</td>\n",
       "    </tr>\n",
       "  </tbody>\n",
       "</table>\n",
       "</div>"
      ],
      "text/plain": [
       "         date  visitors_cummulative_b\n",
       "31 2019-08-01                     713\n",
       "32 2019-08-02                    1294\n",
       "33 2019-08-03                    1803\n",
       "34 2019-08-04                    2573\n",
       "35 2019-08-05                    3280"
      ]
     },
     "execution_count": 32,
     "metadata": {},
     "output_type": "execute_result"
    }
   ],
   "source": [
    "visitorsbdaily = visitors[visitors['group'] == 'B'][['date', 'visitors']]\n",
    "visitorsbdaily.columns = ['date', 'visitors_date_b']\n",
    "\n",
    "visitorsbcummulative = visitorsbdaily.apply(\n",
    "    lambda x: visitorsbdaily[visitorsbdaily['date'] <= x['date']].agg({'date': 'max', 'visitors_date_b': 'sum'}),axis=1)\n",
    "visitorsbcummulative.columns = ['date', 'visitors_cummulative_b']\n",
    "visitorsbcummulative.head()"
   ]
  },
  {
   "cell_type": "markdown",
   "id": "f7bf9599",
   "metadata": {},
   "source": [
    "Создадим переменные, в которых посчитаем стоимость заказа на каждую дату для обеих групп."
   ]
  },
  {
   "cell_type": "code",
   "execution_count": 33,
   "id": "9f3bee6b",
   "metadata": {},
   "outputs": [
    {
     "data": {
      "text/html": [
       "<div>\n",
       "<style scoped>\n",
       "    .dataframe tbody tr th:only-of-type {\n",
       "        vertical-align: middle;\n",
       "    }\n",
       "\n",
       "    .dataframe tbody tr th {\n",
       "        vertical-align: top;\n",
       "    }\n",
       "\n",
       "    .dataframe thead th {\n",
       "        text-align: right;\n",
       "    }\n",
       "</style>\n",
       "<table border=\"1\" class=\"dataframe\">\n",
       "  <thead>\n",
       "    <tr style=\"text-align: right;\">\n",
       "      <th></th>\n",
       "      <th>date</th>\n",
       "      <th>orders_cum_a</th>\n",
       "      <th>revenue_cum_a</th>\n",
       "    </tr>\n",
       "  </thead>\n",
       "  <tbody>\n",
       "    <tr>\n",
       "      <th>0</th>\n",
       "      <td>2019-08-01</td>\n",
       "      <td>24</td>\n",
       "      <td>148579</td>\n",
       "    </tr>\n",
       "    <tr>\n",
       "      <th>1</th>\n",
       "      <td>2019-08-02</td>\n",
       "      <td>44</td>\n",
       "      <td>242401</td>\n",
       "    </tr>\n",
       "    <tr>\n",
       "      <th>2</th>\n",
       "      <td>2019-08-03</td>\n",
       "      <td>68</td>\n",
       "      <td>354874</td>\n",
       "    </tr>\n",
       "    <tr>\n",
       "      <th>3</th>\n",
       "      <td>2019-08-04</td>\n",
       "      <td>84</td>\n",
       "      <td>425699</td>\n",
       "    </tr>\n",
       "    <tr>\n",
       "      <th>4</th>\n",
       "      <td>2019-08-05</td>\n",
       "      <td>109</td>\n",
       "      <td>549917</td>\n",
       "    </tr>\n",
       "  </tbody>\n",
       "</table>\n",
       "</div>"
      ],
      "text/plain": [
       "        date  orders_cum_a  revenue_cum_a\n",
       "0 2019-08-01            24         148579\n",
       "1 2019-08-02            44         242401\n",
       "2 2019-08-03            68         354874\n",
       "3 2019-08-04            84         425699\n",
       "4 2019-08-05           109         549917"
      ]
     },
     "execution_count": 33,
     "metadata": {},
     "output_type": "execute_result"
    }
   ],
   "source": [
    "ordersadaily = orders[orders['group'] == 'A'][['date', 'transactionid', 'visitorid', 'revenue']].groupby(\n",
    "    'date', as_index=False).agg({'transactionid': pd.Series.nunique, 'revenue': 'sum'})\n",
    "\n",
    "ordersadaily.columns = ['date', 'orders_date_a', 'revenue_date_a']\n",
    "\n",
    "ordersacummulative = ordersadaily.apply(\n",
    "    lambda x: ordersadaily[ordersadaily['date'] <= x['date']].agg\n",
    "    ({'date': 'max', 'orders_date_a': 'sum', 'revenue_date_a': 'sum'}),axis=1).sort_values(by=['date'])\n",
    "\n",
    "ordersacummulative.columns = ['date','orders_cum_a','revenue_cum_a']\n",
    "ordersacummulative.head()"
   ]
  },
  {
   "cell_type": "code",
   "execution_count": 34,
   "id": "222445ae",
   "metadata": {},
   "outputs": [
    {
     "data": {
      "text/html": [
       "<div>\n",
       "<style scoped>\n",
       "    .dataframe tbody tr th:only-of-type {\n",
       "        vertical-align: middle;\n",
       "    }\n",
       "\n",
       "    .dataframe tbody tr th {\n",
       "        vertical-align: top;\n",
       "    }\n",
       "\n",
       "    .dataframe thead th {\n",
       "        text-align: right;\n",
       "    }\n",
       "</style>\n",
       "<table border=\"1\" class=\"dataframe\">\n",
       "  <thead>\n",
       "    <tr style=\"text-align: right;\">\n",
       "      <th></th>\n",
       "      <th>date</th>\n",
       "      <th>orders_cum_b</th>\n",
       "      <th>revenue_cum_b</th>\n",
       "    </tr>\n",
       "  </thead>\n",
       "  <tbody>\n",
       "    <tr>\n",
       "      <th>0</th>\n",
       "      <td>2019-08-01</td>\n",
       "      <td>21</td>\n",
       "      <td>101217</td>\n",
       "    </tr>\n",
       "    <tr>\n",
       "      <th>1</th>\n",
       "      <td>2019-08-02</td>\n",
       "      <td>45</td>\n",
       "      <td>266748</td>\n",
       "    </tr>\n",
       "    <tr>\n",
       "      <th>2</th>\n",
       "      <td>2019-08-03</td>\n",
       "      <td>61</td>\n",
       "      <td>380996</td>\n",
       "    </tr>\n",
       "    <tr>\n",
       "      <th>3</th>\n",
       "      <td>2019-08-04</td>\n",
       "      <td>78</td>\n",
       "      <td>489567</td>\n",
       "    </tr>\n",
       "    <tr>\n",
       "      <th>4</th>\n",
       "      <td>2019-08-05</td>\n",
       "      <td>101</td>\n",
       "      <td>581995</td>\n",
       "    </tr>\n",
       "  </tbody>\n",
       "</table>\n",
       "</div>"
      ],
      "text/plain": [
       "        date  orders_cum_b  revenue_cum_b\n",
       "0 2019-08-01            21         101217\n",
       "1 2019-08-02            45         266748\n",
       "2 2019-08-03            61         380996\n",
       "3 2019-08-04            78         489567\n",
       "4 2019-08-05           101         581995"
      ]
     },
     "execution_count": 34,
     "metadata": {},
     "output_type": "execute_result"
    }
   ],
   "source": [
    "ordersbdaily = orders[orders['group'] == 'B'][['date', 'transactionid', 'visitorid', 'revenue']].groupby(\n",
    "'date', as_index=False).agg({'transactionid': pd.Series.nunique, 'revenue': 'sum'})\n",
    "\n",
    "ordersbdaily.columns = ['date', 'orders_date_b', 'revenue_date_b']\n",
    "\n",
    "ordersbcummulative = ordersbdaily.apply(\n",
    "    lambda x: ordersbdaily[ordersbdaily['date'] <= x['date']].agg\n",
    "        ({'date': 'max', 'orders_date_b': 'sum', 'revenue_date_b': 'sum'}),axis=1).sort_values(by=['date'])\n",
    "\n",
    "ordersbcummulative.columns = [\n",
    "    'date',\n",
    "    'orders_cum_b',\n",
    "    'revenue_cum_b',\n",
    "]\n",
    "ordersbcummulative.head()"
   ]
  },
  {
   "cell_type": "markdown",
   "id": "e7851885",
   "metadata": {},
   "source": [
    "Соединим все таблицы вместе:"
   ]
  },
  {
   "cell_type": "code",
   "execution_count": 35,
   "id": "10e4873f",
   "metadata": {},
   "outputs": [
    {
     "data": {
      "text/html": [
       "<div>\n",
       "<style scoped>\n",
       "    .dataframe tbody tr th:only-of-type {\n",
       "        vertical-align: middle;\n",
       "    }\n",
       "\n",
       "    .dataframe tbody tr th {\n",
       "        vertical-align: top;\n",
       "    }\n",
       "\n",
       "    .dataframe thead th {\n",
       "        text-align: right;\n",
       "    }\n",
       "</style>\n",
       "<table border=\"1\" class=\"dataframe\">\n",
       "  <thead>\n",
       "    <tr style=\"text-align: right;\">\n",
       "      <th></th>\n",
       "      <th>date</th>\n",
       "      <th>orders_date_a</th>\n",
       "      <th>revenue_date_a</th>\n",
       "      <th>orders_date_b</th>\n",
       "      <th>revenue_date_b</th>\n",
       "      <th>orders_cum_a</th>\n",
       "      <th>revenue_cum_a</th>\n",
       "      <th>orders_cum_b</th>\n",
       "      <th>revenue_cum_b</th>\n",
       "      <th>visitors_date_a</th>\n",
       "      <th>visitors_date_b</th>\n",
       "      <th>visitors_cummulative_a</th>\n",
       "      <th>visitors_cummulative_b</th>\n",
       "    </tr>\n",
       "  </thead>\n",
       "  <tbody>\n",
       "    <tr>\n",
       "      <th>0</th>\n",
       "      <td>2019-08-01</td>\n",
       "      <td>24</td>\n",
       "      <td>148579</td>\n",
       "      <td>21</td>\n",
       "      <td>101217</td>\n",
       "      <td>24</td>\n",
       "      <td>148579</td>\n",
       "      <td>21</td>\n",
       "      <td>101217</td>\n",
       "      <td>719</td>\n",
       "      <td>713</td>\n",
       "      <td>719</td>\n",
       "      <td>713</td>\n",
       "    </tr>\n",
       "    <tr>\n",
       "      <th>1</th>\n",
       "      <td>2019-08-02</td>\n",
       "      <td>20</td>\n",
       "      <td>93822</td>\n",
       "      <td>24</td>\n",
       "      <td>165531</td>\n",
       "      <td>44</td>\n",
       "      <td>242401</td>\n",
       "      <td>45</td>\n",
       "      <td>266748</td>\n",
       "      <td>619</td>\n",
       "      <td>581</td>\n",
       "      <td>1338</td>\n",
       "      <td>1294</td>\n",
       "    </tr>\n",
       "    <tr>\n",
       "      <th>2</th>\n",
       "      <td>2019-08-03</td>\n",
       "      <td>24</td>\n",
       "      <td>112473</td>\n",
       "      <td>16</td>\n",
       "      <td>114248</td>\n",
       "      <td>68</td>\n",
       "      <td>354874</td>\n",
       "      <td>61</td>\n",
       "      <td>380996</td>\n",
       "      <td>507</td>\n",
       "      <td>509</td>\n",
       "      <td>1845</td>\n",
       "      <td>1803</td>\n",
       "    </tr>\n",
       "    <tr>\n",
       "      <th>3</th>\n",
       "      <td>2019-08-04</td>\n",
       "      <td>16</td>\n",
       "      <td>70825</td>\n",
       "      <td>17</td>\n",
       "      <td>108571</td>\n",
       "      <td>84</td>\n",
       "      <td>425699</td>\n",
       "      <td>78</td>\n",
       "      <td>489567</td>\n",
       "      <td>717</td>\n",
       "      <td>770</td>\n",
       "      <td>2562</td>\n",
       "      <td>2573</td>\n",
       "    </tr>\n",
       "    <tr>\n",
       "      <th>4</th>\n",
       "      <td>2019-08-05</td>\n",
       "      <td>25</td>\n",
       "      <td>124218</td>\n",
       "      <td>23</td>\n",
       "      <td>92428</td>\n",
       "      <td>109</td>\n",
       "      <td>549917</td>\n",
       "      <td>101</td>\n",
       "      <td>581995</td>\n",
       "      <td>756</td>\n",
       "      <td>707</td>\n",
       "      <td>3318</td>\n",
       "      <td>3280</td>\n",
       "    </tr>\n",
       "  </tbody>\n",
       "</table>\n",
       "</div>"
      ],
      "text/plain": [
       "        date  orders_date_a  revenue_date_a  orders_date_b  revenue_date_b  \\\n",
       "0 2019-08-01             24          148579             21          101217   \n",
       "1 2019-08-02             20           93822             24          165531   \n",
       "2 2019-08-03             24          112473             16          114248   \n",
       "3 2019-08-04             16           70825             17          108571   \n",
       "4 2019-08-05             25          124218             23           92428   \n",
       "\n",
       "   orders_cum_a  revenue_cum_a  orders_cum_b  revenue_cum_b  visitors_date_a  \\\n",
       "0            24         148579            21         101217              719   \n",
       "1            44         242401            45         266748              619   \n",
       "2            68         354874            61         380996              507   \n",
       "3            84         425699            78         489567              717   \n",
       "4           109         549917           101         581995              756   \n",
       "\n",
       "   visitors_date_b  visitors_cummulative_a  visitors_cummulative_b  \n",
       "0              713                     719                     713  \n",
       "1              581                    1338                    1294  \n",
       "2              509                    1845                    1803  \n",
       "3              770                    2562                    2573  \n",
       "4              707                    3318                    3280  "
      ]
     },
     "execution_count": 35,
     "metadata": {},
     "output_type": "execute_result"
    }
   ],
   "source": [
    "data = ordersadaily.merge(ordersbdaily, left_on='date', right_on='date', how='left')\\\n",
    "    .merge(ordersacummulative, left_on='date', right_on='date', how='left')\\\n",
    "    .merge(ordersbcummulative, left_on='date', right_on='date', how='left')\\\n",
    "    .merge(visitorsadaily, left_on='date', right_on='date', how='left')\\\n",
    "    .merge(visitorsbdaily, left_on='date', right_on='date', how='left')\\\n",
    "    .merge(visitorsacummulative, left_on='date', right_on='date', how='left')\\\n",
    "    .merge(visitorsbcummulative, left_on='date', right_on='date', how='left')\n",
    "data.head()"
   ]
  },
  {
   "cell_type": "markdown",
   "id": "4e75d2e3",
   "metadata": {},
   "source": [
    "Объявим переменные sample_a и sample_b, в которых пользователям с заказами будет соответствовать число заказов пользователя. А пользователям без заказов — нули. \n",
    "\n",
    "Каждый элемент — число заказов определённого пользователя, в том числе ноль. Значит, число элементов sample_a — это количество пользователей, сумма всех элементов — количество заказов. Чтобы получить среднее число заказов на пользователя, поделим сумму заказов на число пользователей — найдём среднее в выборке sample_a методом mean(). Аналогично найдём среднее группы B: SampleB.mean().\n",
    "Выведем относительный прирост среднего числа заказов группы B: среднее число заказов группы B / среднее число заказов группы A - 1. \n",
    "\n",
    "Нулевая гипотеза: cтатистически значимых различий в среднем между группами нет. Альтернативная гипотеза: различия в среднем между группами есть. Пороговое значение - 5% (alpha=0.05)."
   ]
  },
  {
   "cell_type": "code",
   "execution_count": 36,
   "id": "c13600c9",
   "metadata": {},
   "outputs": [
    {
     "name": "stdout",
     "output_type": "stream",
     "text": [
      "p-value = 0.017\n",
      "Относительный прирост группы B к группе A = 0.138\n"
     ]
    }
   ],
   "source": [
    "sample_a = pd.concat([ordersbyusersa['orders'],\n",
    "                      pd.Series(0, index=np.arange(data['visitors_date_a'].sum() - len(ordersbyusersa['orders'])), \n",
    "                                name='orders')],axis=0)\n",
    "sample_b = pd.concat([ordersbyusersb['orders'],\n",
    "                      pd.Series(0, index=np.arange(data['visitors_date_b'].sum() - len(ordersbyusersb['orders'])), \n",
    "                                name='orders')],axis=0)\n",
    "\n",
    "print('p-value = {0:.3f}'.format(stats.mannwhitneyu(sample_a, sample_b)[1]))\n",
    "\n",
    "print('Относительный прирост группы B к группе A = {0:.3f}'.format(sample_b.mean() / sample_a.mean() - 1))"
   ]
  },
  {
   "cell_type": "markdown",
   "id": "fc44358e",
   "metadata": {},
   "source": [
    "p-value меньше 0.05, значит, нулевую гипотезу о том, что статистически значимых различий в среднем числе заказов между группами нет можем отвергнуть, т.е. по \"сырым данным\" в конверсии между группами есть различие. Относительный прирост среднего группы B  к конверсии группы A - 13.8%. \n",
    "Осталось сравнить средние чеки по \"сырым данным\", а затем еще раз-после удаления выбросов."
   ]
  },
  {
   "cell_type": "markdown",
   "id": "ef32ee6d",
   "metadata": {},
   "source": [
    "#### Посчитаем  статистическую значимость различий в среднем чеке заказа между группами по «сырым» данным"
   ]
  },
  {
   "cell_type": "markdown",
   "id": "269746cc",
   "metadata": {},
   "source": [
    "Чтобы рассчитать статистическую значимость различий в среднем чеке, передадим критерию mannwhitneyu() данные о выручке с заказов.\n",
    "А ещё найдём относительные различия в среднем чеке между группами\n",
    "Нулевая гипотеза: различий в среднем чеке между группами нет. Альтернативная гипотеза: различия в среднем чеке между группами есть. Пороговое значение - 5% (alpha=0.05)."
   ]
  },
  {
   "cell_type": "code",
   "execution_count": 37,
   "id": "a3b51ffe",
   "metadata": {},
   "outputs": [
    {
     "name": "stdout",
     "output_type": "stream",
     "text": [
      "p_value = 0.729\n",
      "Статистическая значимость различий = 0.259\n"
     ]
    }
   ],
   "source": [
    "print('p_value = {0:.3f}'.format\n",
    "      (stats.mannwhitneyu(orders[orders['group']=='A']['revenue'], orders[orders['group']=='B']['revenue'])[1]))\n",
    "print('Статистическая значимость различий = {0:.3f}'.format\n",
    "      (orders[orders['group']=='B']['revenue'].mean()/orders[orders['group']=='A']['revenue'].mean()-1)) "
   ]
  },
  {
   "cell_type": "markdown",
   "id": "b85cf488",
   "metadata": {},
   "source": [
    "p_value больше 0.05, мы не можем отвергунть нулевую гипотезу. При этом относительный прирост среднего чека группы B  - 25.9%. \n",
    "Это очень много. Вероятно очищенные данные покажут нам другую картину.\n",
    "\n",
    "Мы помним, что у нас не более 5% пользователей совершало больше 2х заказов и не более 1% - больше 4х заказов. \n",
    "\n",
    "Не более 5% заказов дороже 28 тыс руб и не более 1% дороже 58233 руб.\n",
    "\n",
    "Примем за аномальных пользователей тех, кто совершил 4 заказа и более на сумму более 30 тыс руб. Так мы уберём 1% пользователей с наибольшим числом заказов и от 1% до 5% заказов с наибольшей стоимостью.\n",
    "Cоздадим срезы таких пользователей и объедингим их в общую таблицу."
   ]
  },
  {
   "cell_type": "code",
   "execution_count": 38,
   "id": "d0aa386a",
   "metadata": {},
   "outputs": [],
   "source": [
    "# много заказов\n",
    "many_orders = pd.concat([ordersbyusersa[ordersbyusersa['orders'] >3]['user_id'],\n",
    "        ordersbyusersb[ordersbyusersb['orders'] >3]['user_id']],axis=0)\n",
    "# дорогие заказы\n",
    "expensive_orders = orders[orders['revenue'] > 30000]['visitorid']\n",
    "\n",
    "# аномальные пользователи\n",
    "anomal_users = pd.concat([many_orders, expensive_orders], axis=0).drop_duplicates().sort_values()"
   ]
  },
  {
   "cell_type": "markdown",
   "id": "c85e00dd",
   "metadata": {},
   "source": [
    "#### Посчитаем статистическую значимость различия конверсии по \"очищенным\" данным."
   ]
  },
  {
   "cell_type": "markdown",
   "id": "465e5a2b",
   "metadata": {},
   "source": [
    "Создадим переменные с \"очищенными\" данными и посчитаем статистическую значимость различия."
   ]
  },
  {
   "cell_type": "code",
   "execution_count": 39,
   "id": "2a7ef7f1",
   "metadata": {},
   "outputs": [
    {
     "name": "stdout",
     "output_type": "stream",
     "text": [
      "p-value = 0.018\n",
      "Относительный прирост группы B к группе A = 0.148\n"
     ]
    }
   ],
   "source": [
    "sample_a_filtr = pd.concat([ordersbyusersa[np.logical_not(ordersbyusersa['user_id'].isin(anomal_users))]['orders'],\n",
    "                      pd.Series(0, index=np.arange(data['visitors_date_a'].sum() - len(ordersbyusersa['orders'])),\n",
    "                                 name='orders')],axis=0)\n",
    "sample_b_filtr = pd.concat([ordersbyusersb[np.logical_not(ordersbyusersb['user_id'].isin(anomal_users))]['orders'],\n",
    "                      pd.Series(0, index=np.arange(data['visitors_date_b'].sum() - len(ordersbyusersb['orders'])), \n",
    "                                name='orders')],axis=0)\n",
    "\n",
    "print('p-value = {0:.3f}'.format(stats.mannwhitneyu(sample_a_filtr, sample_b_filtr)[1]))\n",
    "\n",
    "print('Относительный прирост группы B к группе A = {0:.3f}'.format(sample_b_filtr.mean() / sample_a_filtr.mean() - 1))"
   ]
  },
  {
   "cell_type": "markdown",
   "id": "dcc5961e",
   "metadata": {},
   "source": [
    "p-value меньше 0.05, значит нулевую гипотезу отвергаем. Относительный прирост группы B к группе A  - 14.8% (выше, чем по \"сырым данным\", где было 13.8%). В любом случае мы убедились, что группа B лучше группы A."
   ]
  },
  {
   "cell_type": "markdown",
   "id": "693b4234",
   "metadata": {},
   "source": [
    "#### Посчитаем статистическую значимость различий в среднем чеке заказа между группами по «очищенным» данным. "
   ]
  },
  {
   "cell_type": "code",
   "execution_count": 40,
   "id": "4f94e0b5",
   "metadata": {},
   "outputs": [
    {
     "name": "stdout",
     "output_type": "stream",
     "text": [
      "p_value = 0.958\n",
      "Статистическая значимость различий = -0.020\n"
     ]
    }
   ],
   "source": [
    "print('p_value = {0:.3f}'.format\n",
    "      (stats.mannwhitneyu(orders[np.logical_and(orders['group']=='A', \n",
    "                                                np.logical_not(orders['visitorid'].isin(anomal_users)))]['revenue'], \n",
    "                          orders[np.logical_and(orders['group']=='B',\n",
    "                                                np.logical_not(orders['visitorid'].isin(anomal_users)))]['revenue'])[1]))  \n",
    "\n",
    "\n",
    "print('Статистическая значимость различий = {0:.3f}'.format\n",
    "      (orders[np.logical_and(orders['group']=='B', \n",
    "                             np.logical_not(orders['visitorid'].isin(anomal_users)))]['revenue'].mean()\n",
    "       /orders[np.logical_and(orders['group']=='A',\n",
    "                             np.logical_not(orders['visitorid'].isin(anomal_users)))]['revenue'].mean()-1)) "
   ]
  },
  {
   "cell_type": "markdown",
   "id": "a6fd93f6",
   "metadata": {},
   "source": [
    "p_value почти равно единице, значит нулевую гипотезу не отвергаем, как и при анализе по \"сырым\" данным.\n",
    "\n",
    "Средний чек группы B на 2% ниже, чем средний чек группы A. Хотя в \"сырых данных\" он был больше на 25.9%, на него влияли аномальные данные, которые мы исключили."
   ]
  },
  {
   "cell_type": "markdown",
   "id": "51e04e0d",
   "metadata": {},
   "source": [
    "#### Решение по результатам теста"
   ]
  },
  {
   "cell_type": "markdown",
   "id": "46e9e60c",
   "metadata": {},
   "source": [
    "У нас есть три варианта решений:\n",
    "1. Остановить тест, зафиксировать победу одной из групп. \n",
    "2. Остановить тест, зафиксировать отсутствие различий между группами. \n",
    "3. Продолжить тест.\n",
    "\n",
    "Мы не будем брать в расчет различия в средних чеках между группами, так как и по сырым и по очищенным данным - мы не можем отвергнуть нулевую гипотезу, что различий в среднем чеке между группами нет.\n",
    "\n",
    "При этом, по результатам анализа конверсий между группами, и по очищенным данным и по сырым - мы отвергли нулеую гипотезу, то есть отличия в конверсии есть. Относительный прирост по сырым данным - 13.8%, а по очищенным даже выше - 14.8%.\n",
    "Это говорит о том, что мы однозначно можем выбрать первый вариант решения и зафиксировать победу группы B над группой A."
   ]
  }
 ],
 "metadata": {
  "ExecuteTimeLog": [
   {
    "duration": 1201,
    "start_time": "2022-08-04T09:44:14.916Z"
   },
   {
    "duration": 39,
    "start_time": "2022-08-04T09:44:16.119Z"
   },
   {
    "duration": 12,
    "start_time": "2022-08-04T09:44:16.160Z"
   },
   {
    "duration": 54,
    "start_time": "2022-08-04T09:44:16.174Z"
   },
   {
    "duration": 10,
    "start_time": "2022-08-04T09:44:16.230Z"
   },
   {
    "duration": 24,
    "start_time": "2022-08-04T09:44:16.241Z"
   },
   {
    "duration": 9,
    "start_time": "2022-08-04T09:44:16.267Z"
   },
   {
    "duration": 13,
    "start_time": "2022-08-04T09:44:16.278Z"
   },
   {
    "duration": 26,
    "start_time": "2022-08-04T09:44:16.292Z"
   },
   {
    "duration": 10,
    "start_time": "2022-08-04T09:44:16.320Z"
   },
   {
    "duration": 6,
    "start_time": "2022-08-04T09:44:16.331Z"
   },
   {
    "duration": 13,
    "start_time": "2022-08-04T09:44:16.338Z"
   },
   {
    "duration": 5,
    "start_time": "2022-08-04T09:44:16.353Z"
   },
   {
    "duration": 13,
    "start_time": "2022-08-04T09:44:16.360Z"
   },
   {
    "duration": 33,
    "start_time": "2022-08-04T09:44:16.375Z"
   },
   {
    "duration": 169,
    "start_time": "2022-08-04T09:44:16.410Z"
   },
   {
    "duration": 132,
    "start_time": "2022-08-04T09:44:16.580Z"
   },
   {
    "duration": 6,
    "start_time": "2022-08-04T09:44:16.715Z"
   },
   {
    "duration": 333,
    "start_time": "2022-08-04T09:44:16.723Z"
   },
   {
    "duration": 238,
    "start_time": "2022-08-04T09:44:17.057Z"
   },
   {
    "duration": 18,
    "start_time": "2022-08-04T09:44:17.296Z"
   },
   {
    "duration": 344,
    "start_time": "2022-08-04T09:44:17.316Z"
   },
   {
    "duration": 4,
    "start_time": "2022-08-04T09:44:17.661Z"
   },
   {
    "duration": 252,
    "start_time": "2022-08-04T09:44:17.667Z"
   },
   {
    "duration": 333,
    "start_time": "2022-08-04T09:44:17.921Z"
   },
   {
    "duration": 173,
    "start_time": "2022-08-04T09:44:18.255Z"
   },
   {
    "duration": 5,
    "start_time": "2022-08-04T09:44:18.430Z"
   },
   {
    "duration": 192,
    "start_time": "2022-08-04T09:44:18.439Z"
   },
   {
    "duration": 5,
    "start_time": "2022-08-04T09:44:18.633Z"
   },
   {
    "duration": 202,
    "start_time": "2022-08-04T09:44:18.640Z"
   },
   {
    "duration": 128,
    "start_time": "2022-08-04T09:44:18.844Z"
   },
   {
    "duration": 64,
    "start_time": "2022-08-04T09:44:18.974Z"
   },
   {
    "duration": 77,
    "start_time": "2022-08-04T09:44:19.039Z"
   },
   {
    "duration": 93,
    "start_time": "2022-08-04T09:44:19.118Z"
   },
   {
    "duration": 29,
    "start_time": "2022-08-04T09:44:19.213Z"
   },
   {
    "duration": 26,
    "start_time": "2022-08-04T09:44:19.243Z"
   },
   {
    "duration": 34,
    "start_time": "2022-08-04T09:44:19.270Z"
   },
   {
    "duration": 10,
    "start_time": "2022-08-04T09:44:19.306Z"
   },
   {
    "duration": 31,
    "start_time": "2022-08-04T09:44:19.318Z"
   },
   {
    "duration": 13,
    "start_time": "2022-08-04T09:44:19.351Z"
   },
   {
    "duration": 9,
    "start_time": "2022-08-04T09:51:56.529Z"
   },
   {
    "duration": 51,
    "start_time": "2022-08-24T16:31:25.405Z"
   },
   {
    "duration": 1503,
    "start_time": "2022-08-24T16:31:34.269Z"
   },
   {
    "duration": 92,
    "start_time": "2022-08-24T16:31:35.775Z"
   },
   {
    "duration": 11,
    "start_time": "2022-08-24T16:31:35.869Z"
   },
   {
    "duration": 87,
    "start_time": "2022-08-24T16:31:35.882Z"
   },
   {
    "duration": 11,
    "start_time": "2022-08-24T16:31:35.972Z"
   },
   {
    "duration": 67,
    "start_time": "2022-08-24T16:31:35.985Z"
   },
   {
    "duration": 11,
    "start_time": "2022-08-24T16:31:36.054Z"
   },
   {
    "duration": 11,
    "start_time": "2022-08-24T16:31:36.066Z"
   },
   {
    "duration": 7,
    "start_time": "2022-08-24T16:31:36.079Z"
   },
   {
    "duration": 8,
    "start_time": "2022-08-24T16:31:36.089Z"
   },
   {
    "duration": 5,
    "start_time": "2022-08-24T16:31:36.099Z"
   },
   {
    "duration": 7,
    "start_time": "2022-08-24T16:31:36.106Z"
   },
   {
    "duration": 5,
    "start_time": "2022-08-24T16:31:36.115Z"
   },
   {
    "duration": 15,
    "start_time": "2022-08-24T16:31:36.122Z"
   },
   {
    "duration": 13,
    "start_time": "2022-08-24T16:31:36.139Z"
   },
   {
    "duration": 212,
    "start_time": "2022-08-24T16:31:36.154Z"
   },
   {
    "duration": 129,
    "start_time": "2022-08-24T16:31:36.367Z"
   },
   {
    "duration": 7,
    "start_time": "2022-08-24T16:31:36.498Z"
   },
   {
    "duration": 333,
    "start_time": "2022-08-24T16:31:36.507Z"
   },
   {
    "duration": 254,
    "start_time": "2022-08-24T16:31:36.842Z"
   },
   {
    "duration": 12,
    "start_time": "2022-08-24T16:31:37.098Z"
   },
   {
    "duration": 415,
    "start_time": "2022-08-24T16:31:37.113Z"
   },
   {
    "duration": 5,
    "start_time": "2022-08-24T16:31:37.530Z"
   },
   {
    "duration": 248,
    "start_time": "2022-08-24T16:31:37.537Z"
   },
   {
    "duration": 369,
    "start_time": "2022-08-24T16:31:37.786Z"
   },
   {
    "duration": 211,
    "start_time": "2022-08-24T16:31:38.157Z"
   },
   {
    "duration": 5,
    "start_time": "2022-08-24T16:31:38.370Z"
   },
   {
    "duration": 182,
    "start_time": "2022-08-24T16:31:38.377Z"
   },
   {
    "duration": 6,
    "start_time": "2022-08-24T16:31:38.561Z"
   },
   {
    "duration": 182,
    "start_time": "2022-08-24T16:31:38.568Z"
   },
   {
    "duration": 147,
    "start_time": "2022-08-24T16:31:38.752Z"
   },
   {
    "duration": 53,
    "start_time": "2022-08-24T16:31:38.901Z"
   },
   {
    "duration": 77,
    "start_time": "2022-08-24T16:31:38.955Z"
   },
   {
    "duration": 77,
    "start_time": "2022-08-24T16:31:39.033Z"
   },
   {
    "duration": 30,
    "start_time": "2022-08-24T16:31:39.112Z"
   },
   {
    "duration": 49,
    "start_time": "2022-08-24T16:31:39.144Z"
   },
   {
    "duration": 4,
    "start_time": "2022-08-24T16:31:39.195Z"
   },
   {
    "duration": 19,
    "start_time": "2022-08-24T16:31:39.201Z"
   },
   {
    "duration": 8,
    "start_time": "2022-08-24T16:31:39.221Z"
   },
   {
    "duration": 32,
    "start_time": "2022-08-24T16:31:39.230Z"
   },
   {
    "duration": 38,
    "start_time": "2022-08-24T16:31:39.265Z"
   },
   {
    "duration": 116,
    "start_time": "2022-08-24T16:32:05.393Z"
   }
  ],
  "kernelspec": {
   "display_name": "Python 3 (ipykernel)",
   "language": "python",
   "name": "python3"
  },
  "language_info": {
   "codemirror_mode": {
    "name": "ipython",
    "version": 3
   },
   "file_extension": ".py",
   "mimetype": "text/x-python",
   "name": "python",
   "nbconvert_exporter": "python",
   "pygments_lexer": "ipython3",
   "version": "3.9.7"
  },
  "toc": {
   "base_numbering": 1,
   "nav_menu": {},
   "number_sections": true,
   "sideBar": true,
   "skip_h1_title": true,
   "title_cell": "Table of Contents",
   "title_sidebar": "Contents",
   "toc_cell": false,
   "toc_position": {},
   "toc_section_display": true,
   "toc_window_display": false
  }
 },
 "nbformat": 4,
 "nbformat_minor": 5
}
