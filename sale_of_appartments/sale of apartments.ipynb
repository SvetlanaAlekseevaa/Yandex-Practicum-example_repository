{
 "cells": [
  {
   "cell_type": "markdown",
   "metadata": {},
   "source": [
    "# Исследование объявлений о продаже квартир\n",
    "\n",
    "Источник данных — архив объявлений о продаже квартир в Санкт-Петербурге и соседних населённых пунктах за несколько лет. Нужно научиться определять рыночную стоимость объектов недвижимости. \n",
    "\n",
    "**Цель исследования**\n",
    "\n",
    "Установить параметры для определения рыночной стоимости объектов недвижимости. Это позволит построить автоматизированную систему: она отследит аномалии и мошенническую деятельность. \n",
    "\n",
    "По каждой квартире на продажу доступны два вида данных. Первые вписаны пользователем, вторые получены автоматически на основе картографических данных. Например, расстояние до центра, аэропорта, ближайшего парка и водоёма.\n",
    "\n",
    "**Описание данных**\n",
    "* airports_nearest — расстояние до ближайшего аэропорта в метрах (м)\n",
    "* balcony — число балконов\n",
    "* ceiling_height — высота потолков (м)\n",
    "* cityCenters_nearest — расстояние до центра города (м)\n",
    "* days_exposition — сколько дней было размещено объявление (от публикации до снятия)\n",
    "* first_day_exposition — дата публикации\n",
    "* floor — этаж\n",
    "* floors_total — всего этажей в доме\n",
    "* is_apartment — апартаменты (булев тип)\n",
    "* kitchen_area — площадь кухни в квадратных метрах (м²)\n",
    "* last_price — цена на момент снятия с публикации\n",
    "* living_area — жилая площадь в квадратных метрах (м²)\n",
    "* locality_name — название населённого пункта\n",
    "* open_plan — свободная планировка (булев тип)\n",
    "* parks_around3000 — число парков в радиусе 3 км\n",
    "* parks_nearest — расстояние до ближайшего парка (м)\n",
    "* ponds_around3000 — число водоёмов в радиусе 3 км\n",
    "* ponds_nearest — расстояние до ближайшего водоёма (м)\n",
    "* rooms — число комнат\n",
    "* studio — квартира-студия (булев тип)\n",
    "* total_area — площадь квартиры в квадратных метрах (м²)\n",
    "* total_images — число фотографий квартиры в объявлении"
   ]
  },
  {
   "cell_type": "markdown",
   "metadata": {},
   "source": [
    "# Содержание\n",
    "1. Предобработка данных\n",
    "2. Исследовательский анализ данных\n",
    "3. Выводы"
   ]
  },
  {
   "cell_type": "markdown",
   "metadata": {},
   "source": [
    "## Изучение данных из файла"
   ]
  },
  {
   "cell_type": "code",
   "execution_count": 1,
   "metadata": {},
   "outputs": [],
   "source": [
    "# импортируем библиотеки, которые могут пригодиться в дальнейшем\n",
    "import pandas as pd\n",
    "import matplotlib.pyplot as plt \n",
    "import numpy as np\n",
    "import os"
   ]
  },
  {
   "cell_type": "code",
   "execution_count": 2,
   "metadata": {
    "scrolled": true
   },
   "outputs": [
    {
     "data": {
      "text/html": [
       "<div>\n",
       "<style scoped>\n",
       "    .dataframe tbody tr th:only-of-type {\n",
       "        vertical-align: middle;\n",
       "    }\n",
       "\n",
       "    .dataframe tbody tr th {\n",
       "        vertical-align: top;\n",
       "    }\n",
       "\n",
       "    .dataframe thead th {\n",
       "        text-align: right;\n",
       "    }\n",
       "</style>\n",
       "<table border=\"1\" class=\"dataframe\">\n",
       "  <thead>\n",
       "    <tr style=\"text-align: right;\">\n",
       "      <th></th>\n",
       "      <th>total_images</th>\n",
       "      <th>last_price</th>\n",
       "      <th>total_area</th>\n",
       "      <th>first_day_exposition</th>\n",
       "      <th>rooms</th>\n",
       "      <th>ceiling_height</th>\n",
       "      <th>floors_total</th>\n",
       "      <th>living_area</th>\n",
       "      <th>floor</th>\n",
       "      <th>is_apartment</th>\n",
       "      <th>studio</th>\n",
       "      <th>open_plan</th>\n",
       "      <th>kitchen_area</th>\n",
       "      <th>balcony</th>\n",
       "      <th>locality_name</th>\n",
       "      <th>airports_nearest</th>\n",
       "      <th>cityCenters_nearest</th>\n",
       "      <th>parks_around3000</th>\n",
       "      <th>parks_nearest</th>\n",
       "      <th>ponds_around3000</th>\n",
       "      <th>ponds_nearest</th>\n",
       "      <th>days_exposition</th>\n",
       "    </tr>\n",
       "  </thead>\n",
       "  <tbody>\n",
       "    <tr>\n",
       "      <th>0</th>\n",
       "      <td>20</td>\n",
       "      <td>13000000.0</td>\n",
       "      <td>108.00</td>\n",
       "      <td>2019-03-07T00:00:00</td>\n",
       "      <td>3</td>\n",
       "      <td>2.70</td>\n",
       "      <td>16.0</td>\n",
       "      <td>51.00</td>\n",
       "      <td>8</td>\n",
       "      <td>NaN</td>\n",
       "      <td>False</td>\n",
       "      <td>False</td>\n",
       "      <td>25.00</td>\n",
       "      <td>NaN</td>\n",
       "      <td>Санкт-Петербург</td>\n",
       "      <td>18863.0</td>\n",
       "      <td>16028.0</td>\n",
       "      <td>1.0</td>\n",
       "      <td>482.0</td>\n",
       "      <td>2.0</td>\n",
       "      <td>755.0</td>\n",
       "      <td>NaN</td>\n",
       "    </tr>\n",
       "    <tr>\n",
       "      <th>1</th>\n",
       "      <td>7</td>\n",
       "      <td>3350000.0</td>\n",
       "      <td>40.40</td>\n",
       "      <td>2018-12-04T00:00:00</td>\n",
       "      <td>1</td>\n",
       "      <td>NaN</td>\n",
       "      <td>11.0</td>\n",
       "      <td>18.60</td>\n",
       "      <td>1</td>\n",
       "      <td>NaN</td>\n",
       "      <td>False</td>\n",
       "      <td>False</td>\n",
       "      <td>11.00</td>\n",
       "      <td>2.0</td>\n",
       "      <td>посёлок Шушары</td>\n",
       "      <td>12817.0</td>\n",
       "      <td>18603.0</td>\n",
       "      <td>0.0</td>\n",
       "      <td>NaN</td>\n",
       "      <td>0.0</td>\n",
       "      <td>NaN</td>\n",
       "      <td>81.0</td>\n",
       "    </tr>\n",
       "    <tr>\n",
       "      <th>2</th>\n",
       "      <td>10</td>\n",
       "      <td>5196000.0</td>\n",
       "      <td>56.00</td>\n",
       "      <td>2015-08-20T00:00:00</td>\n",
       "      <td>2</td>\n",
       "      <td>NaN</td>\n",
       "      <td>5.0</td>\n",
       "      <td>34.30</td>\n",
       "      <td>4</td>\n",
       "      <td>NaN</td>\n",
       "      <td>False</td>\n",
       "      <td>False</td>\n",
       "      <td>8.30</td>\n",
       "      <td>0.0</td>\n",
       "      <td>Санкт-Петербург</td>\n",
       "      <td>21741.0</td>\n",
       "      <td>13933.0</td>\n",
       "      <td>1.0</td>\n",
       "      <td>90.0</td>\n",
       "      <td>2.0</td>\n",
       "      <td>574.0</td>\n",
       "      <td>558.0</td>\n",
       "    </tr>\n",
       "    <tr>\n",
       "      <th>3</th>\n",
       "      <td>0</td>\n",
       "      <td>64900000.0</td>\n",
       "      <td>159.00</td>\n",
       "      <td>2015-07-24T00:00:00</td>\n",
       "      <td>3</td>\n",
       "      <td>NaN</td>\n",
       "      <td>14.0</td>\n",
       "      <td>NaN</td>\n",
       "      <td>9</td>\n",
       "      <td>NaN</td>\n",
       "      <td>False</td>\n",
       "      <td>False</td>\n",
       "      <td>NaN</td>\n",
       "      <td>0.0</td>\n",
       "      <td>Санкт-Петербург</td>\n",
       "      <td>28098.0</td>\n",
       "      <td>6800.0</td>\n",
       "      <td>2.0</td>\n",
       "      <td>84.0</td>\n",
       "      <td>3.0</td>\n",
       "      <td>234.0</td>\n",
       "      <td>424.0</td>\n",
       "    </tr>\n",
       "    <tr>\n",
       "      <th>4</th>\n",
       "      <td>2</td>\n",
       "      <td>10000000.0</td>\n",
       "      <td>100.00</td>\n",
       "      <td>2018-06-19T00:00:00</td>\n",
       "      <td>2</td>\n",
       "      <td>3.03</td>\n",
       "      <td>14.0</td>\n",
       "      <td>32.00</td>\n",
       "      <td>13</td>\n",
       "      <td>NaN</td>\n",
       "      <td>False</td>\n",
       "      <td>False</td>\n",
       "      <td>41.00</td>\n",
       "      <td>NaN</td>\n",
       "      <td>Санкт-Петербург</td>\n",
       "      <td>31856.0</td>\n",
       "      <td>8098.0</td>\n",
       "      <td>2.0</td>\n",
       "      <td>112.0</td>\n",
       "      <td>1.0</td>\n",
       "      <td>48.0</td>\n",
       "      <td>121.0</td>\n",
       "    </tr>\n",
       "    <tr>\n",
       "      <th>5</th>\n",
       "      <td>10</td>\n",
       "      <td>2890000.0</td>\n",
       "      <td>30.40</td>\n",
       "      <td>2018-09-10T00:00:00</td>\n",
       "      <td>1</td>\n",
       "      <td>NaN</td>\n",
       "      <td>12.0</td>\n",
       "      <td>14.40</td>\n",
       "      <td>5</td>\n",
       "      <td>NaN</td>\n",
       "      <td>False</td>\n",
       "      <td>False</td>\n",
       "      <td>9.10</td>\n",
       "      <td>NaN</td>\n",
       "      <td>городской посёлок Янино-1</td>\n",
       "      <td>NaN</td>\n",
       "      <td>NaN</td>\n",
       "      <td>NaN</td>\n",
       "      <td>NaN</td>\n",
       "      <td>NaN</td>\n",
       "      <td>NaN</td>\n",
       "      <td>55.0</td>\n",
       "    </tr>\n",
       "    <tr>\n",
       "      <th>6</th>\n",
       "      <td>6</td>\n",
       "      <td>3700000.0</td>\n",
       "      <td>37.30</td>\n",
       "      <td>2017-11-02T00:00:00</td>\n",
       "      <td>1</td>\n",
       "      <td>NaN</td>\n",
       "      <td>26.0</td>\n",
       "      <td>10.60</td>\n",
       "      <td>6</td>\n",
       "      <td>NaN</td>\n",
       "      <td>False</td>\n",
       "      <td>False</td>\n",
       "      <td>14.40</td>\n",
       "      <td>1.0</td>\n",
       "      <td>посёлок Парголово</td>\n",
       "      <td>52996.0</td>\n",
       "      <td>19143.0</td>\n",
       "      <td>0.0</td>\n",
       "      <td>NaN</td>\n",
       "      <td>0.0</td>\n",
       "      <td>NaN</td>\n",
       "      <td>155.0</td>\n",
       "    </tr>\n",
       "    <tr>\n",
       "      <th>7</th>\n",
       "      <td>5</td>\n",
       "      <td>7915000.0</td>\n",
       "      <td>71.60</td>\n",
       "      <td>2019-04-18T00:00:00</td>\n",
       "      <td>2</td>\n",
       "      <td>NaN</td>\n",
       "      <td>24.0</td>\n",
       "      <td>NaN</td>\n",
       "      <td>22</td>\n",
       "      <td>NaN</td>\n",
       "      <td>False</td>\n",
       "      <td>False</td>\n",
       "      <td>18.90</td>\n",
       "      <td>2.0</td>\n",
       "      <td>Санкт-Петербург</td>\n",
       "      <td>23982.0</td>\n",
       "      <td>11634.0</td>\n",
       "      <td>0.0</td>\n",
       "      <td>NaN</td>\n",
       "      <td>0.0</td>\n",
       "      <td>NaN</td>\n",
       "      <td>NaN</td>\n",
       "    </tr>\n",
       "    <tr>\n",
       "      <th>8</th>\n",
       "      <td>20</td>\n",
       "      <td>2900000.0</td>\n",
       "      <td>33.16</td>\n",
       "      <td>2018-05-23T00:00:00</td>\n",
       "      <td>1</td>\n",
       "      <td>NaN</td>\n",
       "      <td>27.0</td>\n",
       "      <td>15.43</td>\n",
       "      <td>26</td>\n",
       "      <td>NaN</td>\n",
       "      <td>False</td>\n",
       "      <td>False</td>\n",
       "      <td>8.81</td>\n",
       "      <td>NaN</td>\n",
       "      <td>посёлок Мурино</td>\n",
       "      <td>NaN</td>\n",
       "      <td>NaN</td>\n",
       "      <td>NaN</td>\n",
       "      <td>NaN</td>\n",
       "      <td>NaN</td>\n",
       "      <td>NaN</td>\n",
       "      <td>189.0</td>\n",
       "    </tr>\n",
       "    <tr>\n",
       "      <th>9</th>\n",
       "      <td>18</td>\n",
       "      <td>5400000.0</td>\n",
       "      <td>61.00</td>\n",
       "      <td>2017-02-26T00:00:00</td>\n",
       "      <td>3</td>\n",
       "      <td>2.50</td>\n",
       "      <td>9.0</td>\n",
       "      <td>43.60</td>\n",
       "      <td>7</td>\n",
       "      <td>NaN</td>\n",
       "      <td>False</td>\n",
       "      <td>False</td>\n",
       "      <td>6.50</td>\n",
       "      <td>2.0</td>\n",
       "      <td>Санкт-Петербург</td>\n",
       "      <td>50898.0</td>\n",
       "      <td>15008.0</td>\n",
       "      <td>0.0</td>\n",
       "      <td>NaN</td>\n",
       "      <td>0.0</td>\n",
       "      <td>NaN</td>\n",
       "      <td>289.0</td>\n",
       "    </tr>\n",
       "    <tr>\n",
       "      <th>10</th>\n",
       "      <td>5</td>\n",
       "      <td>5050000.0</td>\n",
       "      <td>39.60</td>\n",
       "      <td>2017-11-16T00:00:00</td>\n",
       "      <td>1</td>\n",
       "      <td>2.67</td>\n",
       "      <td>12.0</td>\n",
       "      <td>20.30</td>\n",
       "      <td>3</td>\n",
       "      <td>NaN</td>\n",
       "      <td>False</td>\n",
       "      <td>False</td>\n",
       "      <td>8.50</td>\n",
       "      <td>NaN</td>\n",
       "      <td>Санкт-Петербург</td>\n",
       "      <td>38357.0</td>\n",
       "      <td>13878.0</td>\n",
       "      <td>1.0</td>\n",
       "      <td>310.0</td>\n",
       "      <td>2.0</td>\n",
       "      <td>553.0</td>\n",
       "      <td>137.0</td>\n",
       "    </tr>\n",
       "    <tr>\n",
       "      <th>11</th>\n",
       "      <td>9</td>\n",
       "      <td>3300000.0</td>\n",
       "      <td>44.00</td>\n",
       "      <td>2018-08-27T00:00:00</td>\n",
       "      <td>2</td>\n",
       "      <td>NaN</td>\n",
       "      <td>5.0</td>\n",
       "      <td>31.00</td>\n",
       "      <td>4</td>\n",
       "      <td>False</td>\n",
       "      <td>False</td>\n",
       "      <td>False</td>\n",
       "      <td>6.00</td>\n",
       "      <td>1.0</td>\n",
       "      <td>Ломоносов</td>\n",
       "      <td>48252.0</td>\n",
       "      <td>51677.0</td>\n",
       "      <td>0.0</td>\n",
       "      <td>NaN</td>\n",
       "      <td>0.0</td>\n",
       "      <td>NaN</td>\n",
       "      <td>7.0</td>\n",
       "    </tr>\n",
       "    <tr>\n",
       "      <th>12</th>\n",
       "      <td>10</td>\n",
       "      <td>3890000.0</td>\n",
       "      <td>54.00</td>\n",
       "      <td>2016-06-30T00:00:00</td>\n",
       "      <td>2</td>\n",
       "      <td>NaN</td>\n",
       "      <td>5.0</td>\n",
       "      <td>30.00</td>\n",
       "      <td>5</td>\n",
       "      <td>NaN</td>\n",
       "      <td>False</td>\n",
       "      <td>False</td>\n",
       "      <td>9.00</td>\n",
       "      <td>0.0</td>\n",
       "      <td>Сертолово</td>\n",
       "      <td>NaN</td>\n",
       "      <td>NaN</td>\n",
       "      <td>NaN</td>\n",
       "      <td>NaN</td>\n",
       "      <td>NaN</td>\n",
       "      <td>NaN</td>\n",
       "      <td>90.0</td>\n",
       "    </tr>\n",
       "    <tr>\n",
       "      <th>13</th>\n",
       "      <td>20</td>\n",
       "      <td>3550000.0</td>\n",
       "      <td>42.80</td>\n",
       "      <td>2017-07-01T00:00:00</td>\n",
       "      <td>2</td>\n",
       "      <td>2.56</td>\n",
       "      <td>5.0</td>\n",
       "      <td>27.00</td>\n",
       "      <td>5</td>\n",
       "      <td>NaN</td>\n",
       "      <td>False</td>\n",
       "      <td>False</td>\n",
       "      <td>5.20</td>\n",
       "      <td>1.0</td>\n",
       "      <td>Петергоф</td>\n",
       "      <td>37868.0</td>\n",
       "      <td>33058.0</td>\n",
       "      <td>1.0</td>\n",
       "      <td>294.0</td>\n",
       "      <td>3.0</td>\n",
       "      <td>298.0</td>\n",
       "      <td>366.0</td>\n",
       "    </tr>\n",
       "    <tr>\n",
       "      <th>14</th>\n",
       "      <td>1</td>\n",
       "      <td>4400000.0</td>\n",
       "      <td>36.00</td>\n",
       "      <td>2016-06-23T00:00:00</td>\n",
       "      <td>1</td>\n",
       "      <td>NaN</td>\n",
       "      <td>6.0</td>\n",
       "      <td>17.00</td>\n",
       "      <td>1</td>\n",
       "      <td>NaN</td>\n",
       "      <td>False</td>\n",
       "      <td>False</td>\n",
       "      <td>8.00</td>\n",
       "      <td>0.0</td>\n",
       "      <td>Пушкин</td>\n",
       "      <td>20782.0</td>\n",
       "      <td>30759.0</td>\n",
       "      <td>0.0</td>\n",
       "      <td>NaN</td>\n",
       "      <td>1.0</td>\n",
       "      <td>96.0</td>\n",
       "      <td>203.0</td>\n",
       "    </tr>\n",
       "  </tbody>\n",
       "</table>\n",
       "</div>"
      ],
      "text/plain": [
       "    total_images  last_price  total_area first_day_exposition  rooms  \\\n",
       "0             20  13000000.0      108.00  2019-03-07T00:00:00      3   \n",
       "1              7   3350000.0       40.40  2018-12-04T00:00:00      1   \n",
       "2             10   5196000.0       56.00  2015-08-20T00:00:00      2   \n",
       "3              0  64900000.0      159.00  2015-07-24T00:00:00      3   \n",
       "4              2  10000000.0      100.00  2018-06-19T00:00:00      2   \n",
       "5             10   2890000.0       30.40  2018-09-10T00:00:00      1   \n",
       "6              6   3700000.0       37.30  2017-11-02T00:00:00      1   \n",
       "7              5   7915000.0       71.60  2019-04-18T00:00:00      2   \n",
       "8             20   2900000.0       33.16  2018-05-23T00:00:00      1   \n",
       "9             18   5400000.0       61.00  2017-02-26T00:00:00      3   \n",
       "10             5   5050000.0       39.60  2017-11-16T00:00:00      1   \n",
       "11             9   3300000.0       44.00  2018-08-27T00:00:00      2   \n",
       "12            10   3890000.0       54.00  2016-06-30T00:00:00      2   \n",
       "13            20   3550000.0       42.80  2017-07-01T00:00:00      2   \n",
       "14             1   4400000.0       36.00  2016-06-23T00:00:00      1   \n",
       "\n",
       "    ceiling_height  floors_total  living_area  floor is_apartment  studio  \\\n",
       "0             2.70          16.0        51.00      8          NaN   False   \n",
       "1              NaN          11.0        18.60      1          NaN   False   \n",
       "2              NaN           5.0        34.30      4          NaN   False   \n",
       "3              NaN          14.0          NaN      9          NaN   False   \n",
       "4             3.03          14.0        32.00     13          NaN   False   \n",
       "5              NaN          12.0        14.40      5          NaN   False   \n",
       "6              NaN          26.0        10.60      6          NaN   False   \n",
       "7              NaN          24.0          NaN     22          NaN   False   \n",
       "8              NaN          27.0        15.43     26          NaN   False   \n",
       "9             2.50           9.0        43.60      7          NaN   False   \n",
       "10            2.67          12.0        20.30      3          NaN   False   \n",
       "11             NaN           5.0        31.00      4        False   False   \n",
       "12             NaN           5.0        30.00      5          NaN   False   \n",
       "13            2.56           5.0        27.00      5          NaN   False   \n",
       "14             NaN           6.0        17.00      1          NaN   False   \n",
       "\n",
       "    open_plan  kitchen_area  balcony              locality_name  \\\n",
       "0       False         25.00      NaN            Санкт-Петербург   \n",
       "1       False         11.00      2.0             посёлок Шушары   \n",
       "2       False          8.30      0.0            Санкт-Петербург   \n",
       "3       False           NaN      0.0            Санкт-Петербург   \n",
       "4       False         41.00      NaN            Санкт-Петербург   \n",
       "5       False          9.10      NaN  городской посёлок Янино-1   \n",
       "6       False         14.40      1.0          посёлок Парголово   \n",
       "7       False         18.90      2.0            Санкт-Петербург   \n",
       "8       False          8.81      NaN             посёлок Мурино   \n",
       "9       False          6.50      2.0            Санкт-Петербург   \n",
       "10      False          8.50      NaN            Санкт-Петербург   \n",
       "11      False          6.00      1.0                  Ломоносов   \n",
       "12      False          9.00      0.0                  Сертолово   \n",
       "13      False          5.20      1.0                   Петергоф   \n",
       "14      False          8.00      0.0                     Пушкин   \n",
       "\n",
       "    airports_nearest  cityCenters_nearest  parks_around3000  parks_nearest  \\\n",
       "0            18863.0              16028.0               1.0          482.0   \n",
       "1            12817.0              18603.0               0.0            NaN   \n",
       "2            21741.0              13933.0               1.0           90.0   \n",
       "3            28098.0               6800.0               2.0           84.0   \n",
       "4            31856.0               8098.0               2.0          112.0   \n",
       "5                NaN                  NaN               NaN            NaN   \n",
       "6            52996.0              19143.0               0.0            NaN   \n",
       "7            23982.0              11634.0               0.0            NaN   \n",
       "8                NaN                  NaN               NaN            NaN   \n",
       "9            50898.0              15008.0               0.0            NaN   \n",
       "10           38357.0              13878.0               1.0          310.0   \n",
       "11           48252.0              51677.0               0.0            NaN   \n",
       "12               NaN                  NaN               NaN            NaN   \n",
       "13           37868.0              33058.0               1.0          294.0   \n",
       "14           20782.0              30759.0               0.0            NaN   \n",
       "\n",
       "    ponds_around3000  ponds_nearest  days_exposition  \n",
       "0                2.0          755.0              NaN  \n",
       "1                0.0            NaN             81.0  \n",
       "2                2.0          574.0            558.0  \n",
       "3                3.0          234.0            424.0  \n",
       "4                1.0           48.0            121.0  \n",
       "5                NaN            NaN             55.0  \n",
       "6                0.0            NaN            155.0  \n",
       "7                0.0            NaN              NaN  \n",
       "8                NaN            NaN            189.0  \n",
       "9                0.0            NaN            289.0  \n",
       "10               2.0          553.0            137.0  \n",
       "11               0.0            NaN              7.0  \n",
       "12               NaN            NaN             90.0  \n",
       "13               3.0          298.0            366.0  \n",
       "14               1.0           96.0            203.0  "
      ]
     },
     "execution_count": 2,
     "metadata": {},
     "output_type": "execute_result"
    }
   ],
   "source": [
    "#посмотрим на таблицу\n",
    "try:\n",
    "    df = pd.read_csv('/datasets/real_estate_data.csv', sep = '\\t')\n",
    "except:\n",
    "    df = pd.read_csv('real_estate_datat.csv', sep = '\\t')\n",
    "pd.set_option('display.max_columns', 50) \n",
    "df.head(15)"
   ]
  },
  {
   "cell_type": "code",
   "execution_count": 3,
   "metadata": {},
   "outputs": [
    {
     "name": "stdout",
     "output_type": "stream",
     "text": [
      "<class 'pandas.core.frame.DataFrame'>\n",
      "RangeIndex: 23699 entries, 0 to 23698\n",
      "Data columns (total 22 columns):\n",
      " #   Column                Non-Null Count  Dtype  \n",
      "---  ------                --------------  -----  \n",
      " 0   total_images          23699 non-null  int64  \n",
      " 1   last_price            23699 non-null  float64\n",
      " 2   total_area            23699 non-null  float64\n",
      " 3   first_day_exposition  23699 non-null  object \n",
      " 4   rooms                 23699 non-null  int64  \n",
      " 5   ceiling_height        14504 non-null  float64\n",
      " 6   floors_total          23613 non-null  float64\n",
      " 7   living_area           21796 non-null  float64\n",
      " 8   floor                 23699 non-null  int64  \n",
      " 9   is_apartment          2775 non-null   object \n",
      " 10  studio                23699 non-null  bool   \n",
      " 11  open_plan             23699 non-null  bool   \n",
      " 12  kitchen_area          21421 non-null  float64\n",
      " 13  balcony               12180 non-null  float64\n",
      " 14  locality_name         23650 non-null  object \n",
      " 15  airports_nearest      18157 non-null  float64\n",
      " 16  cityCenters_nearest   18180 non-null  float64\n",
      " 17  parks_around3000      18181 non-null  float64\n",
      " 18  parks_nearest         8079 non-null   float64\n",
      " 19  ponds_around3000      18181 non-null  float64\n",
      " 20  ponds_nearest         9110 non-null   float64\n",
      " 21  days_exposition       20518 non-null  float64\n",
      "dtypes: bool(2), float64(14), int64(3), object(3)\n",
      "memory usage: 3.7+ MB\n"
     ]
    }
   ],
   "source": [
    "# изучим общую информацию о таблице:\n",
    "df.info()"
   ]
  },
  {
   "cell_type": "code",
   "execution_count": 4,
   "metadata": {},
   "outputs": [
    {
     "data": {
      "text/plain": [
       "total_images                0\n",
       "last_price                  0\n",
       "total_area                  0\n",
       "first_day_exposition        0\n",
       "rooms                       0\n",
       "ceiling_height           9195\n",
       "floors_total               86\n",
       "living_area              1903\n",
       "floor                       0\n",
       "is_apartment            20924\n",
       "studio                      0\n",
       "open_plan                   0\n",
       "kitchen_area             2278\n",
       "balcony                 11519\n",
       "locality_name              49\n",
       "airports_nearest         5542\n",
       "cityCenters_nearest      5519\n",
       "parks_around3000         5518\n",
       "parks_nearest           15620\n",
       "ponds_around3000         5518\n",
       "ponds_nearest           14589\n",
       "days_exposition          3181\n",
       "dtype: int64"
      ]
     },
     "execution_count": 4,
     "metadata": {},
     "output_type": "execute_result"
    }
   ],
   "source": [
    "# изучим количество пропусков\n",
    "df.isna().sum()"
   ]
  },
  {
   "cell_type": "markdown",
   "metadata": {},
   "source": [
    "### Вывод\n",
    "\n",
    "Необходимо изменить типы данных:\n",
    "* first_day_exposition изменить на формат даты\n",
    "* is_apartment измениить на булево значение\n",
    "* столбцы кроме высоты потолков нужно привести к целочисленному типу, это упростит расчеты и анализ в последующем. \n",
    "\n",
    "В таблице есть пропуски в столбцах, с которыми нужно разобраться:\n",
    "\n",
    "* ceiling_height\n",
    "* floors_total \n",
    "* living_area\n",
    "* is_apartment\n",
    "* kitchen_area\n",
    "* balcony \n",
    "* locality_name\n",
    "* airports_nearest\n",
    "* cityCenters_nearest\n",
    "* parks_around3000\n",
    "* parks_nearest\n",
    "* ponds_around3000\n",
    "* ponds_nearest\n",
    "* days_exposition\n"
   ]
  },
  {
   "cell_type": "markdown",
   "metadata": {},
   "source": [
    "<div class=\"alert alert-success\"; style=\"border-left: 7px solid green\">\n",
    "<h5> ✔️ <font color=\"green\">Комментарий ревьюера (зеленый)</font></h5>\n",
    "\n",
    "Хороший, красиво оформленный, промежуточный вывод, сразу понятно, что будет далее в предобработке.\n",
    "\n",
    "</div>"
   ]
  },
  {
   "cell_type": "markdown",
   "metadata": {},
   "source": [
    "## Предобработка данных"
   ]
  },
  {
   "cell_type": "code",
   "execution_count": 5,
   "metadata": {},
   "outputs": [
    {
     "data": {
      "text/plain": [
       "0"
      ]
     },
     "execution_count": 5,
     "metadata": {},
     "output_type": "execute_result"
    }
   ],
   "source": [
    "# проверим данные на явные дубликаты\n",
    "df.duplicated().sum()"
   ]
  },
  {
   "cell_type": "code",
   "execution_count": 6,
   "metadata": {},
   "outputs": [
    {
     "data": {
      "text/plain": [
       "total_images                     int64\n",
       "last_price                     float64\n",
       "total_area                     float64\n",
       "first_day_exposition    datetime64[ns]\n",
       "rooms                            int64\n",
       "ceiling_height                 float64\n",
       "floors_total                   float64\n",
       "living_area                    float64\n",
       "floor                            int64\n",
       "is_apartment                      bool\n",
       "dtype: object"
      ]
     },
     "execution_count": 6,
     "metadata": {},
     "output_type": "execute_result"
    }
   ],
   "source": [
    "# приводим к формату даты first_day_exposition\n",
    "df['first_day_exposition'] = pd.to_datetime(\n",
    "    df['first_day_exposition'], format='%Y-%m-%dT%H:%M:%S')\n",
    "\n",
    "# разберемся с аппартаментами, переведем тип данных в булево значение\n",
    "df['is_apartment'] = df.is_apartment.astype(bool)\n",
    "# проверяем\n",
    "df.dtypes.head(10)"
   ]
  },
  {
   "cell_type": "code",
   "execution_count": 7,
   "metadata": {},
   "outputs": [
    {
     "data": {
      "text/plain": [
       "total_images                0\n",
       "last_price                  0\n",
       "total_area                  0\n",
       "first_day_exposition        0\n",
       "rooms                       0\n",
       "ceiling_height           9195\n",
       "floors_total               86\n",
       "living_area              1903\n",
       "floor                       0\n",
       "is_apartment                0\n",
       "studio                      0\n",
       "open_plan                   0\n",
       "kitchen_area             2278\n",
       "balcony                 11519\n",
       "locality_name              49\n",
       "airports_nearest         5542\n",
       "cityCenters_nearest      5519\n",
       "parks_around3000         5518\n",
       "parks_nearest           15620\n",
       "ponds_around3000         5518\n",
       "ponds_nearest           14589\n",
       "days_exposition          3181\n",
       "dtype: int64"
      ]
     },
     "execution_count": 7,
     "metadata": {},
     "output_type": "execute_result"
    }
   ],
   "source": [
    "# переходим к пропускам\n",
    "df.isna().sum()"
   ]
  },
  {
   "cell_type": "markdown",
   "metadata": {},
   "source": [
    "У is_apartment после смены типа данных пропуски заполнились, есть 2 столбца, в которых можно удалить пропуски без риска влияния на результат: floors_total - пропусков 0,03% и locality_name - пропусков 0,02%  - удаляем."
   ]
  },
  {
   "cell_type": "code",
   "execution_count": 8,
   "metadata": {},
   "outputs": [
    {
     "data": {
      "text/plain": [
       "total_images                0\n",
       "last_price                  0\n",
       "total_area                  0\n",
       "first_day_exposition        0\n",
       "rooms                       0\n",
       "ceiling_height           9084\n",
       "floors_total                0\n",
       "living_area              1865\n",
       "floor                       0\n",
       "is_apartment                0\n",
       "studio                      0\n",
       "open_plan                   0\n",
       "kitchen_area             2222\n",
       "balcony                 11475\n",
       "locality_name               0\n",
       "airports_nearest         5524\n",
       "cityCenters_nearest      5501\n",
       "parks_around3000         5500\n",
       "parks_nearest           15535\n",
       "ponds_around3000         5500\n",
       "ponds_nearest           14529\n",
       "days_exposition          3171\n",
       "dtype: int64"
      ]
     },
     "execution_count": 8,
     "metadata": {},
     "output_type": "execute_result"
    }
   ],
   "source": [
    "\n",
    "# проверяем\n",
    "df.isna().sum()"
   ]
  },
  {
   "cell_type": "markdown",
   "metadata": {},
   "source": [
    "Вероятно, что пропуски в столбцах с количеством балконов, а так же с количеством парков и прудов говорят о том, что их нет.\n",
    "Заменим количество балконов, парков и прудов на 0 "
   ]
  },
  {
   "cell_type": "code",
   "execution_count": 9,
   "metadata": {},
   "outputs": [
    {
     "name": "stdout",
     "output_type": "stream",
     "text": [
      "<class 'pandas.core.frame.DataFrame'>\n",
      "RangeIndex: 23565 entries, 0 to 23564\n",
      "Data columns (total 22 columns):\n",
      " #   Column                Non-Null Count  Dtype         \n",
      "---  ------                --------------  -----         \n",
      " 0   total_images          23565 non-null  int64         \n",
      " 1   last_price            23565 non-null  float64       \n",
      " 2   total_area            23565 non-null  float64       \n",
      " 3   first_day_exposition  23565 non-null  datetime64[ns]\n",
      " 4   rooms                 23565 non-null  int64         \n",
      " 5   ceiling_height        14481 non-null  float64       \n",
      " 6   floors_total          23565 non-null  float64       \n",
      " 7   living_area           21700 non-null  float64       \n",
      " 8   floor                 23565 non-null  int64         \n",
      " 9   is_apartment          23565 non-null  bool          \n",
      " 10  studio                23565 non-null  bool          \n",
      " 11  open_plan             23565 non-null  bool          \n",
      " 12  kitchen_area          21343 non-null  float64       \n",
      " 13  balcony               23565 non-null  int64         \n",
      " 14  locality_name         23565 non-null  object        \n",
      " 15  airports_nearest      18041 non-null  float64       \n",
      " 16  cityCenters_nearest   18064 non-null  float64       \n",
      " 17  parks_around3000      23565 non-null  int64         \n",
      " 18  parks_nearest         8030 non-null   float64       \n",
      " 19  ponds_around3000      23565 non-null  int64         \n",
      " 20  ponds_nearest         9036 non-null   float64       \n",
      " 21  days_exposition       20394 non-null  float64       \n",
      "dtypes: bool(3), datetime64[ns](1), float64(11), int64(6), object(1)\n",
      "memory usage: 3.5+ MB\n"
     ]
    }
   ],
   "source": [
    "df['balcony'] = df['balcony'].fillna(value = 0).astype(int)\n",
    "df['parks_around3000'] = df['parks_around3000'].fillna(value = 0).astype(int)\n",
    "df['ponds_around3000'] = df['ponds_around3000'].fillna(value = 0).astype(int)\n",
    "# проверяем\n",
    "df.info()"
   ]
  },
  {
   "cell_type": "code",
   "execution_count": 10,
   "metadata": {},
   "outputs": [
    {
     "data": {
      "text/plain": [
       "нет     15155\n",
       "есть     8410\n",
       "Name: balcony_category, dtype: int64"
      ]
     },
     "execution_count": 10,
     "metadata": {},
     "output_type": "execute_result"
    }
   ],
   "source": [
    "# категоризируем наличие балкона\n",
    "def balkony_category(row):\n",
    "    if row['balcony'] == 0:\n",
    "        return 'нет'\n",
    "    if row['balcony'] > 0:\n",
    "        return 'есть'\n",
    "df['balcony_category'] = df.apply(balkony_category, axis = 1)\n",
    "df['balcony_category'].value_counts()"
   ]
  },
  {
   "cell_type": "code",
   "execution_count": 11,
   "metadata": {},
   "outputs": [
    {
     "data": {
      "text/plain": [
       "нет     15539\n",
       "есть     8026\n",
       "Name: parks_category, dtype: int64"
      ]
     },
     "execution_count": 11,
     "metadata": {},
     "output_type": "execute_result"
    }
   ],
   "source": [
    "# категоризируем наличие парков\n",
    "def parks_category(row):\n",
    "    if row['parks_around3000'] == 0:\n",
    "        return 'нет'\n",
    "    if row['parks_around3000'] > 0:\n",
    "        return 'есть'\n",
    "df['parks_category'] = df.apply(parks_category, axis = 1)\n",
    "df['parks_category'].value_counts()"
   ]
  },
  {
   "cell_type": "code",
   "execution_count": 12,
   "metadata": {},
   "outputs": [
    {
     "data": {
      "text/plain": [
       "нет     14529\n",
       "есть     9036\n",
       "Name: ponds_category, dtype: int64"
      ]
     },
     "execution_count": 12,
     "metadata": {},
     "output_type": "execute_result"
    }
   ],
   "source": [
    "# категоризируем наличие прудов\n",
    "def ponds_category(row):\n",
    "    if row['ponds_around3000'] == 0:\n",
    "        return 'нет'\n",
    "    if row['ponds_around3000'] > 0:\n",
    "        return 'есть'\n",
    "df['ponds_category'] = df.apply(ponds_category, axis = 1)\n",
    "df['ponds_category'].value_counts()"
   ]
  },
  {
   "cell_type": "markdown",
   "metadata": {},
   "source": [
    "Разберемся с расстояниями до центра, парков, прудов и аэропорта - если они не указаны, то вероятно по близости нет парков, прудов, аэропортов. \n",
    "Для того, чтобы оставить целочисленный тип столбца обозначим пропуски как 888."
   ]
  },
  {
   "cell_type": "code",
   "execution_count": 13,
   "metadata": {},
   "outputs": [],
   "source": [
    "\n",
    "df['airports_nearest'] = df['airports_nearest'].fillna(value = 888).astype(int)\n",
    "df['cityCenters_nearest'] = df['cityCenters_nearest'].fillna(value = 888).astype(int)\n",
    "df['parks_nearest'] = df['parks_nearest'].fillna(value = 888).astype(int)\n",
    "df['ponds_nearest'] = df['ponds_nearest'].fillna(value = 888).astype(int)"
   ]
  },
  {
   "cell_type": "code",
   "execution_count": 14,
   "metadata": {},
   "outputs": [
    {
     "data": {
      "text/plain": [
       "array(['Бокситогорск', 'Волосово', 'Волхов', 'Всеволожск', 'Выборг',\n",
       "       'Высоцк', 'Гатчина', 'Зеленогорск', 'Ивангород', 'Каменногорск',\n",
       "       'Кингисепп', 'Кириши', 'Кировск', 'Колпино', 'Коммунар',\n",
       "       'Красное Село', 'Кронштадт', 'Кудрово', 'Лодейное Поле',\n",
       "       'Ломоносов', 'Луга', 'Любань', 'Мурино', 'Никольское',\n",
       "       'Новая Ладога', 'Отрадное', 'Павловск', 'Петергоф', 'Пикалёво',\n",
       "       'Подпорожье', 'Приморск', 'Приозерск', 'Пушкин', 'Санкт-Петербург',\n",
       "       'Светогорск', 'Сертолово', 'Сестрорецк', 'Сланцы', 'Сосновый Бор',\n",
       "       'Сясьстрой', 'Тихвин', 'Тосно', 'Шлиссельбург',\n",
       "       'городской поселок Большая Ижора', 'городской поселок Янино-1',\n",
       "       'городской посёлок Будогощь', 'городской посёлок Виллози',\n",
       "       'городской посёлок Лесогорский', 'городской посёлок Мга',\n",
       "       'городской посёлок Назия', 'городской посёлок Новоселье',\n",
       "       'городской посёлок Павлово', 'городской посёлок Рощино',\n",
       "       'городской посёлок Свирьстрой', 'городской посёлок Советский',\n",
       "       'городской посёлок Фёдоровское', 'городской посёлок Янино-1',\n",
       "       'деревня Агалатово', 'деревня Аро', 'деревня Батово',\n",
       "       'деревня Бегуницы', 'деревня Белогорка', 'деревня Большая Вруда',\n",
       "       'деревня Большая Пустомержа', 'деревня Большие Колпаны',\n",
       "       'деревня Большое Рейзино', 'деревня Большой Сабск', 'деревня Бор',\n",
       "       'деревня Борисова Грива', 'деревня Ваганово', 'деревня Вартемяги',\n",
       "       'деревня Вахнова Кара', 'деревня Выскатка', 'деревня Гарболово',\n",
       "       'деревня Глинка', 'деревня Горбунки', 'деревня Гостилицы',\n",
       "       'деревня Заклинье', 'деревня Заневка', 'деревня Зимитицы',\n",
       "       'деревня Извара', 'деревня Иссад', 'деревня Калитино',\n",
       "       'деревня Кальтино', 'деревня Камышовка', 'деревня Каськово',\n",
       "       'деревня Келози', 'деревня Кипень', 'деревня Кисельня',\n",
       "       'деревня Колтуши', 'деревня Коркино', 'деревня Котлы',\n",
       "       'деревня Кривко', 'деревня Кудрово', 'деревня Кузьмолово',\n",
       "       'деревня Курковицы', 'деревня Куровицы', 'деревня Куттузи',\n",
       "       'деревня Лаврики', 'деревня Лаголово', 'деревня Лампово',\n",
       "       'деревня Лесколово', 'деревня Лопухинка', 'деревня Лупполово',\n",
       "       'деревня Малая Романовка', 'деревня Малое Верево',\n",
       "       'деревня Малое Карлино', 'деревня Малые Колпаны',\n",
       "       'деревня Мануйлово', 'деревня Меньково', 'деревня Мины',\n",
       "       'деревня Мистолово', 'деревня Ненимяки', 'деревня Нижние Осельки',\n",
       "       'деревня Нижняя', 'деревня Низино', 'деревня Новое Девяткино',\n",
       "       'деревня Новолисино', 'деревня Нурма', 'деревня Оржицы',\n",
       "       'деревня Парицы', 'деревня Пельгора', 'деревня Пеники',\n",
       "       'деревня Пижма', 'деревня Пикколово', 'деревня Пудомяги',\n",
       "       'деревня Пустынка', 'деревня Пчева', 'деревня Рабитицы',\n",
       "       'деревня Разбегаево', 'деревня Раздолье', 'деревня Разметелево',\n",
       "       'деревня Рапполово', 'деревня Реброво', 'деревня Русско',\n",
       "       'деревня Сижно', 'деревня Снегирёвка', 'деревня Старая',\n",
       "       'деревня Старая Пустошь', 'деревня Старое Хинколово',\n",
       "       'деревня Старополье', 'деревня Старосиверская',\n",
       "       'деревня Старые Бегуницы', 'деревня Суоранда',\n",
       "       'деревня Сяськелево', 'деревня Тарасово', 'деревня Терпилицы',\n",
       "       'деревня Тихковицы', 'деревня Тойворово', 'деревня Торосово',\n",
       "       'деревня Торошковичи', 'деревня Трубников Бор',\n",
       "       'деревня Фалилеево', 'деревня Фёдоровское', 'деревня Хапо-Ое',\n",
       "       'деревня Хязельки', 'деревня Чудской Бор', 'деревня Шпаньково',\n",
       "       'деревня Щеглово', 'деревня Юкки', 'деревня Ялгино',\n",
       "       'деревня Яльгелево', 'деревня Ям-Тесово',\n",
       "       'коттеджный поселок Кивеннапа Север', 'коттеджный поселок Счастье',\n",
       "       'коттеджный посёлок Лесное', 'поселок Аннино', 'поселок Барышево',\n",
       "       'поселок Бугры', 'поселок Возрождение', 'поселок Войсковицы',\n",
       "       'поселок Володарское', 'поселок Гаврилово', 'поселок Гарболово',\n",
       "       'поселок Гладкое', 'поселок Глажево', 'поселок Глебычево',\n",
       "       'поселок Гончарово', 'поселок Громово', 'поселок Дружноселье',\n",
       "       'поселок Елизаветино', 'поселок Жилгородок', 'поселок Жилпосёлок',\n",
       "       'поселок Житково', 'поселок Заводской', 'поселок Запорожское',\n",
       "       'поселок Зимитицы', 'поселок Ильичёво', 'поселок Калитино',\n",
       "       'поселок Каложицы', 'поселок Кингисеппский', 'поселок Кирпичное',\n",
       "       'поселок Кобралово', 'поселок Кобринское', 'поселок Коммунары',\n",
       "       'поселок Коробицыно', 'поселок Котельский',\n",
       "       'поселок Красная Долина', 'поселок Красносельское',\n",
       "       'поселок Лесное', 'поселок Лисий Нос', 'поселок Лукаши',\n",
       "       'поселок Любань', 'поселок Мельниково', 'поселок Мичуринское',\n",
       "       'поселок Молодцово', 'поселок Мурино', 'поселок Новый Свет',\n",
       "       'поселок Новый Учхоз', 'поселок Оредеж',\n",
       "       'поселок Пансионат Зелёный Бор', 'поселок Первомайское',\n",
       "       'поселок Перово', 'поселок Петровское', 'поселок Победа',\n",
       "       'поселок Поляны', 'поселок Почап', 'поселок Починок',\n",
       "       'поселок Пушное', 'поселок Пчевжа', 'поселок Рабитицы',\n",
       "       'поселок Романовка', 'поселок Ромашки', 'поселок Рябово',\n",
       "       'поселок Севастьяново', 'поселок Селезнёво', 'поселок Сельцо',\n",
       "       'поселок Семиозерье', 'поселок Семрино', 'поселок Серебрянский',\n",
       "       'поселок Совхозный', 'поселок Старая Малукса',\n",
       "       'поселок Стеклянный', 'поселок Сумино', 'поселок Суходолье',\n",
       "       'поселок Тельмана', 'поселок Терволово', 'поселок Торковичи',\n",
       "       'поселок Тёсово-4', 'поселок Углово', 'поселок Усть-Луга',\n",
       "       'поселок Ушаки', 'поселок Цвелодубово', 'поселок Цвылёво',\n",
       "       'поселок городского типа Большая Ижора',\n",
       "       'поселок городского типа Вырица',\n",
       "       'поселок городского типа Дружная Горка',\n",
       "       'поселок городского типа Дубровка',\n",
       "       'поселок городского типа Ефимовский',\n",
       "       'поселок городского типа Кондратьево',\n",
       "       'поселок городского типа Красный Бор',\n",
       "       'поселок городского типа Кузьмоловский',\n",
       "       'поселок городского типа Лебяжье',\n",
       "       'поселок городского типа Лесогорский',\n",
       "       'поселок городского типа Назия',\n",
       "       'поселок городского типа Никольский',\n",
       "       'поселок городского типа Приладожский',\n",
       "       'поселок городского типа Рахья', 'поселок городского типа Рощино',\n",
       "       'поселок городского типа Рябово',\n",
       "       'поселок городского типа Синявино',\n",
       "       'поселок городского типа Советский',\n",
       "       'поселок городского типа Токсово',\n",
       "       'поселок городского типа Форносово',\n",
       "       'поселок городского типа имени Свердлова',\n",
       "       'поселок станции Вещево', 'поселок станции Корнево',\n",
       "       'поселок станции Лужайка', 'поселок станции Приветнинское',\n",
       "       'посёлок Александровская', 'посёлок Алексеевка', 'посёлок Аннино',\n",
       "       'посёлок Белоостров', 'посёлок Бугры', 'посёлок Возрождение',\n",
       "       'посёлок Войскорово', 'посёлок Высокоключевой',\n",
       "       'посёлок Гаврилово', 'посёлок Дзержинского', 'посёлок Жилгородок',\n",
       "       'посёлок Ильичёво', 'посёлок Кикерино', 'посёлок Кобралово',\n",
       "       'посёлок Коробицыно', 'посёлок Левашово', 'посёлок Ленинское',\n",
       "       'посёлок Лисий Нос', 'посёлок Мельниково', 'посёлок Металлострой',\n",
       "       'посёлок Мичуринское', 'посёлок Молодёжное', 'посёлок Мурино',\n",
       "       'посёлок Мыза-Ивановка', 'посёлок Новогорелово',\n",
       "       'посёлок Новый Свет', 'посёлок Пансионат Зелёный Бор',\n",
       "       'посёлок Парголово', 'посёлок Перово', 'посёлок Песочный',\n",
       "       'посёлок Петро-Славянка', 'посёлок Петровское',\n",
       "       'посёлок Платформа 69-й километр', 'посёлок Плодовое',\n",
       "       'посёлок Плоское', 'посёлок Победа', 'посёлок Поляны',\n",
       "       'посёлок Понтонный', 'посёлок Пригородный', 'посёлок Пудость',\n",
       "       'посёлок Репино', 'посёлок Ропша', 'посёлок Сапёрное',\n",
       "       'посёлок Сапёрный', 'посёлок Сосново', 'посёлок Старая Малукса',\n",
       "       'посёлок Стеклянный', 'посёлок Стрельна', 'посёлок Суйда',\n",
       "       'посёлок Сумино', 'посёлок Тельмана', 'посёлок Терволово',\n",
       "       'посёлок Торфяное', 'посёлок Усть-Ижора', 'посёлок Усть-Луга',\n",
       "       'посёлок Форт Красная Горка', 'посёлок Шугозеро', 'посёлок Шушары',\n",
       "       'посёлок Щеглово', 'посёлок городского типа Важины',\n",
       "       'посёлок городского типа Вознесенье',\n",
       "       'посёлок городского типа Вырица',\n",
       "       'посёлок городского типа Красный Бор',\n",
       "       'посёлок городского типа Кузнечное',\n",
       "       'посёлок городского типа Кузьмоловский',\n",
       "       'посёлок городского типа Лебяжье', 'посёлок городского типа Мга',\n",
       "       'посёлок городского типа Павлово',\n",
       "       'посёлок городского типа Рощино', 'посёлок городского типа Рябово',\n",
       "       'посёлок городского типа Сиверский',\n",
       "       'посёлок городского типа Тайцы', 'посёлок городского типа Токсово',\n",
       "       'посёлок городского типа Ульяновка',\n",
       "       'посёлок городского типа Форносово',\n",
       "       'посёлок городского типа имени Морозова',\n",
       "       'посёлок городского типа имени Свердлова',\n",
       "       'посёлок при железнодорожной станции Вещево',\n",
       "       'посёлок при железнодорожной станции Приветнинское',\n",
       "       'посёлок станции Громово', 'посёлок станции Свирь',\n",
       "       'садоводческое некоммерческое товарищество Лесная Поляна',\n",
       "       'садовое товарищество Новая Ропша',\n",
       "       'садовое товарищество Приладожский', 'садовое товарищество Рахья',\n",
       "       'садовое товарищество Садко', 'село Копорье', 'село Никольское',\n",
       "       'село Павлово', 'село Паша', 'село Путилово', 'село Рождествено',\n",
       "       'село Русско-Высоцкое', 'село Старая Ладога', 'село Шум'],\n",
       "      dtype=object)"
      ]
     },
     "execution_count": 14,
     "metadata": {},
     "output_type": "execute_result"
    }
   ],
   "source": [
    "# убедимся, что нет неявных дубликатов в столбце с адресами\n",
    "locality_name_unique = df['locality_name'].unique()\n",
    "locality_name_unique.sort()\n",
    "locality_name_unique"
   ]
  },
  {
   "cell_type": "raw",
   "metadata": {},
   "source": [
    "Следующий столбец- высота потолков. Просто удалить нельзя, так как пропусков слишком много и высота потолков действительно может сильно влиять на стоимость квартиры. Потолки не могут быть ниже 2.5 м (хрущевки), стандартные потолки 2,7- 3 м, в элитных квартирах потолки могут достигать и 10 м. \n",
    "Смотрим общую информацию:"
   ]
  },
  {
   "cell_type": "code",
   "execution_count": 15,
   "metadata": {},
   "outputs": [
    {
     "data": {
      "text/plain": [
       "count    14481.000000\n",
       "mean         2.771283\n",
       "std          1.261983\n",
       "min          1.000000\n",
       "25%          2.510000\n",
       "50%          2.650000\n",
       "75%          2.800000\n",
       "max        100.000000\n",
       "Name: ceiling_height, dtype: float64"
      ]
     },
     "execution_count": 15,
     "metadata": {},
     "output_type": "execute_result"
    }
   ],
   "source": [
    "df['ceiling_height'].describe()"
   ]
  },
  {
   "cell_type": "markdown",
   "metadata": {},
   "source": [
    "В таблице точно есть некорректные сведения, так как min = 1, max = 100. Даже в элитных квартирах не бывает такой высоты потолков. Они влияют на медиану и среднее. Сделаем срез с корректными данными (возьмем высоту от 2,5 до 11 м) и посчитаем среднее оттуда:"
   ]
  },
  {
   "cell_type": "code",
   "execution_count": 16,
   "metadata": {},
   "outputs": [
    {
     "data": {
      "text/plain": [
       "2.7"
      ]
     },
     "execution_count": 16,
     "metadata": {},
     "output_type": "execute_result"
    }
   ],
   "source": [
    "# заменяем пропуски на 0\n",
    "df['ceiling_height']=df['ceiling_height'].fillna(value=0) \n",
    "# делаем срез с корректными значениями\n",
    "ceiling_correct = df.query('2.5 <= ceiling_height <= 11')\n",
    "# считаем среднее и округляем\n",
    "round((ceiling_correct['ceiling_height'].mean()),1)\n"
   ]
  },
  {
   "cell_type": "code",
   "execution_count": 17,
   "metadata": {},
   "outputs": [
    {
     "data": {
      "text/plain": [
       "0"
      ]
     },
     "execution_count": 17,
     "metadata": {},
     "output_type": "execute_result"
    }
   ],
   "source": [
    "# заменяем пропуски на среднее значение:\n",
    "df.loc[df['ceiling_height']==0, 'ceiling_height'] = round((ceiling_correct['ceiling_height'].mean()),1)\n",
    "# проверяем\n",
    "df['ceiling_height'].isna().sum()"
   ]
  },
  {
   "cell_type": "code",
   "execution_count": 18,
   "metadata": {},
   "outputs": [
    {
     "data": {
      "text/plain": [
       "23468"
      ]
     },
     "execution_count": 18,
     "metadata": {},
     "output_type": "execute_result"
    }
   ],
   "source": [
    "# сколько теперь корректных данных\n",
    "len(df.query('2.5 <= ceiling_height <= 11'))"
   ]
  },
  {
   "cell_type": "markdown",
   "metadata": {},
   "source": [
    "Корректных данных = 99%, значит остальные 1% можно исключить"
   ]
  },
  {
   "cell_type": "code",
   "execution_count": 19,
   "metadata": {},
   "outputs": [],
   "source": [
    "df = df.query('2.5 <= ceiling_height <= 11')"
   ]
  },
  {
   "cell_type": "code",
   "execution_count": 20,
   "metadata": {},
   "outputs": [
    {
     "data": {
      "text/plain": [
       "от 2.7    13272\n",
       "от 2.5     7587\n",
       "от 3       2201\n",
       "от 3.5      408\n",
       "Name: ceiling_height_category, dtype: int64"
      ]
     },
     "execution_count": 20,
     "metadata": {},
     "output_type": "execute_result"
    }
   ],
   "source": [
    "# сделаем категоризацию по высоте потолков\n",
    "\n",
    "def ceiling_height_category(row):\n",
    "    if row['ceiling_height'] < 2.7:\n",
    "        return 'от 2.5'\n",
    "    if row['ceiling_height'] < 3:\n",
    "        return 'от 2.7'\n",
    "    if row['ceiling_height'] < 3.5:\n",
    "        return 'от 3'\n",
    "    if row['ceiling_height'] >= 3.5:\n",
    "        return 'от 3.5'\n",
    "df['ceiling_height_category'] = df.apply(ceiling_height_category, axis = 1)\n",
    "df['ceiling_height_category'].value_counts()"
   ]
  },
  {
   "cell_type": "code",
   "execution_count": 21,
   "metadata": {},
   "outputs": [
    {
     "data": {
      "text/plain": [
       "1     7977\n",
       "2     7852\n",
       "3     5759\n",
       "4     1168\n",
       "5      325\n",
       "0      193\n",
       "6      104\n",
       "7       59\n",
       "8       12\n",
       "9        8\n",
       "10       3\n",
       "11       2\n",
       "14       2\n",
       "19       1\n",
       "16       1\n",
       "12       1\n",
       "15       1\n",
       "Name: rooms, dtype: int64"
      ]
     },
     "execution_count": 21,
     "metadata": {},
     "output_type": "execute_result"
    }
   ],
   "source": [
    "# разберемся с жилой площадью. посмотрим сначала на то, какие квартиры есть:\n",
    "df['rooms'].value_counts()"
   ]
  },
  {
   "cell_type": "code",
   "execution_count": 22,
   "metadata": {},
   "outputs": [
    {
     "data": {
      "text/plain": [
       "519"
      ]
     },
     "execution_count": 22,
     "metadata": {},
     "output_type": "execute_result"
    }
   ],
   "source": [
    "# сколько всего аномальных данных\n",
    "len(df.query('rooms>=5'))"
   ]
  },
  {
   "cell_type": "markdown",
   "metadata": {},
   "source": [
    "Их 517 штук, всего 2% от общего количества, можем исключить"
   ]
  },
  {
   "cell_type": "code",
   "execution_count": 23,
   "metadata": {},
   "outputs": [
    {
     "data": {
      "text/plain": [
       "1    7977\n",
       "2    7852\n",
       "3    5759\n",
       "4    1168\n",
       "Name: rooms, dtype: int64"
      ]
     },
     "execution_count": 23,
     "metadata": {},
     "output_type": "execute_result"
    }
   ],
   "source": [
    "df = df.query('4>=rooms>=1')\n",
    "# проверяем\n",
    "df['rooms'].value_counts()\n"
   ]
  },
  {
   "cell_type": "code",
   "execution_count": 24,
   "metadata": {},
   "outputs": [
    {
     "data": {
      "text/plain": [
       "count    20954.000000\n",
       "mean        32.684080\n",
       "std         16.417317\n",
       "min          2.000000\n",
       "25%         18.600000\n",
       "50%         30.000000\n",
       "75%         41.900000\n",
       "max        250.000000\n",
       "Name: living_area, dtype: float64"
      ]
     },
     "execution_count": 24,
     "metadata": {},
     "output_type": "execute_result"
    }
   ],
   "source": [
    "# посмротрим инфу по жил. площади:\n",
    "df['living_area'].describe()"
   ]
  },
  {
   "cell_type": "markdown",
   "metadata": {},
   "source": [
    "Видим, что в минимум попала площадь в 2 кв. м. Предельно допустимая норма в РФ- 6 кв метров. Данные некорректны\n",
    "Максимум - 250 кв м, выглядит адекватно, посмотрим сколько некорректных данных:"
   ]
  },
  {
   "cell_type": "code",
   "execution_count": 25,
   "metadata": {},
   "outputs": [
    {
     "data": {
      "text/plain": [
       "4"
      ]
     },
     "execution_count": 25,
     "metadata": {},
     "output_type": "execute_result"
    }
   ],
   "source": [
    "len(df.query('living_area<6'))"
   ]
  },
  {
   "cell_type": "markdown",
   "metadata": {},
   "source": [
    "Всего 4, уберем из таблицы:"
   ]
  },
  {
   "cell_type": "code",
   "execution_count": 26,
   "metadata": {},
   "outputs": [
    {
     "data": {
      "text/plain": [
       "0"
      ]
     },
     "execution_count": 26,
     "metadata": {},
     "output_type": "execute_result"
    }
   ],
   "source": [
    "df = df.query('living_area>=6')\n",
    "\n",
    "# найдем медиану по каждой группе:\n",
    "df.groupby('rooms')['living_area'].median()\n",
    "\n",
    "# заменим пропуски на 0\n",
    "df['living_area'] = df['living_area'].fillna(value=0)\n",
    "# заменим 0 на медиану\n",
    "df['living_area'] = (df.groupby(['rooms', 'living_area'])['living_area']\\\n",
    "    .transform(lambda x: x.fillna(x.median()))).astype('int')\n",
    "# проверяем\n",
    "df['living_area'].isna().sum()"
   ]
  },
  {
   "cell_type": "code",
   "execution_count": 27,
   "metadata": {},
   "outputs": [
    {
     "data": {
      "text/plain": [
       "Другой       15438\n",
       "Последний     2938\n",
       "Первый        2574\n",
       "Name: floor_category, dtype: int64"
      ]
     },
     "execution_count": 27,
     "metadata": {},
     "output_type": "execute_result"
    }
   ],
   "source": [
    "# поменяем кол-во этажей на целочисленные значения\n",
    "df['floors_total'] = df['floors_total'].astype('int')\n",
    "\n",
    "# сделаем категоризацию по этажности\n",
    "def floor_category(row):\n",
    "    if row['floor'] == 1:\n",
    "        return 'Первый'\n",
    "    if row['floor'] == row['floors_total']:\n",
    "        return 'Последний'\n",
    "    else:\n",
    "        return 'Другой'         \n",
    "df['floor_category'] = df.apply(floor_category, axis = 1)\n",
    "df['floor_category'].value_counts()"
   ]
  },
  {
   "cell_type": "code",
   "execution_count": 28,
   "metadata": {},
   "outputs": [
    {
     "data": {
      "text/plain": [
       "0"
      ]
     },
     "execution_count": 28,
     "metadata": {},
     "output_type": "execute_result"
    }
   ],
   "source": [
    "# количество дней, сколько висело объявление\n",
    "df['days_exposition'] = df['days_exposition'].fillna(value=0)\n",
    "df['days_exposition'] = (df.groupby(['locality_name', 'days_exposition'])['days_exposition']\\\n",
    "    .transform(lambda x: x.fillna(x.median()))).astype('int')\n",
    "# проверяем\n",
    "df['days_exposition'].isna().sum()"
   ]
  },
  {
   "cell_type": "code",
   "execution_count": 29,
   "metadata": {},
   "outputs": [
    {
     "data": {
      "text/plain": [
       "0"
      ]
     },
     "execution_count": 29,
     "metadata": {},
     "output_type": "execute_result"
    }
   ],
   "source": [
    "# площадь кухни\n",
    "df['kitchen_area'] = df['kitchen_area'].fillna(value=0)\n",
    "df['kitchen_area'] = (df.groupby(['rooms', 'kitchen_area'])['kitchen_area']\\\n",
    "    .transform(lambda x: x.fillna(x.median()))).astype('int')\n",
    "# проверяем\n",
    "df['kitchen_area'].isna().sum()"
   ]
  },
  {
   "cell_type": "code",
   "execution_count": 30,
   "metadata": {},
   "outputs": [
    {
     "data": {
      "text/plain": [
       "40        4718\n",
       "50        4715\n",
       "60        3574\n",
       "70        2569\n",
       "другой    1912\n",
       "80        1818\n",
       "90        1004\n",
       "30         640\n",
       "Name: area_category, dtype: int64"
      ]
     },
     "execution_count": 30,
     "metadata": {},
     "output_type": "execute_result"
    }
   ],
   "source": [
    "# категоризируем площадь\n",
    "def area_category(row):\n",
    "    if row['total_area'] <= 30:\n",
    "        return '30'\n",
    "    if row['total_area'] <=40:\n",
    "        return '40'\n",
    "    if row['total_area'] <=50:\n",
    "        return '50'\n",
    "    if row['total_area'] <=60:\n",
    "        return '60'\n",
    "    if row['total_area'] <=70:\n",
    "        return '70'\n",
    "    if row['total_area'] <=80:\n",
    "        return '80'\n",
    "    if row['total_area'] <=90:\n",
    "        return '90'\n",
    "    else:\n",
    "        return 'другой'         \n",
    "df['area_category'] = df.apply(area_category, axis = 1)\n",
    "df['area_category'].value_counts()"
   ]
  },
  {
   "cell_type": "code",
   "execution_count": 31,
   "metadata": {},
   "outputs": [],
   "source": [
    "# приведем к целочисленному типу еще 2 столбца\n",
    "df['last_price'] = df['last_price'].astype('int')\n",
    "df['total_area'] = df['total_area'].astype('int')"
   ]
  },
  {
   "cell_type": "code",
   "execution_count": 32,
   "metadata": {},
   "outputs": [
    {
     "data": {
      "text/plain": [
       "total_images               0\n",
       "last_price                 0\n",
       "total_area                 0\n",
       "first_day_exposition       0\n",
       "rooms                      0\n",
       "ceiling_height             0\n",
       "floors_total               0\n",
       "living_area                0\n",
       "floor                      0\n",
       "is_apartment               0\n",
       "studio                     0\n",
       "open_plan                  0\n",
       "kitchen_area               0\n",
       "balcony                    0\n",
       "locality_name              0\n",
       "airports_nearest           0\n",
       "cityCenters_nearest        0\n",
       "parks_around3000           0\n",
       "parks_nearest              0\n",
       "ponds_around3000           0\n",
       "ponds_nearest              0\n",
       "days_exposition            0\n",
       "balcony_category           0\n",
       "parks_category             0\n",
       "ponds_category             0\n",
       "ceiling_height_category    0\n",
       "floor_category             0\n",
       "area_category              0\n",
       "dtype: int64"
      ]
     },
     "execution_count": 32,
     "metadata": {},
     "output_type": "execute_result"
    }
   ],
   "source": [
    "# проверяем\n",
    "df.isna().sum()"
   ]
  },
  {
   "cell_type": "code",
   "execution_count": 33,
   "metadata": {},
   "outputs": [
    {
     "name": "stdout",
     "output_type": "stream",
     "text": [
      "<class 'pandas.core.frame.DataFrame'>\n",
      "Int64Index: 20950 entries, 0 to 23564\n",
      "Data columns (total 28 columns):\n",
      " #   Column                   Non-Null Count  Dtype         \n",
      "---  ------                   --------------  -----         \n",
      " 0   total_images             20950 non-null  int64         \n",
      " 1   last_price               20950 non-null  int64         \n",
      " 2   total_area               20950 non-null  int64         \n",
      " 3   first_day_exposition     20950 non-null  datetime64[ns]\n",
      " 4   rooms                    20950 non-null  int64         \n",
      " 5   ceiling_height           20950 non-null  float64       \n",
      " 6   floors_total             20950 non-null  int64         \n",
      " 7   living_area              20950 non-null  int64         \n",
      " 8   floor                    20950 non-null  int64         \n",
      " 9   is_apartment             20950 non-null  bool          \n",
      " 10  studio                   20950 non-null  bool          \n",
      " 11  open_plan                20950 non-null  bool          \n",
      " 12  kitchen_area             20950 non-null  int64         \n",
      " 13  balcony                  20950 non-null  int64         \n",
      " 14  locality_name            20950 non-null  object        \n",
      " 15  airports_nearest         20950 non-null  int64         \n",
      " 16  cityCenters_nearest      20950 non-null  int64         \n",
      " 17  parks_around3000         20950 non-null  int64         \n",
      " 18  parks_nearest            20950 non-null  int64         \n",
      " 19  ponds_around3000         20950 non-null  int64         \n",
      " 20  ponds_nearest            20950 non-null  int64         \n",
      " 21  days_exposition          20950 non-null  int64         \n",
      " 22  balcony_category         20950 non-null  object        \n",
      " 23  parks_category           20950 non-null  object        \n",
      " 24  ponds_category           20950 non-null  object        \n",
      " 25  ceiling_height_category  20950 non-null  object        \n",
      " 26  floor_category           20950 non-null  object        \n",
      " 27  area_category            20950 non-null  object        \n",
      "dtypes: bool(3), datetime64[ns](1), float64(1), int64(16), object(7)\n",
      "memory usage: 4.2+ MB\n"
     ]
    }
   ],
   "source": [
    "df.info()"
   ]
  },
  {
   "cell_type": "markdown",
   "metadata": {},
   "source": [
    "### Вывод"
   ]
  },
  {
   "cell_type": "markdown",
   "metadata": {},
   "source": [
    "1) Проверили данные на явные и неявные дубликаты. \n",
    "\n",
    "2) Поменяли тип данных:\n",
    "* на дату в first_day_exposition\n",
    "* на булево значение в 'is_apartment'\n",
    "* на целочисленные значения в столбцах с расстояниями, площадью и стоимостью для упрощения расчетов и анализа данных\n",
    "\n",
    "3. Разобрались с пропусками в столбцах:\n",
    "* В двух столбцах пропусков было незначительное количество (floors_total - пропусков 0,03%, locality_name - пропусков 0,02% - мы их просто удалили)\n",
    "* В столбце 'is_apartment' поменяли тип на булево значение и пропуски заполнились\n",
    "* Предположили, что в столбцах с количество балконов, парков и прудов - не указанное количество является 0 и заменили значения на 0\n",
    "* Заменили столбцы с расстояниями до парков, прудов, центра и аэропорта на '888', чтобы оставить целочисленное значение в столбцах и исключить 888 при построении графиков. \n",
    "* Для заполнения пропусков с жил. площадью и площадью кухни-группировали данные по категориям квартир (однушки-4х-комнатные) и заполняли медианным значением, так как разница в площади может быть очень существенной\n",
    "* Пропуски в высоте потолков заменили на среднее значение по срезу с корректными данными\n",
    "* Исключили явно аномальные данные с количеством комнат > 5  и высотой потолков >10.\n",
    "\n",
    "4. Сделали категоризацию данных:\n",
    "* балконы, парки, пруды (есть/нет)\n",
    "* высота потолков(от 2.5, от 2.7, от 3, от 3.5)\n",
    "* количество комнат (1,2,3,4)\n",
    "* этажность (первый, последний, другое)\n",
    "* площадь квартиры (30, 40, 50, 60, 70, 80, 90, другое)\n"
   ]
  },
  {
   "cell_type": "markdown",
   "metadata": {},
   "source": [
    "## Расчёты и добавление результатов в таблицу"
   ]
  },
  {
   "cell_type": "markdown",
   "metadata": {},
   "source": [
    "Посмотрим, за какой срок данные:"
   ]
  },
  {
   "cell_type": "code",
   "execution_count": 34,
   "metadata": {},
   "outputs": [
    {
     "data": {
      "text/plain": [
       "Timestamp('2019-05-03 00:00:00')"
      ]
     },
     "execution_count": 34,
     "metadata": {},
     "output_type": "execute_result"
    }
   ],
   "source": [
    "df['first_day_exposition'].min() #27 нояб 2014\n",
    "df['first_day_exposition'].max() #03 мая 2019"
   ]
  },
  {
   "cell_type": "markdown",
   "metadata": {},
   "source": [
    "Добавим в таблицу день недели, месяц и год, когда выложили объявление:"
   ]
  },
  {
   "cell_type": "code",
   "execution_count": 35,
   "metadata": {},
   "outputs": [],
   "source": [
    "df['weekday'] = df['first_day_exposition'].dt.weekday\n",
    "df['month'] = df['first_day_exposition'].dt.month\n",
    "df['year'] = df['first_day_exposition'].dt.year"
   ]
  },
  {
   "cell_type": "code",
   "execution_count": 36,
   "metadata": {},
   "outputs": [
    {
     "data": {
      "text/plain": [
       "364"
      ]
     },
     "execution_count": 36,
     "metadata": {},
     "output_type": "execute_result"
    }
   ],
   "source": [
    "# сколько адресов\n",
    "total_name = len(locality_name_unique)\n",
    "total_name"
   ]
  },
  {
   "cell_type": "code",
   "execution_count": 37,
   "metadata": {},
   "outputs": [],
   "source": [
    "# цена квадратного метра\n",
    "df['metr'] = (df['last_price']/df['total_area']).astype('int')"
   ]
  },
  {
   "cell_type": "code",
   "execution_count": 38,
   "metadata": {},
   "outputs": [],
   "source": [
    "# соотношение жилой и общей площади в %\n",
    "df['area_ratio'] = (df['living_area']/df['total_area']*100).astype('int')"
   ]
  },
  {
   "cell_type": "code",
   "execution_count": 39,
   "metadata": {},
   "outputs": [],
   "source": [
    "# соотношение площади кухни и общей в %\n",
    "df['kitchen_ratio'] = (df['kitchen_area']/df['total_area']*100).astype('int')"
   ]
  },
  {
   "cell_type": "markdown",
   "metadata": {},
   "source": [
    "### Вывод\n",
    "* Посмотрели за какой срок данные\n",
    "* Добавили в  таблицу день недели, месяц и год\n",
    "* Посчитали и добавили в таблицу цену за кв метр\n",
    "* Посчитали и добавили  в таблицу соотношения жилой и общей площади, площади кухни и общей"
   ]
  },
  {
   "cell_type": "markdown",
   "metadata": {},
   "source": [
    "## Исследовательский анализ данных"
   ]
  },
  {
   "cell_type": "code",
   "execution_count": 40,
   "metadata": {},
   "outputs": [
    {
     "data": {
      "image/png": "[encoded data removed]",
      "text/plain": [
       "<Figure size 432x288 with 1 Axes>"
      ]
     },
     "metadata": {
      "needs_background": "light"
     },
     "output_type": "display_data"
    },
    {
     "name": "stdout",
     "output_type": "stream",
     "text": [
      "С самой большой площадью:\n"
     ]
    },
    {
     "data": {
      "text/plain": [
       "6188     470\n",
       "155      317\n",
       "789      310\n",
       "15614    293\n",
       "11254    284\n",
       "5603     280\n",
       "8857     268\n",
       "20236    267\n",
       "16406    260\n",
       "9387     260\n",
       "Name: total_area, dtype: int64"
      ]
     },
     "execution_count": 40,
     "metadata": {},
     "output_type": "execute_result"
    }
   ],
   "source": [
    "# изучим параметр площади\n",
    "plt.hist(df['total_area'], bins=30, range=(10,200))\n",
    "plt.title('Площадь квартир')\n",
    "plt.xlabel('Квадратные метры')\n",
    "plt.ylabel('Количество квартир')\n",
    "plt.show()\n",
    "print('С самой большой площадью:')\n",
    "df['total_area'].sort_values(ascending=False).head(10)"
   ]
  },
  {
   "cell_type": "code",
   "execution_count": 41,
   "metadata": {},
   "outputs": [
    {
     "data": {
      "text/plain": [
       "count    20950.000000\n",
       "mean        57.246110\n",
       "std         25.664786\n",
       "min         12.000000\n",
       "25%         40.000000\n",
       "50%         51.000000\n",
       "75%         68.000000\n",
       "max        470.000000\n",
       "Name: total_area, dtype: float64"
      ]
     },
     "execution_count": 41,
     "metadata": {},
     "output_type": "execute_result"
    }
   ],
   "source": [
    "df['total_area'].describe()"
   ]
  },
  {
   "cell_type": "markdown",
   "metadata": {},
   "source": [
    "Выделяются значения до 25 кв метров и более 175, посмотрим сколько корректных данных:"
   ]
  },
  {
   "cell_type": "code",
   "execution_count": 42,
   "metadata": {},
   "outputs": [
    {
     "data": {
      "text/plain": [
       "20786"
      ]
     },
     "execution_count": 42,
     "metadata": {},
     "output_type": "execute_result"
    }
   ],
   "source": [
    "len(df.query('24<=total_area<=175')) "
   ]
  },
  {
   "cell_type": "markdown",
   "metadata": {},
   "source": [
    "Корректных данных 99%, можем исключить некорректные 1%:"
   ]
  },
  {
   "cell_type": "code",
   "execution_count": 43,
   "metadata": {},
   "outputs": [
    {
     "data": {
      "text/plain": [
       "count    20786.000000\n",
       "mean        56.674396\n",
       "std         23.302963\n",
       "min         24.000000\n",
       "25%         40.000000\n",
       "50%         51.000000\n",
       "75%         67.000000\n",
       "max        175.000000\n",
       "Name: total_area, dtype: float64"
      ]
     },
     "execution_count": 43,
     "metadata": {},
     "output_type": "execute_result"
    }
   ],
   "source": [
    "area_correct = df.query('24<=total_area<=175')\n",
    "df['total_area'] = area_correct['total_area']\n",
    "df['total_area'].describe()"
   ]
  },
  {
   "cell_type": "markdown",
   "metadata": {},
   "source": [
    "<div class=\"alert alert-danger\"; style=\"border-left: 7px solid FireBrick\">\n",
    "<h5> ❌ <font color=\"FireBrick\">Комментарий ревьюера (красный)</font></h5>\n",
    "\n",
    "Перед отбросом выбросов очень важно в процентах оценить, сколько мы теряем, должно быть не более 10%.\n",
    "    \n",
    "\n",
    "</div>"
   ]
  },
  {
   "cell_type": "markdown",
   "metadata": {},
   "source": [
    "<div class=\"alert alert-info\"; style=\"border-left: 7px solid SteelBlue\">\n",
    "<h5>🎓 <font color=\"SteelBlue\">Комментарий от студента (синий)</font></h5>    \n",
    "\n",
    "Вынесла комментарий в отдельную ячейку, там выходит, что некорректных данных= 1% и можно удалять.\n",
    "\n",
    "</div>"
   ]
  },
  {
   "cell_type": "markdown",
   "metadata": {},
   "source": [
    "<div class=\"alert alert-success\"; style=\"border-left: 7px solid green\">\n",
    "<h5> ✔️ <font color=\"green\">v2 Комментарий ревьюера (зеленый)</font></h5>\n",
    "\n",
    "✅ Верное исправление 👍\n",
    "\n",
    "</div>"
   ]
  },
  {
   "cell_type": "code",
   "execution_count": 44,
   "metadata": {},
   "outputs": [
    {
     "name": "stdout",
     "output_type": "stream",
     "text": [
      "Самые дорогие:\n"
     ]
    },
    {
     "data": {
      "text/plain": [
       "1431     330000000\n",
       "22701    289238400\n",
       "8857     190870000\n",
       "2527     159984000\n",
       "16406    159000000\n",
       "789      135000000\n",
       "17811    135000000\n",
       "1922     125000000\n",
       "20236    124480000\n",
       "20906    124350000\n",
       "Name: last_price, dtype: int64"
      ]
     },
     "execution_count": 44,
     "metadata": {},
     "output_type": "execute_result"
    },
    {
     "data": {
      "image/png": "[encoded data removed]",
      "text/plain": [
       "<Figure size 432x288 with 1 Axes>"
      ]
     },
     "metadata": {
      "needs_background": "light"
     },
     "output_type": "display_data"
    }
   ],
   "source": [
    "# изучим параметр цены\n",
    "plt.hist(df['last_price'], bins=30, range=(50,20000000))\n",
    "plt.title('Стоимость квартир')\n",
    "plt.xlabel('Стоимость')\n",
    "plt.ylabel('Количесво квартир')\n",
    "print('Самые дорогие:')\n",
    "df['last_price'].sort_values(ascending=False).head(10)"
   ]
  },
  {
   "cell_type": "code",
   "execution_count": 45,
   "metadata": {},
   "outputs": [
    {
     "data": {
      "text/plain": [
       "count    2.095000e+04\n",
       "mean     6.008895e+06\n",
       "std      6.856901e+06\n",
       "min      1.219000e+04\n",
       "25%      3.450000e+06\n",
       "50%      4.600000e+06\n",
       "75%      6.599750e+06\n",
       "max      3.300000e+08\n",
       "Name: last_price, dtype: float64"
      ]
     },
     "execution_count": 45,
     "metadata": {},
     "output_type": "execute_result"
    }
   ],
   "source": [
    "df['last_price'].describe()"
   ]
  },
  {
   "cell_type": "markdown",
   "metadata": {},
   "source": [
    "<div class=\"alert alert-success\"; style=\"border-left: 7px solid green\">\n",
    "<h5> ✔️ <font color=\"green\">Комментарий ревьюера (зеленый)</font></h5>\n",
    "\n",
    "Молодец, верно интерпретированы данные из графика и .describe() 😃\n",
    "\n",
    "</div>"
   ]
  },
  {
   "cell_type": "markdown",
   "metadata": {},
   "source": [
    "На гистограмме большинство квартир стоит 4,6 млн, но есть длинный хвост в сторону увеличения цены c незначительным количеством данных."
   ]
  },
  {
   "cell_type": "code",
   "execution_count": 46,
   "metadata": {},
   "outputs": [
    {
     "data": {
      "text/plain": [
       "0.9998568019093079"
      ]
     },
     "execution_count": 46,
     "metadata": {},
     "output_type": "execute_result"
    }
   ],
   "source": [
    "len(df.query('last_price<175000000'))/len(df)"
   ]
  },
  {
   "cell_type": "markdown",
   "metadata": {},
   "source": [
    "Можем смело убирать некорректные данные, чтобы они не влияли на среднее и медианное значение."
   ]
  },
  {
   "cell_type": "code",
   "execution_count": 47,
   "metadata": {},
   "outputs": [],
   "source": [
    "price_correct = df.query('last_price<175000000')\n",
    "df['last_price'] = price_correct['last_price']"
   ]
  },
  {
   "cell_type": "code",
   "execution_count": 48,
   "metadata": {},
   "outputs": [
    {
     "data": {
      "image/png": "[encoded data removed]",
      "text/plain": [
       "<Figure size 432x288 with 1 Axes>"
      ]
     },
     "metadata": {
      "needs_background": "light"
     },
     "output_type": "display_data"
    },
    {
     "name": "stdout",
     "output_type": "stream",
     "text": [
      "Самые дорогая стоимость кв.м:\n"
     ]
    },
    {
     "data": {
      "text/plain": [
       "1431     1736842\n",
       "22701    1546729\n",
       "4971     1000000\n",
       "16552     841379\n",
       "17811     813253\n",
       "8281      725454\n",
       "6428      719298\n",
       "8857      712201\n",
       "2527      661090\n",
       "21120     642444\n",
       "Name: metr, dtype: int64"
      ]
     },
     "execution_count": 48,
     "metadata": {},
     "output_type": "execute_result"
    }
   ],
   "source": [
    "# изучим параметр стоимости квадратного метра\n",
    "plt.hist(df['metr'], bins=50, range=(0,250000))\n",
    "plt.title('Стоимость квадратного метра')\n",
    "plt.xlabel('Стоимость')\n",
    "plt.ylabel('Количество квартир')\n",
    "plt.show()\n",
    "print('Самые дорогая стоимость кв.м:')\n",
    "df['metr'].sort_values(ascending=False).head(10)"
   ]
  },
  {
   "cell_type": "code",
   "execution_count": 49,
   "metadata": {},
   "outputs": [
    {
     "data": {
      "text/plain": [
       "count    2.095000e+04\n",
       "mean     9.911820e+04\n",
       "std      4.570221e+04\n",
       "min      1.110000e+02\n",
       "25%      7.738100e+04\n",
       "50%      9.545400e+04\n",
       "75%      1.142850e+05\n",
       "max      1.736842e+06\n",
       "Name: metr, dtype: float64"
      ]
     },
     "execution_count": 49,
     "metadata": {},
     "output_type": "execute_result"
    }
   ],
   "source": [
    "df['metr'].describe()"
   ]
  },
  {
   "cell_type": "markdown",
   "metadata": {},
   "source": [
    "В среднем стоимость кв метра - 95 тыс руб. Есть длинный хвост больше 200 тыс руб."
   ]
  },
  {
   "cell_type": "code",
   "execution_count": 50,
   "metadata": {},
   "outputs": [],
   "source": [
    "metr_correct = df.query('metr<200000')\n",
    "df['metr'] = metr_correct['metr']"
   ]
  },
  {
   "cell_type": "code",
   "execution_count": 51,
   "metadata": {},
   "outputs": [
    {
     "data": {
      "image/png": "[encoded data removed]",
      "text/plain": [
       "<Figure size 432x288 with 1 Axes>"
      ]
     },
     "metadata": {
      "needs_background": "light"
     },
     "output_type": "display_data"
    },
    {
     "name": "stdout",
     "output_type": "stream",
     "text": [
      "Больше всего комнат:\n"
     ]
    },
    {
     "data": {
      "text/plain": [
       "13614    4\n",
       "1996     4\n",
       "18799    4\n",
       "1561     4\n",
       "13661    4\n",
       "8361     4\n",
       "13676    4\n",
       "19797    4\n",
       "8891     4\n",
       "1563     4\n",
       "Name: rooms, dtype: int64"
      ]
     },
     "execution_count": 51,
     "metadata": {},
     "output_type": "execute_result"
    }
   ],
   "source": [
    "# изучим количество комнат\n",
    "plt.hist(df['rooms'], bins=7)\n",
    "plt.title('Комнаты')\n",
    "plt.xlabel('Количество комнат')\n",
    "plt.ylabel('Количество квартир')\n",
    "plt.show()\n",
    "print('Больше всего комнат:')\n",
    "df['rooms'].sort_values(ascending=False).head(10)"
   ]
  },
  {
   "cell_type": "markdown",
   "metadata": {},
   "source": [
    "В прошлом шаге мы приводили комнаты к норм значениям и отсекали аномальные значения, потому распределение здесь адекватно."
   ]
  },
  {
   "cell_type": "code",
   "execution_count": 52,
   "metadata": {},
   "outputs": [
    {
     "data": {
      "image/png": "[encoded data removed]",
      "text/plain": [
       "<Figure size 432x288 with 1 Axes>"
      ]
     },
     "metadata": {
      "needs_background": "light"
     },
     "output_type": "display_data"
    },
    {
     "name": "stdout",
     "output_type": "stream",
     "text": [
      "Наибольшие по высоте потолков варианты:\n",
      "22184    10.3\n",
      "5833      8.3\n",
      "15656     8.0\n",
      "17345     8.0\n",
      "3459      8.0\n",
      "20151     6.0\n",
      "7540      5.5\n",
      "2791      4.8\n",
      "19035     4.7\n",
      "10106     4.5\n",
      "Name: ceiling_height, dtype: float64\n"
     ]
    }
   ],
   "source": [
    "# изучим параметр потолков\n",
    "plt.hist(df['ceiling_height'], bins=10)\n",
    "plt.title('Высота потолков')\n",
    "plt.xlabel('Метры')\n",
    "plt.ylabel('Количество квартир')\n",
    "plt.show()\n",
    "print('Наибольшие по высоте потолков варианты:')\n",
    "print(df['ceiling_height'].sort_values(ascending=False).head(10))"
   ]
  },
  {
   "cell_type": "markdown",
   "metadata": {},
   "source": [
    "Потолками так же занимались в прошлом шаге, потому тут все ок."
   ]
  },
  {
   "cell_type": "code",
   "execution_count": 53,
   "metadata": {},
   "outputs": [
    {
     "data": {
      "text/plain": [
       "count    20950.000000\n",
       "mean       158.602578\n",
       "std        213.742273\n",
       "min          0.000000\n",
       "25%         22.000000\n",
       "50%         77.000000\n",
       "75%        203.000000\n",
       "max       1580.000000\n",
       "Name: days_exposition, dtype: float64"
      ]
     },
     "execution_count": 53,
     "metadata": {},
     "output_type": "execute_result"
    }
   ],
   "source": [
    "# изучим время продажи квартиры\n",
    "df['days_exposition'].describe()\n",
    "#среднее и медиана отличаются в два раза, мешают аномальные, которых очень много"
   ]
  },
  {
   "cell_type": "code",
   "execution_count": 54,
   "metadata": {},
   "outputs": [
    {
     "data": {
      "image/png": "[encoded data removed]",
      "text/plain": [
       "<Figure size 432x288 with 1 Axes>"
      ]
     },
     "metadata": {
      "needs_background": "light"
     },
     "output_type": "display_data"
    },
    {
     "name": "stdout",
     "output_type": "stream",
     "text": [
      "Дольше всех висели:\n",
      "18739    1580\n",
      "1104     1572\n",
      "9507     1553\n",
      "1879     1513\n",
      "6657     1512\n",
      "20852    1512\n",
      "14014    1497\n",
      "19017    1485\n",
      "11887    1484\n",
      "4713     1477\n",
      "Name: days_exposition, dtype: int64\n"
     ]
    }
   ],
   "source": [
    "# нарисуем гистограмму\n",
    "plt.hist(df['days_exposition'], bins=20)\n",
    "plt.title('Количество дней')\n",
    "plt.xlabel('Дни')\n",
    "plt.ylabel('Количество объявлений')\n",
    "plt.show()\n",
    "print('Дольше всех висели:')\n",
    "print(df['days_exposition'].sort_values(ascending=False).head(10))"
   ]
  },
  {
   "cell_type": "code",
   "execution_count": 55,
   "metadata": {
    "scrolled": true
   },
   "outputs": [
    {
     "data": {
      "image/png": "[encoded data removed]",
      "text/plain": [
       "<Figure size 432x288 with 1 Axes>"
      ]
     },
     "metadata": {
      "needs_background": "light"
     },
     "output_type": "display_data"
    }
   ],
   "source": [
    "plt.boxplot(df['days_exposition'])\n",
    "None"
   ]
  },
  {
   "cell_type": "code",
   "execution_count": 56,
   "metadata": {},
   "outputs": [
    {
     "data": {
      "image/png": "[encoded data removed]",
      "text/plain": [
       "<Figure size 432x288 with 1 Axes>"
      ]
     },
     "metadata": {
      "needs_background": "light"
     },
     "output_type": "display_data"
    }
   ],
   "source": [
    "# Код ревьюера\n",
    "\n",
    "plt.boxplot(df['days_exposition'])\n",
    "None"
   ]
  },
  {
   "cell_type": "markdown",
   "metadata": {},
   "source": [
    "Исключим аномальные значения на 0 и то, что больше 500 дней, вряд ли кто-то продает квартиру годами, не обновляя объявления\n",
    "там, где объявления висят больше 500 дней - скорее всего автор забыл снять объявление после продажи"
   ]
  },
  {
   "cell_type": "code",
   "execution_count": 57,
   "metadata": {},
   "outputs": [
    {
     "data": {
      "text/plain": [
       "count    16558.000000\n",
       "mean       129.369549\n",
       "std        120.154828\n",
       "min          1.000000\n",
       "25%         39.000000\n",
       "50%         89.000000\n",
       "75%        185.000000\n",
       "max        500.000000\n",
       "Name: days_exposition, dtype: float64"
      ]
     },
     "execution_count": 57,
     "metadata": {},
     "output_type": "execute_result"
    }
   ],
   "source": [
    "correct_days = df.query('0<days_exposition<=500')\n",
    "correct_days['days_exposition'].describe()"
   ]
  },
  {
   "cell_type": "code",
   "execution_count": 58,
   "metadata": {
    "scrolled": true
   },
   "outputs": [
    {
     "data": {
      "text/plain": [
       "{'whiskers': [<matplotlib.lines.Line2D at 0x7f33351ecee0>,\n",
       "  <matplotlib.lines.Line2D at 0x7f3335223280>],\n",
       " 'caps': [<matplotlib.lines.Line2D at 0x7f33352235e0>,\n",
       "  <matplotlib.lines.Line2D at 0x7f3335223940>],\n",
       " 'boxes': [<matplotlib.lines.Line2D at 0x7f33351ecb80>],\n",
       " 'medians': [<matplotlib.lines.Line2D at 0x7f3335223ca0>],\n",
       " 'fliers': [<matplotlib.lines.Line2D at 0x7f3372b66040>],\n",
       " 'means': []}"
      ]
     },
     "execution_count": 58,
     "metadata": {},
     "output_type": "execute_result"
    },
    {
     "data": {
      "image/png": "[encoded data removed]",
      "text/plain": [
       "<Figure size 432x288 with 1 Axes>"
      ]
     },
     "metadata": {
      "needs_background": "light"
     },
     "output_type": "display_data"
    }
   ],
   "source": [
    "plt.boxplot(correct_days['days_exposition'])"
   ]
  },
  {
   "cell_type": "markdown",
   "metadata": {},
   "source": [
    "Минимальный срок -сколько висело объявление 1 день, максимальный - 500.\n",
    "В среднем квартира продается за 89 дней, медиана - 129.\n",
    "Продажи - меньше 50 дней - необычайно быстрые, более 185 - аномально долгие."
   ]
  },
  {
   "cell_type": "markdown",
   "metadata": {},
   "source": []
  },
  {
   "cell_type": "markdown",
   "metadata": {},
   "source": [
    "### Вывод\n",
    "\n",
    "* площадь квартиры - исключили аномальные значения до 25 кв метров и более 175\n",
    "* стоимость - исключили квартиры дороже 175 миллионов\n",
    "* стоимость кв м - исключили аномальную стоимость дороже 200 тыс руб\n",
    "* изучили время продажи квартиры и сделали срез по корректным данным. Минимальный срок -сколько висело объявление 1 день, максимальный - 500.В среднем квартира продается за 89 дней, медиана - 129.Продажи - меньше 50 дней - необычайно быстрые, более 185 - аномально долгие."
   ]
  },
  {
   "cell_type": "markdown",
   "metadata": {},
   "source": [
    "### Исследуем какие параметры влияют на стоимость"
   ]
  },
  {
   "cell_type": "code",
   "execution_count": 59,
   "metadata": {},
   "outputs": [
    {
     "data": {
      "text/html": [
       "<div>\n",
       "<style scoped>\n",
       "    .dataframe tbody tr th:only-of-type {\n",
       "        vertical-align: middle;\n",
       "    }\n",
       "\n",
       "    .dataframe tbody tr th {\n",
       "        vertical-align: top;\n",
       "    }\n",
       "\n",
       "    .dataframe thead th {\n",
       "        text-align: right;\n",
       "    }\n",
       "</style>\n",
       "<table border=\"1\" class=\"dataframe\">\n",
       "  <thead>\n",
       "    <tr style=\"text-align: right;\">\n",
       "      <th></th>\n",
       "      <th>count</th>\n",
       "      <th>median</th>\n",
       "    </tr>\n",
       "    <tr>\n",
       "      <th>area_category</th>\n",
       "      <th></th>\n",
       "      <th></th>\n",
       "    </tr>\n",
       "  </thead>\n",
       "  <tbody>\n",
       "    <tr>\n",
       "      <th>60</th>\n",
       "      <td>3554</td>\n",
       "      <td>89473.0</td>\n",
       "    </tr>\n",
       "    <tr>\n",
       "      <th>80</th>\n",
       "      <td>1774</td>\n",
       "      <td>90397.0</td>\n",
       "    </tr>\n",
       "    <tr>\n",
       "      <th>50</th>\n",
       "      <td>4695</td>\n",
       "      <td>90888.0</td>\n",
       "    </tr>\n",
       "    <tr>\n",
       "      <th>70</th>\n",
       "      <td>2538</td>\n",
       "      <td>91803.0</td>\n",
       "    </tr>\n",
       "    <tr>\n",
       "      <th>90</th>\n",
       "      <td>973</td>\n",
       "      <td>97530.0</td>\n",
       "    </tr>\n",
       "    <tr>\n",
       "      <th>40</th>\n",
       "      <td>4699</td>\n",
       "      <td>100000.0</td>\n",
       "    </tr>\n",
       "    <tr>\n",
       "      <th>30</th>\n",
       "      <td>635</td>\n",
       "      <td>102130.0</td>\n",
       "    </tr>\n",
       "    <tr>\n",
       "      <th>другой</th>\n",
       "      <td>1659</td>\n",
       "      <td>110236.0</td>\n",
       "    </tr>\n",
       "  </tbody>\n",
       "</table>\n",
       "</div>"
      ],
      "text/plain": [
       "               count    median\n",
       "area_category                 \n",
       "60              3554   89473.0\n",
       "80              1774   90397.0\n",
       "50              4695   90888.0\n",
       "70              2538   91803.0\n",
       "90               973   97530.0\n",
       "40              4699  100000.0\n",
       "30               635  102130.0\n",
       "другой          1659  110236.0"
      ]
     },
     "execution_count": 59,
     "metadata": {},
     "output_type": "execute_result"
    }
   ],
   "source": [
    "# зависимость цены от площади\n",
    "df_price_pivot = df.pivot_table(index=['area_category'],values= 'metr', aggfunc=('median','count'))\n",
    "df_price_pivot.sort_values(by ='median')"
   ]
  },
  {
   "cell_type": "markdown",
   "metadata": {},
   "source": [
    "Сама высокая стоимость квадратного метра у маленьких квартир -30-40 кв. метров.\n",
    "У квартир свыше 90 кв метров, стоимость квадратного метра дорожает, вероятно, там элитная недвижимость и на стоимость влияет не только общая площадь."
   ]
  },
  {
   "cell_type": "code",
   "execution_count": 60,
   "metadata": {},
   "outputs": [
    {
     "data": {
      "text/html": [
       "<div>\n",
       "<style scoped>\n",
       "    .dataframe tbody tr th:only-of-type {\n",
       "        vertical-align: middle;\n",
       "    }\n",
       "\n",
       "    .dataframe tbody tr th {\n",
       "        vertical-align: top;\n",
       "    }\n",
       "\n",
       "    .dataframe thead th {\n",
       "        text-align: right;\n",
       "    }\n",
       "</style>\n",
       "<table border=\"1\" class=\"dataframe\">\n",
       "  <thead>\n",
       "    <tr style=\"text-align: right;\">\n",
       "      <th></th>\n",
       "      <th>metr</th>\n",
       "    </tr>\n",
       "    <tr>\n",
       "      <th>rooms</th>\n",
       "      <th></th>\n",
       "    </tr>\n",
       "  </thead>\n",
       "  <tbody>\n",
       "    <tr>\n",
       "      <th>3</th>\n",
       "      <td>88607.0</td>\n",
       "    </tr>\n",
       "    <tr>\n",
       "      <th>4</th>\n",
       "      <td>90468.0</td>\n",
       "    </tr>\n",
       "    <tr>\n",
       "      <th>2</th>\n",
       "      <td>93000.0</td>\n",
       "    </tr>\n",
       "    <tr>\n",
       "      <th>1</th>\n",
       "      <td>100000.0</td>\n",
       "    </tr>\n",
       "  </tbody>\n",
       "</table>\n",
       "</div>"
      ],
      "text/plain": [
       "           metr\n",
       "rooms          \n",
       "3       88607.0\n",
       "4       90468.0\n",
       "2       93000.0\n",
       "1      100000.0"
      ]
     },
     "execution_count": 60,
     "metadata": {},
     "output_type": "execute_result"
    }
   ],
   "source": [
    "# зависимость цены от числа комнат\n",
    "df_rooms_pivot = df.pivot_table(index=['rooms'],values= 'metr', aggfunc='median')\n",
    "df_rooms_pivot.sort_values(by ='metr' )"
   ]
  },
  {
   "cell_type": "markdown",
   "metadata": {},
   "source": [
    "Подтверждается анализ по площади квартир. В однушке самая дорогая стоимость за кв метр, в двушке дешевле, в трешке еще дешевле. При этом, начиная с 4х комнат, стоимость за метр начинает расти (элитная недвижимость)."
   ]
  },
  {
   "cell_type": "code",
   "execution_count": 61,
   "metadata": {},
   "outputs": [
    {
     "data": {
      "text/html": [
       "<div>\n",
       "<style scoped>\n",
       "    .dataframe tbody tr th:only-of-type {\n",
       "        vertical-align: middle;\n",
       "    }\n",
       "\n",
       "    .dataframe tbody tr th {\n",
       "        vertical-align: top;\n",
       "    }\n",
       "\n",
       "    .dataframe thead th {\n",
       "        text-align: right;\n",
       "    }\n",
       "</style>\n",
       "<table border=\"1\" class=\"dataframe\">\n",
       "  <thead>\n",
       "    <tr style=\"text-align: right;\">\n",
       "      <th>rooms</th>\n",
       "      <th>1</th>\n",
       "      <th>2</th>\n",
       "      <th>3</th>\n",
       "      <th>4</th>\n",
       "    </tr>\n",
       "    <tr>\n",
       "      <th>balcony_category</th>\n",
       "      <th></th>\n",
       "      <th></th>\n",
       "      <th></th>\n",
       "      <th></th>\n",
       "    </tr>\n",
       "  </thead>\n",
       "  <tbody>\n",
       "    <tr>\n",
       "      <th>есть</th>\n",
       "      <td>101250.0</td>\n",
       "      <td>94117.0</td>\n",
       "      <td>88524.0</td>\n",
       "      <td>89434.0</td>\n",
       "    </tr>\n",
       "    <tr>\n",
       "      <th>нет</th>\n",
       "      <td>100000.0</td>\n",
       "      <td>92476.0</td>\n",
       "      <td>88732.0</td>\n",
       "      <td>91193.5</td>\n",
       "    </tr>\n",
       "  </tbody>\n",
       "</table>\n",
       "</div>"
      ],
      "text/plain": [
       "rooms                    1        2        3        4\n",
       "balcony_category                                     \n",
       "есть              101250.0  94117.0  88524.0  89434.0\n",
       "нет               100000.0  92476.0  88732.0  91193.5"
      ]
     },
     "execution_count": 61,
     "metadata": {},
     "output_type": "execute_result"
    }
   ],
   "source": [
    "# зависимость цены от наличия балкона\n",
    "df_balkony_pivot = df.pivot_table(index=['balcony_category'], columns = 'rooms', values= 'metr', aggfunc='median')\n",
    "df_balkony_pivot"
   ]
  },
  {
   "cell_type": "markdown",
   "metadata": {},
   "source": [
    "Однушки и 2х комнатные дороже с балконом, 3 и 4-комнатные- без. Не можем сделать однозначного вывода что наличие балкона влияет на цену."
   ]
  },
  {
   "cell_type": "code",
   "execution_count": 62,
   "metadata": {},
   "outputs": [
    {
     "data": {
      "text/html": [
       "<div>\n",
       "<style scoped>\n",
       "    .dataframe tbody tr th:only-of-type {\n",
       "        vertical-align: middle;\n",
       "    }\n",
       "\n",
       "    .dataframe tbody tr th {\n",
       "        vertical-align: top;\n",
       "    }\n",
       "\n",
       "    .dataframe thead th {\n",
       "        text-align: right;\n",
       "    }\n",
       "</style>\n",
       "<table border=\"1\" class=\"dataframe\">\n",
       "  <thead>\n",
       "    <tr style=\"text-align: right;\">\n",
       "      <th>rooms</th>\n",
       "      <th>1</th>\n",
       "      <th>2</th>\n",
       "      <th>3</th>\n",
       "      <th>4</th>\n",
       "    </tr>\n",
       "    <tr>\n",
       "      <th>ponds_category</th>\n",
       "      <th></th>\n",
       "      <th></th>\n",
       "      <th></th>\n",
       "      <th></th>\n",
       "    </tr>\n",
       "  </thead>\n",
       "  <tbody>\n",
       "    <tr>\n",
       "      <th>есть</th>\n",
       "      <td>108245.0</td>\n",
       "      <td>102459.0</td>\n",
       "      <td>96153.0</td>\n",
       "      <td>97717.0</td>\n",
       "    </tr>\n",
       "    <tr>\n",
       "      <th>нет</th>\n",
       "      <td>96774.0</td>\n",
       "      <td>86206.0</td>\n",
       "      <td>83291.0</td>\n",
       "      <td>83673.0</td>\n",
       "    </tr>\n",
       "  </tbody>\n",
       "</table>\n",
       "</div>"
      ],
      "text/plain": [
       "rooms                  1         2        3        4\n",
       "ponds_category                                      \n",
       "есть            108245.0  102459.0  96153.0  97717.0\n",
       "нет              96774.0   86206.0  83291.0  83673.0"
      ]
     },
     "execution_count": 62,
     "metadata": {},
     "output_type": "execute_result"
    }
   ],
   "source": [
    "# зависимость цены от наличия пруда\n",
    "df_ponds_pivot = df.pivot_table(index=['ponds_category'], columns = 'rooms', values= 'metr', aggfunc='median')\n",
    "df_ponds_pivot"
   ]
  },
  {
   "cell_type": "markdown",
   "metadata": {},
   "source": [
    "Наличие пруда в пределах 3 тыс км влияет на стоимость квартиры - квартиры дороже."
   ]
  },
  {
   "cell_type": "code",
   "execution_count": 63,
   "metadata": {},
   "outputs": [
    {
     "data": {
      "text/html": [
       "<div>\n",
       "<style scoped>\n",
       "    .dataframe tbody tr th:only-of-type {\n",
       "        vertical-align: middle;\n",
       "    }\n",
       "\n",
       "    .dataframe tbody tr th {\n",
       "        vertical-align: top;\n",
       "    }\n",
       "\n",
       "    .dataframe thead th {\n",
       "        text-align: right;\n",
       "    }\n",
       "</style>\n",
       "<table border=\"1\" class=\"dataframe\">\n",
       "  <thead>\n",
       "    <tr style=\"text-align: right;\">\n",
       "      <th>rooms</th>\n",
       "      <th>1</th>\n",
       "      <th>2</th>\n",
       "      <th>3</th>\n",
       "      <th>4</th>\n",
       "    </tr>\n",
       "    <tr>\n",
       "      <th>parks_category</th>\n",
       "      <th></th>\n",
       "      <th></th>\n",
       "      <th></th>\n",
       "      <th></th>\n",
       "    </tr>\n",
       "  </thead>\n",
       "  <tbody>\n",
       "    <tr>\n",
       "      <th>есть</th>\n",
       "      <td>110526.0</td>\n",
       "      <td>103448.0</td>\n",
       "      <td>97402.0</td>\n",
       "      <td>99991.0</td>\n",
       "    </tr>\n",
       "    <tr>\n",
       "      <th>нет</th>\n",
       "      <td>96944.0</td>\n",
       "      <td>85714.0</td>\n",
       "      <td>82608.0</td>\n",
       "      <td>83222.0</td>\n",
       "    </tr>\n",
       "  </tbody>\n",
       "</table>\n",
       "</div>"
      ],
      "text/plain": [
       "rooms                  1         2        3        4\n",
       "parks_category                                      \n",
       "есть            110526.0  103448.0  97402.0  99991.0\n",
       "нет              96944.0   85714.0  82608.0  83222.0"
      ]
     },
     "execution_count": 63,
     "metadata": {},
     "output_type": "execute_result"
    }
   ],
   "source": [
    "# зависимость цены от наличия парка\n",
    "df_parks_pivot = df.pivot_table(index=['parks_category'], columns = 'rooms', values= 'metr', aggfunc='median')\n",
    "df_parks_pivot"
   ]
  },
  {
   "cell_type": "markdown",
   "metadata": {},
   "source": [
    "Наличие парка в пределах 3 тыс км влияет на стоимость квартиры - квартиры дороже с парком."
   ]
  },
  {
   "cell_type": "code",
   "execution_count": 64,
   "metadata": {},
   "outputs": [
    {
     "data": {
      "text/html": [
       "<div>\n",
       "<style scoped>\n",
       "    .dataframe tbody tr th:only-of-type {\n",
       "        vertical-align: middle;\n",
       "    }\n",
       "\n",
       "    .dataframe tbody tr th {\n",
       "        vertical-align: top;\n",
       "    }\n",
       "\n",
       "    .dataframe thead th {\n",
       "        text-align: right;\n",
       "    }\n",
       "</style>\n",
       "<table border=\"1\" class=\"dataframe\">\n",
       "  <thead>\n",
       "    <tr style=\"text-align: right;\">\n",
       "      <th>rooms</th>\n",
       "      <th>1</th>\n",
       "      <th>2</th>\n",
       "      <th>3</th>\n",
       "      <th>4</th>\n",
       "    </tr>\n",
       "    <tr>\n",
       "      <th>ceiling_height_category</th>\n",
       "      <th></th>\n",
       "      <th></th>\n",
       "      <th></th>\n",
       "      <th></th>\n",
       "    </tr>\n",
       "  </thead>\n",
       "  <tbody>\n",
       "    <tr>\n",
       "      <th>от 2.5</th>\n",
       "      <td>99714.0</td>\n",
       "      <td>88636.0</td>\n",
       "      <td>83582.0</td>\n",
       "      <td>78741.0</td>\n",
       "    </tr>\n",
       "    <tr>\n",
       "      <th>от 2.7</th>\n",
       "      <td>101333.0</td>\n",
       "      <td>93181.0</td>\n",
       "      <td>89333.0</td>\n",
       "      <td>92666.0</td>\n",
       "    </tr>\n",
       "    <tr>\n",
       "      <th>от 3</th>\n",
       "      <td>118750.0</td>\n",
       "      <td>115503.0</td>\n",
       "      <td>106222.0</td>\n",
       "      <td>102061.0</td>\n",
       "    </tr>\n",
       "    <tr>\n",
       "      <th>от 3.5</th>\n",
       "      <td>122253.0</td>\n",
       "      <td>116358.0</td>\n",
       "      <td>112307.0</td>\n",
       "      <td>105595.0</td>\n",
       "    </tr>\n",
       "  </tbody>\n",
       "</table>\n",
       "</div>"
      ],
      "text/plain": [
       "rooms                           1         2         3         4\n",
       "ceiling_height_category                                        \n",
       "от 2.5                    99714.0   88636.0   83582.0   78741.0\n",
       "от 2.7                   101333.0   93181.0   89333.0   92666.0\n",
       "от 3                     118750.0  115503.0  106222.0  102061.0\n",
       "от 3.5                   122253.0  116358.0  112307.0  105595.0"
      ]
     },
     "execution_count": 64,
     "metadata": {},
     "output_type": "execute_result"
    }
   ],
   "source": [
    "# зависимость цены от высоты потолка\n",
    "df_ceiling_pivot = df.pivot_table(index=['ceiling_height_category'], columns = 'rooms', values= 'metr', aggfunc='median')\n",
    "df_ceiling_pivot"
   ]
  },
  {
   "cell_type": "markdown",
   "metadata": {},
   "source": [
    "Чем выше потолок, тем дороже стоимость за кв метр (логично, низкие потолки- или в старых квартирах или в новых эконом-класса."
   ]
  },
  {
   "cell_type": "code",
   "execution_count": 65,
   "metadata": {},
   "outputs": [
    {
     "data": {
      "text/html": [
       "<div>\n",
       "<style scoped>\n",
       "    .dataframe tbody tr th:only-of-type {\n",
       "        vertical-align: middle;\n",
       "    }\n",
       "\n",
       "    .dataframe tbody tr th {\n",
       "        vertical-align: top;\n",
       "    }\n",
       "\n",
       "    .dataframe thead th {\n",
       "        text-align: right;\n",
       "    }\n",
       "</style>\n",
       "<table border=\"1\" class=\"dataframe\">\n",
       "  <thead>\n",
       "    <tr style=\"text-align: right;\">\n",
       "      <th>rooms</th>\n",
       "      <th>1</th>\n",
       "      <th>2</th>\n",
       "      <th>3</th>\n",
       "      <th>4</th>\n",
       "    </tr>\n",
       "    <tr>\n",
       "      <th>floor_category</th>\n",
       "      <th></th>\n",
       "      <th></th>\n",
       "      <th></th>\n",
       "      <th></th>\n",
       "    </tr>\n",
       "  </thead>\n",
       "  <tbody>\n",
       "    <tr>\n",
       "      <th>Другой</th>\n",
       "      <td>103018.266164</td>\n",
       "      <td>98516.804418</td>\n",
       "      <td>94187.790140</td>\n",
       "      <td>98424.002894</td>\n",
       "    </tr>\n",
       "    <tr>\n",
       "      <th>Первый</th>\n",
       "      <td>87682.918478</td>\n",
       "      <td>77688.779093</td>\n",
       "      <td>77297.319213</td>\n",
       "      <td>79635.661972</td>\n",
       "    </tr>\n",
       "    <tr>\n",
       "      <th>Последний</th>\n",
       "      <td>91371.938776</td>\n",
       "      <td>83015.445761</td>\n",
       "      <td>86708.856594</td>\n",
       "      <td>97293.757225</td>\n",
       "    </tr>\n",
       "  </tbody>\n",
       "</table>\n",
       "</div>"
      ],
      "text/plain": [
       "rooms                       1             2             3             4\n",
       "floor_category                                                         \n",
       "Другой          103018.266164  98516.804418  94187.790140  98424.002894\n",
       "Первый           87682.918478  77688.779093  77297.319213  79635.661972\n",
       "Последний        91371.938776  83015.445761  86708.856594  97293.757225"
      ]
     },
     "execution_count": 65,
     "metadata": {},
     "output_type": "execute_result"
    }
   ],
   "source": [
    "# зависимость цены от этажа\n",
    "df_floor_pivot = df.pivot_table(index=['floor_category'], columns = 'rooms', values= 'metr', aggfunc='mean')\n",
    "df_floor_pivot"
   ]
  },
  {
   "cell_type": "markdown",
   "metadata": {},
   "source": [
    "Зависимость ожидаемо есть. На первом этаже- самая низкая стоимость за кв метр, на последнем -выше, чем на первом, но ниже, чем на других. Самая высокая стоимость- у квартир, расположенных не на первом и не на последнем этажах."
   ]
  },
  {
   "cell_type": "code",
   "execution_count": 66,
   "metadata": {},
   "outputs": [
    {
     "data": {
      "text/html": [
       "<div>\n",
       "<style scoped>\n",
       "    .dataframe tbody tr th:only-of-type {\n",
       "        vertical-align: middle;\n",
       "    }\n",
       "\n",
       "    .dataframe tbody tr th {\n",
       "        vertical-align: top;\n",
       "    }\n",
       "\n",
       "    .dataframe thead th {\n",
       "        text-align: right;\n",
       "    }\n",
       "</style>\n",
       "<table border=\"1\" class=\"dataframe\">\n",
       "  <thead>\n",
       "    <tr style=\"text-align: right;\">\n",
       "      <th></th>\n",
       "      <th>median</th>\n",
       "      <th>count</th>\n",
       "    </tr>\n",
       "    <tr>\n",
       "      <th>weekday</th>\n",
       "      <th></th>\n",
       "      <th></th>\n",
       "    </tr>\n",
       "  </thead>\n",
       "  <tbody>\n",
       "    <tr>\n",
       "      <th>1</th>\n",
       "      <td>95454.0</td>\n",
       "      <td>3695</td>\n",
       "    </tr>\n",
       "    <tr>\n",
       "      <th>2</th>\n",
       "      <td>95408.0</td>\n",
       "      <td>3439</td>\n",
       "    </tr>\n",
       "    <tr>\n",
       "      <th>0</th>\n",
       "      <td>95000.0</td>\n",
       "      <td>3159</td>\n",
       "    </tr>\n",
       "    <tr>\n",
       "      <th>3</th>\n",
       "      <td>94827.0</td>\n",
       "      <td>3705</td>\n",
       "    </tr>\n",
       "    <tr>\n",
       "      <th>6</th>\n",
       "      <td>94736.0</td>\n",
       "      <td>1420</td>\n",
       "    </tr>\n",
       "    <tr>\n",
       "      <th>4</th>\n",
       "      <td>94285.0</td>\n",
       "      <td>3472</td>\n",
       "    </tr>\n",
       "    <tr>\n",
       "      <th>5</th>\n",
       "      <td>92530.0</td>\n",
       "      <td>1637</td>\n",
       "    </tr>\n",
       "  </tbody>\n",
       "</table>\n",
       "</div>"
      ],
      "text/plain": [
       "          median  count\n",
       "weekday                \n",
       "1        95454.0   3695\n",
       "2        95408.0   3439\n",
       "0        95000.0   3159\n",
       "3        94827.0   3705\n",
       "6        94736.0   1420\n",
       "4        94285.0   3472\n",
       "5        92530.0   1637"
      ]
     },
     "execution_count": 66,
     "metadata": {},
     "output_type": "execute_result"
    },
    {
     "data": {
      "image/png": "[encoded data removed]",
      "text/plain": [
       "<Figure size 432x288 with 1 Axes>"
      ]
     },
     "metadata": {
      "needs_background": "light"
     },
     "output_type": "display_data"
    }
   ],
   "source": [
    "# зависимость цены от дня недели\n",
    "weekday_pivot = df.pivot_table(index = 'weekday', values = 'metr', aggfunc = ['median', 'count'])\n",
    "weekday_pivot.columns = ['median', 'count']\n",
    "weekday_pivot.plot(y = 'median')\n",
    "weekday_pivot.sort_values('median', ascending = False)"
   ]
  },
  {
   "cell_type": "markdown",
   "metadata": {},
   "source": [
    "В объявлениях, которые выкладываются в сб - резкое снижение стоимости за кв метр.\n",
    "Это может быть связано с тем, что в субботу выкладываются объявления осознанно, возможно посоветовавшись с риэлтором и на те квартиры, которые хотят продать достаточно быстро(потому не завышают цены), а не просто выкладывают объявления -посмотреть-будет ли спрос по указанной цене и тд."
   ]
  },
  {
   "cell_type": "code",
   "execution_count": 67,
   "metadata": {},
   "outputs": [
    {
     "data": {
      "text/html": [
       "<div>\n",
       "<style scoped>\n",
       "    .dataframe tbody tr th:only-of-type {\n",
       "        vertical-align: middle;\n",
       "    }\n",
       "\n",
       "    .dataframe tbody tr th {\n",
       "        vertical-align: top;\n",
       "    }\n",
       "\n",
       "    .dataframe thead th {\n",
       "        text-align: right;\n",
       "    }\n",
       "</style>\n",
       "<table border=\"1\" class=\"dataframe\">\n",
       "  <thead>\n",
       "    <tr style=\"text-align: right;\">\n",
       "      <th></th>\n",
       "      <th>median</th>\n",
       "      <th>count</th>\n",
       "    </tr>\n",
       "    <tr>\n",
       "      <th>month</th>\n",
       "      <th></th>\n",
       "      <th></th>\n",
       "    </tr>\n",
       "  </thead>\n",
       "  <tbody>\n",
       "    <tr>\n",
       "      <th>4</th>\n",
       "      <td>96341.0</td>\n",
       "      <td>2101</td>\n",
       "    </tr>\n",
       "    <tr>\n",
       "      <th>9</th>\n",
       "      <td>95809.5</td>\n",
       "      <td>1784</td>\n",
       "    </tr>\n",
       "    <tr>\n",
       "      <th>1</th>\n",
       "      <td>95729.0</td>\n",
       "      <td>1240</td>\n",
       "    </tr>\n",
       "    <tr>\n",
       "      <th>8</th>\n",
       "      <td>95444.0</td>\n",
       "      <td>1524</td>\n",
       "    </tr>\n",
       "    <tr>\n",
       "      <th>12</th>\n",
       "      <td>95211.5</td>\n",
       "      <td>1294</td>\n",
       "    </tr>\n",
       "    <tr>\n",
       "      <th>3</th>\n",
       "      <td>95141.0</td>\n",
       "      <td>2224</td>\n",
       "    </tr>\n",
       "    <tr>\n",
       "      <th>2</th>\n",
       "      <td>95000.0</td>\n",
       "      <td>2238</td>\n",
       "    </tr>\n",
       "    <tr>\n",
       "      <th>11</th>\n",
       "      <td>94915.0</td>\n",
       "      <td>2107</td>\n",
       "    </tr>\n",
       "    <tr>\n",
       "      <th>7</th>\n",
       "      <td>94285.0</td>\n",
       "      <td>1453</td>\n",
       "    </tr>\n",
       "    <tr>\n",
       "      <th>10</th>\n",
       "      <td>93939.0</td>\n",
       "      <td>1919</td>\n",
       "    </tr>\n",
       "    <tr>\n",
       "      <th>5</th>\n",
       "      <td>92682.0</td>\n",
       "      <td>1125</td>\n",
       "    </tr>\n",
       "    <tr>\n",
       "      <th>6</th>\n",
       "      <td>92647.0</td>\n",
       "      <td>1518</td>\n",
       "    </tr>\n",
       "  </tbody>\n",
       "</table>\n",
       "</div>"
      ],
      "text/plain": [
       "        median  count\n",
       "month                \n",
       "4      96341.0   2101\n",
       "9      95809.5   1784\n",
       "1      95729.0   1240\n",
       "8      95444.0   1524\n",
       "12     95211.5   1294\n",
       "3      95141.0   2224\n",
       "2      95000.0   2238\n",
       "11     94915.0   2107\n",
       "7      94285.0   1453\n",
       "10     93939.0   1919\n",
       "5      92682.0   1125\n",
       "6      92647.0   1518"
      ]
     },
     "execution_count": 67,
     "metadata": {},
     "output_type": "execute_result"
    },
    {
     "data": {
      "image/png": "[encoded data removed]",
      "text/plain": [
       "<Figure size 432x288 with 1 Axes>"
      ]
     },
     "metadata": {
      "needs_background": "light"
     },
     "output_type": "display_data"
    }
   ],
   "source": [
    "# зависимость цены от месяца\n",
    "month_pivot = df.pivot_table(index = 'month', values = 'metr', aggfunc = ['median', 'count'])\n",
    "month_pivot.columns = ['median', 'count']\n",
    "month_pivot.plot(y = 'median')\n",
    "month_pivot.sort_values('median', ascending = False)"
   ]
  },
  {
   "cell_type": "markdown",
   "metadata": {},
   "source": [
    "Месяц влияет на стоимость квартир.\n",
    "В апреле стоимость на квартиры самая дорогая (возможно связано с хорошей погодой-людям не лень ездить -смотреть квартиры, переезжать и т.д, возможно, к апрелю человек уже накопил денег после нг, в летние месяцы стоимость падает (июнь-месяц с самыми дешевыми ценами)- люди уезжают в отпуска, отдыхают и не занимаются куплей-продажей."
   ]
  },
  {
   "cell_type": "code",
   "execution_count": 68,
   "metadata": {},
   "outputs": [
    {
     "data": {
      "text/html": [
       "<div>\n",
       "<style scoped>\n",
       "    .dataframe tbody tr th:only-of-type {\n",
       "        vertical-align: middle;\n",
       "    }\n",
       "\n",
       "    .dataframe tbody tr th {\n",
       "        vertical-align: top;\n",
       "    }\n",
       "\n",
       "    .dataframe thead th {\n",
       "        text-align: right;\n",
       "    }\n",
       "</style>\n",
       "<table border=\"1\" class=\"dataframe\">\n",
       "  <thead>\n",
       "    <tr style=\"text-align: right;\">\n",
       "      <th></th>\n",
       "      <th>median</th>\n",
       "      <th>count</th>\n",
       "    </tr>\n",
       "    <tr>\n",
       "      <th>year</th>\n",
       "      <th></th>\n",
       "      <th></th>\n",
       "    </tr>\n",
       "  </thead>\n",
       "  <tbody>\n",
       "    <tr>\n",
       "      <th>2014</th>\n",
       "      <td>105477.0</td>\n",
       "      <td>116</td>\n",
       "    </tr>\n",
       "    <tr>\n",
       "      <th>2019</th>\n",
       "      <td>102947.5</td>\n",
       "      <td>2540</td>\n",
       "    </tr>\n",
       "    <tr>\n",
       "      <th>2018</th>\n",
       "      <td>96153.0</td>\n",
       "      <td>7163</td>\n",
       "    </tr>\n",
       "    <tr>\n",
       "      <th>2017</th>\n",
       "      <td>92245.5</td>\n",
       "      <td>7198</td>\n",
       "    </tr>\n",
       "    <tr>\n",
       "      <th>2015</th>\n",
       "      <td>92184.5</td>\n",
       "      <td>1016</td>\n",
       "    </tr>\n",
       "    <tr>\n",
       "      <th>2016</th>\n",
       "      <td>91277.0</td>\n",
       "      <td>2494</td>\n",
       "    </tr>\n",
       "  </tbody>\n",
       "</table>\n",
       "</div>"
      ],
      "text/plain": [
       "        median  count\n",
       "year                 \n",
       "2014  105477.0    116\n",
       "2019  102947.5   2540\n",
       "2018   96153.0   7163\n",
       "2017   92245.5   7198\n",
       "2015   92184.5   1016\n",
       "2016   91277.0   2494"
      ]
     },
     "execution_count": 68,
     "metadata": {},
     "output_type": "execute_result"
    },
    {
     "data": {
      "image/png": "[encoded data removed]",
      "text/plain": [
       "<Figure size 432x288 with 1 Axes>"
      ]
     },
     "metadata": {
      "needs_background": "light"
     },
     "output_type": "display_data"
    }
   ],
   "source": [
    "# зависимость цены от года\n",
    "years_pivot = df.pivot_table(index = 'year', values = 'metr', aggfunc = ['median', 'count'])\n",
    "years_pivot.columns = ['median', 'count']\n",
    "years_pivot.plot(y = 'median')\n",
    "years_pivot.sort_values('median', ascending = False)"
   ]
  },
  {
   "cell_type": "markdown",
   "metadata": {},
   "source": [
    "<div class=\"alert alert-success\"; style=\"border-left: 7px solid green\">\n",
    "<h5> ✔️ <font color=\"green\">Комментарий ревьюера (зеленый)</font></h5>\n",
    "\n",
    "Спасибо за интересные наблюдения 😃\n",
    "\n",
    "</div>"
   ]
  },
  {
   "cell_type": "markdown",
   "metadata": {},
   "source": [
    "После кризиса 2014 года у людей не было денег покупать жилье, цены резко упали и падали до 2016, после стали потихоньку расти."
   ]
  },
  {
   "cell_type": "code",
   "execution_count": 69,
   "metadata": {},
   "outputs": [
    {
     "data": {
      "image/png": "[encoded data removed]",
      "text/plain": [
       "<Figure size 360x360 with 1 Axes>"
      ]
     },
     "metadata": {
      "needs_background": "light"
     },
     "output_type": "display_data"
    }
   ],
   "source": [
    "# зависимость цены от удаленности от центра (помним, что заменяли пропуски числом 888)\n",
    "correct_centr = df.query('cityCenters_nearest!=888')\n",
    "centr_pivot =  correct_centr.pivot_table(index='cityCenters_nearest', values='metr', aggfunc='median').plot(grid=True, style='o', figsize=(5, 5), alpha=0.03)\n",
    "plt.show()"
   ]
  },
  {
   "cell_type": "code",
   "execution_count": 70,
   "metadata": {},
   "outputs": [
    {
     "data": {
      "text/plain": [
       "-0.4084896341383638"
      ]
     },
     "execution_count": 70,
     "metadata": {},
     "output_type": "execute_result"
    }
   ],
   "source": [
    "correct_centr['cityCenters_nearest'].corr(correct_centr['metr'])"
   ]
  },
  {
   "cell_type": "markdown",
   "metadata": {},
   "source": [
    "Мы видим умеренную отрицательную корреляцию. Чем ближе к центру, тем выше стоимость."
   ]
  },
  {
   "cell_type": "markdown",
   "metadata": {},
   "source": [
    "Зависимость цены от адреса. Создаем список из топ-10 населенных пунктов с наибольшим количеством объявлений и считаем по каждому среднюю цену за кв метр."
   ]
  },
  {
   "cell_type": "code",
   "execution_count": 71,
   "metadata": {
    "scrolled": true
   },
   "outputs": [
    {
     "data": {
      "text/html": [
       "<div>\n",
       "<style scoped>\n",
       "    .dataframe tbody tr th:only-of-type {\n",
       "        vertical-align: middle;\n",
       "    }\n",
       "\n",
       "    .dataframe tbody tr th {\n",
       "        vertical-align: top;\n",
       "    }\n",
       "\n",
       "    .dataframe thead th {\n",
       "        text-align: right;\n",
       "    }\n",
       "</style>\n",
       "<table border=\"1\" class=\"dataframe\">\n",
       "  <thead>\n",
       "    <tr style=\"text-align: right;\">\n",
       "      <th></th>\n",
       "      <th>count</th>\n",
       "      <th>mean</th>\n",
       "    </tr>\n",
       "    <tr>\n",
       "      <th>locality_name</th>\n",
       "      <th></th>\n",
       "      <th></th>\n",
       "    </tr>\n",
       "  </thead>\n",
       "  <tbody>\n",
       "    <tr>\n",
       "      <th>Санкт-Петербург</th>\n",
       "      <td>13526</td>\n",
       "      <td>108404.335502</td>\n",
       "    </tr>\n",
       "    <tr>\n",
       "      <th>посёлок Мурино</th>\n",
       "      <td>433</td>\n",
       "      <td>86465.478060</td>\n",
       "    </tr>\n",
       "    <tr>\n",
       "      <th>посёлок Шушары</th>\n",
       "      <td>399</td>\n",
       "      <td>78878.383459</td>\n",
       "    </tr>\n",
       "    <tr>\n",
       "      <th>Всеволожск</th>\n",
       "      <td>364</td>\n",
       "      <td>67697.173077</td>\n",
       "    </tr>\n",
       "    <tr>\n",
       "      <th>Пушкин</th>\n",
       "      <td>335</td>\n",
       "      <td>103031.773134</td>\n",
       "    </tr>\n",
       "    <tr>\n",
       "      <th>Колпино</th>\n",
       "      <td>324</td>\n",
       "      <td>75667.435185</td>\n",
       "    </tr>\n",
       "    <tr>\n",
       "      <th>посёлок Парголово</th>\n",
       "      <td>296</td>\n",
       "      <td>91130.834459</td>\n",
       "    </tr>\n",
       "    <tr>\n",
       "      <th>Гатчина</th>\n",
       "      <td>290</td>\n",
       "      <td>69001.086207</td>\n",
       "    </tr>\n",
       "    <tr>\n",
       "      <th>деревня Кудрово</th>\n",
       "      <td>246</td>\n",
       "      <td>93084.138211</td>\n",
       "    </tr>\n",
       "    <tr>\n",
       "      <th>Петергоф</th>\n",
       "      <td>195</td>\n",
       "      <td>84342.364103</td>\n",
       "    </tr>\n",
       "  </tbody>\n",
       "</table>\n",
       "</div>"
      ],
      "text/plain": [
       "                   count           mean\n",
       "locality_name                          \n",
       "Санкт-Петербург    13526  108404.335502\n",
       "посёлок Мурино       433   86465.478060\n",
       "посёлок Шушары       399   78878.383459\n",
       "Всеволожск           364   67697.173077\n",
       "Пушкин               335  103031.773134\n",
       "Колпино              324   75667.435185\n",
       "посёлок Парголово    296   91130.834459\n",
       "Гатчина              290   69001.086207\n",
       "деревня Кудрово      246   93084.138211\n",
       "Петергоф             195   84342.364103"
      ]
     },
     "execution_count": 71,
     "metadata": {},
     "output_type": "execute_result"
    }
   ],
   "source": [
    "locality_pivot = df.pivot_table(index = 'locality_name', values = 'metr', aggfunc=('count', 'mean'))\n",
    "locality_pivot.sort_values('count', ascending = False).head(10)"
   ]
  },
  {
   "cell_type": "code",
   "execution_count": 72,
   "metadata": {},
   "outputs": [
    {
     "data": {
      "image/png": "[encoded data removed]",
      "text/plain": [
       "<Figure size 1080x360 with 1 Axes>"
      ]
     },
     "metadata": {
      "needs_background": "light"
     },
     "output_type": "display_data"
    }
   ],
   "source": [
    "(locality_pivot.sort_values('count', ascending = False).head(10)).plot(kind=\"bar\", figsize=(15, 5), grid=True)\n",
    "None"
   ]
  },
  {
   "cell_type": "markdown",
   "metadata": {},
   "source": [
    "Видим, что ожидаемо, в С-П больше всего объявлений, в Петергофе меньше всего в этом топе.\n",
    "Максимальная цена за кв метр - в Санкт-Петербурге, минимальная- во Всеволжске."
   ]
  },
  {
   "cell_type": "code",
   "execution_count": 73,
   "metadata": {},
   "outputs": [
    {
     "data": {
      "image/png": "[encoded data removed]",
      "text/plain": [
       "<Figure size 720x360 with 1 Axes>"
      ]
     },
     "metadata": {
      "needs_background": "light"
     },
     "output_type": "display_data"
    }
   ],
   "source": [
    "# определим какая область входит в центр Петербурга\n",
    "df['centr_s_p']=(df['cityCenters_nearest']/1000).astype(int)\n",
    "(df.query('locality_name == \"Санкт-Петербург\"')\n",
    "    .pivot_table(index='centr_s_p', values='metr')\n",
    "    .plot(grid=True, style='o-', xlim=(0,15), figsize=(10, 5))\n",
    ")\n",
    "plt.show()"
   ]
  },
  {
   "cell_type": "code",
   "execution_count": 74,
   "metadata": {},
   "outputs": [],
   "source": [
    "# на графике видим, что от 8,5 график резко пошел вверх, значит это уже центр\n",
    "spb = df.query('(locality_name == \"Санкт-Петербург\") & (centr_s_p <= 8.5)')"
   ]
  },
  {
   "cell_type": "code",
   "execution_count": 75,
   "metadata": {},
   "outputs": [
    {
     "data": {
      "image/png": "[encoded data removed]",
      "text/plain": [
       "<Figure size 432x288 with 1 Axes>"
      ]
     },
     "metadata": {
      "needs_background": "light"
     },
     "output_type": "display_data"
    },
    {
     "name": "stdout",
     "output_type": "stream",
     "text": [
      "С самой большой площадью:\n"
     ]
    },
    {
     "data": {
      "text/plain": [
       "4373     174.0\n",
       "15214    173.0\n",
       "9588     172.0\n",
       "4816     172.0\n",
       "20838    172.0\n",
       "3102     172.0\n",
       "20507    172.0\n",
       "22537    172.0\n",
       "22087    171.0\n",
       "11271    171.0\n",
       "Name: total_area, dtype: float64"
      ]
     },
     "execution_count": 75,
     "metadata": {},
     "output_type": "execute_result"
    }
   ],
   "source": [
    "# изучим площадь\n",
    "plt.hist(spb['total_area'], bins=30, range=(10,200))\n",
    "plt.title('Площадь квартир')\n",
    "plt.xlabel('Квадратные метры')\n",
    "plt.ylabel('Количество квартир')\n",
    "plt.show()\n",
    "print('С самой большой площадью:')\n",
    "spb['total_area'].sort_values(ascending=False).head(10)"
   ]
  },
  {
   "cell_type": "code",
   "execution_count": 76,
   "metadata": {},
   "outputs": [
    {
     "data": {
      "text/plain": [
       "count    3592.000000\n",
       "mean       74.804566\n",
       "std        30.626953\n",
       "min        24.000000\n",
       "25%        50.000000\n",
       "50%        70.000000\n",
       "75%        93.000000\n",
       "max       174.000000\n",
       "Name: total_area, dtype: float64"
      ]
     },
     "execution_count": 76,
     "metadata": {},
     "output_type": "execute_result"
    }
   ],
   "source": [
    "spb['total_area'].describe()"
   ]
  },
  {
   "cell_type": "markdown",
   "metadata": {},
   "source": [
    "В центре Санкт-Петербурга квартиры продаются с большей площадью, здесь уже среднее значение -70 кв м , а не 50."
   ]
  },
  {
   "cell_type": "code",
   "execution_count": 77,
   "metadata": {},
   "outputs": [
    {
     "name": "stdout",
     "output_type": "stream",
     "text": [
      "Самые дорогие:\n"
     ]
    },
    {
     "data": {
      "text/plain": [
       "2527     159984000.0\n",
       "16406    159000000.0\n",
       "17811    135000000.0\n",
       "789      135000000.0\n",
       "1922     125000000.0\n",
       "20236    124480000.0\n",
       "20906    124350000.0\n",
       "4971     124000000.0\n",
       "16552    122000000.0\n",
       "20151    119000000.0\n",
       "Name: last_price, dtype: float64"
      ]
     },
     "execution_count": 77,
     "metadata": {},
     "output_type": "execute_result"
    },
    {
     "data": {
      "image/png": "[encoded data removed]",
      "text/plain": [
       "<Figure size 432x288 with 1 Axes>"
      ]
     },
     "metadata": {
      "needs_background": "light"
     },
     "output_type": "display_data"
    }
   ],
   "source": [
    "# изучим цену\n",
    "# изучим параметр цены\n",
    "plt.hist(spb['last_price'], bins=30, range=(50,20000000))\n",
    "plt.title('Стоимость квартир')\n",
    "plt.xlabel('Стоимость')\n",
    "plt.ylabel('Количесво квартир')\n",
    "print('Самые дорогие:')\n",
    "spb['last_price'].sort_values(ascending=False).head(10)"
   ]
  },
  {
   "cell_type": "code",
   "execution_count": 78,
   "metadata": {},
   "outputs": [
    {
     "data": {
      "text/plain": [
       "count    3.661000e+03\n",
       "mean     1.129514e+07\n",
       "std      1.164472e+07\n",
       "min      1.600000e+06\n",
       "25%      5.990000e+06\n",
       "50%      8.200000e+06\n",
       "75%      1.199900e+07\n",
       "max      1.599840e+08\n",
       "Name: last_price, dtype: float64"
      ]
     },
     "execution_count": 78,
     "metadata": {},
     "output_type": "execute_result"
    }
   ],
   "source": [
    "spb['last_price'].describe()"
   ]
  },
  {
   "cell_type": "markdown",
   "metadata": {},
   "source": [
    "Логично и ожидаемо что стоимость квартир в центре Санкт-Петербурга дороже, чем по обще базе, при этом диаграмма выглядит корректной."
   ]
  },
  {
   "cell_type": "code",
   "execution_count": 79,
   "metadata": {},
   "outputs": [
    {
     "data": {
      "image/png": "[encoded data removed]",
      "text/plain": [
       "<Figure size 432x288 with 1 Axes>"
      ]
     },
     "metadata": {
      "needs_background": "light"
     },
     "output_type": "display_data"
    },
    {
     "name": "stdout",
     "output_type": "stream",
     "text": [
      "Больше всего комнат:\n"
     ]
    },
    {
     "data": {
      "text/plain": [
       "10752    4\n",
       "17937    4\n",
       "11686    4\n",
       "19755    4\n",
       "21733    4\n",
       "19758    4\n",
       "17903    4\n",
       "17894    4\n",
       "8756     4\n",
       "19843    4\n",
       "Name: rooms, dtype: int64"
      ]
     },
     "execution_count": 79,
     "metadata": {},
     "output_type": "execute_result"
    }
   ],
   "source": [
    "# изучим число комнат\n",
    "# изучим количество комнат\n",
    "plt.hist(spb['rooms'], bins=7)\n",
    "plt.title('Комнаты')\n",
    "plt.xlabel('Количество комнат')\n",
    "plt.ylabel('Количество квартир')\n",
    "plt.show()\n",
    "print('Больше всего комнат:')\n",
    "spb['rooms'].sort_values(ascending=False).head(10)"
   ]
  },
  {
   "cell_type": "markdown",
   "metadata": {},
   "source": [
    "Гораздо больше двух, трех- и четырех - комнатных квартир, чем в общей базе. И наоборот меньше однушек."
   ]
  },
  {
   "cell_type": "code",
   "execution_count": 80,
   "metadata": {},
   "outputs": [
    {
     "data": {
      "image/png": "[encoded data removed]",
      "text/plain": [
       "<Figure size 432x288 with 1 Axes>"
      ]
     },
     "metadata": {
      "needs_background": "light"
     },
     "output_type": "display_data"
    },
    {
     "name": "stdout",
     "output_type": "stream",
     "text": [
      "Наибольшие по высоте потолков варианты:\n",
      "22184    10.3\n",
      "5833      8.3\n",
      "15656     8.0\n",
      "17345     8.0\n",
      "3459      8.0\n",
      "20151     6.0\n",
      "7540      5.5\n",
      "2791      4.8\n",
      "19035     4.7\n",
      "10106     4.5\n",
      "Name: ceiling_height, dtype: float64\n"
     ]
    }
   ],
   "source": [
    "# изучим высоту потолков\n",
    "plt.hist(spb['ceiling_height'], bins=10)\n",
    "plt.title('Высота потолков')\n",
    "plt.xlabel('Метры')\n",
    "plt.ylabel('Количество квартир')\n",
    "plt.show()\n",
    "print('Наибольшие по высоте потолков варианты:')\n",
    "print(df['ceiling_height'].sort_values(ascending=False).head(10))"
   ]
  },
  {
   "cell_type": "markdown",
   "metadata": {},
   "source": [
    "Гистограмма выглядит ок. Гораздо больше квартир с высокики потолками больше 3х метров."
   ]
  },
  {
   "cell_type": "code",
   "execution_count": 81,
   "metadata": {},
   "outputs": [
    {
     "data": {
      "text/html": [
       "<div>\n",
       "<style scoped>\n",
       "    .dataframe tbody tr th:only-of-type {\n",
       "        vertical-align: middle;\n",
       "    }\n",
       "\n",
       "    .dataframe tbody tr th {\n",
       "        vertical-align: top;\n",
       "    }\n",
       "\n",
       "    .dataframe thead th {\n",
       "        text-align: right;\n",
       "    }\n",
       "</style>\n",
       "<table border=\"1\" class=\"dataframe\">\n",
       "  <thead>\n",
       "    <tr style=\"text-align: right;\">\n",
       "      <th></th>\n",
       "      <th>metr</th>\n",
       "    </tr>\n",
       "    <tr>\n",
       "      <th>rooms</th>\n",
       "      <th></th>\n",
       "    </tr>\n",
       "  </thead>\n",
       "  <tbody>\n",
       "    <tr>\n",
       "      <th>4</th>\n",
       "      <td>103179.0</td>\n",
       "    </tr>\n",
       "    <tr>\n",
       "      <th>3</th>\n",
       "      <td>110436.0</td>\n",
       "    </tr>\n",
       "    <tr>\n",
       "      <th>2</th>\n",
       "      <td>119090.0</td>\n",
       "    </tr>\n",
       "    <tr>\n",
       "      <th>1</th>\n",
       "      <td>132934.0</td>\n",
       "    </tr>\n",
       "  </tbody>\n",
       "</table>\n",
       "</div>"
      ],
      "text/plain": [
       "           metr\n",
       "rooms          \n",
       "4      103179.0\n",
       "3      110436.0\n",
       "2      119090.0\n",
       "1      132934.0"
      ]
     },
     "execution_count": 81,
     "metadata": {},
     "output_type": "execute_result"
    }
   ],
   "source": [
    "# зависимость стоимости от числа комнат\n",
    "spb_rooms_pivot = spb.pivot_table(index=['rooms'],values= 'metr', aggfunc='median')\n",
    "spb_rooms_pivot.sort_values(by ='metr' )"
   ]
  },
  {
   "cell_type": "markdown",
   "metadata": {},
   "source": [
    "Так же, как в анализе по общей базе, однушки- самые дорогие, чем больше комнат- тем ниже стоимость кв метра."
   ]
  },
  {
   "cell_type": "code",
   "execution_count": 82,
   "metadata": {},
   "outputs": [
    {
     "data": {
      "text/html": [
       "<div>\n",
       "<style scoped>\n",
       "    .dataframe tbody tr th:only-of-type {\n",
       "        vertical-align: middle;\n",
       "    }\n",
       "\n",
       "    .dataframe tbody tr th {\n",
       "        vertical-align: top;\n",
       "    }\n",
       "\n",
       "    .dataframe thead th {\n",
       "        text-align: right;\n",
       "    }\n",
       "</style>\n",
       "<table border=\"1\" class=\"dataframe\">\n",
       "  <thead>\n",
       "    <tr style=\"text-align: right;\">\n",
       "      <th>rooms</th>\n",
       "      <th>1</th>\n",
       "      <th>2</th>\n",
       "      <th>3</th>\n",
       "      <th>4</th>\n",
       "    </tr>\n",
       "    <tr>\n",
       "      <th>ceiling_height_category</th>\n",
       "      <th></th>\n",
       "      <th></th>\n",
       "      <th></th>\n",
       "      <th></th>\n",
       "    </tr>\n",
       "  </thead>\n",
       "  <tbody>\n",
       "    <tr>\n",
       "      <th>от 2.5</th>\n",
       "      <td>99714.0</td>\n",
       "      <td>88636.0</td>\n",
       "      <td>83582.0</td>\n",
       "      <td>78741.0</td>\n",
       "    </tr>\n",
       "    <tr>\n",
       "      <th>от 2.7</th>\n",
       "      <td>101333.0</td>\n",
       "      <td>93181.0</td>\n",
       "      <td>89333.0</td>\n",
       "      <td>92666.0</td>\n",
       "    </tr>\n",
       "    <tr>\n",
       "      <th>от 3</th>\n",
       "      <td>118750.0</td>\n",
       "      <td>115503.0</td>\n",
       "      <td>106222.0</td>\n",
       "      <td>102061.0</td>\n",
       "    </tr>\n",
       "    <tr>\n",
       "      <th>от 3.5</th>\n",
       "      <td>122253.0</td>\n",
       "      <td>116358.0</td>\n",
       "      <td>112307.0</td>\n",
       "      <td>105595.0</td>\n",
       "    </tr>\n",
       "  </tbody>\n",
       "</table>\n",
       "</div>"
      ],
      "text/plain": [
       "rooms                           1         2         3         4\n",
       "ceiling_height_category                                        \n",
       "от 2.5                    99714.0   88636.0   83582.0   78741.0\n",
       "от 2.7                   101333.0   93181.0   89333.0   92666.0\n",
       "от 3                     118750.0  115503.0  106222.0  102061.0\n",
       "от 3.5                   122253.0  116358.0  112307.0  105595.0"
      ]
     },
     "execution_count": 82,
     "metadata": {},
     "output_type": "execute_result"
    }
   ],
   "source": [
    "# зависимость от высоты потолков\n",
    "spb_ceiling_pivot = df.pivot_table(index=['ceiling_height_category'], columns = 'rooms', values= 'metr', aggfunc='median')\n",
    "spb_ceiling_pivot"
   ]
  },
  {
   "cell_type": "markdown",
   "metadata": {},
   "source": [
    "Так же, как в анализе по общей базы, чем выше потолок, тем дороже стоимость."
   ]
  },
  {
   "cell_type": "code",
   "execution_count": 83,
   "metadata": {},
   "outputs": [
    {
     "data": {
      "text/html": [
       "<div>\n",
       "<style scoped>\n",
       "    .dataframe tbody tr th:only-of-type {\n",
       "        vertical-align: middle;\n",
       "    }\n",
       "\n",
       "    .dataframe tbody tr th {\n",
       "        vertical-align: top;\n",
       "    }\n",
       "\n",
       "    .dataframe thead th {\n",
       "        text-align: right;\n",
       "    }\n",
       "</style>\n",
       "<table border=\"1\" class=\"dataframe\">\n",
       "  <thead>\n",
       "    <tr style=\"text-align: right;\">\n",
       "      <th>rooms</th>\n",
       "      <th>1</th>\n",
       "      <th>2</th>\n",
       "      <th>3</th>\n",
       "      <th>4</th>\n",
       "    </tr>\n",
       "    <tr>\n",
       "      <th>floor_category</th>\n",
       "      <th></th>\n",
       "      <th></th>\n",
       "      <th></th>\n",
       "      <th></th>\n",
       "    </tr>\n",
       "  </thead>\n",
       "  <tbody>\n",
       "    <tr>\n",
       "      <th>Другой</th>\n",
       "      <td>138069.832972</td>\n",
       "      <td>126337.897727</td>\n",
       "      <td>118353.805591</td>\n",
       "      <td>110744.027864</td>\n",
       "    </tr>\n",
       "    <tr>\n",
       "      <th>Первый</th>\n",
       "      <td>120021.547368</td>\n",
       "      <td>108014.529801</td>\n",
       "      <td>104267.188119</td>\n",
       "      <td>98925.500000</td>\n",
       "    </tr>\n",
       "    <tr>\n",
       "      <th>Последний</th>\n",
       "      <td>135477.983333</td>\n",
       "      <td>116800.863636</td>\n",
       "      <td>113871.212963</td>\n",
       "      <td>117953.831325</td>\n",
       "    </tr>\n",
       "  </tbody>\n",
       "</table>\n",
       "</div>"
      ],
      "text/plain": [
       "rooms                       1              2              3              4\n",
       "floor_category                                                            \n",
       "Другой          138069.832972  126337.897727  118353.805591  110744.027864\n",
       "Первый          120021.547368  108014.529801  104267.188119   98925.500000\n",
       "Последний       135477.983333  116800.863636  113871.212963  117953.831325"
      ]
     },
     "execution_count": 83,
     "metadata": {},
     "output_type": "execute_result"
    }
   ],
   "source": [
    "# зависимость от этажа\n",
    "spb_floor_pivot = spb.pivot_table(index=['floor_category'], columns = 'rooms', values= 'metr', aggfunc='mean')\n",
    "spb_floor_pivot"
   ]
  },
  {
   "cell_type": "markdown",
   "metadata": {},
   "source": [
    "Так же, как в общей базе, стоимость кв метра на первом этаже самая низкая, на втором месте- последний этаж, самые высокие цены у квартир на этажах кроме первого и последнего. "
   ]
  },
  {
   "cell_type": "code",
   "execution_count": 84,
   "metadata": {},
   "outputs": [
    {
     "data": {
      "image/png": "[encoded data removed]",
      "text/plain": [
       "<Figure size 360x360 with 1 Axes>"
      ]
     },
     "metadata": {
      "needs_background": "light"
     },
     "output_type": "display_data"
    }
   ],
   "source": [
    "# зависимость от удаленности от центра\n",
    "correct_spb = spb.query('cityCenters_nearest!=888')\n",
    "correct_spb_pivot =  correct_spb.pivot_table(index='cityCenters_nearest', values='metr', aggfunc='median').plot(grid=True, style='o', figsize=(5, 5), alpha = 0.2)\n",
    "plt.show()"
   ]
  },
  {
   "cell_type": "code",
   "execution_count": 85,
   "metadata": {},
   "outputs": [
    {
     "data": {
      "text/plain": [
       "-0.009381644173542661"
      ]
     },
     "execution_count": 85,
     "metadata": {},
     "output_type": "execute_result"
    }
   ],
   "source": [
    "correct_spb['cityCenters_nearest'].corr(correct_spb['metr'])"
   ]
  },
  {
   "cell_type": "markdown",
   "metadata": {},
   "source": [
    "Видим мизерный коэффициент корреляции, что логично, так как мы определили центр и все квартиры находятся в его пределах."
   ]
  },
  {
   "cell_type": "code",
   "execution_count": 86,
   "metadata": {},
   "outputs": [
    {
     "data": {
      "text/html": [
       "<div>\n",
       "<style scoped>\n",
       "    .dataframe tbody tr th:only-of-type {\n",
       "        vertical-align: middle;\n",
       "    }\n",
       "\n",
       "    .dataframe tbody tr th {\n",
       "        vertical-align: top;\n",
       "    }\n",
       "\n",
       "    .dataframe thead th {\n",
       "        text-align: right;\n",
       "    }\n",
       "</style>\n",
       "<table border=\"1\" class=\"dataframe\">\n",
       "  <thead>\n",
       "    <tr style=\"text-align: right;\">\n",
       "      <th>rooms</th>\n",
       "      <th>1</th>\n",
       "      <th>2</th>\n",
       "      <th>3</th>\n",
       "      <th>4</th>\n",
       "    </tr>\n",
       "    <tr>\n",
       "      <th>ponds_category</th>\n",
       "      <th></th>\n",
       "      <th></th>\n",
       "      <th></th>\n",
       "      <th></th>\n",
       "    </tr>\n",
       "  </thead>\n",
       "  <tbody>\n",
       "    <tr>\n",
       "      <th>есть</th>\n",
       "      <td>135483.0</td>\n",
       "      <td>122222.0</td>\n",
       "      <td>112478.5</td>\n",
       "      <td>103224.0</td>\n",
       "    </tr>\n",
       "    <tr>\n",
       "      <th>нет</th>\n",
       "      <td>127386.0</td>\n",
       "      <td>112500.0</td>\n",
       "      <td>104740.5</td>\n",
       "      <td>102994.5</td>\n",
       "    </tr>\n",
       "  </tbody>\n",
       "</table>\n",
       "</div>"
      ],
      "text/plain": [
       "rooms                  1         2         3         4\n",
       "ponds_category                                        \n",
       "есть            135483.0  122222.0  112478.5  103224.0\n",
       "нет             127386.0  112500.0  104740.5  102994.5"
      ]
     },
     "execution_count": 86,
     "metadata": {},
     "output_type": "execute_result"
    }
   ],
   "source": [
    "#зависимость от наличия пруда\n",
    "spb_ponds_pivot = spb.pivot_table(index=['ponds_category'], columns = 'rooms', values= 'metr', aggfunc='median')\n",
    "spb_ponds_pivot"
   ]
  },
  {
   "cell_type": "markdown",
   "metadata": {},
   "source": [
    "Зависимость от наличия пруда есть."
   ]
  },
  {
   "cell_type": "code",
   "execution_count": 87,
   "metadata": {},
   "outputs": [
    {
     "data": {
      "image/png": "[encoded data removed]",
      "text/plain": [
       "<Figure size 432x288 with 1 Axes>"
      ]
     },
     "metadata": {
      "needs_background": "light"
     },
     "output_type": "display_data"
    },
    {
     "name": "stdout",
     "output_type": "stream",
     "text": [
      "Дольше всех висели:\n",
      "1104     1572\n",
      "20852    1512\n",
      "14014    1497\n",
      "4713     1477\n",
      "2929     1458\n",
      "14787    1430\n",
      "11917    1417\n",
      "10308    1391\n",
      "16080    1375\n",
      "12140    1363\n",
      "Name: days_exposition, dtype: int64\n"
     ]
    }
   ],
   "source": [
    "# зависимость от даты размещения объявления\n",
    "plt.hist(spb['days_exposition'], bins=20)\n",
    "plt.title('Количество дней')\n",
    "plt.xlabel('Дни')\n",
    "plt.ylabel('Количество объявлений')\n",
    "plt.show()\n",
    "print('Дольше всех висели:')\n",
    "print(spb['days_exposition'].sort_values(ascending=False).head(10))"
   ]
  },
  {
   "cell_type": "code",
   "execution_count": 88,
   "metadata": {},
   "outputs": [
    {
     "data": {
      "text/plain": [
       "{'whiskers': [<matplotlib.lines.Line2D at 0x7f3372d17160>,\n",
       "  <matplotlib.lines.Line2D at 0x7f3372d174c0>],\n",
       " 'caps': [<matplotlib.lines.Line2D at 0x7f3372d17820>,\n",
       "  <matplotlib.lines.Line2D at 0x7f3372d17b80>],\n",
       " 'boxes': [<matplotlib.lines.Line2D at 0x7f3372d06dc0>],\n",
       " 'medians': [<matplotlib.lines.Line2D at 0x7f3372d17ee0>],\n",
       " 'fliers': [<matplotlib.lines.Line2D at 0x7f3372d22280>],\n",
       " 'means': []}"
      ]
     },
     "execution_count": 88,
     "metadata": {},
     "output_type": "execute_result"
    },
    {
     "data": {
      "image/png": "[encoded data removed]",
      "text/plain": [
       "<Figure size 432x288 with 1 Axes>"
      ]
     },
     "metadata": {
      "needs_background": "light"
     },
     "output_type": "display_data"
    }
   ],
   "source": [
    "plt.boxplot(spb['days_exposition'])"
   ]
  },
  {
   "cell_type": "code",
   "execution_count": 89,
   "metadata": {},
   "outputs": [
    {
     "data": {
      "text/plain": [
       "count    2804.000000\n",
       "mean      168.575963\n",
       "std       158.027853\n",
       "min         3.000000\n",
       "25%        45.000000\n",
       "50%       111.000000\n",
       "75%       246.000000\n",
       "max       649.000000\n",
       "Name: days_exposition, dtype: float64"
      ]
     },
     "execution_count": 89,
     "metadata": {},
     "output_type": "execute_result"
    }
   ],
   "source": [
    "# здесь мы видим, что аномальные значения -после 650, а не после 500 дней\n",
    "# исключим аномальные значения на 0 и то, что больше 650 дней\n",
    "correct_days_spb = spb.query('0<days_exposition<=650')\n",
    "correct_days_spb['days_exposition'].describe()"
   ]
  },
  {
   "cell_type": "markdown",
   "metadata": {},
   "source": [
    "Здесь минимальное значения в 3 раза больше- 3 дня, максимальное - 649, среднее- 111, минимальное - 168. Дольше. чнем при анализе всей базы- это может бытьс вязано с тем, что квартире в СПБ дороже, целевой аудитории для них-меньше,  поэтому сделки совершаются дольше."
   ]
  },
  {
   "cell_type": "code",
   "execution_count": 90,
   "metadata": {},
   "outputs": [
    {
     "data": {
      "text/html": [
       "<div>\n",
       "<style scoped>\n",
       "    .dataframe tbody tr th:only-of-type {\n",
       "        vertical-align: middle;\n",
       "    }\n",
       "\n",
       "    .dataframe tbody tr th {\n",
       "        vertical-align: top;\n",
       "    }\n",
       "\n",
       "    .dataframe thead th {\n",
       "        text-align: right;\n",
       "    }\n",
       "</style>\n",
       "<table border=\"1\" class=\"dataframe\">\n",
       "  <thead>\n",
       "    <tr style=\"text-align: right;\">\n",
       "      <th></th>\n",
       "      <th>median</th>\n",
       "      <th>count</th>\n",
       "    </tr>\n",
       "    <tr>\n",
       "      <th>weekday</th>\n",
       "      <th></th>\n",
       "      <th></th>\n",
       "    </tr>\n",
       "  </thead>\n",
       "  <tbody>\n",
       "    <tr>\n",
       "      <th>6</th>\n",
       "      <td>120967.0</td>\n",
       "      <td>191</td>\n",
       "    </tr>\n",
       "    <tr>\n",
       "      <th>5</th>\n",
       "      <td>118867.0</td>\n",
       "      <td>241</td>\n",
       "    </tr>\n",
       "    <tr>\n",
       "      <th>0</th>\n",
       "      <td>118857.5</td>\n",
       "      <td>504</td>\n",
       "    </tr>\n",
       "    <tr>\n",
       "      <th>3</th>\n",
       "      <td>117391.0</td>\n",
       "      <td>665</td>\n",
       "    </tr>\n",
       "    <tr>\n",
       "      <th>4</th>\n",
       "      <td>117045.0</td>\n",
       "      <td>551</td>\n",
       "    </tr>\n",
       "    <tr>\n",
       "      <th>1</th>\n",
       "      <td>116247.5</td>\n",
       "      <td>582</td>\n",
       "    </tr>\n",
       "    <tr>\n",
       "      <th>2</th>\n",
       "      <td>115833.0</td>\n",
       "      <td>565</td>\n",
       "    </tr>\n",
       "  </tbody>\n",
       "</table>\n",
       "</div>"
      ],
      "text/plain": [
       "           median  count\n",
       "weekday                 \n",
       "6        120967.0    191\n",
       "5        118867.0    241\n",
       "0        118857.5    504\n",
       "3        117391.0    665\n",
       "4        117045.0    551\n",
       "1        116247.5    582\n",
       "2        115833.0    565"
      ]
     },
     "execution_count": 90,
     "metadata": {},
     "output_type": "execute_result"
    },
    {
     "data": {
      "image/png": "[encoded data removed]",
      "text/plain": [
       "<Figure size 432x288 with 1 Axes>"
      ]
     },
     "metadata": {
      "needs_background": "light"
     },
     "output_type": "display_data"
    }
   ],
   "source": [
    "# зависимость цены от дня недели\n",
    "weekday_pivot = spb.pivot_table(index = 'weekday', values = 'metr', aggfunc = ['median', 'count'])\n",
    "weekday_pivot.columns = ['median', 'count']\n",
    "weekday_pivot.plot(y = 'median')\n",
    "weekday_pivot.sort_values('median', ascending = False)"
   ]
  },
  {
   "cell_type": "markdown",
   "metadata": {},
   "source": [
    "По общей базе- самый низкий показатель был в субботу, по СПБ- самый низкий показатель в среду. \n",
    "Может, связано с тем, что дорогие квартиры в центре- выкладывают бизнесмены, у которых в среду нет свободного времени на это."
   ]
  },
  {
   "cell_type": "code",
   "execution_count": 91,
   "metadata": {},
   "outputs": [
    {
     "data": {
      "text/html": [
       "<div>\n",
       "<style scoped>\n",
       "    .dataframe tbody tr th:only-of-type {\n",
       "        vertical-align: middle;\n",
       "    }\n",
       "\n",
       "    .dataframe tbody tr th {\n",
       "        vertical-align: top;\n",
       "    }\n",
       "\n",
       "    .dataframe thead th {\n",
       "        text-align: right;\n",
       "    }\n",
       "</style>\n",
       "<table border=\"1\" class=\"dataframe\">\n",
       "  <thead>\n",
       "    <tr style=\"text-align: right;\">\n",
       "      <th></th>\n",
       "      <th>median</th>\n",
       "      <th>count</th>\n",
       "    </tr>\n",
       "    <tr>\n",
       "      <th>month</th>\n",
       "      <th></th>\n",
       "      <th></th>\n",
       "    </tr>\n",
       "  </thead>\n",
       "  <tbody>\n",
       "    <tr>\n",
       "      <th>3</th>\n",
       "      <td>125526.0</td>\n",
       "      <td>354</td>\n",
       "    </tr>\n",
       "    <tr>\n",
       "      <th>5</th>\n",
       "      <td>124615.0</td>\n",
       "      <td>205</td>\n",
       "    </tr>\n",
       "    <tr>\n",
       "      <th>9</th>\n",
       "      <td>120785.0</td>\n",
       "      <td>319</td>\n",
       "    </tr>\n",
       "    <tr>\n",
       "      <th>1</th>\n",
       "      <td>120027.0</td>\n",
       "      <td>198</td>\n",
       "    </tr>\n",
       "    <tr>\n",
       "      <th>4</th>\n",
       "      <td>117479.0</td>\n",
       "      <td>322</td>\n",
       "    </tr>\n",
       "    <tr>\n",
       "      <th>8</th>\n",
       "      <td>117138.0</td>\n",
       "      <td>248</td>\n",
       "    </tr>\n",
       "    <tr>\n",
       "      <th>12</th>\n",
       "      <td>116188.5</td>\n",
       "      <td>214</td>\n",
       "    </tr>\n",
       "    <tr>\n",
       "      <th>7</th>\n",
       "      <td>116025.0</td>\n",
       "      <td>249</td>\n",
       "    </tr>\n",
       "    <tr>\n",
       "      <th>2</th>\n",
       "      <td>115714.0</td>\n",
       "      <td>329</td>\n",
       "    </tr>\n",
       "    <tr>\n",
       "      <th>10</th>\n",
       "      <td>115662.0</td>\n",
       "      <td>297</td>\n",
       "    </tr>\n",
       "    <tr>\n",
       "      <th>11</th>\n",
       "      <td>113709.0</td>\n",
       "      <td>321</td>\n",
       "    </tr>\n",
       "    <tr>\n",
       "      <th>6</th>\n",
       "      <td>112698.0</td>\n",
       "      <td>243</td>\n",
       "    </tr>\n",
       "  </tbody>\n",
       "</table>\n",
       "</div>"
      ],
      "text/plain": [
       "         median  count\n",
       "month                 \n",
       "3      125526.0    354\n",
       "5      124615.0    205\n",
       "9      120785.0    319\n",
       "1      120027.0    198\n",
       "4      117479.0    322\n",
       "8      117138.0    248\n",
       "12     116188.5    214\n",
       "7      116025.0    249\n",
       "2      115714.0    329\n",
       "10     115662.0    297\n",
       "11     113709.0    321\n",
       "6      112698.0    243"
      ]
     },
     "execution_count": 91,
     "metadata": {},
     "output_type": "execute_result"
    },
    {
     "data": {
      "image/png": "[encoded data removed]",
      "text/plain": [
       "<Figure size 432x288 with 1 Axes>"
      ]
     },
     "metadata": {
      "needs_background": "light"
     },
     "output_type": "display_data"
    }
   ],
   "source": [
    "# зависимость цены от месяца\n",
    "month_pivot = spb.pivot_table(index = 'month', values = 'metr', aggfunc = ['median', 'count'])\n",
    "month_pivot.columns = ['median', 'count']\n",
    "month_pivot.plot(y = 'median')\n",
    "month_pivot.sort_values('median', ascending = False)"
   ]
  },
  {
   "cell_type": "markdown",
   "metadata": {},
   "source": [
    "Так же как в общей базе, самые низкие цены- в июне.\n",
    "Отличие, что в апреле - цены тоже низкие, а самые высокие - в марте (люди, у кого есть деньг8и на квартиры в центре СПБ накопили деньги на месяц раньше, чем остальные:)"
   ]
  },
  {
   "cell_type": "code",
   "execution_count": 92,
   "metadata": {},
   "outputs": [
    {
     "data": {
      "text/html": [
       "<div>\n",
       "<style scoped>\n",
       "    .dataframe tbody tr th:only-of-type {\n",
       "        vertical-align: middle;\n",
       "    }\n",
       "\n",
       "    .dataframe tbody tr th {\n",
       "        vertical-align: top;\n",
       "    }\n",
       "\n",
       "    .dataframe thead th {\n",
       "        text-align: right;\n",
       "    }\n",
       "</style>\n",
       "<table border=\"1\" class=\"dataframe\">\n",
       "  <thead>\n",
       "    <tr style=\"text-align: right;\">\n",
       "      <th></th>\n",
       "      <th>median</th>\n",
       "      <th>count</th>\n",
       "    </tr>\n",
       "    <tr>\n",
       "      <th>year</th>\n",
       "      <th></th>\n",
       "      <th></th>\n",
       "    </tr>\n",
       "  </thead>\n",
       "  <tbody>\n",
       "    <tr>\n",
       "      <th>2019</th>\n",
       "      <td>127868.0</td>\n",
       "      <td>373</td>\n",
       "    </tr>\n",
       "    <tr>\n",
       "      <th>2014</th>\n",
       "      <td>126458.0</td>\n",
       "      <td>24</td>\n",
       "    </tr>\n",
       "    <tr>\n",
       "      <th>2018</th>\n",
       "      <td>118750.0</td>\n",
       "      <td>1029</td>\n",
       "    </tr>\n",
       "    <tr>\n",
       "      <th>2017</th>\n",
       "      <td>114743.0</td>\n",
       "      <td>1160</td>\n",
       "    </tr>\n",
       "    <tr>\n",
       "      <th>2015</th>\n",
       "      <td>114130.0</td>\n",
       "      <td>269</td>\n",
       "    </tr>\n",
       "    <tr>\n",
       "      <th>2016</th>\n",
       "      <td>112970.5</td>\n",
       "      <td>444</td>\n",
       "    </tr>\n",
       "  </tbody>\n",
       "</table>\n",
       "</div>"
      ],
      "text/plain": [
       "        median  count\n",
       "year                 \n",
       "2019  127868.0    373\n",
       "2014  126458.0     24\n",
       "2018  118750.0   1029\n",
       "2017  114743.0   1160\n",
       "2015  114130.0    269\n",
       "2016  112970.5    444"
      ]
     },
     "execution_count": 92,
     "metadata": {},
     "output_type": "execute_result"
    },
    {
     "data": {
      "image/png": "[encoded data removed]",
      "text/plain": [
       "<Figure size 432x288 with 1 Axes>"
      ]
     },
     "metadata": {
      "needs_background": "light"
     },
     "output_type": "display_data"
    }
   ],
   "source": [
    "# зависимость цены от года\n",
    "years_pivot = spb.pivot_table(index = 'year', values = 'metr', aggfunc = ['median', 'count'])\n",
    "years_pivot.columns = ['median', 'count']\n",
    "years_pivot.plot(y = 'median')\n",
    "years_pivot.sort_values('median', ascending = False)"
   ]
  },
  {
   "cell_type": "markdown",
   "metadata": {},
   "source": [
    "Здесь картина- как в общей базе. \n",
    "После кризиса 2014 цены пошли на спад и после 2016 начали потихоньку расти."
   ]
  },
  {
   "cell_type": "markdown",
   "metadata": {},
   "source": [
    "## Общий вывод\n",
    "\n",
    "#### Проверили данные на явные и неявные дубликаты.\n",
    "\n",
    "#### Поменяли тип данных:\n",
    "\n",
    "* на дату в first_day_exposition\n",
    "* на булево значение в 'is_apartment'\n",
    "* на целочисленные значения в столбцах с расстояниями, площадью и стоимостью для упрощения расчетов и анализа данных\n",
    "\n",
    "#### Разобрались с пропусками в столбцах:\n",
    "* В двух столбцах пропусков было незначительное количество (floors_total - пропусков 0,03%, locality_name - пропусков 0,02% - мы их просто удалили)\n",
    "* В столбце 'is_apartment' поменяли тип на булево значение и пропуски заполнились\n",
    "* Предположили, что в столбцах с количество балконов, парков и прудов - не указанное количество является 0 и заменили значения на 0\n",
    "* Заменили столбцы с расстояниями до парков, прудов, центра и аэропорта на '888', чтобы оставить целочисленное значение в столбцах и исключить 888 при построении графиков.\n",
    "* Для заполнения пропусков с жил. площадью и площадью кухни-группировали данные по категориям квартир (однушки-4х-комнатные) и заполняли медианным значением, так как разница в площади может быть очень существенной\n",
    "* Пропуски в высоте потолков заменили на среднее значение по срезу с корректными данными\n",
    "\n",
    "#### Исключили явно аномальные данные с количеством комнат > 5 и высотой потолков >10.\n",
    "\n",
    "#### Сделали категоризацию данных:\n",
    "* балконы, парки, пруды (есть/нет)\n",
    "* высота потолков(от 2.5, от 2.7, от 3, от 3.5)\n",
    "* количество комнат (1,2,3,4)\n",
    "* этажность (первый, последний, другое)\n",
    "* площадь квартиры (30, 40, 50, 60, 70, 80, 90, другое)\n",
    "\n",
    "#### Провели исследовательский анализ:\n",
    "* площадь квартиры - исключили аномальные значения до 25 кв метров и более 175\n",
    "* стоимость - исключили квартиры дороже 175 миллионов\n",
    "* стоимость кв м - исключили аномальную стоимость дороже 200 тыс руб\n",
    "* изучили время продажи квартиры и сделали срез по корректным данным. Минимальный срок -сколько висело объявление 1 день, максимальный - 500.В среднем квартира продается за 89 дней, медиана - 129.Продажи - меньше 50 дней - необычайно быстрые, более 185 - аномально долгие.\n",
    "\n",
    "#### Установили параметры для определения рыночной стоимости объектов недвижимости:\n",
    "\n",
    "1) **площадь**\n",
    "\n",
    "Сама высокая стоимость квадратного метра у маленьких квартир -30-40 кв. метров. У квартир свыше 90 кв метров, стоимость квадратного метра дорожает, вероятно, там элитная недвижимость и на стоимость влияет не только общая площадь.\n",
    "\n",
    "2) **число комнат**\n",
    "\n",
    "В однушке самая дорогая стоимость за кв метр, в двушке дешевле, в трешке еще дешевле. При этом, начиная с 4х комнат, стоимость за метр начинает расти (элитная недвижимость).\n",
    "\n",
    "3) **наличие пруда в радиусе 3 км**\n",
    "\n",
    "Наличие пруда в пределах 3 тыс км влияет на стоимость квартиры - квартиры дороже.\n",
    "\n",
    "4) **наличия парка**\n",
    "\n",
    "Наличие парка в пределах 3 тыс км влияет на стоимость квартиры - квартиры дороже с парком.\n",
    "\n",
    "5) **зависимость цены от высоты потолка**\n",
    "\n",
    "Чем выше потолок, тем дороже стоимость за кв метр (логично, низкие потолки- или в старых квартирах или в новых эконом-класса.\n",
    "Категоризация на (от 2.5, от 2.7, от 3, от 3.5) имеет место быть- в каждом сегменте цены становятся выше.\n",
    "\n",
    "6) **этаж**\n",
    "\n",
    "Зависимость ожидаемо есть. На первом этаже- самая низкая стоимость за кв метр, на последнем -выше, чем на первом, но ниже, чем на других. Самая высокая стоимость- у квартир, расположенных не на первом и не на последнем этажах.\n",
    "\n",
    "7) **день недели**\n",
    "\n",
    "В объявлениях, которые выкладываются в сб - резкое снижение стоимости за кв метр. Это может быть связано с тем, что в субботу выкладываются объявления осознанно, возможно посоветовавшись с риэлтором и на те квартиры, которые хотят продать достаточно быстро(потому не завышают цены), а не просто выкладывают объявления -посмотреть-будет ли спрос по указанной цене и тд.\n",
    "\n",
    "8) **месяц**\n",
    "\n",
    "Месяц влияет на стоимость квартир. В апреле стоимость на квартиры самая дорогая (возможно связано с хорошей погодой-людям не лень ездить -смотреть квартиры, переезжать и т.д, возможно, к апрелю человек уже накопил денег после нг, в летние месяцы стоимость падает (июнь-месяц с самыми дешевыми ценами)- люди уезжают в отпуска, отдыхают и не занимаются куплей-продажей.\n",
    "\n",
    "9) **год**\n",
    "\n",
    "После кризиса 2014 года у людей не было денег покупать жилье, цены резко упали и падали до 2016, после стали потихоньку расти.\n",
    "\n",
    "10) **удаленность от центра**\n",
    "\n",
    "По общей базе- есть умеренная зависимость- чем ближе к центру, тем стоимость выше.\n",
    "В СПБ центром считается облась в 8 кв км. В радиусе этого центра зависимости не обнаружено.\n",
    "\n",
    "\n",
    "Не была однозначно выявлена зависимость стоимости от наличия балкона. Возможно, в Питере и области- в силу дождливой погоды- балкон действительно имеет мало значения.\n",
    "\n",
    "\n",
    "##### Центр Санкт-Петербурга\n",
    "\n",
    "В центре Санкт-Петербурга квартиры продаются с большей площадью, здесь уже среднее значение -70 кв м , а не 50. Гораздо больше двух, трех- и четырех - комнатных квартир, чем в общей базе. И наоборот - меньше однушек. Гораздо больше квартир с высокики потолками больше 3х метров.\n",
    "Логично и ожидаемо что стоимость квартир в центре Санкт-Петербурга дороже, чем по обще базе.\n",
    "* Так же, как в анализе по общей базе, однушки- самые дорогие, чем больше комнат- тем ниже стоимость кв метра.\n",
    "* Так же, как в анализе по общей базе, чем выше потолок, тем дороже стоимость.\n",
    "* Так же, как в общей базе, стоимость кв метра на первом этаже самая низкая, на втором месте- последний этаж, самые высокие цены у квартир на этажах кроме первого и последнего.\n",
    "* Логично, что так как мы выделили центр, колебания в стоимости незначительны.\n",
    "* Количество \"жизни\" объявления:  минимальное значения в 3 раза больше, чем при общем анализе -  3 дня, максимальное - 649, среднее- 111. Это может быть с вязано с тем, что квартире в СПБ дороже, целевой аудитории для них-меньше, поэтому сделки совершаются дольше.\n",
    "* Зависимость от дня/недели/года выкладки объявления - по общей базе- самый низкий показатель был в субботу, по СПБ- самый низкий показатель в среду. Может, связано с тем, что дорогие квартиры в центре- выкладывают бизнесмены, у которых в среду нет свободного времени на это.Так же как в общей базе, самые низкие цены- в июне. Отличие, что в апреле - цены тоже низкие, а самые высокие - в марте (люди, у кого есть деньги на квартиры в центре СПБ накопили деньги на месяц раньше, чем остальные:) После кризиса 2014 цены пошли на спад и после 2016 начали потихоньку расти.\n"
   ]
  }
 ],
 "metadata": {
  "ExecuteTimeLog": [
   {
    "duration": 1319,
    "start_time": "2022-05-31T07:25:50.962Z"
   },
   {
    "duration": 18,
    "start_time": "2022-05-31T07:25:52.283Z"
   },
   {
    "duration": 32,
    "start_time": "2022-05-31T07:25:52.303Z"
   },
   {
    "duration": 53,
    "start_time": "2022-05-31T07:25:52.338Z"
   },
   {
    "duration": 114,
    "start_time": "2022-05-31T07:25:52.393Z"
   },
   {
    "duration": 0,
    "start_time": "2022-05-31T07:25:52.511Z"
   },
   {
    "duration": 0,
    "start_time": "2022-05-31T07:25:52.513Z"
   },
   {
    "duration": 0,
    "start_time": "2022-05-31T07:25:52.514Z"
   },
   {
    "duration": 0,
    "start_time": "2022-05-31T07:25:52.515Z"
   },
   {
    "duration": 0,
    "start_time": "2022-05-31T07:25:52.516Z"
   },
   {
    "duration": 0,
    "start_time": "2022-05-31T07:25:52.517Z"
   },
   {
    "duration": 0,
    "start_time": "2022-05-31T07:25:52.519Z"
   },
   {
    "duration": 0,
    "start_time": "2022-05-31T07:25:52.520Z"
   },
   {
    "duration": 0,
    "start_time": "2022-05-31T07:25:52.521Z"
   },
   {
    "duration": 0,
    "start_time": "2022-05-31T07:25:52.523Z"
   },
   {
    "duration": 0,
    "start_time": "2022-05-31T07:25:52.524Z"
   },
   {
    "duration": 0,
    "start_time": "2022-05-31T07:25:52.525Z"
   },
   {
    "duration": 0,
    "start_time": "2022-05-31T07:25:52.526Z"
   },
   {
    "duration": 0,
    "start_time": "2022-05-31T07:25:52.527Z"
   },
   {
    "duration": 0,
    "start_time": "2022-05-31T07:25:52.528Z"
   },
   {
    "duration": 0,
    "start_time": "2022-05-31T07:25:52.530Z"
   },
   {
    "duration": 0,
    "start_time": "2022-05-31T07:25:52.531Z"
   },
   {
    "duration": 0,
    "start_time": "2022-05-31T07:25:52.567Z"
   },
   {
    "duration": 0,
    "start_time": "2022-05-31T07:25:52.568Z"
   },
   {
    "duration": 0,
    "start_time": "2022-05-31T07:25:52.570Z"
   },
   {
    "duration": 0,
    "start_time": "2022-05-31T07:25:52.571Z"
   },
   {
    "duration": 0,
    "start_time": "2022-05-31T07:25:52.572Z"
   },
   {
    "duration": 0,
    "start_time": "2022-05-31T07:25:52.574Z"
   },
   {
    "duration": 0,
    "start_time": "2022-05-31T07:25:52.575Z"
   },
   {
    "duration": 0,
    "start_time": "2022-05-31T07:25:52.576Z"
   },
   {
    "duration": 0,
    "start_time": "2022-05-31T07:25:52.578Z"
   },
   {
    "duration": 0,
    "start_time": "2022-05-31T07:25:52.579Z"
   },
   {
    "duration": 0,
    "start_time": "2022-05-31T07:25:52.580Z"
   },
   {
    "duration": 0,
    "start_time": "2022-05-31T07:25:52.582Z"
   },
   {
    "duration": 0,
    "start_time": "2022-05-31T07:25:52.583Z"
   },
   {
    "duration": 0,
    "start_time": "2022-05-31T07:25:52.584Z"
   },
   {
    "duration": 0,
    "start_time": "2022-05-31T07:25:52.585Z"
   },
   {
    "duration": 0,
    "start_time": "2022-05-31T07:25:52.587Z"
   },
   {
    "duration": 0,
    "start_time": "2022-05-31T07:25:52.588Z"
   },
   {
    "duration": 0,
    "start_time": "2022-05-31T07:25:52.589Z"
   },
   {
    "duration": 0,
    "start_time": "2022-05-31T07:25:52.591Z"
   },
   {
    "duration": 0,
    "start_time": "2022-05-31T07:25:52.592Z"
   },
   {
    "duration": 0,
    "start_time": "2022-05-31T07:25:52.593Z"
   },
   {
    "duration": 0,
    "start_time": "2022-05-31T07:25:52.595Z"
   },
   {
    "duration": 0,
    "start_time": "2022-05-31T07:25:52.596Z"
   },
   {
    "duration": 0,
    "start_time": "2022-05-31T07:25:52.597Z"
   },
   {
    "duration": 1,
    "start_time": "2022-05-31T07:25:52.598Z"
   },
   {
    "duration": 0,
    "start_time": "2022-05-31T07:25:52.600Z"
   },
   {
    "duration": 0,
    "start_time": "2022-05-31T07:25:52.602Z"
   },
   {
    "duration": 0,
    "start_time": "2022-05-31T07:25:52.603Z"
   },
   {
    "duration": 0,
    "start_time": "2022-05-31T07:25:52.604Z"
   },
   {
    "duration": 0,
    "start_time": "2022-05-31T07:25:52.606Z"
   },
   {
    "duration": 0,
    "start_time": "2022-05-31T07:25:52.610Z"
   },
   {
    "duration": 0,
    "start_time": "2022-05-31T07:25:52.665Z"
   },
   {
    "duration": 0,
    "start_time": "2022-05-31T07:25:52.667Z"
   },
   {
    "duration": 0,
    "start_time": "2022-05-31T07:25:52.669Z"
   },
   {
    "duration": 0,
    "start_time": "2022-05-31T07:25:52.670Z"
   },
   {
    "duration": 0,
    "start_time": "2022-05-31T07:25:52.672Z"
   },
   {
    "duration": 0,
    "start_time": "2022-05-31T07:25:52.674Z"
   },
   {
    "duration": 0,
    "start_time": "2022-05-31T07:25:52.676Z"
   },
   {
    "duration": 0,
    "start_time": "2022-05-31T07:25:52.677Z"
   },
   {
    "duration": 0,
    "start_time": "2022-05-31T07:25:52.678Z"
   },
   {
    "duration": 0,
    "start_time": "2022-05-31T07:25:52.680Z"
   },
   {
    "duration": 0,
    "start_time": "2022-05-31T07:25:52.681Z"
   },
   {
    "duration": 0,
    "start_time": "2022-05-31T07:25:52.682Z"
   },
   {
    "duration": 0,
    "start_time": "2022-05-31T07:25:52.683Z"
   },
   {
    "duration": 0,
    "start_time": "2022-05-31T07:25:52.685Z"
   },
   {
    "duration": 0,
    "start_time": "2022-05-31T07:25:52.686Z"
   },
   {
    "duration": 0,
    "start_time": "2022-05-31T07:25:52.687Z"
   },
   {
    "duration": 0,
    "start_time": "2022-05-31T07:25:52.689Z"
   },
   {
    "duration": 0,
    "start_time": "2022-05-31T07:25:52.690Z"
   },
   {
    "duration": 0,
    "start_time": "2022-05-31T07:25:52.691Z"
   },
   {
    "duration": 0,
    "start_time": "2022-05-31T07:25:52.692Z"
   },
   {
    "duration": 0,
    "start_time": "2022-05-31T07:25:52.694Z"
   },
   {
    "duration": 0,
    "start_time": "2022-05-31T07:25:52.695Z"
   },
   {
    "duration": 0,
    "start_time": "2022-05-31T07:25:52.696Z"
   },
   {
    "duration": 0,
    "start_time": "2022-05-31T07:25:52.697Z"
   },
   {
    "duration": 0,
    "start_time": "2022-05-31T07:25:52.699Z"
   },
   {
    "duration": 0,
    "start_time": "2022-05-31T07:25:52.700Z"
   },
   {
    "duration": 940,
    "start_time": "2022-05-31T07:26:53.342Z"
   },
   {
    "duration": 20,
    "start_time": "2022-05-31T07:26:54.284Z"
   },
   {
    "duration": 9,
    "start_time": "2022-05-31T07:26:54.305Z"
   },
   {
    "duration": 24,
    "start_time": "2022-05-31T07:26:54.316Z"
   },
   {
    "duration": 35,
    "start_time": "2022-05-31T07:26:54.341Z"
   },
   {
    "duration": 27,
    "start_time": "2022-05-31T07:26:54.379Z"
   },
   {
    "duration": 20,
    "start_time": "2022-05-31T07:26:54.407Z"
   },
   {
    "duration": 307,
    "start_time": "2022-05-31T07:26:54.428Z"
   },
   {
    "duration": 276,
    "start_time": "2022-05-31T07:26:54.737Z"
   },
   {
    "duration": 300,
    "start_time": "2022-05-31T07:26:55.016Z"
   },
   {
    "duration": 9,
    "start_time": "2022-05-31T07:26:55.318Z"
   },
   {
    "duration": 8,
    "start_time": "2022-05-31T07:26:55.329Z"
   },
   {
    "duration": 30,
    "start_time": "2022-05-31T07:26:55.339Z"
   },
   {
    "duration": 18,
    "start_time": "2022-05-31T07:26:55.371Z"
   },
   {
    "duration": 7,
    "start_time": "2022-05-31T07:26:55.391Z"
   },
   {
    "duration": 365,
    "start_time": "2022-05-31T07:26:55.400Z"
   },
   {
    "duration": 5,
    "start_time": "2022-05-31T07:26:55.767Z"
   },
   {
    "duration": 19,
    "start_time": "2022-05-31T07:26:55.774Z"
   },
   {
    "duration": 948,
    "start_time": "2022-05-31T07:26:55.795Z"
   },
   {
    "duration": 308,
    "start_time": "2022-05-31T07:26:56.745Z"
   },
   {
    "duration": 2511,
    "start_time": "2022-05-31T07:26:57.056Z"
   },
   {
    "duration": 1025,
    "start_time": "2022-05-31T07:26:59.569Z"
   },
   {
    "duration": 984,
    "start_time": "2022-05-31T07:27:00.595Z"
   },
   {
    "duration": 7,
    "start_time": "2022-05-31T07:27:01.581Z"
   },
   {
    "duration": 75,
    "start_time": "2022-05-31T07:27:01.591Z"
   },
   {
    "duration": 28,
    "start_time": "2022-05-31T07:27:01.668Z"
   },
   {
    "duration": 67,
    "start_time": "2022-05-31T07:27:01.698Z"
   },
   {
    "duration": 17,
    "start_time": "2022-05-31T07:27:01.772Z"
   },
   {
    "duration": 6,
    "start_time": "2022-05-31T07:27:01.791Z"
   },
   {
    "duration": 66,
    "start_time": "2022-05-31T07:27:01.799Z"
   },
   {
    "duration": 6,
    "start_time": "2022-05-31T07:27:01.868Z"
   },
   {
    "duration": 14,
    "start_time": "2022-05-31T07:27:01.876Z"
   },
   {
    "duration": 305,
    "start_time": "2022-05-31T07:27:01.893Z"
   },
   {
    "duration": 9,
    "start_time": "2022-05-31T07:27:02.199Z"
   },
   {
    "duration": 31,
    "start_time": "2022-05-31T07:27:02.209Z"
   },
   {
    "duration": 234,
    "start_time": "2022-05-31T07:27:02.265Z"
   },
   {
    "duration": 9,
    "start_time": "2022-05-31T07:27:02.500Z"
   },
   {
    "duration": 17,
    "start_time": "2022-05-31T07:27:02.511Z"
   },
   {
    "duration": 320,
    "start_time": "2022-05-31T07:27:02.530Z"
   },
   {
    "duration": 16,
    "start_time": "2022-05-31T07:27:02.852Z"
   },
   {
    "duration": 18,
    "start_time": "2022-05-31T07:27:02.871Z"
   },
   {
    "duration": 183,
    "start_time": "2022-05-31T07:27:02.891Z"
   },
   {
    "duration": 191,
    "start_time": "2022-05-31T07:27:03.076Z"
   },
   {
    "duration": 9,
    "start_time": "2022-05-31T07:27:03.269Z"
   },
   {
    "duration": 194,
    "start_time": "2022-05-31T07:27:03.280Z"
   },
   {
    "duration": 135,
    "start_time": "2022-05-31T07:27:03.476Z"
   },
   {
    "duration": 19,
    "start_time": "2022-05-31T07:27:03.613Z"
   },
   {
    "duration": 132,
    "start_time": "2022-05-31T07:27:03.635Z"
   },
   {
    "duration": 28,
    "start_time": "2022-05-31T07:27:03.769Z"
   },
   {
    "duration": 14,
    "start_time": "2022-05-31T07:27:03.799Z"
   },
   {
    "duration": 22,
    "start_time": "2022-05-31T07:27:03.815Z"
   },
   {
    "duration": 24,
    "start_time": "2022-05-31T07:27:03.871Z"
   },
   {
    "duration": 21,
    "start_time": "2022-05-31T07:27:03.897Z"
   },
   {
    "duration": 22,
    "start_time": "2022-05-31T07:27:03.920Z"
   },
   {
    "duration": 41,
    "start_time": "2022-05-31T07:27:03.943Z"
   },
   {
    "duration": 189,
    "start_time": "2022-05-31T07:27:03.987Z"
   },
   {
    "duration": 198,
    "start_time": "2022-05-31T07:27:04.178Z"
   },
   {
    "duration": 191,
    "start_time": "2022-05-31T07:27:04.379Z"
   },
   {
    "duration": 209,
    "start_time": "2022-05-31T07:27:04.573Z"
   },
   {
    "duration": 23,
    "start_time": "2022-05-31T07:27:04.784Z"
   },
   {
    "duration": 214,
    "start_time": "2022-05-31T07:27:04.809Z"
   },
   {
    "duration": 10,
    "start_time": "2022-05-31T07:27:05.025Z"
   },
   {
    "duration": 307,
    "start_time": "2022-05-31T07:27:05.037Z"
   },
   {
    "duration": 25,
    "start_time": "2022-05-31T07:27:05.346Z"
   },
   {
    "duration": 219,
    "start_time": "2022-05-31T07:27:05.374Z"
   },
   {
    "duration": 10,
    "start_time": "2022-05-31T07:27:05.595Z"
   },
   {
    "duration": 171,
    "start_time": "2022-05-31T07:27:05.607Z"
   },
   {
    "duration": 190,
    "start_time": "2022-05-31T07:27:05.780Z"
   },
   {
    "duration": 17,
    "start_time": "2022-05-31T07:27:05.972Z"
   },
   {
    "duration": 23,
    "start_time": "2022-05-31T07:27:05.991Z"
   },
   {
    "duration": 52,
    "start_time": "2022-05-31T07:27:06.016Z"
   },
   {
    "duration": 182,
    "start_time": "2022-05-31T07:27:06.070Z"
   },
   {
    "duration": 26,
    "start_time": "2022-05-31T07:27:06.253Z"
   },
   {
    "duration": 223,
    "start_time": "2022-05-31T07:27:06.281Z"
   },
   {
    "duration": 136,
    "start_time": "2022-05-31T07:27:06.506Z"
   },
   {
    "duration": 22,
    "start_time": "2022-05-31T07:27:06.644Z"
   },
   {
    "duration": 176,
    "start_time": "2022-05-31T07:27:06.669Z"
   },
   {
    "duration": 186,
    "start_time": "2022-05-31T07:27:06.846Z"
   },
   {
    "duration": 181,
    "start_time": "2022-05-31T07:27:07.034Z"
   },
   {
    "duration": 155,
    "start_time": "2022-05-31T07:31:10.967Z"
   },
   {
    "duration": 236,
    "start_time": "2022-05-31T07:31:14.119Z"
   },
   {
    "duration": 125,
    "start_time": "2022-05-31T07:32:07.247Z"
   },
   {
    "duration": 907,
    "start_time": "2022-05-31T07:38:20.180Z"
   },
   {
    "duration": 17,
    "start_time": "2022-05-31T07:38:21.089Z"
   },
   {
    "duration": 10,
    "start_time": "2022-05-31T07:38:21.108Z"
   },
   {
    "duration": 51,
    "start_time": "2022-05-31T07:38:21.120Z"
   },
   {
    "duration": 15,
    "start_time": "2022-05-31T07:38:21.177Z"
   },
   {
    "duration": 23,
    "start_time": "2022-05-31T07:38:21.195Z"
   },
   {
    "duration": 49,
    "start_time": "2022-05-31T07:38:21.220Z"
   },
   {
    "duration": 271,
    "start_time": "2022-05-31T07:38:21.274Z"
   },
   {
    "duration": 303,
    "start_time": "2022-05-31T07:38:21.547Z"
   },
   {
    "duration": 283,
    "start_time": "2022-05-31T07:38:21.852Z"
   },
   {
    "duration": 9,
    "start_time": "2022-05-31T07:38:22.137Z"
   },
   {
    "duration": 39,
    "start_time": "2022-05-31T07:38:22.147Z"
   },
   {
    "duration": 12,
    "start_time": "2022-05-31T07:38:22.187Z"
   },
   {
    "duration": 14,
    "start_time": "2022-05-31T07:38:22.202Z"
   },
   {
    "duration": 13,
    "start_time": "2022-05-31T07:38:22.219Z"
   },
   {
    "duration": 396,
    "start_time": "2022-05-31T07:38:22.234Z"
   },
   {
    "duration": 5,
    "start_time": "2022-05-31T07:38:22.632Z"
   },
   {
    "duration": 45,
    "start_time": "2022-05-31T07:38:22.639Z"
   },
   {
    "duration": 969,
    "start_time": "2022-05-31T07:38:22.686Z"
   },
   {
    "duration": 338,
    "start_time": "2022-05-31T07:38:23.658Z"
   },
   {
    "duration": 2700,
    "start_time": "2022-05-31T07:38:23.998Z"
   },
   {
    "duration": 1382,
    "start_time": "2022-05-31T07:38:26.700Z"
   },
   {
    "duration": 442,
    "start_time": "2022-05-31T07:38:28.085Z"
   },
   {
    "duration": 5,
    "start_time": "2022-05-31T07:38:28.529Z"
   },
   {
    "duration": 15,
    "start_time": "2022-05-31T07:38:28.535Z"
   },
   {
    "duration": 19,
    "start_time": "2022-05-31T07:38:28.582Z"
   },
   {
    "duration": 5,
    "start_time": "2022-05-31T07:38:28.603Z"
   },
   {
    "duration": 15,
    "start_time": "2022-05-31T07:38:28.609Z"
   },
   {
    "duration": 3,
    "start_time": "2022-05-31T07:38:28.626Z"
   },
   {
    "duration": 7,
    "start_time": "2022-05-31T07:38:28.631Z"
   },
   {
    "duration": 7,
    "start_time": "2022-05-31T07:38:28.640Z"
   },
   {
    "duration": 11,
    "start_time": "2022-05-31T07:38:28.666Z"
   },
   {
    "duration": 218,
    "start_time": "2022-05-31T07:38:28.679Z"
   },
   {
    "duration": 12,
    "start_time": "2022-05-31T07:38:28.899Z"
   },
   {
    "duration": 46,
    "start_time": "2022-05-31T07:38:28.913Z"
   },
   {
    "duration": 253,
    "start_time": "2022-05-31T07:38:28.971Z"
   },
   {
    "duration": 10,
    "start_time": "2022-05-31T07:38:29.227Z"
   },
   {
    "duration": 31,
    "start_time": "2022-05-31T07:38:29.239Z"
   },
   {
    "duration": 273,
    "start_time": "2022-05-31T07:38:29.276Z"
   },
   {
    "duration": 16,
    "start_time": "2022-05-31T07:38:29.551Z"
   },
   {
    "duration": 18,
    "start_time": "2022-05-31T07:38:29.573Z"
   },
   {
    "duration": 191,
    "start_time": "2022-05-31T07:38:29.593Z"
   },
   {
    "duration": 202,
    "start_time": "2022-05-31T07:38:29.786Z"
   },
   {
    "duration": 9,
    "start_time": "2022-05-31T07:38:29.990Z"
   },
   {
    "duration": 213,
    "start_time": "2022-05-31T07:38:30.001Z"
   },
   {
    "duration": 142,
    "start_time": "2022-05-31T07:38:30.215Z"
   },
   {
    "duration": 128,
    "start_time": "2022-05-31T07:38:30.358Z"
   },
   {
    "duration": 20,
    "start_time": "2022-05-31T07:38:30.488Z"
   },
   {
    "duration": 198,
    "start_time": "2022-05-31T07:38:30.510Z"
   },
   {
    "duration": 80,
    "start_time": "2022-05-31T07:38:30.711Z"
   },
   {
    "duration": 78,
    "start_time": "2022-05-31T07:38:30.793Z"
   },
   {
    "duration": 23,
    "start_time": "2022-05-31T07:38:30.877Z"
   },
   {
    "duration": 73,
    "start_time": "2022-05-31T07:38:30.902Z"
   },
   {
    "duration": 21,
    "start_time": "2022-05-31T07:38:30.979Z"
   },
   {
    "duration": 74,
    "start_time": "2022-05-31T07:38:31.002Z"
   },
   {
    "duration": 22,
    "start_time": "2022-05-31T07:38:31.079Z"
   },
   {
    "duration": 321,
    "start_time": "2022-05-31T07:38:31.103Z"
   },
   {
    "duration": 192,
    "start_time": "2022-05-31T07:38:31.426Z"
   },
   {
    "duration": 194,
    "start_time": "2022-05-31T07:38:31.620Z"
   },
   {
    "duration": 224,
    "start_time": "2022-05-31T07:38:31.815Z"
   },
   {
    "duration": 42,
    "start_time": "2022-05-31T07:38:32.042Z"
   },
   {
    "duration": 286,
    "start_time": "2022-05-31T07:38:32.086Z"
   },
   {
    "duration": 10,
    "start_time": "2022-05-31T07:38:32.379Z"
   },
   {
    "duration": 208,
    "start_time": "2022-05-31T07:38:32.391Z"
   },
   {
    "duration": 11,
    "start_time": "2022-05-31T07:38:32.601Z"
   },
   {
    "duration": 216,
    "start_time": "2022-05-31T07:38:32.614Z"
   },
   {
    "duration": 9,
    "start_time": "2022-05-31T07:38:32.832Z"
   },
   {
    "duration": 167,
    "start_time": "2022-05-31T07:38:32.842Z"
   },
   {
    "duration": 186,
    "start_time": "2022-05-31T07:38:33.011Z"
   },
   {
    "duration": 14,
    "start_time": "2022-05-31T07:38:33.199Z"
   },
   {
    "duration": 27,
    "start_time": "2022-05-31T07:38:33.214Z"
   },
   {
    "duration": 38,
    "start_time": "2022-05-31T07:38:33.243Z"
   },
   {
    "duration": 187,
    "start_time": "2022-05-31T07:38:33.282Z"
   },
   {
    "duration": 23,
    "start_time": "2022-05-31T07:38:33.472Z"
   },
   {
    "duration": 296,
    "start_time": "2022-05-31T07:38:33.497Z"
   },
   {
    "duration": 275,
    "start_time": "2022-05-31T07:38:33.795Z"
   },
   {
    "duration": 15,
    "start_time": "2022-05-31T07:38:34.072Z"
   },
   {
    "duration": 380,
    "start_time": "2022-05-31T07:38:34.088Z"
   },
   {
    "duration": 392,
    "start_time": "2022-05-31T07:38:34.474Z"
   },
   {
    "duration": 399,
    "start_time": "2022-05-31T07:38:34.869Z"
   },
   {
    "duration": 907,
    "start_time": "2022-05-31T07:40:49.630Z"
   },
   {
    "duration": 31,
    "start_time": "2022-05-31T07:40:50.539Z"
   },
   {
    "duration": 13,
    "start_time": "2022-05-31T07:40:50.574Z"
   },
   {
    "duration": 31,
    "start_time": "2022-05-31T07:40:50.590Z"
   },
   {
    "duration": 12,
    "start_time": "2022-05-31T07:40:50.623Z"
   },
   {
    "duration": 57,
    "start_time": "2022-05-31T07:40:50.636Z"
   },
   {
    "duration": 21,
    "start_time": "2022-05-31T07:40:50.695Z"
   },
   {
    "duration": 285,
    "start_time": "2022-05-31T07:40:50.718Z"
   },
   {
    "duration": 287,
    "start_time": "2022-05-31T07:40:51.004Z"
   },
   {
    "duration": 261,
    "start_time": "2022-05-31T07:40:51.294Z"
   },
   {
    "duration": 17,
    "start_time": "2022-05-31T07:40:51.556Z"
   },
   {
    "duration": 19,
    "start_time": "2022-05-31T07:40:51.575Z"
   },
   {
    "duration": 10,
    "start_time": "2022-05-31T07:40:51.596Z"
   },
   {
    "duration": 16,
    "start_time": "2022-05-31T07:40:51.608Z"
   },
   {
    "duration": 7,
    "start_time": "2022-05-31T07:40:51.626Z"
   },
   {
    "duration": 380,
    "start_time": "2022-05-31T07:40:51.635Z"
   },
   {
    "duration": 6,
    "start_time": "2022-05-31T07:40:52.016Z"
   },
   {
    "duration": 26,
    "start_time": "2022-05-31T07:40:52.023Z"
   },
   {
    "duration": 880,
    "start_time": "2022-05-31T07:40:52.051Z"
   },
   {
    "duration": 314,
    "start_time": "2022-05-31T07:40:52.933Z"
   },
   {
    "duration": 2734,
    "start_time": "2022-05-31T07:40:53.249Z"
   },
   {
    "duration": 1325,
    "start_time": "2022-05-31T07:40:55.985Z"
   },
   {
    "duration": 414,
    "start_time": "2022-05-31T07:40:57.312Z"
   },
   {
    "duration": 6,
    "start_time": "2022-05-31T07:40:57.727Z"
   },
   {
    "duration": 16,
    "start_time": "2022-05-31T07:40:57.734Z"
   },
   {
    "duration": 27,
    "start_time": "2022-05-31T07:40:57.767Z"
   },
   {
    "duration": 5,
    "start_time": "2022-05-31T07:40:57.796Z"
   },
   {
    "duration": 12,
    "start_time": "2022-05-31T07:40:57.806Z"
   },
   {
    "duration": 5,
    "start_time": "2022-05-31T07:40:57.820Z"
   },
   {
    "duration": 8,
    "start_time": "2022-05-31T07:40:57.827Z"
   },
   {
    "duration": 44,
    "start_time": "2022-05-31T07:40:57.837Z"
   },
   {
    "duration": 7,
    "start_time": "2022-05-31T07:40:57.883Z"
   },
   {
    "duration": 211,
    "start_time": "2022-05-31T07:40:57.892Z"
   },
   {
    "duration": 10,
    "start_time": "2022-05-31T07:40:58.104Z"
   },
   {
    "duration": 39,
    "start_time": "2022-05-31T07:40:58.116Z"
   },
   {
    "duration": 218,
    "start_time": "2022-05-31T07:40:58.157Z"
   },
   {
    "duration": 9,
    "start_time": "2022-05-31T07:40:58.379Z"
   },
   {
    "duration": 17,
    "start_time": "2022-05-31T07:40:58.390Z"
   },
   {
    "duration": 296,
    "start_time": "2022-05-31T07:40:58.409Z"
   },
   {
    "duration": 8,
    "start_time": "2022-05-31T07:40:58.707Z"
   },
   {
    "duration": 16,
    "start_time": "2022-05-31T07:40:58.717Z"
   },
   {
    "duration": 192,
    "start_time": "2022-05-31T07:40:58.735Z"
   },
   {
    "duration": 210,
    "start_time": "2022-05-31T07:40:58.929Z"
   },
   {
    "duration": 10,
    "start_time": "2022-05-31T07:40:59.142Z"
   },
   {
    "duration": 197,
    "start_time": "2022-05-31T07:40:59.165Z"
   },
   {
    "duration": 129,
    "start_time": "2022-05-31T07:40:59.367Z"
   },
   {
    "duration": 119,
    "start_time": "2022-05-31T07:40:59.497Z"
   },
   {
    "duration": 17,
    "start_time": "2022-05-31T07:40:59.618Z"
   },
   {
    "duration": 106,
    "start_time": "2022-05-31T07:40:59.637Z"
   },
   {
    "duration": 33,
    "start_time": "2022-05-31T07:40:59.745Z"
   },
   {
    "duration": 13,
    "start_time": "2022-05-31T07:40:59.780Z"
   },
   {
    "duration": 25,
    "start_time": "2022-05-31T07:40:59.795Z"
   },
   {
    "duration": 19,
    "start_time": "2022-05-31T07:40:59.822Z"
   },
   {
    "duration": 44,
    "start_time": "2022-05-31T07:40:59.843Z"
   },
   {
    "duration": 20,
    "start_time": "2022-05-31T07:40:59.888Z"
   },
   {
    "duration": 19,
    "start_time": "2022-05-31T07:40:59.910Z"
   },
   {
    "duration": 215,
    "start_time": "2022-05-31T07:40:59.931Z"
   },
   {
    "duration": 182,
    "start_time": "2022-05-31T07:41:00.148Z"
   },
   {
    "duration": 182,
    "start_time": "2022-05-31T07:41:00.331Z"
   },
   {
    "duration": 214,
    "start_time": "2022-05-31T07:41:00.515Z"
   },
   {
    "duration": 21,
    "start_time": "2022-05-31T07:41:00.731Z"
   },
   {
    "duration": 289,
    "start_time": "2022-05-31T07:41:00.754Z"
   },
   {
    "duration": 25,
    "start_time": "2022-05-31T07:41:01.045Z"
   },
   {
    "duration": 226,
    "start_time": "2022-05-31T07:41:01.071Z"
   },
   {
    "duration": 9,
    "start_time": "2022-05-31T07:41:01.300Z"
   },
   {
    "duration": 224,
    "start_time": "2022-05-31T07:41:01.311Z"
   },
   {
    "duration": 8,
    "start_time": "2022-05-31T07:41:01.537Z"
   },
   {
    "duration": 180,
    "start_time": "2022-05-31T07:41:01.547Z"
   },
   {
    "duration": 181,
    "start_time": "2022-05-31T07:41:01.729Z"
   },
   {
    "duration": 16,
    "start_time": "2022-05-31T07:41:01.912Z"
   },
   {
    "duration": 41,
    "start_time": "2022-05-31T07:41:01.930Z"
   },
   {
    "duration": 21,
    "start_time": "2022-05-31T07:41:01.973Z"
   },
   {
    "duration": 194,
    "start_time": "2022-05-31T07:41:01.996Z"
   },
   {
    "duration": 19,
    "start_time": "2022-05-31T07:41:02.192Z"
   },
   {
    "duration": 205,
    "start_time": "2022-05-31T07:41:02.212Z"
   },
   {
    "duration": 122,
    "start_time": "2022-05-31T07:41:02.419Z"
   },
   {
    "duration": 34,
    "start_time": "2022-05-31T07:41:02.543Z"
   },
   {
    "duration": 173,
    "start_time": "2022-05-31T07:41:02.579Z"
   },
   {
    "duration": 178,
    "start_time": "2022-05-31T07:41:02.754Z"
   },
   {
    "duration": 190,
    "start_time": "2022-05-31T07:41:02.934Z"
   },
   {
    "duration": 1456,
    "start_time": "2022-05-31T10:22:00.913Z"
   },
   {
    "duration": 353,
    "start_time": "2022-05-31T10:25:14.718Z"
   },
   {
    "duration": 553,
    "start_time": "2022-05-31T10:31:33.489Z"
   },
   {
    "duration": 13,
    "start_time": "2022-05-31T10:31:58.469Z"
   },
   {
    "duration": 36,
    "start_time": "2022-05-31T10:35:29.715Z"
   },
   {
    "duration": 13,
    "start_time": "2022-05-31T10:37:57.661Z"
   },
   {
    "duration": 13,
    "start_time": "2022-05-31T10:38:53.073Z"
   },
   {
    "duration": 83,
    "start_time": "2022-05-31T10:45:42.493Z"
   },
   {
    "duration": 3,
    "start_time": "2022-05-31T10:52:07.983Z"
   },
   {
    "duration": 11,
    "start_time": "2022-05-31T11:00:44.961Z"
   },
   {
    "duration": 5,
    "start_time": "2022-05-31T11:02:18.579Z"
   },
   {
    "duration": 36,
    "start_time": "2022-05-31T11:03:39.654Z"
   },
   {
    "duration": 843,
    "start_time": "2022-05-31T14:40:30.869Z"
   },
   {
    "duration": 347,
    "start_time": "2022-05-31T14:40:31.714Z"
   },
   {
    "duration": 17,
    "start_time": "2022-05-31T14:40:32.063Z"
   },
   {
    "duration": 9,
    "start_time": "2022-05-31T14:40:32.083Z"
   },
   {
    "duration": 32,
    "start_time": "2022-05-31T14:40:32.094Z"
   },
   {
    "duration": 36,
    "start_time": "2022-05-31T14:40:32.129Z"
   },
   {
    "duration": 8,
    "start_time": "2022-05-31T14:40:32.167Z"
   },
   {
    "duration": 22,
    "start_time": "2022-05-31T14:40:32.177Z"
   },
   {
    "duration": 19,
    "start_time": "2022-05-31T14:40:32.201Z"
   },
   {
    "duration": 295,
    "start_time": "2022-05-31T14:40:32.223Z"
   },
   {
    "duration": 268,
    "start_time": "2022-05-31T14:40:32.520Z"
   },
   {
    "duration": 241,
    "start_time": "2022-05-31T14:40:32.789Z"
   },
   {
    "duration": 7,
    "start_time": "2022-05-31T14:40:33.032Z"
   },
   {
    "duration": 12,
    "start_time": "2022-05-31T14:40:33.041Z"
   },
   {
    "duration": 17,
    "start_time": "2022-05-31T14:40:33.054Z"
   },
   {
    "duration": 13,
    "start_time": "2022-05-31T14:40:33.072Z"
   },
   {
    "duration": 6,
    "start_time": "2022-05-31T14:40:33.086Z"
   },
   {
    "duration": 13,
    "start_time": "2022-05-31T14:40:33.094Z"
   },
   {
    "duration": 8,
    "start_time": "2022-05-31T14:40:33.108Z"
   },
   {
    "duration": 346,
    "start_time": "2022-05-31T14:40:33.118Z"
   },
   {
    "duration": 6,
    "start_time": "2022-05-31T14:40:33.465Z"
   },
   {
    "duration": 13,
    "start_time": "2022-05-31T14:40:33.473Z"
   },
   {
    "duration": 27,
    "start_time": "2022-05-31T14:40:33.488Z"
   },
   {
    "duration": 11,
    "start_time": "2022-05-31T14:40:33.516Z"
   },
   {
    "duration": 8,
    "start_time": "2022-05-31T14:40:33.529Z"
   },
   {
    "duration": 838,
    "start_time": "2022-05-31T14:40:33.538Z"
   },
   {
    "duration": 282,
    "start_time": "2022-05-31T14:40:34.378Z"
   },
   {
    "duration": 2240,
    "start_time": "2022-05-31T14:40:34.666Z"
   },
   {
    "duration": 662,
    "start_time": "2022-05-31T14:40:36.907Z"
   },
   {
    "duration": 689,
    "start_time": "2022-05-31T14:40:37.571Z"
   },
   {
    "duration": 4,
    "start_time": "2022-05-31T14:40:38.262Z"
   },
   {
    "duration": 15,
    "start_time": "2022-05-31T14:40:38.268Z"
   },
   {
    "duration": 76,
    "start_time": "2022-05-31T14:40:38.285Z"
   },
   {
    "duration": 7,
    "start_time": "2022-05-31T14:40:38.363Z"
   },
   {
    "duration": 16,
    "start_time": "2022-05-31T14:40:38.372Z"
   },
   {
    "duration": 3,
    "start_time": "2022-05-31T14:40:38.390Z"
   },
   {
    "duration": 4,
    "start_time": "2022-05-31T14:40:38.452Z"
   },
   {
    "duration": 13,
    "start_time": "2022-05-31T14:40:38.458Z"
   },
   {
    "duration": 10,
    "start_time": "2022-05-31T14:40:38.473Z"
   },
   {
    "duration": 376,
    "start_time": "2022-05-31T14:40:38.484Z"
   },
   {
    "duration": 9,
    "start_time": "2022-05-31T14:40:38.862Z"
   },
   {
    "duration": 22,
    "start_time": "2022-05-31T14:40:38.873Z"
   },
   {
    "duration": 23,
    "start_time": "2022-05-31T14:40:38.954Z"
   },
   {
    "duration": 388,
    "start_time": "2022-05-31T14:40:38.979Z"
   },
   {
    "duration": 8,
    "start_time": "2022-05-31T14:40:39.369Z"
   },
   {
    "duration": 15,
    "start_time": "2022-05-31T14:40:39.379Z"
   },
   {
    "duration": 32,
    "start_time": "2022-05-31T14:40:39.396Z"
   },
   {
    "duration": 272,
    "start_time": "2022-05-31T14:40:39.430Z"
   },
   {
    "duration": 9,
    "start_time": "2022-05-31T14:40:39.703Z"
   },
   {
    "duration": 12,
    "start_time": "2022-05-31T14:40:39.714Z"
   },
   {
    "duration": 166,
    "start_time": "2022-05-31T14:40:39.728Z"
   },
   {
    "duration": 168,
    "start_time": "2022-05-31T14:40:39.896Z"
   },
   {
    "duration": 8,
    "start_time": "2022-05-31T14:40:40.066Z"
   },
   {
    "duration": 182,
    "start_time": "2022-05-31T14:40:40.076Z"
   },
   {
    "duration": 110,
    "start_time": "2022-05-31T14:40:40.260Z"
   },
   {
    "duration": 103,
    "start_time": "2022-05-31T14:40:40.372Z"
   },
   {
    "duration": 15,
    "start_time": "2022-05-31T14:40:40.476Z"
   },
   {
    "duration": 112,
    "start_time": "2022-05-31T14:40:40.493Z"
   },
   {
    "duration": 23,
    "start_time": "2022-05-31T14:40:40.607Z"
   },
   {
    "duration": 26,
    "start_time": "2022-05-31T14:40:40.631Z"
   },
   {
    "duration": 18,
    "start_time": "2022-05-31T14:40:40.659Z"
   },
   {
    "duration": 18,
    "start_time": "2022-05-31T14:40:40.679Z"
   },
   {
    "duration": 17,
    "start_time": "2022-05-31T14:40:40.699Z"
   },
   {
    "duration": 52,
    "start_time": "2022-05-31T14:40:40.717Z"
   },
   {
    "duration": 18,
    "start_time": "2022-05-31T14:40:40.771Z"
   },
   {
    "duration": 174,
    "start_time": "2022-05-31T14:40:40.791Z"
   },
   {
    "duration": 172,
    "start_time": "2022-05-31T14:40:40.967Z"
   },
   {
    "duration": 160,
    "start_time": "2022-05-31T14:40:41.141Z"
   },
   {
    "duration": 214,
    "start_time": "2022-05-31T14:40:41.302Z"
   },
   {
    "duration": 5,
    "start_time": "2022-05-31T14:40:41.517Z"
   },
   {
    "duration": 29,
    "start_time": "2022-05-31T14:40:41.524Z"
   },
   {
    "duration": 294,
    "start_time": "2022-05-31T14:40:41.555Z"
   },
   {
    "duration": 168,
    "start_time": "2022-05-31T14:40:41.851Z"
   },
   {
    "duration": 8,
    "start_time": "2022-05-31T14:40:42.021Z"
   },
   {
    "duration": 186,
    "start_time": "2022-05-31T14:40:42.031Z"
   },
   {
    "duration": 13,
    "start_time": "2022-05-31T14:40:42.219Z"
   },
   {
    "duration": 188,
    "start_time": "2022-05-31T14:40:42.234Z"
   },
   {
    "duration": 8,
    "start_time": "2022-05-31T14:40:42.424Z"
   },
   {
    "duration": 177,
    "start_time": "2022-05-31T14:40:42.434Z"
   },
   {
    "duration": 199,
    "start_time": "2022-05-31T14:40:42.613Z"
   },
   {
    "duration": 16,
    "start_time": "2022-05-31T14:40:42.814Z"
   },
   {
    "duration": 22,
    "start_time": "2022-05-31T14:40:42.851Z"
   },
   {
    "duration": 21,
    "start_time": "2022-05-31T14:40:42.874Z"
   },
   {
    "duration": 182,
    "start_time": "2022-05-31T14:40:42.897Z"
   },
   {
    "duration": 7,
    "start_time": "2022-05-31T14:40:43.081Z"
   },
   {
    "duration": 25,
    "start_time": "2022-05-31T14:40:43.090Z"
   },
   {
    "duration": 188,
    "start_time": "2022-05-31T14:40:43.117Z"
   },
   {
    "duration": 117,
    "start_time": "2022-05-31T14:40:43.307Z"
   },
   {
    "duration": 28,
    "start_time": "2022-05-31T14:40:43.425Z"
   },
   {
    "duration": 166,
    "start_time": "2022-05-31T14:40:43.454Z"
   },
   {
    "duration": 162,
    "start_time": "2022-05-31T14:40:43.622Z"
   },
   {
    "duration": 248,
    "start_time": "2022-05-31T14:40:43.785Z"
   }
  ],
  "kernelspec": {
   "display_name": "Python 3 (ipykernel)",
   "language": "python",
   "name": "python3"
  },
  "language_info": {
   "codemirror_mode": {
    "name": "ipython",
    "version": 3
   },
   "file_extension": ".py",
   "mimetype": "text/x-python",
   "name": "python",
   "nbconvert_exporter": "python",
   "pygments_lexer": "ipython3",
   "version": "3.9.7"
  },
  "toc": {
   "base_numbering": 1,
   "nav_menu": {},
   "number_sections": true,
   "sideBar": true,
   "skip_h1_title": true,
   "title_cell": "Содержание",
   "title_sidebar": "Contents",
   "toc_cell": true,
   "toc_position": {
    "height": "calc(100% - 180px)",
    "left": "10px",
    "top": "150px",
    "width": "425.764px"
   },
   "toc_section_display": true,
   "toc_window_display": true
  }
 },
 "nbformat": 4,
 "nbformat_minor": 4
}
