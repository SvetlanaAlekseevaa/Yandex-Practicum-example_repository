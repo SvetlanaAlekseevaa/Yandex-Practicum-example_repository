{
 "cells": [
  {
   "cell_type": "markdown",
   "id": "5da8c1ee",
   "metadata": {},
   "source": [
    "# Проект - анализ рекламных источников мобильной игры"
   ]
  },
  {
   "cell_type": "markdown",
   "id": "81fc9e58",
   "metadata": {},
   "source": [
    "## Материалы:\n",
    "* [Презентация](https://drive.google.com/file/d/1Jobr5yr1OGvmtvylozp_MCV3WcI0pBKB/view?usp=sharing)\n",
    "* [Дашборд](https://public.tableau.com/views/DashboardGameaboutspace/Dashboard1?:language=en-US&:display_count=n&:origin=viz_share_link) "
   ]
  },
  {
   "cell_type": "markdown",
   "id": "a9ab1f72",
   "metadata": {},
   "source": [
    "**Цель исследования** - проанализировать поведение игроков в зависимости от источника перехода для оптимизации расходов на маркетинг. "
   ]
  },
  {
   "cell_type": "markdown",
   "id": "ca2ae139",
   "metadata": {},
   "source": [
    "## Ход проекта (декомпозиция)\n",
    "\n",
    "### Шаг 1. Открытие и изучение данных\n",
    "\n",
    "### Шаг 2. Предобработка данных\n",
    "\n",
    "#### Проверка на дубликаты\n",
    "    \n",
    "#### Работа с датами\n",
    "    \n",
    "#### Работа с пропусками и аномалиями\n",
    "\n",
    "### Шаг 3. Исследовательский анализ данных\n",
    "\n",
    "####  Анализ рекламных источников по количеству новых пользователей\n",
    "    \n",
    "####  Анализ рекламных источников по затратам \n",
    "    \n",
    "#### Анализ рекламных источников по способу прохождения уровня\n",
    "\n",
    "#### Анализ рекламных источников по количеству построенных объектов\n",
    "\n",
    "#### Анализ рекламных источников по времени прохождения уровня\n",
    "     \n",
    "#### Ранжирование каналов привлечения\n",
    "    \n",
    "### Шаг 4. Проверка статистических гипотез\n",
    "\n",
    "####  Проверка гипотезы 1: Время завершения уровня различается в зависимости от способа прохождения:\n",
    "   \n",
    "##### - через реализацию проекта,\n",
    "##### - через победу над первым игроком.\n",
    "    \n",
    "####  Проверка гипотезы 2: Количество построенных объектов различается в зависимости от способа прохождения:\n",
    "   \n",
    "##### - через реализацию проекта,\n",
    "##### - через победу над первым игроком.\n",
    "\n",
    "\n",
    "### Шаг 5.  Выводы и рекомендации"
   ]
  },
  {
   "cell_type": "markdown",
   "id": "9006d695",
   "metadata": {},
   "source": [
    "### Шаг 1. Открытие и изучение данных"
   ]
  },
  {
   "cell_type": "code",
   "execution_count": 1,
   "id": "43fbc2c9",
   "metadata": {},
   "outputs": [],
   "source": [
    "import pandas as pd \n",
    "import datetime\n",
    "from datetime import datetime, timedelta\n",
    "import seaborn as sns\n",
    "from datetime import date\n",
    "from IPython.display import display\n",
    "import numpy as np\n",
    "import matplotlib.pyplot as plt \n",
    "import scipy.stats as stats\n",
    "from cmath import sqrt\n",
    "from plotly import graph_objects as go\n",
    "from statsmodels.stats.proportion import proportions_ztest"
   ]
  },
  {
   "cell_type": "code",
   "execution_count": 2,
   "id": "3187bd79",
   "metadata": {},
   "outputs": [],
   "source": [
    "user_sourse = pd.read_csv('user_source.csv')\n",
    "costs = pd.read_csv('ad_costs.csv') \n",
    "game_actions = pd.read_csv('game_actions.csv')"
   ]
  },
  {
   "cell_type": "code",
   "execution_count": 3,
   "id": "637d3a85",
   "metadata": {},
   "outputs": [
    {
     "name": "stdout",
     "output_type": "stream",
     "text": [
      "<class 'pandas.core.frame.DataFrame'>\n",
      "RangeIndex: 13576 entries, 0 to 13575\n",
      "Data columns (total 2 columns):\n",
      " #   Column   Non-Null Count  Dtype \n",
      "---  ------   --------------  ----- \n",
      " 0   user_id  13576 non-null  object\n",
      " 1   source   13576 non-null  object\n",
      "dtypes: object(2)\n",
      "memory usage: 212.2+ KB\n"
     ]
    },
    {
     "data": {
      "text/html": [
       "<div>\n",
       "<style scoped>\n",
       "    .dataframe tbody tr th:only-of-type {\n",
       "        vertical-align: middle;\n",
       "    }\n",
       "\n",
       "    .dataframe tbody tr th {\n",
       "        vertical-align: top;\n",
       "    }\n",
       "\n",
       "    .dataframe thead th {\n",
       "        text-align: right;\n",
       "    }\n",
       "</style>\n",
       "<table border=\"1\" class=\"dataframe\">\n",
       "  <thead>\n",
       "    <tr style=\"text-align: right;\">\n",
       "      <th></th>\n",
       "      <th>user_id</th>\n",
       "      <th>source</th>\n",
       "    </tr>\n",
       "  </thead>\n",
       "  <tbody>\n",
       "    <tr>\n",
       "      <th>0</th>\n",
       "      <td>0001f83c-c6ac-4621-b7f0-8a28b283ac30</td>\n",
       "      <td>facebook_ads</td>\n",
       "    </tr>\n",
       "    <tr>\n",
       "      <th>1</th>\n",
       "      <td>00151b4f-ba38-44a8-a650-d7cf130a0105</td>\n",
       "      <td>yandex_direct</td>\n",
       "    </tr>\n",
       "    <tr>\n",
       "      <th>2</th>\n",
       "      <td>001aaea6-3d14-43f1-8ca8-7f48820f17aa</td>\n",
       "      <td>youtube_channel_reklama</td>\n",
       "    </tr>\n",
       "    <tr>\n",
       "      <th>3</th>\n",
       "      <td>001d39dc-366c-4021-9604-6a3b9ff01e25</td>\n",
       "      <td>instagram_new_adverts</td>\n",
       "    </tr>\n",
       "    <tr>\n",
       "      <th>4</th>\n",
       "      <td>002f508f-67b6-479f-814b-b05f00d4e995</td>\n",
       "      <td>facebook_ads</td>\n",
       "    </tr>\n",
       "  </tbody>\n",
       "</table>\n",
       "</div>"
      ],
      "text/plain": [
       "                                user_id                   source\n",
       "0  0001f83c-c6ac-4621-b7f0-8a28b283ac30             facebook_ads\n",
       "1  00151b4f-ba38-44a8-a650-d7cf130a0105            yandex_direct\n",
       "2  001aaea6-3d14-43f1-8ca8-7f48820f17aa  youtube_channel_reklama\n",
       "3  001d39dc-366c-4021-9604-6a3b9ff01e25    instagram_new_adverts\n",
       "4  002f508f-67b6-479f-814b-b05f00d4e995             facebook_ads"
      ]
     },
     "execution_count": 3,
     "metadata": {},
     "output_type": "execute_result"
    }
   ],
   "source": [
    "user_sourse.info()\n",
    "user_sourse.head()"
   ]
  },
  {
   "cell_type": "code",
   "execution_count": 4,
   "id": "55eec210",
   "metadata": {},
   "outputs": [
    {
     "name": "stdout",
     "output_type": "stream",
     "text": [
      "<class 'pandas.core.frame.DataFrame'>\n",
      "RangeIndex: 28 entries, 0 to 27\n",
      "Data columns (total 3 columns):\n",
      " #   Column  Non-Null Count  Dtype  \n",
      "---  ------  --------------  -----  \n",
      " 0   source  28 non-null     object \n",
      " 1   day     28 non-null     object \n",
      " 2   cost    28 non-null     float64\n",
      "dtypes: float64(1), object(2)\n",
      "memory usage: 800.0+ bytes\n"
     ]
    },
    {
     "data": {
      "text/html": [
       "<div>\n",
       "<style scoped>\n",
       "    .dataframe tbody tr th:only-of-type {\n",
       "        vertical-align: middle;\n",
       "    }\n",
       "\n",
       "    .dataframe tbody tr th {\n",
       "        vertical-align: top;\n",
       "    }\n",
       "\n",
       "    .dataframe thead th {\n",
       "        text-align: right;\n",
       "    }\n",
       "</style>\n",
       "<table border=\"1\" class=\"dataframe\">\n",
       "  <thead>\n",
       "    <tr style=\"text-align: right;\">\n",
       "      <th></th>\n",
       "      <th>source</th>\n",
       "      <th>day</th>\n",
       "      <th>cost</th>\n",
       "    </tr>\n",
       "  </thead>\n",
       "  <tbody>\n",
       "    <tr>\n",
       "      <th>0</th>\n",
       "      <td>facebook_ads</td>\n",
       "      <td>2020-05-03</td>\n",
       "      <td>935.882786</td>\n",
       "    </tr>\n",
       "    <tr>\n",
       "      <th>1</th>\n",
       "      <td>facebook_ads</td>\n",
       "      <td>2020-05-04</td>\n",
       "      <td>548.354480</td>\n",
       "    </tr>\n",
       "    <tr>\n",
       "      <th>2</th>\n",
       "      <td>facebook_ads</td>\n",
       "      <td>2020-05-05</td>\n",
       "      <td>260.185754</td>\n",
       "    </tr>\n",
       "    <tr>\n",
       "      <th>3</th>\n",
       "      <td>facebook_ads</td>\n",
       "      <td>2020-05-06</td>\n",
       "      <td>177.982200</td>\n",
       "    </tr>\n",
       "    <tr>\n",
       "      <th>4</th>\n",
       "      <td>facebook_ads</td>\n",
       "      <td>2020-05-07</td>\n",
       "      <td>111.766796</td>\n",
       "    </tr>\n",
       "  </tbody>\n",
       "</table>\n",
       "</div>"
      ],
      "text/plain": [
       "         source         day        cost\n",
       "0  facebook_ads  2020-05-03  935.882786\n",
       "1  facebook_ads  2020-05-04  548.354480\n",
       "2  facebook_ads  2020-05-05  260.185754\n",
       "3  facebook_ads  2020-05-06  177.982200\n",
       "4  facebook_ads  2020-05-07  111.766796"
      ]
     },
     "execution_count": 4,
     "metadata": {},
     "output_type": "execute_result"
    }
   ],
   "source": [
    "costs.info()\n",
    "costs.head()"
   ]
  },
  {
   "cell_type": "code",
   "execution_count": 5,
   "id": "2bf265da",
   "metadata": {},
   "outputs": [
    {
     "name": "stdout",
     "output_type": "stream",
     "text": [
      "<class 'pandas.core.frame.DataFrame'>\n",
      "RangeIndex: 135640 entries, 0 to 135639\n",
      "Data columns (total 5 columns):\n",
      " #   Column          Non-Null Count   Dtype \n",
      "---  ------          --------------   ----- \n",
      " 0   event_datetime  135640 non-null  object\n",
      " 1   event           135640 non-null  object\n",
      " 2   building_type   127957 non-null  object\n",
      " 3   user_id         135640 non-null  object\n",
      " 4   project_type    1866 non-null    object\n",
      "dtypes: object(5)\n",
      "memory usage: 5.2+ MB\n",
      "\n",
      "Количество уникальных пользователей:  13576\n",
      "Количество сессий:  135640\n"
     ]
    }
   ],
   "source": [
    "game_actions.info()\n",
    "game_actions.head()\n",
    "print()\n",
    "print('Количество уникальных пользователей: ', game_actions['user_id'].nunique())\n",
    "print('Количество сессий: ', len(game_actions['event_datetime']))"
   ]
  },
  {
   "cell_type": "code",
   "execution_count": 6,
   "id": "f16c2667",
   "metadata": {},
   "outputs": [
    {
     "data": {
      "text/plain": [
       "building            127957\n",
       "finished_stage_1      5817\n",
       "project               1866\n",
       "Name: event, dtype: int64"
      ]
     },
     "execution_count": 6,
     "metadata": {},
     "output_type": "execute_result"
    }
   ],
   "source": [
    "game_actions['event'].value_counts()"
   ]
  },
  {
   "cell_type": "code",
   "execution_count": 7,
   "id": "92c43db0",
   "metadata": {},
   "outputs": [
    {
     "data": {
      "text/plain": [
       "spaceport          59325\n",
       "assembly_shop      54494\n",
       "research_center    14138\n",
       "Name: building_type, dtype: int64"
      ]
     },
     "execution_count": 7,
     "metadata": {},
     "output_type": "execute_result"
    }
   ],
   "source": [
    "game_actions['building_type'].value_counts()"
   ]
  },
  {
   "cell_type": "code",
   "execution_count": 8,
   "id": "333827e1",
   "metadata": {},
   "outputs": [
    {
     "data": {
      "text/plain": [
       "satellite_orbital_assembly    1866\n",
       "Name: project_type, dtype: int64"
      ]
     },
     "execution_count": 8,
     "metadata": {},
     "output_type": "execute_result"
    }
   ],
   "source": [
    "game_actions['project_type'].value_counts()"
   ]
  },
  {
   "cell_type": "markdown",
   "id": "613b6298",
   "metadata": {},
   "source": [
    "В наших данных о первом уровне игры на текущий момент есть только тип проекта - satellite_orbital_assembly."
   ]
  },
  {
   "cell_type": "code",
   "execution_count": 9,
   "id": "631ff2bd",
   "metadata": {},
   "outputs": [
    {
     "data": {
      "text/plain": [
       "yandex_direct              4817\n",
       "instagram_new_adverts      3347\n",
       "facebook_ads               2726\n",
       "youtube_channel_reklama    2686\n",
       "Name: source, dtype: int64"
      ]
     },
     "execution_count": 9,
     "metadata": {},
     "output_type": "execute_result"
    }
   ],
   "source": [
    "user_sourse['source'].value_counts() "
   ]
  },
  {
   "cell_type": "code",
   "execution_count": 10,
   "id": "30e787ba",
   "metadata": {},
   "outputs": [
    {
     "data": {
      "text/plain": [
       "building            127957\n",
       "finished_stage_1      5817\n",
       "project               1866\n",
       "Name: event, dtype: int64"
      ]
     },
     "execution_count": 10,
     "metadata": {},
     "output_type": "execute_result"
    }
   ],
   "source": [
    "game_actions['event'].value_counts()"
   ]
  },
  {
   "cell_type": "code",
   "execution_count": 11,
   "id": "35a9f0eb",
   "metadata": {},
   "outputs": [
    {
     "data": {
      "text/plain": [
       "event_datetime         0\n",
       "event                  0\n",
       "building_type       7683\n",
       "user_id                0\n",
       "project_type      133774\n",
       "dtype: int64"
      ]
     },
     "execution_count": 11,
     "metadata": {},
     "output_type": "execute_result"
    }
   ],
   "source": [
    "game_actions.isna().sum()"
   ]
  },
  {
   "cell_type": "markdown",
   "id": "2473a1b9",
   "metadata": {},
   "source": [
    "**Вывод:** \n",
    "\n",
    "Мы изучили данные и видим, что у нас есть 4 основных рекламных канала:\n",
    "* яндекс.директ \n",
    "* инстаграм\n",
    "* фейсбук\n",
    "* ютуб\n",
    "\n",
    "На текущий момент игроки могут завершить только один проект -  satellite_orbital_assembly, игроков, завершивших уровень через реализацию проекта -  1866. \n",
    "\n",
    "Количество уникальных пользователей:  13576\n",
    "\n",
    "Количество событий:  135640\n",
    "\n",
    "Теперь можем приступать к следующему шагу - необходимо привести работу с датами, проверить данные на дубликаты, проверить -соблюдена ли логика пропусков и есть ли в данных аномалии. "
   ]
  },
  {
   "cell_type": "markdown",
   "id": "724ed68d",
   "metadata": {},
   "source": [
    "### Шаг 2. Предобработка данных"
   ]
  },
  {
   "cell_type": "markdown",
   "id": "ef1bad2b",
   "metadata": {},
   "source": [
    "#### Проверка на дубликаты"
   ]
  },
  {
   "cell_type": "code",
   "execution_count": 12,
   "id": "9107fa28",
   "metadata": {},
   "outputs": [
    {
     "name": "stdout",
     "output_type": "stream",
     "text": [
      "В user_sourse: 0 дубликатов\n",
      "В game_actions: 1 дубликатов\n",
      "В costs: 0 дубликатов\n"
     ]
    }
   ],
   "source": [
    "print('В user_sourse:', user_sourse.duplicated().sum(), 'дубликатов')\n",
    "print('В game_actions:', game_actions.duplicated().sum(), 'дубликатов')\n",
    "print('В costs:', costs.duplicated().sum(), 'дубликатов')"
   ]
  },
  {
   "cell_type": "markdown",
   "id": "288c293a",
   "metadata": {},
   "source": [
    "Удалим дубликат:"
   ]
  },
  {
   "cell_type": "code",
   "execution_count": 13,
   "id": "53039076",
   "metadata": {},
   "outputs": [
    {
     "data": {
      "text/plain": [
       "0"
      ]
     },
     "execution_count": 13,
     "metadata": {},
     "output_type": "execute_result"
    }
   ],
   "source": [
    "game_actions = game_actions.drop_duplicates()\n",
    "game_actions.duplicated().sum()"
   ]
  },
  {
   "cell_type": "markdown",
   "id": "3cc63f3e",
   "metadata": {},
   "source": [
    "#### Работа с датами"
   ]
  },
  {
   "cell_type": "code",
   "execution_count": 14,
   "id": "57b4fb1a",
   "metadata": {},
   "outputs": [
    {
     "name": "stdout",
     "output_type": "stream",
     "text": [
      "Минимальная дата клика: 03.05.20\n",
      "Максимальная дата клика: 09.05.20\n",
      "\n",
      "Минимальная дата события: 04.05.20\n",
      "Максимальная дата события: 05.06.20\n"
     ]
    }
   ],
   "source": [
    "costs['day'] = pd.to_datetime(costs['day'])\n",
    "game_actions['event_datetime'] =  pd.to_datetime(game_actions['event_datetime'])\n",
    "print('Минимальная дата клика:', costs['day'].min().strftime('%d.%m.%y'))\n",
    "print('Максимальная дата клика:', costs['day'].max().strftime('%d.%m.%y'))\n",
    "print()\n",
    "print('Минимальная дата события:', game_actions['event_datetime'].min().strftime('%d.%m.%y'))\n",
    "print('Максимальная дата события:', game_actions['event_datetime'].max().strftime('%d.%m.%y'))"
   ]
  },
  {
   "cell_type": "markdown",
   "id": "153fd158",
   "metadata": {},
   "source": [
    "Посмотрим количество событий по дням:"
   ]
  },
  {
   "cell_type": "code",
   "execution_count": 15,
   "id": "42003a2e",
   "metadata": {},
   "outputs": [
    {
     "data": {
      "image/png": "[encoded data removed]",
      "text/plain": [
       "<Figure size 1080x360 with 1 Axes>"
      ]
     },
     "metadata": {
      "needs_background": "light"
     },
     "output_type": "display_data"
    }
   ],
   "source": [
    "game_actions['date'] = game_actions['event_datetime'].dt.date\n",
    "day_game_actions  = game_actions.groupby('date').agg(unique_users = ('user_id', 'nunique'),\n",
    "event_count = ('event','count'))\n",
    "day_game_actions .plot(kind='bar', figsize=(15, 5), color=['teal', '#b72b3d'], grid = True)\n",
    "plt.title('Количество игроков и событий по дням')\n",
    "plt.ylabel('Количество')\n",
    "plt.xlabel('Даты')\n",
    "plt.legend(['Игроки', 'События'])\n",
    "plt.show()"
   ]
  },
  {
   "cell_type": "code",
   "execution_count": 16,
   "id": "930ae425",
   "metadata": {},
   "outputs": [
    {
     "data": {
      "text/html": [
       "<div>\n",
       "<style scoped>\n",
       "    .dataframe tbody tr th:only-of-type {\n",
       "        vertical-align: middle;\n",
       "    }\n",
       "\n",
       "    .dataframe tbody tr th {\n",
       "        vertical-align: top;\n",
       "    }\n",
       "\n",
       "    .dataframe thead th {\n",
       "        text-align: right;\n",
       "    }\n",
       "</style>\n",
       "<table border=\"1\" class=\"dataframe\">\n",
       "  <thead>\n",
       "    <tr style=\"text-align: right;\">\n",
       "      <th></th>\n",
       "      <th>unique_users</th>\n",
       "      <th>event_count</th>\n",
       "    </tr>\n",
       "  </thead>\n",
       "  <tbody>\n",
       "    <tr>\n",
       "      <th>count</th>\n",
       "      <td>33.000000</td>\n",
       "      <td>33.000000</td>\n",
       "    </tr>\n",
       "    <tr>\n",
       "      <th>mean</th>\n",
       "      <td>2884.878788</td>\n",
       "      <td>4110.272727</td>\n",
       "    </tr>\n",
       "    <tr>\n",
       "      <th>std</th>\n",
       "      <td>3083.784493</td>\n",
       "      <td>4639.714311</td>\n",
       "    </tr>\n",
       "    <tr>\n",
       "      <th>min</th>\n",
       "      <td>4.000000</td>\n",
       "      <td>5.000000</td>\n",
       "    </tr>\n",
       "    <tr>\n",
       "      <th>25%</th>\n",
       "      <td>91.000000</td>\n",
       "      <td>118.000000</td>\n",
       "    </tr>\n",
       "    <tr>\n",
       "      <th>50%</th>\n",
       "      <td>1480.000000</td>\n",
       "      <td>1837.000000</td>\n",
       "    </tr>\n",
       "    <tr>\n",
       "      <th>75%</th>\n",
       "      <td>5776.000000</td>\n",
       "      <td>7918.000000</td>\n",
       "    </tr>\n",
       "    <tr>\n",
       "      <th>max</th>\n",
       "      <td>9219.000000</td>\n",
       "      <td>15207.000000</td>\n",
       "    </tr>\n",
       "  </tbody>\n",
       "</table>\n",
       "</div>"
      ],
      "text/plain": [
       "       unique_users   event_count\n",
       "count     33.000000     33.000000\n",
       "mean    2884.878788   4110.272727\n",
       "std     3083.784493   4639.714311\n",
       "min        4.000000      5.000000\n",
       "25%       91.000000    118.000000\n",
       "50%     1480.000000   1837.000000\n",
       "75%     5776.000000   7918.000000\n",
       "max     9219.000000  15207.000000"
      ]
     },
     "metadata": {},
     "output_type": "display_data"
    },
    {
     "name": "stdout",
     "output_type": "stream",
     "text": [
      "Среднее кол-во событий у игрока в день:  1.0\n"
     ]
    }
   ],
   "source": [
    "display(day_game_actions.describe())\n",
    "\n",
    "print('Среднее кол-во событий у игрока в день: ',\n",
    "      round(day_game_actions['event_count'].mean()/day_game_actions['unique_users'].mean(),0) )"
   ]
  },
  {
   "cell_type": "markdown",
   "id": "0dbc946b",
   "metadata": {},
   "source": [
    "В датасете содержатся данные первых пользователей приложения — когорты пользователей, которые начали пользоваться приложением в период с 4 по 10 мая включительно, потому пик по количеству игроков и событий приходится на 10 мая. \n",
    "Кол-во событий после 10го мая идет на спад - игроки покидают игру либо завершают первый уровень. \n",
    "Ежедневно в среднем:\n",
    "\n",
    "* в игру приходило 2885 игроков\n",
    "* совершалось 4110 событий\n",
    "* один игрок совершал 1 событие"
   ]
  },
  {
   "cell_type": "markdown",
   "id": "1c5899d7",
   "metadata": {},
   "source": [
    "Проверим датасет с тратами на рекламу:"
   ]
  },
  {
   "cell_type": "code",
   "execution_count": 17,
   "id": "c9cc3abf",
   "metadata": {},
   "outputs": [
    {
     "data": {
      "image/png": "[encoded data removed]",
      "text/plain": [
       "<Figure size 432x288 with 1 Axes>"
      ]
     },
     "metadata": {
      "needs_background": "light"
     },
     "output_type": "display_data"
    }
   ],
   "source": [
    "costs.boxplot();"
   ]
  },
  {
   "cell_type": "markdown",
   "id": "098c5a6c",
   "metadata": {},
   "source": [
    "Явно выделяются траты больше 800, посмотрим, что это:"
   ]
  },
  {
   "cell_type": "code",
   "execution_count": 18,
   "id": "9e5f9c86",
   "metadata": {},
   "outputs": [
    {
     "data": {
      "text/html": [
       "<div>\n",
       "<style scoped>\n",
       "    .dataframe tbody tr th:only-of-type {\n",
       "        vertical-align: middle;\n",
       "    }\n",
       "\n",
       "    .dataframe tbody tr th {\n",
       "        vertical-align: top;\n",
       "    }\n",
       "\n",
       "    .dataframe thead th {\n",
       "        text-align: right;\n",
       "    }\n",
       "</style>\n",
       "<table border=\"1\" class=\"dataframe\">\n",
       "  <thead>\n",
       "    <tr style=\"text-align: right;\">\n",
       "      <th></th>\n",
       "      <th>source</th>\n",
       "      <th>day</th>\n",
       "      <th>cost</th>\n",
       "    </tr>\n",
       "  </thead>\n",
       "  <tbody>\n",
       "    <tr>\n",
       "      <th>0</th>\n",
       "      <td>facebook_ads</td>\n",
       "      <td>2020-05-03</td>\n",
       "      <td>935.882786</td>\n",
       "    </tr>\n",
       "    <tr>\n",
       "      <th>7</th>\n",
       "      <td>instagram_new_adverts</td>\n",
       "      <td>2020-05-03</td>\n",
       "      <td>943.204717</td>\n",
       "    </tr>\n",
       "    <tr>\n",
       "      <th>14</th>\n",
       "      <td>yandex_direct</td>\n",
       "      <td>2020-05-03</td>\n",
       "      <td>969.139394</td>\n",
       "    </tr>\n",
       "  </tbody>\n",
       "</table>\n",
       "</div>"
      ],
      "text/plain": [
       "                   source        day        cost\n",
       "0            facebook_ads 2020-05-03  935.882786\n",
       "7   instagram_new_adverts 2020-05-03  943.204717\n",
       "14          yandex_direct 2020-05-03  969.139394"
      ]
     },
     "execution_count": 18,
     "metadata": {},
     "output_type": "execute_result"
    }
   ],
   "source": [
    "costs.query('cost>800')"
   ]
  },
  {
   "cell_type": "code",
   "execution_count": 19,
   "id": "15d23a6d",
   "metadata": {},
   "outputs": [
    {
     "data": {
      "text/plain": [
       "array([940.64204145, 962.13703127])"
      ]
     },
     "execution_count": 19,
     "metadata": {},
     "output_type": "execute_result"
    }
   ],
   "source": [
    "np.percentile(costs['cost'], [95, 99])"
   ]
  },
  {
   "cell_type": "markdown",
   "id": "588f3d78",
   "metadata": {},
   "source": [
    "Так как 4 мая - был первый день рекламных кампаний, оплаты третьего числа - это авансовые оплаты, не будем считать их аномалиями."
   ]
  },
  {
   "cell_type": "markdown",
   "id": "6c7fa935",
   "metadata": {},
   "source": [
    "#### Работа с пропусками и аномалиями"
   ]
  },
  {
   "cell_type": "markdown",
   "id": "36b1f712",
   "metadata": {},
   "source": [
    "Согласно логике механики сбора данных - ненормальными будут пропуски в событиях:\n",
    "* объект построен/тип объекта\n",
    "* проект завершен/тип проекта"
   ]
  },
  {
   "cell_type": "code",
   "execution_count": 20,
   "id": "a73dd5d2",
   "metadata": {},
   "outputs": [
    {
     "data": {
      "text/html": [
       "<div>\n",
       "<style scoped>\n",
       "    .dataframe tbody tr th:only-of-type {\n",
       "        vertical-align: middle;\n",
       "    }\n",
       "\n",
       "    .dataframe tbody tr th {\n",
       "        vertical-align: top;\n",
       "    }\n",
       "\n",
       "    .dataframe thead th {\n",
       "        text-align: right;\n",
       "    }\n",
       "</style>\n",
       "<table border=\"1\" class=\"dataframe\">\n",
       "  <thead>\n",
       "    <tr style=\"text-align: right;\">\n",
       "      <th></th>\n",
       "      <th>event</th>\n",
       "      <th>event_datetime</th>\n",
       "      <th>building_type</th>\n",
       "      <th>user_id</th>\n",
       "      <th>project_type</th>\n",
       "      <th>date</th>\n",
       "    </tr>\n",
       "  </thead>\n",
       "  <tbody>\n",
       "    <tr>\n",
       "      <th>0</th>\n",
       "      <td>building</td>\n",
       "      <td>127956</td>\n",
       "      <td>127956</td>\n",
       "      <td>127956</td>\n",
       "      <td>0</td>\n",
       "      <td>127956</td>\n",
       "    </tr>\n",
       "    <tr>\n",
       "      <th>1</th>\n",
       "      <td>finished_stage_1</td>\n",
       "      <td>5817</td>\n",
       "      <td>0</td>\n",
       "      <td>5817</td>\n",
       "      <td>0</td>\n",
       "      <td>5817</td>\n",
       "    </tr>\n",
       "    <tr>\n",
       "      <th>2</th>\n",
       "      <td>project</td>\n",
       "      <td>1866</td>\n",
       "      <td>0</td>\n",
       "      <td>1866</td>\n",
       "      <td>1866</td>\n",
       "      <td>1866</td>\n",
       "    </tr>\n",
       "  </tbody>\n",
       "</table>\n",
       "</div>"
      ],
      "text/plain": [
       "              event  event_datetime  building_type  user_id  project_type  \\\n",
       "0          building          127956         127956   127956             0   \n",
       "1  finished_stage_1            5817              0     5817             0   \n",
       "2           project            1866              0     1866          1866   \n",
       "\n",
       "     date  \n",
       "0  127956  \n",
       "1    5817  \n",
       "2    1866  "
      ]
     },
     "metadata": {},
     "output_type": "display_data"
    },
    {
     "name": "stdout",
     "output_type": "stream",
     "text": [
      "Количество строк без пропусков 135639\n",
      "Количество строк в таблице всего 135639\n"
     ]
    }
   ],
   "source": [
    "q = game_actions.groupby(['event'], as_index=False).count()\n",
    "display(q)\n",
    "print('Количество строк без пропусков',q['event_datetime'].sum())\n",
    "print('Количество строк в таблице всего', len(game_actions))"
   ]
  },
  {
   "cell_type": "markdown",
   "id": "1deed1aa",
   "metadata": {},
   "source": [
    "Мы видим, что \n",
    "* объект построен/тип объекта - пропуск в типе проекта\n",
    "* проект завершен/тип проекта - пропуск в типе объекта\n",
    "* уровень завершен - пропуски в типе объекта и проекта\n",
    "Это соответствует логике механики сбора данных.\n",
    "\n",
    "В данных нет не нормальных пропусков и аномалий."
   ]
  },
  {
   "cell_type": "markdown",
   "id": "555fd328",
   "metadata": {},
   "source": [
    "### Шаг 3. Исследовательский анализ данных"
   ]
  },
  {
   "cell_type": "markdown",
   "id": "332dd2d5",
   "metadata": {},
   "source": [
    "####  Анализ рекламных источников по количеству новых пользователей"
   ]
  },
  {
   "cell_type": "markdown",
   "id": "2d13ebed",
   "metadata": {},
   "source": [
    "Смерджим датасеты:"
   ]
  },
  {
   "cell_type": "code",
   "execution_count": 21,
   "id": "0f6511af",
   "metadata": {
    "scrolled": true
   },
   "outputs": [
    {
     "data": {
      "text/html": [
       "<div>\n",
       "<style scoped>\n",
       "    .dataframe tbody tr th:only-of-type {\n",
       "        vertical-align: middle;\n",
       "    }\n",
       "\n",
       "    .dataframe tbody tr th {\n",
       "        vertical-align: top;\n",
       "    }\n",
       "\n",
       "    .dataframe thead th {\n",
       "        text-align: right;\n",
       "    }\n",
       "</style>\n",
       "<table border=\"1\" class=\"dataframe\">\n",
       "  <thead>\n",
       "    <tr style=\"text-align: right;\">\n",
       "      <th></th>\n",
       "      <th>event_datetime</th>\n",
       "      <th>event</th>\n",
       "      <th>building_type</th>\n",
       "      <th>user_id</th>\n",
       "      <th>project_type</th>\n",
       "      <th>date</th>\n",
       "      <th>source</th>\n",
       "    </tr>\n",
       "  </thead>\n",
       "  <tbody>\n",
       "    <tr>\n",
       "      <th>0</th>\n",
       "      <td>2020-05-04 00:00:01</td>\n",
       "      <td>building</td>\n",
       "      <td>assembly_shop</td>\n",
       "      <td>55e92310-cb8e-4754-b622-597e124b03de</td>\n",
       "      <td>NaN</td>\n",
       "      <td>2020-05-04</td>\n",
       "      <td>youtube_channel_reklama</td>\n",
       "    </tr>\n",
       "    <tr>\n",
       "      <th>1</th>\n",
       "      <td>2020-05-05 05:20:15</td>\n",
       "      <td>building</td>\n",
       "      <td>assembly_shop</td>\n",
       "      <td>55e92310-cb8e-4754-b622-597e124b03de</td>\n",
       "      <td>NaN</td>\n",
       "      <td>2020-05-05</td>\n",
       "      <td>youtube_channel_reklama</td>\n",
       "    </tr>\n",
       "    <tr>\n",
       "      <th>2</th>\n",
       "      <td>2020-05-05 19:24:02</td>\n",
       "      <td>building</td>\n",
       "      <td>assembly_shop</td>\n",
       "      <td>55e92310-cb8e-4754-b622-597e124b03de</td>\n",
       "      <td>NaN</td>\n",
       "      <td>2020-05-05</td>\n",
       "      <td>youtube_channel_reklama</td>\n",
       "    </tr>\n",
       "    <tr>\n",
       "      <th>3</th>\n",
       "      <td>2020-05-05 20:59:19</td>\n",
       "      <td>building</td>\n",
       "      <td>assembly_shop</td>\n",
       "      <td>55e92310-cb8e-4754-b622-597e124b03de</td>\n",
       "      <td>NaN</td>\n",
       "      <td>2020-05-05</td>\n",
       "      <td>youtube_channel_reklama</td>\n",
       "    </tr>\n",
       "    <tr>\n",
       "      <th>4</th>\n",
       "      <td>2020-05-06 00:52:56</td>\n",
       "      <td>building</td>\n",
       "      <td>assembly_shop</td>\n",
       "      <td>55e92310-cb8e-4754-b622-597e124b03de</td>\n",
       "      <td>NaN</td>\n",
       "      <td>2020-05-06</td>\n",
       "      <td>youtube_channel_reklama</td>\n",
       "    </tr>\n",
       "  </tbody>\n",
       "</table>\n",
       "</div>"
      ],
      "text/plain": [
       "       event_datetime     event  building_type  \\\n",
       "0 2020-05-04 00:00:01  building  assembly_shop   \n",
       "1 2020-05-05 05:20:15  building  assembly_shop   \n",
       "2 2020-05-05 19:24:02  building  assembly_shop   \n",
       "3 2020-05-05 20:59:19  building  assembly_shop   \n",
       "4 2020-05-06 00:52:56  building  assembly_shop   \n",
       "\n",
       "                                user_id project_type        date  \\\n",
       "0  55e92310-cb8e-4754-b622-597e124b03de          NaN  2020-05-04   \n",
       "1  55e92310-cb8e-4754-b622-597e124b03de          NaN  2020-05-05   \n",
       "2  55e92310-cb8e-4754-b622-597e124b03de          NaN  2020-05-05   \n",
       "3  55e92310-cb8e-4754-b622-597e124b03de          NaN  2020-05-05   \n",
       "4  55e92310-cb8e-4754-b622-597e124b03de          NaN  2020-05-06   \n",
       "\n",
       "                    source  \n",
       "0  youtube_channel_reklama  \n",
       "1  youtube_channel_reklama  \n",
       "2  youtube_channel_reklama  \n",
       "3  youtube_channel_reklama  \n",
       "4  youtube_channel_reklama  "
      ]
     },
     "execution_count": 21,
     "metadata": {},
     "output_type": "execute_result"
    }
   ],
   "source": [
    "users = game_actions.merge(user_sourse, on = 'user_id')\n",
    "users.head()"
   ]
  },
  {
   "cell_type": "markdown",
   "id": "6d997395",
   "metadata": {},
   "source": [
    "Посчитаем долю уникальных пользователей по каждому источнику:"
   ]
  },
  {
   "cell_type": "code",
   "execution_count": 22,
   "id": "99b4a361",
   "metadata": {},
   "outputs": [
    {
     "data": {
      "text/html": [
       "<div>\n",
       "<style scoped>\n",
       "    .dataframe tbody tr th:only-of-type {\n",
       "        vertical-align: middle;\n",
       "    }\n",
       "\n",
       "    .dataframe tbody tr th {\n",
       "        vertical-align: top;\n",
       "    }\n",
       "\n",
       "    .dataframe thead th {\n",
       "        text-align: right;\n",
       "    }\n",
       "</style>\n",
       "<table border=\"1\" class=\"dataframe\">\n",
       "  <thead>\n",
       "    <tr style=\"text-align: right;\">\n",
       "      <th></th>\n",
       "      <th>source</th>\n",
       "      <th>unique_users</th>\n",
       "      <th>fraction %</th>\n",
       "    </tr>\n",
       "  </thead>\n",
       "  <tbody>\n",
       "    <tr>\n",
       "      <th>0</th>\n",
       "      <td>youtube_channel_reklama</td>\n",
       "      <td>2686</td>\n",
       "      <td>19.78</td>\n",
       "    </tr>\n",
       "    <tr>\n",
       "      <th>1</th>\n",
       "      <td>facebook_ads</td>\n",
       "      <td>2726</td>\n",
       "      <td>20.08</td>\n",
       "    </tr>\n",
       "    <tr>\n",
       "      <th>2</th>\n",
       "      <td>instagram_new_adverts</td>\n",
       "      <td>3347</td>\n",
       "      <td>24.65</td>\n",
       "    </tr>\n",
       "    <tr>\n",
       "      <th>3</th>\n",
       "      <td>yandex_direct</td>\n",
       "      <td>4817</td>\n",
       "      <td>35.48</td>\n",
       "    </tr>\n",
       "  </tbody>\n",
       "</table>\n",
       "</div>"
      ],
      "text/plain": [
       "                    source  unique_users  fraction %\n",
       "0  youtube_channel_reklama          2686       19.78\n",
       "1             facebook_ads          2726       20.08\n",
       "2    instagram_new_adverts          3347       24.65\n",
       "3            yandex_direct          4817       35.48"
      ]
     },
     "execution_count": 22,
     "metadata": {},
     "output_type": "execute_result"
    }
   ],
   "source": [
    "sourse_fraction = users.groupby('source', \n",
    "                as_index = False).agg(unique_users = \n",
    "                            ('user_id','nunique')).sort_values(by = 'unique_users').reset_index(drop=True) \n",
    "sourse_fraction['fraction %'] = round(sourse_fraction['unique_users']/sourse_fraction['unique_users'].sum()*100,2)\n",
    "sourse_fraction"
   ]
  },
  {
   "cell_type": "code",
   "execution_count": 23,
   "id": "9ccb4371",
   "metadata": {},
   "outputs": [
    {
     "data": {
      "image/png": "[encoded data removed]",
      "text/plain": [
       "<Figure size 720x360 with 1 Axes>"
      ]
     },
     "metadata": {
      "needs_background": "light"
     },
     "output_type": "display_data"
    }
   ],
   "source": [
    "sourse_fraction.plot(kind='barh', y = 'unique_users',x = 'source',figsize=(10, 5), color = '#b72b3d')\n",
    "plt.title('Количество пользователей по источникам')   \n",
    "plt.ylabel('Источники')\n",
    "plt.xlabel('Количество')\n",
    "plt.legend(['Уникальные юзеры'])\n",
    "plt.show()"
   ]
  },
  {
   "cell_type": "markdown",
   "id": "c455f457",
   "metadata": {},
   "source": [
    "Итак, больше всего пользователей пришло с яндекс директа, меньше всего с ютуб канала. Посмотрим приход новых пользователей в разбивке по дням:"
   ]
  },
  {
   "cell_type": "code",
   "execution_count": 24,
   "id": "adfe1966",
   "metadata": {},
   "outputs": [
    {
     "data": {
      "image/png": "[encoded data removed]",
      "text/plain": [
       "<Figure size 1080x360 with 1 Axes>"
      ]
     },
     "metadata": {
      "needs_background": "light"
     },
     "output_type": "display_data"
    }
   ],
   "source": [
    "users.pivot_table(index='date', columns='source', \n",
    "                  values='user_id', aggfunc='nunique').plot(figsize=(15, 5), grid=True,label='Каналы', legend=True)\n",
    "plt.title('Новые юзеры по времени и источнику')\n",
    "plt.xlabel('Дата')\n",
    "plt.ylabel('Количество')\n",
    "plt.show();"
   ]
  },
  {
   "cell_type": "markdown",
   "id": "98100527",
   "metadata": {},
   "source": [
    "У рекламных источников одинаковые периоды пиков и спадов и разница между количеством новых пользователей на протяжении всего времени держится примерно на одном уровне (никаких всплесков и падений не наблюдается). Лучше всего показал себя яндекс директ, на втором месте инстаграм, на третьем почти на равне ютуб и фейсбук."
   ]
  },
  {
   "cell_type": "markdown",
   "id": "5f9acb41",
   "metadata": {},
   "source": [
    "####  Анализ рекламных источников по затратам"
   ]
  },
  {
   "cell_type": "code",
   "execution_count": 25,
   "id": "9e3f5f07",
   "metadata": {},
   "outputs": [
    {
     "data": {
      "text/html": [
       "<div>\n",
       "<style scoped>\n",
       "    .dataframe tbody tr th:only-of-type {\n",
       "        vertical-align: middle;\n",
       "    }\n",
       "\n",
       "    .dataframe tbody tr th {\n",
       "        vertical-align: top;\n",
       "    }\n",
       "\n",
       "    .dataframe thead th {\n",
       "        text-align: right;\n",
       "    }\n",
       "</style>\n",
       "<table border=\"1\" class=\"dataframe\">\n",
       "  <thead>\n",
       "    <tr style=\"text-align: right;\">\n",
       "      <th></th>\n",
       "      <th>source</th>\n",
       "      <th>cost</th>\n",
       "    </tr>\n",
       "  </thead>\n",
       "  <tbody>\n",
       "    <tr>\n",
       "      <th>0</th>\n",
       "      <td>youtube_channel_reklama</td>\n",
       "      <td>1068.119204</td>\n",
       "    </tr>\n",
       "    <tr>\n",
       "      <th>1</th>\n",
       "      <td>facebook_ads</td>\n",
       "      <td>2140.904643</td>\n",
       "    </tr>\n",
       "    <tr>\n",
       "      <th>2</th>\n",
       "      <td>instagram_new_adverts</td>\n",
       "      <td>2161.441691</td>\n",
       "    </tr>\n",
       "    <tr>\n",
       "      <th>3</th>\n",
       "      <td>yandex_direct</td>\n",
       "      <td>2233.111449</td>\n",
       "    </tr>\n",
       "  </tbody>\n",
       "</table>\n",
       "</div>"
      ],
      "text/plain": [
       "                    source         cost\n",
       "0  youtube_channel_reklama  1068.119204\n",
       "1             facebook_ads  2140.904643\n",
       "2    instagram_new_adverts  2161.441691\n",
       "3            yandex_direct  2233.111449"
      ]
     },
     "execution_count": 25,
     "metadata": {},
     "output_type": "execute_result"
    }
   ],
   "source": [
    "cac_source = costs.groupby('source', as_index=False).sum().sort_values(by = 'cost').reset_index(drop=True) \n",
    "cac_source"
   ]
  },
  {
   "cell_type": "code",
   "execution_count": 26,
   "id": "ce25e0c7",
   "metadata": {},
   "outputs": [
    {
     "data": {
      "image/png": "[encoded data removed]",
      "text/plain": [
       "<Figure size 720x360 with 1 Axes>"
      ]
     },
     "metadata": {
      "needs_background": "light"
     },
     "output_type": "display_data"
    }
   ],
   "source": [
    "cac_source.plot(kind='barh', y = 'cost',x = 'source',figsize=(10, 5), color = '#b72b3d')\n",
    "plt.title('Затраты по источникам')   \n",
    "plt.ylabel('Источники')\n",
    "plt.xlabel('Затраты')\n",
    "plt.show()"
   ]
  },
  {
   "cell_type": "markdown",
   "id": "e9fee2fd",
   "metadata": {},
   "source": [
    "Посмотрим на затраты в распределении по времени:"
   ]
  },
  {
   "cell_type": "code",
   "execution_count": 27,
   "id": "829a32fc",
   "metadata": {},
   "outputs": [
    {
     "data": {
      "image/png": "[encoded data removed]",
      "text/plain": [
       "<Figure size 1080x360 with 1 Axes>"
      ]
     },
     "metadata": {
      "needs_background": "light"
     },
     "output_type": "display_data"
    }
   ],
   "source": [
    "costs.pivot_table(\n",
    "        index='day', columns='source', values='cost', aggfunc='sum'\n",
    "    ).plot(figsize=(15, 5), grid=True,label='Каналы', legend=True)\n",
    "plt.title('Затраты на рекламу по времени и источнику')\n",
    "plt.xlabel('Дата')\n",
    "plt.ylabel('Затраты')\n",
    "plt.show();"
   ]
  },
  {
   "cell_type": "markdown",
   "id": "cf973bdd",
   "metadata": {},
   "source": [
    "ФБ, инстаграм и яндекс по затратам были наравне, на ютуб затрачено намного меньше средств. Посчитаем среднюю стоимость нового юзера по источникам:"
   ]
  },
  {
   "cell_type": "code",
   "execution_count": 28,
   "id": "d89ec46e",
   "metadata": {},
   "outputs": [
    {
     "data": {
      "text/html": [
       "<div>\n",
       "<style scoped>\n",
       "    .dataframe tbody tr th:only-of-type {\n",
       "        vertical-align: middle;\n",
       "    }\n",
       "\n",
       "    .dataframe tbody tr th {\n",
       "        vertical-align: top;\n",
       "    }\n",
       "\n",
       "    .dataframe thead th {\n",
       "        text-align: right;\n",
       "    }\n",
       "</style>\n",
       "<table border=\"1\" class=\"dataframe\">\n",
       "  <thead>\n",
       "    <tr style=\"text-align: right;\">\n",
       "      <th></th>\n",
       "      <th>source</th>\n",
       "      <th>unique_users</th>\n",
       "      <th>fraction %</th>\n",
       "      <th>cost</th>\n",
       "      <th>c_mean</th>\n",
       "    </tr>\n",
       "  </thead>\n",
       "  <tbody>\n",
       "    <tr>\n",
       "      <th>0</th>\n",
       "      <td>facebook_ads</td>\n",
       "      <td>2726</td>\n",
       "      <td>20.08</td>\n",
       "      <td>2140.904643</td>\n",
       "      <td>0.79</td>\n",
       "    </tr>\n",
       "    <tr>\n",
       "      <th>1</th>\n",
       "      <td>instagram_new_adverts</td>\n",
       "      <td>3347</td>\n",
       "      <td>24.65</td>\n",
       "      <td>2161.441691</td>\n",
       "      <td>0.65</td>\n",
       "    </tr>\n",
       "    <tr>\n",
       "      <th>2</th>\n",
       "      <td>yandex_direct</td>\n",
       "      <td>4817</td>\n",
       "      <td>35.48</td>\n",
       "      <td>2233.111449</td>\n",
       "      <td>0.46</td>\n",
       "    </tr>\n",
       "    <tr>\n",
       "      <th>3</th>\n",
       "      <td>youtube_channel_reklama</td>\n",
       "      <td>2686</td>\n",
       "      <td>19.78</td>\n",
       "      <td>1068.119204</td>\n",
       "      <td>0.40</td>\n",
       "    </tr>\n",
       "  </tbody>\n",
       "</table>\n",
       "</div>"
      ],
      "text/plain": [
       "                    source  unique_users  fraction %         cost  c_mean\n",
       "0             facebook_ads          2726       20.08  2140.904643    0.79\n",
       "1    instagram_new_adverts          3347       24.65  2161.441691    0.65\n",
       "2            yandex_direct          4817       35.48  2233.111449    0.46\n",
       "3  youtube_channel_reklama          2686       19.78  1068.119204    0.40"
      ]
     },
     "execution_count": 28,
     "metadata": {},
     "output_type": "execute_result"
    }
   ],
   "source": [
    "cac = sourse_fraction.merge(cac_source, on = 'source')\n",
    "cac['c_mean'] = round(cac['cost']/cac['unique_users'],2)\n",
    "cac = cac.sort_values(by='c_mean', ascending = False).reset_index(drop=True)  \n",
    "cac"
   ]
  },
  {
   "cell_type": "code",
   "execution_count": 29,
   "id": "845a95ea",
   "metadata": {},
   "outputs": [
    {
     "data": {
      "image/png": "[encoded data removed]",
      "text/plain": [
       "<Figure size 720x360 with 1 Axes>"
      ]
     },
     "metadata": {
      "needs_background": "light"
     },
     "output_type": "display_data"
    }
   ],
   "source": [
    "cac.plot(kind='barh', y = 'c_mean',x = 'source',figsize=(10, 5), color = '#b72b3d')\n",
    "plt.title('Средняя стоимость привлечения')   \n",
    "plt.ylabel('Источники')\n",
    "plt.xlabel('Средняя стоимость')\n",
    "plt.legend(['САС'])\n",
    "plt.show()"
   ]
  },
  {
   "cell_type": "markdown",
   "id": "9c28a64e",
   "metadata": {},
   "source": [
    "\n",
    "1. Самый дешевый источник - ютуб, (на последнем месте по количеству новых пользователей)\n",
    "2. На втором месте яндекс директ(лидер по количеству новых пользователей) \n",
    "3. На третьем месте  - инстаграм (второй по количеству новых пользователей)\n",
    "4. Аутсайдер - фейсбук (самый дорогой и на предпоследнем месте по количеству новых клиентов после ютуба)"
   ]
  },
  {
   "cell_type": "markdown",
   "id": "975c6808",
   "metadata": {},
   "source": [
    "#### Анализ рекламных источников по способу прохождения уровня"
   ]
  },
  {
   "cell_type": "code",
   "execution_count": 30,
   "id": "416c9b4c",
   "metadata": {},
   "outputs": [
    {
     "name": "stdout",
     "output_type": "stream",
     "text": [
      "Доля завершивших уровень:  42.85\n"
     ]
    }
   ],
   "source": [
    "finish = users.query('event == \"finished_stage_1\"')\n",
    "pve = users.query('event == \"project\"')\n",
    "print('Доля завершивших уровень: ',round(finish.user_id.nunique()/users.user_id.nunique()*100,2))"
   ]
  },
  {
   "cell_type": "code",
   "execution_count": 31,
   "id": "ab22a14d",
   "metadata": {},
   "outputs": [
    {
     "name": "stdout",
     "output_type": "stream",
     "text": [
      "Количество игроков, победивших через реализацию проекта:  1866\n",
      "Количество игроков, победивших через победу над другим игроком:  3951\n",
      "Победивших игроков всего:  5817\n"
     ]
    }
   ],
   "source": [
    "print('Количество игроков, победивших через реализацию проекта: ',pve.user_id.nunique())\n",
    "print('Количество игроков, победивших через победу над другим игроком: ',finish.user_id.nunique() - pve.user_id.nunique())\n",
    "print('Победивших игроков всего: ', finish.user_id.nunique())"
   ]
  },
  {
   "cell_type": "code",
   "execution_count": 32,
   "id": "6e501d99",
   "metadata": {},
   "outputs": [
    {
     "data": {
      "image/png": "[encoded data removed]",
      "text/plain": [
       "<Figure size 576x576 with 1 Axes>"
      ]
     },
     "metadata": {},
     "output_type": "display_data"
    }
   ],
   "source": [
    "p = users.groupby(['event']).count().reset_index()\n",
    "a = p.user_id[1]\n",
    "b = p.user_id[2]\n",
    "c = a-b\n",
    "pie = pd.Series( [b,c], index=['PvE', 'PvP'])\n",
    "pie.plot(kind='pie', y='pie',autopct='%1.0f%%',figsize=(8,8))\n",
    "plt.title('Победители'+ \"\\n\");"
   ]
  },
  {
   "cell_type": "markdown",
   "id": "7f5206f3",
   "metadata": {},
   "source": [
    "Тех, кто одержал победу над другим игроком (68%), это почти в два раза больше, чем тех, кто победил с помощью реализации проекта (32%)."
   ]
  },
  {
   "cell_type": "markdown",
   "id": "950b02dc",
   "metadata": {},
   "source": [
    "Cоздадим профиль пользователя:"
   ]
  },
  {
   "cell_type": "code",
   "execution_count": 33,
   "id": "b2c3acf8",
   "metadata": {},
   "outputs": [
    {
     "data": {
      "text/html": [
       "<div>\n",
       "<style scoped>\n",
       "    .dataframe tbody tr th:only-of-type {\n",
       "        vertical-align: middle;\n",
       "    }\n",
       "\n",
       "    .dataframe tbody tr th {\n",
       "        vertical-align: top;\n",
       "    }\n",
       "\n",
       "    .dataframe thead th {\n",
       "        text-align: right;\n",
       "    }\n",
       "</style>\n",
       "<table border=\"1\" class=\"dataframe\">\n",
       "  <thead>\n",
       "    <tr style=\"text-align: right;\">\n",
       "      <th></th>\n",
       "      <th>user_id</th>\n",
       "      <th>first_ts</th>\n",
       "      <th>source</th>\n",
       "      <th>dt</th>\n",
       "      <th>finish</th>\n",
       "      <th>type_of_finish</th>\n",
       "    </tr>\n",
       "  </thead>\n",
       "  <tbody>\n",
       "    <tr>\n",
       "      <th>0</th>\n",
       "      <td>0001f83c-c6ac-4621-b7f0-8a28b283ac30</td>\n",
       "      <td>2020-05-06 01:07:37</td>\n",
       "      <td>facebook_ads</td>\n",
       "      <td>2020-05-06</td>\n",
       "      <td>False</td>\n",
       "      <td>PvP</td>\n",
       "    </tr>\n",
       "    <tr>\n",
       "      <th>1</th>\n",
       "      <td>00151b4f-ba38-44a8-a650-d7cf130a0105</td>\n",
       "      <td>2020-05-06 03:09:12</td>\n",
       "      <td>yandex_direct</td>\n",
       "      <td>2020-05-06</td>\n",
       "      <td>False</td>\n",
       "      <td>PvP</td>\n",
       "    </tr>\n",
       "    <tr>\n",
       "      <th>2</th>\n",
       "      <td>001aaea6-3d14-43f1-8ca8-7f48820f17aa</td>\n",
       "      <td>2020-05-05 18:08:52</td>\n",
       "      <td>youtube_channel_reklama</td>\n",
       "      <td>2020-05-05</td>\n",
       "      <td>False</td>\n",
       "      <td>PvP</td>\n",
       "    </tr>\n",
       "    <tr>\n",
       "      <th>3</th>\n",
       "      <td>001d39dc-366c-4021-9604-6a3b9ff01e25</td>\n",
       "      <td>2020-05-05 21:02:05</td>\n",
       "      <td>instagram_new_adverts</td>\n",
       "      <td>2020-05-05</td>\n",
       "      <td>True</td>\n",
       "      <td>PvP</td>\n",
       "    </tr>\n",
       "    <tr>\n",
       "      <th>4</th>\n",
       "      <td>002f508f-67b6-479f-814b-b05f00d4e995</td>\n",
       "      <td>2020-05-05 13:49:58</td>\n",
       "      <td>facebook_ads</td>\n",
       "      <td>2020-05-05</td>\n",
       "      <td>False</td>\n",
       "      <td>PvP</td>\n",
       "    </tr>\n",
       "  </tbody>\n",
       "</table>\n",
       "</div>"
      ],
      "text/plain": [
       "                                user_id            first_ts  \\\n",
       "0  0001f83c-c6ac-4621-b7f0-8a28b283ac30 2020-05-06 01:07:37   \n",
       "1  00151b4f-ba38-44a8-a650-d7cf130a0105 2020-05-06 03:09:12   \n",
       "2  001aaea6-3d14-43f1-8ca8-7f48820f17aa 2020-05-05 18:08:52   \n",
       "3  001d39dc-366c-4021-9604-6a3b9ff01e25 2020-05-05 21:02:05   \n",
       "4  002f508f-67b6-479f-814b-b05f00d4e995 2020-05-05 13:49:58   \n",
       "\n",
       "                    source          dt  finish type_of_finish  \n",
       "0             facebook_ads  2020-05-06   False            PvP  \n",
       "1            yandex_direct  2020-05-06   False            PvP  \n",
       "2  youtube_channel_reklama  2020-05-05   False            PvP  \n",
       "3    instagram_new_adverts  2020-05-05    True            PvP  \n",
       "4             facebook_ads  2020-05-05   False            PvP  "
      ]
     },
     "execution_count": 33,
     "metadata": {},
     "output_type": "execute_result"
    }
   ],
   "source": [
    "def get_profiles(finish, users, pve):\n",
    "    profiles = (\n",
    "        users.sort_values(by=['user_id', 'event_datetime'])\n",
    "        .groupby('user_id')\n",
    "        .agg({'event_datetime': 'first',\n",
    "             'source': 'first'})\n",
    "        .rename(columns={'event_datetime': 'first_ts'})\n",
    "        .reset_index() ) \n",
    "\n",
    "    # определяем дату первого посещения\n",
    "    profiles['dt'] = profiles['first_ts'].dt.date\n",
    "    profiles['finish'] = profiles['user_id'].isin(finish['user_id'].unique())\n",
    "    profiles['type_of_finish'] = profiles['user_id'].isin(pve['user_id'].unique())\n",
    "    profiles = profiles.replace({\"type_of_finish\": {True: \"PvE\", False: \"PvP\"}})\n",
    "    return profiles\n",
    "\n",
    "profiles = get_profiles(finish, users,pve)\n",
    "profiles.head() "
   ]
  },
  {
   "cell_type": "markdown",
   "id": "83d04795",
   "metadata": {},
   "source": [
    "Проверяем, что все ок:"
   ]
  },
  {
   "cell_type": "code",
   "execution_count": 34,
   "id": "7d7adce9",
   "metadata": {},
   "outputs": [
    {
     "data": {
      "text/html": [
       "<div>\n",
       "<style scoped>\n",
       "    .dataframe tbody tr th:only-of-type {\n",
       "        vertical-align: middle;\n",
       "    }\n",
       "\n",
       "    .dataframe tbody tr th {\n",
       "        vertical-align: top;\n",
       "    }\n",
       "\n",
       "    .dataframe thead th {\n",
       "        text-align: right;\n",
       "    }\n",
       "</style>\n",
       "<table border=\"1\" class=\"dataframe\">\n",
       "  <thead>\n",
       "    <tr style=\"text-align: right;\">\n",
       "      <th></th>\n",
       "      <th>finish</th>\n",
       "      <th>unique_users</th>\n",
       "    </tr>\n",
       "  </thead>\n",
       "  <tbody>\n",
       "    <tr>\n",
       "      <th>0</th>\n",
       "      <td>False</td>\n",
       "      <td>7759</td>\n",
       "    </tr>\n",
       "    <tr>\n",
       "      <th>1</th>\n",
       "      <td>True</td>\n",
       "      <td>5817</td>\n",
       "    </tr>\n",
       "  </tbody>\n",
       "</table>\n",
       "</div>"
      ],
      "text/plain": [
       "   finish  unique_users\n",
       "0   False          7759\n",
       "1    True          5817"
      ]
     },
     "execution_count": 34,
     "metadata": {},
     "output_type": "execute_result"
    }
   ],
   "source": [
    "profiles.groupby('finish', \n",
    "                as_index=False).agg(unique_users = ('user_id',\n",
    "                                'nunique')).sort_values(by = 'unique_users', ascending = False).reset_index(drop=True)"
   ]
  },
  {
   "cell_type": "code",
   "execution_count": 35,
   "id": "19921e27",
   "metadata": {},
   "outputs": [
    {
     "data": {
      "text/plain": [
       "PvP    3951\n",
       "PvE    1866\n",
       "Name: type_of_finish, dtype: int64"
      ]
     },
     "execution_count": 35,
     "metadata": {},
     "output_type": "execute_result"
    }
   ],
   "source": [
    "profiles_finish = profiles.query('finish==True')\n",
    "profiles_finish.type_of_finish.value_counts() "
   ]
  },
  {
   "cell_type": "markdown",
   "id": "e89eed93",
   "metadata": {},
   "source": [
    "Посчитаем конверсию по источникам:"
   ]
  },
  {
   "cell_type": "code",
   "execution_count": 36,
   "id": "416ac7e1",
   "metadata": {},
   "outputs": [
    {
     "data": {
      "text/html": [
       "<div>\n",
       "<style scoped>\n",
       "    .dataframe tbody tr th:only-of-type {\n",
       "        vertical-align: middle;\n",
       "    }\n",
       "\n",
       "    .dataframe tbody tr th {\n",
       "        vertical-align: top;\n",
       "    }\n",
       "\n",
       "    .dataframe thead th {\n",
       "        text-align: right;\n",
       "    }\n",
       "</style>\n",
       "<table border=\"1\" class=\"dataframe\">\n",
       "  <thead>\n",
       "    <tr style=\"text-align: right;\">\n",
       "      <th></th>\n",
       "      <th>source</th>\n",
       "      <th>finish_users</th>\n",
       "      <th>all_users</th>\n",
       "      <th>cr</th>\n",
       "    </tr>\n",
       "  </thead>\n",
       "  <tbody>\n",
       "    <tr>\n",
       "      <th>0</th>\n",
       "      <td>instagram_new_adverts</td>\n",
       "      <td>1466</td>\n",
       "      <td>3347</td>\n",
       "      <td>43.80</td>\n",
       "    </tr>\n",
       "    <tr>\n",
       "      <th>1</th>\n",
       "      <td>youtube_channel_reklama</td>\n",
       "      <td>1159</td>\n",
       "      <td>2686</td>\n",
       "      <td>43.15</td>\n",
       "    </tr>\n",
       "    <tr>\n",
       "      <th>2</th>\n",
       "      <td>yandex_direct</td>\n",
       "      <td>2042</td>\n",
       "      <td>4817</td>\n",
       "      <td>42.39</td>\n",
       "    </tr>\n",
       "    <tr>\n",
       "      <th>3</th>\n",
       "      <td>facebook_ads</td>\n",
       "      <td>1150</td>\n",
       "      <td>2726</td>\n",
       "      <td>42.19</td>\n",
       "    </tr>\n",
       "  </tbody>\n",
       "</table>\n",
       "</div>"
      ],
      "text/plain": [
       "                    source  finish_users  all_users     cr\n",
       "0    instagram_new_adverts          1466       3347  43.80\n",
       "1  youtube_channel_reklama          1159       2686  43.15\n",
       "2            yandex_direct          2042       4817  42.39\n",
       "3             facebook_ads          1150       2726  42.19"
      ]
     },
     "execution_count": 36,
     "metadata": {},
     "output_type": "execute_result"
    }
   ],
   "source": [
    "winners = profiles_finish.groupby(['source'], as_index=False).agg(finish_users = ('user_id',\n",
    "                                'nunique'))\n",
    "all_users = profiles.groupby(['source'], as_index=False).agg(all_users = ('user_id',\n",
    "                                'nunique'))\n",
    "cr = winners.merge(all_users, on = 'source')\n",
    "cr['cr'] = round(cr['finish_users']/cr['all_users']*100,2) \n",
    "cr.sort_values(by = 'cr', ascending = False).reset_index(drop=True)"
   ]
  },
  {
   "cell_type": "markdown",
   "id": "2a8bba12",
   "metadata": {},
   "source": [
    "Конверсия выше всего у пользователей инстаграма и ютуб, на третьем месте яндекс директ и на последнем фейсбук.\n",
    "\n",
    "Посмотрим на кол-во победителей PvP, PvE в разбивке по каналам:"
   ]
  },
  {
   "cell_type": "markdown",
   "id": "9af95263",
   "metadata": {},
   "source": [
    "Посмотрим на кол-во победителей PvP, PvE в разбивке по каналам:"
   ]
  },
  {
   "cell_type": "code",
   "execution_count": 37,
   "id": "492295ff",
   "metadata": {},
   "outputs": [
    {
     "data": {
      "image/png": "[encoded data removed]",
      "text/plain": [
       "<Figure size 1080x360 with 1 Axes>"
      ]
     },
     "metadata": {
      "needs_background": "light"
     },
     "output_type": "display_data"
    }
   ],
   "source": [
    "profiles_finish.pivot_table(index='type_of_finish', columns = 'source', values=['user_id'], \n",
    "                            aggfunc = ['count']).plot(kind=\"bar\", figsize=(15, 5))\n",
    "plt.title('Победители')   \n",
    "plt.ylabel('Источники')\n",
    "plt.xlabel('Тип победы')\n",
    "plt.legend(['facebook_ads','instagram_new_adverts', 'yandex_direct', 'youtube_channel_reklama'])\n",
    "plt.xticks(rotation=0)\n",
    "plt.show()"
   ]
  },
  {
   "cell_type": "markdown",
   "id": "799ede35",
   "metadata": {},
   "source": [
    "Игроки PvP и PvE распределены примерно в равнозначных долях по источникам. Проверим распределение в процентах:"
   ]
  },
  {
   "cell_type": "code",
   "execution_count": 38,
   "id": "2c7c3eee",
   "metadata": {},
   "outputs": [
    {
     "name": "stdout",
     "output_type": "stream",
     "text": [
      "PvP игроки\n"
     ]
    },
    {
     "data": {
      "text/html": [
       "<div>\n",
       "<style scoped>\n",
       "    .dataframe tbody tr th:only-of-type {\n",
       "        vertical-align: middle;\n",
       "    }\n",
       "\n",
       "    .dataframe tbody tr th {\n",
       "        vertical-align: top;\n",
       "    }\n",
       "\n",
       "    .dataframe thead th {\n",
       "        text-align: right;\n",
       "    }\n",
       "</style>\n",
       "<table border=\"1\" class=\"dataframe\">\n",
       "  <thead>\n",
       "    <tr style=\"text-align: right;\">\n",
       "      <th></th>\n",
       "      <th>source</th>\n",
       "      <th>finish_users</th>\n",
       "      <th>fraction</th>\n",
       "    </tr>\n",
       "  </thead>\n",
       "  <tbody>\n",
       "    <tr>\n",
       "      <th>0</th>\n",
       "      <td>facebook_ads</td>\n",
       "      <td>759</td>\n",
       "      <td>19.21</td>\n",
       "    </tr>\n",
       "    <tr>\n",
       "      <th>1</th>\n",
       "      <td>youtube_channel_reklama</td>\n",
       "      <td>780</td>\n",
       "      <td>19.74</td>\n",
       "    </tr>\n",
       "    <tr>\n",
       "      <th>2</th>\n",
       "      <td>instagram_new_adverts</td>\n",
       "      <td>990</td>\n",
       "      <td>25.06</td>\n",
       "    </tr>\n",
       "    <tr>\n",
       "      <th>3</th>\n",
       "      <td>yandex_direct</td>\n",
       "      <td>1422</td>\n",
       "      <td>35.99</td>\n",
       "    </tr>\n",
       "  </tbody>\n",
       "</table>\n",
       "</div>"
      ],
      "text/plain": [
       "                    source  finish_users  fraction\n",
       "0             facebook_ads           759     19.21\n",
       "1  youtube_channel_reklama           780     19.74\n",
       "2    instagram_new_adverts           990     25.06\n",
       "3            yandex_direct          1422     35.99"
      ]
     },
     "metadata": {},
     "output_type": "display_data"
    },
    {
     "name": "stdout",
     "output_type": "stream",
     "text": [
      "\n",
      "PvE игроки\n"
     ]
    },
    {
     "data": {
      "text/html": [
       "<div>\n",
       "<style scoped>\n",
       "    .dataframe tbody tr th:only-of-type {\n",
       "        vertical-align: middle;\n",
       "    }\n",
       "\n",
       "    .dataframe tbody tr th {\n",
       "        vertical-align: top;\n",
       "    }\n",
       "\n",
       "    .dataframe thead th {\n",
       "        text-align: right;\n",
       "    }\n",
       "</style>\n",
       "<table border=\"1\" class=\"dataframe\">\n",
       "  <thead>\n",
       "    <tr style=\"text-align: right;\">\n",
       "      <th></th>\n",
       "      <th>source</th>\n",
       "      <th>finish_users</th>\n",
       "      <th>fraction</th>\n",
       "    </tr>\n",
       "  </thead>\n",
       "  <tbody>\n",
       "    <tr>\n",
       "      <th>0</th>\n",
       "      <td>youtube_channel_reklama</td>\n",
       "      <td>379</td>\n",
       "      <td>20.31</td>\n",
       "    </tr>\n",
       "    <tr>\n",
       "      <th>1</th>\n",
       "      <td>facebook_ads</td>\n",
       "      <td>391</td>\n",
       "      <td>20.95</td>\n",
       "    </tr>\n",
       "    <tr>\n",
       "      <th>2</th>\n",
       "      <td>instagram_new_adverts</td>\n",
       "      <td>476</td>\n",
       "      <td>25.51</td>\n",
       "    </tr>\n",
       "    <tr>\n",
       "      <th>3</th>\n",
       "      <td>yandex_direct</td>\n",
       "      <td>620</td>\n",
       "      <td>33.23</td>\n",
       "    </tr>\n",
       "  </tbody>\n",
       "</table>\n",
       "</div>"
      ],
      "text/plain": [
       "                    source  finish_users  fraction\n",
       "0  youtube_channel_reklama           379     20.31\n",
       "1             facebook_ads           391     20.95\n",
       "2    instagram_new_adverts           476     25.51\n",
       "3            yandex_direct           620     33.23"
      ]
     },
     "metadata": {},
     "output_type": "display_data"
    }
   ],
   "source": [
    "pvp = profiles_finish.query('type_of_finish==\"PvP\"')\n",
    "pvp_gr = pvp.groupby(['source'], as_index=False).agg(finish_users = ('user_id',\n",
    "                                'nunique')).sort_values(by = 'finish_users').reset_index(drop=True)\n",
    "pvp_gr['fraction'] = round(pvp_gr.finish_users/pvp.user_id.nunique()*100,2) \n",
    "print('PvP игроки')\n",
    "display(pvp_gr)\n",
    "print()\n",
    "pve = profiles_finish.query('type_of_finish==\"PvE\"')\n",
    "pve_gr = pve.groupby(['source'], as_index=False).agg(finish_users = ('user_id',\n",
    "                                'nunique')).sort_values(by = 'finish_users').reset_index(drop=True)\n",
    "pve_gr['fraction'] = round(pve_gr.finish_users/pve.user_id.nunique()*100,2)  \n",
    "print('PvE игроки')\n",
    "display(pve_gr)"
   ]
  },
  {
   "cell_type": "markdown",
   "id": "24fb662b",
   "metadata": {},
   "source": [
    "Действительно, распределерние игроков PvP и PvE по рекламным каналам отличается не более, чем на 2.7 п.п.  \n",
    "Посмотрим на конверсии в зависимости от способа прохождения уровня:"
   ]
  },
  {
   "cell_type": "code",
   "execution_count": 39,
   "id": "fd321e57",
   "metadata": {},
   "outputs": [
    {
     "name": "stdout",
     "output_type": "stream",
     "text": [
      "PvP CR\n"
     ]
    },
    {
     "data": {
      "text/html": [
       "<div>\n",
       "<style scoped>\n",
       "    .dataframe tbody tr th:only-of-type {\n",
       "        vertical-align: middle;\n",
       "    }\n",
       "\n",
       "    .dataframe tbody tr th {\n",
       "        vertical-align: top;\n",
       "    }\n",
       "\n",
       "    .dataframe thead th {\n",
       "        text-align: right;\n",
       "    }\n",
       "</style>\n",
       "<table border=\"1\" class=\"dataframe\">\n",
       "  <thead>\n",
       "    <tr style=\"text-align: right;\">\n",
       "      <th></th>\n",
       "      <th>source</th>\n",
       "      <th>all_users</th>\n",
       "      <th>finish_users</th>\n",
       "      <th>CR</th>\n",
       "    </tr>\n",
       "  </thead>\n",
       "  <tbody>\n",
       "    <tr>\n",
       "      <th>1</th>\n",
       "      <td>instagram_new_adverts</td>\n",
       "      <td>3347</td>\n",
       "      <td>990</td>\n",
       "      <td>29.58</td>\n",
       "    </tr>\n",
       "    <tr>\n",
       "      <th>2</th>\n",
       "      <td>yandex_direct</td>\n",
       "      <td>4817</td>\n",
       "      <td>1422</td>\n",
       "      <td>29.52</td>\n",
       "    </tr>\n",
       "    <tr>\n",
       "      <th>3</th>\n",
       "      <td>youtube_channel_reklama</td>\n",
       "      <td>2686</td>\n",
       "      <td>780</td>\n",
       "      <td>29.04</td>\n",
       "    </tr>\n",
       "    <tr>\n",
       "      <th>0</th>\n",
       "      <td>facebook_ads</td>\n",
       "      <td>2726</td>\n",
       "      <td>759</td>\n",
       "      <td>27.84</td>\n",
       "    </tr>\n",
       "  </tbody>\n",
       "</table>\n",
       "</div>"
      ],
      "text/plain": [
       "                    source  all_users  finish_users     CR\n",
       "1    instagram_new_adverts       3347           990  29.58\n",
       "2            yandex_direct       4817          1422  29.52\n",
       "3  youtube_channel_reklama       2686           780  29.04\n",
       "0             facebook_ads       2726           759  27.84"
      ]
     },
     "metadata": {},
     "output_type": "display_data"
    },
    {
     "name": "stdout",
     "output_type": "stream",
     "text": [
      "Средняя конверсия:  28.99\n",
      "\n",
      "PvE CR\n"
     ]
    },
    {
     "data": {
      "text/html": [
       "<div>\n",
       "<style scoped>\n",
       "    .dataframe tbody tr th:only-of-type {\n",
       "        vertical-align: middle;\n",
       "    }\n",
       "\n",
       "    .dataframe tbody tr th {\n",
       "        vertical-align: top;\n",
       "    }\n",
       "\n",
       "    .dataframe thead th {\n",
       "        text-align: right;\n",
       "    }\n",
       "</style>\n",
       "<table border=\"1\" class=\"dataframe\">\n",
       "  <thead>\n",
       "    <tr style=\"text-align: right;\">\n",
       "      <th></th>\n",
       "      <th>source</th>\n",
       "      <th>all_users</th>\n",
       "      <th>finish_users</th>\n",
       "      <th>CR</th>\n",
       "    </tr>\n",
       "  </thead>\n",
       "  <tbody>\n",
       "    <tr>\n",
       "      <th>0</th>\n",
       "      <td>facebook_ads</td>\n",
       "      <td>2726</td>\n",
       "      <td>391</td>\n",
       "      <td>14.34</td>\n",
       "    </tr>\n",
       "    <tr>\n",
       "      <th>1</th>\n",
       "      <td>instagram_new_adverts</td>\n",
       "      <td>3347</td>\n",
       "      <td>476</td>\n",
       "      <td>14.22</td>\n",
       "    </tr>\n",
       "    <tr>\n",
       "      <th>3</th>\n",
       "      <td>youtube_channel_reklama</td>\n",
       "      <td>2686</td>\n",
       "      <td>379</td>\n",
       "      <td>14.11</td>\n",
       "    </tr>\n",
       "    <tr>\n",
       "      <th>2</th>\n",
       "      <td>yandex_direct</td>\n",
       "      <td>4817</td>\n",
       "      <td>620</td>\n",
       "      <td>12.87</td>\n",
       "    </tr>\n",
       "  </tbody>\n",
       "</table>\n",
       "</div>"
      ],
      "text/plain": [
       "                    source  all_users  finish_users     CR\n",
       "0             facebook_ads       2726           391  14.34\n",
       "1    instagram_new_adverts       3347           476  14.22\n",
       "3  youtube_channel_reklama       2686           379  14.11\n",
       "2            yandex_direct       4817           620  12.87"
      ]
     },
     "metadata": {},
     "output_type": "display_data"
    },
    {
     "name": "stdout",
     "output_type": "stream",
     "text": [
      "Средняя конверсия:  13.88\n"
     ]
    }
   ],
   "source": [
    "pvp_gr_1 = pvp_gr.drop(['fraction'], axis=1)\n",
    "pvp_cr = all_users.merge(pvp_gr_1, on = 'source')\n",
    "pvp_cr['CR'] = round(pvp_cr['finish_users']/ pvp_cr['all_users']*100,2)\n",
    "pvp_cr = pvp_cr.sort_values(by = 'CR', ascending = False)\n",
    "print('PvP CR')\n",
    "display(pvp_cr) \n",
    "print('Средняя конверсия: ', round(pvp_cr['CR'].mean(),2) )\n",
    "print()\n",
    "pve_gr_1 = pve_gr.drop(['fraction'], axis=1)\n",
    "pve_cr = all_users.merge(pve_gr_1, on = 'source')\n",
    "pve_cr['CR'] = round(pve_cr['finish_users']/ pvp_cr['all_users']*100,2)\n",
    "pve_cr = pve_cr.sort_values(by = 'CR', ascending = False)\n",
    "print('PvE CR')\n",
    "display(pve_cr) \n",
    "print('Средняя конверсия: ', round(pve_cr['CR'].mean(),2) ) "
   ]
  },
  {
   "cell_type": "markdown",
   "id": "95368b36",
   "metadata": {},
   "source": [
    "**Вывод**:\n",
    "\n",
    "* Победивших игроков всего:  5817\n",
    "\n",
    "* Количество игроков, победивших через реализацию проекта:  1866 (32%)\n",
    "\n",
    "* Количество игроков, победивших через победу над другим игроком:  3951 (68%)\n",
    "\n",
    "* Игроки PvP и PvE распределены примерно в равнозначных долях по источникам\n",
    "\n",
    "* Конверсия по каналам:\n",
    "\n",
    "1. Инстаграм  - 43.8%\n",
    "\n",
    "2. Ютуб 43.15%\n",
    "\n",
    "3. Яндекс (42.39)\n",
    "\n",
    "4. ФБ 42.19% \n",
    "\n",
    "Если смотреть в разбивке по способу игры, увидим другую картину:\n",
    "\n",
    "* Конверсия у игроков PvP намного выше, чем у игроков PvE (28.9% против 13.8%)\n",
    "\n",
    "В PvP лидер инстаграм, аутсайдер  - ФБ.\n",
    "\n",
    "В PvE лидер - фейсбук, аутсайдер - Яндекс. \n",
    "\n",
    " "
   ]
  },
  {
   "cell_type": "markdown",
   "id": "6798fce0",
   "metadata": {},
   "source": [
    "#### Анализ рекламных источников по количеству построенных объектов"
   ]
  },
  {
   "cell_type": "markdown",
   "id": "e7f1c789",
   "metadata": {},
   "source": [
    "Посмотрим сколько всего строится зданий игроками."
   ]
  },
  {
   "cell_type": "code",
   "execution_count": 40,
   "id": "2c06b32b",
   "metadata": {},
   "outputs": [
    {
     "data": {
      "image/png": "[encoded data removed]",
      "text/plain": [
       "<Figure size 432x288 with 1 Axes>"
      ]
     },
     "metadata": {
      "needs_background": "light"
     },
     "output_type": "display_data"
    }
   ],
   "source": [
    "building = users.groupby('user_id').agg(unique_users = ('user_id',\n",
    "                                'nunique'), building_count = ('building_type','count'))\n",
    "plt.hist(building['building_count'],color = '#b72b3d')\n",
    "plt.title('Количество зданий по игрокам')\n",
    "plt.xlabel('Количество зданий')\n",
    "plt.ylabel('Количество пользователей')\n",
    "plt.grid()\n",
    "plt.show()"
   ]
  },
  {
   "cell_type": "code",
   "execution_count": 41,
   "id": "b078fa1c",
   "metadata": {},
   "outputs": [
    {
     "data": {
      "text/plain": [
       "array([16., 18.])"
      ]
     },
     "execution_count": 41,
     "metadata": {},
     "output_type": "execute_result"
    }
   ],
   "source": [
    "np.percentile(building['building_count'], [95, 99])"
   ]
  },
  {
   "cell_type": "markdown",
   "id": "49cccad0",
   "metadata": {},
   "source": [
    "У 1% пользователей - больше 18 зданий и у 5% - больше 16."
   ]
  },
  {
   "cell_type": "markdown",
   "id": "8e90f981",
   "metadata": {},
   "source": [
    "Проанализируем с распределением по источникам:"
   ]
  },
  {
   "cell_type": "code",
   "execution_count": 42,
   "id": "d6cd2453",
   "metadata": {},
   "outputs": [
    {
     "data": {
      "text/html": [
       "<div>\n",
       "<style scoped>\n",
       "    .dataframe tbody tr th:only-of-type {\n",
       "        vertical-align: middle;\n",
       "    }\n",
       "\n",
       "    .dataframe tbody tr th {\n",
       "        vertical-align: top;\n",
       "    }\n",
       "\n",
       "    .dataframe thead th {\n",
       "        text-align: right;\n",
       "    }\n",
       "</style>\n",
       "<table border=\"1\" class=\"dataframe\">\n",
       "  <thead>\n",
       "    <tr style=\"text-align: right;\">\n",
       "      <th></th>\n",
       "      <th>source</th>\n",
       "      <th>unique_users</th>\n",
       "      <th>building_count</th>\n",
       "      <th>mean</th>\n",
       "    </tr>\n",
       "  </thead>\n",
       "  <tbody>\n",
       "    <tr>\n",
       "      <th>0</th>\n",
       "      <td>yandex_direct</td>\n",
       "      <td>4817</td>\n",
       "      <td>45032</td>\n",
       "      <td>9.35</td>\n",
       "    </tr>\n",
       "    <tr>\n",
       "      <th>1</th>\n",
       "      <td>instagram_new_adverts</td>\n",
       "      <td>3347</td>\n",
       "      <td>31815</td>\n",
       "      <td>9.51</td>\n",
       "    </tr>\n",
       "    <tr>\n",
       "      <th>2</th>\n",
       "      <td>facebook_ads</td>\n",
       "      <td>2726</td>\n",
       "      <td>26131</td>\n",
       "      <td>9.59</td>\n",
       "    </tr>\n",
       "    <tr>\n",
       "      <th>3</th>\n",
       "      <td>youtube_channel_reklama</td>\n",
       "      <td>2686</td>\n",
       "      <td>24978</td>\n",
       "      <td>9.30</td>\n",
       "    </tr>\n",
       "  </tbody>\n",
       "</table>\n",
       "</div>"
      ],
      "text/plain": [
       "                    source  unique_users  building_count  mean\n",
       "0            yandex_direct          4817           45032  9.35\n",
       "1    instagram_new_adverts          3347           31815  9.51\n",
       "2             facebook_ads          2726           26131  9.59\n",
       "3  youtube_channel_reklama          2686           24978  9.30"
      ]
     },
     "execution_count": 42,
     "metadata": {},
     "output_type": "execute_result"
    }
   ],
   "source": [
    "building_count = users.groupby('source', \n",
    "                as_index=False).agg(unique_users = ('user_id',\n",
    "                                'nunique'), building_count = ('building_type','count')).sort_values(by = \n",
    "                                                                    'unique_users', ascending = False).reset_index(drop=True)\n",
    "building_count['mean'] = round(building_count['building_count']/ building_count['unique_users'],2) \n",
    "building_count "
   ]
  },
  {
   "cell_type": "markdown",
   "id": "bb5c7806",
   "metadata": {},
   "source": [
    "Несмотря на то, что по общему количеству зданий явно выделяется яндекс.директ( за счет большего количества пользователей), если смотреть на среднее количество зданий на игрока, то первое место делят инстаграм и фб (по 10 зданий на игрока). Посмотрим количество зданий в зависимости от стратегии игры:"
   ]
  },
  {
   "cell_type": "code",
   "execution_count": 43,
   "id": "1f11e7f9",
   "metadata": {},
   "outputs": [],
   "source": [
    "pvp_b = users.merge(pvp, on = 'user_id')\n",
    "pve_b = users.merge(pve, on = 'user_id')"
   ]
  },
  {
   "cell_type": "code",
   "execution_count": 44,
   "id": "92dc9962",
   "metadata": {},
   "outputs": [
    {
     "name": "stdout",
     "output_type": "stream",
     "text": [
      "Игроки PvP\n"
     ]
    },
    {
     "data": {
      "text/html": [
       "<div>\n",
       "<style scoped>\n",
       "    .dataframe tbody tr th:only-of-type {\n",
       "        vertical-align: middle;\n",
       "    }\n",
       "\n",
       "    .dataframe tbody tr th {\n",
       "        vertical-align: top;\n",
       "    }\n",
       "\n",
       "    .dataframe thead th {\n",
       "        text-align: right;\n",
       "    }\n",
       "</style>\n",
       "<table border=\"1\" class=\"dataframe\">\n",
       "  <thead>\n",
       "    <tr style=\"text-align: right;\">\n",
       "      <th></th>\n",
       "      <th>source_x</th>\n",
       "      <th>unique_users</th>\n",
       "      <th>building_count</th>\n",
       "      <th>mean</th>\n",
       "    </tr>\n",
       "  </thead>\n",
       "  <tbody>\n",
       "    <tr>\n",
       "      <th>0</th>\n",
       "      <td>yandex_direct</td>\n",
       "      <td>1422</td>\n",
       "      <td>13332</td>\n",
       "      <td>9.38</td>\n",
       "    </tr>\n",
       "    <tr>\n",
       "      <th>1</th>\n",
       "      <td>instagram_new_adverts</td>\n",
       "      <td>990</td>\n",
       "      <td>9306</td>\n",
       "      <td>9.40</td>\n",
       "    </tr>\n",
       "    <tr>\n",
       "      <th>2</th>\n",
       "      <td>youtube_channel_reklama</td>\n",
       "      <td>780</td>\n",
       "      <td>7390</td>\n",
       "      <td>9.47</td>\n",
       "    </tr>\n",
       "    <tr>\n",
       "      <th>3</th>\n",
       "      <td>facebook_ads</td>\n",
       "      <td>759</td>\n",
       "      <td>7157</td>\n",
       "      <td>9.43</td>\n",
       "    </tr>\n",
       "  </tbody>\n",
       "</table>\n",
       "</div>"
      ],
      "text/plain": [
       "                  source_x  unique_users  building_count  mean\n",
       "0            yandex_direct          1422           13332  9.38\n",
       "1    instagram_new_adverts           990            9306  9.40\n",
       "2  youtube_channel_reklama           780            7390  9.47\n",
       "3             facebook_ads           759            7157  9.43"
      ]
     },
     "metadata": {},
     "output_type": "display_data"
    },
    {
     "name": "stdout",
     "output_type": "stream",
     "text": [
      "Игроки PvE\n"
     ]
    },
    {
     "data": {
      "text/html": [
       "<div>\n",
       "<style scoped>\n",
       "    .dataframe tbody tr th:only-of-type {\n",
       "        vertical-align: middle;\n",
       "    }\n",
       "\n",
       "    .dataframe tbody tr th {\n",
       "        vertical-align: top;\n",
       "    }\n",
       "\n",
       "    .dataframe thead th {\n",
       "        text-align: right;\n",
       "    }\n",
       "</style>\n",
       "<table border=\"1\" class=\"dataframe\">\n",
       "  <thead>\n",
       "    <tr style=\"text-align: right;\">\n",
       "      <th></th>\n",
       "      <th>source_x</th>\n",
       "      <th>unique_users</th>\n",
       "      <th>building_count</th>\n",
       "      <th>mean</th>\n",
       "    </tr>\n",
       "  </thead>\n",
       "  <tbody>\n",
       "    <tr>\n",
       "      <th>0</th>\n",
       "      <td>yandex_direct</td>\n",
       "      <td>620</td>\n",
       "      <td>7809</td>\n",
       "      <td>12.60</td>\n",
       "    </tr>\n",
       "    <tr>\n",
       "      <th>1</th>\n",
       "      <td>instagram_new_adverts</td>\n",
       "      <td>476</td>\n",
       "      <td>6072</td>\n",
       "      <td>12.76</td>\n",
       "    </tr>\n",
       "    <tr>\n",
       "      <th>2</th>\n",
       "      <td>facebook_ads</td>\n",
       "      <td>391</td>\n",
       "      <td>4946</td>\n",
       "      <td>12.65</td>\n",
       "    </tr>\n",
       "    <tr>\n",
       "      <th>3</th>\n",
       "      <td>youtube_channel_reklama</td>\n",
       "      <td>379</td>\n",
       "      <td>4774</td>\n",
       "      <td>12.60</td>\n",
       "    </tr>\n",
       "  </tbody>\n",
       "</table>\n",
       "</div>"
      ],
      "text/plain": [
       "                  source_x  unique_users  building_count   mean\n",
       "0            yandex_direct           620            7809  12.60\n",
       "1    instagram_new_adverts           476            6072  12.76\n",
       "2             facebook_ads           391            4946  12.65\n",
       "3  youtube_channel_reklama           379            4774  12.60"
      ]
     },
     "metadata": {},
     "output_type": "display_data"
    }
   ],
   "source": [
    "building_pvp = pvp_b.groupby('source_x', \n",
    "                as_index=False).agg(unique_users = ('user_id',\n",
    "                                'nunique'), building_count = ('building_type','count')).sort_values(by = \n",
    "                                                                    'unique_users', ascending = False).reset_index(drop=True)\n",
    "\n",
    "building_pvp['mean'] = round(building_pvp['building_count']/ building_pvp['unique_users'],2)\n",
    "print('Игроки PvP')\n",
    "display(building_pvp)\n",
    "\n",
    "building_pve = pve_b.groupby('source_x', \n",
    "                as_index=False).agg(unique_users = ('user_id',\n",
    "                                'nunique'), building_count = ('building_type','count')).sort_values(by = \n",
    "                                                                    'unique_users', ascending = False).reset_index(drop=True)\n",
    "\n",
    "building_pve['mean'] = round(building_pve['building_count']/ building_pve['unique_users'],2)\n",
    "print('Игроки PvE')\n",
    "display(building_pve)"
   ]
  },
  {
   "cell_type": "code",
   "execution_count": 45,
   "id": "c66033a1",
   "metadata": {},
   "outputs": [
    {
     "data": {
      "image/png": "[encoded data removed]",
      "text/plain": [
       "<Figure size 432x288 with 1 Axes>"
      ]
     },
     "metadata": {
      "needs_background": "light"
     },
     "output_type": "display_data"
    }
   ],
   "source": [
    "b1 = pvp_b.groupby(['source_x', 'user_id'], as_index=False).agg(building_count = ('building_type','count'))\n",
    "plt.hist(b1['building_count'],color = '#b72b3d')\n",
    "plt.title('Количество зданий по игрокам PvP')\n",
    "plt.xlabel('Количество зданий')\n",
    "plt.ylabel('Количество пользователей')\n",
    "plt.grid()\n",
    "plt.show()"
   ]
  },
  {
   "cell_type": "code",
   "execution_count": 46,
   "id": "259dd8ea",
   "metadata": {},
   "outputs": [
    {
     "data": {
      "text/plain": [
       "array([14., 16.])"
      ]
     },
     "execution_count": 46,
     "metadata": {},
     "output_type": "execute_result"
    }
   ],
   "source": [
    "np.percentile(b1['building_count'], [95, 99])"
   ]
  },
  {
   "cell_type": "code",
   "execution_count": 47,
   "id": "cc6135c1",
   "metadata": {},
   "outputs": [
    {
     "data": {
      "image/png": "[encoded data removed]",
      "text/plain": [
       "<Figure size 432x288 with 1 Axes>"
      ]
     },
     "metadata": {
      "needs_background": "light"
     },
     "output_type": "display_data"
    }
   ],
   "source": [
    "b2 = pve_b.groupby(['source_x', 'user_id'], as_index=False).agg(building_count = ('building_type','count'))\n",
    "plt.hist(b2['building_count'],color = '#b72b3d')\n",
    "plt.title('Количество зданий по игрокам PvE')\n",
    "plt.xlabel('Количество зданий')\n",
    "plt.ylabel('Количество пользователей')\n",
    "plt.grid()\n",
    "plt.show()"
   ]
  },
  {
   "cell_type": "code",
   "execution_count": 48,
   "id": "2e8fbef9",
   "metadata": {},
   "outputs": [
    {
     "data": {
      "text/plain": [
       "array([17., 18.])"
      ]
     },
     "execution_count": 48,
     "metadata": {},
     "output_type": "execute_result"
    }
   ],
   "source": [
    "np.percentile(b2['building_count'], [95, 99])"
   ]
  },
  {
   "cell_type": "code",
   "execution_count": 49,
   "id": "871d23ea",
   "metadata": {},
   "outputs": [
    {
     "data": {
      "image/png": "[encoded data removed]",
      "text/plain": [
       "<Figure size 1080x360 with 2 Axes>"
      ]
     },
     "metadata": {
      "needs_background": "light"
     },
     "output_type": "display_data"
    }
   ],
   "source": [
    "fig, (ax1, ax2)= plt.subplots(nrows=1,ncols=2, sharey=True, figsize=(15, 5))\n",
    "\n",
    "# pvp\n",
    "building_pvp.plot(kind='barh', color = '#c34a50', y=\"building_count\", x=\"source_x\", ax=ax1)\n",
    "ax1.set(title='PvP', ylabel='Количество зданий')\n",
    "ax1.get_legend().remove()\n",
    "ax1.set_xlim([0, 14000])\n",
    "\n",
    "# pve\n",
    "building_pve.plot(kind='barh', color = '#c34a50', y=\"building_count\", x=\"source_x\", ax=ax2)\n",
    "ax2.set(title='PvE',  ylabel='Количество зданий')\n",
    "ax2.get_legend().remove()\n",
    "ax2.set_xlim([0, 14000])\n",
    "# Заголовок \n",
    "fig.suptitle('Распределение по количеству зданий', fontsize=14, fontweight='bold'); "
   ]
  },
  {
   "cell_type": "markdown",
   "id": "5676f964",
   "metadata": {},
   "source": [
    "На каждого игрока  PvE в среднем приходится 13 зданий, в то время как в pvp - 9. \n",
    "\n",
    "При этом, так как игроков pvp намного больше, то и зданий у них больше."
   ]
  },
  {
   "cell_type": "markdown",
   "id": "fa8bde85",
   "metadata": {},
   "source": [
    "#### Анализ рекламных источников по времени прохождения уровня"
   ]
  },
  {
   "cell_type": "markdown",
   "id": "0a2451ff",
   "metadata": {},
   "source": [
    "Вычислим последнее действие каждого юзера, а затем посчитаем время прохождения уровня:"
   ]
  },
  {
   "cell_type": "code",
   "execution_count": 50,
   "id": "1df43aea",
   "metadata": {},
   "outputs": [
    {
     "data": {
      "text/plain": [
       "count    13576.000000\n",
       "mean        10.629862\n",
       "std          4.360623\n",
       "min          0.000000\n",
       "25%          8.000000\n",
       "50%         10.000000\n",
       "75%         13.000000\n",
       "max         31.000000\n",
       "Name: lifetime, dtype: float64"
      ]
     },
     "execution_count": 50,
     "metadata": {},
     "output_type": "execute_result"
    }
   ],
   "source": [
    "lf = users.sort_values(by=['user_id',\n",
    "                'event_datetime']).groupby('user_id').agg({'event_datetime':'last'}).rename(columns=\n",
    "                                                                {'event_datetime': 'last_ts'}).reset_index() \n",
    "lf['dt_last'] = lf['last_ts'].dt.date\n",
    "\n",
    "lifetime_all = profiles.merge(lf[['user_id', 'dt_last']], on='user_id', how='left')\n",
    "lifetime_all['lifetime'] = (lifetime_all['dt_last'] - lifetime_all['dt']).dt.days \n",
    "lifetime_all.head()\n",
    "lifetime_all['lifetime'].describe()\n"
   ]
  },
  {
   "cell_type": "code",
   "execution_count": 51,
   "id": "eed00d6e",
   "metadata": {},
   "outputs": [
    {
     "data": {
      "image/png": "[encoded data removed]",
      "text/plain": [
       "<Figure size 432x288 with 1 Axes>"
      ]
     },
     "metadata": {
      "needs_background": "light"
     },
     "output_type": "display_data"
    }
   ],
   "source": [
    "plt.hist(lifetime_all['lifetime'],color = '#b72b3d')\n",
    "plt.title('Время прохождения первого уровня')\n",
    "plt.xlabel('Дни')\n",
    "plt.ylabel('Количество пользователей')\n",
    "plt.grid()\n",
    "plt.show()"
   ]
  },
  {
   "cell_type": "code",
   "execution_count": 52,
   "id": "df0d11f7",
   "metadata": {},
   "outputs": [
    {
     "data": {
      "text/plain": [
       "array([18., 22.])"
      ]
     },
     "execution_count": 52,
     "metadata": {},
     "output_type": "execute_result"
    }
   ],
   "source": [
    "np.percentile(lifetime_all['lifetime'], [95, 99])"
   ]
  },
  {
   "cell_type": "code",
   "execution_count": 53,
   "id": "d82ebfb9",
   "metadata": {},
   "outputs": [
    {
     "data": {
      "text/html": [
       "<div>\n",
       "<style scoped>\n",
       "    .dataframe tbody tr th:only-of-type {\n",
       "        vertical-align: middle;\n",
       "    }\n",
       "\n",
       "    .dataframe tbody tr th {\n",
       "        vertical-align: top;\n",
       "    }\n",
       "\n",
       "    .dataframe thead th {\n",
       "        text-align: right;\n",
       "    }\n",
       "</style>\n",
       "<table border=\"1\" class=\"dataframe\">\n",
       "  <thead>\n",
       "    <tr style=\"text-align: right;\">\n",
       "      <th></th>\n",
       "      <th>lifetime</th>\n",
       "    </tr>\n",
       "  </thead>\n",
       "  <tbody>\n",
       "    <tr>\n",
       "      <th>count</th>\n",
       "      <td>13576.000000</td>\n",
       "    </tr>\n",
       "    <tr>\n",
       "      <th>mean</th>\n",
       "      <td>10.629862</td>\n",
       "    </tr>\n",
       "    <tr>\n",
       "      <th>std</th>\n",
       "      <td>4.360623</td>\n",
       "    </tr>\n",
       "    <tr>\n",
       "      <th>min</th>\n",
       "      <td>0.000000</td>\n",
       "    </tr>\n",
       "    <tr>\n",
       "      <th>25%</th>\n",
       "      <td>8.000000</td>\n",
       "    </tr>\n",
       "    <tr>\n",
       "      <th>50%</th>\n",
       "      <td>10.000000</td>\n",
       "    </tr>\n",
       "    <tr>\n",
       "      <th>75%</th>\n",
       "      <td>13.000000</td>\n",
       "    </tr>\n",
       "    <tr>\n",
       "      <th>max</th>\n",
       "      <td>31.000000</td>\n",
       "    </tr>\n",
       "  </tbody>\n",
       "</table>\n",
       "</div>"
      ],
      "text/plain": [
       "           lifetime\n",
       "count  13576.000000\n",
       "mean      10.629862\n",
       "std        4.360623\n",
       "min        0.000000\n",
       "25%        8.000000\n",
       "50%       10.000000\n",
       "75%       13.000000\n",
       "max       31.000000"
      ]
     },
     "execution_count": 53,
     "metadata": {},
     "output_type": "execute_result"
    }
   ],
   "source": [
    "lifetime_all.describe()  "
   ]
  },
  {
   "cell_type": "markdown",
   "id": "78fc1112",
   "metadata": {},
   "source": [
    "Мы видим, что есть юзеры, кто прошел игру и прошел ее в тот же день или отвалился, в среднем первый уровень проходят за 10 дней. Посмотрим времч прохождения уровня в разбивке по каналам и способу игры:"
   ]
  },
  {
   "cell_type": "code",
   "execution_count": 54,
   "id": "b95a4f8d",
   "metadata": {},
   "outputs": [
    {
     "data": {
      "image/png": "[encoded data removed]",
      "text/plain": [
       "<Figure size 432x288 with 1 Axes>"
      ]
     },
     "metadata": {
      "needs_background": "light"
     },
     "output_type": "display_data"
    }
   ],
   "source": [
    "lifetime_finish = lifetime_all.query('finish==True')\n",
    "lifetime_pvp = lifetime_finish.query('type_of_finish==\"PvP\"')\n",
    "plt.hist(lifetime_pvp['lifetime'],color = '#b72b3d')\n",
    "plt.title('Время прохождения первого уровня PvP')\n",
    "plt.ylim([0, 900])\n",
    "plt.xlabel('Дни')\n",
    "plt.ylabel('Количество пользователей')\n",
    "plt.grid()\n",
    "plt.show()"
   ]
  },
  {
   "cell_type": "code",
   "execution_count": 55,
   "id": "4ff30383",
   "metadata": {},
   "outputs": [
    {
     "data": {
      "image/png": "[encoded data removed]",
      "text/plain": [
       "<Figure size 432x288 with 1 Axes>"
      ]
     },
     "metadata": {
      "needs_background": "light"
     },
     "output_type": "display_data"
    }
   ],
   "source": [
    "lifetime_pve = lifetime_finish.query('type_of_finish==\"PvE\"')\n",
    "plt.hist(lifetime_pve['lifetime'],color = '#b72b3d')\n",
    "plt.title('Время прохождения первого уровня PvE')\n",
    "plt.xlabel('Дни')\n",
    "plt.ylabel('Количество пользователей')\n",
    "plt.ylim([0, 800])\n",
    "plt.grid()\n",
    "plt.show()"
   ]
  },
  {
   "cell_type": "code",
   "execution_count": 56,
   "id": "06fa7e7a",
   "metadata": {},
   "outputs": [
    {
     "data": {
      "text/html": [
       "<div>\n",
       "<style scoped>\n",
       "    .dataframe tbody tr th:only-of-type {\n",
       "        vertical-align: middle;\n",
       "    }\n",
       "\n",
       "    .dataframe tbody tr th {\n",
       "        vertical-align: top;\n",
       "    }\n",
       "\n",
       "    .dataframe thead th {\n",
       "        text-align: right;\n",
       "    }\n",
       "</style>\n",
       "<table border=\"1\" class=\"dataframe\">\n",
       "  <thead>\n",
       "    <tr style=\"text-align: right;\">\n",
       "      <th></th>\n",
       "      <th>type_of_finish</th>\n",
       "      <th>source</th>\n",
       "      <th>users</th>\n",
       "      <th>mean_lifitime</th>\n",
       "    </tr>\n",
       "  </thead>\n",
       "  <tbody>\n",
       "    <tr>\n",
       "      <th>0</th>\n",
       "      <td>PvE</td>\n",
       "      <td>facebook_ads</td>\n",
       "      <td>391</td>\n",
       "      <td>13.345269</td>\n",
       "    </tr>\n",
       "    <tr>\n",
       "      <th>1</th>\n",
       "      <td>PvE</td>\n",
       "      <td>instagram_new_adverts</td>\n",
       "      <td>476</td>\n",
       "      <td>13.468487</td>\n",
       "    </tr>\n",
       "    <tr>\n",
       "      <th>2</th>\n",
       "      <td>PvE</td>\n",
       "      <td>yandex_direct</td>\n",
       "      <td>620</td>\n",
       "      <td>13.319355</td>\n",
       "    </tr>\n",
       "    <tr>\n",
       "      <th>3</th>\n",
       "      <td>PvE</td>\n",
       "      <td>youtube_channel_reklama</td>\n",
       "      <td>379</td>\n",
       "      <td>13.485488</td>\n",
       "    </tr>\n",
       "    <tr>\n",
       "      <th>4</th>\n",
       "      <td>PvP</td>\n",
       "      <td>facebook_ads</td>\n",
       "      <td>759</td>\n",
       "      <td>10.996047</td>\n",
       "    </tr>\n",
       "    <tr>\n",
       "      <th>5</th>\n",
       "      <td>PvP</td>\n",
       "      <td>instagram_new_adverts</td>\n",
       "      <td>990</td>\n",
       "      <td>11.068687</td>\n",
       "    </tr>\n",
       "    <tr>\n",
       "      <th>6</th>\n",
       "      <td>PvP</td>\n",
       "      <td>yandex_direct</td>\n",
       "      <td>1422</td>\n",
       "      <td>11.075949</td>\n",
       "    </tr>\n",
       "    <tr>\n",
       "      <th>7</th>\n",
       "      <td>PvP</td>\n",
       "      <td>youtube_channel_reklama</td>\n",
       "      <td>780</td>\n",
       "      <td>11.074359</td>\n",
       "    </tr>\n",
       "  </tbody>\n",
       "</table>\n",
       "</div>"
      ],
      "text/plain": [
       "  type_of_finish                   source  users  mean_lifitime\n",
       "0            PvE             facebook_ads    391      13.345269\n",
       "1            PvE    instagram_new_adverts    476      13.468487\n",
       "2            PvE            yandex_direct    620      13.319355\n",
       "3            PvE  youtube_channel_reklama    379      13.485488\n",
       "4            PvP             facebook_ads    759      10.996047\n",
       "5            PvP    instagram_new_adverts    990      11.068687\n",
       "6            PvP            yandex_direct   1422      11.075949\n",
       "7            PvP  youtube_channel_reklama    780      11.074359"
      ]
     },
     "execution_count": 56,
     "metadata": {},
     "output_type": "execute_result"
    }
   ],
   "source": [
    "lifetime_finish.groupby(['type_of_finish','source']).agg(users = ('user_id','count'), \n",
    "                                                             mean_lifitime = ('lifetime', 'mean')).reset_index()\n"
   ]
  },
  {
   "cell_type": "markdown",
   "id": "fb885ee5",
   "metadata": {},
   "source": [
    "Распределение длительности прохождения уровня стремится к нормальному в обеих группах. \n",
    "В среднем игроки PvE проходят уровень дольше, чем игроки PvP вне зависимости от источника."
   ]
  },
  {
   "cell_type": "markdown",
   "id": "d3f76614",
   "metadata": {},
   "source": [
    "#### Ранжирование каналов привлечения"
   ]
  },
  {
   "cell_type": "markdown",
   "id": "e67c02bc",
   "metadata": {},
   "source": [
    "Создадим общий датафрейм с признаками по каналам."
   ]
  },
  {
   "cell_type": "code",
   "execution_count": 57,
   "id": "10fdd490",
   "metadata": {},
   "outputs": [
    {
     "data": {
      "text/html": [
       "<div>\n",
       "<style scoped>\n",
       "    .dataframe tbody tr th:only-of-type {\n",
       "        vertical-align: middle;\n",
       "    }\n",
       "\n",
       "    .dataframe tbody tr th {\n",
       "        vertical-align: top;\n",
       "    }\n",
       "\n",
       "    .dataframe thead th {\n",
       "        text-align: right;\n",
       "    }\n",
       "</style>\n",
       "<table border=\"1\" class=\"dataframe\">\n",
       "  <thead>\n",
       "    <tr style=\"text-align: right;\">\n",
       "      <th></th>\n",
       "      <th>source</th>\n",
       "      <th>new_users</th>\n",
       "    </tr>\n",
       "  </thead>\n",
       "  <tbody>\n",
       "    <tr>\n",
       "      <th>0</th>\n",
       "      <td>youtube_channel_reklama</td>\n",
       "      <td>2686</td>\n",
       "    </tr>\n",
       "    <tr>\n",
       "      <th>1</th>\n",
       "      <td>facebook_ads</td>\n",
       "      <td>2726</td>\n",
       "    </tr>\n",
       "    <tr>\n",
       "      <th>2</th>\n",
       "      <td>instagram_new_adverts</td>\n",
       "      <td>3347</td>\n",
       "    </tr>\n",
       "    <tr>\n",
       "      <th>3</th>\n",
       "      <td>yandex_direct</td>\n",
       "      <td>4817</td>\n",
       "    </tr>\n",
       "  </tbody>\n",
       "</table>\n",
       "</div>"
      ],
      "text/plain": [
       "                    source   new_users\n",
       "0  youtube_channel_reklama        2686\n",
       "1             facebook_ads        2726\n",
       "2    instagram_new_adverts        3347\n",
       "3            yandex_direct        4817"
      ]
     },
     "execution_count": 57,
     "metadata": {},
     "output_type": "execute_result"
    }
   ],
   "source": [
    "# кол-во новых пользователей\n",
    "sourse_fraction.rename(columns = {'unique_users':' new_users'}, inplace = True )\n",
    "new_users = sourse_fraction.drop(['fraction %'], axis=1)\n",
    "new_users"
   ]
  },
  {
   "cell_type": "code",
   "execution_count": 58,
   "id": "99f5ea1d",
   "metadata": {},
   "outputs": [
    {
     "data": {
      "text/html": [
       "<div>\n",
       "<style scoped>\n",
       "    .dataframe tbody tr th:only-of-type {\n",
       "        vertical-align: middle;\n",
       "    }\n",
       "\n",
       "    .dataframe tbody tr th {\n",
       "        vertical-align: top;\n",
       "    }\n",
       "\n",
       "    .dataframe thead th {\n",
       "        text-align: right;\n",
       "    }\n",
       "</style>\n",
       "<table border=\"1\" class=\"dataframe\">\n",
       "  <thead>\n",
       "    <tr style=\"text-align: right;\">\n",
       "      <th></th>\n",
       "      <th>source</th>\n",
       "      <th>fraction %</th>\n",
       "      <th>cost</th>\n",
       "      <th>c_mean</th>\n",
       "    </tr>\n",
       "  </thead>\n",
       "  <tbody>\n",
       "    <tr>\n",
       "      <th>0</th>\n",
       "      <td>facebook_ads</td>\n",
       "      <td>20.08</td>\n",
       "      <td>2140.904643</td>\n",
       "      <td>0.79</td>\n",
       "    </tr>\n",
       "    <tr>\n",
       "      <th>1</th>\n",
       "      <td>instagram_new_adverts</td>\n",
       "      <td>24.65</td>\n",
       "      <td>2161.441691</td>\n",
       "      <td>0.65</td>\n",
       "    </tr>\n",
       "    <tr>\n",
       "      <th>2</th>\n",
       "      <td>yandex_direct</td>\n",
       "      <td>35.48</td>\n",
       "      <td>2233.111449</td>\n",
       "      <td>0.46</td>\n",
       "    </tr>\n",
       "    <tr>\n",
       "      <th>3</th>\n",
       "      <td>youtube_channel_reklama</td>\n",
       "      <td>19.78</td>\n",
       "      <td>1068.119204</td>\n",
       "      <td>0.40</td>\n",
       "    </tr>\n",
       "  </tbody>\n",
       "</table>\n",
       "</div>"
      ],
      "text/plain": [
       "                    source  fraction %         cost  c_mean\n",
       "0             facebook_ads       20.08  2140.904643    0.79\n",
       "1    instagram_new_adverts       24.65  2161.441691    0.65\n",
       "2            yandex_direct       35.48  2233.111449    0.46\n",
       "3  youtube_channel_reklama       19.78  1068.119204    0.40"
      ]
     },
     "execution_count": 58,
     "metadata": {},
     "output_type": "execute_result"
    }
   ],
   "source": [
    "# расходы на привлечение\n",
    "new_cac = cac.drop(['unique_users'], axis=1)\n",
    "new_cac"
   ]
  },
  {
   "cell_type": "code",
   "execution_count": 59,
   "id": "9b652fd2",
   "metadata": {},
   "outputs": [
    {
     "data": {
      "text/html": [
       "<div>\n",
       "<style scoped>\n",
       "    .dataframe tbody tr th:only-of-type {\n",
       "        vertical-align: middle;\n",
       "    }\n",
       "\n",
       "    .dataframe tbody tr th {\n",
       "        vertical-align: top;\n",
       "    }\n",
       "\n",
       "    .dataframe thead th {\n",
       "        text-align: right;\n",
       "    }\n",
       "</style>\n",
       "<table border=\"1\" class=\"dataframe\">\n",
       "  <thead>\n",
       "    <tr style=\"text-align: right;\">\n",
       "      <th></th>\n",
       "      <th>source</th>\n",
       "      <th>mean_lifitime</th>\n",
       "    </tr>\n",
       "  </thead>\n",
       "  <tbody>\n",
       "    <tr>\n",
       "      <th>0</th>\n",
       "      <td>facebook_ads</td>\n",
       "      <td>11.794783</td>\n",
       "    </tr>\n",
       "    <tr>\n",
       "      <th>1</th>\n",
       "      <td>instagram_new_adverts</td>\n",
       "      <td>11.847885</td>\n",
       "    </tr>\n",
       "    <tr>\n",
       "      <th>2</th>\n",
       "      <td>yandex_direct</td>\n",
       "      <td>11.757101</td>\n",
       "    </tr>\n",
       "    <tr>\n",
       "      <th>3</th>\n",
       "      <td>youtube_channel_reklama</td>\n",
       "      <td>11.862813</td>\n",
       "    </tr>\n",
       "  </tbody>\n",
       "</table>\n",
       "</div>"
      ],
      "text/plain": [
       "                    source  mean_lifitime\n",
       "0             facebook_ads      11.794783\n",
       "1    instagram_new_adverts      11.847885\n",
       "2            yandex_direct      11.757101\n",
       "3  youtube_channel_reklama      11.862813"
      ]
     },
     "execution_count": 59,
     "metadata": {},
     "output_type": "execute_result"
    }
   ],
   "source": [
    "# средний лайфтайм\n",
    "lf_1 = lifetime_finish.groupby(['source']).agg(mean_lifitime = ('lifetime', 'mean')).reset_index()\n",
    "lf_1"
   ]
  },
  {
   "cell_type": "code",
   "execution_count": 60,
   "id": "81738481",
   "metadata": {},
   "outputs": [
    {
     "data": {
      "text/html": [
       "<div>\n",
       "<style scoped>\n",
       "    .dataframe tbody tr th:only-of-type {\n",
       "        vertical-align: middle;\n",
       "    }\n",
       "\n",
       "    .dataframe tbody tr th {\n",
       "        vertical-align: top;\n",
       "    }\n",
       "\n",
       "    .dataframe thead th {\n",
       "        text-align: right;\n",
       "    }\n",
       "</style>\n",
       "<table border=\"1\" class=\"dataframe\">\n",
       "  <thead>\n",
       "    <tr style=\"text-align: right;\">\n",
       "      <th></th>\n",
       "      <th>source</th>\n",
       "      <th>finish_users</th>\n",
       "      <th>all_users</th>\n",
       "      <th>cr</th>\n",
       "    </tr>\n",
       "  </thead>\n",
       "  <tbody>\n",
       "    <tr>\n",
       "      <th>0</th>\n",
       "      <td>facebook_ads</td>\n",
       "      <td>1150</td>\n",
       "      <td>2726</td>\n",
       "      <td>42.19</td>\n",
       "    </tr>\n",
       "    <tr>\n",
       "      <th>1</th>\n",
       "      <td>instagram_new_adverts</td>\n",
       "      <td>1466</td>\n",
       "      <td>3347</td>\n",
       "      <td>43.80</td>\n",
       "    </tr>\n",
       "    <tr>\n",
       "      <th>2</th>\n",
       "      <td>yandex_direct</td>\n",
       "      <td>2042</td>\n",
       "      <td>4817</td>\n",
       "      <td>42.39</td>\n",
       "    </tr>\n",
       "    <tr>\n",
       "      <th>3</th>\n",
       "      <td>youtube_channel_reklama</td>\n",
       "      <td>1159</td>\n",
       "      <td>2686</td>\n",
       "      <td>43.15</td>\n",
       "    </tr>\n",
       "  </tbody>\n",
       "</table>\n",
       "</div>"
      ],
      "text/plain": [
       "                    source  finish_users  all_users     cr\n",
       "0             facebook_ads          1150       2726  42.19\n",
       "1    instagram_new_adverts          1466       3347  43.80\n",
       "2            yandex_direct          2042       4817  42.39\n",
       "3  youtube_channel_reklama          1159       2686  43.15"
      ]
     },
     "execution_count": 60,
     "metadata": {},
     "output_type": "execute_result"
    }
   ],
   "source": [
    "# конверсия\n",
    "cr_new = cr.drop(['all_users'],axis=1)\n",
    "cr"
   ]
  },
  {
   "cell_type": "code",
   "execution_count": 61,
   "id": "3757954d",
   "metadata": {},
   "outputs": [
    {
     "data": {
      "text/html": [
       "<div>\n",
       "<style scoped>\n",
       "    .dataframe tbody tr th:only-of-type {\n",
       "        vertical-align: middle;\n",
       "    }\n",
       "\n",
       "    .dataframe tbody tr th {\n",
       "        vertical-align: top;\n",
       "    }\n",
       "\n",
       "    .dataframe thead th {\n",
       "        text-align: right;\n",
       "    }\n",
       "</style>\n",
       "<table border=\"1\" class=\"dataframe\">\n",
       "  <thead>\n",
       "    <tr style=\"text-align: right;\">\n",
       "      <th></th>\n",
       "      <th>source</th>\n",
       "      <th>building_count</th>\n",
       "      <th>mean_building_count</th>\n",
       "    </tr>\n",
       "  </thead>\n",
       "  <tbody>\n",
       "    <tr>\n",
       "      <th>0</th>\n",
       "      <td>yandex_direct</td>\n",
       "      <td>45032</td>\n",
       "      <td>9.35</td>\n",
       "    </tr>\n",
       "    <tr>\n",
       "      <th>1</th>\n",
       "      <td>instagram_new_adverts</td>\n",
       "      <td>31815</td>\n",
       "      <td>9.51</td>\n",
       "    </tr>\n",
       "    <tr>\n",
       "      <th>2</th>\n",
       "      <td>facebook_ads</td>\n",
       "      <td>26131</td>\n",
       "      <td>9.59</td>\n",
       "    </tr>\n",
       "    <tr>\n",
       "      <th>3</th>\n",
       "      <td>youtube_channel_reklama</td>\n",
       "      <td>24978</td>\n",
       "      <td>9.30</td>\n",
       "    </tr>\n",
       "  </tbody>\n",
       "</table>\n",
       "</div>"
      ],
      "text/plain": [
       "                    source  building_count  mean_building_count\n",
       "0            yandex_direct           45032                 9.35\n",
       "1    instagram_new_adverts           31815                 9.51\n",
       "2             facebook_ads           26131                 9.59\n",
       "3  youtube_channel_reklama           24978                 9.30"
      ]
     },
     "execution_count": 61,
     "metadata": {},
     "output_type": "execute_result"
    }
   ],
   "source": [
    "# кол-во построенных объектов\n",
    "building_count.rename(columns = {'mean':'mean_building_count'}, inplace = True )\n",
    "buildings = building_count.drop(['unique_users'],axis=1)\n",
    "buildings"
   ]
  },
  {
   "cell_type": "code",
   "execution_count": 62,
   "id": "6c6b21e4",
   "metadata": {},
   "outputs": [
    {
     "data": {
      "text/html": [
       "<div>\n",
       "<style scoped>\n",
       "    .dataframe tbody tr th:only-of-type {\n",
       "        vertical-align: middle;\n",
       "    }\n",
       "\n",
       "    .dataframe tbody tr th {\n",
       "        vertical-align: top;\n",
       "    }\n",
       "\n",
       "    .dataframe thead th {\n",
       "        text-align: right;\n",
       "    }\n",
       "</style>\n",
       "<table border=\"1\" class=\"dataframe\">\n",
       "  <thead>\n",
       "    <tr style=\"text-align: right;\">\n",
       "      <th></th>\n",
       "      <th>source</th>\n",
       "      <th>new_users</th>\n",
       "      <th>fraction %</th>\n",
       "      <th>cost</th>\n",
       "      <th>c_mean</th>\n",
       "      <th>mean_lifitime</th>\n",
       "      <th>finish_users</th>\n",
       "      <th>all_users</th>\n",
       "      <th>cr</th>\n",
       "      <th>building_count</th>\n",
       "      <th>mean_building_count</th>\n",
       "    </tr>\n",
       "  </thead>\n",
       "  <tbody>\n",
       "    <tr>\n",
       "      <th>0</th>\n",
       "      <td>youtube_channel_reklama</td>\n",
       "      <td>2686</td>\n",
       "      <td>19.78</td>\n",
       "      <td>1068.119204</td>\n",
       "      <td>0.40</td>\n",
       "      <td>11.862813</td>\n",
       "      <td>1159</td>\n",
       "      <td>2686</td>\n",
       "      <td>43.15</td>\n",
       "      <td>24978</td>\n",
       "      <td>9.30</td>\n",
       "    </tr>\n",
       "    <tr>\n",
       "      <th>1</th>\n",
       "      <td>facebook_ads</td>\n",
       "      <td>2726</td>\n",
       "      <td>20.08</td>\n",
       "      <td>2140.904643</td>\n",
       "      <td>0.79</td>\n",
       "      <td>11.794783</td>\n",
       "      <td>1150</td>\n",
       "      <td>2726</td>\n",
       "      <td>42.19</td>\n",
       "      <td>26131</td>\n",
       "      <td>9.59</td>\n",
       "    </tr>\n",
       "    <tr>\n",
       "      <th>2</th>\n",
       "      <td>instagram_new_adverts</td>\n",
       "      <td>3347</td>\n",
       "      <td>24.65</td>\n",
       "      <td>2161.441691</td>\n",
       "      <td>0.65</td>\n",
       "      <td>11.847885</td>\n",
       "      <td>1466</td>\n",
       "      <td>3347</td>\n",
       "      <td>43.80</td>\n",
       "      <td>31815</td>\n",
       "      <td>9.51</td>\n",
       "    </tr>\n",
       "    <tr>\n",
       "      <th>3</th>\n",
       "      <td>yandex_direct</td>\n",
       "      <td>4817</td>\n",
       "      <td>35.48</td>\n",
       "      <td>2233.111449</td>\n",
       "      <td>0.46</td>\n",
       "      <td>11.757101</td>\n",
       "      <td>2042</td>\n",
       "      <td>4817</td>\n",
       "      <td>42.39</td>\n",
       "      <td>45032</td>\n",
       "      <td>9.35</td>\n",
       "    </tr>\n",
       "  </tbody>\n",
       "</table>\n",
       "</div>"
      ],
      "text/plain": [
       "                    source   new_users  fraction %         cost  c_mean  \\\n",
       "0  youtube_channel_reklama        2686       19.78  1068.119204    0.40   \n",
       "1             facebook_ads        2726       20.08  2140.904643    0.79   \n",
       "2    instagram_new_adverts        3347       24.65  2161.441691    0.65   \n",
       "3            yandex_direct        4817       35.48  2233.111449    0.46   \n",
       "\n",
       "   mean_lifitime  finish_users  all_users     cr  building_count  \\\n",
       "0      11.862813          1159       2686  43.15           24978   \n",
       "1      11.794783          1150       2726  42.19           26131   \n",
       "2      11.847885          1466       3347  43.80           31815   \n",
       "3      11.757101          2042       4817  42.39           45032   \n",
       "\n",
       "   mean_building_count  \n",
       "0                 9.30  \n",
       "1                 9.59  \n",
       "2                 9.51  \n",
       "3                 9.35  "
      ]
     },
     "execution_count": 62,
     "metadata": {},
     "output_type": "execute_result"
    }
   ],
   "source": [
    "df = new_users.merge(new_cac,on ='source').merge(lf_1, on='source').merge(cr, on='source').merge(buildings, on='source')\n",
    "df"
   ]
  },
  {
   "cell_type": "code",
   "execution_count": 63,
   "id": "ac2e2902",
   "metadata": {
    "scrolled": true
   },
   "outputs": [
    {
     "data": {
      "text/html": [
       "<style type=\"text/css\">\n",
       "#T_e53d3_row0_col1, #T_e53d3_row0_col2, #T_e53d3_row0_col3, #T_e53d3_row0_col4, #T_e53d3_row0_col7, #T_e53d3_row0_col9, #T_e53d3_row0_col10, #T_e53d3_row1_col6, #T_e53d3_row1_col8, #T_e53d3_row3_col5 {\n",
       "  background-color: #ebf3eb;\n",
       "  color: #000000;\n",
       "}\n",
       "#T_e53d3_row0_col5, #T_e53d3_row1_col4, #T_e53d3_row1_col10, #T_e53d3_row2_col8, #T_e53d3_row3_col1, #T_e53d3_row3_col2, #T_e53d3_row3_col3, #T_e53d3_row3_col6, #T_e53d3_row3_col7, #T_e53d3_row3_col9 {\n",
       "  background-color: #008000;\n",
       "  color: #f1f1f1;\n",
       "}\n",
       "#T_e53d3_row0_col6 {\n",
       "  background-color: #e9f2e9;\n",
       "  color: #000000;\n",
       "}\n",
       "#T_e53d3_row0_col8 {\n",
       "  background-color: #5fae5f;\n",
       "  color: #f1f1f1;\n",
       "}\n",
       "#T_e53d3_row1_col1, #T_e53d3_row1_col2, #T_e53d3_row1_col7 {\n",
       "  background-color: #e7f1e7;\n",
       "  color: #000000;\n",
       "}\n",
       "#T_e53d3_row1_col3 {\n",
       "  background-color: #128912;\n",
       "  color: #f1f1f1;\n",
       "}\n",
       "#T_e53d3_row1_col5 {\n",
       "  background-color: #97ca97;\n",
       "  color: #000000;\n",
       "}\n",
       "#T_e53d3_row1_col9 {\n",
       "  background-color: #deedde;\n",
       "  color: #000000;\n",
       "}\n",
       "#T_e53d3_row2_col1, #T_e53d3_row2_col2, #T_e53d3_row2_col7 {\n",
       "  background-color: #a2cfa2;\n",
       "  color: #000000;\n",
       "}\n",
       "#T_e53d3_row2_col3 {\n",
       "  background-color: #0e870e;\n",
       "  color: #f1f1f1;\n",
       "}\n",
       "#T_e53d3_row2_col4 {\n",
       "  background-color: #54a954;\n",
       "  color: #f1f1f1;\n",
       "}\n",
       "#T_e53d3_row2_col5 {\n",
       "  background-color: #219021;\n",
       "  color: #f1f1f1;\n",
       "}\n",
       "#T_e53d3_row2_col6 {\n",
       "  background-color: #98ca98;\n",
       "  color: #000000;\n",
       "}\n",
       "#T_e53d3_row2_col9 {\n",
       "  background-color: #9bcc9b;\n",
       "  color: #000000;\n",
       "}\n",
       "#T_e53d3_row2_col10 {\n",
       "  background-color: #40a040;\n",
       "  color: #f1f1f1;\n",
       "}\n",
       "#T_e53d3_row3_col4 {\n",
       "  background-color: #c7e1c7;\n",
       "  color: #000000;\n",
       "}\n",
       "#T_e53d3_row3_col8 {\n",
       "  background-color: #cee5ce;\n",
       "  color: #000000;\n",
       "}\n",
       "#T_e53d3_row3_col10 {\n",
       "  background-color: #c2dfc2;\n",
       "  color: #000000;\n",
       "}\n",
       "</style>\n",
       "<table id=\"T_e53d3_\">\n",
       "  <thead>\n",
       "    <tr>\n",
       "      <th class=\"blank level0\" >&nbsp;</th>\n",
       "      <th class=\"col_heading level0 col0\" >source</th>\n",
       "      <th class=\"col_heading level0 col1\" > new_users</th>\n",
       "      <th class=\"col_heading level0 col2\" >fraction %</th>\n",
       "      <th class=\"col_heading level0 col3\" >cost</th>\n",
       "      <th class=\"col_heading level0 col4\" >c_mean</th>\n",
       "      <th class=\"col_heading level0 col5\" >mean_lifitime</th>\n",
       "      <th class=\"col_heading level0 col6\" >finish_users</th>\n",
       "      <th class=\"col_heading level0 col7\" >all_users</th>\n",
       "      <th class=\"col_heading level0 col8\" >cr</th>\n",
       "      <th class=\"col_heading level0 col9\" >building_count</th>\n",
       "      <th class=\"col_heading level0 col10\" >mean_building_count</th>\n",
       "    </tr>\n",
       "  </thead>\n",
       "  <tbody>\n",
       "    <tr>\n",
       "      <th id=\"T_e53d3_level0_row0\" class=\"row_heading level0 row0\" >0</th>\n",
       "      <td id=\"T_e53d3_row0_col0\" class=\"data row0 col0\" >youtube_channel_reklama</td>\n",
       "      <td id=\"T_e53d3_row0_col1\" class=\"data row0 col1\" >2686</td>\n",
       "      <td id=\"T_e53d3_row0_col2\" class=\"data row0 col2\" >19.780000</td>\n",
       "      <td id=\"T_e53d3_row0_col3\" class=\"data row0 col3\" >1068.119204</td>\n",
       "      <td id=\"T_e53d3_row0_col4\" class=\"data row0 col4\" >0.400000</td>\n",
       "      <td id=\"T_e53d3_row0_col5\" class=\"data row0 col5\" >11.862813</td>\n",
       "      <td id=\"T_e53d3_row0_col6\" class=\"data row0 col6\" >1159</td>\n",
       "      <td id=\"T_e53d3_row0_col7\" class=\"data row0 col7\" >2686</td>\n",
       "      <td id=\"T_e53d3_row0_col8\" class=\"data row0 col8\" >43.150000</td>\n",
       "      <td id=\"T_e53d3_row0_col9\" class=\"data row0 col9\" >24978</td>\n",
       "      <td id=\"T_e53d3_row0_col10\" class=\"data row0 col10\" >9.300000</td>\n",
       "    </tr>\n",
       "    <tr>\n",
       "      <th id=\"T_e53d3_level0_row1\" class=\"row_heading level0 row1\" >1</th>\n",
       "      <td id=\"T_e53d3_row1_col0\" class=\"data row1 col0\" >facebook_ads</td>\n",
       "      <td id=\"T_e53d3_row1_col1\" class=\"data row1 col1\" >2726</td>\n",
       "      <td id=\"T_e53d3_row1_col2\" class=\"data row1 col2\" >20.080000</td>\n",
       "      <td id=\"T_e53d3_row1_col3\" class=\"data row1 col3\" >2140.904643</td>\n",
       "      <td id=\"T_e53d3_row1_col4\" class=\"data row1 col4\" >0.790000</td>\n",
       "      <td id=\"T_e53d3_row1_col5\" class=\"data row1 col5\" >11.794783</td>\n",
       "      <td id=\"T_e53d3_row1_col6\" class=\"data row1 col6\" >1150</td>\n",
       "      <td id=\"T_e53d3_row1_col7\" class=\"data row1 col7\" >2726</td>\n",
       "      <td id=\"T_e53d3_row1_col8\" class=\"data row1 col8\" >42.190000</td>\n",
       "      <td id=\"T_e53d3_row1_col9\" class=\"data row1 col9\" >26131</td>\n",
       "      <td id=\"T_e53d3_row1_col10\" class=\"data row1 col10\" >9.590000</td>\n",
       "    </tr>\n",
       "    <tr>\n",
       "      <th id=\"T_e53d3_level0_row2\" class=\"row_heading level0 row2\" >2</th>\n",
       "      <td id=\"T_e53d3_row2_col0\" class=\"data row2 col0\" >instagram_new_adverts</td>\n",
       "      <td id=\"T_e53d3_row2_col1\" class=\"data row2 col1\" >3347</td>\n",
       "      <td id=\"T_e53d3_row2_col2\" class=\"data row2 col2\" >24.650000</td>\n",
       "      <td id=\"T_e53d3_row2_col3\" class=\"data row2 col3\" >2161.441691</td>\n",
       "      <td id=\"T_e53d3_row2_col4\" class=\"data row2 col4\" >0.650000</td>\n",
       "      <td id=\"T_e53d3_row2_col5\" class=\"data row2 col5\" >11.847885</td>\n",
       "      <td id=\"T_e53d3_row2_col6\" class=\"data row2 col6\" >1466</td>\n",
       "      <td id=\"T_e53d3_row2_col7\" class=\"data row2 col7\" >3347</td>\n",
       "      <td id=\"T_e53d3_row2_col8\" class=\"data row2 col8\" >43.800000</td>\n",
       "      <td id=\"T_e53d3_row2_col9\" class=\"data row2 col9\" >31815</td>\n",
       "      <td id=\"T_e53d3_row2_col10\" class=\"data row2 col10\" >9.510000</td>\n",
       "    </tr>\n",
       "    <tr>\n",
       "      <th id=\"T_e53d3_level0_row3\" class=\"row_heading level0 row3\" >3</th>\n",
       "      <td id=\"T_e53d3_row3_col0\" class=\"data row3 col0\" >yandex_direct</td>\n",
       "      <td id=\"T_e53d3_row3_col1\" class=\"data row3 col1\" >4817</td>\n",
       "      <td id=\"T_e53d3_row3_col2\" class=\"data row3 col2\" >35.480000</td>\n",
       "      <td id=\"T_e53d3_row3_col3\" class=\"data row3 col3\" >2233.111449</td>\n",
       "      <td id=\"T_e53d3_row3_col4\" class=\"data row3 col4\" >0.460000</td>\n",
       "      <td id=\"T_e53d3_row3_col5\" class=\"data row3 col5\" >11.757101</td>\n",
       "      <td id=\"T_e53d3_row3_col6\" class=\"data row3 col6\" >2042</td>\n",
       "      <td id=\"T_e53d3_row3_col7\" class=\"data row3 col7\" >4817</td>\n",
       "      <td id=\"T_e53d3_row3_col8\" class=\"data row3 col8\" >42.390000</td>\n",
       "      <td id=\"T_e53d3_row3_col9\" class=\"data row3 col9\" >45032</td>\n",
       "      <td id=\"T_e53d3_row3_col10\" class=\"data row3 col10\" >9.350000</td>\n",
       "    </tr>\n",
       "  </tbody>\n",
       "</table>\n"
      ],
      "text/plain": [
       "<pandas.io.formats.style.Styler at 0x169b80e7850>"
      ]
     },
     "execution_count": 63,
     "metadata": {},
     "output_type": "execute_result"
    }
   ],
   "source": [
    "cm = sns.light_palette(\"green\", as_cmap=True)\n",
    "\n",
    "df.style.background_gradient(cmap=cm)  "
   ]
  },
  {
   "cell_type": "markdown",
   "id": "1ef06ba5",
   "metadata": {},
   "source": [
    "**Вывод** \n",
    "\n",
    "* Новые юзеры: лидер Яндекс и инстаграм, аутсайдер - ютуб\n",
    "\n",
    "* Средняя стоимость игрока: самая дешевая- у яндекс и ютуб, самая дорогая - у фейсбука и инстаграма\n",
    "\n",
    "* Время прохождения уровня у всех примерно одинаково\n",
    "\n",
    "* Конверсия - лучшая инстаграма и ютуба, худшая у фейсбука.\n",
    "\n",
    "* Количество зданий больше всех у яндекса и инстаграма(много игроков), хотя по средним показателям у яндекса и ютуба - на 1 меньше, чем у остальных\n",
    "\n",
    "Нет смысла вкладываться много в дорогой фейсбук с плохой конверсией - у ютуба в два раза дешевле стоимость привлечения и высокая конверсия. Ранжирование каналов по важности:\n",
    "\n",
    "* 1.яндекс\n",
    "\n",
    "* 2.инстаграм \n",
    "\n",
    "* 3.ютуб\n",
    "\n",
    "* 4.фейсбук"
   ]
  },
  {
   "cell_type": "markdown",
   "id": "672e4282",
   "metadata": {},
   "source": [
    "### Шаг 4. Проверка статистических гипотез\n",
    "\n",
    "#### 4.2. Проверка гипотезы 1: Время завершения уровня различается в зависимости от способа прохождения:\n",
    "   \n",
    "##### - через реализацию проекта,\n",
    "##### - через победу над первым игроком."
   ]
  },
  {
   "cell_type": "markdown",
   "id": "4daeabc5",
   "metadata": {},
   "source": [
    "Для проверки гипотезы мы можем использовать t-критерий Стьюдента:\n",
    "\n",
    "H0: различие в средней длительности прохождения уровня в обеих группах статистически незначима\n",
    "\n",
    "H1: различие в средней длительности прохождения уровня в группах PvP и PvE статистически значимо"
   ]
  },
  {
   "cell_type": "code",
   "execution_count": 64,
   "id": "1e201450",
   "metadata": {},
   "outputs": [
    {
     "name": "stdout",
     "output_type": "stream",
     "text": [
      "p-value: 4.363370007994992e-96\n",
      "Отвергаем нулевую гипотезу\n",
      "\n",
      "Среднее время прохождения уровня у игроков PvP:  11.0584662110858\n",
      "Среднее время прохождения уровня у игроков PvE:  13.396570203644158\n"
     ]
    }
   ],
   "source": [
    "alpha = 0.01\n",
    "pvalue = stats.ttest_ind(lifetime_pve['lifetime'], lifetime_pvp['lifetime']).pvalue\n",
    "\n",
    "print('p-value: {}'.format(pvalue))\n",
    "if pvalue >= alpha: \n",
    "    print(\"Не получилось отвергнуть нулевую гипотезу\")\n",
    "else:\n",
    "    print(\"Отвергаем нулевую гипотезу\")\n",
    "print()\n",
    "print('Среднее время прохождения уровня у игроков PvP: ', lifetime_pvp['lifetime'].mean()) \n",
    "print('Среднее время прохождения уровня у игроков PvE: ', lifetime_pve['lifetime'].mean()) "
   ]
  },
  {
   "cell_type": "markdown",
   "id": "3f1fe084",
   "metadata": {},
   "source": [
    "Различие в средней длительности прохождения уровня в группах PvP и PvE статистически значимо."
   ]
  },
  {
   "cell_type": "markdown",
   "id": "5a3365f1",
   "metadata": {},
   "source": [
    "####  Проверка гипотезы 2: Количество построенных объектов различается в зависимости от способа прохождения:\n",
    "   \n",
    "##### - через реализацию проекта,\n",
    "##### - через победу над первым игроком."
   ]
  },
  {
   "cell_type": "markdown",
   "id": "608478e9",
   "metadata": {},
   "source": [
    "Для проверки гипотезы мы будем использовать t-критерий Стьюдента с параметром equal_var (так как имеем не нормальное распределениe).\n",
    "\n",
    "H0: различие в среднем количестве построенных объектов в обеих группах статистически незначимо\n",
    "\n",
    "H1: различие в среднем количестве построенных объектов в обеих группах статистически значимо"
   ]
  },
  {
   "cell_type": "code",
   "execution_count": 65,
   "id": "664645cf",
   "metadata": {},
   "outputs": [
    {
     "name": "stdout",
     "output_type": "stream",
     "text": [
      "p-value: 1.0\n",
      "Не получилось отвергнуть нулевую гипотезу\n",
      "\n",
      "Среднее количество зданий на игрока PvP:  9.411541381928625\n",
      "Среднее количество зданий на игрока PvE:  12.64790996784566\n"
     ]
    }
   ],
   "source": [
    "alpha = 0.01\n",
    "pvalue = stats.ttest_ind(b1['building_count'], b1['building_count'], equal_var = False).pvalue\n",
    "\n",
    "print('p-value: {}'.format(pvalue))\n",
    "if pvalue >= alpha: \n",
    "    print(\"Не получилось отвергнуть нулевую гипотезу\")\n",
    "else:\n",
    "    print(\"Отвергаем нулевую гипотезу\")\n",
    "print()\n",
    "print('Среднее количество зданий на игрока PvP: ', b1['building_count'].mean()) \n",
    "print('Среднее количество зданий на игрока PvE: ', b2['building_count'].mean()) "
   ]
  },
  {
   "cell_type": "markdown",
   "id": "3e266387",
   "metadata": {},
   "source": [
    "Различие в среднем количестве построенных объектов в обеих группах статистически незначимо"
   ]
  },
  {
   "cell_type": "markdown",
   "id": "5f36538b",
   "metadata": {},
   "source": [
    "### Шаг 5.  Выводы и рекомендации"
   ]
  },
  {
   "cell_type": "markdown",
   "id": "c7ef295c",
   "metadata": {},
   "source": [
    "Мы изучили данные, проверили их на пропуски и аномалии. И выявили следующее:\n",
    "\n",
    "Игроков, завершивших уровень всего: 5817\n",
    "\n",
    "Количество игроков, победивших через реализацию проекта: 1866 (32%)\n",
    "\n",
    "Количество игроков, победивших через победу над другим игроком: 3951 (68%)\n",
    "\n",
    "Игроки PvP и PvE распределены примерно в равнозначных долях по источникам\n",
    "\n",
    "* Активность в игре\n",
    "\n",
    "Ежедневно в среднем:\n",
    "\n",
    "* в игру приходило 2885 игроков\n",
    "* совершалось 4110 событий\n",
    "* один игрок совершал 1 событие\n",
    "\n",
    "У рекламных источников одинаковые периоды пиков и спадов и разница между количеством новых пользователей на протяжении всего времени держится примерно на одном уровне (никаких всплесков и падений не наблюдается).\n",
    "\n",
    "* Конверсия по каналам:\n",
    "\n",
    "* Инстаграм - 43.8%\n",
    "\n",
    "* Ютуб 43.15%\n",
    "\n",
    "* Яндекс (42.39)\n",
    "\n",
    "* ФБ 42.19%\n",
    "\n",
    "Если смотреть в разбивке по способу игры, увидим другую картину:\n",
    "\n",
    "* Конверсия у игроков PvP намного выше, чем у игроков PvE (28.9% против 13.8%)\n",
    "\n",
    "* В PvP лидер инстаграм, аутсайдер - ФБ.\n",
    "\n",
    "* В PvE лидер - фейсбук, аутсайдер - Яндекс.\n",
    "\n",
    "\n",
    "* Новые юзеры: лидер Яндекс и инстаграм, аутсайдер - ютуб\n",
    "\n",
    "* Средняя стоимость игрока: самая дешевая- у яндекс и ютуб, самая дорогая - у фейсбука и инстаграма\n",
    "\n",
    "* Время прохождения уровня у всех примерно одинаково\n",
    "\n",
    "\n",
    "Основная монетизация игры — только планируется. Но предполагается, что в приложении будет происходить показ рекламы на экране с выбором типа объекта для постройки. Потому - важно-сколько зданий строят объекты  \n",
    "\n",
    "* Количество зданий больше всех у яндекса и инстаграма(много игроков)\n",
    "* Средние показатели: у инстаграма и фейсбука больше, чем у ютуда и яндекса.\n",
    "\n",
    "\n",
    "Мы проверили следующие гипотезы:\n",
    "Время завершения уровня различается в зависимости от способа прохождения:\n",
    "- через реализацию проекта,\n",
    "- через победу над первым игроком.\n",
    "По результатам теста выявили статистическую значимость различий. Игроки PvP проходят уровень быстрее.\n",
    "\n",
    "2: Количество построенных объектов различается в зависимости от способа прохождения:\n",
    "- через реализацию проекта,\n",
    "- через победу над первым игроком.\n",
    "По результатам теста не выявили статистическую значимость различий между количеством зданий у игроков PvP и PvE/\n",
    "\n",
    "\n",
    "Нет смысла вкладываться много в дорогой фейсбук с плохой конверсией - у ютуба в два раза дешевле стоимость привлечения, но схожие с фб показатели конверсии и кол-ва зданий. Стоит продолжать развивать яндекс, инстаграм и ютуб."
   ]
  }
 ],
 "metadata": {
  "ExecuteTimeLog": [
   {
    "duration": 1230,
    "start_time": "2022-10-22T19:30:59.838Z"
   },
   {
    "duration": 493,
    "start_time": "2022-10-22T19:31:01.069Z"
   },
   {
    "duration": 344,
    "start_time": "2022-10-22T19:31:08.472Z"
   },
   {
    "duration": 384,
    "start_time": "2022-10-22T19:31:10.105Z"
   },
   {
    "duration": 1102,
    "start_time": "2022-10-22T19:31:35.407Z"
   },
   {
    "duration": 352,
    "start_time": "2022-10-22T19:31:36.511Z"
   },
   {
    "duration": 18,
    "start_time": "2022-10-22T19:31:36.864Z"
   },
   {
    "duration": 27,
    "start_time": "2022-10-22T19:31:36.884Z"
   },
   {
    "duration": 55,
    "start_time": "2022-10-22T19:31:36.914Z"
   },
   {
    "duration": 12,
    "start_time": "2022-10-22T19:31:36.970Z"
   },
   {
    "duration": 28,
    "start_time": "2022-10-22T19:31:36.984Z"
   },
   {
    "duration": 12,
    "start_time": "2022-10-22T19:31:37.013Z"
   },
   {
    "duration": 7,
    "start_time": "2022-10-22T19:31:37.026Z"
   },
   {
    "duration": 15,
    "start_time": "2022-10-22T19:31:37.034Z"
   },
   {
    "duration": 28,
    "start_time": "2022-10-22T19:31:37.050Z"
   },
   {
    "duration": 107,
    "start_time": "2022-10-22T19:31:37.080Z"
   },
   {
    "duration": 48,
    "start_time": "2022-10-22T19:31:37.189Z"
   },
   {
    "duration": 538,
    "start_time": "2022-10-22T19:31:37.239Z"
   },
   {
    "duration": 119,
    "start_time": "2022-10-22T19:31:37.778Z"
   },
   {
    "duration": 15,
    "start_time": "2022-10-22T19:31:37.905Z"
   },
   {
    "duration": 103,
    "start_time": "2022-10-22T19:31:37.922Z"
   },
   {
    "duration": 14,
    "start_time": "2022-10-22T19:31:38.027Z"
   },
   {
    "duration": 8,
    "start_time": "2022-10-22T19:31:38.043Z"
   },
   {
    "duration": 80,
    "start_time": "2022-10-22T19:31:38.053Z"
   },
   {
    "duration": 45,
    "start_time": "2022-10-22T19:31:38.135Z"
   },
   {
    "duration": 60,
    "start_time": "2022-10-22T19:31:38.181Z"
   },
   {
    "duration": 158,
    "start_time": "2022-10-22T19:31:38.242Z"
   },
   {
    "duration": 374,
    "start_time": "2022-10-22T19:31:38.401Z"
   },
   {
    "duration": 10,
    "start_time": "2022-10-22T19:31:38.777Z"
   },
   {
    "duration": 187,
    "start_time": "2022-10-22T19:31:38.789Z"
   },
   {
    "duration": 306,
    "start_time": "2022-10-22T19:31:38.978Z"
   },
   {
    "duration": 21,
    "start_time": "2022-10-22T19:31:39.286Z"
   },
   {
    "duration": 164,
    "start_time": "2022-10-22T19:31:39.309Z"
   },
   {
    "duration": 37,
    "start_time": "2022-10-22T19:31:39.475Z"
   },
   {
    "duration": 9,
    "start_time": "2022-10-22T19:31:39.513Z"
   },
   {
    "duration": 139,
    "start_time": "2022-10-22T19:31:39.524Z"
   },
   {
    "duration": 146,
    "start_time": "2022-10-22T19:31:39.664Z"
   },
   {
    "duration": 15,
    "start_time": "2022-10-22T19:31:39.812Z"
   },
   {
    "duration": 7,
    "start_time": "2022-10-22T19:31:39.829Z"
   },
   {
    "duration": 21,
    "start_time": "2022-10-22T19:31:39.838Z"
   },
   {
    "duration": 190,
    "start_time": "2022-10-22T19:31:39.860Z"
   },
   {
    "duration": 36,
    "start_time": "2022-10-22T19:31:40.052Z"
   },
   {
    "duration": 38,
    "start_time": "2022-10-22T19:31:40.090Z"
   },
   {
    "duration": 186,
    "start_time": "2022-10-22T19:31:40.129Z"
   },
   {
    "duration": 5,
    "start_time": "2022-10-22T19:31:40.319Z"
   },
   {
    "duration": 9,
    "start_time": "2022-10-22T19:31:40.325Z"
   },
   {
    "duration": 43,
    "start_time": "2022-10-22T19:31:40.335Z"
   },
   {
    "duration": 53,
    "start_time": "2022-10-22T19:31:40.380Z"
   },
   {
    "duration": 45,
    "start_time": "2022-10-22T19:31:40.434Z"
   },
   {
    "duration": 159,
    "start_time": "2022-10-22T19:31:40.480Z"
   },
   {
    "duration": 104,
    "start_time": "2022-10-22T19:31:40.640Z"
   },
   {
    "duration": 5,
    "start_time": "2022-10-22T19:31:40.745Z"
   },
   {
    "duration": 9,
    "start_time": "2022-10-22T19:31:40.751Z"
   },
   {
    "duration": 155,
    "start_time": "2022-10-22T19:31:40.761Z"
   },
   {
    "duration": 98,
    "start_time": "2022-10-22T19:31:40.918Z"
   },
   {
    "duration": 5,
    "start_time": "2022-10-22T19:31:41.018Z"
   },
   {
    "duration": 7,
    "start_time": "2022-10-22T19:31:41.024Z"
   },
   {
    "duration": 240,
    "start_time": "2022-10-22T19:31:41.032Z"
   },
   {
    "duration": 161,
    "start_time": "2022-10-22T19:31:41.274Z"
   },
   {
    "duration": 230,
    "start_time": "2022-10-22T19:31:41.437Z"
   },
   {
    "duration": 116,
    "start_time": "2022-10-22T19:31:41.669Z"
   },
   {
    "duration": 5,
    "start_time": "2022-10-22T19:31:41.787Z"
   },
   {
    "duration": 30,
    "start_time": "2022-10-22T19:31:41.793Z"
   },
   {
    "duration": 149,
    "start_time": "2022-10-22T19:31:41.825Z"
   },
   {
    "duration": 143,
    "start_time": "2022-10-22T19:31:41.976Z"
   },
   {
    "duration": 102,
    "start_time": "2022-10-22T19:31:42.120Z"
   },
   {
    "duration": 4,
    "start_time": "2022-10-22T19:31:42.223Z"
   },
   {
    "duration": 117,
    "start_time": "2022-10-22T19:31:42.229Z"
   },
   {
    "duration": 4,
    "start_time": "2022-10-22T19:31:42.347Z"
   },
   {
    "duration": 21,
    "start_time": "2022-10-22T19:31:42.352Z"
   },
   {
    "duration": 7,
    "start_time": "2022-10-22T19:31:42.374Z"
   },
   {
    "duration": 24,
    "start_time": "2022-10-22T19:31:42.382Z"
   },
   {
    "duration": 13,
    "start_time": "2022-10-22T19:31:42.408Z"
   },
   {
    "duration": 7,
    "start_time": "2022-10-22T19:31:42.422Z"
   },
   {
    "duration": 9,
    "start_time": "2022-10-22T19:31:42.431Z"
   },
   {
    "duration": 24,
    "start_time": "2022-10-22T19:31:42.441Z"
   },
   {
    "duration": 74,
    "start_time": "2022-10-22T19:31:42.467Z"
   },
   {
    "duration": 6,
    "start_time": "2022-10-22T19:31:42.543Z"
   },
   {
    "duration": 8,
    "start_time": "2022-10-22T19:31:42.550Z"
   },
   {
    "duration": 50,
    "start_time": "2022-10-23T05:39:48.711Z"
   },
   {
    "duration": 1294,
    "start_time": "2022-10-23T05:42:03.958Z"
   },
   {
    "duration": 124,
    "start_time": "2022-10-23T05:42:05.254Z"
   },
   {
    "duration": 0,
    "start_time": "2022-10-23T05:42:05.381Z"
   },
   {
    "duration": 0,
    "start_time": "2022-10-23T05:42:05.382Z"
   },
   {
    "duration": 0,
    "start_time": "2022-10-23T05:42:05.383Z"
   },
   {
    "duration": 0,
    "start_time": "2022-10-23T05:42:05.384Z"
   },
   {
    "duration": 0,
    "start_time": "2022-10-23T05:42:05.386Z"
   },
   {
    "duration": 0,
    "start_time": "2022-10-23T05:42:05.387Z"
   },
   {
    "duration": 0,
    "start_time": "2022-10-23T05:42:05.388Z"
   },
   {
    "duration": 0,
    "start_time": "2022-10-23T05:42:05.389Z"
   },
   {
    "duration": 0,
    "start_time": "2022-10-23T05:42:05.390Z"
   },
   {
    "duration": 0,
    "start_time": "2022-10-23T05:42:05.391Z"
   },
   {
    "duration": 0,
    "start_time": "2022-10-23T05:42:05.392Z"
   },
   {
    "duration": 0,
    "start_time": "2022-10-23T05:42:05.393Z"
   },
   {
    "duration": 0,
    "start_time": "2022-10-23T05:42:05.395Z"
   },
   {
    "duration": 0,
    "start_time": "2022-10-23T05:42:05.396Z"
   },
   {
    "duration": 0,
    "start_time": "2022-10-23T05:42:05.397Z"
   },
   {
    "duration": 0,
    "start_time": "2022-10-23T05:42:05.398Z"
   },
   {
    "duration": 0,
    "start_time": "2022-10-23T05:42:05.399Z"
   },
   {
    "duration": 0,
    "start_time": "2022-10-23T05:42:05.401Z"
   },
   {
    "duration": 1,
    "start_time": "2022-10-23T05:42:05.401Z"
   },
   {
    "duration": 0,
    "start_time": "2022-10-23T05:42:05.402Z"
   },
   {
    "duration": 0,
    "start_time": "2022-10-23T05:42:05.433Z"
   },
   {
    "duration": 0,
    "start_time": "2022-10-23T05:42:05.434Z"
   },
   {
    "duration": 0,
    "start_time": "2022-10-23T05:42:05.435Z"
   },
   {
    "duration": 0,
    "start_time": "2022-10-23T05:42:05.436Z"
   },
   {
    "duration": 0,
    "start_time": "2022-10-23T05:42:05.437Z"
   },
   {
    "duration": 0,
    "start_time": "2022-10-23T05:42:05.438Z"
   },
   {
    "duration": 0,
    "start_time": "2022-10-23T05:42:05.439Z"
   },
   {
    "duration": 0,
    "start_time": "2022-10-23T05:42:05.441Z"
   },
   {
    "duration": 0,
    "start_time": "2022-10-23T05:42:05.442Z"
   },
   {
    "duration": 0,
    "start_time": "2022-10-23T05:42:05.443Z"
   },
   {
    "duration": 0,
    "start_time": "2022-10-23T05:42:05.444Z"
   },
   {
    "duration": 0,
    "start_time": "2022-10-23T05:42:05.446Z"
   },
   {
    "duration": 0,
    "start_time": "2022-10-23T05:42:05.447Z"
   },
   {
    "duration": 0,
    "start_time": "2022-10-23T05:42:05.448Z"
   },
   {
    "duration": 0,
    "start_time": "2022-10-23T05:42:05.450Z"
   },
   {
    "duration": 0,
    "start_time": "2022-10-23T05:42:05.451Z"
   },
   {
    "duration": 0,
    "start_time": "2022-10-23T05:42:05.452Z"
   },
   {
    "duration": 0,
    "start_time": "2022-10-23T05:42:05.454Z"
   },
   {
    "duration": 0,
    "start_time": "2022-10-23T05:42:05.456Z"
   },
   {
    "duration": 0,
    "start_time": "2022-10-23T05:42:05.457Z"
   },
   {
    "duration": 0,
    "start_time": "2022-10-23T05:42:05.458Z"
   },
   {
    "duration": 0,
    "start_time": "2022-10-23T05:42:05.460Z"
   },
   {
    "duration": 0,
    "start_time": "2022-10-23T05:42:05.461Z"
   },
   {
    "duration": 0,
    "start_time": "2022-10-23T05:42:05.462Z"
   },
   {
    "duration": 0,
    "start_time": "2022-10-23T05:42:05.464Z"
   },
   {
    "duration": 0,
    "start_time": "2022-10-23T05:42:05.465Z"
   },
   {
    "duration": 0,
    "start_time": "2022-10-23T05:42:05.466Z"
   },
   {
    "duration": 0,
    "start_time": "2022-10-23T05:42:05.467Z"
   },
   {
    "duration": 0,
    "start_time": "2022-10-23T05:42:05.468Z"
   },
   {
    "duration": 0,
    "start_time": "2022-10-23T05:42:05.469Z"
   },
   {
    "duration": 0,
    "start_time": "2022-10-23T05:42:05.470Z"
   },
   {
    "duration": 0,
    "start_time": "2022-10-23T05:42:05.471Z"
   },
   {
    "duration": 0,
    "start_time": "2022-10-23T05:42:05.534Z"
   },
   {
    "duration": 0,
    "start_time": "2022-10-23T05:42:05.536Z"
   },
   {
    "duration": 0,
    "start_time": "2022-10-23T05:42:05.537Z"
   },
   {
    "duration": 0,
    "start_time": "2022-10-23T05:42:05.538Z"
   },
   {
    "duration": 0,
    "start_time": "2022-10-23T05:42:05.539Z"
   },
   {
    "duration": 0,
    "start_time": "2022-10-23T05:42:05.541Z"
   },
   {
    "duration": 0,
    "start_time": "2022-10-23T05:42:05.542Z"
   },
   {
    "duration": 0,
    "start_time": "2022-10-23T05:42:05.543Z"
   },
   {
    "duration": 0,
    "start_time": "2022-10-23T05:42:05.544Z"
   },
   {
    "duration": 0,
    "start_time": "2022-10-23T05:42:05.545Z"
   },
   {
    "duration": 0,
    "start_time": "2022-10-23T05:42:05.546Z"
   },
   {
    "duration": 0,
    "start_time": "2022-10-23T05:42:05.547Z"
   },
   {
    "duration": 0,
    "start_time": "2022-10-23T05:42:05.549Z"
   },
   {
    "duration": 0,
    "start_time": "2022-10-23T05:42:05.550Z"
   },
   {
    "duration": 0,
    "start_time": "2022-10-23T05:42:05.551Z"
   },
   {
    "duration": 0,
    "start_time": "2022-10-23T05:42:05.552Z"
   },
   {
    "duration": 0,
    "start_time": "2022-10-23T05:42:05.553Z"
   },
   {
    "duration": 0,
    "start_time": "2022-10-23T05:42:05.554Z"
   },
   {
    "duration": 0,
    "start_time": "2022-10-23T05:42:05.555Z"
   },
   {
    "duration": 0,
    "start_time": "2022-10-23T05:42:05.557Z"
   },
   {
    "duration": 0,
    "start_time": "2022-10-23T05:42:05.558Z"
   }
  ],
  "kernelspec": {
   "display_name": "Python 3 (ipykernel)",
   "language": "python",
   "name": "python3"
  },
  "language_info": {
   "codemirror_mode": {
    "name": "ipython",
    "version": 3
   },
   "file_extension": ".py",
   "mimetype": "text/x-python",
   "name": "python",
   "nbconvert_exporter": "python",
   "pygments_lexer": "ipython3",
   "version": "3.9.7"
  },
  "toc": {
   "base_numbering": 1,
   "nav_menu": {},
   "number_sections": true,
   "sideBar": true,
   "skip_h1_title": true,
   "title_cell": "Table of Contents",
   "title_sidebar": "Contents",
   "toc_cell": false,
   "toc_position": {},
   "toc_section_display": true,
   "toc_window_display": false
  },
  "varInspector": {
   "cols": {
    "lenName": 16,
    "lenType": 16,
    "lenVar": 40
   },
   "kernels_config": {
    "python": {
     "delete_cmd_postfix": "",
     "delete_cmd_prefix": "del ",
     "library": "var_list.py",
     "varRefreshCmd": "print(var_dic_list())"
    },
    "r": {
     "delete_cmd_postfix": ") ",
     "delete_cmd_prefix": "rm(",
     "library": "var_list.r",
     "varRefreshCmd": "cat(var_dic_list()) "
    }
   },
   "types_to_exclude": [
    "module",
    "function",
    "builtin_function_or_method",
    "instance",
    "_Feature"
   ],
   "window_display": false
  }
 },
 "nbformat": 4,
 "nbformat_minor": 5
}
