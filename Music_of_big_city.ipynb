{
 "cells": [
  {
   "cell_type": "markdown",
   "metadata": {
    "id": "E0vqbgi9ay0H"
   },
   "source": [
    "# Яндекс.Музыка"
   ]
  },
  {
   "cell_type": "markdown",
   "metadata": {
    "id": "VUC88oWjTJw2"
   },
   "source": [
    "**Цель исследования** — проверьте три гипотезы о поведении пользователей Санкт-Петербурга и Москвы:\n",
    "1. Активность пользователей зависит от дня недели. Причём в Москве и Петербурге это проявляется по-разному.\n",
    "2. В понедельник утром в Москве преобладают одни жанры, а в Петербурге — другие. Так же и вечером пятницы преобладают разные жанры — в зависимости от города. \n",
    "3. Москва и Петербург предпочитают разные жанры музыки. В Москве чаще слушают поп-музыку, в Петербурге — русский рэп.\n",
    "\n",
    "**Ход исследования**\n",
    " 1. Обзор данных\n",
    " 2. Предобработка данных\n",
    " 3. Проверка гипотез"
   ]
  },
  {
   "cell_type": "markdown",
   "metadata": {
    "id": "Ml1hmfXC_Zcs"
   },
   "source": [
    "## Обзор данных\n"
   ]
  },
  {
   "cell_type": "code",
   "execution_count": 1,
   "metadata": {
    "id": "AXN7PHPN_Zcs"
   },
   "outputs": [],
   "source": [
    "import pandas as pd "
   ]
  },
  {
   "cell_type": "code",
   "execution_count": 2,
   "metadata": {
    "id": "fFVu7vqh_Zct"
   },
   "outputs": [],
   "source": [
    "try:\n",
    "    df = pd.read_csv('/datasets/yandex_music_project.csv')\n",
    "except:\n",
    "    df = pd.read_csv('yandex_music_project.csv')"
   ]
  },
  {
   "cell_type": "code",
   "execution_count": 38,
   "metadata": {
    "id": "oWTVX3gW_Zct"
   },
   "outputs": [
    {
     "data": {
      "text/html": [
       "<div>\n",
       "<style scoped>\n",
       "    .dataframe tbody tr th:only-of-type {\n",
       "        vertical-align: middle;\n",
       "    }\n",
       "\n",
       "    .dataframe tbody tr th {\n",
       "        vertical-align: top;\n",
       "    }\n",
       "\n",
       "    .dataframe thead th {\n",
       "        text-align: right;\n",
       "    }\n",
       "</style>\n",
       "<table border=\"1\" class=\"dataframe\">\n",
       "  <thead>\n",
       "    <tr style=\"text-align: right;\">\n",
       "      <th></th>\n",
       "      <th>user_id</th>\n",
       "      <th>track</th>\n",
       "      <th>artist</th>\n",
       "      <th>genre</th>\n",
       "      <th>city</th>\n",
       "      <th>time</th>\n",
       "      <th>day</th>\n",
       "    </tr>\n",
       "  </thead>\n",
       "  <tbody>\n",
       "    <tr>\n",
       "      <th>0</th>\n",
       "      <td>FFB692EC</td>\n",
       "      <td>Kamigata To Boots</td>\n",
       "      <td>The Mass Missile</td>\n",
       "      <td>rock</td>\n",
       "      <td>Saint-Petersburg</td>\n",
       "      <td>20:28:33</td>\n",
       "      <td>Wednesday</td>\n",
       "    </tr>\n",
       "    <tr>\n",
       "      <th>1</th>\n",
       "      <td>55204538</td>\n",
       "      <td>Delayed Because of Accident</td>\n",
       "      <td>Andreas Rönnberg</td>\n",
       "      <td>rock</td>\n",
       "      <td>Moscow</td>\n",
       "      <td>14:07:09</td>\n",
       "      <td>Friday</td>\n",
       "    </tr>\n",
       "    <tr>\n",
       "      <th>2</th>\n",
       "      <td>20EC38</td>\n",
       "      <td>Funiculì funiculà</td>\n",
       "      <td>Mario Lanza</td>\n",
       "      <td>pop</td>\n",
       "      <td>Saint-Petersburg</td>\n",
       "      <td>20:58:07</td>\n",
       "      <td>Wednesday</td>\n",
       "    </tr>\n",
       "    <tr>\n",
       "      <th>3</th>\n",
       "      <td>A3DD03C9</td>\n",
       "      <td>Dragons in the Sunset</td>\n",
       "      <td>Fire + Ice</td>\n",
       "      <td>folk</td>\n",
       "      <td>Saint-Petersburg</td>\n",
       "      <td>08:37:09</td>\n",
       "      <td>Monday</td>\n",
       "    </tr>\n",
       "    <tr>\n",
       "      <th>4</th>\n",
       "      <td>E2DC1FAE</td>\n",
       "      <td>Soul People</td>\n",
       "      <td>Space Echo</td>\n",
       "      <td>dance</td>\n",
       "      <td>Moscow</td>\n",
       "      <td>08:34:34</td>\n",
       "      <td>Monday</td>\n",
       "    </tr>\n",
       "    <tr>\n",
       "      <th>5</th>\n",
       "      <td>842029A1</td>\n",
       "      <td>Преданная</td>\n",
       "      <td>IMPERVTOR</td>\n",
       "      <td>hiphop</td>\n",
       "      <td>Saint-Petersburg</td>\n",
       "      <td>13:09:41</td>\n",
       "      <td>Friday</td>\n",
       "    </tr>\n",
       "    <tr>\n",
       "      <th>6</th>\n",
       "      <td>4CB90AA5</td>\n",
       "      <td>True</td>\n",
       "      <td>Roman Messer</td>\n",
       "      <td>dance</td>\n",
       "      <td>Moscow</td>\n",
       "      <td>13:00:07</td>\n",
       "      <td>Wednesday</td>\n",
       "    </tr>\n",
       "    <tr>\n",
       "      <th>7</th>\n",
       "      <td>F03E1C1F</td>\n",
       "      <td>Feeling This Way</td>\n",
       "      <td>Polina Griffith</td>\n",
       "      <td>dance</td>\n",
       "      <td>Moscow</td>\n",
       "      <td>20:47:49</td>\n",
       "      <td>Wednesday</td>\n",
       "    </tr>\n",
       "    <tr>\n",
       "      <th>8</th>\n",
       "      <td>8FA1D3BE</td>\n",
       "      <td>И вновь продолжается бой</td>\n",
       "      <td>unknown</td>\n",
       "      <td>ruspop</td>\n",
       "      <td>Moscow</td>\n",
       "      <td>09:17:40</td>\n",
       "      <td>Friday</td>\n",
       "    </tr>\n",
       "    <tr>\n",
       "      <th>9</th>\n",
       "      <td>E772D5C0</td>\n",
       "      <td>Pessimist</td>\n",
       "      <td>unknown</td>\n",
       "      <td>dance</td>\n",
       "      <td>Saint-Petersburg</td>\n",
       "      <td>21:20:49</td>\n",
       "      <td>Wednesday</td>\n",
       "    </tr>\n",
       "  </tbody>\n",
       "</table>\n",
       "</div>"
      ],
      "text/plain": [
       "    user_id                        track            artist   genre  \\\n",
       "0  FFB692EC            Kamigata To Boots  The Mass Missile    rock   \n",
       "1  55204538  Delayed Because of Accident  Andreas Rönnberg    rock   \n",
       "2    20EC38            Funiculì funiculà       Mario Lanza     pop   \n",
       "3  A3DD03C9        Dragons in the Sunset        Fire + Ice    folk   \n",
       "4  E2DC1FAE                  Soul People        Space Echo   dance   \n",
       "5  842029A1                    Преданная         IMPERVTOR  hiphop   \n",
       "6  4CB90AA5                         True      Roman Messer   dance   \n",
       "7  F03E1C1F             Feeling This Way   Polina Griffith   dance   \n",
       "8  8FA1D3BE     И вновь продолжается бой           unknown  ruspop   \n",
       "9  E772D5C0                    Pessimist           unknown   dance   \n",
       "\n",
       "               city      time        day  \n",
       "0  Saint-Petersburg  20:28:33  Wednesday  \n",
       "1            Moscow  14:07:09     Friday  \n",
       "2  Saint-Petersburg  20:58:07  Wednesday  \n",
       "3  Saint-Petersburg  08:37:09     Monday  \n",
       "4            Moscow  08:34:34     Monday  \n",
       "5  Saint-Petersburg  13:09:41     Friday  \n",
       "6            Moscow  13:00:07  Wednesday  \n",
       "7            Moscow  20:47:49  Wednesday  \n",
       "8            Moscow  09:17:40     Friday  \n",
       "9  Saint-Petersburg  21:20:49  Wednesday  "
      ]
     },
     "execution_count": 38,
     "metadata": {},
     "output_type": "execute_result"
    }
   ],
   "source": [
    "df.head(10)"
   ]
  },
  {
   "cell_type": "code",
   "execution_count": 4,
   "metadata": {},
   "outputs": [
    {
     "data": {
      "text/html": [
       "<div>\n",
       "<style scoped>\n",
       "    .dataframe tbody tr th:only-of-type {\n",
       "        vertical-align: middle;\n",
       "    }\n",
       "\n",
       "    .dataframe tbody tr th {\n",
       "        vertical-align: top;\n",
       "    }\n",
       "\n",
       "    .dataframe thead th {\n",
       "        text-align: right;\n",
       "    }\n",
       "</style>\n",
       "<table border=\"1\" class=\"dataframe\">\n",
       "  <thead>\n",
       "    <tr style=\"text-align: right;\">\n",
       "      <th></th>\n",
       "      <th>userID</th>\n",
       "      <th>Track</th>\n",
       "      <th>artist</th>\n",
       "      <th>genre</th>\n",
       "      <th>City</th>\n",
       "      <th>time</th>\n",
       "      <th>Day</th>\n",
       "    </tr>\n",
       "  </thead>\n",
       "  <tbody>\n",
       "    <tr>\n",
       "      <th>65074</th>\n",
       "      <td>729CBB09</td>\n",
       "      <td>My Name</td>\n",
       "      <td>McLean</td>\n",
       "      <td>rnb</td>\n",
       "      <td>Moscow</td>\n",
       "      <td>13:32:28</td>\n",
       "      <td>Wednesday</td>\n",
       "    </tr>\n",
       "    <tr>\n",
       "      <th>65075</th>\n",
       "      <td>D08D4A55</td>\n",
       "      <td>Maybe One Day (feat. Black Spade)</td>\n",
       "      <td>Blu &amp; Exile</td>\n",
       "      <td>hip</td>\n",
       "      <td>Saint-Petersburg</td>\n",
       "      <td>10:00:00</td>\n",
       "      <td>Monday</td>\n",
       "    </tr>\n",
       "    <tr>\n",
       "      <th>65076</th>\n",
       "      <td>C5E3A0D5</td>\n",
       "      <td>Jalopiina</td>\n",
       "      <td>NaN</td>\n",
       "      <td>industrial</td>\n",
       "      <td>Moscow</td>\n",
       "      <td>20:09:26</td>\n",
       "      <td>Friday</td>\n",
       "    </tr>\n",
       "    <tr>\n",
       "      <th>65077</th>\n",
       "      <td>321D0506</td>\n",
       "      <td>Freight Train</td>\n",
       "      <td>Chas McDevitt</td>\n",
       "      <td>rock</td>\n",
       "      <td>Moscow</td>\n",
       "      <td>21:43:59</td>\n",
       "      <td>Friday</td>\n",
       "    </tr>\n",
       "    <tr>\n",
       "      <th>65078</th>\n",
       "      <td>3A64EF84</td>\n",
       "      <td>Tell Me Sweet Little Lies</td>\n",
       "      <td>Monica Lopez</td>\n",
       "      <td>country</td>\n",
       "      <td>Moscow</td>\n",
       "      <td>21:59:46</td>\n",
       "      <td>Friday</td>\n",
       "    </tr>\n",
       "  </tbody>\n",
       "</table>\n",
       "</div>"
      ],
      "text/plain": [
       "         userID                              Track         artist       genre  \\\n",
       "65074  729CBB09                            My Name         McLean         rnb   \n",
       "65075  D08D4A55  Maybe One Day (feat. Black Spade)    Blu & Exile         hip   \n",
       "65076  C5E3A0D5                          Jalopiina            NaN  industrial   \n",
       "65077  321D0506                      Freight Train  Chas McDevitt        rock   \n",
       "65078  3A64EF84          Tell Me Sweet Little Lies   Monica Lopez     country   \n",
       "\n",
       "                 City        time        Day  \n",
       "65074            Moscow  13:32:28  Wednesday  \n",
       "65075  Saint-Petersburg  10:00:00     Monday  \n",
       "65076            Moscow  20:09:26     Friday  \n",
       "65077            Moscow  21:43:59     Friday  \n",
       "65078            Moscow  21:59:46     Friday  "
      ]
     },
     "execution_count": 4,
     "metadata": {},
     "output_type": "execute_result"
    }
   ],
   "source": [
    "df.tail(5)"
   ]
  },
  {
   "cell_type": "code",
   "execution_count": 5,
   "metadata": {
    "id": "DSf2kIb-_Zct"
   },
   "outputs": [
    {
     "name": "stdout",
     "output_type": "stream",
     "text": [
      "<class 'pandas.core.frame.DataFrame'>\n",
      "RangeIndex: 65079 entries, 0 to 65078\n",
      "Data columns (total 7 columns):\n",
      " #   Column    Non-Null Count  Dtype \n",
      "---  ------    --------------  ----- \n",
      " 0     userID  65079 non-null  object\n",
      " 1   Track     63848 non-null  object\n",
      " 2   artist    57876 non-null  object\n",
      " 3   genre     63881 non-null  object\n",
      " 4     City    65079 non-null  object\n",
      " 5   time      65079 non-null  object\n",
      " 6   Day       65079 non-null  object\n",
      "dtypes: object(7)\n",
      "memory usage: 3.5+ MB\n"
     ]
    }
   ],
   "source": [
    "df.info() "
   ]
  },
  {
   "cell_type": "markdown",
   "metadata": {
    "id": "TaQ2Iwbr_Zct"
   },
   "source": [
    "Итак, в таблице семь столбцов. Тип данных во всех столбцах — `object`.\n",
    "\n",
    "Согласно документации к данным:\n",
    "* `userID` — идентификатор пользователя;\n",
    "* `Track` — название трека;  \n",
    "* `artist` — имя исполнителя;\n",
    "* `genre` — название жанра;\n",
    "* `City` — город пользователя;\n",
    "* `time` — время начала прослушивания;\n",
    "* `Day` — день недели.\n",
    "\n",
    "В названиях колонок видны три нарушения стиля:\n",
    "1. Строчные буквы сочетаются с прописными.\n",
    "2. Встречаются пробелы.\n",
    "3. В разных столбцах - разное количество элементов со значениями non-null. \n",
    "\n",
    "\n",
    "\n",
    "Количество значений в столбцах различается. Значит, в данных есть пропущенные значения.\n"
   ]
  },
  {
   "cell_type": "markdown",
   "metadata": {
    "id": "MCB6-dXG_Zct"
   },
   "source": [
    "**Выводы**\n",
    "\n",
    "В каждой строке таблицы — данные о прослушанном треке. Часть колонок описывает саму композицию: название, исполнителя и жанр. Остальные данные рассказывают о пользователе: из какого он города, когда он слушал музыку. \n",
    "\n",
    "Предварительно можно утверждать, что, данных достаточно для проверки гипотез. Но встречаются пропуски в данных, а в названиях колонок — расхождения с хорошим стилем.\n",
    "\n",
    "Чтобы двигаться дальше, нужно устранить проблемы в данных."
   ]
  },
  {
   "cell_type": "markdown",
   "metadata": {
    "id": "SjYF6Ub9_Zct"
   },
   "source": [
    "## Предобработка данных"
   ]
  },
  {
   "cell_type": "markdown",
   "metadata": {
    "id": "dIaKXr29_Zct"
   },
   "source": [
    "### Стиль заголовков"
   ]
  },
  {
   "cell_type": "code",
   "execution_count": 6,
   "metadata": {
    "id": "oKOTdF_Q_Zct"
   },
   "outputs": [
    {
     "data": {
      "text/plain": [
       "Index(['  userID', 'Track', 'artist', 'genre', '  City  ', 'time', 'Day'], dtype='object')"
      ]
     },
     "execution_count": 6,
     "metadata": {},
     "output_type": "execute_result"
    }
   ],
   "source": [
    "df.columns "
   ]
  },
  {
   "cell_type": "code",
   "execution_count": 39,
   "metadata": {
    "id": "ISlFqs5y_Zct"
   },
   "outputs": [],
   "source": [
    "df = df.rename(columns = {'  userID':'user_id', 'Track':'track', '  City  ':'city','Day':'day'})"
   ]
  },
  {
   "cell_type": "code",
   "execution_count": 40,
   "metadata": {
    "id": "d4NOAmTW_Zct"
   },
   "outputs": [
    {
     "data": {
      "text/plain": [
       "Index(['user_id', 'track', 'artist', 'genre', 'city', 'time', 'day'], dtype='object')"
      ]
     },
     "execution_count": 40,
     "metadata": {},
     "output_type": "execute_result"
    }
   ],
   "source": [
    "df.columns"
   ]
  },
  {
   "cell_type": "markdown",
   "metadata": {
    "id": "5ISfbcfY_Zct"
   },
   "source": [
    "### Пропуски значений"
   ]
  },
  {
   "cell_type": "code",
   "execution_count": 9,
   "metadata": {
    "id": "RskX29qr_Zct"
   },
   "outputs": [
    {
     "data": {
      "text/plain": [
       "user_id       0\n",
       "track      1231\n",
       "artist     7203\n",
       "genre      1198\n",
       "city          0\n",
       "time          0\n",
       "day           0\n",
       "dtype: int64"
      ]
     },
     "execution_count": 9,
     "metadata": {},
     "output_type": "execute_result"
    }
   ],
   "source": [
    "df.isna().sum()"
   ]
  },
  {
   "cell_type": "code",
   "execution_count": 10,
   "metadata": {
    "id": "KplB5qWs_Zct"
   },
   "outputs": [],
   "source": [
    "# перебор названий столбцов в цикле и замена пропущенных значений на 'unknown'\n",
    "columns_to_replace = ['track','artist','genre']\n",
    "for element in columns_to_replace:\n",
    "    df[element] = df[element].fillna('unknown')"
   ]
  },
  {
   "cell_type": "code",
   "execution_count": 11,
   "metadata": {
    "id": "Tq4nYRX4_Zct"
   },
   "outputs": [
    {
     "data": {
      "text/plain": [
       "user_id    0\n",
       "track      0\n",
       "artist     0\n",
       "genre      0\n",
       "city       0\n",
       "time       0\n",
       "day        0\n",
       "dtype: int64"
      ]
     },
     "execution_count": 11,
     "metadata": {},
     "output_type": "execute_result"
    }
   ],
   "source": [
    "df.isna().sum()"
   ]
  },
  {
   "cell_type": "markdown",
   "metadata": {
    "id": "BWKRtBJ3_Zct"
   },
   "source": [
    "### Дубликаты"
   ]
  },
  {
   "cell_type": "code",
   "execution_count": 12,
   "metadata": {
    "id": "36eES_S0_Zct"
   },
   "outputs": [
    {
     "data": {
      "text/plain": [
       "3826"
      ]
     },
     "execution_count": 12,
     "metadata": {},
     "output_type": "execute_result"
    }
   ],
   "source": [
    "df.duplicated().sum() "
   ]
  },
  {
   "cell_type": "code",
   "execution_count": 13,
   "metadata": {
    "id": "exFHq6tt_Zct"
   },
   "outputs": [],
   "source": [
    "df = df.drop_duplicates().reset_index(drop=True)"
   ]
  },
  {
   "cell_type": "code",
   "execution_count": 14,
   "metadata": {
    "id": "-8PuNWQ0_Zct"
   },
   "outputs": [
    {
     "data": {
      "text/plain": [
       "0"
      ]
     },
     "execution_count": 14,
     "metadata": {},
     "output_type": "execute_result"
    }
   ],
   "source": [
    "df.duplicated().sum() "
   ]
  },
  {
   "cell_type": "code",
   "execution_count": 15,
   "metadata": {
    "id": "JIUcqzZN_Zct"
   },
   "outputs": [
    {
     "data": {
      "text/plain": [
       "array(['acid', 'acoustic', 'action', 'adult', 'africa', 'afrikaans',\n",
       "       'alternative', 'alternativepunk', 'ambient', 'americana',\n",
       "       'animated', 'anime', 'arabesk', 'arabic', 'arena',\n",
       "       'argentinetango', 'art', 'audiobook', 'author', 'avantgarde',\n",
       "       'axé', 'baile', 'balkan', 'beats', 'bigroom', 'black', 'bluegrass',\n",
       "       'blues', 'bollywood', 'bossa', 'brazilian', 'breakbeat', 'breaks',\n",
       "       'broadway', 'cantautori', 'cantopop', 'canzone', 'caribbean',\n",
       "       'caucasian', 'celtic', 'chamber', 'chanson', 'children', 'chill',\n",
       "       'chinese', 'choral', 'christian', 'christmas', 'classical',\n",
       "       'classicmetal', 'club', 'colombian', 'comedy', 'conjazz',\n",
       "       'contemporary', 'country', 'cuban', 'dance', 'dancehall',\n",
       "       'dancepop', 'dark', 'death', 'deep', 'deutschrock', 'deutschspr',\n",
       "       'dirty', 'disco', 'dnb', 'documentary', 'downbeat', 'downtempo',\n",
       "       'drum', 'dub', 'dubstep', 'eastern', 'easy', 'electronic',\n",
       "       'electropop', 'emo', 'entehno', 'epicmetal', 'estrada', 'ethnic',\n",
       "       'eurofolk', 'european', 'experimental', 'extrememetal', 'fado',\n",
       "       'fairytail', 'film', 'fitness', 'flamenco', 'folk', 'folklore',\n",
       "       'folkmetal', 'folkrock', 'folktronica', 'forró', 'frankreich',\n",
       "       'französisch', 'french', 'funk', 'future', 'gangsta', 'garage',\n",
       "       'german', 'ghazal', 'gitarre', 'glitch', 'gospel', 'gothic',\n",
       "       'grime', 'grunge', 'gypsy', 'handsup', \"hard'n'heavy\", 'hardcore',\n",
       "       'hardstyle', 'hardtechno', 'hip', 'hip-hop', 'hiphop',\n",
       "       'historisch', 'holiday', 'hop', 'horror', 'house', 'hymn', 'idm',\n",
       "       'independent', 'indian', 'indie', 'indipop', 'industrial',\n",
       "       'inspirational', 'instrumental', 'international', 'irish', 'jam',\n",
       "       'japanese', 'jazz', 'jewish', 'jpop', 'jungle', 'k-pop',\n",
       "       'karadeniz', 'karaoke', 'kayokyoku', 'korean', 'laiko', 'latin',\n",
       "       'latino', 'leftfield', 'local', 'lounge', 'loungeelectronic',\n",
       "       'lovers', 'malaysian', 'mandopop', 'marschmusik', 'meditative',\n",
       "       'mediterranean', 'melodic', 'metal', 'metalcore', 'mexican',\n",
       "       'middle', 'minimal', 'miscellaneous', 'modern', 'mood', 'mpb',\n",
       "       'muslim', 'native', 'neoklassik', 'neue', 'new', 'newage',\n",
       "       'newwave', 'nu', 'nujazz', 'numetal', 'oceania', 'old', 'opera',\n",
       "       'orchestral', 'other', 'piano', 'podcasts', 'pop', 'popdance',\n",
       "       'popelectronic', 'popeurodance', 'poprussian', 'post',\n",
       "       'posthardcore', 'postrock', 'power', 'progmetal', 'progressive',\n",
       "       'psychedelic', 'punjabi', 'punk', 'quebecois', 'ragga', 'ram',\n",
       "       'rancheras', 'rap', 'rave', 'reggae', 'reggaeton', 'regional',\n",
       "       'relax', 'religious', 'retro', 'rhythm', 'rnb', 'rnr', 'rock',\n",
       "       'rockabilly', 'rockalternative', 'rockindie', 'rockother',\n",
       "       'romance', 'roots', 'ruspop', 'rusrap', 'rusrock', 'russian',\n",
       "       'salsa', 'samba', 'scenic', 'schlager', 'self', 'sertanejo',\n",
       "       'shanson', 'shoegazing', 'showtunes', 'singer', 'ska', 'skarock',\n",
       "       'slow', 'smooth', 'soft', 'soul', 'soulful', 'sound', 'soundtrack',\n",
       "       'southern', 'specialty', 'speech', 'spiritual', 'sport',\n",
       "       'stonerrock', 'surf', 'swing', 'synthpop', 'synthrock',\n",
       "       'sängerportrait', 'tango', 'tanzorchester', 'taraftar', 'tatar',\n",
       "       'tech', 'techno', 'teen', 'thrash', 'top', 'traditional',\n",
       "       'tradjazz', 'trance', 'tribal', 'trip', 'triphop', 'tropical',\n",
       "       'türk', 'türkçe', 'ukrrock', 'unknown', 'urban', 'uzbek',\n",
       "       'variété', 'vi', 'videogame', 'vocal', 'western', 'world',\n",
       "       'worldbeat', 'ïîï', 'электроника'], dtype=object)"
      ]
     },
     "execution_count": 15,
     "metadata": {},
     "output_type": "execute_result"
    }
   ],
   "source": [
    "genre_uniq = df['genre'].unique()\n",
    "genre_uniq.sort()\n",
    "genre_uniq"
   ]
  },
  {
   "cell_type": "code",
   "execution_count": 16,
   "metadata": {
    "id": "ErNDkmns_Zct"
   },
   "outputs": [],
   "source": [
    "# Функция для замены неявных дубликатов\n",
    "def replace_wrong_genres(wrong_genres,correct_genre):\n",
    "    for element in wrong_genres:\n",
    "        df['genre'] = df['genre'].replace(element, correct_genre) "
   ]
  },
  {
   "cell_type": "code",
   "execution_count": 17,
   "metadata": {
    "id": "YN5i2hpmSo09"
   },
   "outputs": [],
   "source": [
    "# Устранение неявных дубликатов\n",
    "wrong_name = ['hip','hop','hip-hop', 'gangsta', 'rap', 'rusrap']\n",
    "correct_name = 'hiphop'\n",
    "replace_wrong_genres(wrong_name,correct_name) "
   ]
  },
  {
   "cell_type": "code",
   "execution_count": 18,
   "metadata": {
    "id": "wvixALnFG15m"
   },
   "outputs": [
    {
     "data": {
      "text/plain": [
       "array(['acid', 'acoustic', 'action', 'adult', 'africa', 'afrikaans',\n",
       "       'alternative', 'alternativepunk', 'ambient', 'americana',\n",
       "       'animated', 'anime', 'arabesk', 'arabic', 'arena',\n",
       "       'argentinetango', 'art', 'audiobook', 'author', 'avantgarde',\n",
       "       'axé', 'baile', 'balkan', 'beats', 'bigroom', 'black', 'bluegrass',\n",
       "       'blues', 'bollywood', 'bossa', 'brazilian', 'breakbeat', 'breaks',\n",
       "       'broadway', 'cantautori', 'cantopop', 'canzone', 'caribbean',\n",
       "       'caucasian', 'celtic', 'chamber', 'chanson', 'children', 'chill',\n",
       "       'chinese', 'choral', 'christian', 'christmas', 'classical',\n",
       "       'classicmetal', 'club', 'colombian', 'comedy', 'conjazz',\n",
       "       'contemporary', 'country', 'cuban', 'dance', 'dancehall',\n",
       "       'dancepop', 'dark', 'death', 'deep', 'deutschrock', 'deutschspr',\n",
       "       'dirty', 'disco', 'dnb', 'documentary', 'downbeat', 'downtempo',\n",
       "       'drum', 'dub', 'dubstep', 'eastern', 'easy', 'electronic',\n",
       "       'electropop', 'emo', 'entehno', 'epicmetal', 'estrada', 'ethnic',\n",
       "       'eurofolk', 'european', 'experimental', 'extrememetal', 'fado',\n",
       "       'fairytail', 'film', 'fitness', 'flamenco', 'folk', 'folklore',\n",
       "       'folkmetal', 'folkrock', 'folktronica', 'forró', 'frankreich',\n",
       "       'französisch', 'french', 'funk', 'future', 'garage', 'german',\n",
       "       'ghazal', 'gitarre', 'glitch', 'gospel', 'gothic', 'grime',\n",
       "       'grunge', 'gypsy', 'handsup', \"hard'n'heavy\", 'hardcore',\n",
       "       'hardstyle', 'hardtechno', 'hiphop', 'historisch', 'holiday',\n",
       "       'horror', 'house', 'hymn', 'idm', 'independent', 'indian', 'indie',\n",
       "       'indipop', 'industrial', 'inspirational', 'instrumental',\n",
       "       'international', 'irish', 'jam', 'japanese', 'jazz', 'jewish',\n",
       "       'jpop', 'jungle', 'k-pop', 'karadeniz', 'karaoke', 'kayokyoku',\n",
       "       'korean', 'laiko', 'latin', 'latino', 'leftfield', 'local',\n",
       "       'lounge', 'loungeelectronic', 'lovers', 'malaysian', 'mandopop',\n",
       "       'marschmusik', 'meditative', 'mediterranean', 'melodic', 'metal',\n",
       "       'metalcore', 'mexican', 'middle', 'minimal', 'miscellaneous',\n",
       "       'modern', 'mood', 'mpb', 'muslim', 'native', 'neoklassik', 'neue',\n",
       "       'new', 'newage', 'newwave', 'nu', 'nujazz', 'numetal', 'oceania',\n",
       "       'old', 'opera', 'orchestral', 'other', 'piano', 'podcasts', 'pop',\n",
       "       'popdance', 'popelectronic', 'popeurodance', 'poprussian', 'post',\n",
       "       'posthardcore', 'postrock', 'power', 'progmetal', 'progressive',\n",
       "       'psychedelic', 'punjabi', 'punk', 'quebecois', 'ragga', 'ram',\n",
       "       'rancheras', 'rave', 'reggae', 'reggaeton', 'regional', 'relax',\n",
       "       'religious', 'retro', 'rhythm', 'rnb', 'rnr', 'rock', 'rockabilly',\n",
       "       'rockalternative', 'rockindie', 'rockother', 'romance', 'roots',\n",
       "       'ruspop', 'rusrock', 'russian', 'salsa', 'samba', 'scenic',\n",
       "       'schlager', 'self', 'sertanejo', 'shanson', 'shoegazing',\n",
       "       'showtunes', 'singer', 'ska', 'skarock', 'slow', 'smooth', 'soft',\n",
       "       'soul', 'soulful', 'sound', 'soundtrack', 'southern', 'specialty',\n",
       "       'speech', 'spiritual', 'sport', 'stonerrock', 'surf', 'swing',\n",
       "       'synthpop', 'synthrock', 'sängerportrait', 'tango',\n",
       "       'tanzorchester', 'taraftar', 'tatar', 'tech', 'techno', 'teen',\n",
       "       'thrash', 'top', 'traditional', 'tradjazz', 'trance', 'tribal',\n",
       "       'trip', 'triphop', 'tropical', 'türk', 'türkçe', 'ukrrock',\n",
       "       'unknown', 'urban', 'uzbek', 'variété', 'vi', 'videogame', 'vocal',\n",
       "       'western', 'world', 'worldbeat', 'ïîï', 'электроника'],\n",
       "      dtype=object)"
      ]
     },
     "execution_count": 18,
     "metadata": {},
     "output_type": "execute_result"
    }
   ],
   "source": [
    "#display(df['genre'].unique()) # Проверка на неявные дубликаты\n",
    "genre_uniq = df['genre'].unique()\n",
    "genre_uniq.sort() #отсортировала список \n",
    "genre_uniq\n"
   ]
  },
  {
   "cell_type": "markdown",
   "metadata": {
    "id": "jz6a9-7HQUDd"
   },
   "source": [
    "**Выводы**\n",
    "\n",
    "Предобработка обнаружила три проблемы в данных:\n",
    "\n",
    "- нарушения в стиле заголовков,\n",
    "- пропущенные значения,\n",
    "- дубликаты — явные и неявные.\n",
    "\n",
    "Мы исправили заголовки, чтобы упростить работу с таблицей. Без дубликатов исследование станет более точным.\n",
    "Пропущенные значения заменили на `'unknown'`. Ещё предстоит увидеть, не повредят ли исследованию пропуски в колонке `genre`.\n",
    "Теперь можно перейти к проверке гипотез. "
   ]
  },
  {
   "cell_type": "markdown",
   "metadata": {
    "id": "WttZHXH0SqKk"
   },
   "source": [
    "## Проверка гипотез"
   ]
  },
  {
   "cell_type": "markdown",
   "metadata": {
    "id": "Im936VVi_Zcu"
   },
   "source": [
    "### Сравнение поведения пользователей двух столиц"
   ]
  },
  {
   "cell_type": "markdown",
   "metadata": {
    "id": "nwt_MuaL_Zcu"
   },
   "source": [
    "Первая гипотеза утверждает, что пользователи по-разному слушают музыку в Москве и Санкт-Петербурге. Проверим это предположение по данным о трёх днях недели — понедельнике, среде и пятнице. "
   ]
  },
  {
   "cell_type": "code",
   "execution_count": 19,
   "metadata": {
    "id": "0_Qs96oh_Zcu"
   },
   "outputs": [
    {
     "data": {
      "text/plain": [
       "city\n",
       "Moscow              42741\n",
       "Saint-Petersburg    18512\n",
       "Name: track, dtype: int64"
      ]
     },
     "execution_count": 19,
     "metadata": {},
     "output_type": "execute_result"
    }
   ],
   "source": [
    "user_groups =df.groupby('city')['track'].count()\n",
    "user_groups"
   ]
  },
  {
   "cell_type": "markdown",
   "metadata": {
    "id": "dzli3w8o_Zcu"
   },
   "source": [
    "В Москве прослушиваний больше, чем в Петербурге. Из этого не следует, что московские пользователи чаще слушают музыку. Просто самих пользователей в Москве больше.\n",
    "Сгруппируем данные по дню недели и подсчитаем прослушивания в понедельник, среду и пятницу. "
   ]
  },
  {
   "cell_type": "code",
   "execution_count": 20,
   "metadata": {
    "id": "uZMKjiJz_Zcu"
   },
   "outputs": [
    {
     "data": {
      "text/plain": [
       "day\n",
       "Friday       21840\n",
       "Monday       21354\n",
       "Wednesday    18059\n",
       "Name: track, dtype: int64"
      ]
     },
     "execution_count": 20,
     "metadata": {},
     "output_type": "execute_result"
    }
   ],
   "source": [
    "day_groups = df.groupby('day')['track'].count() # Подсчёт прослушиваний в каждый из трёх дней\n",
    "day_groups"
   ]
  },
  {
   "cell_type": "markdown",
   "metadata": {
    "id": "cC2tNrlL_Zcu"
   },
   "source": [
    "В среднем пользователи из двух городов менее активны по средам. Но картина может измениться, если рассмотреть каждый город в отдельности."
   ]
  },
  {
   "cell_type": "code",
   "execution_count": 41,
   "metadata": {
    "id": "Nz3GdQB1_Zcu"
   },
   "outputs": [
    {
     "data": {
      "text/plain": [
       "5895"
      ]
     },
     "execution_count": 41,
     "metadata": {},
     "output_type": "execute_result"
    }
   ],
   "source": [
    "\n",
    "def number_tracks(day, city): \n",
    "    track_list=df[(df['day']==day) & (df['city']==city)]\n",
    "    track_list_count =  track_list['user_id'].count()       \n",
    "    return track_list_count\n",
    "number_tracks('Monday','Moscow')\n",
    "number_tracks('Monday','Saint-Petersburg')\n",
    "number_tracks('Wednesday', 'Moscow')\n",
    "number_tracks('Wednesday','Saint-Petersburg')\n",
    "number_tracks('Friday','Moscow')\n",
    "number_tracks('Friday','Saint-Petersburg')"
   ]
  },
  {
   "cell_type": "markdown",
   "metadata": {
    "id": "ytf7xFrFJQ2r"
   },
   "source": [
    "Вызовем `number_tracks()` шесть раз, меняя значение параметров — так, чтобы получить данные для каждого города в каждый из трёх дней."
   ]
  },
  {
   "cell_type": "code",
   "execution_count": 22,
   "metadata": {
    "id": "rJcRATNQ_Zcu"
   },
   "outputs": [
    {
     "data": {
      "text/plain": [
       "15740"
      ]
     },
     "execution_count": 22,
     "metadata": {},
     "output_type": "execute_result"
    }
   ],
   "source": [
    "number_tracks('Monday','Moscow') # количество прослушиваний в Москве по понедельникам"
   ]
  },
  {
   "cell_type": "code",
   "execution_count": 23,
   "metadata": {
    "id": "hq_ncZ5T_Zcu"
   },
   "outputs": [
    {
     "data": {
      "text/plain": [
       "5614"
      ]
     },
     "execution_count": 23,
     "metadata": {},
     "output_type": "execute_result"
    }
   ],
   "source": [
    "number_tracks('Monday','Saint-Petersburg') # количество прослушиваний в Санкт-Петербурге по понедельникам"
   ]
  },
  {
   "cell_type": "code",
   "execution_count": 24,
   "metadata": {
    "id": "_NTy2VPU_Zcu"
   },
   "outputs": [
    {
     "data": {
      "text/plain": [
       "11056"
      ]
     },
     "execution_count": 24,
     "metadata": {},
     "output_type": "execute_result"
    }
   ],
   "source": [
    "number_tracks('Wednesday', 'Moscow') # количество прослушиваний в Москве по средам"
   ]
  },
  {
   "cell_type": "code",
   "execution_count": 25,
   "metadata": {
    "id": "j2y3TAwo_Zcu"
   },
   "outputs": [
    {
     "data": {
      "text/plain": [
       "7003"
      ]
     },
     "execution_count": 25,
     "metadata": {},
     "output_type": "execute_result"
    }
   ],
   "source": [
    "number_tracks('Wednesday','Saint-Petersburg') # количество прослушиваний в Санкт-Петербурге по средам"
   ]
  },
  {
   "cell_type": "code",
   "execution_count": 26,
   "metadata": {
    "id": "vYDw5u_K_Zcu"
   },
   "outputs": [
    {
     "data": {
      "text/plain": [
       "15945"
      ]
     },
     "execution_count": 26,
     "metadata": {},
     "output_type": "execute_result"
    }
   ],
   "source": [
    "number_tracks('Friday','Moscow') # количество прослушиваний в Москве по пятницам"
   ]
  },
  {
   "cell_type": "code",
   "execution_count": 27,
   "metadata": {
    "id": "8_yzFtW3_Zcu"
   },
   "outputs": [
    {
     "data": {
      "text/plain": [
       "5895"
      ]
     },
     "execution_count": 27,
     "metadata": {},
     "output_type": "execute_result"
    }
   ],
   "source": [
    "number_tracks('Friday','Saint-Petersburg') # количество прослушиваний в Санкт-Петербурге по пятницам"
   ]
  },
  {
   "cell_type": "code",
   "execution_count": 28,
   "metadata": {
    "id": "APAcLpOr_Zcu"
   },
   "outputs": [
    {
     "data": {
      "text/html": [
       "<div>\n",
       "<style scoped>\n",
       "    .dataframe tbody tr th:only-of-type {\n",
       "        vertical-align: middle;\n",
       "    }\n",
       "\n",
       "    .dataframe tbody tr th {\n",
       "        vertical-align: top;\n",
       "    }\n",
       "\n",
       "    .dataframe thead th {\n",
       "        text-align: right;\n",
       "    }\n",
       "</style>\n",
       "<table border=\"1\" class=\"dataframe\">\n",
       "  <thead>\n",
       "    <tr style=\"text-align: right;\">\n",
       "      <th></th>\n",
       "      <th>city</th>\n",
       "      <th>monday</th>\n",
       "      <th>wednesday</th>\n",
       "      <th>friday</th>\n",
       "    </tr>\n",
       "  </thead>\n",
       "  <tbody>\n",
       "    <tr>\n",
       "      <th>0</th>\n",
       "      <td>Moscow</td>\n",
       "      <td>15740</td>\n",
       "      <td>11056</td>\n",
       "      <td>15945</td>\n",
       "    </tr>\n",
       "    <tr>\n",
       "      <th>1</th>\n",
       "      <td>Saint-Petersburg</td>\n",
       "      <td>5614</td>\n",
       "      <td>7003</td>\n",
       "      <td>5895</td>\n",
       "    </tr>\n",
       "  </tbody>\n",
       "</table>\n",
       "</div>"
      ],
      "text/plain": [
       "               city  monday  wednesday  friday\n",
       "0            Moscow   15740      11056   15945\n",
       "1  Saint-Petersburg    5614       7003    5895"
      ]
     },
     "execution_count": 28,
     "metadata": {},
     "output_type": "execute_result"
    }
   ],
   "source": [
    "# Таблица с результатами\n",
    "number_tracks = [['Moscow', 15740, 11056, 15945],\n",
    "['Saint-Petersburg', 5614, 7003, 5895]] \n",
    "columns = ['city', 'monday', 'wednesday', 'friday']\n",
    "table = pd.DataFrame(data=number_tracks,columns=columns)\n",
    "table"
   ]
  },
  {
   "cell_type": "markdown",
   "metadata": {
    "id": "-EgPIHYu_Zcu"
   },
   "source": [
    "**Выводы**\n",
    "\n",
    "Данные показывают разницу поведения пользователей:\n",
    "\n",
    "- В Москве пик прослушиваний приходится на понедельник и пятницу, а в среду заметен спад.\n",
    "- В Петербурге, наоборот, больше слушают музыку по средам. Активность в понедельник и пятницу здесь почти в равной мере уступает среде.\n",
    "\n",
    "Значит, данные говорят в пользу первой гипотезы."
   ]
  },
  {
   "cell_type": "markdown",
   "metadata": {
    "id": "atZAxtq4_Zcu"
   },
   "source": [
    "### Музыка в начале и в конце недели"
   ]
  },
  {
   "cell_type": "markdown",
   "metadata": {
    "id": "eXrQqXFH_Zcu"
   },
   "source": [
    "Согласно второй гипотезе, утром в понедельник в Москве преобладают одни жанры, а в Петербурге — другие. Так же и вечером пятницы преобладают разные жанры — в зависимости от города."
   ]
  },
  {
   "cell_type": "code",
   "execution_count": 29,
   "metadata": {
    "id": "qeaFfM_P_Zcu"
   },
   "outputs": [
    {
     "data": {
      "text/html": [
       "<div>\n",
       "<style scoped>\n",
       "    .dataframe tbody tr th:only-of-type {\n",
       "        vertical-align: middle;\n",
       "    }\n",
       "\n",
       "    .dataframe tbody tr th {\n",
       "        vertical-align: top;\n",
       "    }\n",
       "\n",
       "    .dataframe thead th {\n",
       "        text-align: right;\n",
       "    }\n",
       "</style>\n",
       "<table border=\"1\" class=\"dataframe\">\n",
       "  <thead>\n",
       "    <tr style=\"text-align: right;\">\n",
       "      <th></th>\n",
       "      <th>user_id</th>\n",
       "      <th>track</th>\n",
       "      <th>artist</th>\n",
       "      <th>genre</th>\n",
       "      <th>city</th>\n",
       "      <th>time</th>\n",
       "      <th>day</th>\n",
       "    </tr>\n",
       "  </thead>\n",
       "  <tbody>\n",
       "    <tr>\n",
       "      <th>1</th>\n",
       "      <td>55204538</td>\n",
       "      <td>Delayed Because of Accident</td>\n",
       "      <td>Andreas Rönnberg</td>\n",
       "      <td>rock</td>\n",
       "      <td>Moscow</td>\n",
       "      <td>14:07:09</td>\n",
       "      <td>Friday</td>\n",
       "    </tr>\n",
       "    <tr>\n",
       "      <th>4</th>\n",
       "      <td>E2DC1FAE</td>\n",
       "      <td>Soul People</td>\n",
       "      <td>Space Echo</td>\n",
       "      <td>dance</td>\n",
       "      <td>Moscow</td>\n",
       "      <td>08:34:34</td>\n",
       "      <td>Monday</td>\n",
       "    </tr>\n",
       "    <tr>\n",
       "      <th>6</th>\n",
       "      <td>4CB90AA5</td>\n",
       "      <td>True</td>\n",
       "      <td>Roman Messer</td>\n",
       "      <td>dance</td>\n",
       "      <td>Moscow</td>\n",
       "      <td>13:00:07</td>\n",
       "      <td>Wednesday</td>\n",
       "    </tr>\n",
       "    <tr>\n",
       "      <th>7</th>\n",
       "      <td>F03E1C1F</td>\n",
       "      <td>Feeling This Way</td>\n",
       "      <td>Polina Griffith</td>\n",
       "      <td>dance</td>\n",
       "      <td>Moscow</td>\n",
       "      <td>20:47:49</td>\n",
       "      <td>Wednesday</td>\n",
       "    </tr>\n",
       "    <tr>\n",
       "      <th>8</th>\n",
       "      <td>8FA1D3BE</td>\n",
       "      <td>И вновь продолжается бой</td>\n",
       "      <td>unknown</td>\n",
       "      <td>ruspop</td>\n",
       "      <td>Moscow</td>\n",
       "      <td>09:17:40</td>\n",
       "      <td>Friday</td>\n",
       "    </tr>\n",
       "  </tbody>\n",
       "</table>\n",
       "</div>"
      ],
      "text/plain": [
       "    user_id                        track            artist   genre    city  \\\n",
       "1  55204538  Delayed Because of Accident  Andreas Rönnberg    rock  Moscow   \n",
       "4  E2DC1FAE                  Soul People        Space Echo   dance  Moscow   \n",
       "6  4CB90AA5                         True      Roman Messer   dance  Moscow   \n",
       "7  F03E1C1F             Feeling This Way   Polina Griffith   dance  Moscow   \n",
       "8  8FA1D3BE     И вновь продолжается бой           unknown  ruspop  Moscow   \n",
       "\n",
       "       time        day  \n",
       "1  14:07:09     Friday  \n",
       "4  08:34:34     Monday  \n",
       "6  13:00:07  Wednesday  \n",
       "7  20:47:49  Wednesday  \n",
       "8  09:17:40     Friday  "
      ]
     },
     "execution_count": 29,
     "metadata": {},
     "output_type": "execute_result"
    }
   ],
   "source": [
    "moscow_general = df[df['city'] == 'Moscow']\n",
    "moscow_general.head() "
   ]
  },
  {
   "cell_type": "code",
   "execution_count": 30,
   "metadata": {
    "id": "ORaVRKto_Zcu"
   },
   "outputs": [
    {
     "data": {
      "text/html": [
       "<div>\n",
       "<style scoped>\n",
       "    .dataframe tbody tr th:only-of-type {\n",
       "        vertical-align: middle;\n",
       "    }\n",
       "\n",
       "    .dataframe tbody tr th {\n",
       "        vertical-align: top;\n",
       "    }\n",
       "\n",
       "    .dataframe thead th {\n",
       "        text-align: right;\n",
       "    }\n",
       "</style>\n",
       "<table border=\"1\" class=\"dataframe\">\n",
       "  <thead>\n",
       "    <tr style=\"text-align: right;\">\n",
       "      <th></th>\n",
       "      <th>user_id</th>\n",
       "      <th>track</th>\n",
       "      <th>artist</th>\n",
       "      <th>genre</th>\n",
       "      <th>city</th>\n",
       "      <th>time</th>\n",
       "      <th>day</th>\n",
       "    </tr>\n",
       "  </thead>\n",
       "  <tbody>\n",
       "    <tr>\n",
       "      <th>0</th>\n",
       "      <td>FFB692EC</td>\n",
       "      <td>Kamigata To Boots</td>\n",
       "      <td>The Mass Missile</td>\n",
       "      <td>rock</td>\n",
       "      <td>Saint-Petersburg</td>\n",
       "      <td>20:28:33</td>\n",
       "      <td>Wednesday</td>\n",
       "    </tr>\n",
       "    <tr>\n",
       "      <th>2</th>\n",
       "      <td>20EC38</td>\n",
       "      <td>Funiculì funiculà</td>\n",
       "      <td>Mario Lanza</td>\n",
       "      <td>pop</td>\n",
       "      <td>Saint-Petersburg</td>\n",
       "      <td>20:58:07</td>\n",
       "      <td>Wednesday</td>\n",
       "    </tr>\n",
       "    <tr>\n",
       "      <th>3</th>\n",
       "      <td>A3DD03C9</td>\n",
       "      <td>Dragons in the Sunset</td>\n",
       "      <td>Fire + Ice</td>\n",
       "      <td>folk</td>\n",
       "      <td>Saint-Petersburg</td>\n",
       "      <td>08:37:09</td>\n",
       "      <td>Monday</td>\n",
       "    </tr>\n",
       "    <tr>\n",
       "      <th>5</th>\n",
       "      <td>842029A1</td>\n",
       "      <td>Преданная</td>\n",
       "      <td>IMPERVTOR</td>\n",
       "      <td>hiphop</td>\n",
       "      <td>Saint-Petersburg</td>\n",
       "      <td>13:09:41</td>\n",
       "      <td>Friday</td>\n",
       "    </tr>\n",
       "    <tr>\n",
       "      <th>9</th>\n",
       "      <td>E772D5C0</td>\n",
       "      <td>Pessimist</td>\n",
       "      <td>unknown</td>\n",
       "      <td>dance</td>\n",
       "      <td>Saint-Petersburg</td>\n",
       "      <td>21:20:49</td>\n",
       "      <td>Wednesday</td>\n",
       "    </tr>\n",
       "  </tbody>\n",
       "</table>\n",
       "</div>"
      ],
      "text/plain": [
       "    user_id                  track            artist   genre  \\\n",
       "0  FFB692EC      Kamigata To Boots  The Mass Missile    rock   \n",
       "2    20EC38      Funiculì funiculà       Mario Lanza     pop   \n",
       "3  A3DD03C9  Dragons in the Sunset        Fire + Ice    folk   \n",
       "5  842029A1              Преданная         IMPERVTOR  hiphop   \n",
       "9  E772D5C0              Pessimist           unknown   dance   \n",
       "\n",
       "               city      time        day  \n",
       "0  Saint-Petersburg  20:28:33  Wednesday  \n",
       "2  Saint-Petersburg  20:58:07  Wednesday  \n",
       "3  Saint-Petersburg  08:37:09     Monday  \n",
       "5  Saint-Petersburg  13:09:41     Friday  \n",
       "9  Saint-Petersburg  21:20:49  Wednesday  "
      ]
     },
     "execution_count": 30,
     "metadata": {},
     "output_type": "execute_result"
    }
   ],
   "source": [
    "spb_general = df[df['city'] == 'Saint-Petersburg']\n",
    "spb_general.head() "
   ]
  },
  {
   "cell_type": "code",
   "execution_count": 31,
   "metadata": {
    "id": "laJT9BYl_Zcu"
   },
   "outputs": [],
   "source": [
    "def genre_weekday(table,day, time1, time2):\n",
    "    genre_df = table[(table['day']==day)&(table['time']>time1) & (table['time']<time2)]\n",
    "\n",
    "    genre_df_count = genre_df.groupby('genre')['genre'].count()\n",
    "\n",
    "    genre_df_sorted = genre_df_count.sort_values(ascending = False)[:10]\n",
    "    return genre_df_sorted"
   ]
  },
  {
   "cell_type": "markdown",
   "metadata": {
    "id": "la2s2_PF_Zcu"
   },
   "source": [
    "Cравним результаты функции `genre_weekday()` для Москвы и Санкт-Петербурга в понедельник утром (с 7:00 до 11:00) и в пятницу вечером (с 17:00 до 23:00):"
   ]
  },
  {
   "cell_type": "code",
   "execution_count": 32,
   "metadata": {
    "id": "yz7itPUQ_Zcu"
   },
   "outputs": [
    {
     "data": {
      "text/plain": [
       "genre\n",
       "pop            781\n",
       "dance          549\n",
       "hiphop         522\n",
       "electronic     480\n",
       "rock           474\n",
       "ruspop         186\n",
       "world          181\n",
       "alternative    164\n",
       "unknown        161\n",
       "classical      157\n",
       "Name: genre, dtype: int64"
      ]
     },
     "execution_count": 32,
     "metadata": {},
     "output_type": "execute_result"
    }
   ],
   "source": [
    "genre_weekday(moscow_general, 'Monday', '07:00', '11:00')"
   ]
  },
  {
   "cell_type": "code",
   "execution_count": 33,
   "metadata": {
    "id": "kwUcHPdy_Zcu"
   },
   "outputs": [
    {
     "data": {
      "text/plain": [
       "genre\n",
       "pop            218\n",
       "dance          182\n",
       "hiphop         167\n",
       "rock           162\n",
       "electronic     147\n",
       "ruspop          64\n",
       "alternative     58\n",
       "jazz            44\n",
       "classical       40\n",
       "world           36\n",
       "Name: genre, dtype: int64"
      ]
     },
     "execution_count": 33,
     "metadata": {},
     "output_type": "execute_result"
    }
   ],
   "source": [
    "genre_weekday(spb_general, 'Monday', '07:00', '11:00') # вызов функции для утра понедельника в Петербурге (вместо df — таблица spb_general)"
   ]
  },
  {
   "cell_type": "code",
   "execution_count": 34,
   "metadata": {
    "id": "EzXVRE1o_Zcu"
   },
   "outputs": [
    {
     "data": {
      "text/plain": [
       "genre\n",
       "pop            713\n",
       "rock           517\n",
       "dance          495\n",
       "hiphop         488\n",
       "electronic     482\n",
       "world          208\n",
       "ruspop         170\n",
       "alternative    163\n",
       "classical      163\n",
       "jazz           111\n",
       "Name: genre, dtype: int64"
      ]
     },
     "execution_count": 34,
     "metadata": {},
     "output_type": "execute_result"
    }
   ],
   "source": [
    "genre_weekday(moscow_general, 'Friday', '17:00', '23:00') # вызов функции для вечера пятницы в Москве"
   ]
  },
  {
   "cell_type": "code",
   "execution_count": 35,
   "metadata": {
    "id": "JZaEKu5v_Zcu"
   },
   "outputs": [
    {
     "data": {
      "text/plain": [
       "genre\n",
       "pop            256\n",
       "rock           216\n",
       "electronic     216\n",
       "dance          210\n",
       "hiphop         192\n",
       "alternative     63\n",
       "jazz            61\n",
       "classical       60\n",
       "world           54\n",
       "unknown         47\n",
       "Name: genre, dtype: int64"
      ]
     },
     "execution_count": 35,
     "metadata": {},
     "output_type": "execute_result"
    }
   ],
   "source": [
    "genre_weekday(spb_general, 'Friday', '17:00', '23:00') # вызов функции для вечера пятницы в Петербурге"
   ]
  },
  {
   "cell_type": "markdown",
   "metadata": {
    "id": "wrCe4MNX_Zcu"
   },
   "source": [
    "**Выводы**\n",
    "\n",
    "Если сравнить топ-10 жанров в понедельник утром, можно сделать такие выводы:\n",
    "\n",
    "1. В Москве и Петербурге слушают похожую музыку. Единственное отличие — в московский рейтинг вошёл жанр “world”, а в петербургский — джаз и классика.\n",
    "\n",
    "2. В Москве пропущенных значений оказалось так много, что значение `'unknown'` заняло десятое место среди самых популярных жанров. Значит, пропущенные значения занимают существенную долю в данных и угрожают достоверности исследования.\n",
    "\n",
    "Вечер пятницы не меняет эту картину. Некоторые жанры поднимаются немного выше, другие спускаются, но в целом топ-10 остаётся тем же самым.\n",
    "\n",
    "Таким образом, вторая гипотеза подтвердилась лишь частично:\n",
    "* Пользователи слушают похожую музыку в начале недели и в конце.\n",
    "* Разница между Москвой и Петербургом не слишком выражена. В Москве чаще слушают русскую популярную музыку, в Петербурге — джаз.\n",
    "\n",
    "Однако пропуски в данных ставят под сомнение этот результат. В Москве их так много, что рейтинг топ-10 мог бы выглядеть иначе, если бы не утерянные  данные о жанрах."
   ]
  },
  {
   "cell_type": "markdown",
   "metadata": {
    "id": "JolODAqr_Zcu"
   },
   "source": [
    "### Жанровые предпочтения в Москве и Петербурге\n",
    "\n",
    "Гипотеза: Петербург — столица рэпа, музыку этого жанра там слушают чаще, чем в Москве.  А Москва — город контрастов, в котором, тем не менее, преобладает поп-музыка."
   ]
  },
  {
   "cell_type": "code",
   "execution_count": 36,
   "metadata": {
    "id": "r19lIPke_Zcu"
   },
   "outputs": [
    {
     "data": {
      "text/plain": [
       "genre\n",
       "pop            5892\n",
       "dance          4435\n",
       "rock           3965\n",
       "hiphop         3807\n",
       "electronic     3786\n",
       "classical      1616\n",
       "world          1432\n",
       "alternative    1379\n",
       "ruspop         1372\n",
       "jazz            980\n",
       "Name: genre, dtype: int64"
      ]
     },
     "execution_count": 36,
     "metadata": {},
     "output_type": "execute_result"
    }
   ],
   "source": [
    "moscow_genres = moscow_general.groupby('genre')['genre'].count().sort_values(ascending = False)\n",
    "moscow_genres.head(10)"
   ]
  },
  {
   "cell_type": "code",
   "execution_count": 37,
   "metadata": {
    "id": "gluLIpE7_Zcv"
   },
   "outputs": [
    {
     "data": {
      "text/plain": [
       "genre\n",
       "pop            2431\n",
       "dance          1932\n",
       "rock           1879\n",
       "hiphop         1835\n",
       "electronic     1736\n",
       "alternative     649\n",
       "classical       646\n",
       "ruspop          538\n",
       "world           515\n",
       "jazz            486\n",
       "Name: genre, dtype: int64"
      ]
     },
     "execution_count": 37,
     "metadata": {},
     "output_type": "execute_result"
    }
   ],
   "source": [
    "spb_genres = spb_general.groupby('genre')['genre'].count().sort_values(ascending = False)\n",
    "spb_genres.head(10)"
   ]
  },
  {
   "cell_type": "markdown",
   "metadata": {
    "id": "RY51YJYu_Zcv"
   },
   "source": [
    "**Выводы**"
   ]
  },
  {
   "cell_type": "markdown",
   "metadata": {
    "id": "nVhnJEm__Zcv"
   },
   "source": [
    "Гипотеза частично подтвердилась:\n",
    "* Поп-музыка — самый популярный жанр в Москве, как и предполагала гипотеза. Более того, в топ-10 жанров встречается близкий жанр — русская популярная музыка.\n",
    "* Вопреки ожиданиям, рэп одинаково популярен в Москве и Петербурге. \n"
   ]
  },
  {
   "cell_type": "markdown",
   "metadata": {
    "id": "ykKQ0N65_Zcv"
   },
   "source": [
    "## Итоги исследования"
   ]
  },
  {
   "cell_type": "markdown",
   "metadata": {
    "id": "tjUwbHb3_Zcv"
   },
   "source": [
    "Мы проверили три гипотезы и установили:\n",
    "\n",
    "1. День недели по-разному влияет на активность пользователей в Москве и Петербурге. \n",
    "\n",
    "Первая гипотеза полностью подтвердилась.\n",
    "\n",
    "2. Музыкальные предпочтения не сильно меняются в течение недели — будь то Москва или Петербург. Небольшие различия заметны в начале недели, по понедельникам:\n",
    "* в Москве слушают музыку жанра “world”,\n",
    "* в Петербурге — джаз и классику.\n",
    "\n",
    "Таким образом, вторая гипотеза подтвердилась лишь отчасти. Этот результат мог оказаться иным, если бы не пропуски в данных.\n",
    "\n",
    "3. Во вкусах пользователей Москвы и Петербурга больше общего чем различий. Вопреки ожиданиям, предпочтения жанров в Петербурге напоминают московские.\n",
    "\n",
    "Третья гипотеза не подтвердилась. Если различия в предпочтениях и существуют, на основной массе пользователей они незаметны.\n",
    "\n",
    "**На практике исследования содержат проверки статистических гипотез.**\n",
    "Из данных одного сервиса не всегда можно сделать вывод о всех жителях города.\n",
    "Проверки статистических гипотез покажут, насколько они достоверны, исходя из имеющихся данных. \n",
    "Методы проверки гипотез- в слудцющих проектах."
   ]
  }
 ],
 "metadata": {
  "ExecuteTimeLog": [
   {
    "duration": 482,
    "start_time": "2022-05-02T10:21:56.985Z"
   },
   {
    "duration": 141,
    "start_time": "2022-05-02T10:26:28.603Z"
   },
   {
    "duration": 9,
    "start_time": "2022-05-02T10:27:41.169Z"
   },
   {
    "duration": 186,
    "start_time": "2022-05-02T10:28:00.455Z"
   },
   {
    "duration": 158,
    "start_time": "2022-05-02T10:28:16.412Z"
   },
   {
    "duration": 17,
    "start_time": "2022-05-02T10:29:20.002Z"
   },
   {
    "duration": 31,
    "start_time": "2022-05-02T10:32:57.058Z"
   },
   {
    "duration": 4,
    "start_time": "2022-05-02T10:43:26.935Z"
   },
   {
    "duration": 134,
    "start_time": "2022-05-02T10:55:35.627Z"
   },
   {
    "duration": 11,
    "start_time": "2022-05-02T10:56:18.312Z"
   },
   {
    "duration": 4,
    "start_time": "2022-05-02T10:57:10.021Z"
   },
   {
    "duration": 26,
    "start_time": "2022-05-02T11:00:57.366Z"
   },
   {
    "duration": 18,
    "start_time": "2022-05-02T11:13:30.267Z"
   },
   {
    "duration": 26,
    "start_time": "2022-05-02T11:14:01.719Z"
   },
   {
    "duration": 63,
    "start_time": "2022-05-02T11:16:44.709Z"
   },
   {
    "duration": 62,
    "start_time": "2022-05-02T11:16:54.350Z"
   },
   {
    "duration": 99,
    "start_time": "2022-05-02T11:17:41.982Z"
   },
   {
    "duration": 59,
    "start_time": "2022-05-02T11:17:57.442Z"
   },
   {
    "duration": 147,
    "start_time": "2022-05-02T11:21:19.777Z"
   },
   {
    "duration": 7,
    "start_time": "2022-05-02T11:21:41.133Z"
   },
   {
    "duration": 8,
    "start_time": "2022-05-02T11:27:24.813Z"
   },
   {
    "duration": 8,
    "start_time": "2022-05-02T11:27:32.984Z"
   },
   {
    "duration": 11,
    "start_time": "2022-05-02T11:34:15.977Z"
   },
   {
    "duration": 9,
    "start_time": "2022-05-02T11:36:33.229Z"
   },
   {
    "duration": 10,
    "start_time": "2022-05-02T11:37:18.105Z"
   },
   {
    "duration": 8,
    "start_time": "2022-05-02T11:38:25.478Z"
   },
   {
    "duration": 4,
    "start_time": "2022-05-02T12:06:04.370Z"
   },
   {
    "duration": 3,
    "start_time": "2022-05-02T12:06:09.354Z"
   },
   {
    "duration": 8,
    "start_time": "2022-05-02T12:10:07.024Z"
   },
   {
    "duration": 14,
    "start_time": "2022-05-02T12:10:49.003Z"
   },
   {
    "duration": 14,
    "start_time": "2022-05-02T12:13:19.825Z"
   },
   {
    "duration": 7,
    "start_time": "2022-05-02T12:13:44.513Z"
   },
   {
    "duration": 8,
    "start_time": "2022-05-02T12:14:29.085Z"
   },
   {
    "duration": 8,
    "start_time": "2022-05-02T12:16:16.652Z"
   },
   {
    "duration": 8,
    "start_time": "2022-05-02T12:17:20.910Z"
   },
   {
    "duration": 7,
    "start_time": "2022-05-02T12:18:48.506Z"
   },
   {
    "duration": 8,
    "start_time": "2022-05-02T12:18:56.669Z"
   },
   {
    "duration": 8,
    "start_time": "2022-05-02T12:19:07.740Z"
   },
   {
    "duration": 8,
    "start_time": "2022-05-02T12:19:10.533Z"
   },
   {
    "duration": 7,
    "start_time": "2022-05-02T12:19:23.683Z"
   },
   {
    "duration": 8,
    "start_time": "2022-05-02T12:19:40.200Z"
   },
   {
    "duration": 8,
    "start_time": "2022-05-02T12:22:55.373Z"
   },
   {
    "duration": 8,
    "start_time": "2022-05-02T12:28:24.172Z"
   },
   {
    "duration": 8,
    "start_time": "2022-05-02T12:28:26.805Z"
   },
   {
    "duration": 7,
    "start_time": "2022-05-02T12:28:46.226Z"
   },
   {
    "duration": 8,
    "start_time": "2022-05-02T12:31:04.279Z"
   },
   {
    "duration": 6,
    "start_time": "2022-05-02T12:31:32.542Z"
   },
   {
    "duration": 7,
    "start_time": "2022-05-02T12:32:02.627Z"
   },
   {
    "duration": 10,
    "start_time": "2022-05-02T12:33:03.074Z"
   },
   {
    "duration": 137,
    "start_time": "2022-05-02T12:35:12.410Z"
   },
   {
    "duration": 7,
    "start_time": "2022-05-02T12:35:55.718Z"
   },
   {
    "duration": 7,
    "start_time": "2022-05-02T12:36:44.201Z"
   },
   {
    "duration": 7,
    "start_time": "2022-05-02T12:38:48.968Z"
   },
   {
    "duration": 6,
    "start_time": "2022-05-02T12:38:56.615Z"
   },
   {
    "duration": 8,
    "start_time": "2022-05-02T12:43:32.569Z"
   },
   {
    "duration": 7,
    "start_time": "2022-05-02T12:44:45.833Z"
   },
   {
    "duration": 7,
    "start_time": "2022-05-02T12:45:38.232Z"
   },
   {
    "duration": 7,
    "start_time": "2022-05-02T12:46:05.027Z"
   },
   {
    "duration": 144,
    "start_time": "2022-05-02T12:48:32.247Z"
   },
   {
    "duration": 219,
    "start_time": "2022-05-02T12:49:12.338Z"
   },
   {
    "duration": 8,
    "start_time": "2022-05-02T12:49:28.631Z"
   },
   {
    "duration": 6,
    "start_time": "2022-05-02T12:49:52.374Z"
   },
   {
    "duration": 11,
    "start_time": "2022-05-02T12:50:11.744Z"
   },
   {
    "duration": 7,
    "start_time": "2022-05-02T12:50:18.665Z"
   },
   {
    "duration": 7,
    "start_time": "2022-05-02T12:53:52.889Z"
   },
   {
    "duration": 10,
    "start_time": "2022-05-02T12:54:16.755Z"
   },
   {
    "duration": 6,
    "start_time": "2022-05-02T12:56:25.563Z"
   },
   {
    "duration": 3,
    "start_time": "2022-05-02T12:57:18.106Z"
   },
   {
    "duration": 7,
    "start_time": "2022-05-02T12:59:21.145Z"
   },
   {
    "duration": 6,
    "start_time": "2022-05-02T12:59:35.885Z"
   },
   {
    "duration": 3,
    "start_time": "2022-05-02T12:59:53.595Z"
   },
   {
    "duration": 3,
    "start_time": "2022-05-02T12:59:56.665Z"
   },
   {
    "duration": 228,
    "start_time": "2022-05-02T13:00:23.392Z"
   },
   {
    "duration": 10,
    "start_time": "2022-05-02T13:00:27.234Z"
   },
   {
    "duration": 12,
    "start_time": "2022-05-02T13:00:52.084Z"
   },
   {
    "duration": 31,
    "start_time": "2022-05-02T13:00:57.891Z"
   },
   {
    "duration": 5,
    "start_time": "2022-05-02T13:01:04.996Z"
   },
   {
    "duration": 15,
    "start_time": "2022-05-02T13:01:09.612Z"
   },
   {
    "duration": 5,
    "start_time": "2022-05-02T13:01:12.116Z"
   },
   {
    "duration": 28,
    "start_time": "2022-05-02T13:01:14.645Z"
   },
   {
    "duration": 32,
    "start_time": "2022-05-02T13:01:21.985Z"
   },
   {
    "duration": 47,
    "start_time": "2022-05-02T13:01:24.698Z"
   },
   {
    "duration": 68,
    "start_time": "2022-05-02T13:01:28.997Z"
   },
   {
    "duration": 98,
    "start_time": "2022-05-02T13:01:33.096Z"
   },
   {
    "duration": 83,
    "start_time": "2022-05-02T13:01:35.628Z"
   },
   {
    "duration": 11,
    "start_time": "2022-05-02T13:01:40.071Z"
   },
   {
    "duration": 12,
    "start_time": "2022-05-02T13:04:00.353Z"
   },
   {
    "duration": 9,
    "start_time": "2022-05-02T13:04:14.655Z"
   },
   {
    "duration": 3,
    "start_time": "2022-05-02T13:05:26.610Z"
   },
   {
    "duration": 36,
    "start_time": "2022-05-02T13:07:26.423Z"
   },
   {
    "duration": 4,
    "start_time": "2022-05-02T13:08:56.319Z"
   },
   {
    "duration": 164,
    "start_time": "2022-05-02T13:12:15.801Z"
   },
   {
    "duration": 533,
    "start_time": "2022-05-02T13:13:05.374Z"
   },
   {
    "duration": 163,
    "start_time": "2022-05-02T13:13:05.909Z"
   },
   {
    "duration": 17,
    "start_time": "2022-05-02T13:13:06.074Z"
   },
   {
    "duration": 45,
    "start_time": "2022-05-02T13:13:06.094Z"
   },
   {
    "duration": 30,
    "start_time": "2022-05-02T13:13:06.141Z"
   },
   {
    "duration": 41,
    "start_time": "2022-05-02T13:13:06.172Z"
   },
   {
    "duration": 30,
    "start_time": "2022-05-02T13:13:06.215Z"
   },
   {
    "duration": 60,
    "start_time": "2022-05-02T13:13:06.247Z"
   },
   {
    "duration": 57,
    "start_time": "2022-05-02T13:13:06.308Z"
   },
   {
    "duration": 49,
    "start_time": "2022-05-02T13:13:06.369Z"
   },
   {
    "duration": 132,
    "start_time": "2022-05-02T13:13:06.420Z"
   },
   {
    "duration": 71,
    "start_time": "2022-05-02T13:13:06.554Z"
   },
   {
    "duration": 74,
    "start_time": "2022-05-02T13:13:06.627Z"
   },
   {
    "duration": 9,
    "start_time": "2022-05-02T13:13:06.703Z"
   },
   {
    "duration": 147,
    "start_time": "2022-05-02T13:13:06.714Z"
   },
   {
    "duration": 0,
    "start_time": "2022-05-02T13:13:06.863Z"
   },
   {
    "duration": 0,
    "start_time": "2022-05-02T13:13:06.864Z"
   },
   {
    "duration": 0,
    "start_time": "2022-05-02T13:13:06.865Z"
   },
   {
    "duration": 1,
    "start_time": "2022-05-02T13:13:06.865Z"
   },
   {
    "duration": 0,
    "start_time": "2022-05-02T13:13:06.867Z"
   },
   {
    "duration": 0,
    "start_time": "2022-05-02T13:13:06.868Z"
   },
   {
    "duration": 0,
    "start_time": "2022-05-02T13:13:06.870Z"
   },
   {
    "duration": 0,
    "start_time": "2022-05-02T13:13:06.871Z"
   },
   {
    "duration": 0,
    "start_time": "2022-05-02T13:13:06.872Z"
   },
   {
    "duration": 0,
    "start_time": "2022-05-02T13:13:06.874Z"
   },
   {
    "duration": 0,
    "start_time": "2022-05-02T13:13:06.875Z"
   },
   {
    "duration": 0,
    "start_time": "2022-05-02T13:13:06.877Z"
   },
   {
    "duration": 0,
    "start_time": "2022-05-02T13:13:06.878Z"
   },
   {
    "duration": 0,
    "start_time": "2022-05-02T13:13:06.879Z"
   },
   {
    "duration": 0,
    "start_time": "2022-05-02T13:13:06.880Z"
   },
   {
    "duration": 0,
    "start_time": "2022-05-02T13:13:06.881Z"
   },
   {
    "duration": 0,
    "start_time": "2022-05-02T13:13:06.882Z"
   },
   {
    "duration": 0,
    "start_time": "2022-05-02T13:13:06.883Z"
   },
   {
    "duration": 0,
    "start_time": "2022-05-02T13:13:06.884Z"
   },
   {
    "duration": 0,
    "start_time": "2022-05-02T13:13:06.885Z"
   },
   {
    "duration": 0,
    "start_time": "2022-05-02T13:13:06.886Z"
   },
   {
    "duration": 0,
    "start_time": "2022-05-02T13:13:06.888Z"
   },
   {
    "duration": 0,
    "start_time": "2022-05-02T13:13:06.888Z"
   },
   {
    "duration": 4,
    "start_time": "2022-05-02T13:13:37.101Z"
   },
   {
    "duration": 28,
    "start_time": "2022-05-02T13:14:00.297Z"
   },
   {
    "duration": 5,
    "start_time": "2022-05-02T13:14:05.491Z"
   },
   {
    "duration": 36,
    "start_time": "2022-05-02T13:27:31.961Z"
   },
   {
    "duration": 5,
    "start_time": "2022-05-02T13:27:34.899Z"
   },
   {
    "duration": 436,
    "start_time": "2022-05-02T13:28:02.099Z"
   },
   {
    "duration": 161,
    "start_time": "2022-05-02T13:28:02.537Z"
   },
   {
    "duration": 18,
    "start_time": "2022-05-02T13:28:02.699Z"
   },
   {
    "duration": 49,
    "start_time": "2022-05-02T13:28:02.719Z"
   },
   {
    "duration": 15,
    "start_time": "2022-05-02T13:28:02.770Z"
   },
   {
    "duration": 23,
    "start_time": "2022-05-02T13:28:02.787Z"
   },
   {
    "duration": 26,
    "start_time": "2022-05-02T13:28:02.812Z"
   },
   {
    "duration": 62,
    "start_time": "2022-05-02T13:28:02.840Z"
   },
   {
    "duration": 41,
    "start_time": "2022-05-02T13:28:02.904Z"
   },
   {
    "duration": 38,
    "start_time": "2022-05-02T13:28:02.948Z"
   },
   {
    "duration": 76,
    "start_time": "2022-05-02T13:28:02.988Z"
   },
   {
    "duration": 66,
    "start_time": "2022-05-02T13:28:03.066Z"
   },
   {
    "duration": 71,
    "start_time": "2022-05-02T13:28:03.134Z"
   },
   {
    "duration": 9,
    "start_time": "2022-05-02T13:28:03.207Z"
   },
   {
    "duration": 20,
    "start_time": "2022-05-02T13:28:03.217Z"
   },
   {
    "duration": 2485,
    "start_time": "2022-05-02T13:28:03.238Z"
   },
   {
    "duration": 0,
    "start_time": "2022-05-02T13:28:05.725Z"
   },
   {
    "duration": 0,
    "start_time": "2022-05-02T13:28:05.726Z"
   },
   {
    "duration": 0,
    "start_time": "2022-05-02T13:28:05.727Z"
   },
   {
    "duration": 0,
    "start_time": "2022-05-02T13:28:05.728Z"
   },
   {
    "duration": 0,
    "start_time": "2022-05-02T13:28:05.729Z"
   },
   {
    "duration": 0,
    "start_time": "2022-05-02T13:28:05.730Z"
   },
   {
    "duration": 0,
    "start_time": "2022-05-02T13:28:05.731Z"
   },
   {
    "duration": 0,
    "start_time": "2022-05-02T13:28:05.733Z"
   },
   {
    "duration": 0,
    "start_time": "2022-05-02T13:28:05.734Z"
   },
   {
    "duration": 0,
    "start_time": "2022-05-02T13:28:05.735Z"
   },
   {
    "duration": 0,
    "start_time": "2022-05-02T13:28:05.736Z"
   },
   {
    "duration": 0,
    "start_time": "2022-05-02T13:28:05.738Z"
   },
   {
    "duration": 0,
    "start_time": "2022-05-02T13:28:05.738Z"
   },
   {
    "duration": 0,
    "start_time": "2022-05-02T13:28:05.739Z"
   },
   {
    "duration": 0,
    "start_time": "2022-05-02T13:28:05.740Z"
   },
   {
    "duration": 0,
    "start_time": "2022-05-02T13:28:05.741Z"
   },
   {
    "duration": 0,
    "start_time": "2022-05-02T13:28:05.742Z"
   },
   {
    "duration": 0,
    "start_time": "2022-05-02T13:28:05.744Z"
   },
   {
    "duration": 0,
    "start_time": "2022-05-02T13:28:05.745Z"
   },
   {
    "duration": 0,
    "start_time": "2022-05-02T13:28:05.746Z"
   },
   {
    "duration": 0,
    "start_time": "2022-05-02T13:28:05.748Z"
   },
   {
    "duration": 0,
    "start_time": "2022-05-02T13:28:05.749Z"
   },
   {
    "duration": 4,
    "start_time": "2022-05-02T13:31:20.189Z"
   },
   {
    "duration": 2714,
    "start_time": "2022-05-02T13:32:03.299Z"
   },
   {
    "duration": 4,
    "start_time": "2022-05-02T13:32:43.996Z"
   },
   {
    "duration": 13,
    "start_time": "2022-05-02T13:32:46.808Z"
   },
   {
    "duration": 10,
    "start_time": "2022-05-02T13:41:29.484Z"
   },
   {
    "duration": 3,
    "start_time": "2022-05-02T13:41:32.443Z"
   },
   {
    "duration": 10,
    "start_time": "2022-05-02T13:41:35.242Z"
   },
   {
    "duration": 12,
    "start_time": "2022-05-02T13:41:59.990Z"
   },
   {
    "duration": 11,
    "start_time": "2022-05-02T13:42:56.650Z"
   },
   {
    "duration": 5,
    "start_time": "2022-05-02T13:46:06.442Z"
   },
   {
    "duration": 449,
    "start_time": "2022-05-02T13:46:21.389Z"
   },
   {
    "duration": 174,
    "start_time": "2022-05-02T13:46:21.840Z"
   },
   {
    "duration": 19,
    "start_time": "2022-05-02T13:46:22.016Z"
   },
   {
    "duration": 52,
    "start_time": "2022-05-02T13:46:22.037Z"
   },
   {
    "duration": 4,
    "start_time": "2022-05-02T13:46:22.091Z"
   },
   {
    "duration": 20,
    "start_time": "2022-05-02T13:46:22.096Z"
   },
   {
    "duration": 8,
    "start_time": "2022-05-02T13:46:22.118Z"
   },
   {
    "duration": 54,
    "start_time": "2022-05-02T13:46:22.127Z"
   },
   {
    "duration": 23,
    "start_time": "2022-05-02T13:46:22.183Z"
   },
   {
    "duration": 54,
    "start_time": "2022-05-02T13:46:22.210Z"
   },
   {
    "duration": 87,
    "start_time": "2022-05-02T13:46:22.268Z"
   },
   {
    "duration": 79,
    "start_time": "2022-05-02T13:46:22.358Z"
   },
   {
    "duration": 85,
    "start_time": "2022-05-02T13:46:22.439Z"
   },
   {
    "duration": 10,
    "start_time": "2022-05-02T13:46:22.526Z"
   },
   {
    "duration": 122,
    "start_time": "2022-05-02T13:46:22.538Z"
   },
   {
    "duration": 27,
    "start_time": "2022-05-02T13:46:22.663Z"
   },
   {
    "duration": 5,
    "start_time": "2022-05-02T13:46:22.692Z"
   },
   {
    "duration": 4,
    "start_time": "2022-05-02T13:46:22.699Z"
   },
   {
    "duration": 23,
    "start_time": "2022-05-02T13:46:22.705Z"
   },
   {
    "duration": 12,
    "start_time": "2022-05-02T13:46:22.730Z"
   },
   {
    "duration": 48,
    "start_time": "2022-05-02T13:46:22.745Z"
   },
   {
    "duration": 10,
    "start_time": "2022-05-02T13:46:22.795Z"
   },
   {
    "duration": 17,
    "start_time": "2022-05-02T13:46:22.806Z"
   },
   {
    "duration": 8,
    "start_time": "2022-05-02T13:46:22.825Z"
   },
   {
    "duration": 8,
    "start_time": "2022-05-02T13:46:22.834Z"
   },
   {
    "duration": 8,
    "start_time": "2022-05-02T13:46:22.844Z"
   },
   {
    "duration": 19,
    "start_time": "2022-05-02T13:46:22.853Z"
   },
   {
    "duration": 3,
    "start_time": "2022-05-02T13:46:22.877Z"
   },
   {
    "duration": 5,
    "start_time": "2022-05-02T13:46:22.882Z"
   },
   {
    "duration": 5,
    "start_time": "2022-05-02T13:46:22.888Z"
   },
   {
    "duration": 8,
    "start_time": "2022-05-02T13:46:22.895Z"
   },
   {
    "duration": 6,
    "start_time": "2022-05-02T13:46:22.905Z"
   },
   {
    "duration": 7,
    "start_time": "2022-05-02T13:46:22.912Z"
   },
   {
    "duration": 5,
    "start_time": "2022-05-02T13:46:22.921Z"
   },
   {
    "duration": 6,
    "start_time": "2022-05-02T13:46:22.927Z"
   },
   {
    "duration": 5,
    "start_time": "2022-05-02T13:46:22.934Z"
   },
   {
    "duration": 15,
    "start_time": "2022-05-02T13:46:22.941Z"
   },
   {
    "duration": 15,
    "start_time": "2022-05-02T13:46:22.959Z"
   },
   {
    "duration": 16,
    "start_time": "2022-05-02T13:50:48.254Z"
   },
   {
    "duration": 419,
    "start_time": "2022-05-02T13:50:55.572Z"
   },
   {
    "duration": 158,
    "start_time": "2022-05-02T13:50:55.993Z"
   },
   {
    "duration": 26,
    "start_time": "2022-05-02T13:50:56.153Z"
   },
   {
    "duration": 28,
    "start_time": "2022-05-02T13:50:56.181Z"
   },
   {
    "duration": 3,
    "start_time": "2022-05-02T13:50:56.211Z"
   },
   {
    "duration": 14,
    "start_time": "2022-05-02T13:50:56.216Z"
   },
   {
    "duration": 6,
    "start_time": "2022-05-02T13:50:56.256Z"
   },
   {
    "duration": 34,
    "start_time": "2022-05-02T13:50:56.264Z"
   },
   {
    "duration": 17,
    "start_time": "2022-05-02T13:50:56.300Z"
   },
   {
    "duration": 36,
    "start_time": "2022-05-02T13:50:56.320Z"
   },
   {
    "duration": 72,
    "start_time": "2022-05-02T13:50:56.358Z"
   },
   {
    "duration": 87,
    "start_time": "2022-05-02T13:50:56.432Z"
   },
   {
    "duration": 73,
    "start_time": "2022-05-02T13:50:56.520Z"
   },
   {
    "duration": 9,
    "start_time": "2022-05-02T13:50:56.595Z"
   },
   {
    "duration": 4,
    "start_time": "2022-05-02T13:50:56.606Z"
   },
   {
    "duration": 11,
    "start_time": "2022-05-02T13:50:56.612Z"
   },
   {
    "duration": 4,
    "start_time": "2022-05-02T13:50:56.625Z"
   },
   {
    "duration": 4,
    "start_time": "2022-05-02T13:50:56.655Z"
   },
   {
    "duration": 34,
    "start_time": "2022-05-02T13:50:56.661Z"
   },
   {
    "duration": 17,
    "start_time": "2022-05-02T13:50:56.697Z"
   },
   {
    "duration": 8,
    "start_time": "2022-05-02T13:50:56.715Z"
   },
   {
    "duration": 5,
    "start_time": "2022-05-02T13:50:56.725Z"
   },
   {
    "duration": 5,
    "start_time": "2022-05-02T13:50:56.731Z"
   },
   {
    "duration": 5,
    "start_time": "2022-05-02T13:50:56.738Z"
   },
   {
    "duration": 5,
    "start_time": "2022-05-02T13:50:56.744Z"
   },
   {
    "duration": 19,
    "start_time": "2022-05-02T13:50:56.751Z"
   },
   {
    "duration": 6,
    "start_time": "2022-05-02T13:50:56.772Z"
   },
   {
    "duration": 6,
    "start_time": "2022-05-02T13:50:56.781Z"
   },
   {
    "duration": 9,
    "start_time": "2022-05-02T13:50:56.788Z"
   },
   {
    "duration": 5,
    "start_time": "2022-05-02T13:50:56.799Z"
   },
   {
    "duration": 6,
    "start_time": "2022-05-02T13:50:56.806Z"
   },
   {
    "duration": 5,
    "start_time": "2022-05-02T13:50:56.814Z"
   },
   {
    "duration": 9,
    "start_time": "2022-05-02T13:50:56.821Z"
   },
   {
    "duration": 5,
    "start_time": "2022-05-02T13:50:56.831Z"
   },
   {
    "duration": 5,
    "start_time": "2022-05-02T13:50:56.838Z"
   },
   {
    "duration": 4,
    "start_time": "2022-05-02T13:50:56.844Z"
   },
   {
    "duration": 4,
    "start_time": "2022-05-02T13:50:56.850Z"
   },
   {
    "duration": 15,
    "start_time": "2022-05-02T13:50:56.856Z"
   },
   {
    "duration": 4,
    "start_time": "2022-05-02T13:58:41.392Z"
   },
   {
    "duration": 1414,
    "start_time": "2022-05-02T13:58:44.661Z"
   },
   {
    "duration": 422,
    "start_time": "2022-05-02T13:58:58.671Z"
   },
   {
    "duration": 151,
    "start_time": "2022-05-02T13:58:59.095Z"
   },
   {
    "duration": 21,
    "start_time": "2022-05-02T13:58:59.248Z"
   },
   {
    "duration": 30,
    "start_time": "2022-05-02T13:58:59.271Z"
   },
   {
    "duration": 23,
    "start_time": "2022-05-02T13:58:59.302Z"
   },
   {
    "duration": 44,
    "start_time": "2022-05-02T13:58:59.327Z"
   },
   {
    "duration": 24,
    "start_time": "2022-05-02T13:58:59.374Z"
   },
   {
    "duration": 82,
    "start_time": "2022-05-02T13:58:59.400Z"
   },
   {
    "duration": 20,
    "start_time": "2022-05-02T13:58:59.484Z"
   },
   {
    "duration": 25,
    "start_time": "2022-05-02T13:58:59.507Z"
   },
   {
    "duration": 87,
    "start_time": "2022-05-02T13:58:59.533Z"
   },
   {
    "duration": 84,
    "start_time": "2022-05-02T13:58:59.621Z"
   },
   {
    "duration": 78,
    "start_time": "2022-05-02T13:58:59.707Z"
   },
   {
    "duration": 9,
    "start_time": "2022-05-02T13:58:59.787Z"
   },
   {
    "duration": 12,
    "start_time": "2022-05-02T13:58:59.797Z"
   },
   {
    "duration": 24,
    "start_time": "2022-05-02T13:58:59.810Z"
   },
   {
    "duration": 4,
    "start_time": "2022-05-02T13:58:59.836Z"
   },
   {
    "duration": 16,
    "start_time": "2022-05-02T13:58:59.842Z"
   },
   {
    "duration": 10,
    "start_time": "2022-05-02T13:58:59.860Z"
   },
   {
    "duration": 15,
    "start_time": "2022-05-02T13:58:59.872Z"
   },
   {
    "duration": 15,
    "start_time": "2022-05-02T13:58:59.888Z"
   },
   {
    "duration": 40,
    "start_time": "2022-05-02T13:58:59.904Z"
   },
   {
    "duration": 52,
    "start_time": "2022-05-02T13:58:59.946Z"
   },
   {
    "duration": 90,
    "start_time": "2022-05-02T13:59:00.000Z"
   },
   {
    "duration": 57,
    "start_time": "2022-05-02T13:59:00.092Z"
   },
   {
    "duration": 67,
    "start_time": "2022-05-02T13:59:00.150Z"
   },
   {
    "duration": 5,
    "start_time": "2022-05-02T13:59:00.219Z"
   },
   {
    "duration": 6,
    "start_time": "2022-05-02T13:59:00.227Z"
   },
   {
    "duration": 5,
    "start_time": "2022-05-02T13:59:00.234Z"
   },
   {
    "duration": 4,
    "start_time": "2022-05-02T13:59:00.241Z"
   },
   {
    "duration": 10,
    "start_time": "2022-05-02T13:59:00.247Z"
   },
   {
    "duration": 7,
    "start_time": "2022-05-02T13:59:00.261Z"
   },
   {
    "duration": 15,
    "start_time": "2022-05-02T13:59:00.270Z"
   },
   {
    "duration": 5,
    "start_time": "2022-05-02T13:59:00.287Z"
   },
   {
    "duration": 5,
    "start_time": "2022-05-02T13:59:00.293Z"
   },
   {
    "duration": 6,
    "start_time": "2022-05-02T13:59:00.299Z"
   },
   {
    "duration": 6,
    "start_time": "2022-05-02T13:59:00.306Z"
   },
   {
    "duration": 4,
    "start_time": "2022-05-02T13:59:00.313Z"
   },
   {
    "duration": 3,
    "start_time": "2022-05-02T14:08:34.908Z"
   },
   {
    "duration": 11,
    "start_time": "2022-05-02T14:08:39.831Z"
   },
   {
    "duration": 5,
    "start_time": "2022-05-02T14:08:43.740Z"
   },
   {
    "duration": 13,
    "start_time": "2022-05-02T14:15:40.981Z"
   },
   {
    "duration": 471,
    "start_time": "2022-05-02T14:16:38.657Z"
   },
   {
    "duration": 153,
    "start_time": "2022-05-02T14:16:39.130Z"
   },
   {
    "duration": 18,
    "start_time": "2022-05-02T14:16:39.285Z"
   },
   {
    "duration": 46,
    "start_time": "2022-05-02T14:16:39.305Z"
   },
   {
    "duration": 7,
    "start_time": "2022-05-02T14:16:39.354Z"
   },
   {
    "duration": 27,
    "start_time": "2022-05-02T14:16:39.363Z"
   },
   {
    "duration": 22,
    "start_time": "2022-05-02T14:16:39.392Z"
   },
   {
    "duration": 39,
    "start_time": "2022-05-02T14:16:39.416Z"
   },
   {
    "duration": 29,
    "start_time": "2022-05-02T14:16:39.457Z"
   },
   {
    "duration": 27,
    "start_time": "2022-05-02T14:16:39.489Z"
   },
   {
    "duration": 83,
    "start_time": "2022-05-02T14:16:39.518Z"
   },
   {
    "duration": 88,
    "start_time": "2022-05-02T14:16:39.603Z"
   },
   {
    "duration": 79,
    "start_time": "2022-05-02T14:16:39.693Z"
   },
   {
    "duration": 10,
    "start_time": "2022-05-02T14:16:39.774Z"
   },
   {
    "duration": 15,
    "start_time": "2022-05-02T14:16:39.786Z"
   },
   {
    "duration": 26,
    "start_time": "2022-05-02T14:16:39.803Z"
   },
   {
    "duration": 15,
    "start_time": "2022-05-02T14:16:39.832Z"
   },
   {
    "duration": 17,
    "start_time": "2022-05-02T14:16:39.849Z"
   },
   {
    "duration": 23,
    "start_time": "2022-05-02T14:16:39.868Z"
   },
   {
    "duration": 13,
    "start_time": "2022-05-02T14:16:39.894Z"
   },
   {
    "duration": 35,
    "start_time": "2022-05-02T14:16:39.909Z"
   },
   {
    "duration": 25,
    "start_time": "2022-05-02T14:16:39.946Z"
   },
   {
    "duration": 21,
    "start_time": "2022-05-02T14:16:39.973Z"
   },
   {
    "duration": 19,
    "start_time": "2022-05-02T14:16:39.996Z"
   },
   {
    "duration": 31,
    "start_time": "2022-05-02T14:16:40.017Z"
   },
   {
    "duration": 28,
    "start_time": "2022-05-02T14:16:40.050Z"
   },
   {
    "duration": 21,
    "start_time": "2022-05-02T14:16:40.080Z"
   },
   {
    "duration": 19,
    "start_time": "2022-05-02T14:16:40.104Z"
   },
   {
    "duration": 31,
    "start_time": "2022-05-02T14:16:40.125Z"
   },
   {
    "duration": 30,
    "start_time": "2022-05-02T14:16:40.158Z"
   },
   {
    "duration": 30,
    "start_time": "2022-05-02T14:16:40.190Z"
   },
   {
    "duration": 22,
    "start_time": "2022-05-02T14:16:40.222Z"
   },
   {
    "duration": 33,
    "start_time": "2022-05-02T14:16:40.246Z"
   },
   {
    "duration": 21,
    "start_time": "2022-05-02T14:16:40.281Z"
   },
   {
    "duration": 20,
    "start_time": "2022-05-02T14:16:40.304Z"
   },
   {
    "duration": 27,
    "start_time": "2022-05-02T14:16:40.325Z"
   },
   {
    "duration": 23,
    "start_time": "2022-05-02T14:16:40.353Z"
   },
   {
    "duration": 30,
    "start_time": "2022-05-02T14:16:40.378Z"
   },
   {
    "duration": 8,
    "start_time": "2022-05-02T14:18:15.359Z"
   },
   {
    "duration": 6,
    "start_time": "2022-05-02T14:18:52.672Z"
   },
   {
    "duration": 8,
    "start_time": "2022-05-02T14:21:17.001Z"
   },
   {
    "duration": 6,
    "start_time": "2022-05-02T14:23:58.366Z"
   },
   {
    "duration": 8,
    "start_time": "2022-05-02T14:25:34.822Z"
   },
   {
    "duration": 11,
    "start_time": "2022-05-02T14:25:47.491Z"
   },
   {
    "duration": 7,
    "start_time": "2022-05-02T14:25:59.340Z"
   },
   {
    "duration": 7,
    "start_time": "2022-05-02T14:26:02.495Z"
   },
   {
    "duration": 469,
    "start_time": "2022-05-02T14:26:13.790Z"
   },
   {
    "duration": 152,
    "start_time": "2022-05-02T14:26:14.262Z"
   },
   {
    "duration": 16,
    "start_time": "2022-05-02T14:26:14.415Z"
   },
   {
    "duration": 63,
    "start_time": "2022-05-02T14:26:14.433Z"
   },
   {
    "duration": 4,
    "start_time": "2022-05-02T14:26:14.498Z"
   },
   {
    "duration": 17,
    "start_time": "2022-05-02T14:26:14.504Z"
   },
   {
    "duration": 8,
    "start_time": "2022-05-02T14:26:14.523Z"
   },
   {
    "duration": 39,
    "start_time": "2022-05-02T14:26:14.532Z"
   },
   {
    "duration": 22,
    "start_time": "2022-05-02T14:26:14.573Z"
   },
   {
    "duration": 24,
    "start_time": "2022-05-02T14:26:14.598Z"
   },
   {
    "duration": 75,
    "start_time": "2022-05-02T14:26:14.624Z"
   },
   {
    "duration": 85,
    "start_time": "2022-05-02T14:26:14.700Z"
   },
   {
    "duration": 74,
    "start_time": "2022-05-02T14:26:14.787Z"
   },
   {
    "duration": 12,
    "start_time": "2022-05-02T14:26:14.863Z"
   },
   {
    "duration": 4,
    "start_time": "2022-05-02T14:26:14.877Z"
   },
   {
    "duration": 12,
    "start_time": "2022-05-02T14:26:14.882Z"
   },
   {
    "duration": 4,
    "start_time": "2022-05-02T14:26:14.895Z"
   },
   {
    "duration": 10,
    "start_time": "2022-05-02T14:26:14.901Z"
   },
   {
    "duration": 6,
    "start_time": "2022-05-02T14:26:14.912Z"
   },
   {
    "duration": 5,
    "start_time": "2022-05-02T14:26:14.919Z"
   },
   {
    "duration": 5,
    "start_time": "2022-05-02T14:26:14.925Z"
   },
   {
    "duration": 26,
    "start_time": "2022-05-02T14:26:14.931Z"
   },
   {
    "duration": 13,
    "start_time": "2022-05-02T14:26:14.959Z"
   },
   {
    "duration": 7,
    "start_time": "2022-05-02T14:26:14.974Z"
   },
   {
    "duration": 5,
    "start_time": "2022-05-02T14:26:14.983Z"
   },
   {
    "duration": 5,
    "start_time": "2022-05-02T14:26:14.989Z"
   },
   {
    "duration": 5,
    "start_time": "2022-05-02T14:26:14.995Z"
   },
   {
    "duration": 30,
    "start_time": "2022-05-02T14:26:15.005Z"
   },
   {
    "duration": 9,
    "start_time": "2022-05-02T14:26:15.037Z"
   },
   {
    "duration": 25,
    "start_time": "2022-05-02T14:26:15.049Z"
   },
   {
    "duration": 14,
    "start_time": "2022-05-02T14:26:15.076Z"
   },
   {
    "duration": 12,
    "start_time": "2022-05-02T14:26:15.091Z"
   },
   {
    "duration": 10,
    "start_time": "2022-05-02T14:26:15.104Z"
   },
   {
    "duration": 6,
    "start_time": "2022-05-02T14:26:15.115Z"
   },
   {
    "duration": 5,
    "start_time": "2022-05-02T14:26:15.122Z"
   },
   {
    "duration": 5,
    "start_time": "2022-05-02T14:26:15.128Z"
   },
   {
    "duration": 5,
    "start_time": "2022-05-02T14:26:15.135Z"
   },
   {
    "duration": 5,
    "start_time": "2022-05-02T14:26:15.141Z"
   },
   {
    "duration": 4,
    "start_time": "2022-05-02T14:27:42.571Z"
   },
   {
    "duration": 10,
    "start_time": "2022-05-02T14:28:01.841Z"
   },
   {
    "duration": 10,
    "start_time": "2022-05-02T14:37:25.895Z"
   },
   {
    "duration": 6,
    "start_time": "2022-05-02T14:38:04.683Z"
   },
   {
    "duration": 9,
    "start_time": "2022-05-02T14:38:57.389Z"
   },
   {
    "duration": 9,
    "start_time": "2022-05-02T14:39:00.806Z"
   },
   {
    "duration": 105,
    "start_time": "2022-05-02T14:42:03.999Z"
   },
   {
    "duration": 23,
    "start_time": "2022-05-02T14:44:42.811Z"
   },
   {
    "duration": 22,
    "start_time": "2022-05-02T14:45:09.823Z"
   },
   {
    "duration": 12,
    "start_time": "2022-05-02T14:45:17.828Z"
   },
   {
    "duration": 48,
    "start_time": "2022-05-03T08:13:48.154Z"
   },
   {
    "duration": 6,
    "start_time": "2022-05-03T08:14:10.631Z"
   },
   {
    "duration": 8,
    "start_time": "2022-05-03T08:14:22.687Z"
   },
   {
    "duration": 386,
    "start_time": "2022-05-03T08:14:37.653Z"
   },
   {
    "duration": 169,
    "start_time": "2022-05-03T08:14:38.041Z"
   },
   {
    "duration": 19,
    "start_time": "2022-05-03T08:14:38.212Z"
   },
   {
    "duration": 39,
    "start_time": "2022-05-03T08:14:38.234Z"
   },
   {
    "duration": 5,
    "start_time": "2022-05-03T08:14:38.275Z"
   },
   {
    "duration": 31,
    "start_time": "2022-05-03T08:14:38.282Z"
   },
   {
    "duration": 12,
    "start_time": "2022-05-03T08:14:38.315Z"
   },
   {
    "duration": 41,
    "start_time": "2022-05-03T08:14:38.329Z"
   },
   {
    "duration": 35,
    "start_time": "2022-05-03T08:14:38.372Z"
   },
   {
    "duration": 26,
    "start_time": "2022-05-03T08:14:38.410Z"
   },
   {
    "duration": 81,
    "start_time": "2022-05-03T08:14:38.437Z"
   },
   {
    "duration": 71,
    "start_time": "2022-05-03T08:14:38.520Z"
   },
   {
    "duration": 74,
    "start_time": "2022-05-03T08:14:38.593Z"
   },
   {
    "duration": 10,
    "start_time": "2022-05-03T08:14:38.668Z"
   },
   {
    "duration": 3,
    "start_time": "2022-05-03T08:14:38.679Z"
   },
   {
    "duration": 10,
    "start_time": "2022-05-03T08:14:38.708Z"
   },
   {
    "duration": 9,
    "start_time": "2022-05-03T08:14:38.720Z"
   },
   {
    "duration": 3,
    "start_time": "2022-05-03T08:14:38.731Z"
   },
   {
    "duration": 5,
    "start_time": "2022-05-03T08:14:38.735Z"
   },
   {
    "duration": 3,
    "start_time": "2022-05-03T08:14:38.743Z"
   },
   {
    "duration": 4,
    "start_time": "2022-05-03T08:14:38.748Z"
   },
   {
    "duration": 5,
    "start_time": "2022-05-03T08:14:38.754Z"
   },
   {
    "duration": 4,
    "start_time": "2022-05-03T08:14:38.761Z"
   },
   {
    "duration": 41,
    "start_time": "2022-05-03T08:14:38.768Z"
   },
   {
    "duration": 4,
    "start_time": "2022-05-03T08:14:38.811Z"
   },
   {
    "duration": 5,
    "start_time": "2022-05-03T08:14:38.817Z"
   },
   {
    "duration": 4,
    "start_time": "2022-05-03T08:14:38.823Z"
   },
   {
    "duration": 3,
    "start_time": "2022-05-03T08:14:38.831Z"
   },
   {
    "duration": 4,
    "start_time": "2022-05-03T08:14:38.836Z"
   },
   {
    "duration": 8,
    "start_time": "2022-05-03T08:14:38.841Z"
   },
   {
    "duration": 7,
    "start_time": "2022-05-03T08:14:38.850Z"
   },
   {
    "duration": 4,
    "start_time": "2022-05-03T08:14:38.858Z"
   },
   {
    "duration": 6,
    "start_time": "2022-05-03T08:14:38.864Z"
   },
   {
    "duration": 37,
    "start_time": "2022-05-03T08:14:38.871Z"
   },
   {
    "duration": 4,
    "start_time": "2022-05-03T08:14:38.910Z"
   },
   {
    "duration": 5,
    "start_time": "2022-05-03T08:14:38.916Z"
   },
   {
    "duration": 4,
    "start_time": "2022-05-03T08:14:38.923Z"
   },
   {
    "duration": 5,
    "start_time": "2022-05-03T08:14:38.928Z"
   },
   {
    "duration": 24,
    "start_time": "2022-05-03T08:15:17.781Z"
   },
   {
    "duration": 46,
    "start_time": "2022-05-03T08:15:46.877Z"
   },
   {
    "duration": 32,
    "start_time": "2022-05-03T08:16:52.593Z"
   },
   {
    "duration": 75,
    "start_time": "2022-05-03T08:18:13.261Z"
   },
   {
    "duration": 11,
    "start_time": "2022-05-03T08:19:14.639Z"
   },
   {
    "duration": 11,
    "start_time": "2022-05-03T08:21:50.722Z"
   },
   {
    "duration": 12,
    "start_time": "2022-05-03T08:22:09.179Z"
   },
   {
    "duration": 22,
    "start_time": "2022-05-03T08:23:14.429Z"
   },
   {
    "duration": 15,
    "start_time": "2022-05-03T08:25:09.904Z"
   },
   {
    "duration": 13,
    "start_time": "2022-05-03T08:25:37.065Z"
   },
   {
    "duration": 19,
    "start_time": "2022-05-03T08:27:39.934Z"
   },
   {
    "duration": 16,
    "start_time": "2022-05-03T08:27:47.919Z"
   },
   {
    "duration": 17,
    "start_time": "2022-05-03T08:29:36.888Z"
   },
   {
    "duration": 18,
    "start_time": "2022-05-03T08:29:44.363Z"
   },
   {
    "duration": 18,
    "start_time": "2022-05-03T08:29:49.203Z"
   },
   {
    "duration": 18,
    "start_time": "2022-05-03T08:30:47.084Z"
   },
   {
    "duration": 17,
    "start_time": "2022-05-03T08:30:54.902Z"
   },
   {
    "duration": 111,
    "start_time": "2022-05-03T09:14:41.584Z"
   },
   {
    "duration": 542,
    "start_time": "2022-05-03T09:14:54.275Z"
   },
   {
    "duration": 230,
    "start_time": "2022-05-03T09:14:54.820Z"
   },
   {
    "duration": 21,
    "start_time": "2022-05-03T09:14:55.052Z"
   },
   {
    "duration": 52,
    "start_time": "2022-05-03T09:14:55.075Z"
   },
   {
    "duration": 5,
    "start_time": "2022-05-03T09:14:55.129Z"
   },
   {
    "duration": 20,
    "start_time": "2022-05-03T09:14:55.136Z"
   },
   {
    "duration": 10,
    "start_time": "2022-05-03T09:14:55.158Z"
   },
   {
    "duration": 71,
    "start_time": "2022-05-03T09:14:55.170Z"
   },
   {
    "duration": 30,
    "start_time": "2022-05-03T09:14:55.243Z"
   },
   {
    "duration": 65,
    "start_time": "2022-05-03T09:14:55.277Z"
   },
   {
    "duration": 82,
    "start_time": "2022-05-03T09:14:55.344Z"
   },
   {
    "duration": 104,
    "start_time": "2022-05-03T09:14:55.428Z"
   },
   {
    "duration": 73,
    "start_time": "2022-05-03T09:14:55.534Z"
   },
   {
    "duration": 10,
    "start_time": "2022-05-03T09:14:55.609Z"
   },
   {
    "duration": 4,
    "start_time": "2022-05-03T09:14:55.621Z"
   },
   {
    "duration": 11,
    "start_time": "2022-05-03T09:14:55.626Z"
   },
   {
    "duration": 9,
    "start_time": "2022-05-03T09:14:55.639Z"
   },
   {
    "duration": 15,
    "start_time": "2022-05-03T09:14:55.650Z"
   },
   {
    "duration": 50,
    "start_time": "2022-05-03T09:14:55.666Z"
   },
   {
    "duration": 106,
    "start_time": "2022-05-03T09:14:55.718Z"
   },
   {
    "duration": 3,
    "start_time": "2022-05-03T09:14:55.825Z"
   },
   {
    "duration": 6,
    "start_time": "2022-05-03T09:14:55.830Z"
   },
   {
    "duration": 4,
    "start_time": "2022-05-03T09:14:55.839Z"
   },
   {
    "duration": 3,
    "start_time": "2022-05-03T09:14:55.845Z"
   },
   {
    "duration": 4,
    "start_time": "2022-05-03T09:14:55.851Z"
   },
   {
    "duration": 5,
    "start_time": "2022-05-03T09:14:55.857Z"
   },
   {
    "duration": 4,
    "start_time": "2022-05-03T09:14:55.864Z"
   },
   {
    "duration": 3,
    "start_time": "2022-05-03T09:14:55.910Z"
   },
   {
    "duration": 5,
    "start_time": "2022-05-03T09:14:55.915Z"
   },
   {
    "duration": 4,
    "start_time": "2022-05-03T09:14:55.922Z"
   },
   {
    "duration": 6,
    "start_time": "2022-05-03T09:14:55.928Z"
   },
   {
    "duration": 5,
    "start_time": "2022-05-03T09:14:55.936Z"
   },
   {
    "duration": 8,
    "start_time": "2022-05-03T09:14:55.943Z"
   },
   {
    "duration": 6,
    "start_time": "2022-05-03T09:14:55.953Z"
   },
   {
    "duration": 4,
    "start_time": "2022-05-03T09:14:55.961Z"
   },
   {
    "duration": 42,
    "start_time": "2022-05-03T09:14:55.966Z"
   },
   {
    "duration": 6,
    "start_time": "2022-05-03T09:14:56.009Z"
   },
   {
    "duration": 5,
    "start_time": "2022-05-03T09:14:56.017Z"
   },
   {
    "duration": 82,
    "start_time": "2022-05-03T09:19:04.260Z"
   },
   {
    "duration": 17,
    "start_time": "2022-05-03T09:21:39.428Z"
   },
   {
    "duration": 435,
    "start_time": "2022-05-03T09:22:39.294Z"
   },
   {
    "duration": 168,
    "start_time": "2022-05-03T09:22:39.732Z"
   },
   {
    "duration": 20,
    "start_time": "2022-05-03T09:22:39.902Z"
   },
   {
    "duration": 33,
    "start_time": "2022-05-03T09:22:39.924Z"
   },
   {
    "duration": 4,
    "start_time": "2022-05-03T09:22:39.959Z"
   },
   {
    "duration": 48,
    "start_time": "2022-05-03T09:22:39.965Z"
   },
   {
    "duration": 10,
    "start_time": "2022-05-03T09:22:40.015Z"
   },
   {
    "duration": 29,
    "start_time": "2022-05-03T09:22:40.027Z"
   },
   {
    "duration": 21,
    "start_time": "2022-05-03T09:22:40.058Z"
   },
   {
    "duration": 49,
    "start_time": "2022-05-03T09:22:40.083Z"
   },
   {
    "duration": 87,
    "start_time": "2022-05-03T09:22:40.134Z"
   },
   {
    "duration": 84,
    "start_time": "2022-05-03T09:22:40.223Z"
   },
   {
    "duration": 63,
    "start_time": "2022-05-03T09:22:40.309Z"
   },
   {
    "duration": 10,
    "start_time": "2022-05-03T09:22:40.374Z"
   },
   {
    "duration": 3,
    "start_time": "2022-05-03T09:22:40.408Z"
   },
   {
    "duration": 14,
    "start_time": "2022-05-03T09:22:40.413Z"
   },
   {
    "duration": 10,
    "start_time": "2022-05-03T09:22:40.429Z"
   },
   {
    "duration": 13,
    "start_time": "2022-05-03T09:22:40.441Z"
   },
   {
    "duration": 13,
    "start_time": "2022-05-03T09:22:40.456Z"
   },
   {
    "duration": 106,
    "start_time": "2022-05-03T09:22:40.471Z"
   },
   {
    "duration": 5,
    "start_time": "2022-05-03T09:22:40.579Z"
   },
   {
    "duration": 23,
    "start_time": "2022-05-03T09:22:40.586Z"
   },
   {
    "duration": 4,
    "start_time": "2022-05-03T09:22:40.611Z"
   },
   {
    "duration": 6,
    "start_time": "2022-05-03T09:22:40.617Z"
   },
   {
    "duration": 6,
    "start_time": "2022-05-03T09:22:40.625Z"
   },
   {
    "duration": 7,
    "start_time": "2022-05-03T09:22:40.633Z"
   },
   {
    "duration": 117,
    "start_time": "2022-05-03T09:22:40.642Z"
   },
   {
    "duration": 0,
    "start_time": "2022-05-03T09:22:40.763Z"
   },
   {
    "duration": 0,
    "start_time": "2022-05-03T09:22:40.764Z"
   },
   {
    "duration": 0,
    "start_time": "2022-05-03T09:22:40.765Z"
   },
   {
    "duration": 0,
    "start_time": "2022-05-03T09:22:40.767Z"
   },
   {
    "duration": 0,
    "start_time": "2022-05-03T09:22:40.769Z"
   },
   {
    "duration": 0,
    "start_time": "2022-05-03T09:22:40.771Z"
   },
   {
    "duration": 0,
    "start_time": "2022-05-03T09:22:40.772Z"
   },
   {
    "duration": 0,
    "start_time": "2022-05-03T09:22:40.774Z"
   },
   {
    "duration": 0,
    "start_time": "2022-05-03T09:22:40.775Z"
   },
   {
    "duration": 0,
    "start_time": "2022-05-03T09:22:40.777Z"
   },
   {
    "duration": 0,
    "start_time": "2022-05-03T09:22:40.807Z"
   },
   {
    "duration": 10,
    "start_time": "2022-05-03T09:23:53.012Z"
   },
   {
    "duration": 12,
    "start_time": "2022-05-03T09:29:11.843Z"
   },
   {
    "duration": 10,
    "start_time": "2022-05-03T09:29:49.479Z"
   },
   {
    "duration": 9,
    "start_time": "2022-05-03T09:41:33.261Z"
   },
   {
    "duration": 4,
    "start_time": "2022-05-03T09:45:28.900Z"
   },
   {
    "duration": 62,
    "start_time": "2022-05-03T09:47:46.520Z"
   },
   {
    "duration": 3,
    "start_time": "2022-05-03T09:49:44.987Z"
   },
   {
    "duration": 5,
    "start_time": "2022-05-03T09:57:27.992Z"
   },
   {
    "duration": 7,
    "start_time": "2022-05-03T09:59:02.297Z"
   },
   {
    "duration": 47,
    "start_time": "2022-05-03T09:59:11.389Z"
   },
   {
    "duration": 5,
    "start_time": "2022-05-03T10:02:05.361Z"
   },
   {
    "duration": 4,
    "start_time": "2022-05-03T10:03:41.935Z"
   },
   {
    "duration": 449,
    "start_time": "2022-05-03T10:04:07.475Z"
   },
   {
    "duration": 161,
    "start_time": "2022-05-03T10:04:07.926Z"
   },
   {
    "duration": 19,
    "start_time": "2022-05-03T10:04:08.089Z"
   },
   {
    "duration": 31,
    "start_time": "2022-05-03T10:04:08.111Z"
   },
   {
    "duration": 4,
    "start_time": "2022-05-03T10:04:08.144Z"
   },
   {
    "duration": 14,
    "start_time": "2022-05-03T10:04:08.150Z"
   },
   {
    "duration": 15,
    "start_time": "2022-05-03T10:04:08.166Z"
   },
   {
    "duration": 27,
    "start_time": "2022-05-03T10:04:08.208Z"
   },
   {
    "duration": 38,
    "start_time": "2022-05-03T10:04:08.237Z"
   },
   {
    "duration": 31,
    "start_time": "2022-05-03T10:04:08.279Z"
   },
   {
    "duration": 71,
    "start_time": "2022-05-03T10:04:08.312Z"
   },
   {
    "duration": 88,
    "start_time": "2022-05-03T10:04:08.385Z"
   },
   {
    "duration": 78,
    "start_time": "2022-05-03T10:04:08.474Z"
   },
   {
    "duration": 9,
    "start_time": "2022-05-03T10:04:08.554Z"
   },
   {
    "duration": 3,
    "start_time": "2022-05-03T10:04:08.565Z"
   },
   {
    "duration": 11,
    "start_time": "2022-05-03T10:04:08.570Z"
   },
   {
    "duration": 25,
    "start_time": "2022-05-03T10:04:08.583Z"
   },
   {
    "duration": 13,
    "start_time": "2022-05-03T10:04:08.610Z"
   },
   {
    "duration": 11,
    "start_time": "2022-05-03T10:04:08.625Z"
   },
   {
    "duration": 100,
    "start_time": "2022-05-03T10:04:08.638Z"
   },
   {
    "duration": 3,
    "start_time": "2022-05-03T10:04:08.740Z"
   },
   {
    "duration": 7,
    "start_time": "2022-05-03T10:04:08.745Z"
   },
   {
    "duration": 4,
    "start_time": "2022-05-03T10:04:08.754Z"
   },
   {
    "duration": 5,
    "start_time": "2022-05-03T10:04:08.760Z"
   },
   {
    "duration": 4,
    "start_time": "2022-05-03T10:04:08.767Z"
   },
   {
    "duration": 37,
    "start_time": "2022-05-03T10:04:08.773Z"
   },
   {
    "duration": 10,
    "start_time": "2022-05-03T10:04:08.812Z"
   },
   {
    "duration": 12,
    "start_time": "2022-05-03T10:04:08.826Z"
   },
   {
    "duration": 10,
    "start_time": "2022-05-03T10:04:08.839Z"
   },
   {
    "duration": 4,
    "start_time": "2022-05-03T10:04:08.851Z"
   },
   {
    "duration": 85,
    "start_time": "2022-05-03T10:04:08.857Z"
   },
   {
    "duration": 2,
    "start_time": "2022-05-03T10:04:08.944Z"
   },
   {
    "duration": 5,
    "start_time": "2022-05-03T10:04:08.947Z"
   },
   {
    "duration": 4,
    "start_time": "2022-05-03T10:04:08.954Z"
   },
   {
    "duration": 4,
    "start_time": "2022-05-03T10:04:08.959Z"
   },
   {
    "duration": 4,
    "start_time": "2022-05-03T10:04:08.965Z"
   },
   {
    "duration": 4,
    "start_time": "2022-05-03T10:04:08.970Z"
   },
   {
    "duration": 4,
    "start_time": "2022-05-03T10:04:08.976Z"
   },
   {
    "duration": 431,
    "start_time": "2022-05-03T10:05:13.103Z"
   },
   {
    "duration": 166,
    "start_time": "2022-05-03T10:05:13.536Z"
   },
   {
    "duration": 20,
    "start_time": "2022-05-03T10:05:13.704Z"
   },
   {
    "duration": 33,
    "start_time": "2022-05-03T10:05:13.726Z"
   },
   {
    "duration": 4,
    "start_time": "2022-05-03T10:05:13.763Z"
   },
   {
    "duration": 43,
    "start_time": "2022-05-03T10:05:13.769Z"
   },
   {
    "duration": 6,
    "start_time": "2022-05-03T10:05:13.814Z"
   },
   {
    "duration": 29,
    "start_time": "2022-05-03T10:05:13.822Z"
   },
   {
    "duration": 21,
    "start_time": "2022-05-03T10:05:13.853Z"
   },
   {
    "duration": 54,
    "start_time": "2022-05-03T10:05:13.876Z"
   },
   {
    "duration": 90,
    "start_time": "2022-05-03T10:05:13.931Z"
   },
   {
    "duration": 91,
    "start_time": "2022-05-03T10:05:14.023Z"
   },
   {
    "duration": 66,
    "start_time": "2022-05-03T10:05:14.116Z"
   },
   {
    "duration": 22,
    "start_time": "2022-05-03T10:05:14.187Z"
   },
   {
    "duration": 31,
    "start_time": "2022-05-03T10:05:14.210Z"
   },
   {
    "duration": 19,
    "start_time": "2022-05-03T10:05:14.242Z"
   },
   {
    "duration": 31,
    "start_time": "2022-05-03T10:05:14.263Z"
   },
   {
    "duration": 32,
    "start_time": "2022-05-03T10:05:14.296Z"
   },
   {
    "duration": 33,
    "start_time": "2022-05-03T10:05:14.330Z"
   },
   {
    "duration": 88,
    "start_time": "2022-05-03T10:05:14.364Z"
   },
   {
    "duration": 3,
    "start_time": "2022-05-03T10:05:14.454Z"
   },
   {
    "duration": 14,
    "start_time": "2022-05-03T10:05:14.459Z"
   },
   {
    "duration": 8,
    "start_time": "2022-05-03T10:05:14.475Z"
   },
   {
    "duration": 17,
    "start_time": "2022-05-03T10:05:14.484Z"
   },
   {
    "duration": 11,
    "start_time": "2022-05-03T10:05:14.502Z"
   },
   {
    "duration": 13,
    "start_time": "2022-05-03T10:05:14.515Z"
   },
   {
    "duration": 17,
    "start_time": "2022-05-03T10:05:14.530Z"
   },
   {
    "duration": 22,
    "start_time": "2022-05-03T10:05:14.549Z"
   },
   {
    "duration": 14,
    "start_time": "2022-05-03T10:05:14.573Z"
   },
   {
    "duration": 60,
    "start_time": "2022-05-03T10:05:14.589Z"
   },
   {
    "duration": 0,
    "start_time": "2022-05-03T10:05:14.651Z"
   },
   {
    "duration": 0,
    "start_time": "2022-05-03T10:05:14.652Z"
   },
   {
    "duration": 0,
    "start_time": "2022-05-03T10:05:14.653Z"
   },
   {
    "duration": 0,
    "start_time": "2022-05-03T10:05:14.654Z"
   },
   {
    "duration": 0,
    "start_time": "2022-05-03T10:05:14.655Z"
   },
   {
    "duration": 0,
    "start_time": "2022-05-03T10:05:14.656Z"
   },
   {
    "duration": 0,
    "start_time": "2022-05-03T10:05:14.657Z"
   },
   {
    "duration": 0,
    "start_time": "2022-05-03T10:05:14.658Z"
   },
   {
    "duration": 4,
    "start_time": "2022-05-03T10:05:29.347Z"
   },
   {
    "duration": 56,
    "start_time": "2022-05-03T10:05:36.223Z"
   },
   {
    "duration": 426,
    "start_time": "2022-05-03T10:12:19.708Z"
   },
   {
    "duration": 165,
    "start_time": "2022-05-03T10:12:20.136Z"
   },
   {
    "duration": 19,
    "start_time": "2022-05-03T10:12:20.303Z"
   },
   {
    "duration": 33,
    "start_time": "2022-05-03T10:12:20.324Z"
   },
   {
    "duration": 4,
    "start_time": "2022-05-03T10:12:20.360Z"
   },
   {
    "duration": 41,
    "start_time": "2022-05-03T10:12:20.367Z"
   },
   {
    "duration": 5,
    "start_time": "2022-05-03T10:12:20.410Z"
   },
   {
    "duration": 27,
    "start_time": "2022-05-03T10:12:20.417Z"
   },
   {
    "duration": 19,
    "start_time": "2022-05-03T10:12:20.446Z"
   },
   {
    "duration": 53,
    "start_time": "2022-05-03T10:12:20.467Z"
   },
   {
    "duration": 68,
    "start_time": "2022-05-03T10:12:20.523Z"
   },
   {
    "duration": 87,
    "start_time": "2022-05-03T10:12:20.593Z"
   },
   {
    "duration": 74,
    "start_time": "2022-05-03T10:12:20.682Z"
   },
   {
    "duration": 9,
    "start_time": "2022-05-03T10:12:20.760Z"
   },
   {
    "duration": 8,
    "start_time": "2022-05-03T10:12:20.770Z"
   },
   {
    "duration": 34,
    "start_time": "2022-05-03T10:12:20.779Z"
   },
   {
    "duration": 8,
    "start_time": "2022-05-03T10:12:20.815Z"
   },
   {
    "duration": 18,
    "start_time": "2022-05-03T10:12:20.825Z"
   },
   {
    "duration": 13,
    "start_time": "2022-05-03T10:12:20.845Z"
   },
   {
    "duration": 111,
    "start_time": "2022-05-03T10:12:20.859Z"
   },
   {
    "duration": 3,
    "start_time": "2022-05-03T10:12:20.972Z"
   },
   {
    "duration": 10,
    "start_time": "2022-05-03T10:12:20.977Z"
   },
   {
    "duration": 20,
    "start_time": "2022-05-03T10:12:20.988Z"
   },
   {
    "duration": 8,
    "start_time": "2022-05-03T10:12:21.010Z"
   },
   {
    "duration": 7,
    "start_time": "2022-05-03T10:12:21.020Z"
   },
   {
    "duration": 13,
    "start_time": "2022-05-03T10:12:21.029Z"
   },
   {
    "duration": 13,
    "start_time": "2022-05-03T10:12:21.043Z"
   },
   {
    "duration": 18,
    "start_time": "2022-05-03T10:12:21.058Z"
   },
   {
    "duration": 35,
    "start_time": "2022-05-03T10:12:21.078Z"
   },
   {
    "duration": 5,
    "start_time": "2022-05-03T10:12:21.115Z"
   },
   {
    "duration": 70,
    "start_time": "2022-05-03T10:12:21.122Z"
   },
   {
    "duration": 3,
    "start_time": "2022-05-03T10:12:21.193Z"
   },
   {
    "duration": 10,
    "start_time": "2022-05-03T10:12:21.198Z"
   },
   {
    "duration": 7,
    "start_time": "2022-05-03T10:12:21.210Z"
   },
   {
    "duration": 5,
    "start_time": "2022-05-03T10:12:21.218Z"
   },
   {
    "duration": 4,
    "start_time": "2022-05-03T10:12:21.225Z"
   },
   {
    "duration": 5,
    "start_time": "2022-05-03T10:12:21.230Z"
   },
   {
    "duration": 5,
    "start_time": "2022-05-03T10:12:21.236Z"
   },
   {
    "duration": 398,
    "start_time": "2022-05-03T10:17:05.348Z"
   },
   {
    "duration": 181,
    "start_time": "2022-05-03T10:17:05.748Z"
   },
   {
    "duration": 20,
    "start_time": "2022-05-03T10:17:05.931Z"
   },
   {
    "duration": 32,
    "start_time": "2022-05-03T10:17:05.954Z"
   },
   {
    "duration": 21,
    "start_time": "2022-05-03T10:17:05.987Z"
   },
   {
    "duration": 15,
    "start_time": "2022-05-03T10:17:06.010Z"
   },
   {
    "duration": 10,
    "start_time": "2022-05-03T10:17:06.027Z"
   },
   {
    "duration": 38,
    "start_time": "2022-05-03T10:17:06.039Z"
   },
   {
    "duration": 32,
    "start_time": "2022-05-03T10:17:06.079Z"
   },
   {
    "duration": 27,
    "start_time": "2022-05-03T10:17:06.115Z"
   },
   {
    "duration": 87,
    "start_time": "2022-05-03T10:17:06.143Z"
   },
   {
    "duration": 84,
    "start_time": "2022-05-03T10:17:06.232Z"
   },
   {
    "duration": 68,
    "start_time": "2022-05-03T10:17:06.317Z"
   },
   {
    "duration": 24,
    "start_time": "2022-05-03T10:17:06.387Z"
   },
   {
    "duration": 4,
    "start_time": "2022-05-03T10:17:06.413Z"
   },
   {
    "duration": 12,
    "start_time": "2022-05-03T10:17:06.419Z"
   },
   {
    "duration": 8,
    "start_time": "2022-05-03T10:17:06.433Z"
   },
   {
    "duration": 15,
    "start_time": "2022-05-03T10:17:06.443Z"
   },
   {
    "duration": 47,
    "start_time": "2022-05-03T10:17:06.461Z"
   },
   {
    "duration": 76,
    "start_time": "2022-05-03T10:17:06.510Z"
   },
   {
    "duration": 5,
    "start_time": "2022-05-03T10:17:06.607Z"
   },
   {
    "duration": 13,
    "start_time": "2022-05-03T10:17:06.614Z"
   },
   {
    "duration": 6,
    "start_time": "2022-05-03T10:17:06.628Z"
   },
   {
    "duration": 12,
    "start_time": "2022-05-03T10:17:06.636Z"
   },
   {
    "duration": 6,
    "start_time": "2022-05-03T10:17:06.650Z"
   },
   {
    "duration": 11,
    "start_time": "2022-05-03T10:17:06.658Z"
   },
   {
    "duration": 10,
    "start_time": "2022-05-03T10:17:06.671Z"
   },
   {
    "duration": 12,
    "start_time": "2022-05-03T10:17:06.711Z"
   },
   {
    "duration": 10,
    "start_time": "2022-05-03T10:17:06.725Z"
   },
   {
    "duration": 5,
    "start_time": "2022-05-03T10:17:06.736Z"
   },
   {
    "duration": 0,
    "start_time": "2022-05-03T10:17:06.743Z"
   },
   {
    "duration": 0,
    "start_time": "2022-05-03T10:17:06.745Z"
   },
   {
    "duration": 0,
    "start_time": "2022-05-03T10:17:06.746Z"
   },
   {
    "duration": 0,
    "start_time": "2022-05-03T10:17:06.747Z"
   },
   {
    "duration": 0,
    "start_time": "2022-05-03T10:17:06.748Z"
   },
   {
    "duration": 0,
    "start_time": "2022-05-03T10:17:06.749Z"
   },
   {
    "duration": 0,
    "start_time": "2022-05-03T10:17:06.750Z"
   },
   {
    "duration": 0,
    "start_time": "2022-05-03T10:17:06.751Z"
   },
   {
    "duration": 404,
    "start_time": "2022-05-03T10:18:30.522Z"
   },
   {
    "duration": 169,
    "start_time": "2022-05-03T10:18:30.928Z"
   },
   {
    "duration": 21,
    "start_time": "2022-05-03T10:18:31.099Z"
   },
   {
    "duration": 32,
    "start_time": "2022-05-03T10:18:31.122Z"
   },
   {
    "duration": 9,
    "start_time": "2022-05-03T10:18:31.155Z"
   },
   {
    "duration": 18,
    "start_time": "2022-05-03T10:18:31.166Z"
   },
   {
    "duration": 22,
    "start_time": "2022-05-03T10:18:31.186Z"
   },
   {
    "duration": 28,
    "start_time": "2022-05-03T10:18:31.210Z"
   },
   {
    "duration": 25,
    "start_time": "2022-05-03T10:18:31.240Z"
   },
   {
    "duration": 44,
    "start_time": "2022-05-03T10:18:31.268Z"
   },
   {
    "duration": 84,
    "start_time": "2022-05-03T10:18:31.314Z"
   },
   {
    "duration": 73,
    "start_time": "2022-05-03T10:18:31.400Z"
   },
   {
    "duration": 74,
    "start_time": "2022-05-03T10:18:31.474Z"
   },
   {
    "duration": 9,
    "start_time": "2022-05-03T10:18:31.549Z"
   },
   {
    "duration": 3,
    "start_time": "2022-05-03T10:18:31.560Z"
   },
   {
    "duration": 15,
    "start_time": "2022-05-03T10:18:31.565Z"
   },
   {
    "duration": 29,
    "start_time": "2022-05-03T10:18:31.582Z"
   },
   {
    "duration": 52,
    "start_time": "2022-05-03T10:18:31.612Z"
   },
   {
    "duration": 11,
    "start_time": "2022-05-03T10:18:31.665Z"
   },
   {
    "duration": 72,
    "start_time": "2022-05-03T10:18:31.678Z"
   },
   {
    "duration": 4,
    "start_time": "2022-05-03T10:18:31.751Z"
   },
   {
    "duration": 7,
    "start_time": "2022-05-03T10:18:31.757Z"
   },
   {
    "duration": 4,
    "start_time": "2022-05-03T10:18:31.766Z"
   },
   {
    "duration": 5,
    "start_time": "2022-05-03T10:18:31.772Z"
   },
   {
    "duration": 5,
    "start_time": "2022-05-03T10:18:31.779Z"
   },
   {
    "duration": 25,
    "start_time": "2022-05-03T10:18:31.786Z"
   },
   {
    "duration": 10,
    "start_time": "2022-05-03T10:18:31.812Z"
   },
   {
    "duration": 15,
    "start_time": "2022-05-03T10:18:31.825Z"
   },
   {
    "duration": 10,
    "start_time": "2022-05-03T10:18:31.842Z"
   },
   {
    "duration": 4,
    "start_time": "2022-05-03T10:18:31.853Z"
   },
   {
    "duration": 21,
    "start_time": "2022-05-03T10:18:31.859Z"
   },
   {
    "duration": 3,
    "start_time": "2022-05-03T10:18:31.881Z"
   },
   {
    "duration": 5,
    "start_time": "2022-05-03T10:18:31.908Z"
   },
   {
    "duration": 6,
    "start_time": "2022-05-03T10:18:31.915Z"
   },
   {
    "duration": 5,
    "start_time": "2022-05-03T10:18:31.923Z"
   },
   {
    "duration": 4,
    "start_time": "2022-05-03T10:18:31.929Z"
   },
   {
    "duration": 5,
    "start_time": "2022-05-03T10:18:31.934Z"
   },
   {
    "duration": 4,
    "start_time": "2022-05-03T10:18:31.940Z"
   },
   {
    "duration": 13,
    "start_time": "2022-05-03T10:19:31.020Z"
   },
   {
    "duration": 19,
    "start_time": "2022-05-03T10:21:04.071Z"
   },
   {
    "duration": 13,
    "start_time": "2022-05-03T10:21:08.713Z"
   },
   {
    "duration": 29,
    "start_time": "2022-05-03T10:22:45.244Z"
   },
   {
    "duration": 32,
    "start_time": "2022-05-03T10:22:53.052Z"
   },
   {
    "duration": 12,
    "start_time": "2022-05-03T10:25:15.943Z"
   },
   {
    "duration": 8,
    "start_time": "2022-05-03T10:25:33.491Z"
   },
   {
    "duration": 9,
    "start_time": "2022-05-03T10:25:55.469Z"
   },
   {
    "duration": 462,
    "start_time": "2022-05-03T10:27:01.079Z"
   },
   {
    "duration": 173,
    "start_time": "2022-05-03T10:27:01.544Z"
   },
   {
    "duration": 19,
    "start_time": "2022-05-03T10:27:01.719Z"
   },
   {
    "duration": 31,
    "start_time": "2022-05-03T10:27:01.740Z"
   },
   {
    "duration": 5,
    "start_time": "2022-05-03T10:27:01.773Z"
   },
   {
    "duration": 37,
    "start_time": "2022-05-03T10:27:01.779Z"
   },
   {
    "duration": 7,
    "start_time": "2022-05-03T10:27:01.819Z"
   },
   {
    "duration": 31,
    "start_time": "2022-05-03T10:27:01.827Z"
   },
   {
    "duration": 20,
    "start_time": "2022-05-03T10:27:01.861Z"
   },
   {
    "duration": 45,
    "start_time": "2022-05-03T10:27:01.884Z"
   },
   {
    "duration": 80,
    "start_time": "2022-05-03T10:27:01.931Z"
   },
   {
    "duration": 80,
    "start_time": "2022-05-03T10:27:02.013Z"
   },
   {
    "duration": 89,
    "start_time": "2022-05-03T10:27:02.095Z"
   },
   {
    "duration": 22,
    "start_time": "2022-05-03T10:27:02.186Z"
   },
   {
    "duration": 4,
    "start_time": "2022-05-03T10:27:02.211Z"
   },
   {
    "duration": 16,
    "start_time": "2022-05-03T10:27:02.217Z"
   },
   {
    "duration": 11,
    "start_time": "2022-05-03T10:27:02.235Z"
   },
   {
    "duration": 22,
    "start_time": "2022-05-03T10:27:02.248Z"
   },
   {
    "duration": 46,
    "start_time": "2022-05-03T10:27:02.273Z"
   },
   {
    "duration": 88,
    "start_time": "2022-05-03T10:27:02.321Z"
   },
   {
    "duration": 4,
    "start_time": "2022-05-03T10:27:02.411Z"
   },
   {
    "duration": 8,
    "start_time": "2022-05-03T10:27:02.417Z"
   },
   {
    "duration": 9,
    "start_time": "2022-05-03T10:27:02.427Z"
   },
   {
    "duration": 12,
    "start_time": "2022-05-03T10:27:02.438Z"
   },
   {
    "duration": 9,
    "start_time": "2022-05-03T10:27:02.452Z"
   },
   {
    "duration": 10,
    "start_time": "2022-05-03T10:27:02.464Z"
   },
   {
    "duration": 34,
    "start_time": "2022-05-03T10:27:02.476Z"
   },
   {
    "duration": 17,
    "start_time": "2022-05-03T10:27:02.515Z"
   },
   {
    "duration": 10,
    "start_time": "2022-05-03T10:27:02.535Z"
   },
   {
    "duration": 5,
    "start_time": "2022-05-03T10:27:02.548Z"
   },
   {
    "duration": 39,
    "start_time": "2022-05-03T10:27:02.555Z"
   },
   {
    "duration": 24,
    "start_time": "2022-05-03T10:27:02.595Z"
   },
   {
    "duration": 17,
    "start_time": "2022-05-03T10:27:02.621Z"
   },
   {
    "duration": 12,
    "start_time": "2022-05-03T10:27:02.640Z"
   },
   {
    "duration": 3,
    "start_time": "2022-05-03T10:27:02.653Z"
   },
   {
    "duration": 7,
    "start_time": "2022-05-03T10:27:02.658Z"
   },
   {
    "duration": 8,
    "start_time": "2022-05-03T10:27:02.666Z"
   },
   {
    "duration": 32,
    "start_time": "2022-05-03T10:27:02.676Z"
   },
   {
    "duration": 62,
    "start_time": "2022-05-03T10:31:10.339Z"
   },
   {
    "duration": 70,
    "start_time": "2022-05-03T10:31:18.747Z"
   },
   {
    "duration": 32,
    "start_time": "2022-05-03T10:31:38.995Z"
   },
   {
    "duration": 29,
    "start_time": "2022-05-03T10:32:55.309Z"
   },
   {
    "duration": 9,
    "start_time": "2022-05-03T10:34:04.709Z"
   },
   {
    "duration": 5,
    "start_time": "2022-05-03T10:34:31.664Z"
   },
   {
    "duration": 6,
    "start_time": "2022-05-03T10:35:58.416Z"
   },
   {
    "duration": 5,
    "start_time": "2022-05-03T10:36:21.596Z"
   },
   {
    "duration": 412,
    "start_time": "2022-05-03T10:44:06.632Z"
   },
   {
    "duration": 161,
    "start_time": "2022-05-03T10:44:07.046Z"
   },
   {
    "duration": 18,
    "start_time": "2022-05-03T10:44:07.209Z"
   },
   {
    "duration": 32,
    "start_time": "2022-05-03T10:44:07.230Z"
   },
   {
    "duration": 5,
    "start_time": "2022-05-03T10:44:07.264Z"
   },
   {
    "duration": 42,
    "start_time": "2022-05-03T10:44:07.271Z"
   },
   {
    "duration": 7,
    "start_time": "2022-05-03T10:44:07.315Z"
   },
   {
    "duration": 33,
    "start_time": "2022-05-03T10:44:07.324Z"
   },
   {
    "duration": 30,
    "start_time": "2022-05-03T10:44:07.358Z"
   },
   {
    "duration": 27,
    "start_time": "2022-05-03T10:44:07.391Z"
   },
   {
    "duration": 69,
    "start_time": "2022-05-03T10:44:07.420Z"
   },
   {
    "duration": 71,
    "start_time": "2022-05-03T10:44:07.507Z"
   },
   {
    "duration": 75,
    "start_time": "2022-05-03T10:44:07.580Z"
   },
   {
    "duration": 10,
    "start_time": "2022-05-03T10:44:07.657Z"
   },
   {
    "duration": 6,
    "start_time": "2022-05-03T10:44:07.668Z"
   },
   {
    "duration": 14,
    "start_time": "2022-05-03T10:44:07.676Z"
   },
   {
    "duration": 21,
    "start_time": "2022-05-03T10:44:07.692Z"
   },
   {
    "duration": 19,
    "start_time": "2022-05-03T10:44:07.715Z"
   },
   {
    "duration": 19,
    "start_time": "2022-05-03T10:44:07.736Z"
   },
   {
    "duration": 91,
    "start_time": "2022-05-03T10:44:07.757Z"
   },
   {
    "duration": 4,
    "start_time": "2022-05-03T10:44:07.850Z"
   },
   {
    "duration": 7,
    "start_time": "2022-05-03T10:44:07.856Z"
   },
   {
    "duration": 7,
    "start_time": "2022-05-03T10:44:07.865Z"
   },
   {
    "duration": 20,
    "start_time": "2022-05-03T10:44:07.873Z"
   },
   {
    "duration": 17,
    "start_time": "2022-05-03T10:44:07.895Z"
   },
   {
    "duration": 16,
    "start_time": "2022-05-03T10:44:07.914Z"
   },
   {
    "duration": 22,
    "start_time": "2022-05-03T10:44:07.932Z"
   },
   {
    "duration": 18,
    "start_time": "2022-05-03T10:44:07.957Z"
   },
   {
    "duration": 13,
    "start_time": "2022-05-03T10:44:07.976Z"
   },
   {
    "duration": 6,
    "start_time": "2022-05-03T10:44:07.991Z"
   },
   {
    "duration": 44,
    "start_time": "2022-05-03T10:44:07.998Z"
   },
   {
    "duration": 23,
    "start_time": "2022-05-03T10:44:08.043Z"
   },
   {
    "duration": 28,
    "start_time": "2022-05-03T10:44:08.068Z"
   },
   {
    "duration": 12,
    "start_time": "2022-05-03T10:44:08.098Z"
   },
   {
    "duration": 11,
    "start_time": "2022-05-03T10:44:08.112Z"
   },
   {
    "duration": 5,
    "start_time": "2022-05-03T10:44:08.124Z"
   },
   {
    "duration": 8,
    "start_time": "2022-05-03T10:44:08.130Z"
   },
   {
    "duration": 7,
    "start_time": "2022-05-03T10:44:08.140Z"
   },
   {
    "duration": 414,
    "start_time": "2022-05-03T10:53:40.858Z"
   },
   {
    "duration": 168,
    "start_time": "2022-05-03T10:53:41.275Z"
   },
   {
    "duration": 19,
    "start_time": "2022-05-03T10:53:41.444Z"
   },
   {
    "duration": 45,
    "start_time": "2022-05-03T10:53:41.465Z"
   },
   {
    "duration": 4,
    "start_time": "2022-05-03T10:53:41.512Z"
   },
   {
    "duration": 18,
    "start_time": "2022-05-03T10:53:41.518Z"
   },
   {
    "duration": 8,
    "start_time": "2022-05-03T10:53:41.537Z"
   },
   {
    "duration": 29,
    "start_time": "2022-05-03T10:53:41.547Z"
   },
   {
    "duration": 47,
    "start_time": "2022-05-03T10:53:41.577Z"
   },
   {
    "duration": 26,
    "start_time": "2022-05-03T10:53:41.627Z"
   },
   {
    "duration": 90,
    "start_time": "2022-05-03T10:53:41.656Z"
   },
   {
    "duration": 90,
    "start_time": "2022-05-03T10:53:41.748Z"
   },
   {
    "duration": 77,
    "start_time": "2022-05-03T10:53:41.840Z"
   },
   {
    "duration": 10,
    "start_time": "2022-05-03T10:53:41.919Z"
   },
   {
    "duration": 4,
    "start_time": "2022-05-03T10:53:41.931Z"
   },
   {
    "duration": 14,
    "start_time": "2022-05-03T10:53:41.936Z"
   },
   {
    "duration": 9,
    "start_time": "2022-05-03T10:53:41.952Z"
   },
   {
    "duration": 48,
    "start_time": "2022-05-03T10:53:41.964Z"
   },
   {
    "duration": 14,
    "start_time": "2022-05-03T10:53:42.013Z"
   },
   {
    "duration": 96,
    "start_time": "2022-05-03T10:53:42.028Z"
   },
   {
    "duration": 4,
    "start_time": "2022-05-03T10:53:42.126Z"
   },
   {
    "duration": 9,
    "start_time": "2022-05-03T10:53:42.131Z"
   },
   {
    "duration": 5,
    "start_time": "2022-05-03T10:53:42.142Z"
   },
   {
    "duration": 6,
    "start_time": "2022-05-03T10:53:42.148Z"
   },
   {
    "duration": 6,
    "start_time": "2022-05-03T10:53:42.155Z"
   },
   {
    "duration": 7,
    "start_time": "2022-05-03T10:53:42.163Z"
   },
   {
    "duration": 13,
    "start_time": "2022-05-03T10:53:42.208Z"
   },
   {
    "duration": 11,
    "start_time": "2022-05-03T10:53:42.224Z"
   },
   {
    "duration": 10,
    "start_time": "2022-05-03T10:53:42.236Z"
   },
   {
    "duration": 4,
    "start_time": "2022-05-03T10:53:42.248Z"
   },
   {
    "duration": 54,
    "start_time": "2022-05-03T10:53:42.254Z"
   },
   {
    "duration": 13,
    "start_time": "2022-05-03T10:53:42.309Z"
   },
   {
    "duration": 17,
    "start_time": "2022-05-03T10:53:42.323Z"
   },
   {
    "duration": 11,
    "start_time": "2022-05-03T10:53:42.342Z"
   },
   {
    "duration": 9,
    "start_time": "2022-05-03T10:53:42.355Z"
   },
   {
    "duration": 43,
    "start_time": "2022-05-03T10:53:42.366Z"
   },
   {
    "duration": 6,
    "start_time": "2022-05-03T10:53:42.411Z"
   },
   {
    "duration": 5,
    "start_time": "2022-05-03T10:53:42.420Z"
   },
   {
    "duration": 492,
    "start_time": "2022-05-06T10:00:08.098Z"
   },
   {
    "duration": 196,
    "start_time": "2022-05-06T10:00:08.593Z"
   },
   {
    "duration": 19,
    "start_time": "2022-05-06T10:00:08.791Z"
   },
   {
    "duration": 27,
    "start_time": "2022-05-06T10:00:08.812Z"
   },
   {
    "duration": 4,
    "start_time": "2022-05-06T10:00:08.841Z"
   },
   {
    "duration": 13,
    "start_time": "2022-05-06T10:00:08.847Z"
   },
   {
    "duration": 16,
    "start_time": "2022-05-06T10:00:08.861Z"
   },
   {
    "duration": 25,
    "start_time": "2022-05-06T10:00:08.900Z"
   },
   {
    "duration": 22,
    "start_time": "2022-05-06T10:00:08.926Z"
   },
   {
    "duration": 22,
    "start_time": "2022-05-06T10:00:08.950Z"
   },
   {
    "duration": 83,
    "start_time": "2022-05-06T10:00:08.974Z"
   },
   {
    "duration": 76,
    "start_time": "2022-05-06T10:00:09.059Z"
   },
   {
    "duration": 63,
    "start_time": "2022-05-06T10:00:09.137Z"
   },
   {
    "duration": 9,
    "start_time": "2022-05-06T10:00:09.203Z"
   },
   {
    "duration": 4,
    "start_time": "2022-05-06T10:00:09.214Z"
   },
   {
    "duration": 12,
    "start_time": "2022-05-06T10:00:09.219Z"
   },
   {
    "duration": 8,
    "start_time": "2022-05-06T10:00:09.232Z"
   },
   {
    "duration": 14,
    "start_time": "2022-05-06T10:00:09.242Z"
   },
   {
    "duration": 11,
    "start_time": "2022-05-06T10:00:09.257Z"
   },
   {
    "duration": 63,
    "start_time": "2022-05-06T10:00:09.300Z"
   },
   {
    "duration": 4,
    "start_time": "2022-05-06T10:00:09.364Z"
   },
   {
    "duration": 12,
    "start_time": "2022-05-06T10:00:09.371Z"
   },
   {
    "duration": 20,
    "start_time": "2022-05-06T10:00:09.385Z"
   },
   {
    "duration": 6,
    "start_time": "2022-05-06T10:00:09.407Z"
   },
   {
    "duration": 9,
    "start_time": "2022-05-06T10:00:09.415Z"
   },
   {
    "duration": 6,
    "start_time": "2022-05-06T10:00:09.426Z"
   },
   {
    "duration": 11,
    "start_time": "2022-05-06T10:00:09.434Z"
   },
   {
    "duration": 14,
    "start_time": "2022-05-06T10:00:09.447Z"
   },
   {
    "duration": 10,
    "start_time": "2022-05-06T10:00:09.463Z"
   },
   {
    "duration": 26,
    "start_time": "2022-05-06T10:00:09.475Z"
   },
   {
    "duration": 39,
    "start_time": "2022-05-06T10:00:09.503Z"
   },
   {
    "duration": 21,
    "start_time": "2022-05-06T10:00:09.544Z"
   },
   {
    "duration": 23,
    "start_time": "2022-05-06T10:00:09.567Z"
   },
   {
    "duration": 15,
    "start_time": "2022-05-06T10:00:09.592Z"
   },
   {
    "duration": 8,
    "start_time": "2022-05-06T10:00:09.608Z"
   },
   {
    "duration": 6,
    "start_time": "2022-05-06T10:00:09.618Z"
   },
   {
    "duration": 8,
    "start_time": "2022-05-06T10:00:09.626Z"
   },
   {
    "duration": 6,
    "start_time": "2022-05-06T10:00:09.636Z"
   },
   {
    "duration": 13,
    "start_time": "2022-05-06T10:00:49.175Z"
   },
   {
    "duration": 8,
    "start_time": "2022-05-06T10:06:05.121Z"
   },
   {
    "duration": 9,
    "start_time": "2022-05-06T10:06:08.548Z"
   },
   {
    "duration": 10,
    "start_time": "2022-05-06T10:06:14.173Z"
   },
   {
    "duration": 422,
    "start_time": "2022-05-10T07:41:27.744Z"
   },
   {
    "duration": 465,
    "start_time": "2022-05-10T07:41:28.168Z"
   },
   {
    "duration": 18,
    "start_time": "2022-05-10T07:41:28.635Z"
   },
   {
    "duration": 10,
    "start_time": "2022-05-10T07:41:28.655Z"
   },
   {
    "duration": 32,
    "start_time": "2022-05-10T07:41:28.667Z"
   },
   {
    "duration": 4,
    "start_time": "2022-05-10T07:41:28.701Z"
   },
   {
    "duration": 36,
    "start_time": "2022-05-10T07:41:28.706Z"
   },
   {
    "duration": 6,
    "start_time": "2022-05-10T07:41:28.744Z"
   },
   {
    "duration": 28,
    "start_time": "2022-05-10T07:41:28.752Z"
   },
   {
    "duration": 24,
    "start_time": "2022-05-10T07:41:28.782Z"
   },
   {
    "duration": 45,
    "start_time": "2022-05-10T07:41:28.808Z"
   },
   {
    "duration": 79,
    "start_time": "2022-05-10T07:41:28.855Z"
   },
   {
    "duration": 83,
    "start_time": "2022-05-10T07:41:28.936Z"
   },
   {
    "duration": 71,
    "start_time": "2022-05-10T07:41:29.020Z"
   },
   {
    "duration": 6,
    "start_time": "2022-05-10T07:41:29.093Z"
   },
   {
    "duration": 7,
    "start_time": "2022-05-10T07:41:29.101Z"
   },
   {
    "duration": 35,
    "start_time": "2022-05-10T07:41:29.110Z"
   },
   {
    "duration": 7,
    "start_time": "2022-05-10T07:41:29.147Z"
   },
   {
    "duration": 17,
    "start_time": "2022-05-10T07:41:29.155Z"
   },
   {
    "duration": 10,
    "start_time": "2022-05-10T07:41:29.174Z"
   },
   {
    "duration": 92,
    "start_time": "2022-05-10T07:41:29.186Z"
   },
   {
    "duration": 2,
    "start_time": "2022-05-10T07:41:29.280Z"
   },
   {
    "duration": 8,
    "start_time": "2022-05-10T07:41:29.284Z"
   },
   {
    "duration": 5,
    "start_time": "2022-05-10T07:41:29.294Z"
   },
   {
    "duration": 5,
    "start_time": "2022-05-10T07:41:29.300Z"
   },
   {
    "duration": 5,
    "start_time": "2022-05-10T07:41:29.307Z"
   },
   {
    "duration": 4,
    "start_time": "2022-05-10T07:41:29.314Z"
   },
   {
    "duration": 4,
    "start_time": "2022-05-10T07:41:29.336Z"
   },
   {
    "duration": 14,
    "start_time": "2022-05-10T07:41:29.342Z"
   },
   {
    "duration": 10,
    "start_time": "2022-05-10T07:41:29.358Z"
   },
   {
    "duration": 5,
    "start_time": "2022-05-10T07:41:29.370Z"
   },
   {
    "duration": 23,
    "start_time": "2022-05-10T07:41:29.377Z"
   },
   {
    "duration": 34,
    "start_time": "2022-05-10T07:41:29.402Z"
   },
   {
    "duration": 18,
    "start_time": "2022-05-10T07:41:29.437Z"
   },
   {
    "duration": 13,
    "start_time": "2022-05-10T07:41:29.456Z"
   },
   {
    "duration": 11,
    "start_time": "2022-05-10T07:41:29.470Z"
   },
   {
    "duration": 5,
    "start_time": "2022-05-10T07:41:29.483Z"
   },
   {
    "duration": 47,
    "start_time": "2022-05-10T07:41:29.490Z"
   },
   {
    "duration": 5,
    "start_time": "2022-05-10T07:41:29.538Z"
   },
   {
    "duration": 459,
    "start_time": "2022-05-10T07:42:32.300Z"
   },
   {
    "duration": 181,
    "start_time": "2022-05-10T07:42:32.761Z"
   },
   {
    "duration": 19,
    "start_time": "2022-05-10T07:42:32.944Z"
   },
   {
    "duration": 11,
    "start_time": "2022-05-10T07:42:32.965Z"
   },
   {
    "duration": 39,
    "start_time": "2022-05-10T07:42:32.977Z"
   },
   {
    "duration": 4,
    "start_time": "2022-05-10T07:42:33.034Z"
   },
   {
    "duration": 13,
    "start_time": "2022-05-10T07:42:33.040Z"
   },
   {
    "duration": 8,
    "start_time": "2022-05-10T07:42:33.055Z"
   },
   {
    "duration": 30,
    "start_time": "2022-05-10T07:42:33.065Z"
   },
   {
    "duration": 47,
    "start_time": "2022-05-10T07:42:33.099Z"
   },
   {
    "duration": 26,
    "start_time": "2022-05-10T07:42:33.148Z"
   },
   {
    "duration": 85,
    "start_time": "2022-05-10T07:42:33.176Z"
   },
   {
    "duration": 98,
    "start_time": "2022-05-10T07:42:33.263Z"
   },
   {
    "duration": 71,
    "start_time": "2022-05-10T07:42:33.363Z"
   },
   {
    "duration": 6,
    "start_time": "2022-05-10T07:42:33.436Z"
   },
   {
    "duration": 4,
    "start_time": "2022-05-10T07:42:33.444Z"
   },
   {
    "duration": 22,
    "start_time": "2022-05-10T07:42:33.450Z"
   },
   {
    "duration": 7,
    "start_time": "2022-05-10T07:42:33.474Z"
   },
   {
    "duration": 20,
    "start_time": "2022-05-10T07:42:33.483Z"
   },
   {
    "duration": 33,
    "start_time": "2022-05-10T07:42:33.505Z"
   },
   {
    "duration": 78,
    "start_time": "2022-05-10T07:42:33.540Z"
   },
   {
    "duration": 14,
    "start_time": "2022-05-10T07:42:33.620Z"
   },
   {
    "duration": 22,
    "start_time": "2022-05-10T07:42:33.636Z"
   },
   {
    "duration": 5,
    "start_time": "2022-05-10T07:42:33.660Z"
   },
   {
    "duration": 5,
    "start_time": "2022-05-10T07:42:33.666Z"
   },
   {
    "duration": 6,
    "start_time": "2022-05-10T07:42:33.673Z"
   },
   {
    "duration": 7,
    "start_time": "2022-05-10T07:42:33.680Z"
   },
   {
    "duration": 5,
    "start_time": "2022-05-10T07:42:33.692Z"
   },
   {
    "duration": 14,
    "start_time": "2022-05-10T07:42:33.699Z"
   },
   {
    "duration": 21,
    "start_time": "2022-05-10T07:42:33.715Z"
   },
   {
    "duration": 6,
    "start_time": "2022-05-10T07:42:33.738Z"
   },
   {
    "duration": 31,
    "start_time": "2022-05-10T07:42:33.746Z"
   },
   {
    "duration": 25,
    "start_time": "2022-05-10T07:42:33.779Z"
   },
   {
    "duration": 24,
    "start_time": "2022-05-10T07:42:33.806Z"
   },
   {
    "duration": 13,
    "start_time": "2022-05-10T07:42:33.832Z"
   },
   {
    "duration": 18,
    "start_time": "2022-05-10T07:42:33.847Z"
   },
   {
    "duration": 7,
    "start_time": "2022-05-10T07:42:33.867Z"
   },
   {
    "duration": 12,
    "start_time": "2022-05-10T07:42:33.876Z"
   },
   {
    "duration": 14,
    "start_time": "2022-05-10T07:42:33.890Z"
   },
   {
    "duration": 387,
    "start_time": "2022-05-10T07:48:38.589Z"
   },
   {
    "duration": 177,
    "start_time": "2022-05-10T07:48:38.978Z"
   },
   {
    "duration": 18,
    "start_time": "2022-05-10T07:48:39.157Z"
   },
   {
    "duration": 9,
    "start_time": "2022-05-10T07:48:39.178Z"
   },
   {
    "duration": 51,
    "start_time": "2022-05-10T07:48:39.189Z"
   },
   {
    "duration": 4,
    "start_time": "2022-05-10T07:48:39.241Z"
   },
   {
    "duration": 15,
    "start_time": "2022-05-10T07:48:39.247Z"
   },
   {
    "duration": 7,
    "start_time": "2022-05-10T07:48:39.264Z"
   },
   {
    "duration": 29,
    "start_time": "2022-05-10T07:48:39.272Z"
   },
   {
    "duration": 43,
    "start_time": "2022-05-10T07:48:39.306Z"
   },
   {
    "duration": 26,
    "start_time": "2022-05-10T07:48:39.351Z"
   },
   {
    "duration": 90,
    "start_time": "2022-05-10T07:48:39.379Z"
   },
   {
    "duration": 90,
    "start_time": "2022-05-10T07:48:39.470Z"
   },
   {
    "duration": 72,
    "start_time": "2022-05-10T07:48:39.562Z"
   },
   {
    "duration": 8,
    "start_time": "2022-05-10T07:48:39.636Z"
   },
   {
    "duration": 5,
    "start_time": "2022-05-10T07:48:39.645Z"
   },
   {
    "duration": 21,
    "start_time": "2022-05-10T07:48:39.651Z"
   },
   {
    "duration": 6,
    "start_time": "2022-05-10T07:48:39.674Z"
   },
   {
    "duration": 23,
    "start_time": "2022-05-10T07:48:39.681Z"
   },
   {
    "duration": 28,
    "start_time": "2022-05-10T07:48:39.706Z"
   },
   {
    "duration": 70,
    "start_time": "2022-05-10T07:48:39.736Z"
   },
   {
    "duration": 2,
    "start_time": "2022-05-10T07:48:39.808Z"
   },
   {
    "duration": 21,
    "start_time": "2022-05-10T07:48:39.812Z"
   },
   {
    "duration": 3,
    "start_time": "2022-05-10T07:48:39.835Z"
   },
   {
    "duration": 6,
    "start_time": "2022-05-10T07:48:39.840Z"
   },
   {
    "duration": 6,
    "start_time": "2022-05-10T07:48:39.847Z"
   },
   {
    "duration": 7,
    "start_time": "2022-05-10T07:48:39.854Z"
   },
   {
    "duration": 15,
    "start_time": "2022-05-10T07:48:39.865Z"
   },
   {
    "duration": 19,
    "start_time": "2022-05-10T07:48:39.881Z"
   },
   {
    "duration": 14,
    "start_time": "2022-05-10T07:48:39.902Z"
   },
   {
    "duration": 15,
    "start_time": "2022-05-10T07:48:39.918Z"
   },
   {
    "duration": 21,
    "start_time": "2022-05-10T07:48:39.935Z"
   },
   {
    "duration": 11,
    "start_time": "2022-05-10T07:48:39.958Z"
   },
   {
    "duration": 24,
    "start_time": "2022-05-10T07:48:39.971Z"
   },
   {
    "duration": 20,
    "start_time": "2022-05-10T07:48:39.997Z"
   },
   {
    "duration": 21,
    "start_time": "2022-05-10T07:48:40.019Z"
   },
   {
    "duration": 26,
    "start_time": "2022-05-10T07:48:40.042Z"
   },
   {
    "duration": 15,
    "start_time": "2022-05-10T07:48:40.070Z"
   },
   {
    "duration": 10,
    "start_time": "2022-05-10T07:48:40.087Z"
   },
   {
    "duration": 428,
    "start_time": "2022-05-10T07:50:55.399Z"
   },
   {
    "duration": 172,
    "start_time": "2022-05-10T07:50:55.829Z"
   },
   {
    "duration": 18,
    "start_time": "2022-05-10T07:50:56.003Z"
   },
   {
    "duration": 15,
    "start_time": "2022-05-10T07:50:56.023Z"
   },
   {
    "duration": 34,
    "start_time": "2022-05-10T07:50:56.040Z"
   },
   {
    "duration": 4,
    "start_time": "2022-05-10T07:50:56.076Z"
   },
   {
    "duration": 20,
    "start_time": "2022-05-10T07:50:56.081Z"
   },
   {
    "duration": 9,
    "start_time": "2022-05-10T07:50:56.103Z"
   },
   {
    "duration": 43,
    "start_time": "2022-05-10T07:50:56.113Z"
   },
   {
    "duration": 21,
    "start_time": "2022-05-10T07:50:56.159Z"
   },
   {
    "duration": 26,
    "start_time": "2022-05-10T07:50:56.182Z"
   },
   {
    "duration": 87,
    "start_time": "2022-05-10T07:50:56.210Z"
   },
   {
    "duration": 96,
    "start_time": "2022-05-10T07:50:56.299Z"
   },
   {
    "duration": 73,
    "start_time": "2022-05-10T07:50:56.396Z"
   },
   {
    "duration": 9,
    "start_time": "2022-05-10T07:50:56.470Z"
   },
   {
    "duration": 5,
    "start_time": "2022-05-10T07:50:56.481Z"
   },
   {
    "duration": 20,
    "start_time": "2022-05-10T07:50:56.487Z"
   },
   {
    "duration": 6,
    "start_time": "2022-05-10T07:50:56.509Z"
   },
   {
    "duration": 27,
    "start_time": "2022-05-10T07:50:56.517Z"
   },
   {
    "duration": 12,
    "start_time": "2022-05-10T07:50:56.545Z"
   },
   {
    "duration": 87,
    "start_time": "2022-05-10T07:50:56.559Z"
   },
   {
    "duration": 2,
    "start_time": "2022-05-10T07:50:56.647Z"
   },
   {
    "duration": 7,
    "start_time": "2022-05-10T07:50:56.651Z"
   },
   {
    "duration": 10,
    "start_time": "2022-05-10T07:50:56.659Z"
   },
   {
    "duration": 14,
    "start_time": "2022-05-10T07:50:56.671Z"
   },
   {
    "duration": 8,
    "start_time": "2022-05-10T07:50:56.687Z"
   },
   {
    "duration": 12,
    "start_time": "2022-05-10T07:50:56.696Z"
   },
   {
    "duration": 10,
    "start_time": "2022-05-10T07:50:56.711Z"
   },
   {
    "duration": 32,
    "start_time": "2022-05-10T07:50:56.723Z"
   },
   {
    "duration": 10,
    "start_time": "2022-05-10T07:50:56.757Z"
   },
   {
    "duration": 4,
    "start_time": "2022-05-10T07:50:56.769Z"
   },
   {
    "duration": 20,
    "start_time": "2022-05-10T07:50:56.775Z"
   },
   {
    "duration": 13,
    "start_time": "2022-05-10T07:50:56.797Z"
   },
   {
    "duration": 25,
    "start_time": "2022-05-10T07:50:56.812Z"
   },
   {
    "duration": 12,
    "start_time": "2022-05-10T07:50:56.839Z"
   },
   {
    "duration": 10,
    "start_time": "2022-05-10T07:50:56.853Z"
   },
   {
    "duration": 6,
    "start_time": "2022-05-10T07:50:56.865Z"
   },
   {
    "duration": 7,
    "start_time": "2022-05-10T07:50:56.873Z"
   },
   {
    "duration": 4,
    "start_time": "2022-05-10T07:50:56.882Z"
   },
   {
    "duration": 427,
    "start_time": "2022-05-10T07:51:57.840Z"
   },
   {
    "duration": 159,
    "start_time": "2022-05-10T07:51:58.269Z"
   },
   {
    "duration": 18,
    "start_time": "2022-05-10T07:51:58.430Z"
   },
   {
    "duration": 11,
    "start_time": "2022-05-10T07:51:58.450Z"
   },
   {
    "duration": 35,
    "start_time": "2022-05-10T07:51:58.462Z"
   },
   {
    "duration": 4,
    "start_time": "2022-05-10T07:51:58.499Z"
   },
   {
    "duration": 33,
    "start_time": "2022-05-10T07:51:58.504Z"
   },
   {
    "duration": 6,
    "start_time": "2022-05-10T07:51:58.539Z"
   },
   {
    "duration": 27,
    "start_time": "2022-05-10T07:51:58.547Z"
   },
   {
    "duration": 21,
    "start_time": "2022-05-10T07:51:58.577Z"
   },
   {
    "duration": 45,
    "start_time": "2022-05-10T07:51:58.600Z"
   },
   {
    "duration": 69,
    "start_time": "2022-05-10T07:51:58.647Z"
   },
   {
    "duration": 90,
    "start_time": "2022-05-10T07:51:58.718Z"
   },
   {
    "duration": 73,
    "start_time": "2022-05-10T07:51:58.810Z"
   },
   {
    "duration": 9,
    "start_time": "2022-05-10T07:51:58.885Z"
   },
   {
    "duration": 4,
    "start_time": "2022-05-10T07:51:58.895Z"
   },
   {
    "duration": 38,
    "start_time": "2022-05-10T07:51:58.901Z"
   },
   {
    "duration": 8,
    "start_time": "2022-05-10T07:51:58.941Z"
   },
   {
    "duration": 13,
    "start_time": "2022-05-10T07:51:58.951Z"
   },
   {
    "duration": 11,
    "start_time": "2022-05-10T07:51:58.966Z"
   },
   {
    "duration": 96,
    "start_time": "2022-05-10T07:51:58.979Z"
   },
   {
    "duration": 2,
    "start_time": "2022-05-10T07:51:59.076Z"
   },
   {
    "duration": 9,
    "start_time": "2022-05-10T07:51:59.080Z"
   },
   {
    "duration": 6,
    "start_time": "2022-05-10T07:51:59.091Z"
   },
   {
    "duration": 6,
    "start_time": "2022-05-10T07:51:59.098Z"
   },
   {
    "duration": 7,
    "start_time": "2022-05-10T07:51:59.105Z"
   },
   {
    "duration": 5,
    "start_time": "2022-05-10T07:51:59.114Z"
   },
   {
    "duration": 4,
    "start_time": "2022-05-10T07:51:59.133Z"
   },
   {
    "duration": 16,
    "start_time": "2022-05-10T07:51:59.139Z"
   },
   {
    "duration": 10,
    "start_time": "2022-05-10T07:51:59.157Z"
   },
   {
    "duration": 5,
    "start_time": "2022-05-10T07:51:59.168Z"
   },
   {
    "duration": 23,
    "start_time": "2022-05-10T07:51:59.174Z"
   },
   {
    "duration": 35,
    "start_time": "2022-05-10T07:51:59.199Z"
   },
   {
    "duration": 18,
    "start_time": "2022-05-10T07:51:59.236Z"
   },
   {
    "duration": 12,
    "start_time": "2022-05-10T07:51:59.255Z"
   },
   {
    "duration": 9,
    "start_time": "2022-05-10T07:51:59.269Z"
   },
   {
    "duration": 5,
    "start_time": "2022-05-10T07:51:59.280Z"
   },
   {
    "duration": 16,
    "start_time": "2022-05-10T07:51:59.287Z"
   },
   {
    "duration": 32,
    "start_time": "2022-05-10T07:51:59.305Z"
   },
   {
    "duration": 14,
    "start_time": "2022-05-10T07:53:21.900Z"
   },
   {
    "duration": 11,
    "start_time": "2022-05-10T07:53:35.767Z"
   },
   {
    "duration": 14,
    "start_time": "2022-05-10T07:53:45.002Z"
   },
   {
    "duration": 14,
    "start_time": "2022-05-10T07:54:08.216Z"
   },
   {
    "duration": 73,
    "start_time": "2022-05-10T07:55:48.782Z"
   },
   {
    "duration": 70,
    "start_time": "2022-05-10T07:55:53.106Z"
   },
   {
    "duration": 72,
    "start_time": "2022-05-10T07:55:55.566Z"
   },
   {
    "duration": 70,
    "start_time": "2022-05-10T07:57:43.239Z"
   },
   {
    "duration": 69,
    "start_time": "2022-05-10T07:58:53.403Z"
   },
   {
    "duration": 17,
    "start_time": "2022-05-10T07:59:14.672Z"
   },
   {
    "duration": 14,
    "start_time": "2022-05-10T07:59:29.083Z"
   },
   {
    "duration": 16,
    "start_time": "2022-05-10T07:59:43.201Z"
   },
   {
    "duration": 13,
    "start_time": "2022-05-10T07:59:54.648Z"
   },
   {
    "duration": 26,
    "start_time": "2022-05-10T08:00:04.661Z"
   },
   {
    "duration": 16,
    "start_time": "2022-05-10T08:00:14.396Z"
   },
   {
    "duration": 10,
    "start_time": "2022-05-10T08:03:35.634Z"
   },
   {
    "duration": 22,
    "start_time": "2022-05-10T08:04:10.305Z"
   },
   {
    "duration": 19,
    "start_time": "2022-05-10T08:04:34.232Z"
   },
   {
    "duration": 18,
    "start_time": "2022-05-10T08:04:53.011Z"
   },
   {
    "duration": 4,
    "start_time": "2022-05-10T08:05:44.677Z"
   },
   {
    "duration": 4,
    "start_time": "2022-05-10T08:06:14.875Z"
   },
   {
    "duration": 5,
    "start_time": "2022-05-10T08:06:25.691Z"
   },
   {
    "duration": 4,
    "start_time": "2022-05-10T08:08:20.746Z"
   },
   {
    "duration": 4,
    "start_time": "2022-05-10T08:08:24.394Z"
   },
   {
    "duration": 4,
    "start_time": "2022-05-10T08:08:27.773Z"
   },
   {
    "duration": 5,
    "start_time": "2022-05-10T08:08:31.283Z"
   },
   {
    "duration": 4,
    "start_time": "2022-05-10T08:08:47.783Z"
   },
   {
    "duration": 4,
    "start_time": "2022-05-10T08:09:29.185Z"
   },
   {
    "duration": 71,
    "start_time": "2022-05-10T08:09:38.141Z"
   },
   {
    "duration": 11,
    "start_time": "2022-05-10T08:09:49.095Z"
   },
   {
    "duration": 4,
    "start_time": "2022-05-10T08:10:24.628Z"
   },
   {
    "duration": 4,
    "start_time": "2022-05-10T08:10:27.167Z"
   },
   {
    "duration": 10,
    "start_time": "2022-05-10T08:10:34.956Z"
   },
   {
    "duration": 5,
    "start_time": "2022-05-10T08:11:03.971Z"
   },
   {
    "duration": 5,
    "start_time": "2022-05-10T08:11:15.166Z"
   },
   {
    "duration": 4,
    "start_time": "2022-05-10T08:11:17.571Z"
   },
   {
    "duration": 4,
    "start_time": "2022-05-10T08:12:19.911Z"
   },
   {
    "duration": 166,
    "start_time": "2022-05-10T08:13:54.384Z"
   },
   {
    "duration": 166,
    "start_time": "2022-05-10T08:14:21.773Z"
   },
   {
    "duration": 172,
    "start_time": "2022-05-10T08:14:28.903Z"
   },
   {
    "duration": 170,
    "start_time": "2022-05-10T08:15:06.633Z"
   },
   {
    "duration": 4,
    "start_time": "2022-05-10T08:15:34.822Z"
   },
   {
    "duration": 18,
    "start_time": "2022-05-10T08:16:04.513Z"
   },
   {
    "duration": 422,
    "start_time": "2022-05-10T08:18:49.176Z"
   },
   {
    "duration": 195,
    "start_time": "2022-05-10T08:18:49.600Z"
   },
   {
    "duration": 19,
    "start_time": "2022-05-10T08:18:49.797Z"
   },
   {
    "duration": 34,
    "start_time": "2022-05-10T08:18:49.818Z"
   },
   {
    "duration": 45,
    "start_time": "2022-05-10T08:18:49.854Z"
   },
   {
    "duration": 5,
    "start_time": "2022-05-10T08:18:49.901Z"
   },
   {
    "duration": 17,
    "start_time": "2022-05-10T08:18:49.908Z"
   },
   {
    "duration": 7,
    "start_time": "2022-05-10T08:18:49.927Z"
   },
   {
    "duration": 29,
    "start_time": "2022-05-10T08:18:49.936Z"
   },
   {
    "duration": 27,
    "start_time": "2022-05-10T08:18:49.968Z"
   },
   {
    "duration": 45,
    "start_time": "2022-05-10T08:18:49.997Z"
   },
   {
    "duration": 75,
    "start_time": "2022-05-10T08:18:50.044Z"
   },
   {
    "duration": 112,
    "start_time": "2022-05-10T08:18:50.121Z"
   },
   {
    "duration": 67,
    "start_time": "2022-05-10T08:18:50.236Z"
   },
   {
    "duration": 9,
    "start_time": "2022-05-10T08:18:50.305Z"
   },
   {
    "duration": 4,
    "start_time": "2022-05-10T08:18:50.334Z"
   },
   {
    "duration": 20,
    "start_time": "2022-05-10T08:18:50.339Z"
   },
   {
    "duration": 9,
    "start_time": "2022-05-10T08:18:50.361Z"
   },
   {
    "duration": 17,
    "start_time": "2022-05-10T08:18:50.372Z"
   },
   {
    "duration": 43,
    "start_time": "2022-05-10T08:18:50.391Z"
   },
   {
    "duration": 74,
    "start_time": "2022-05-10T08:18:50.435Z"
   },
   {
    "duration": 26,
    "start_time": "2022-05-10T08:18:50.511Z"
   },
   {
    "duration": 15,
    "start_time": "2022-05-10T08:18:50.539Z"
   },
   {
    "duration": 16,
    "start_time": "2022-05-10T08:18:50.556Z"
   },
   {
    "duration": 16,
    "start_time": "2022-05-10T08:18:50.573Z"
   },
   {
    "duration": 46,
    "start_time": "2022-05-10T08:18:50.590Z"
   },
   {
    "duration": 18,
    "start_time": "2022-05-10T08:18:50.638Z"
   },
   {
    "duration": 9,
    "start_time": "2022-05-10T08:18:50.660Z"
   },
   {
    "duration": 22,
    "start_time": "2022-05-10T08:18:50.671Z"
   },
   {
    "duration": 53,
    "start_time": "2022-05-10T08:18:50.694Z"
   },
   {
    "duration": 5,
    "start_time": "2022-05-10T08:18:50.749Z"
   },
   {
    "duration": 24,
    "start_time": "2022-05-10T08:18:50.756Z"
   },
   {
    "duration": 13,
    "start_time": "2022-05-10T08:18:50.782Z"
   },
   {
    "duration": 44,
    "start_time": "2022-05-10T08:18:50.797Z"
   },
   {
    "duration": 13,
    "start_time": "2022-05-10T08:18:50.843Z"
   },
   {
    "duration": 17,
    "start_time": "2022-05-10T08:18:50.858Z"
   },
   {
    "duration": 6,
    "start_time": "2022-05-10T08:18:50.877Z"
   },
   {
    "duration": 12,
    "start_time": "2022-05-10T08:18:50.885Z"
   },
   {
    "duration": 10,
    "start_time": "2022-05-10T08:18:50.899Z"
   },
   {
    "duration": 68,
    "start_time": "2022-05-10T08:21:53.989Z"
   },
   {
    "duration": 8,
    "start_time": "2022-05-10T08:22:37.645Z"
   },
   {
    "duration": 415,
    "start_time": "2022-05-10T08:27:41.099Z"
   },
   {
    "duration": 157,
    "start_time": "2022-05-10T08:27:41.516Z"
   },
   {
    "duration": 18,
    "start_time": "2022-05-10T08:27:41.675Z"
   },
   {
    "duration": 10,
    "start_time": "2022-05-10T08:27:41.695Z"
   },
   {
    "duration": 44,
    "start_time": "2022-05-10T08:27:41.707Z"
   },
   {
    "duration": 4,
    "start_time": "2022-05-10T08:27:41.753Z"
   },
   {
    "duration": 14,
    "start_time": "2022-05-10T08:27:41.758Z"
   },
   {
    "duration": 10,
    "start_time": "2022-05-10T08:27:41.773Z"
   },
   {
    "duration": 27,
    "start_time": "2022-05-10T08:27:41.785Z"
   },
   {
    "duration": 19,
    "start_time": "2022-05-10T08:27:41.832Z"
   },
   {
    "duration": 25,
    "start_time": "2022-05-10T08:27:41.853Z"
   },
   {
    "duration": 94,
    "start_time": "2022-05-10T08:27:41.880Z"
   },
   {
    "duration": 93,
    "start_time": "2022-05-10T08:27:41.976Z"
   },
   {
    "duration": 68,
    "start_time": "2022-05-10T08:27:42.071Z"
   },
   {
    "duration": 9,
    "start_time": "2022-05-10T08:27:42.141Z"
   },
   {
    "duration": 3,
    "start_time": "2022-05-10T08:27:42.153Z"
   },
   {
    "duration": 17,
    "start_time": "2022-05-10T08:27:42.158Z"
   },
   {
    "duration": 10,
    "start_time": "2022-05-10T08:27:42.177Z"
   },
   {
    "duration": 52,
    "start_time": "2022-05-10T08:27:42.189Z"
   },
   {
    "duration": 14,
    "start_time": "2022-05-10T08:27:42.243Z"
   },
   {
    "duration": 93,
    "start_time": "2022-05-10T08:27:42.259Z"
   },
   {
    "duration": 17,
    "start_time": "2022-05-10T08:27:42.354Z"
   },
   {
    "duration": 19,
    "start_time": "2022-05-10T08:27:42.373Z"
   },
   {
    "duration": 15,
    "start_time": "2022-05-10T08:27:42.394Z"
   },
   {
    "duration": 36,
    "start_time": "2022-05-10T08:27:42.411Z"
   },
   {
    "duration": 16,
    "start_time": "2022-05-10T08:27:42.449Z"
   },
   {
    "duration": 15,
    "start_time": "2022-05-10T08:27:42.467Z"
   },
   {
    "duration": 9,
    "start_time": "2022-05-10T08:27:42.485Z"
   },
   {
    "duration": 53,
    "start_time": "2022-05-10T08:27:42.495Z"
   },
   {
    "duration": 17,
    "start_time": "2022-05-10T08:27:42.550Z"
   },
   {
    "duration": 4,
    "start_time": "2022-05-10T08:27:42.569Z"
   },
   {
    "duration": 22,
    "start_time": "2022-05-10T08:27:42.574Z"
   },
   {
    "duration": 37,
    "start_time": "2022-05-10T08:27:42.598Z"
   },
   {
    "duration": 17,
    "start_time": "2022-05-10T08:27:42.637Z"
   },
   {
    "duration": 12,
    "start_time": "2022-05-10T08:27:42.656Z"
   },
   {
    "duration": 9,
    "start_time": "2022-05-10T08:27:42.670Z"
   },
   {
    "duration": 5,
    "start_time": "2022-05-10T08:27:42.681Z"
   },
   {
    "duration": 9,
    "start_time": "2022-05-10T08:27:42.688Z"
   },
   {
    "duration": 39,
    "start_time": "2022-05-10T08:27:42.698Z"
   },
   {
    "duration": 4,
    "start_time": "2022-05-10T08:31:39.058Z"
   },
   {
    "duration": 433,
    "start_time": "2022-05-10T08:45:43.024Z"
   },
   {
    "duration": 158,
    "start_time": "2022-05-10T08:45:43.459Z"
   },
   {
    "duration": 23,
    "start_time": "2022-05-10T08:45:43.618Z"
   },
   {
    "duration": 10,
    "start_time": "2022-05-10T08:45:43.643Z"
   },
   {
    "duration": 32,
    "start_time": "2022-05-10T08:45:43.655Z"
   },
   {
    "duration": 4,
    "start_time": "2022-05-10T08:45:43.689Z"
   },
   {
    "duration": 13,
    "start_time": "2022-05-10T08:45:43.695Z"
   },
   {
    "duration": 4,
    "start_time": "2022-05-10T08:45:43.733Z"
   },
   {
    "duration": 29,
    "start_time": "2022-05-10T08:45:43.739Z"
   },
   {
    "duration": 19,
    "start_time": "2022-05-10T08:45:43.770Z"
   },
   {
    "duration": 47,
    "start_time": "2022-05-10T08:45:43.791Z"
   },
   {
    "duration": 68,
    "start_time": "2022-05-10T08:45:43.839Z"
   },
   {
    "duration": 97,
    "start_time": "2022-05-10T08:45:43.908Z"
   },
   {
    "duration": 71,
    "start_time": "2022-05-10T08:45:44.007Z"
   },
   {
    "duration": 9,
    "start_time": "2022-05-10T08:45:44.079Z"
   },
   {
    "duration": 3,
    "start_time": "2022-05-10T08:45:44.089Z"
   },
   {
    "duration": 19,
    "start_time": "2022-05-10T08:45:44.094Z"
   },
   {
    "duration": 9,
    "start_time": "2022-05-10T08:45:44.134Z"
   },
   {
    "duration": 14,
    "start_time": "2022-05-10T08:45:44.145Z"
   },
   {
    "duration": 13,
    "start_time": "2022-05-10T08:45:44.161Z"
   },
   {
    "duration": 101,
    "start_time": "2022-05-10T08:45:44.175Z"
   },
   {
    "duration": 16,
    "start_time": "2022-05-10T08:45:44.278Z"
   },
   {
    "duration": 14,
    "start_time": "2022-05-10T08:45:44.296Z"
   },
   {
    "duration": 17,
    "start_time": "2022-05-10T08:45:44.332Z"
   },
   {
    "duration": 15,
    "start_time": "2022-05-10T08:45:44.350Z"
   },
   {
    "duration": 17,
    "start_time": "2022-05-10T08:45:44.367Z"
   },
   {
    "duration": 15,
    "start_time": "2022-05-10T08:45:44.386Z"
   },
   {
    "duration": 10,
    "start_time": "2022-05-10T08:45:44.433Z"
   },
   {
    "duration": 21,
    "start_time": "2022-05-10T08:45:44.445Z"
   },
   {
    "duration": 17,
    "start_time": "2022-05-10T08:45:44.468Z"
   },
   {
    "duration": 5,
    "start_time": "2022-05-10T08:45:44.486Z"
   },
   {
    "duration": 50,
    "start_time": "2022-05-10T08:45:44.492Z"
   },
   {
    "duration": 11,
    "start_time": "2022-05-10T08:45:44.544Z"
   },
   {
    "duration": 17,
    "start_time": "2022-05-10T08:45:44.557Z"
   },
   {
    "duration": 12,
    "start_time": "2022-05-10T08:45:44.575Z"
   },
   {
    "duration": 9,
    "start_time": "2022-05-10T08:45:44.588Z"
   },
   {
    "duration": 37,
    "start_time": "2022-05-10T08:45:44.598Z"
   },
   {
    "duration": 7,
    "start_time": "2022-05-10T08:45:44.637Z"
   },
   {
    "duration": 8,
    "start_time": "2022-05-10T08:45:44.646Z"
   },
   {
    "duration": 4,
    "start_time": "2022-05-10T08:50:12.160Z"
   },
   {
    "duration": 4,
    "start_time": "2022-05-10T08:50:14.837Z"
   },
   {
    "duration": 446,
    "start_time": "2022-05-10T08:50:29.217Z"
   },
   {
    "duration": 170,
    "start_time": "2022-05-10T08:50:29.665Z"
   },
   {
    "duration": 18,
    "start_time": "2022-05-10T08:50:29.837Z"
   },
   {
    "duration": 10,
    "start_time": "2022-05-10T08:50:29.857Z"
   },
   {
    "duration": 35,
    "start_time": "2022-05-10T08:50:29.868Z"
   },
   {
    "duration": 4,
    "start_time": "2022-05-10T08:50:29.905Z"
   },
   {
    "duration": 32,
    "start_time": "2022-05-10T08:50:29.910Z"
   },
   {
    "duration": 7,
    "start_time": "2022-05-10T08:50:29.944Z"
   },
   {
    "duration": 28,
    "start_time": "2022-05-10T08:50:29.953Z"
   },
   {
    "duration": 21,
    "start_time": "2022-05-10T08:50:29.984Z"
   },
   {
    "duration": 43,
    "start_time": "2022-05-10T08:50:30.007Z"
   },
   {
    "duration": 85,
    "start_time": "2022-05-10T08:50:30.052Z"
   },
   {
    "duration": 100,
    "start_time": "2022-05-10T08:50:30.139Z"
   },
   {
    "duration": 66,
    "start_time": "2022-05-10T08:50:30.241Z"
   },
   {
    "duration": 25,
    "start_time": "2022-05-10T08:50:30.309Z"
   },
   {
    "duration": 4,
    "start_time": "2022-05-10T08:50:30.337Z"
   },
   {
    "duration": 22,
    "start_time": "2022-05-10T08:50:30.343Z"
   },
   {
    "duration": 10,
    "start_time": "2022-05-10T08:50:30.367Z"
   },
   {
    "duration": 25,
    "start_time": "2022-05-10T08:50:30.379Z"
   },
   {
    "duration": 39,
    "start_time": "2022-05-10T08:50:30.406Z"
   },
   {
    "duration": 89,
    "start_time": "2022-05-10T08:50:30.447Z"
   },
   {
    "duration": 19,
    "start_time": "2022-05-10T08:50:30.537Z"
   },
   {
    "duration": 22,
    "start_time": "2022-05-10T08:50:30.558Z"
   },
   {
    "duration": 25,
    "start_time": "2022-05-10T08:50:30.582Z"
   },
   {
    "duration": 33,
    "start_time": "2022-05-10T08:50:30.609Z"
   },
   {
    "duration": 20,
    "start_time": "2022-05-10T08:50:30.644Z"
   },
   {
    "duration": 23,
    "start_time": "2022-05-10T08:50:30.666Z"
   },
   {
    "duration": 9,
    "start_time": "2022-05-10T08:50:30.693Z"
   },
   {
    "duration": 40,
    "start_time": "2022-05-10T08:50:30.704Z"
   },
   {
    "duration": 28,
    "start_time": "2022-05-10T08:50:30.746Z"
   },
   {
    "duration": 4,
    "start_time": "2022-05-10T08:50:30.776Z"
   },
   {
    "duration": 27,
    "start_time": "2022-05-10T08:50:30.782Z"
   },
   {
    "duration": 31,
    "start_time": "2022-05-10T08:50:30.810Z"
   },
   {
    "duration": 18,
    "start_time": "2022-05-10T08:50:30.842Z"
   },
   {
    "duration": 12,
    "start_time": "2022-05-10T08:50:30.862Z"
   },
   {
    "duration": 11,
    "start_time": "2022-05-10T08:50:30.876Z"
   },
   {
    "duration": 8,
    "start_time": "2022-05-10T08:50:30.889Z"
   },
   {
    "duration": 34,
    "start_time": "2022-05-10T08:50:30.899Z"
   },
   {
    "duration": 7,
    "start_time": "2022-05-10T08:50:30.935Z"
   },
   {
    "duration": 425,
    "start_time": "2022-05-10T08:52:44.737Z"
   },
   {
    "duration": 174,
    "start_time": "2022-05-10T08:52:45.164Z"
   },
   {
    "duration": 18,
    "start_time": "2022-05-10T08:52:45.340Z"
   },
   {
    "duration": 9,
    "start_time": "2022-05-10T08:52:45.360Z"
   },
   {
    "duration": 33,
    "start_time": "2022-05-10T08:52:45.371Z"
   },
   {
    "duration": 4,
    "start_time": "2022-05-10T08:52:45.405Z"
   },
   {
    "duration": 33,
    "start_time": "2022-05-10T08:52:45.411Z"
   },
   {
    "duration": 8,
    "start_time": "2022-05-10T08:52:45.445Z"
   },
   {
    "duration": 29,
    "start_time": "2022-05-10T08:52:45.455Z"
   },
   {
    "duration": 21,
    "start_time": "2022-05-10T08:52:45.487Z"
   },
   {
    "duration": 43,
    "start_time": "2022-05-10T08:52:45.510Z"
   },
   {
    "duration": 83,
    "start_time": "2022-05-10T08:52:45.555Z"
   },
   {
    "duration": 108,
    "start_time": "2022-05-10T08:52:45.640Z"
   },
   {
    "duration": 63,
    "start_time": "2022-05-10T08:52:45.750Z"
   },
   {
    "duration": 21,
    "start_time": "2022-05-10T08:52:45.815Z"
   },
   {
    "duration": 3,
    "start_time": "2022-05-10T08:52:45.838Z"
   },
   {
    "duration": 20,
    "start_time": "2022-05-10T08:52:45.842Z"
   },
   {
    "duration": 9,
    "start_time": "2022-05-10T08:52:45.864Z"
   },
   {
    "duration": 20,
    "start_time": "2022-05-10T08:52:45.874Z"
   },
   {
    "duration": 39,
    "start_time": "2022-05-10T08:52:45.896Z"
   },
   {
    "duration": 72,
    "start_time": "2022-05-10T08:52:45.937Z"
   },
   {
    "duration": 30,
    "start_time": "2022-05-10T08:52:46.011Z"
   },
   {
    "duration": 17,
    "start_time": "2022-05-10T08:52:46.042Z"
   },
   {
    "duration": 17,
    "start_time": "2022-05-10T08:52:46.060Z"
   },
   {
    "duration": 14,
    "start_time": "2022-05-10T08:52:46.079Z"
   },
   {
    "duration": 45,
    "start_time": "2022-05-10T08:52:46.095Z"
   },
   {
    "duration": 15,
    "start_time": "2022-05-10T08:52:46.142Z"
   },
   {
    "duration": 9,
    "start_time": "2022-05-10T08:52:46.161Z"
   },
   {
    "duration": 23,
    "start_time": "2022-05-10T08:52:46.171Z"
   },
   {
    "duration": 42,
    "start_time": "2022-05-10T08:52:46.196Z"
   },
   {
    "duration": 4,
    "start_time": "2022-05-10T08:52:46.240Z"
   },
   {
    "duration": 23,
    "start_time": "2022-05-10T08:52:46.245Z"
   },
   {
    "duration": 11,
    "start_time": "2022-05-10T08:52:46.270Z"
   },
   {
    "duration": 18,
    "start_time": "2022-05-10T08:52:46.283Z"
   },
   {
    "duration": 38,
    "start_time": "2022-05-10T08:52:46.302Z"
   },
   {
    "duration": 10,
    "start_time": "2022-05-10T08:52:46.342Z"
   },
   {
    "duration": 10,
    "start_time": "2022-05-10T08:52:46.354Z"
   },
   {
    "duration": 10,
    "start_time": "2022-05-10T08:52:46.365Z"
   },
   {
    "duration": 7,
    "start_time": "2022-05-10T08:52:46.376Z"
   }
  ],
  "colab": {
   "collapsed_sections": [
    "E0vqbgi9ay0H",
    "VUC88oWjTJw2"
   ],
   "name": "yandex_music_project.ipynb",
   "provenance": []
  },
  "kernelspec": {
   "display_name": "Python 3 (ipykernel)",
   "language": "python",
   "name": "python3"
  },
  "language_info": {
   "codemirror_mode": {
    "name": "ipython",
    "version": 3
   },
   "file_extension": ".py",
   "mimetype": "text/x-python",
   "name": "python",
   "nbconvert_exporter": "python",
   "pygments_lexer": "ipython3",
   "version": "3.9.7"
  },
  "toc": {
   "base_numbering": 1,
   "nav_menu": {},
   "number_sections": true,
   "sideBar": true,
   "skip_h1_title": true,
   "title_cell": "Table of Contents",
   "title_sidebar": "Contents",
   "toc_cell": false,
   "toc_position": {
    "height": "calc(100% - 180px)",
    "left": "10px",
    "top": "150px",
    "width": "278.682px"
   },
   "toc_section_display": true,
   "toc_window_display": true
  }
 },
 "nbformat": 4,
 "nbformat_minor": 1
}
