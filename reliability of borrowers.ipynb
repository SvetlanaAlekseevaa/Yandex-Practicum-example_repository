{
 "cells": [
  {
   "cell_type": "markdown",
   "id": "9c516c82",
   "metadata": {},
   "source": [
    "# Исследование надежности заемщиков\n",
    "\n",
    "\n",
    "\n",
    "## Цель исследования\n",
    "\n",
    "**Заказчик** — кредитный отдел банка. \n",
    "\n",
    "Нужно проверить 4 гипотезы:\n",
    "1. Семейное положение влияет на факт погашения кредита в срок\n",
    "2. Количество детей клиента влияет на факт погашения кредита в срок\n",
    "3. Уровень дохода влияет на возврат кредита в срок\n",
    "4. Разные цели кредита влияют на возврат кредита в срок\n",
    "\n",
    "Входные данные от банка — статистика о платёжеспособности клиентов.\n",
    "Результаты исследования будут учтены при построении модели кредитного скоринга — специальной системы, которая оценивает способность потенциального заёмщика вернуть кредит банку.\n",
    "\n",
    "## Ход исследования\n",
    "\n",
    "1. **Обзор данных**\n",
    "\n",
    "\n",
    "2. **Предобработка даных**\n",
    "\n",
    " \n",
    "   2.1 Заполнение пропусков\n",
    " \n",
    "   2.2 Проверка данных на аномалии и исправления\n",
    " \n",
    "   2.3 Изменение типов данных\n",
    " \n",
    "   2.4 Удаление дубликатов\n",
    " \n",
    "   2.5 Формирование дополнительных датафреймов словарей, декомпозиция исходного датафрейма\n",
    " \n",
    "   2.6 Категоризация дохода\n",
    " \n",
    "   2.7 Категоризация целей кредита\n",
    "\n",
    "\n",
    "3. **Проверка гипотез**\n"
   ]
  },
  {
   "cell_type": "markdown",
   "id": "08ba5d6d",
   "metadata": {},
   "source": [
    "\n",
    "### Шаг 1. Обзор данных"
   ]
  },
  {
   "cell_type": "code",
   "execution_count": 1,
   "id": "cf933218",
   "metadata": {
    "scrolled": false
   },
   "outputs": [
    {
     "data": {
      "text/html": [
       "<div>\n",
       "<style scoped>\n",
       "    .dataframe tbody tr th:only-of-type {\n",
       "        vertical-align: middle;\n",
       "    }\n",
       "\n",
       "    .dataframe tbody tr th {\n",
       "        vertical-align: top;\n",
       "    }\n",
       "\n",
       "    .dataframe thead th {\n",
       "        text-align: right;\n",
       "    }\n",
       "</style>\n",
       "<table border=\"1\" class=\"dataframe\">\n",
       "  <thead>\n",
       "    <tr style=\"text-align: right;\">\n",
       "      <th></th>\n",
       "      <th>children</th>\n",
       "      <th>days_employed</th>\n",
       "      <th>dob_years</th>\n",
       "      <th>education</th>\n",
       "      <th>education_id</th>\n",
       "      <th>family_status</th>\n",
       "      <th>family_status_id</th>\n",
       "      <th>gender</th>\n",
       "      <th>income_type</th>\n",
       "      <th>debt</th>\n",
       "      <th>total_income</th>\n",
       "      <th>purpose</th>\n",
       "    </tr>\n",
       "  </thead>\n",
       "  <tbody>\n",
       "    <tr>\n",
       "      <th>0</th>\n",
       "      <td>1</td>\n",
       "      <td>-8437.673028</td>\n",
       "      <td>42</td>\n",
       "      <td>высшее</td>\n",
       "      <td>0</td>\n",
       "      <td>женат / замужем</td>\n",
       "      <td>0</td>\n",
       "      <td>F</td>\n",
       "      <td>сотрудник</td>\n",
       "      <td>0</td>\n",
       "      <td>253875.639453</td>\n",
       "      <td>покупка жилья</td>\n",
       "    </tr>\n",
       "    <tr>\n",
       "      <th>1</th>\n",
       "      <td>1</td>\n",
       "      <td>-4024.803754</td>\n",
       "      <td>36</td>\n",
       "      <td>среднее</td>\n",
       "      <td>1</td>\n",
       "      <td>женат / замужем</td>\n",
       "      <td>0</td>\n",
       "      <td>F</td>\n",
       "      <td>сотрудник</td>\n",
       "      <td>0</td>\n",
       "      <td>112080.014102</td>\n",
       "      <td>приобретение автомобиля</td>\n",
       "    </tr>\n",
       "    <tr>\n",
       "      <th>2</th>\n",
       "      <td>0</td>\n",
       "      <td>-5623.422610</td>\n",
       "      <td>33</td>\n",
       "      <td>Среднее</td>\n",
       "      <td>1</td>\n",
       "      <td>женат / замужем</td>\n",
       "      <td>0</td>\n",
       "      <td>M</td>\n",
       "      <td>сотрудник</td>\n",
       "      <td>0</td>\n",
       "      <td>145885.952297</td>\n",
       "      <td>покупка жилья</td>\n",
       "    </tr>\n",
       "    <tr>\n",
       "      <th>3</th>\n",
       "      <td>3</td>\n",
       "      <td>-4124.747207</td>\n",
       "      <td>32</td>\n",
       "      <td>среднее</td>\n",
       "      <td>1</td>\n",
       "      <td>женат / замужем</td>\n",
       "      <td>0</td>\n",
       "      <td>M</td>\n",
       "      <td>сотрудник</td>\n",
       "      <td>0</td>\n",
       "      <td>267628.550329</td>\n",
       "      <td>дополнительное образование</td>\n",
       "    </tr>\n",
       "    <tr>\n",
       "      <th>4</th>\n",
       "      <td>0</td>\n",
       "      <td>340266.072047</td>\n",
       "      <td>53</td>\n",
       "      <td>среднее</td>\n",
       "      <td>1</td>\n",
       "      <td>гражданский брак</td>\n",
       "      <td>1</td>\n",
       "      <td>F</td>\n",
       "      <td>пенсионер</td>\n",
       "      <td>0</td>\n",
       "      <td>158616.077870</td>\n",
       "      <td>сыграть свадьбу</td>\n",
       "    </tr>\n",
       "    <tr>\n",
       "      <th>5</th>\n",
       "      <td>0</td>\n",
       "      <td>-926.185831</td>\n",
       "      <td>27</td>\n",
       "      <td>высшее</td>\n",
       "      <td>0</td>\n",
       "      <td>гражданский брак</td>\n",
       "      <td>1</td>\n",
       "      <td>M</td>\n",
       "      <td>компаньон</td>\n",
       "      <td>0</td>\n",
       "      <td>255763.565419</td>\n",
       "      <td>покупка жилья</td>\n",
       "    </tr>\n",
       "    <tr>\n",
       "      <th>6</th>\n",
       "      <td>0</td>\n",
       "      <td>-2879.202052</td>\n",
       "      <td>43</td>\n",
       "      <td>высшее</td>\n",
       "      <td>0</td>\n",
       "      <td>женат / замужем</td>\n",
       "      <td>0</td>\n",
       "      <td>F</td>\n",
       "      <td>компаньон</td>\n",
       "      <td>0</td>\n",
       "      <td>240525.971920</td>\n",
       "      <td>операции с жильем</td>\n",
       "    </tr>\n",
       "    <tr>\n",
       "      <th>7</th>\n",
       "      <td>0</td>\n",
       "      <td>-152.779569</td>\n",
       "      <td>50</td>\n",
       "      <td>СРЕДНЕЕ</td>\n",
       "      <td>1</td>\n",
       "      <td>женат / замужем</td>\n",
       "      <td>0</td>\n",
       "      <td>M</td>\n",
       "      <td>сотрудник</td>\n",
       "      <td>0</td>\n",
       "      <td>135823.934197</td>\n",
       "      <td>образование</td>\n",
       "    </tr>\n",
       "    <tr>\n",
       "      <th>8</th>\n",
       "      <td>2</td>\n",
       "      <td>-6929.865299</td>\n",
       "      <td>35</td>\n",
       "      <td>ВЫСШЕЕ</td>\n",
       "      <td>0</td>\n",
       "      <td>гражданский брак</td>\n",
       "      <td>1</td>\n",
       "      <td>F</td>\n",
       "      <td>сотрудник</td>\n",
       "      <td>0</td>\n",
       "      <td>95856.832424</td>\n",
       "      <td>на проведение свадьбы</td>\n",
       "    </tr>\n",
       "    <tr>\n",
       "      <th>9</th>\n",
       "      <td>0</td>\n",
       "      <td>-2188.756445</td>\n",
       "      <td>41</td>\n",
       "      <td>среднее</td>\n",
       "      <td>1</td>\n",
       "      <td>женат / замужем</td>\n",
       "      <td>0</td>\n",
       "      <td>M</td>\n",
       "      <td>сотрудник</td>\n",
       "      <td>0</td>\n",
       "      <td>144425.938277</td>\n",
       "      <td>покупка жилья для семьи</td>\n",
       "    </tr>\n",
       "    <tr>\n",
       "      <th>10</th>\n",
       "      <td>2</td>\n",
       "      <td>-4171.483647</td>\n",
       "      <td>36</td>\n",
       "      <td>высшее</td>\n",
       "      <td>0</td>\n",
       "      <td>женат / замужем</td>\n",
       "      <td>0</td>\n",
       "      <td>M</td>\n",
       "      <td>компаньон</td>\n",
       "      <td>0</td>\n",
       "      <td>113943.491460</td>\n",
       "      <td>покупка недвижимости</td>\n",
       "    </tr>\n",
       "    <tr>\n",
       "      <th>11</th>\n",
       "      <td>0</td>\n",
       "      <td>-792.701887</td>\n",
       "      <td>40</td>\n",
       "      <td>среднее</td>\n",
       "      <td>1</td>\n",
       "      <td>женат / замужем</td>\n",
       "      <td>0</td>\n",
       "      <td>F</td>\n",
       "      <td>сотрудник</td>\n",
       "      <td>0</td>\n",
       "      <td>77069.234271</td>\n",
       "      <td>покупка коммерческой недвижимости</td>\n",
       "    </tr>\n",
       "    <tr>\n",
       "      <th>12</th>\n",
       "      <td>0</td>\n",
       "      <td>NaN</td>\n",
       "      <td>65</td>\n",
       "      <td>среднее</td>\n",
       "      <td>1</td>\n",
       "      <td>гражданский брак</td>\n",
       "      <td>1</td>\n",
       "      <td>M</td>\n",
       "      <td>пенсионер</td>\n",
       "      <td>0</td>\n",
       "      <td>NaN</td>\n",
       "      <td>сыграть свадьбу</td>\n",
       "    </tr>\n",
       "    <tr>\n",
       "      <th>13</th>\n",
       "      <td>0</td>\n",
       "      <td>-1846.641941</td>\n",
       "      <td>54</td>\n",
       "      <td>неоконченное высшее</td>\n",
       "      <td>2</td>\n",
       "      <td>женат / замужем</td>\n",
       "      <td>0</td>\n",
       "      <td>F</td>\n",
       "      <td>сотрудник</td>\n",
       "      <td>0</td>\n",
       "      <td>130458.228857</td>\n",
       "      <td>приобретение автомобиля</td>\n",
       "    </tr>\n",
       "    <tr>\n",
       "      <th>14</th>\n",
       "      <td>0</td>\n",
       "      <td>-1844.956182</td>\n",
       "      <td>56</td>\n",
       "      <td>высшее</td>\n",
       "      <td>0</td>\n",
       "      <td>гражданский брак</td>\n",
       "      <td>1</td>\n",
       "      <td>F</td>\n",
       "      <td>компаньон</td>\n",
       "      <td>1</td>\n",
       "      <td>165127.911772</td>\n",
       "      <td>покупка жилой недвижимости</td>\n",
       "    </tr>\n",
       "  </tbody>\n",
       "</table>\n",
       "</div>"
      ],
      "text/plain": [
       "    children  days_employed  dob_years            education  education_id  \\\n",
       "0          1   -8437.673028         42               высшее             0   \n",
       "1          1   -4024.803754         36              среднее             1   \n",
       "2          0   -5623.422610         33              Среднее             1   \n",
       "3          3   -4124.747207         32              среднее             1   \n",
       "4          0  340266.072047         53              среднее             1   \n",
       "5          0    -926.185831         27               высшее             0   \n",
       "6          0   -2879.202052         43               высшее             0   \n",
       "7          0    -152.779569         50              СРЕДНЕЕ             1   \n",
       "8          2   -6929.865299         35               ВЫСШЕЕ             0   \n",
       "9          0   -2188.756445         41              среднее             1   \n",
       "10         2   -4171.483647         36               высшее             0   \n",
       "11         0    -792.701887         40              среднее             1   \n",
       "12         0            NaN         65              среднее             1   \n",
       "13         0   -1846.641941         54  неоконченное высшее             2   \n",
       "14         0   -1844.956182         56               высшее             0   \n",
       "\n",
       "       family_status  family_status_id gender income_type  debt  \\\n",
       "0    женат / замужем                 0      F   сотрудник     0   \n",
       "1    женат / замужем                 0      F   сотрудник     0   \n",
       "2    женат / замужем                 0      M   сотрудник     0   \n",
       "3    женат / замужем                 0      M   сотрудник     0   \n",
       "4   гражданский брак                 1      F   пенсионер     0   \n",
       "5   гражданский брак                 1      M   компаньон     0   \n",
       "6    женат / замужем                 0      F   компаньон     0   \n",
       "7    женат / замужем                 0      M   сотрудник     0   \n",
       "8   гражданский брак                 1      F   сотрудник     0   \n",
       "9    женат / замужем                 0      M   сотрудник     0   \n",
       "10   женат / замужем                 0      M   компаньон     0   \n",
       "11   женат / замужем                 0      F   сотрудник     0   \n",
       "12  гражданский брак                 1      M   пенсионер     0   \n",
       "13   женат / замужем                 0      F   сотрудник     0   \n",
       "14  гражданский брак                 1      F   компаньон     1   \n",
       "\n",
       "     total_income                            purpose  \n",
       "0   253875.639453                      покупка жилья  \n",
       "1   112080.014102            приобретение автомобиля  \n",
       "2   145885.952297                      покупка жилья  \n",
       "3   267628.550329         дополнительное образование  \n",
       "4   158616.077870                    сыграть свадьбу  \n",
       "5   255763.565419                      покупка жилья  \n",
       "6   240525.971920                  операции с жильем  \n",
       "7   135823.934197                        образование  \n",
       "8    95856.832424              на проведение свадьбы  \n",
       "9   144425.938277            покупка жилья для семьи  \n",
       "10  113943.491460               покупка недвижимости  \n",
       "11   77069.234271  покупка коммерческой недвижимости  \n",
       "12            NaN                    сыграть свадьбу  \n",
       "13  130458.228857            приобретение автомобиля  \n",
       "14  165127.911772         покупка жилой недвижимости  "
      ]
     },
     "execution_count": 1,
     "metadata": {},
     "output_type": "execute_result"
    }
   ],
   "source": [
    "import pandas as pd\n",
    "try:\n",
    "    df_clients = pd.read_csv('/datasets/data.csv')\n",
    "except:\n",
    "     df_clients = pd.read_csv('data.csv')\n",
    "\n",
    "df_clients.head(15)"
   ]
  },
  {
   "cell_type": "markdown",
   "id": "e17ef0a3",
   "metadata": {},
   "source": [
    "На этом этапе видим следующее:\n",
    "* В столбцах days_employed и total_income\tесть пропущенные значения\n",
    "\n",
    "* В столбцах days_employed и total_income указаны вещественные значения, для упрощения расчетов необходимо заменить их на целочисленные\n",
    "\n",
    "* В столбце education не везде соблюден нижний регистр\n",
    "\n",
    "* В days_employed есть отрицательные значения (это может быть - если написали стаж через дефис). Возможно данные станут пригодны для работы, если убрать у них отрицательное значение.\n"
   ]
  },
  {
   "cell_type": "code",
   "execution_count": 2,
   "id": "9a50c3cd",
   "metadata": {},
   "outputs": [
    {
     "name": "stdout",
     "output_type": "stream",
     "text": [
      "<class 'pandas.core.frame.DataFrame'>\n",
      "RangeIndex: 21525 entries, 0 to 21524\n",
      "Data columns (total 12 columns):\n",
      " #   Column            Non-Null Count  Dtype  \n",
      "---  ------            --------------  -----  \n",
      " 0   children          21525 non-null  int64  \n",
      " 1   days_employed     19351 non-null  float64\n",
      " 2   dob_years         21525 non-null  int64  \n",
      " 3   education         21525 non-null  object \n",
      " 4   education_id      21525 non-null  int64  \n",
      " 5   family_status     21525 non-null  object \n",
      " 6   family_status_id  21525 non-null  int64  \n",
      " 7   gender            21525 non-null  object \n",
      " 8   income_type       21525 non-null  object \n",
      " 9   debt              21525 non-null  int64  \n",
      " 10  total_income      19351 non-null  float64\n",
      " 11  purpose           21525 non-null  object \n",
      "dtypes: float64(2), int64(5), object(5)\n",
      "memory usage: 2.0+ MB\n"
     ]
    }
   ],
   "source": [
    "df_clients.info() #получим общую информацию о таблице:"
   ]
  },
  {
   "cell_type": "code",
   "execution_count": 3,
   "id": "033ca6ea",
   "metadata": {},
   "outputs": [
    {
     "data": {
      "text/plain": [
       "children               0\n",
       "days_employed       2174\n",
       "dob_years              0\n",
       "education              0\n",
       "education_id           0\n",
       "family_status          0\n",
       "family_status_id       0\n",
       "gender                 0\n",
       "income_type            0\n",
       "debt                   0\n",
       "total_income        2174\n",
       "purpose                0\n",
       "dtype: int64"
      ]
     },
     "execution_count": 3,
     "metadata": {},
     "output_type": "execute_result"
    }
   ],
   "source": [
    "df_clients.isna().sum() #убедимся, что данные пропущены только в столбцах days_employed и total_income и посмотрим сколько их всего"
   ]
  },
  {
   "cell_type": "markdown",
   "id": "b821346b",
   "metadata": {},
   "source": [
    "Действительно, данные пропущены только в двух столбцах: days_employed и total_income. \n",
    "\n",
    "Данные пропущены в 10% строк в этих столбцах, что является слишком значительным, чтобы просто удалить пропуски.\n",
    "Получим, дополнительную информацию о таблице:"
   ]
  },
  {
   "cell_type": "code",
   "execution_count": 4,
   "id": "04b72c78",
   "metadata": {},
   "outputs": [
    {
     "data": {
      "text/html": [
       "<div>\n",
       "<style scoped>\n",
       "    .dataframe tbody tr th:only-of-type {\n",
       "        vertical-align: middle;\n",
       "    }\n",
       "\n",
       "    .dataframe tbody tr th {\n",
       "        vertical-align: top;\n",
       "    }\n",
       "\n",
       "    .dataframe thead th {\n",
       "        text-align: right;\n",
       "    }\n",
       "</style>\n",
       "<table border=\"1\" class=\"dataframe\">\n",
       "  <thead>\n",
       "    <tr style=\"text-align: right;\">\n",
       "      <th></th>\n",
       "      <th>children</th>\n",
       "      <th>days_employed</th>\n",
       "      <th>dob_years</th>\n",
       "      <th>education_id</th>\n",
       "      <th>family_status_id</th>\n",
       "      <th>debt</th>\n",
       "      <th>total_income</th>\n",
       "    </tr>\n",
       "  </thead>\n",
       "  <tbody>\n",
       "    <tr>\n",
       "      <th>count</th>\n",
       "      <td>21525.000000</td>\n",
       "      <td>19351.000000</td>\n",
       "      <td>21525.000000</td>\n",
       "      <td>21525.000000</td>\n",
       "      <td>21525.000000</td>\n",
       "      <td>21525.000000</td>\n",
       "      <td>1.935100e+04</td>\n",
       "    </tr>\n",
       "    <tr>\n",
       "      <th>mean</th>\n",
       "      <td>0.538908</td>\n",
       "      <td>63046.497661</td>\n",
       "      <td>43.293380</td>\n",
       "      <td>0.817236</td>\n",
       "      <td>0.972544</td>\n",
       "      <td>0.080883</td>\n",
       "      <td>1.674223e+05</td>\n",
       "    </tr>\n",
       "    <tr>\n",
       "      <th>std</th>\n",
       "      <td>1.381587</td>\n",
       "      <td>140827.311974</td>\n",
       "      <td>12.574584</td>\n",
       "      <td>0.548138</td>\n",
       "      <td>1.420324</td>\n",
       "      <td>0.272661</td>\n",
       "      <td>1.029716e+05</td>\n",
       "    </tr>\n",
       "    <tr>\n",
       "      <th>min</th>\n",
       "      <td>-1.000000</td>\n",
       "      <td>-18388.949901</td>\n",
       "      <td>0.000000</td>\n",
       "      <td>0.000000</td>\n",
       "      <td>0.000000</td>\n",
       "      <td>0.000000</td>\n",
       "      <td>2.066726e+04</td>\n",
       "    </tr>\n",
       "    <tr>\n",
       "      <th>25%</th>\n",
       "      <td>0.000000</td>\n",
       "      <td>-2747.423625</td>\n",
       "      <td>33.000000</td>\n",
       "      <td>1.000000</td>\n",
       "      <td>0.000000</td>\n",
       "      <td>0.000000</td>\n",
       "      <td>1.030532e+05</td>\n",
       "    </tr>\n",
       "    <tr>\n",
       "      <th>50%</th>\n",
       "      <td>0.000000</td>\n",
       "      <td>-1203.369529</td>\n",
       "      <td>42.000000</td>\n",
       "      <td>1.000000</td>\n",
       "      <td>0.000000</td>\n",
       "      <td>0.000000</td>\n",
       "      <td>1.450179e+05</td>\n",
       "    </tr>\n",
       "    <tr>\n",
       "      <th>75%</th>\n",
       "      <td>1.000000</td>\n",
       "      <td>-291.095954</td>\n",
       "      <td>53.000000</td>\n",
       "      <td>1.000000</td>\n",
       "      <td>1.000000</td>\n",
       "      <td>0.000000</td>\n",
       "      <td>2.034351e+05</td>\n",
       "    </tr>\n",
       "    <tr>\n",
       "      <th>max</th>\n",
       "      <td>20.000000</td>\n",
       "      <td>401755.400475</td>\n",
       "      <td>75.000000</td>\n",
       "      <td>4.000000</td>\n",
       "      <td>4.000000</td>\n",
       "      <td>1.000000</td>\n",
       "      <td>2.265604e+06</td>\n",
       "    </tr>\n",
       "  </tbody>\n",
       "</table>\n",
       "</div>"
      ],
      "text/plain": [
       "           children  days_employed     dob_years  education_id  \\\n",
       "count  21525.000000   19351.000000  21525.000000  21525.000000   \n",
       "mean       0.538908   63046.497661     43.293380      0.817236   \n",
       "std        1.381587  140827.311974     12.574584      0.548138   \n",
       "min       -1.000000  -18388.949901      0.000000      0.000000   \n",
       "25%        0.000000   -2747.423625     33.000000      1.000000   \n",
       "50%        0.000000   -1203.369529     42.000000      1.000000   \n",
       "75%        1.000000    -291.095954     53.000000      1.000000   \n",
       "max       20.000000  401755.400475     75.000000      4.000000   \n",
       "\n",
       "       family_status_id          debt  total_income  \n",
       "count      21525.000000  21525.000000  1.935100e+04  \n",
       "mean           0.972544      0.080883  1.674223e+05  \n",
       "std            1.420324      0.272661  1.029716e+05  \n",
       "min            0.000000      0.000000  2.066726e+04  \n",
       "25%            0.000000      0.000000  1.030532e+05  \n",
       "50%            0.000000      0.000000  1.450179e+05  \n",
       "75%            1.000000      0.000000  2.034351e+05  \n",
       "max            4.000000      1.000000  2.265604e+06  "
      ]
     },
     "execution_count": 4,
     "metadata": {},
     "output_type": "execute_result"
    }
   ],
   "source": [
    "df_clients.describe()"
   ]
  },
  {
   "cell_type": "markdown",
   "id": "5e8cb5bd",
   "metadata": {},
   "source": [
    "Дополнительно обнаружили:\n",
    "\n",
    "* children - количество детей от -1 до 20, считаем человеческой ошибкой(выглядит, что на самом деле -1 = 1, а 20=2)\n",
    "\n",
    "* dob_years - возраст равен 0 - некорректные данные при заполнении информации, нужно будет разбираться, по какой причине\n",
    "\n",
    "* days_employed - максимальный стаж 401755/365 - 1100 лет Оо"
   ]
  },
  {
   "cell_type": "markdown",
   "id": "592bbb5c",
   "metadata": {},
   "source": [
    "### Шаг 2.1 Заполнение пропусков"
   ]
  },
  {
   "cell_type": "markdown",
   "id": "a2b3c2b3",
   "metadata": {},
   "source": [
    "\n",
    "Разница в доходах даже на уровне одной группы, например предпринимателя - может быть огромной. Потому для заполнения пропусков лучше взять медиану.\n"
   ]
  },
  {
   "cell_type": "code",
   "execution_count": 5,
   "id": "832f3149",
   "metadata": {},
   "outputs": [
    {
     "data": {
      "text/plain": [
       "income_type\n",
       "безработный        131339.751676\n",
       "в декрете           53829.130729\n",
       "госслужащий        150447.935283\n",
       "компаньон          172357.950966\n",
       "пенсионер          118514.486412\n",
       "предприниматель    499163.144947\n",
       "сотрудник          142594.396847\n",
       "студент             98201.625314\n",
       "Name: total_income, dtype: float64"
      ]
     },
     "execution_count": 5,
     "metadata": {},
     "output_type": "execute_result"
    }
   ],
   "source": [
    "#нашли медиану по каждой группе\n",
    "df_clients.groupby('income_type')['total_income'].median()"
   ]
  },
  {
   "cell_type": "markdown",
   "id": "65d881ba",
   "metadata": {},
   "source": [
    "Компаньон зарабатывает значительно меньше предпринимателя, не стоит объединять его с предпринимателем.\n",
    "\n",
    "Интересная штука- у безработного есть доход.\n",
    "Безработный и пенсионер - могут быть одной категорией, либо безработный стал безработным недавно,попал под сокращение.\n",
    "\n"
   ]
  },
  {
   "cell_type": "code",
   "execution_count": 6,
   "id": "eddc1b15",
   "metadata": {},
   "outputs": [
    {
     "data": {
      "text/plain": [
       "сотрудник          11119\n",
       "компаньон           5085\n",
       "пенсионер           3856\n",
       "госслужащий         1459\n",
       "безработный            2\n",
       "предприниматель        2\n",
       "студент                1\n",
       "в декрете              1\n",
       "Name: income_type, dtype: int64"
      ]
     },
     "execution_count": 6,
     "metadata": {},
     "output_type": "execute_result"
    }
   ],
   "source": [
    "df_clients['income_type'].value_counts()"
   ]
  },
  {
   "cell_type": "markdown",
   "id": "ad8fdcb4",
   "metadata": {},
   "source": [
    "Количества безработных, предпринимателей, студентов и тех, кто в декрете- недостаточно для того, чтобы сделать верные выводы по данным. Их можно удалить."
   ]
  },
  {
   "cell_type": "code",
   "execution_count": 7,
   "id": "0568be9f",
   "metadata": {},
   "outputs": [
    {
     "data": {
      "text/plain": [
       "сотрудник      11119\n",
       "компаньон       5085\n",
       "пенсионер       3856\n",
       "госслужащий     1459\n",
       "Name: income_type, dtype: int64"
      ]
     },
     "execution_count": 7,
     "metadata": {},
     "output_type": "execute_result"
    }
   ],
   "source": [
    "# удаляем\n",
    "df_clients = df_clients[(df_clients[\"income_type\"] != 'безработный')&\n",
    "                       (df_clients[\"income_type\"] != 'предприниматель')&\n",
    "                       (df_clients[\"income_type\"] != 'студент')&\n",
    "                       (df_clients[\"income_type\"] != 'в декрете')]\n",
    "#проверяем\n",
    "df_clients['income_type'].value_counts()"
   ]
  },
  {
   "cell_type": "code",
   "execution_count": 8,
   "id": "890dad79",
   "metadata": {
    "scrolled": true
   },
   "outputs": [
    {
     "data": {
      "text/plain": [
       "children               0\n",
       "days_employed       2173\n",
       "dob_years              0\n",
       "education              0\n",
       "education_id           0\n",
       "family_status          0\n",
       "family_status_id       0\n",
       "gender                 0\n",
       "income_type            0\n",
       "debt                   0\n",
       "total_income           0\n",
       "purpose                0\n",
       "dtype: int64"
      ]
     },
     "execution_count": 8,
     "metadata": {},
     "output_type": "execute_result"
    }
   ],
   "source": [
    "#заполняем медианой по каждой группе\n",
    "df_clients['total_income']=df_clients.groupby('income_type')['total_income'].apply(lambda x: x.fillna(x.median()))\n",
    "\n",
    "#убедились, что мы заполнили пропуски в данных в столбце income_type медианными значениями \n",
    "df_clients.isna().sum() "
   ]
  },
  {
   "cell_type": "markdown",
   "id": "7b69e288",
   "metadata": {},
   "source": [
    "Все ок, с income_type разобрались:)"
   ]
  },
  {
   "cell_type": "markdown",
   "id": "21a04365",
   "metadata": {},
   "source": [
    "### Шаг 2.2 Проверка данных на аномалии и исправления."
   ]
  },
  {
   "cell_type": "markdown",
   "id": "ce47632e",
   "metadata": {},
   "source": [
    "Пришло время разобраться с отрицательными значениями в трудовом стаже. Заменим их на положительные и посчитаем средние значения по каждому типу занятости."
   ]
  },
  {
   "cell_type": "code",
   "execution_count": 9,
   "id": "fc4edb6e",
   "metadata": {},
   "outputs": [
    {
     "data": {
      "text/plain": [
       "0      8437.673028\n",
       "1      4024.803754\n",
       "2      5623.422610\n",
       "3      4124.747207\n",
       "4    340266.072047\n",
       "Name: days_employed, dtype: float64"
      ]
     },
     "execution_count": 9,
     "metadata": {},
     "output_type": "execute_result"
    }
   ],
   "source": [
    "df_clients['days_employed'] = df_clients['days_employed'].abs()\n",
    "df_clients['days_employed'].head() #убедились, что избавились от минусов"
   ]
  },
  {
   "cell_type": "code",
   "execution_count": 10,
   "id": "60ba03bc",
   "metadata": {},
   "outputs": [
    {
     "data": {
      "text/plain": [
       "income_type\n",
       "госслужащий      3399.896902\n",
       "компаньон        2111.524398\n",
       "пенсионер      365003.491245\n",
       "сотрудник        2326.499216\n",
       "Name: days_employed, dtype: float64"
      ]
     },
     "execution_count": 10,
     "metadata": {},
     "output_type": "execute_result"
    }
   ],
   "source": [
    "#нашли среднее по каждой группе\n",
    "df_clients.groupby('income_type')['days_employed'].mean() \n"
   ]
  },
  {
   "cell_type": "markdown",
   "id": "aa936f43",
   "metadata": {},
   "source": [
    "Явно выделяется пенсионер со стажем в тысячу лет.\n",
    "\n",
    "Посмотрим на остальных: у компаньона всего 5 лет, у сотрудника - 6 при среднем возрасте 40 лет(считаем в слудующем коде). \n",
    "\n",
    "Данные не корректны по всему столбцу, потому мы не будем заменять пропуски на среднее значение, а сделаем новый столбец, в котором предположим, что люди работали с 18 лет без прерывания трудового стажа.\n",
    "\n",
    "Сначала разберемся с нулевым возрастом:\n"
   ]
  },
  {
   "cell_type": "code",
   "execution_count": 11,
   "id": "1405bf44",
   "metadata": {},
   "outputs": [
    {
     "data": {
      "text/plain": [
       "101"
      ]
     },
     "execution_count": 11,
     "metadata": {},
     "output_type": "execute_result"
    }
   ],
   "source": [
    "len(df_clients[df_clients['dob_years']==0])"
   ]
  },
  {
   "cell_type": "markdown",
   "id": "65817825",
   "metadata": {},
   "source": [
    "0,5% без возраста - слишком много, чтобы просто удалить. заменим средним по типу занятости:"
   ]
  },
  {
   "cell_type": "code",
   "execution_count": 12,
   "id": "1e11f5e9",
   "metadata": {},
   "outputs": [
    {
     "data": {
      "text/plain": [
       "income_type\n",
       "госслужащий    40.636737\n",
       "компаньон      39.697542\n",
       "пенсионер      59.063019\n",
       "сотрудник      39.821027\n",
       "Name: dob_years, dtype: float64"
      ]
     },
     "execution_count": 12,
     "metadata": {},
     "output_type": "execute_result"
    }
   ],
   "source": [
    "years_mean = df_clients.groupby('income_type')['dob_years'].mean() \n",
    "years_mean #результат выглядит адекватно"
   ]
  },
  {
   "cell_type": "code",
   "execution_count": 13,
   "id": "d689cb16",
   "metadata": {
    "scrolled": true
   },
   "outputs": [
    {
     "data": {
      "text/plain": [
       "children               0\n",
       "days_employed       2173\n",
       "dob_years              0\n",
       "education              0\n",
       "education_id           0\n",
       "family_status          0\n",
       "family_status_id       0\n",
       "gender                 0\n",
       "income_type            0\n",
       "debt                   0\n",
       "total_income           0\n",
       "purpose                0\n",
       "dtype: int64"
      ]
     },
     "execution_count": 13,
     "metadata": {},
     "output_type": "execute_result"
    }
   ],
   "source": [
    "#заменим 0 на среднее значение по группам\n",
    "df_clients['dob_years'] = df_clients['dob_years'].fillna(value=0) \n",
    "df_clients.loc[df_clients['dob_years']==0, 'dob_years'] = years_mean\n",
    "df_clients['dob_years'] = df_clients.groupby('income_type')['dob_years'].apply(lambda x: x.fillna(x.mean()))\n",
    "\n",
    "# проверим, что все ок, нет пропущенных значений по возрасту\n",
    "df_clients.isna().sum()"
   ]
  },
  {
   "cell_type": "code",
   "execution_count": 14,
   "id": "d064384d",
   "metadata": {},
   "outputs": [
    {
     "data": {
      "text/plain": [
       "13021    19.0\n",
       "15659    19.0\n",
       "12047    19.0\n",
       "20230    19.0\n",
       "2725     19.0\n",
       "Name: dob_years, dtype: float64"
      ]
     },
     "execution_count": 14,
     "metadata": {},
     "output_type": "execute_result"
    }
   ],
   "source": [
    "# проверим, что все ок, значения подставились\n",
    "df_clients['dob_years'].sort_values().head(5)"
   ]
  },
  {
   "cell_type": "markdown",
   "id": "7fa269af",
   "metadata": {},
   "source": [
    "Теперь посчитаем среднее значение по стажу, из расчета, что все начали работать с 18 лет и в году 365 дней. Заменим некорретные данные столбца корректными значениями по среднему. \n"
   ]
  },
  {
   "cell_type": "code",
   "execution_count": 15,
   "id": "88b70893",
   "metadata": {},
   "outputs": [
    {
     "data": {
      "text/html": [
       "<div>\n",
       "<style scoped>\n",
       "    .dataframe tbody tr th:only-of-type {\n",
       "        vertical-align: middle;\n",
       "    }\n",
       "\n",
       "    .dataframe tbody tr th {\n",
       "        vertical-align: top;\n",
       "    }\n",
       "\n",
       "    .dataframe thead th {\n",
       "        text-align: right;\n",
       "    }\n",
       "</style>\n",
       "<table border=\"1\" class=\"dataframe\">\n",
       "  <thead>\n",
       "    <tr style=\"text-align: right;\">\n",
       "      <th></th>\n",
       "      <th>children</th>\n",
       "      <th>days_employed</th>\n",
       "      <th>dob_years</th>\n",
       "      <th>education</th>\n",
       "      <th>education_id</th>\n",
       "      <th>family_status</th>\n",
       "      <th>family_status_id</th>\n",
       "      <th>gender</th>\n",
       "      <th>income_type</th>\n",
       "      <th>debt</th>\n",
       "      <th>total_income</th>\n",
       "      <th>purpose</th>\n",
       "    </tr>\n",
       "  </thead>\n",
       "  <tbody>\n",
       "    <tr>\n",
       "      <th>0</th>\n",
       "      <td>1</td>\n",
       "      <td>8760.0</td>\n",
       "      <td>42.0</td>\n",
       "      <td>высшее</td>\n",
       "      <td>0</td>\n",
       "      <td>женат / замужем</td>\n",
       "      <td>0</td>\n",
       "      <td>F</td>\n",
       "      <td>сотрудник</td>\n",
       "      <td>0</td>\n",
       "      <td>253875.639453</td>\n",
       "      <td>покупка жилья</td>\n",
       "    </tr>\n",
       "    <tr>\n",
       "      <th>1</th>\n",
       "      <td>1</td>\n",
       "      <td>6570.0</td>\n",
       "      <td>36.0</td>\n",
       "      <td>среднее</td>\n",
       "      <td>1</td>\n",
       "      <td>женат / замужем</td>\n",
       "      <td>0</td>\n",
       "      <td>F</td>\n",
       "      <td>сотрудник</td>\n",
       "      <td>0</td>\n",
       "      <td>112080.014102</td>\n",
       "      <td>приобретение автомобиля</td>\n",
       "    </tr>\n",
       "    <tr>\n",
       "      <th>2</th>\n",
       "      <td>0</td>\n",
       "      <td>5475.0</td>\n",
       "      <td>33.0</td>\n",
       "      <td>Среднее</td>\n",
       "      <td>1</td>\n",
       "      <td>женат / замужем</td>\n",
       "      <td>0</td>\n",
       "      <td>M</td>\n",
       "      <td>сотрудник</td>\n",
       "      <td>0</td>\n",
       "      <td>145885.952297</td>\n",
       "      <td>покупка жилья</td>\n",
       "    </tr>\n",
       "    <tr>\n",
       "      <th>3</th>\n",
       "      <td>3</td>\n",
       "      <td>5110.0</td>\n",
       "      <td>32.0</td>\n",
       "      <td>среднее</td>\n",
       "      <td>1</td>\n",
       "      <td>женат / замужем</td>\n",
       "      <td>0</td>\n",
       "      <td>M</td>\n",
       "      <td>сотрудник</td>\n",
       "      <td>0</td>\n",
       "      <td>267628.550329</td>\n",
       "      <td>дополнительное образование</td>\n",
       "    </tr>\n",
       "    <tr>\n",
       "      <th>4</th>\n",
       "      <td>0</td>\n",
       "      <td>12775.0</td>\n",
       "      <td>53.0</td>\n",
       "      <td>среднее</td>\n",
       "      <td>1</td>\n",
       "      <td>гражданский брак</td>\n",
       "      <td>1</td>\n",
       "      <td>F</td>\n",
       "      <td>пенсионер</td>\n",
       "      <td>0</td>\n",
       "      <td>158616.077870</td>\n",
       "      <td>сыграть свадьбу</td>\n",
       "    </tr>\n",
       "  </tbody>\n",
       "</table>\n",
       "</div>"
      ],
      "text/plain": [
       "   children  days_employed  dob_years education  education_id  \\\n",
       "0         1         8760.0       42.0    высшее             0   \n",
       "1         1         6570.0       36.0   среднее             1   \n",
       "2         0         5475.0       33.0   Среднее             1   \n",
       "3         3         5110.0       32.0   среднее             1   \n",
       "4         0        12775.0       53.0   среднее             1   \n",
       "\n",
       "      family_status  family_status_id gender income_type  debt   total_income  \\\n",
       "0   женат / замужем                 0      F   сотрудник     0  253875.639453   \n",
       "1   женат / замужем                 0      F   сотрудник     0  112080.014102   \n",
       "2   женат / замужем                 0      M   сотрудник     0  145885.952297   \n",
       "3   женат / замужем                 0      M   сотрудник     0  267628.550329   \n",
       "4  гражданский брак                 1      F   пенсионер     0  158616.077870   \n",
       "\n",
       "                      purpose  \n",
       "0               покупка жилья  \n",
       "1     приобретение автомобиля  \n",
       "2               покупка жилья  \n",
       "3  дополнительное образование  \n",
       "4             сыграть свадьбу  "
      ]
     },
     "execution_count": 15,
     "metadata": {},
     "output_type": "execute_result"
    }
   ],
   "source": [
    "df_clients['days_employed'] =(df_clients['dob_years']-18)*365\n",
    "# проверим, что все ок\n",
    "df_clients.head()"
   ]
  },
  {
   "cell_type": "code",
   "execution_count": 16,
   "id": "c3a49c37",
   "metadata": {},
   "outputs": [
    {
     "data": {
      "text/plain": [
       "income_type\n",
       "госслужащий     8323.657949\n",
       "компаньон       7976.817374\n",
       "пенсионер      15100.400156\n",
       "сотрудник       8036.927874\n",
       "Name: days_employed, dtype: float64"
      ]
     },
     "execution_count": 16,
     "metadata": {},
     "output_type": "execute_result"
    }
   ],
   "source": [
    "# Теперь данные похожи на правду. Посчитаем среднее по каждой группе:\n",
    "df_clients.groupby('income_type')['days_employed'].mean() "
   ]
  },
  {
   "cell_type": "markdown",
   "id": "4cb7b118",
   "metadata": {},
   "source": [
    "Заполним пропуски средним по каждой группе и убедимся, что пропусков не осталось:"
   ]
  },
  {
   "cell_type": "code",
   "execution_count": 17,
   "id": "24ec462f",
   "metadata": {},
   "outputs": [],
   "source": [
    "df_clients['days_employed'] = df_clients.groupby('income_type')['days_employed'].apply(lambda x: x.fillna(x.mean()))\n"
   ]
  },
  {
   "cell_type": "code",
   "execution_count": 18,
   "id": "636c6653",
   "metadata": {},
   "outputs": [
    {
     "data": {
      "text/plain": [
       "children            0\n",
       "days_employed       0\n",
       "dob_years           0\n",
       "education           0\n",
       "education_id        0\n",
       "family_status       0\n",
       "family_status_id    0\n",
       "gender              0\n",
       "income_type         0\n",
       "debt                0\n",
       "total_income        0\n",
       "purpose             0\n",
       "dtype: int64"
      ]
     },
     "execution_count": 18,
     "metadata": {},
     "output_type": "execute_result"
    }
   ],
   "source": [
    "df_clients.isna().sum() # теперь пропусков нет ни в  одном столбце"
   ]
  },
  {
   "cell_type": "markdown",
   "id": "d3eec5a8",
   "metadata": {},
   "source": [
    "Заменим некорректное число детей:"
   ]
  },
  {
   "cell_type": "code",
   "execution_count": 19,
   "id": "34676750",
   "metadata": {},
   "outputs": [
    {
     "data": {
      "text/plain": [
       "5"
      ]
     },
     "execution_count": 19,
     "metadata": {},
     "output_type": "execute_result"
    }
   ],
   "source": [
    "df_clients['children'] = df_clients['children'].replace(20, 2)\n",
    "df_clients['children'] = df_clients['children'].replace(-1, 1)\n",
    "\n",
    "# проверили, что все ок\n",
    "df_clients['children'].min()\n",
    "df_clients['children'].max()"
   ]
  },
  {
   "cell_type": "markdown",
   "id": "c0a8bd29",
   "metadata": {},
   "source": [
    "Приведем столбец education к нижнему регистру:"
   ]
  },
  {
   "cell_type": "code",
   "execution_count": 20,
   "id": "7a7f457a",
   "metadata": {
    "scrolled": true
   },
   "outputs": [
    {
     "data": {
      "text/plain": [
       "0     высшее\n",
       "1    среднее\n",
       "2    среднее\n",
       "3    среднее\n",
       "4    среднее\n",
       "Name: education, dtype: object"
      ]
     },
     "execution_count": 20,
     "metadata": {},
     "output_type": "execute_result"
    }
   ],
   "source": [
    "df_clients['education'] = df_clients['education'].str.lower()\n",
    "df_clients['education'].head() #проверили "
   ]
  },
  {
   "cell_type": "code",
   "execution_count": 21,
   "id": "29d3680f",
   "metadata": {},
   "outputs": [
    {
     "data": {
      "text/plain": [
       "F      14233\n",
       "M       7285\n",
       "XNA        1\n",
       "Name: gender, dtype: int64"
      ]
     },
     "execution_count": 21,
     "metadata": {},
     "output_type": "execute_result"
    }
   ],
   "source": [
    "# Разберемся со столбцом gender\n",
    "df_clients['gender'].value_counts()"
   ]
  },
  {
   "cell_type": "markdown",
   "id": "c92869c3",
   "metadata": {},
   "source": [
    "Мы видим, что кредиты почти в два раза больше берут женщины, чем мужчины и есть 1 человек с неопределенным полом, но так как данные не будут участвовать в нашей дальнейшей работе, оставим как есть. "
   ]
  },
  {
   "cell_type": "markdown",
   "id": "16ba3cd1",
   "metadata": {},
   "source": [
    "Исправили все аномалии, бросающиеся в глаза и заполнили пропуски корректными данными:\n",
    "* привели все к нижнему регистру\n",
    "* разобрались с 0 возрастом\n",
    "* разобрались с некорретными данными по стажу (отрицательные и слишком большие максимальные значения)\n",
    "* устранили опечатку про количество детей = -1 и 20\n",
    "* устранили категории, в которых слишком мало данных и которые только исказят картину\n",
    "\n",
    "Можем переходить к следующему шагу.\n"
   ]
  },
  {
   "cell_type": "markdown",
   "id": "5bc6a014",
   "metadata": {},
   "source": [
    "### Шаг 2.3. Изменение типов данных"
   ]
  },
  {
   "cell_type": "markdown",
   "id": "a41e2bb0",
   "metadata": {},
   "source": [
    "Для анализа данных нам не нужны вещественные значения, достаточно целочисленных. Это упростит расчеты и визуальное восприятие."
   ]
  },
  {
   "cell_type": "code",
   "execution_count": 22,
   "id": "227280d6",
   "metadata": {},
   "outputs": [
    {
     "name": "stdout",
     "output_type": "stream",
     "text": [
      "<class 'pandas.core.frame.DataFrame'>\n",
      "Int64Index: 21519 entries, 0 to 21524\n",
      "Data columns (total 12 columns):\n",
      " #   Column            Non-Null Count  Dtype  \n",
      "---  ------            --------------  -----  \n",
      " 0   children          21519 non-null  int64  \n",
      " 1   days_employed     21519 non-null  int32  \n",
      " 2   dob_years         21519 non-null  float64\n",
      " 3   education         21519 non-null  object \n",
      " 4   education_id      21519 non-null  int64  \n",
      " 5   family_status     21519 non-null  object \n",
      " 6   family_status_id  21519 non-null  int64  \n",
      " 7   gender            21519 non-null  object \n",
      " 8   income_type       21519 non-null  object \n",
      " 9   debt              21519 non-null  int64  \n",
      " 10  total_income      21519 non-null  int32  \n",
      " 11  purpose           21519 non-null  object \n",
      "dtypes: float64(1), int32(2), int64(4), object(5)\n",
      "memory usage: 2.0+ MB\n"
     ]
    }
   ],
   "source": [
    "df_clients['days_employed'] = df_clients['days_employed'].astype('int')\n",
    "df_clients['total_income'] = df_clients['total_income'].astype('int')\n",
    "df_clients.info() #проверили, что все ок"
   ]
  },
  {
   "cell_type": "markdown",
   "id": "e4dffb52",
   "metadata": {},
   "source": [
    "### Шаг 2.4. Удаление дубликатов."
   ]
  },
  {
   "cell_type": "markdown",
   "id": "e98f5eea",
   "metadata": {},
   "source": [
    "На этом шаге важно проверить на явные дубликаты и неявные в столбцах с категориальными значениями.\n",
    "Мы видим, что у нас есть:\n",
    "* income_type - по этому столбцу мы уже смотрели данные, просто разобьем на категории в следующем шаге\n",
    "* у family_status есть family_status_id - там все понятно, или человек в браке или нет, поэтому на дубли смотреть не требуется\n",
    "* purpose - цели кредита, нужно будет разобраться с дублями"
   ]
  },
  {
   "cell_type": "code",
   "execution_count": 23,
   "id": "59ab4c2b",
   "metadata": {},
   "outputs": [
    {
     "data": {
      "text/plain": [
       "71"
      ]
     },
     "execution_count": 23,
     "metadata": {},
     "output_type": "execute_result"
    }
   ],
   "source": [
    "# проверили на явные дубликаты, что случайно ничего не продублировалось\n",
    "df_clients.duplicated().sum() "
   ]
  },
  {
   "cell_type": "code",
   "execution_count": 24,
   "id": "8d5fe5ab",
   "metadata": {},
   "outputs": [
    {
     "data": {
      "text/plain": [
       "array(['автомобили', 'автомобиль', 'высшее образование',\n",
       "       'дополнительное образование', 'жилье',\n",
       "       'заняться высшим образованием', 'заняться образованием',\n",
       "       'на покупку автомобиля', 'на покупку подержанного автомобиля',\n",
       "       'на покупку своего автомобиля', 'на проведение свадьбы',\n",
       "       'недвижимость', 'образование', 'операции с жильем',\n",
       "       'операции с коммерческой недвижимостью',\n",
       "       'операции с недвижимостью', 'операции со своей недвижимостью',\n",
       "       'покупка жилой недвижимости', 'покупка жилья',\n",
       "       'покупка жилья для сдачи', 'покупка жилья для семьи',\n",
       "       'покупка коммерческой недвижимости', 'покупка недвижимости',\n",
       "       'покупка своего жилья', 'получение высшего образования',\n",
       "       'получение дополнительного образования', 'получение образования',\n",
       "       'приобретение автомобиля', 'профильное образование',\n",
       "       'ремонт жилью', 'свадьба', 'свой автомобиль',\n",
       "       'сделка с автомобилем', 'сделка с подержанным автомобилем',\n",
       "       'строительство жилой недвижимости', 'строительство недвижимости',\n",
       "       'строительство собственной недвижимости', 'сыграть свадьбу'],\n",
       "      dtype=object)"
      ]
     },
     "execution_count": 24,
     "metadata": {},
     "output_type": "execute_result"
    }
   ],
   "source": [
    "#проверили на неявные дубликаты:\n",
    "purpose = df_clients['purpose'].unique()\n",
    "purpose.sort()\n",
    "purpose\n"
   ]
  },
  {
   "cell_type": "markdown",
   "id": "48b00738",
   "metadata": {},
   "source": [
    "Видим, что цель есть коммерческая и жилая недвидимость, и есть отдельная категория -недвижимость, которая неизвестно куда относится, потому логично все их отнести к недвижимости. Есть категория - ремонт жилья, ее нельзя отнести к ипотеке, и в то же время кредит на свадьбу встречается гораздо чаще. Предварительно можем выделить такие категории:\n",
    "\n",
    "* автомобиль\n",
    "* образование\n",
    "* недвижимость\n",
    "* личные цели\n",
    "\n",
    "Посмотрим, сколько встречается целей с ремонтом жилья?"
   ]
  },
  {
   "cell_type": "code",
   "execution_count": 25,
   "id": "d1ba3533",
   "metadata": {},
   "outputs": [
    {
     "data": {
      "text/plain": [
       "свадьба                                   797\n",
       "на проведение свадьбы                     776\n",
       "сыграть свадьбу                           774\n",
       "операции с недвижимостью                  676\n",
       "покупка коммерческой недвижимости         664\n",
       "операции с жильем                         653\n",
       "покупка жилья для сдачи                   652\n",
       "операции с коммерческой недвижимостью     651\n",
       "покупка жилья                             647\n",
       "жилье                                     647\n",
       "покупка жилья для семьи                   641\n",
       "строительство собственной недвижимости    634\n",
       "недвижимость                              634\n",
       "операции со своей недвижимостью           630\n",
       "строительство жилой недвижимости          626\n",
       "покупка недвижимости                      624\n",
       "строительство недвижимости                620\n",
       "покупка своего жилья                      620\n",
       "ремонт жилью                              611\n",
       "покупка жилой недвижимости                606\n",
       "на покупку своего автомобиля              505\n",
       "заняться высшим образованием              496\n",
       "автомобиль                                494\n",
       "сделка с подержанным автомобилем          489\n",
       "свой автомобиль                           480\n",
       "на покупку подержанного автомобиля        479\n",
       "автомобили                                478\n",
       "на покупку автомобиля                     472\n",
       "дополнительное образование                462\n",
       "приобретение автомобиля                   462\n",
       "сделка с автомобилем                      455\n",
       "высшее образование                        453\n",
       "образование                               447\n",
       "получение дополнительного образования     447\n",
       "получение образования                     443\n",
       "профильное образование                    436\n",
       "получение высшего образования             426\n",
       "заняться образованием                     412\n",
       "Name: purpose, dtype: int64"
      ]
     },
     "execution_count": 25,
     "metadata": {},
     "output_type": "execute_result"
    }
   ],
   "source": [
    "df_clients['purpose'].value_counts()"
   ]
  },
  {
   "cell_type": "markdown",
   "id": "abd6010e",
   "metadata": {},
   "source": [
    "Ремонт жилья - 611, это слишком мало, чтоб делать отдельную категорию, можно включить ремонт жилья и свадьбу в общую категорию- на личные цели."
   ]
  },
  {
   "cell_type": "code",
   "execution_count": 26,
   "id": "ec5deddd",
   "metadata": {},
   "outputs": [
    {
     "data": {
      "text/plain": [
       "недвижимость    10225\n",
       "автомобиль       4314\n",
       "образование      4022\n",
       "личные цели      2958\n",
       "Name: purpose, dtype: int64"
      ]
     },
     "execution_count": 26,
     "metadata": {},
     "output_type": "execute_result"
    }
   ],
   "source": [
    "# функция для замены неявных дубликатов в категории \"автомобиль\"\n",
    "def replace_wrong_values(wrong_values, correct_value): \n",
    "    for wrong_value in wrong_values: \n",
    "        df_clients['purpose'] = df_clients['purpose'].replace(wrong_value, correct_value) \n",
    "\n",
    "duplicates = ['автомобили','на покупку автомобиля','на покупку подержанного автомобиля', 'на покупку своего автомобиля',\n",
    "             'приобретение автомобиля', 'свой автомобиль', 'сделка с автомобилем','сделка с подержанным автомобилем' ] \n",
    "purpose = 'автомобиль'\n",
    "replace_wrong_values(duplicates, purpose)\n",
    "\n",
    "\n",
    "# функция для замены неявных дубликатов в категории \"образование\"\n",
    "def replace_wrong_values(wrong_values, correct_value): \n",
    "    for wrong_value in wrong_values: \n",
    "        df_clients['purpose'] = df_clients['purpose'].replace(wrong_value, correct_value) \n",
    "\n",
    "duplicates = ['высшее образование', 'дополнительное образование', 'заняться высшим образованием', 'заняться образованием',\n",
    "              'получение высшего образования', 'получение дополнительного образования', 'получение образования',\n",
    "             'профильное образование'] \n",
    "purpose = 'образование'\n",
    "replace_wrong_values(duplicates, purpose)\n",
    "\n",
    "\n",
    "# функция для замены неявных дубликатов в категории \"недвижимость\"\n",
    "def replace_wrong_values(wrong_values, correct_value): \n",
    "    for wrong_value in wrong_values: \n",
    "        df_clients['purpose'] = df_clients['purpose'].replace(wrong_value, correct_value) \n",
    "\n",
    "duplicates = ['жилье','операции с жильем','операции с коммерческой недвижимостью',\n",
    "       'операции с недвижимостью', 'операции со своей недвижимостью',\n",
    "       'покупка жилой недвижимости', 'покупка жилья',\n",
    "       'покупка жилья для сдачи', 'покупка жилья для семьи',\n",
    "       'покупка коммерческой недвижимости', 'покупка недвижимости',\n",
    "       'покупка своего жилья', 'строительство жилой недвижимости', 'строительство недвижимости',\n",
    "       'строительство собственной недвижимости'] \n",
    "purpose = 'недвижимость'\n",
    "replace_wrong_values(duplicates, purpose)\n",
    "\n",
    "# функция для замены неявных дубликатов в категории \"личные цели\"\n",
    "def replace_wrong_values(wrong_values, correct_value): \n",
    "    for wrong_value in wrong_values: \n",
    "        df_clients['purpose'] = df_clients['purpose'].replace(wrong_value, correct_value) \n",
    "\n",
    "duplicates = ['на проведение свадьбы', 'ремонт жилью', 'свадьба', 'сыграть свадьбу'] \n",
    "purpose = 'личные цели'\n",
    "replace_wrong_values(duplicates, purpose)\n",
    "\n",
    "df_clients['purpose'].value_counts() # проверили, что ничего не забыли\n",
    "\n"
   ]
  },
  {
   "cell_type": "markdown",
   "id": "e720f347",
   "metadata": {},
   "source": [
    "У нас осталось 4 категории, по которым видно, что самый популярный кредит- ипотека."
   ]
  },
  {
   "cell_type": "markdown",
   "id": "570853fc",
   "metadata": {},
   "source": [
    "### Шаг 2.5. Формирование дополнительных датафреймов словарей, декомпозиция исходного датафрейма."
   ]
  },
  {
   "cell_type": "markdown",
   "id": "ce18be70",
   "metadata": {},
   "source": [
    "Для того, чтобы ответить на поставленные вопросы, нам нужно выполнить следующие категоризации:\n",
    "* категоризация по образованию\n",
    "\n",
    "* категоризация по семейному положению\n",
    "\n",
    "* категоризация по наличию детей\n",
    "\n",
    "* категоризация по целям кредита (уже сделали в предыдущем шаге)\n"
   ]
  },
  {
   "cell_type": "code",
   "execution_count": 27,
   "id": "62153ddf",
   "metadata": {},
   "outputs": [
    {
     "data": {
      "text/html": [
       "<div>\n",
       "<style scoped>\n",
       "    .dataframe tbody tr th:only-of-type {\n",
       "        vertical-align: middle;\n",
       "    }\n",
       "\n",
       "    .dataframe tbody tr th {\n",
       "        vertical-align: top;\n",
       "    }\n",
       "\n",
       "    .dataframe thead th {\n",
       "        text-align: right;\n",
       "    }\n",
       "</style>\n",
       "<table border=\"1\" class=\"dataframe\">\n",
       "  <thead>\n",
       "    <tr style=\"text-align: right;\">\n",
       "      <th></th>\n",
       "      <th>education</th>\n",
       "      <th>education_id</th>\n",
       "    </tr>\n",
       "  </thead>\n",
       "  <tbody>\n",
       "    <tr>\n",
       "      <th>0</th>\n",
       "      <td>высшее</td>\n",
       "      <td>0</td>\n",
       "    </tr>\n",
       "    <tr>\n",
       "      <th>1</th>\n",
       "      <td>среднее</td>\n",
       "      <td>1</td>\n",
       "    </tr>\n",
       "    <tr>\n",
       "      <th>2</th>\n",
       "      <td>неоконченное высшее</td>\n",
       "      <td>2</td>\n",
       "    </tr>\n",
       "    <tr>\n",
       "      <th>3</th>\n",
       "      <td>начальное</td>\n",
       "      <td>3</td>\n",
       "    </tr>\n",
       "    <tr>\n",
       "      <th>4</th>\n",
       "      <td>ученая степень</td>\n",
       "      <td>4</td>\n",
       "    </tr>\n",
       "  </tbody>\n",
       "</table>\n",
       "</div>"
      ],
      "text/plain": [
       "             education  education_id\n",
       "0               высшее             0\n",
       "1              среднее             1\n",
       "2  неоконченное высшее             2\n",
       "3            начальное             3\n",
       "4       ученая степень             4"
      ]
     },
     "execution_count": 27,
     "metadata": {},
     "output_type": "execute_result"
    }
   ],
   "source": [
    "# категоризация по образованию\n",
    "education_category = df_clients[['education','education_id']]\n",
    "education_category = education_category.drop_duplicates().reset_index(drop=True)\n",
    "\n",
    "education_category.sort_values('education_id')\n"
   ]
  },
  {
   "cell_type": "code",
   "execution_count": 28,
   "id": "0e0bf17d",
   "metadata": {
    "scrolled": true
   },
   "outputs": [
    {
     "data": {
      "text/html": [
       "<div>\n",
       "<style scoped>\n",
       "    .dataframe tbody tr th:only-of-type {\n",
       "        vertical-align: middle;\n",
       "    }\n",
       "\n",
       "    .dataframe tbody tr th {\n",
       "        vertical-align: top;\n",
       "    }\n",
       "\n",
       "    .dataframe thead th {\n",
       "        text-align: right;\n",
       "    }\n",
       "</style>\n",
       "<table border=\"1\" class=\"dataframe\">\n",
       "  <thead>\n",
       "    <tr style=\"text-align: right;\">\n",
       "      <th></th>\n",
       "      <th>family_status</th>\n",
       "      <th>family_status_id</th>\n",
       "    </tr>\n",
       "  </thead>\n",
       "  <tbody>\n",
       "    <tr>\n",
       "      <th>0</th>\n",
       "      <td>женат / замужем</td>\n",
       "      <td>0</td>\n",
       "    </tr>\n",
       "    <tr>\n",
       "      <th>1</th>\n",
       "      <td>гражданский брак</td>\n",
       "      <td>1</td>\n",
       "    </tr>\n",
       "    <tr>\n",
       "      <th>2</th>\n",
       "      <td>вдовец / вдова</td>\n",
       "      <td>2</td>\n",
       "    </tr>\n",
       "    <tr>\n",
       "      <th>3</th>\n",
       "      <td>в разводе</td>\n",
       "      <td>3</td>\n",
       "    </tr>\n",
       "    <tr>\n",
       "      <th>4</th>\n",
       "      <td>Не женат / не замужем</td>\n",
       "      <td>4</td>\n",
       "    </tr>\n",
       "  </tbody>\n",
       "</table>\n",
       "</div>"
      ],
      "text/plain": [
       "           family_status  family_status_id\n",
       "0        женат / замужем                 0\n",
       "1       гражданский брак                 1\n",
       "2         вдовец / вдова                 2\n",
       "3              в разводе                 3\n",
       "4  Не женат / не замужем                 4"
      ]
     },
     "execution_count": 28,
     "metadata": {},
     "output_type": "execute_result"
    }
   ],
   "source": [
    "# категоризация по семейному положению \n",
    "family_category = df_clients[['family_status','family_status_id']]\n",
    "family_category = family_category.drop_duplicates().reset_index(drop=True)\n",
    "family_category.sort_values('family_status_id')"
   ]
  },
  {
   "cell_type": "code",
   "execution_count": 29,
   "id": "f9fc01e4",
   "metadata": {},
   "outputs": [
    {
     "data": {
      "text/plain": [
       "нет детей         14145\n",
       "есть ребенок       4864\n",
       "есть 2 ребенка     2130\n",
       "многодетные         380\n",
       "Name: children_category, dtype: int64"
      ]
     },
     "execution_count": 29,
     "metadata": {},
     "output_type": "execute_result"
    }
   ],
   "source": [
    "# категоризация по наличию детей:\n",
    "\n",
    "def children_category(children):\n",
    "    try:\n",
    "        if children ==0:\n",
    "            return 'нет детей'\n",
    "        if children == 1:\n",
    "            return 'есть ребенок'\n",
    "        if children ==2:\n",
    "            return 'есть 2 ребенка'\n",
    "        if children >=3:\n",
    "            return 'многодетные'\n",
    "           \n",
    "        \n",
    "    except: 'что-то пошлло не так'\n",
    "        \n",
    "df_clients['children_category'] = df_clients['children'].apply(children_category)\n",
    "df_clients['children_category'].value_counts()\n"
   ]
  },
  {
   "cell_type": "code",
   "execution_count": 30,
   "id": "356a9076",
   "metadata": {},
   "outputs": [
    {
     "data": {
      "text/plain": [
       "0    19780\n",
       "1     1739\n",
       "Name: debt, dtype: int64"
      ]
     },
     "execution_count": 30,
     "metadata": {},
     "output_type": "execute_result"
    }
   ],
   "source": [
    "df_clients['debt'].value_counts() # - не имел задолженность по кредиту - это 0, имел - 1"
   ]
  },
  {
   "cell_type": "markdown",
   "id": "1d463beb",
   "metadata": {},
   "source": [
    "### Шаг 2.6. Категоризация дохода."
   ]
  },
  {
   "cell_type": "markdown",
   "id": "b2b5d022",
   "metadata": {},
   "source": [
    "На основании диапазонов, указанных в задании создаем столбец с категориями\n",
    "Используем конструкцию try...except для того, чтобы выполнение кода не прервалось."
   ]
  },
  {
   "cell_type": "code",
   "execution_count": 31,
   "id": "72053654",
   "metadata": {},
   "outputs": [
    {
     "data": {
      "text/plain": [
       "C    16083\n",
       "B     5039\n",
       "D      350\n",
       "A       25\n",
       "E       22\n",
       "Name: total_income_category, dtype: int64"
      ]
     },
     "execution_count": 31,
     "metadata": {},
     "output_type": "execute_result"
    }
   ],
   "source": [
    "def total_income_category(total_income):\n",
    "    try:\n",
    "        if total_income <=30000:\n",
    "            return 'E'\n",
    "        if total_income < 50000:\n",
    "            return 'D'\n",
    "        if total_income <= 200000:\n",
    "            return 'C'\n",
    "        if total_income <= 1000000:\n",
    "            return 'B'\n",
    "        if total_income >1000001:\n",
    "            return 'A'\n",
    "    except: 'что-то пошлло не так'\n",
    "        \n",
    "df_clients['total_income_category'] = df_clients['total_income'].apply(total_income_category)\n",
    "df_clients['total_income_category'].value_counts() \n"
   ]
  },
  {
   "cell_type": "markdown",
   "id": "141e11f9",
   "metadata": {},
   "source": [
    "### Шаг 2.7. Категоризация целей кредита."
   ]
  },
  {
   "cell_type": "markdown",
   "id": "2e81b5f5",
   "metadata": {},
   "source": [
    "Уже категоризировали на прошлом шаге.\n",
    "В инструкциях к заданию - рекомендуется оставить категорию - 'проведение свадьбы'.\n",
    "Не согласна с этим, исходя из данных получается, что:\n",
    "* есть траты на образование\n",
    "* ипотека (на строяющееся/готовое жилье и коммерческую недвижимость\n",
    "* авто\n",
    "* да, есть много кредитов на свадьбу. но так же есть кредиты на ремонт жилья - 612, что точно нельзя отнести к ипотеке. поэтому оставляю цель кредита - личные цели, а выданный кредит будет потребительским.\n"
   ]
  },
  {
   "cell_type": "markdown",
   "id": "75407f42",
   "metadata": {},
   "source": [
    "### Ответы на вопросы."
   ]
  },
  {
   "cell_type": "markdown",
   "id": "254b5527",
   "metadata": {},
   "source": [
    "##### Вопрос 1: Есть ли зависимость между количеством детей и возвратом кредита в срок?\n"
   ]
  },
  {
   "cell_type": "code",
   "execution_count": 32,
   "id": "8fe66e9f",
   "metadata": {},
   "outputs": [
    {
     "data": {
      "text/html": [
       "<div>\n",
       "<style scoped>\n",
       "    .dataframe tbody tr th:only-of-type {\n",
       "        vertical-align: middle;\n",
       "    }\n",
       "\n",
       "    .dataframe tbody tr th {\n",
       "        vertical-align: top;\n",
       "    }\n",
       "\n",
       "    .dataframe thead th {\n",
       "        text-align: right;\n",
       "    }\n",
       "</style>\n",
       "<table border=\"1\" class=\"dataframe\">\n",
       "  <thead>\n",
       "    <tr style=\"text-align: right;\">\n",
       "      <th>children_category</th>\n",
       "      <th>есть 2 ребенка</th>\n",
       "      <th>есть ребенок</th>\n",
       "      <th>многодетные</th>\n",
       "      <th>нет детей</th>\n",
       "    </tr>\n",
       "    <tr>\n",
       "      <th>debt</th>\n",
       "      <th></th>\n",
       "      <th></th>\n",
       "      <th></th>\n",
       "      <th></th>\n",
       "    </tr>\n",
       "  </thead>\n",
       "  <tbody>\n",
       "    <tr>\n",
       "      <th>0</th>\n",
       "      <td>1929</td>\n",
       "      <td>4420</td>\n",
       "      <td>349</td>\n",
       "      <td>13082</td>\n",
       "    </tr>\n",
       "    <tr>\n",
       "      <th>1</th>\n",
       "      <td>201</td>\n",
       "      <td>444</td>\n",
       "      <td>31</td>\n",
       "      <td>1063</td>\n",
       "    </tr>\n",
       "  </tbody>\n",
       "</table>\n",
       "</div>"
      ],
      "text/plain": [
       "children_category  есть 2 ребенка  есть ребенок  многодетные  нет детей\n",
       "debt                                                                   \n",
       "0                            1929          4420          349      13082\n",
       "1                             201           444           31       1063"
      ]
     },
     "execution_count": 32,
     "metadata": {},
     "output_type": "execute_result"
    }
   ],
   "source": [
    "df_children_pivot = df_clients.pivot_table(index=['debt'],columns='children_category',values= 'family_status_id',aggfunc='count')\n",
    "df_children_pivot "
   ]
  },
  {
   "cell_type": "markdown",
   "id": "0962301b",
   "metadata": {},
   "source": [
    "##### Вывод 1:\n",
    "\n",
    "В целом те, у кого нет детей берут больше кредитов.\n",
    "\n",
    "* нет детей - платят вовремя 92%\n",
    "\n",
    "* 1 ребенок - платят вовремя 90%\n",
    "\n",
    "* 2 ребенка - платят вовремя 91%\n",
    "\n",
    "* многодетные - платят вовремя 92%\n",
    "\n",
    "По моим расчетам выходит, что те, у кого нет детей и многодетные - платят банку вовремя чаще, чем те, у кого 1 или 2 ребенка. Но возможно, выборка в 349 многодетных людей - не показывает реального положения вещей. Точно можем сказать, что те, у кого нет детей платят лучше, чем те у кого они есть."
   ]
  },
  {
   "cell_type": "markdown",
   "id": "a168fea0",
   "metadata": {},
   "source": [
    "##### Вопрос 2: Есть ли зависимость между семейным положением и возвратом кредита в срок?\n"
   ]
  },
  {
   "cell_type": "code",
   "execution_count": 33,
   "id": "4fab8e91",
   "metadata": {},
   "outputs": [
    {
     "data": {
      "text/html": [
       "<div>\n",
       "<style scoped>\n",
       "    .dataframe tbody tr th:only-of-type {\n",
       "        vertical-align: middle;\n",
       "    }\n",
       "\n",
       "    .dataframe tbody tr th {\n",
       "        vertical-align: top;\n",
       "    }\n",
       "\n",
       "    .dataframe thead th {\n",
       "        text-align: right;\n",
       "    }\n",
       "</style>\n",
       "<table border=\"1\" class=\"dataframe\">\n",
       "  <thead>\n",
       "    <tr style=\"text-align: right;\">\n",
       "      <th>family_status</th>\n",
       "      <th>Не женат / не замужем</th>\n",
       "      <th>в разводе</th>\n",
       "      <th>вдовец / вдова</th>\n",
       "      <th>гражданский брак</th>\n",
       "      <th>женат / замужем</th>\n",
       "    </tr>\n",
       "    <tr>\n",
       "      <th>debt</th>\n",
       "      <th></th>\n",
       "      <th></th>\n",
       "      <th></th>\n",
       "      <th></th>\n",
       "      <th></th>\n",
       "    </tr>\n",
       "  </thead>\n",
       "  <tbody>\n",
       "    <tr>\n",
       "      <th>0</th>\n",
       "      <td>2538</td>\n",
       "      <td>1110</td>\n",
       "      <td>897</td>\n",
       "      <td>3787</td>\n",
       "      <td>11448</td>\n",
       "    </tr>\n",
       "    <tr>\n",
       "      <th>1</th>\n",
       "      <td>274</td>\n",
       "      <td>85</td>\n",
       "      <td>63</td>\n",
       "      <td>388</td>\n",
       "      <td>929</td>\n",
       "    </tr>\n",
       "  </tbody>\n",
       "</table>\n",
       "</div>"
      ],
      "text/plain": [
       "family_status  Не женат / не замужем  в разводе  вдовец / вдова  \\\n",
       "debt                                                              \n",
       "0                               2538       1110             897   \n",
       "1                                274         85              63   \n",
       "\n",
       "family_status  гражданский брак  женат / замужем  \n",
       "debt                                              \n",
       "0                          3787            11448  \n",
       "1                           388              929  "
      ]
     },
     "execution_count": 33,
     "metadata": {},
     "output_type": "execute_result"
    }
   ],
   "source": [
    "df_family_pivot = df_clients.pivot_table(index=['debt'],columns='family_status',values= 'family_status_id',aggfunc='count')\n",
    "df_family_pivot"
   ]
  },
  {
   "cell_type": "markdown",
   "id": "f8c6863b",
   "metadata": {},
   "source": [
    "##### Вывод 2:\n",
    "\n",
    "* 90% Холостых платит кредит вовремя\n",
    "* 93%  Разведенных платит кредит вовремя\n",
    "* 94% вдовцов платит кредит вовремя\n",
    "* 91% тех, кто в гражданской браке платит кредит вовремя\n",
    "* 93% женатых платит кредит вовремя\n",
    "\n",
    "\n",
    "Вдовцы почему-то на первом месте по выплатам вовремя (возможно всему виной недостаточное количество вдовцов для анализа).\n",
    "\n",
    "На втором месте -  женатые и разведенные - вовремя платят 93%\n",
    "\n",
    "Те, кто в гражданском браке- вовремя платят 91% (менее ответственные, чем разведенные).\n",
    "\n",
    "Холостые ожидаемо хуже всех - 90% платит вовремя.\n",
    "\n",
    "\n"
   ]
  },
  {
   "cell_type": "markdown",
   "id": "c9652d64",
   "metadata": {},
   "source": [
    "##### Вопрос 3: Есть ли зависимость между уровнем дохода и возвратом кредита в срок?\n"
   ]
  },
  {
   "cell_type": "code",
   "execution_count": 34,
   "id": "8354916e",
   "metadata": {},
   "outputs": [
    {
     "data": {
      "text/html": [
       "<div>\n",
       "<style scoped>\n",
       "    .dataframe tbody tr th:only-of-type {\n",
       "        vertical-align: middle;\n",
       "    }\n",
       "\n",
       "    .dataframe tbody tr th {\n",
       "        vertical-align: top;\n",
       "    }\n",
       "\n",
       "    .dataframe thead th {\n",
       "        text-align: right;\n",
       "    }\n",
       "</style>\n",
       "<table border=\"1\" class=\"dataframe\">\n",
       "  <thead>\n",
       "    <tr style=\"text-align: right;\">\n",
       "      <th>total_income_category</th>\n",
       "      <th>A</th>\n",
       "      <th>B</th>\n",
       "      <th>C</th>\n",
       "      <th>D</th>\n",
       "      <th>E</th>\n",
       "    </tr>\n",
       "    <tr>\n",
       "      <th>debt</th>\n",
       "      <th></th>\n",
       "      <th></th>\n",
       "      <th></th>\n",
       "      <th></th>\n",
       "      <th></th>\n",
       "    </tr>\n",
       "  </thead>\n",
       "  <tbody>\n",
       "    <tr>\n",
       "      <th>0</th>\n",
       "      <td>23</td>\n",
       "      <td>4683</td>\n",
       "      <td>14725</td>\n",
       "      <td>329</td>\n",
       "      <td>20</td>\n",
       "    </tr>\n",
       "    <tr>\n",
       "      <th>1</th>\n",
       "      <td>2</td>\n",
       "      <td>356</td>\n",
       "      <td>1358</td>\n",
       "      <td>21</td>\n",
       "      <td>2</td>\n",
       "    </tr>\n",
       "  </tbody>\n",
       "</table>\n",
       "</div>"
      ],
      "text/plain": [
       "total_income_category   A     B      C    D   E\n",
       "debt                                           \n",
       "0                      23  4683  14725  329  20\n",
       "1                       2   356   1358   21   2"
      ]
     },
     "execution_count": 34,
     "metadata": {},
     "output_type": "execute_result"
    }
   ],
   "source": [
    "df_income_pivot = df_clients.pivot_table(index=['debt'],columns='total_income_category',values= 'family_status_id', aggfunc='count')\n",
    "df_income_pivot"
   ]
  },
  {
   "cell_type": "markdown",
   "id": "0d03013c",
   "metadata": {},
   "source": [
    "##### Вывод 3:\n",
    "\n",
    "* A 92% платит вовремя\n",
    "\n",
    "* B 93% платит вовремя\n",
    "\n",
    "* C 92% платит вовремя\n",
    "\n",
    "* D 94% платит вовремя\n",
    "\n",
    "* E 91% платит вовремя\n",
    "\n",
    "По расчетам выходит, что те, у кого доход от 30 до 50 тыс руб платят лучше, чем те, у когодоход выше.\n",
    "Возможно, выборки в 329 людей недостаточно, чтобы сформировать объективную картину. ТО же с категорией А и E.\n",
    "\n",
    "Точно можем сказать, судя по категориям B и C, что чем выше доход, тем больше вероятность, что клиент будет платить вовремя."
   ]
  },
  {
   "cell_type": "markdown",
   "id": "07a5f4b5",
   "metadata": {},
   "source": [
    "##### Вопрос 4: Как разные цели кредита влияют на его возврат в срок?\n"
   ]
  },
  {
   "cell_type": "code",
   "execution_count": 35,
   "id": "3f5fd34b",
   "metadata": {},
   "outputs": [
    {
     "data": {
      "text/html": [
       "<div>\n",
       "<style scoped>\n",
       "    .dataframe tbody tr th:only-of-type {\n",
       "        vertical-align: middle;\n",
       "    }\n",
       "\n",
       "    .dataframe tbody tr th {\n",
       "        vertical-align: top;\n",
       "    }\n",
       "\n",
       "    .dataframe thead th {\n",
       "        text-align: right;\n",
       "    }\n",
       "</style>\n",
       "<table border=\"1\" class=\"dataframe\">\n",
       "  <thead>\n",
       "    <tr style=\"text-align: right;\">\n",
       "      <th>purpose</th>\n",
       "      <th>автомобиль</th>\n",
       "      <th>личные цели</th>\n",
       "      <th>недвижимость</th>\n",
       "      <th>образование</th>\n",
       "    </tr>\n",
       "    <tr>\n",
       "      <th>debt</th>\n",
       "      <th></th>\n",
       "      <th></th>\n",
       "      <th></th>\n",
       "      <th></th>\n",
       "    </tr>\n",
       "  </thead>\n",
       "  <tbody>\n",
       "    <tr>\n",
       "      <th>0</th>\n",
       "      <td>3912</td>\n",
       "      <td>2737</td>\n",
       "      <td>9479</td>\n",
       "      <td>3652</td>\n",
       "    </tr>\n",
       "    <tr>\n",
       "      <th>1</th>\n",
       "      <td>402</td>\n",
       "      <td>221</td>\n",
       "      <td>746</td>\n",
       "      <td>370</td>\n",
       "    </tr>\n",
       "  </tbody>\n",
       "</table>\n",
       "</div>"
      ],
      "text/plain": [
       "purpose  автомобиль  личные цели  недвижимость  образование\n",
       "debt                                                       \n",
       "0              3912         2737          9479         3652\n",
       "1               402          221           746          370"
      ]
     },
     "execution_count": 35,
     "metadata": {},
     "output_type": "execute_result"
    }
   ],
   "source": [
    "df_purpose_pivot = df_clients.pivot_table(index=['debt'],columns='purpose',values= 'family_status_id', aggfunc='count')\n",
    "df_purpose_pivot"
   ]
  },
  {
   "cell_type": "markdown",
   "id": "a939bacb",
   "metadata": {},
   "source": [
    "##### Вывод 4:"
   ]
  },
  {
   "cell_type": "markdown",
   "id": "f5aa8357",
   "metadata": {},
   "source": [
    "\n",
    "Ипотека - лидер в причинах взятия кредита.\n",
    "\n",
    "Автомобиль -91% возвращает кредит в срок\n",
    "Личные цели - 93% возвращает кредит в срок\n",
    "Недвижимость - 93% возвращает кредит в срок\n",
    "Образование - 90% возвращает кредит в срок\n",
    "\n",
    "Личные цели(чаще расходы на свадьбу) и недвижимость -по таким кредитам люди выплачивают кредит вовремя лучше всего.\n",
    "На втором месте  - автомобиль, на третьем образование."
   ]
  },
  {
   "cell_type": "markdown",
   "id": "f503d433",
   "metadata": {},
   "source": [
    "## Общий вывод:"
   ]
  },
  {
   "cell_type": "markdown",
   "id": "e4fe1cab",
   "metadata": {},
   "source": [
    "Для того, чтобы проверить гипотезы - осуществили проверку данных на аномалии и исправления.\n",
    "Разобрались с некорректными:\n",
    "* стажем - заменили средними значениями по группе из расчета, что люди работали с 18 лет\n",
    "* возрастом - нули заменили на средние значения по группе\n",
    "* количеством детей - опечатки, где детей было 20 и -1 исправили на 2 и 1\n",
    "\n",
    "Изменили типы данных на целочисленные, так как для анализа этого достаточно и это упростит визуальное восприятие.\n",
    "Удалили явные и неявные дубликаты.\n",
    "\n",
    "Осуществили категоризацию целей кредита на:\n",
    "* автомобиль\n",
    "* образование\n",
    "* недвижимость\n",
    "* личные цели\n",
    "\n",
    "Осуществили категоризацию по семейному положению:\n",
    "* женат / замужем\n",
    "* гражданский брак\t\n",
    "* вдовец / вдова\t\n",
    "* в разводе\t\n",
    "* Не женат / не замужем\t\n",
    "\n",
    "Осуществили категоризацию по наличию детей:\n",
    "* нет детей        \n",
    "* есть ребенок      \n",
    "* есть 2 ребенка     \n",
    "* многодетные  \n",
    "\n",
    "Осуществили категоризацию дохода:\n",
    "\n",
    " - 0–30000 — 'E';\n",
    " - 30001–50000 — 'D';\n",
    " - 50001–200000 — 'C';\n",
    " - 200001–1000000 — 'B';\n",
    " - 1000001 и выше — 'A'.\n",
    " \n",
    "**Пришли к следующим выводам:**\n",
    " \n",
    "1. Те, у кого нет детей платят лучше, чем те, у кого они есть. \n",
    "\n",
    "* нет детей - платят вовремя 92%\n",
    "* 1 ребенок - платят вовремя 90%\n",
    "* 2 ребенка - платят вовремя 91%\n",
    "* многодетных в расчет не берем, из-за недостаточной выборки\n",
    "\n",
    "2. Те, кто в браке или находился в браке платят лучше, чем холостые.\n",
    "\n",
    "* женатые и разведенные - вовремя платят 93%\n",
    "* в гражданском браке- вовремя платят 91% (менее ответственные, чем разведенные).\n",
    "* холостые ожидаемо хуже всех - 90% платит вовремя\n",
    "* вдовцов в расчет не берем из-за недостаточной выборки\n",
    "\n",
    "3. Чем выше доход, тем больше вероятность, что клиент будет платить вовремя\n",
    "\n",
    "\n",
    "4. Ипотека - лидер и по цели кредита и по его своевременному погашению.\n",
    "\n",
    "\n",
    "1. Недвижимость и личные цели(чаще расходы на свадьбу) - 93% платят вовремя\n",
    "\n",
    "2. Автомобиль - 91% платит вовремя.\n",
    "\n",
    "3. Образование - 90% платит вовремя.\n",
    "\n"
   ]
  }
 ],
 "metadata": {
  "ExecuteTimeLog": [
   {
    "duration": 574,
    "start_time": "2022-05-13T11:19:49.246Z"
   },
   {
    "duration": 72,
    "start_time": "2022-05-13T11:19:57.702Z"
   },
   {
    "duration": 66,
    "start_time": "2022-05-13T11:20:00.281Z"
   },
   {
    "duration": 81,
    "start_time": "2022-05-13T11:20:22.671Z"
   },
   {
    "duration": 105,
    "start_time": "2022-05-13T11:21:23.440Z"
   },
   {
    "duration": 84,
    "start_time": "2022-05-13T11:29:06.918Z"
   },
   {
    "duration": 79,
    "start_time": "2022-05-13T11:33:33.778Z"
   },
   {
    "duration": 116,
    "start_time": "2022-05-13T11:33:42.060Z"
   },
   {
    "duration": 112,
    "start_time": "2022-05-13T11:34:06.296Z"
   },
   {
    "duration": 82,
    "start_time": "2022-05-13T11:45:18.844Z"
   },
   {
    "duration": 67,
    "start_time": "2022-05-13T12:09:15.158Z"
   },
   {
    "duration": 71,
    "start_time": "2022-05-13T12:09:39.711Z"
   },
   {
    "duration": 69,
    "start_time": "2022-05-13T12:09:45.537Z"
   },
   {
    "duration": 76,
    "start_time": "2022-05-13T12:09:49.257Z"
   },
   {
    "duration": 100,
    "start_time": "2022-05-13T12:09:58.178Z"
   },
   {
    "duration": 89,
    "start_time": "2022-05-13T12:10:38.493Z"
   },
   {
    "duration": 13,
    "start_time": "2022-05-13T12:19:51.215Z"
   },
   {
    "duration": 20,
    "start_time": "2022-05-13T12:25:58.984Z"
   },
   {
    "duration": 9,
    "start_time": "2022-05-13T12:27:01.805Z"
   },
   {
    "duration": 9,
    "start_time": "2022-05-13T12:30:43.982Z"
   },
   {
    "duration": 10,
    "start_time": "2022-05-13T12:30:48.738Z"
   },
   {
    "duration": 10,
    "start_time": "2022-05-13T12:31:05.304Z"
   },
   {
    "duration": 97,
    "start_time": "2022-05-13T12:33:13.175Z"
   },
   {
    "duration": 10,
    "start_time": "2022-05-13T12:57:57.100Z"
   },
   {
    "duration": 11,
    "start_time": "2022-05-13T12:58:05.441Z"
   },
   {
    "duration": 35,
    "start_time": "2022-05-13T13:05:28.052Z"
   },
   {
    "duration": 26,
    "start_time": "2022-05-13T13:36:52.785Z"
   },
   {
    "duration": 871,
    "start_time": "2022-05-13T13:44:26.746Z"
   },
   {
    "duration": 46,
    "start_time": "2022-05-13T13:44:27.620Z"
   },
   {
    "duration": 121,
    "start_time": "2022-05-13T13:44:27.668Z"
   },
   {
    "duration": 294,
    "start_time": "2022-05-13T13:45:04.308Z"
   },
   {
    "duration": 111,
    "start_time": "2022-05-13T13:45:54.048Z"
   },
   {
    "duration": 26,
    "start_time": "2022-05-13T13:46:15.508Z"
   },
   {
    "duration": 35,
    "start_time": "2022-05-13T13:49:46.635Z"
   },
   {
    "duration": 38,
    "start_time": "2022-05-13T13:51:27.273Z"
   },
   {
    "duration": 754,
    "start_time": "2022-05-13T13:51:37.456Z"
   },
   {
    "duration": 656,
    "start_time": "2022-05-13T13:51:51.817Z"
   },
   {
    "duration": 653,
    "start_time": "2022-05-13T13:52:02.785Z"
   },
   {
    "duration": 11,
    "start_time": "2022-05-13T13:54:27.205Z"
   },
   {
    "duration": 54,
    "start_time": "2022-05-13T14:07:35.786Z"
   },
   {
    "duration": 45,
    "start_time": "2022-05-13T14:07:50.653Z"
   },
   {
    "duration": 848,
    "start_time": "2022-05-13T14:08:05.505Z"
   },
   {
    "duration": 40,
    "start_time": "2022-05-13T14:08:06.357Z"
   },
   {
    "duration": 65,
    "start_time": "2022-05-13T14:08:06.400Z"
   },
   {
    "duration": 33,
    "start_time": "2022-05-13T14:08:41.056Z"
   },
   {
    "duration": 27,
    "start_time": "2022-05-13T14:08:49.237Z"
   },
   {
    "duration": 25,
    "start_time": "2022-05-13T14:09:27.494Z"
   },
   {
    "duration": 631,
    "start_time": "2022-05-13T14:09:35.248Z"
   },
   {
    "duration": 29,
    "start_time": "2022-05-13T14:09:35.881Z"
   },
   {
    "duration": 53,
    "start_time": "2022-05-13T14:09:35.913Z"
   },
   {
    "duration": 88,
    "start_time": "2022-05-13T14:24:26.924Z"
   },
   {
    "duration": 29,
    "start_time": "2022-05-13T14:24:40.312Z"
   },
   {
    "duration": 38,
    "start_time": "2022-05-13T14:25:04.693Z"
   },
   {
    "duration": 115,
    "start_time": "2022-05-13T14:25:22.646Z"
   },
   {
    "duration": 21,
    "start_time": "2022-05-13T14:25:34.772Z"
   },
   {
    "duration": 71,
    "start_time": "2022-05-13T18:09:18.860Z"
   },
   {
    "duration": 11,
    "start_time": "2022-05-13T18:10:14.811Z"
   },
   {
    "duration": 661,
    "start_time": "2022-05-13T18:10:56.470Z"
   },
   {
    "duration": 29,
    "start_time": "2022-05-13T18:10:57.134Z"
   },
   {
    "duration": 116,
    "start_time": "2022-05-13T18:10:57.166Z"
   },
   {
    "duration": 10,
    "start_time": "2022-05-13T18:11:37.527Z"
   },
   {
    "duration": 11,
    "start_time": "2022-05-13T18:12:19.049Z"
   },
   {
    "duration": 45,
    "start_time": "2022-05-14T06:11:24.628Z"
   },
   {
    "duration": 6,
    "start_time": "2022-05-14T06:11:36.593Z"
   },
   {
    "duration": 429,
    "start_time": "2022-05-14T06:11:58.702Z"
   },
   {
    "duration": 10,
    "start_time": "2022-05-14T06:11:59.132Z"
   },
   {
    "duration": 20,
    "start_time": "2022-05-14T06:11:59.144Z"
   },
   {
    "duration": 12,
    "start_time": "2022-05-14T06:14:53.491Z"
   },
   {
    "duration": 8,
    "start_time": "2022-05-14T06:19:30.306Z"
   },
   {
    "duration": 150,
    "start_time": "2022-05-14T06:20:00.727Z"
   },
   {
    "duration": 11,
    "start_time": "2022-05-14T06:20:20.918Z"
   },
   {
    "duration": 9,
    "start_time": "2022-05-14T06:20:32.870Z"
   },
   {
    "duration": 488,
    "start_time": "2022-05-14T06:21:06.068Z"
   },
   {
    "duration": 9,
    "start_time": "2022-05-14T06:21:06.562Z"
   },
   {
    "duration": 8,
    "start_time": "2022-05-14T06:21:41.924Z"
   },
   {
    "duration": 13,
    "start_time": "2022-05-14T06:22:14.217Z"
   },
   {
    "duration": 63,
    "start_time": "2022-05-14T06:29:46.446Z"
   },
   {
    "duration": 31,
    "start_time": "2022-05-14T06:34:49.211Z"
   },
   {
    "duration": 16,
    "start_time": "2022-05-14T06:35:18.973Z"
   },
   {
    "duration": 18,
    "start_time": "2022-05-14T06:37:26.072Z"
   },
   {
    "duration": 89,
    "start_time": "2022-05-14T06:53:29.594Z"
   },
   {
    "duration": 35,
    "start_time": "2022-05-14T06:54:39.287Z"
   },
   {
    "duration": 96,
    "start_time": "2022-05-14T06:57:05.873Z"
   },
   {
    "duration": 174,
    "start_time": "2022-05-14T06:57:59.143Z"
   },
   {
    "duration": 4,
    "start_time": "2022-05-14T06:58:12.508Z"
   },
   {
    "duration": 26,
    "start_time": "2022-05-14T06:58:57.480Z"
   },
   {
    "duration": 61,
    "start_time": "2022-05-14T07:40:13.491Z"
   },
   {
    "duration": 78,
    "start_time": "2022-05-14T07:40:20.881Z"
   },
   {
    "duration": 33,
    "start_time": "2022-05-14T08:01:25.696Z"
   },
   {
    "duration": 30,
    "start_time": "2022-05-14T08:02:23.703Z"
   },
   {
    "duration": 28,
    "start_time": "2022-05-14T08:26:14.691Z"
   },
   {
    "duration": 30,
    "start_time": "2022-05-14T08:27:04.175Z"
   },
   {
    "duration": 24,
    "start_time": "2022-05-14T08:28:42.516Z"
   },
   {
    "duration": 507,
    "start_time": "2022-05-14T08:29:09.040Z"
   },
   {
    "duration": 31,
    "start_time": "2022-05-14T08:29:09.548Z"
   },
   {
    "duration": 25,
    "start_time": "2022-05-14T08:29:31.352Z"
   },
   {
    "duration": 25,
    "start_time": "2022-05-14T08:30:04.932Z"
   },
   {
    "duration": 475,
    "start_time": "2022-05-14T08:30:27.573Z"
   },
   {
    "duration": 31,
    "start_time": "2022-05-14T08:30:28.049Z"
   },
   {
    "duration": 24,
    "start_time": "2022-05-14T08:31:01.738Z"
   },
   {
    "duration": 25,
    "start_time": "2022-05-14T08:31:54.477Z"
   },
   {
    "duration": 10,
    "start_time": "2022-05-14T08:32:06.555Z"
   },
   {
    "duration": 35,
    "start_time": "2022-05-14T08:32:54.456Z"
   },
   {
    "duration": 456,
    "start_time": "2022-05-14T08:34:18.581Z"
   },
   {
    "duration": 30,
    "start_time": "2022-05-14T08:34:19.039Z"
   },
   {
    "duration": 23,
    "start_time": "2022-05-14T08:34:58.740Z"
   },
   {
    "duration": 26,
    "start_time": "2022-05-14T08:35:31.871Z"
   },
   {
    "duration": 30,
    "start_time": "2022-05-14T08:35:56.433Z"
   },
   {
    "duration": 12,
    "start_time": "2022-05-14T08:36:28.496Z"
   },
   {
    "duration": 30,
    "start_time": "2022-05-14T08:38:04.759Z"
   },
   {
    "duration": 31,
    "start_time": "2022-05-14T08:38:55.339Z"
   },
   {
    "duration": 27,
    "start_time": "2022-05-14T08:39:15.897Z"
   },
   {
    "duration": 29,
    "start_time": "2022-05-14T08:39:19.267Z"
   },
   {
    "duration": 31,
    "start_time": "2022-05-14T08:40:16.399Z"
   },
   {
    "duration": 60,
    "start_time": "2022-05-14T08:45:39.527Z"
   },
   {
    "duration": 10,
    "start_time": "2022-05-14T08:46:09.454Z"
   },
   {
    "duration": 23,
    "start_time": "2022-05-14T08:48:28.177Z"
   },
   {
    "duration": 493,
    "start_time": "2022-05-14T08:48:36.946Z"
   },
   {
    "duration": 14,
    "start_time": "2022-05-14T08:48:37.441Z"
   },
   {
    "duration": 20,
    "start_time": "2022-05-14T08:52:46.732Z"
   },
   {
    "duration": 17,
    "start_time": "2022-05-14T08:53:42.278Z"
   },
   {
    "duration": 18,
    "start_time": "2022-05-14T08:57:18.324Z"
   },
   {
    "duration": 16,
    "start_time": "2022-05-14T08:57:28.300Z"
   },
   {
    "duration": 16,
    "start_time": "2022-05-14T08:57:33.819Z"
   },
   {
    "duration": 124,
    "start_time": "2022-05-14T08:58:10.760Z"
   },
   {
    "duration": 447,
    "start_time": "2022-05-14T08:58:56.492Z"
   },
   {
    "duration": 127,
    "start_time": "2022-05-14T08:58:56.940Z"
   },
   {
    "duration": 149,
    "start_time": "2022-05-14T08:59:03.338Z"
   },
   {
    "duration": 21,
    "start_time": "2022-05-14T08:59:29.959Z"
   },
   {
    "duration": 13,
    "start_time": "2022-05-14T09:00:03.935Z"
   },
   {
    "duration": 16,
    "start_time": "2022-05-14T09:00:20.747Z"
   },
   {
    "duration": 69,
    "start_time": "2022-05-14T09:01:47.758Z"
   },
   {
    "duration": 21,
    "start_time": "2022-05-14T09:01:54.400Z"
   },
   {
    "duration": 12,
    "start_time": "2022-05-14T09:02:34.424Z"
   },
   {
    "duration": 15,
    "start_time": "2022-05-14T09:04:53.889Z"
   },
   {
    "duration": 101,
    "start_time": "2022-05-14T09:05:57.241Z"
   },
   {
    "duration": 61,
    "start_time": "2022-05-14T09:06:11.810Z"
   },
   {
    "duration": 74,
    "start_time": "2022-05-14T09:06:18.749Z"
   },
   {
    "duration": 59,
    "start_time": "2022-05-14T09:06:25.687Z"
   },
   {
    "duration": 17,
    "start_time": "2022-05-14T09:06:48.663Z"
   },
   {
    "duration": 73,
    "start_time": "2022-05-14T09:06:57.932Z"
   },
   {
    "duration": 498,
    "start_time": "2022-05-14T09:07:03.334Z"
   },
   {
    "duration": 18,
    "start_time": "2022-05-14T09:07:03.834Z"
   },
   {
    "duration": 81,
    "start_time": "2022-05-14T09:07:17.337Z"
   },
   {
    "duration": 76,
    "start_time": "2022-05-14T09:07:32.783Z"
   },
   {
    "duration": 60,
    "start_time": "2022-05-14T09:07:38.083Z"
   },
   {
    "duration": 75,
    "start_time": "2022-05-14T09:07:52.272Z"
   },
   {
    "duration": 74,
    "start_time": "2022-05-14T09:08:05.718Z"
   },
   {
    "duration": 19,
    "start_time": "2022-05-14T09:09:23.654Z"
   },
   {
    "duration": 125,
    "start_time": "2022-05-14T09:09:49.786Z"
   },
   {
    "duration": 22,
    "start_time": "2022-05-14T09:10:10.373Z"
   },
   {
    "duration": 487,
    "start_time": "2022-05-19T07:12:59.106Z"
   },
   {
    "duration": 0,
    "start_time": "2022-05-19T07:12:59.596Z"
   },
   {
    "duration": 0,
    "start_time": "2022-05-19T07:12:59.598Z"
   },
   {
    "duration": 1,
    "start_time": "2022-05-19T07:12:59.599Z"
   },
   {
    "duration": 0,
    "start_time": "2022-05-19T07:12:59.601Z"
   },
   {
    "duration": 0,
    "start_time": "2022-05-19T07:12:59.602Z"
   },
   {
    "duration": 0,
    "start_time": "2022-05-19T07:12:59.603Z"
   },
   {
    "duration": 0,
    "start_time": "2022-05-19T07:12:59.605Z"
   },
   {
    "duration": 0,
    "start_time": "2022-05-19T07:12:59.607Z"
   },
   {
    "duration": 0,
    "start_time": "2022-05-19T07:12:59.609Z"
   },
   {
    "duration": 0,
    "start_time": "2022-05-19T07:12:59.612Z"
   },
   {
    "duration": 0,
    "start_time": "2022-05-19T07:12:59.616Z"
   },
   {
    "duration": 0,
    "start_time": "2022-05-19T07:12:59.617Z"
   },
   {
    "duration": 0,
    "start_time": "2022-05-19T07:12:59.619Z"
   },
   {
    "duration": 0,
    "start_time": "2022-05-19T07:12:59.620Z"
   },
   {
    "duration": 0,
    "start_time": "2022-05-19T07:12:59.621Z"
   },
   {
    "duration": 0,
    "start_time": "2022-05-19T07:12:59.623Z"
   },
   {
    "duration": 0,
    "start_time": "2022-05-19T07:12:59.624Z"
   },
   {
    "duration": 0,
    "start_time": "2022-05-19T07:12:59.625Z"
   },
   {
    "duration": 0,
    "start_time": "2022-05-19T07:12:59.626Z"
   },
   {
    "duration": 0,
    "start_time": "2022-05-19T07:12:59.627Z"
   },
   {
    "duration": 0,
    "start_time": "2022-05-19T07:12:59.629Z"
   },
   {
    "duration": 0,
    "start_time": "2022-05-19T07:12:59.630Z"
   },
   {
    "duration": 0,
    "start_time": "2022-05-19T07:12:59.631Z"
   },
   {
    "duration": 0,
    "start_time": "2022-05-19T07:12:59.685Z"
   },
   {
    "duration": 0,
    "start_time": "2022-05-19T07:12:59.699Z"
   },
   {
    "duration": 0,
    "start_time": "2022-05-19T07:12:59.701Z"
   },
   {
    "duration": 0,
    "start_time": "2022-05-19T07:12:59.702Z"
   },
   {
    "duration": 0,
    "start_time": "2022-05-19T07:12:59.703Z"
   },
   {
    "duration": 0,
    "start_time": "2022-05-19T07:12:59.705Z"
   },
   {
    "duration": 0,
    "start_time": "2022-05-19T07:12:59.706Z"
   },
   {
    "duration": 0,
    "start_time": "2022-05-19T07:12:59.707Z"
   },
   {
    "duration": 0,
    "start_time": "2022-05-19T07:12:59.709Z"
   },
   {
    "duration": 524,
    "start_time": "2022-05-19T07:13:19.236Z"
   },
   {
    "duration": 29,
    "start_time": "2022-05-19T07:13:19.762Z"
   },
   {
    "duration": 13,
    "start_time": "2022-05-19T07:13:19.794Z"
   },
   {
    "duration": 33,
    "start_time": "2022-05-19T07:13:19.809Z"
   },
   {
    "duration": 7,
    "start_time": "2022-05-19T07:13:19.844Z"
   },
   {
    "duration": 6,
    "start_time": "2022-05-19T07:13:19.852Z"
   },
   {
    "duration": 26,
    "start_time": "2022-05-19T07:13:19.883Z"
   },
   {
    "duration": 23,
    "start_time": "2022-05-19T07:13:19.910Z"
   },
   {
    "duration": 7,
    "start_time": "2022-05-19T07:13:19.934Z"
   },
   {
    "duration": 13,
    "start_time": "2022-05-19T07:13:19.943Z"
   },
   {
    "duration": 11,
    "start_time": "2022-05-19T07:13:19.983Z"
   },
   {
    "duration": 11,
    "start_time": "2022-05-19T07:13:19.996Z"
   },
   {
    "duration": 24,
    "start_time": "2022-05-19T07:13:20.008Z"
   },
   {
    "duration": 8,
    "start_time": "2022-05-19T07:13:20.035Z"
   },
   {
    "duration": 58,
    "start_time": "2022-05-19T07:13:20.046Z"
   },
   {
    "duration": 12,
    "start_time": "2022-05-19T07:13:20.107Z"
   },
   {
    "duration": 15,
    "start_time": "2022-05-19T07:13:20.121Z"
   },
   {
    "duration": 14,
    "start_time": "2022-05-19T07:13:20.138Z"
   },
   {
    "duration": 8,
    "start_time": "2022-05-19T07:13:20.153Z"
   },
   {
    "duration": 23,
    "start_time": "2022-05-19T07:13:20.184Z"
   },
   {
    "duration": 15,
    "start_time": "2022-05-19T07:13:20.209Z"
   },
   {
    "duration": 18,
    "start_time": "2022-05-19T07:13:20.226Z"
   },
   {
    "duration": 5,
    "start_time": "2022-05-19T07:13:20.246Z"
   },
   {
    "duration": 37,
    "start_time": "2022-05-19T07:13:20.253Z"
   },
   {
    "duration": 72,
    "start_time": "2022-05-19T07:13:20.292Z"
   },
   {
    "duration": 29,
    "start_time": "2022-05-19T07:13:20.367Z"
   },
   {
    "duration": 15,
    "start_time": "2022-05-19T07:13:20.398Z"
   },
   {
    "duration": 15,
    "start_time": "2022-05-19T07:13:20.415Z"
   },
   {
    "duration": 11,
    "start_time": "2022-05-19T07:13:20.431Z"
   },
   {
    "duration": 25,
    "start_time": "2022-05-19T07:13:20.444Z"
   },
   {
    "duration": 40,
    "start_time": "2022-05-19T07:13:20.470Z"
   },
   {
    "duration": 21,
    "start_time": "2022-05-19T07:13:20.512Z"
   },
   {
    "duration": 20,
    "start_time": "2022-05-19T07:13:20.534Z"
   },
   {
    "duration": 12,
    "start_time": "2022-05-19T07:18:27.849Z"
   },
   {
    "duration": 544,
    "start_time": "2022-05-19T07:21:54.210Z"
   },
   {
    "duration": 0,
    "start_time": "2022-05-19T07:21:54.757Z"
   },
   {
    "duration": 0,
    "start_time": "2022-05-19T07:21:54.759Z"
   },
   {
    "duration": 0,
    "start_time": "2022-05-19T07:21:54.760Z"
   },
   {
    "duration": 0,
    "start_time": "2022-05-19T07:21:54.762Z"
   },
   {
    "duration": 0,
    "start_time": "2022-05-19T07:21:54.764Z"
   },
   {
    "duration": 0,
    "start_time": "2022-05-19T07:21:54.786Z"
   },
   {
    "duration": 0,
    "start_time": "2022-05-19T07:21:54.788Z"
   },
   {
    "duration": 0,
    "start_time": "2022-05-19T07:21:54.789Z"
   },
   {
    "duration": 0,
    "start_time": "2022-05-19T07:21:54.791Z"
   },
   {
    "duration": 0,
    "start_time": "2022-05-19T07:21:54.792Z"
   },
   {
    "duration": 0,
    "start_time": "2022-05-19T07:21:54.793Z"
   },
   {
    "duration": 0,
    "start_time": "2022-05-19T07:21:54.794Z"
   },
   {
    "duration": 0,
    "start_time": "2022-05-19T07:21:54.796Z"
   },
   {
    "duration": 0,
    "start_time": "2022-05-19T07:21:54.797Z"
   },
   {
    "duration": 0,
    "start_time": "2022-05-19T07:21:54.799Z"
   },
   {
    "duration": 0,
    "start_time": "2022-05-19T07:21:54.801Z"
   },
   {
    "duration": 0,
    "start_time": "2022-05-19T07:21:54.803Z"
   },
   {
    "duration": 0,
    "start_time": "2022-05-19T07:21:54.804Z"
   },
   {
    "duration": 0,
    "start_time": "2022-05-19T07:21:54.806Z"
   },
   {
    "duration": 0,
    "start_time": "2022-05-19T07:21:54.808Z"
   },
   {
    "duration": 0,
    "start_time": "2022-05-19T07:21:54.809Z"
   },
   {
    "duration": 0,
    "start_time": "2022-05-19T07:21:54.810Z"
   },
   {
    "duration": 0,
    "start_time": "2022-05-19T07:21:54.811Z"
   },
   {
    "duration": 0,
    "start_time": "2022-05-19T07:21:54.811Z"
   },
   {
    "duration": 0,
    "start_time": "2022-05-19T07:21:54.813Z"
   },
   {
    "duration": 0,
    "start_time": "2022-05-19T07:21:54.815Z"
   },
   {
    "duration": 0,
    "start_time": "2022-05-19T07:21:54.817Z"
   },
   {
    "duration": 0,
    "start_time": "2022-05-19T07:21:54.818Z"
   },
   {
    "duration": 0,
    "start_time": "2022-05-19T07:21:54.819Z"
   },
   {
    "duration": 0,
    "start_time": "2022-05-19T07:21:54.820Z"
   },
   {
    "duration": 0,
    "start_time": "2022-05-19T07:21:54.821Z"
   },
   {
    "duration": 0,
    "start_time": "2022-05-19T07:21:54.823Z"
   },
   {
    "duration": 0,
    "start_time": "2022-05-19T07:21:54.824Z"
   },
   {
    "duration": 563,
    "start_time": "2022-05-19T07:22:42.881Z"
   },
   {
    "duration": 0,
    "start_time": "2022-05-19T07:22:43.446Z"
   },
   {
    "duration": 0,
    "start_time": "2022-05-19T07:22:43.447Z"
   },
   {
    "duration": 0,
    "start_time": "2022-05-19T07:22:43.448Z"
   },
   {
    "duration": 0,
    "start_time": "2022-05-19T07:22:43.449Z"
   },
   {
    "duration": 0,
    "start_time": "2022-05-19T07:22:43.450Z"
   },
   {
    "duration": 0,
    "start_time": "2022-05-19T07:22:43.451Z"
   },
   {
    "duration": 0,
    "start_time": "2022-05-19T07:22:43.453Z"
   },
   {
    "duration": 0,
    "start_time": "2022-05-19T07:22:43.453Z"
   },
   {
    "duration": 0,
    "start_time": "2022-05-19T07:22:43.454Z"
   },
   {
    "duration": 0,
    "start_time": "2022-05-19T07:22:43.455Z"
   },
   {
    "duration": 0,
    "start_time": "2022-05-19T07:22:43.456Z"
   },
   {
    "duration": 0,
    "start_time": "2022-05-19T07:22:43.457Z"
   },
   {
    "duration": 0,
    "start_time": "2022-05-19T07:22:43.458Z"
   },
   {
    "duration": 0,
    "start_time": "2022-05-19T07:22:43.459Z"
   },
   {
    "duration": 0,
    "start_time": "2022-05-19T07:22:43.483Z"
   },
   {
    "duration": 0,
    "start_time": "2022-05-19T07:22:43.485Z"
   },
   {
    "duration": 0,
    "start_time": "2022-05-19T07:22:43.486Z"
   },
   {
    "duration": 0,
    "start_time": "2022-05-19T07:22:43.489Z"
   },
   {
    "duration": 0,
    "start_time": "2022-05-19T07:22:43.491Z"
   },
   {
    "duration": 0,
    "start_time": "2022-05-19T07:22:43.492Z"
   },
   {
    "duration": 0,
    "start_time": "2022-05-19T07:22:43.493Z"
   },
   {
    "duration": 0,
    "start_time": "2022-05-19T07:22:43.495Z"
   },
   {
    "duration": 0,
    "start_time": "2022-05-19T07:22:43.498Z"
   },
   {
    "duration": 0,
    "start_time": "2022-05-19T07:22:43.500Z"
   },
   {
    "duration": 0,
    "start_time": "2022-05-19T07:22:43.501Z"
   },
   {
    "duration": 0,
    "start_time": "2022-05-19T07:22:43.501Z"
   },
   {
    "duration": 0,
    "start_time": "2022-05-19T07:22:43.502Z"
   },
   {
    "duration": 0,
    "start_time": "2022-05-19T07:22:43.504Z"
   },
   {
    "duration": 0,
    "start_time": "2022-05-19T07:22:43.505Z"
   },
   {
    "duration": 0,
    "start_time": "2022-05-19T07:22:43.507Z"
   },
   {
    "duration": 0,
    "start_time": "2022-05-19T07:22:43.508Z"
   },
   {
    "duration": 0,
    "start_time": "2022-05-19T07:22:43.509Z"
   },
   {
    "duration": 0,
    "start_time": "2022-05-19T07:22:43.510Z"
   },
   {
    "duration": 603,
    "start_time": "2022-05-23T07:36:00.200Z"
   },
   {
    "duration": 29,
    "start_time": "2022-05-23T07:36:00.805Z"
   },
   {
    "duration": 41,
    "start_time": "2022-05-23T07:36:00.835Z"
   },
   {
    "duration": 61,
    "start_time": "2022-05-23T07:36:00.879Z"
   },
   {
    "duration": 8,
    "start_time": "2022-05-23T07:36:00.942Z"
   },
   {
    "duration": 33,
    "start_time": "2022-05-23T07:36:00.951Z"
   },
   {
    "duration": 36,
    "start_time": "2022-05-23T07:36:00.985Z"
   },
   {
    "duration": 60,
    "start_time": "2022-05-23T07:36:01.023Z"
   },
   {
    "duration": 7,
    "start_time": "2022-05-23T07:36:01.085Z"
   },
   {
    "duration": 33,
    "start_time": "2022-05-23T07:36:01.095Z"
   },
   {
    "duration": 20,
    "start_time": "2022-05-23T07:36:01.129Z"
   },
   {
    "duration": 28,
    "start_time": "2022-05-23T07:36:01.151Z"
   },
   {
    "duration": 35,
    "start_time": "2022-05-23T07:36:01.180Z"
   },
   {
    "duration": 8,
    "start_time": "2022-05-23T07:36:01.217Z"
   },
   {
    "duration": 30,
    "start_time": "2022-05-23T07:36:01.226Z"
   },
   {
    "duration": 36,
    "start_time": "2022-05-23T07:36:01.259Z"
   },
   {
    "duration": 12,
    "start_time": "2022-05-23T07:36:01.297Z"
   },
   {
    "duration": 18,
    "start_time": "2022-05-23T07:36:01.311Z"
   },
   {
    "duration": 37,
    "start_time": "2022-05-23T07:36:01.331Z"
   },
   {
    "duration": 23,
    "start_time": "2022-05-23T07:36:01.375Z"
   },
   {
    "duration": 11,
    "start_time": "2022-05-23T07:36:01.400Z"
   },
   {
    "duration": 36,
    "start_time": "2022-05-23T07:36:01.413Z"
   },
   {
    "duration": 26,
    "start_time": "2022-05-23T07:36:01.451Z"
   },
   {
    "duration": 10,
    "start_time": "2022-05-23T07:36:01.481Z"
   },
   {
    "duration": 23,
    "start_time": "2022-05-23T07:36:01.493Z"
   },
   {
    "duration": 66,
    "start_time": "2022-05-23T07:36:01.518Z"
   },
   {
    "duration": 15,
    "start_time": "2022-05-23T07:36:01.586Z"
   },
   {
    "duration": 14,
    "start_time": "2022-05-23T07:36:01.605Z"
   },
   {
    "duration": 29,
    "start_time": "2022-05-23T07:36:01.620Z"
   },
   {
    "duration": 33,
    "start_time": "2022-05-23T07:36:01.651Z"
   },
   {
    "duration": 27,
    "start_time": "2022-05-23T07:36:01.686Z"
   },
   {
    "duration": 41,
    "start_time": "2022-05-23T07:36:01.715Z"
   },
   {
    "duration": 21,
    "start_time": "2022-05-23T07:36:01.758Z"
   },
   {
    "duration": 22,
    "start_time": "2022-05-23T07:36:01.781Z"
   },
   {
    "duration": 20,
    "start_time": "2022-05-23T07:36:01.805Z"
   },
   {
    "duration": 500,
    "start_time": "2022-05-23T10:20:23.757Z"
   },
   {
    "duration": 18,
    "start_time": "2022-05-23T10:20:24.259Z"
   },
   {
    "duration": 28,
    "start_time": "2022-05-23T10:20:24.279Z"
   },
   {
    "duration": 54,
    "start_time": "2022-05-23T10:20:24.310Z"
   },
   {
    "duration": 10,
    "start_time": "2022-05-23T10:20:24.366Z"
   },
   {
    "duration": 25,
    "start_time": "2022-05-23T10:20:24.378Z"
   },
   {
    "duration": 16,
    "start_time": "2022-05-23T10:20:24.405Z"
   },
   {
    "duration": 27,
    "start_time": "2022-05-23T10:20:24.423Z"
   },
   {
    "duration": 5,
    "start_time": "2022-05-23T10:20:24.452Z"
   },
   {
    "duration": 18,
    "start_time": "2022-05-23T10:20:24.460Z"
   },
   {
    "duration": 27,
    "start_time": "2022-05-23T10:20:24.479Z"
   },
   {
    "duration": 14,
    "start_time": "2022-05-23T10:20:24.508Z"
   },
   {
    "duration": 32,
    "start_time": "2022-05-23T10:20:24.524Z"
   },
   {
    "duration": 11,
    "start_time": "2022-05-23T10:20:24.558Z"
   },
   {
    "duration": 31,
    "start_time": "2022-05-23T10:20:24.571Z"
   },
   {
    "duration": 14,
    "start_time": "2022-05-23T10:20:24.604Z"
   },
   {
    "duration": 36,
    "start_time": "2022-05-23T10:20:24.620Z"
   },
   {
    "duration": 12,
    "start_time": "2022-05-23T10:20:24.658Z"
   },
   {
    "duration": 10,
    "start_time": "2022-05-23T10:20:24.672Z"
   },
   {
    "duration": 28,
    "start_time": "2022-05-23T10:20:24.684Z"
   },
   {
    "duration": 8,
    "start_time": "2022-05-23T10:20:24.713Z"
   },
   {
    "duration": 20,
    "start_time": "2022-05-23T10:20:24.723Z"
   },
   {
    "duration": 20,
    "start_time": "2022-05-23T10:20:24.745Z"
   },
   {
    "duration": 7,
    "start_time": "2022-05-23T10:20:24.767Z"
   },
   {
    "duration": 10,
    "start_time": "2022-05-23T10:20:24.803Z"
   },
   {
    "duration": 57,
    "start_time": "2022-05-23T10:20:24.815Z"
   },
   {
    "duration": 29,
    "start_time": "2022-05-23T10:20:24.874Z"
   },
   {
    "duration": 13,
    "start_time": "2022-05-23T10:20:24.907Z"
   },
   {
    "duration": 13,
    "start_time": "2022-05-23T10:20:24.921Z"
   },
   {
    "duration": 19,
    "start_time": "2022-05-23T10:20:24.937Z"
   },
   {
    "duration": 24,
    "start_time": "2022-05-23T10:20:24.958Z"
   },
   {
    "duration": 40,
    "start_time": "2022-05-23T10:20:24.984Z"
   },
   {
    "duration": 27,
    "start_time": "2022-05-23T10:20:25.025Z"
   },
   {
    "duration": 18,
    "start_time": "2022-05-23T10:20:25.054Z"
   },
   {
    "duration": 32,
    "start_time": "2022-05-23T10:20:25.074Z"
   },
   {
    "duration": 551,
    "start_time": "2022-05-23T10:22:28.422Z"
   },
   {
    "duration": 18,
    "start_time": "2022-05-23T10:22:28.976Z"
   },
   {
    "duration": 11,
    "start_time": "2022-05-23T10:22:29.002Z"
   },
   {
    "duration": 38,
    "start_time": "2022-05-23T10:22:29.016Z"
   },
   {
    "duration": 8,
    "start_time": "2022-05-23T10:22:29.056Z"
   },
   {
    "duration": 11,
    "start_time": "2022-05-23T10:22:29.065Z"
   },
   {
    "duration": 16,
    "start_time": "2022-05-23T10:22:29.103Z"
   },
   {
    "duration": 24,
    "start_time": "2022-05-23T10:22:29.122Z"
   },
   {
    "duration": 8,
    "start_time": "2022-05-23T10:22:29.147Z"
   },
   {
    "duration": 8,
    "start_time": "2022-05-23T10:22:29.158Z"
   },
   {
    "duration": 8,
    "start_time": "2022-05-23T10:22:29.201Z"
   },
   {
    "duration": 10,
    "start_time": "2022-05-23T10:22:29.211Z"
   },
   {
    "duration": 24,
    "start_time": "2022-05-23T10:22:29.222Z"
   },
   {
    "duration": 8,
    "start_time": "2022-05-23T10:22:29.249Z"
   },
   {
    "duration": 55,
    "start_time": "2022-05-23T10:22:29.259Z"
   },
   {
    "duration": 9,
    "start_time": "2022-05-23T10:22:29.316Z"
   },
   {
    "duration": 13,
    "start_time": "2022-05-23T10:22:29.327Z"
   },
   {
    "duration": 12,
    "start_time": "2022-05-23T10:22:29.342Z"
   },
   {
    "duration": 8,
    "start_time": "2022-05-23T10:22:29.356Z"
   },
   {
    "duration": 16,
    "start_time": "2022-05-23T10:22:29.403Z"
   },
   {
    "duration": 10,
    "start_time": "2022-05-23T10:22:29.421Z"
   },
   {
    "duration": 22,
    "start_time": "2022-05-23T10:22:29.433Z"
   },
   {
    "duration": 19,
    "start_time": "2022-05-23T10:22:29.457Z"
   },
   {
    "duration": 7,
    "start_time": "2022-05-23T10:22:29.502Z"
   },
   {
    "duration": 13,
    "start_time": "2022-05-23T10:22:29.511Z"
   },
   {
    "duration": 48,
    "start_time": "2022-05-23T10:22:29.526Z"
   },
   {
    "duration": 31,
    "start_time": "2022-05-23T10:22:29.576Z"
   },
   {
    "duration": 13,
    "start_time": "2022-05-23T10:22:29.610Z"
   },
   {
    "duration": 13,
    "start_time": "2022-05-23T10:22:29.625Z"
   },
   {
    "duration": 7,
    "start_time": "2022-05-23T10:22:29.640Z"
   },
   {
    "duration": 16,
    "start_time": "2022-05-23T10:22:29.649Z"
   },
   {
    "duration": 57,
    "start_time": "2022-05-23T10:22:29.667Z"
   },
   {
    "duration": 21,
    "start_time": "2022-05-23T10:22:29.726Z"
   },
   {
    "duration": 19,
    "start_time": "2022-05-23T10:22:29.750Z"
   },
   {
    "duration": 49,
    "start_time": "2022-05-23T10:22:29.771Z"
   },
   {
    "duration": 91,
    "start_time": "2022-05-26T13:07:08.842Z"
   },
   {
    "duration": 6,
    "start_time": "2022-05-26T13:07:10.772Z"
   },
   {
    "duration": 46,
    "start_time": "2022-06-15T10:34:55.606Z"
   }
  ],
  "kernelspec": {
   "display_name": "Python 3 (ipykernel)",
   "language": "python",
   "name": "python3"
  },
  "language_info": {
   "codemirror_mode": {
    "name": "ipython",
    "version": 3
   },
   "file_extension": ".py",
   "mimetype": "text/x-python",
   "name": "python",
   "nbconvert_exporter": "python",
   "pygments_lexer": "ipython3",
   "version": "3.9.7"
  },
  "toc": {
   "base_numbering": 1,
   "nav_menu": {},
   "number_sections": true,
   "sideBar": true,
   "skip_h1_title": true,
   "title_cell": "Table of Contents",
   "title_sidebar": "Contents",
   "toc_cell": false,
   "toc_position": {},
   "toc_section_display": true,
   "toc_window_display": false
  }
 },
 "nbformat": 4,
 "nbformat_minor": 5
}
